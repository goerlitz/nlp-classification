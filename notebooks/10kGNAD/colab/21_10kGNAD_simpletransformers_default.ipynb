{
  "nbformat": 4,
  "nbformat_minor": 0,
  "metadata": {
    "colab": {
      "name": "21_10kGNAD_simpletransformers_default.ipynb",
      "provenance": [],
      "collapsed_sections": [],
      "authorship_tag": "ABX9TyNjaDI9FMknOJ/SAm1fiSyH",
      "include_colab_link": true
    },
    "kernelspec": {
      "name": "python3",
      "display_name": "Python 3"
    },
    "language_info": {
      "name": "python"
    },
    "accelerator": "GPU"
  },
  "cells": [
    {
      "cell_type": "markdown",
      "metadata": {
        "id": "view-in-github",
        "colab_type": "text"
      },
      "source": [
        "<a href=\"https://colab.research.google.com/github/goerlitz/nlp-classification/blob/main/notebooks/10kGNAD/colab/21_10kGNAD_simpletransformers_default.ipynb\" target=\"_parent\"><img src=\"https://colab.research.google.com/assets/colab-badge.svg\" alt=\"Open In Colab\"/></a>"
      ]
    },
    {
      "cell_type": "markdown",
      "metadata": {
        "id": "BfF1tsgcZm8o"
      },
      "source": [
        "# Classifying German News Articles with SimpleTransformers\n",
        "\n",
        "## Objectives\n",
        "\n",
        "1. Train a text classifier with transfer learning based on a pretrained German transformer model.\n",
        "2. Keep the implementation simple (just a few lines of code) by using the SimpleTransformers library. It also has sensible default model settings.\n",
        "\n",
        "\n",
        "## Approach\n",
        "\n",
        "Use following pretrained models on the 10k German News Articles dataset to classify 9 news topics.\n",
        "\n",
        "* `distilbert-base-german-cased`\n",
        "* `deepset/gbert-base`\n",
        "* `deepset/gelectra-large`\n",
        "\n",
        "## Learnings\n",
        "\n",
        "..."
      ]
    },
    {
      "cell_type": "markdown",
      "metadata": {
        "id": "H4GaTz-bO6ik"
      },
      "source": [
        "## Prerequisites"
      ]
    },
    {
      "cell_type": "code",
      "metadata": {
        "id": "q2bN0o_9nq-Y"
      },
      "source": [
        "model_type = \"distilbert\"\n",
        "model_name = \"distilbert-base-german-cased\"\n",
        "\n",
        "# model_type = \"bert\"\n",
        "# model_name = \"deepset/gbert-base\"\n",
        "\n",
        "# model_type = \"electra\"\n",
        "# model_name = \"deepset/gelectra-base\"\n",
        "\n",
        "project_name = \"10kgnad_default__\" + model_name.replace(\"/\", \"_\")"
      ],
      "execution_count": 1,
      "outputs": []
    },
    {
      "cell_type": "code",
      "metadata": {
        "colab": {
          "base_uri": "https://localhost:8080/"
        },
        "id": "l0PiC_x9NjC3",
        "outputId": "e0f3ad92-341e-4713-fe30-21b1b4bb7e6e"
      },
      "source": [
        "gpu_info = !nvidia-smi\n",
        "gpu_info = '\\n'.join(gpu_info)\n",
        "if gpu_info.find('failed') >= 0:\n",
        "  print('Select the Runtime > \"Change runtime type\" menu to enable a GPU accelerator, ')\n",
        "  print('and then re-execute this cell.')\n",
        "else:\n",
        "  print(gpu_info)"
      ],
      "execution_count": 2,
      "outputs": [
        {
          "output_type": "stream",
          "name": "stdout",
          "text": [
            "Sun Nov 14 21:11:52 2021       \n",
            "+-----------------------------------------------------------------------------+\n",
            "| NVIDIA-SMI 495.44       Driver Version: 460.32.03    CUDA Version: 11.2     |\n",
            "|-------------------------------+----------------------+----------------------+\n",
            "| GPU  Name        Persistence-M| Bus-Id        Disp.A | Volatile Uncorr. ECC |\n",
            "| Fan  Temp  Perf  Pwr:Usage/Cap|         Memory-Usage | GPU-Util  Compute M. |\n",
            "|                               |                      |               MIG M. |\n",
            "|===============================+======================+======================|\n",
            "|   0  Tesla P100-PCIE...  Off  | 00000000:00:04.0 Off |                    0 |\n",
            "| N/A   51C    P0    30W / 250W |      0MiB / 16280MiB |      0%      Default |\n",
            "|                               |                      |                  N/A |\n",
            "+-------------------------------+----------------------+----------------------+\n",
            "                                                                               \n",
            "+-----------------------------------------------------------------------------+\n",
            "| Processes:                                                                  |\n",
            "|  GPU   GI   CI        PID   Type   Process name                  GPU Memory |\n",
            "|        ID   ID                                                   Usage      |\n",
            "|=============================================================================|\n",
            "|  No running processes found                                                 |\n",
            "+-----------------------------------------------------------------------------+\n"
          ]
        }
      ]
    },
    {
      "cell_type": "code",
      "metadata": {
        "colab": {
          "base_uri": "https://localhost:8080/"
        },
        "id": "UFuf6ZDEZ2Xo",
        "outputId": "578f44c8-2213-4936-feac-60cfd7aee9be"
      },
      "source": [
        "# install transformers\n",
        "!pip install -q -U tqdm transformers simpletransformers >/dev/null\n",
        "\n",
        "# check installed version\n",
        "!pip freeze | grep transformers\n",
        "!pip freeze | grep torch\n",
        "# simpletransformers==0.61.6 / 0.63.3\n",
        "# transformers==4.6.1 / 4.12.3\n",
        "# torch==1.8.1+cu101 / 1.10.0"
      ],
      "execution_count": 4,
      "outputs": [
        {
          "output_type": "stream",
          "name": "stdout",
          "text": [
            "simpletransformers==0.63.3\n",
            "transformers==4.12.3\n",
            "torch @ https://download.pytorch.org/whl/cu111/torch-1.10.0%2Bcu111-cp37-cp37m-linux_x86_64.whl\n",
            "torchsummary==1.5.1\n",
            "torchtext==0.11.0\n",
            "torchvision @ https://download.pytorch.org/whl/cu111/torchvision-0.11.1%2Bcu111-cp37-cp37m-linux_x86_64.whl\n"
          ]
        }
      ]
    },
    {
      "cell_type": "code",
      "metadata": {
        "id": "Wa36sieXlzjQ"
      },
      "source": [
        "import numpy as np\n",
        "import pandas as pd\n",
        "from pathlib import Path\n",
        "import os\n",
        "\n",
        "from simpletransformers.classification import ClassificationModel\n",
        "from transformers import AutoTokenizer\n",
        "from transformers import logging\n",
        "import wandb\n",
        "\n",
        "# hide progress bar when downloading tokenizers - a workaround!\n",
        "logging.get_verbosity = lambda : logging.NOTSET\n",
        "\n",
        "# disable transformer warnings like \"Some weights of the model checkpoint\"\n",
        "logging.set_verbosity_error()\n",
        "\n",
        "# disable logging of wandb\n",
        "os.environ[\"WANDB_SILENT\"] = \"true\""
      ],
      "execution_count": 5,
      "outputs": []
    },
    {
      "cell_type": "markdown",
      "metadata": {
        "id": "AsTaSRJekM0L"
      },
      "source": [
        "## Download Data\n",
        "\n",
        "Using the [10k German News Articles Dataset](https://tblock.github.io/10kGNAD/)"
      ]
    },
    {
      "cell_type": "code",
      "metadata": {
        "id": "pf-3EEDYXlhh",
        "colab": {
          "base_uri": "https://localhost:8080/"
        },
        "outputId": "1164c356-b5c9-414d-9258-8735b9af4965"
      },
      "source": [
        "%env DIR=data\n",
        "\n",
        "!mkdir -p $DIR\n",
        "!wget -nc https://github.com/tblock/10kGNAD/blob/master/train.csv?raw=true -nv -O $DIR/train.csv\n",
        "!wget -nc https://github.com/tblock/10kGNAD/blob/master/test.csv?raw=true -nv -O $DIR/test.csv\n",
        "!ls -lAh $DIR | cut -d \" \" -f 5-"
      ],
      "execution_count": 6,
      "outputs": [
        {
          "output_type": "stream",
          "name": "stdout",
          "text": [
            "env: DIR=data\n",
            "2021-11-14 21:15:01 URL:https://raw.githubusercontent.com/tblock/10kGNAD/master/train.csv [24405789/24405789] -> \"data/train.csv\" [1]\n",
            "2021-11-14 21:15:03 URL:https://raw.githubusercontent.com/tblock/10kGNAD/master/test.csv [2755020/2755020] -> \"data/test.csv\" [1]\n",
            "\n",
            "2.7M Nov 14 21:15 test.csv\n",
            " 24M Nov 14 21:15 train.csv\n"
          ]
        }
      ]
    },
    {
      "cell_type": "markdown",
      "metadata": {
        "id": "XuLSIj9NkXAG"
      },
      "source": [
        "## Import Data"
      ]
    },
    {
      "cell_type": "code",
      "metadata": {
        "id": "fL2RFkuaaQug"
      },
      "source": [
        "data_dir = Path(\"data/\")\n",
        "\n",
        "train_file = data_dir / 'train.csv'\n",
        "test_file = data_dir / 'test.csv'\n",
        "\n",
        "def read_csv_10kGNAD(filepath: Path, columns=[\"labels\", \"text\"]) -> pd.DataFrame:\n",
        "    \"\"\"Load 10kGNAD csv file, handling its specific file format.\"\"\"\n",
        "    f = pd.read_csv(filepath, sep=\";\", quotechar=\"'\", names=columns)\n",
        "    return f"
      ],
      "execution_count": 7,
      "outputs": []
    },
    {
      "cell_type": "code",
      "metadata": {
        "id": "pFMweinxRnAT",
        "colab": {
          "base_uri": "https://localhost:8080/",
          "height": 224
        },
        "outputId": "abfd89d2-ceed-4d8f-d8c2-fa65a1858171"
      },
      "source": [
        "train_df = read_csv_10kGNAD(data_dir / 'train.csv')\n",
        "print(train_df.shape[0], 'articles')\n",
        "display(train_df.head())"
      ],
      "execution_count": 37,
      "outputs": [
        {
          "output_type": "stream",
          "name": "stdout",
          "text": [
            "9245 articles\n"
          ]
        },
        {
          "output_type": "display_data",
          "data": {
            "text/html": [
              "<div>\n",
              "<style scoped>\n",
              "    .dataframe tbody tr th:only-of-type {\n",
              "        vertical-align: middle;\n",
              "    }\n",
              "\n",
              "    .dataframe tbody tr th {\n",
              "        vertical-align: top;\n",
              "    }\n",
              "\n",
              "    .dataframe thead th {\n",
              "        text-align: right;\n",
              "    }\n",
              "</style>\n",
              "<table border=\"1\" class=\"dataframe\">\n",
              "  <thead>\n",
              "    <tr style=\"text-align: right;\">\n",
              "      <th></th>\n",
              "      <th>labels</th>\n",
              "      <th>text</th>\n",
              "    </tr>\n",
              "  </thead>\n",
              "  <tbody>\n",
              "    <tr>\n",
              "      <th>0</th>\n",
              "      <td>Sport</td>\n",
              "      <td>21-Jähriger fällt wohl bis Saisonende aus. Wie...</td>\n",
              "    </tr>\n",
              "    <tr>\n",
              "      <th>1</th>\n",
              "      <td>Kultur</td>\n",
              "      <td>Erfundene Bilder zu Filmen, die als verloren g...</td>\n",
              "    </tr>\n",
              "    <tr>\n",
              "      <th>2</th>\n",
              "      <td>Web</td>\n",
              "      <td>Der frischgekürte CEO Sundar Pichai setzt auf ...</td>\n",
              "    </tr>\n",
              "    <tr>\n",
              "      <th>3</th>\n",
              "      <td>Wirtschaft</td>\n",
              "      <td>Putin: \"Einigung, dass wir Menge auf Niveau vo...</td>\n",
              "    </tr>\n",
              "    <tr>\n",
              "      <th>4</th>\n",
              "      <td>Inland</td>\n",
              "      <td>Estland sieht den künftigen österreichischen P...</td>\n",
              "    </tr>\n",
              "  </tbody>\n",
              "</table>\n",
              "</div>"
            ],
            "text/plain": [
              "       labels                                               text\n",
              "0       Sport  21-Jähriger fällt wohl bis Saisonende aus. Wie...\n",
              "1      Kultur  Erfundene Bilder zu Filmen, die als verloren g...\n",
              "2         Web  Der frischgekürte CEO Sundar Pichai setzt auf ...\n",
              "3  Wirtschaft  Putin: \"Einigung, dass wir Menge auf Niveau vo...\n",
              "4      Inland  Estland sieht den künftigen österreichischen P..."
            ]
          },
          "metadata": {}
        }
      ]
    },
    {
      "cell_type": "code",
      "metadata": {
        "id": "hhCGAswmBG5u",
        "colab": {
          "base_uri": "https://localhost:8080/",
          "height": 224
        },
        "outputId": "a929502d-b429-4ffe-ef97-981e4d20cfd5"
      },
      "source": [
        "test_df = read_csv_10kGNAD(data_dir / 'test.csv')\n",
        "print(test_df.shape[0], 'articles')\n",
        "display(test_df.head())"
      ],
      "execution_count": 38,
      "outputs": [
        {
          "output_type": "stream",
          "name": "stdout",
          "text": [
            "1028 articles\n"
          ]
        },
        {
          "output_type": "display_data",
          "data": {
            "text/html": [
              "<div>\n",
              "<style scoped>\n",
              "    .dataframe tbody tr th:only-of-type {\n",
              "        vertical-align: middle;\n",
              "    }\n",
              "\n",
              "    .dataframe tbody tr th {\n",
              "        vertical-align: top;\n",
              "    }\n",
              "\n",
              "    .dataframe thead th {\n",
              "        text-align: right;\n",
              "    }\n",
              "</style>\n",
              "<table border=\"1\" class=\"dataframe\">\n",
              "  <thead>\n",
              "    <tr style=\"text-align: right;\">\n",
              "      <th></th>\n",
              "      <th>labels</th>\n",
              "      <th>text</th>\n",
              "    </tr>\n",
              "  </thead>\n",
              "  <tbody>\n",
              "    <tr>\n",
              "      <th>0</th>\n",
              "      <td>Wirtschaft</td>\n",
              "      <td>Die Gewerkschaft GPA-djp lanciert den \"All-in-...</td>\n",
              "    </tr>\n",
              "    <tr>\n",
              "      <th>1</th>\n",
              "      <td>Sport</td>\n",
              "      <td>Franzosen verteidigen 2:1-Führung – Kritische ...</td>\n",
              "    </tr>\n",
              "    <tr>\n",
              "      <th>2</th>\n",
              "      <td>Web</td>\n",
              "      <td>Neues Video von Designern macht im Netz die Ru...</td>\n",
              "    </tr>\n",
              "    <tr>\n",
              "      <th>3</th>\n",
              "      <td>Sport</td>\n",
              "      <td>23-jähriger Brasilianer muss vier Spiele pausi...</td>\n",
              "    </tr>\n",
              "    <tr>\n",
              "      <th>4</th>\n",
              "      <td>International</td>\n",
              "      <td>Aufständische verwendeten Chemikalie bei Gefec...</td>\n",
              "    </tr>\n",
              "  </tbody>\n",
              "</table>\n",
              "</div>"
            ],
            "text/plain": [
              "          labels                                               text\n",
              "0     Wirtschaft  Die Gewerkschaft GPA-djp lanciert den \"All-in-...\n",
              "1          Sport  Franzosen verteidigen 2:1-Führung – Kritische ...\n",
              "2            Web  Neues Video von Designern macht im Netz die Ru...\n",
              "3          Sport  23-jähriger Brasilianer muss vier Spiele pausi...\n",
              "4  International  Aufständische verwendeten Chemikalie bei Gefec..."
            ]
          },
          "metadata": {}
        }
      ]
    },
    {
      "cell_type": "markdown",
      "metadata": {
        "id": "oFgSEkulaNq3"
      },
      "source": [
        "## Prepare Data for Model Training\n",
        "\n",
        "There are a few requiremenf for feeding training data into SimpleTransformers:\n",
        "\n",
        "* columns should be labeled `labels` and `text` (already done when reading the data)\n",
        "* labels must be encoded as int values (starting at `0`!)\n",
        "\n",
        "Additionally, we can handle imbalanced datasets by\n",
        "\n",
        "* computing class weights for training"
      ]
    },
    {
      "cell_type": "markdown",
      "metadata": {
        "id": "asYfSgYXCxQt"
      },
      "source": [
        "### Label Encoding"
      ]
    },
    {
      "cell_type": "code",
      "metadata": {
        "id": "LMPJFyt8C-Z5",
        "colab": {
          "base_uri": "https://localhost:8080/",
          "height": 206
        },
        "outputId": "10e9b456-7410-4f91-933d-ed3bb5d53e73"
      },
      "source": [
        "from sklearn.preprocessing import LabelEncoder\n",
        "\n",
        "def encode_labels(train: pd.DataFrame, test: pd.DataFrame):\n",
        "    le = LabelEncoder()\n",
        "\n",
        "    train_labels = le.fit_transform(train.labels)\n",
        "    test_labels = le.transform(test.labels)\n",
        "\n",
        "    return train.assign(labels=train_labels), test.assign(labels=test_labels), le\n",
        "\n",
        "# caution overwriting data\n",
        "train_df, test_df, le = encode_labels(train_df, test_df)\n",
        "display(train_df.head())"
      ],
      "execution_count": 39,
      "outputs": [
        {
          "output_type": "display_data",
          "data": {
            "text/html": [
              "<div>\n",
              "<style scoped>\n",
              "    .dataframe tbody tr th:only-of-type {\n",
              "        vertical-align: middle;\n",
              "    }\n",
              "\n",
              "    .dataframe tbody tr th {\n",
              "        vertical-align: top;\n",
              "    }\n",
              "\n",
              "    .dataframe thead th {\n",
              "        text-align: right;\n",
              "    }\n",
              "</style>\n",
              "<table border=\"1\" class=\"dataframe\">\n",
              "  <thead>\n",
              "    <tr style=\"text-align: right;\">\n",
              "      <th></th>\n",
              "      <th>labels</th>\n",
              "      <th>text</th>\n",
              "    </tr>\n",
              "  </thead>\n",
              "  <tbody>\n",
              "    <tr>\n",
              "      <th>0</th>\n",
              "      <td>5</td>\n",
              "      <td>21-Jähriger fällt wohl bis Saisonende aus. Wie...</td>\n",
              "    </tr>\n",
              "    <tr>\n",
              "      <th>1</th>\n",
              "      <td>3</td>\n",
              "      <td>Erfundene Bilder zu Filmen, die als verloren g...</td>\n",
              "    </tr>\n",
              "    <tr>\n",
              "      <th>2</th>\n",
              "      <td>6</td>\n",
              "      <td>Der frischgekürte CEO Sundar Pichai setzt auf ...</td>\n",
              "    </tr>\n",
              "    <tr>\n",
              "      <th>3</th>\n",
              "      <td>7</td>\n",
              "      <td>Putin: \"Einigung, dass wir Menge auf Niveau vo...</td>\n",
              "    </tr>\n",
              "    <tr>\n",
              "      <th>4</th>\n",
              "      <td>1</td>\n",
              "      <td>Estland sieht den künftigen österreichischen P...</td>\n",
              "    </tr>\n",
              "  </tbody>\n",
              "</table>\n",
              "</div>"
            ],
            "text/plain": [
              "   labels                                               text\n",
              "0       5  21-Jähriger fällt wohl bis Saisonende aus. Wie...\n",
              "1       3  Erfundene Bilder zu Filmen, die als verloren g...\n",
              "2       6  Der frischgekürte CEO Sundar Pichai setzt auf ...\n",
              "3       7  Putin: \"Einigung, dass wir Menge auf Niveau vo...\n",
              "4       1  Estland sieht den künftigen österreichischen P..."
            ]
          },
          "metadata": {}
        }
      ]
    },
    {
      "cell_type": "markdown",
      "metadata": {
        "id": "96Q4lMDDC7r0"
      },
      "source": [
        "### Computing Class Weights (not used yet)"
      ]
    },
    {
      "cell_type": "code",
      "metadata": {
        "id": "aQ4ejcR5LsDq",
        "colab": {
          "base_uri": "https://localhost:8080/",
          "height": 332
        },
        "outputId": "c51f5c86-4ae5-480f-adbe-3b5eae525b92"
      },
      "source": [
        "from sklearn.utils.class_weight import compute_class_weight\n",
        "\n",
        "def class_weights(labels: pd.Series) -> pd.DataFrame:\n",
        "    \"\"\"Compute class weights for imbalanced data.\"\"\"\n",
        "    uniq_labels = labels.unique()\n",
        "    counts_s = labels.value_counts().reindex(uniq_labels)\n",
        "    weights = compute_class_weight(\"balanced\", uniq_labels, labels)\n",
        "    return pd.DataFrame({\"count\": counts_s, \"weight\": weights}).sort_index()\n",
        "\n",
        "weights_df = class_weights(train_df.labels)\n",
        "display(weights_df)"
      ],
      "execution_count": 11,
      "outputs": [
        {
          "output_type": "display_data",
          "data": {
            "text/html": [
              "<div>\n",
              "<style scoped>\n",
              "    .dataframe tbody tr th:only-of-type {\n",
              "        vertical-align: middle;\n",
              "    }\n",
              "\n",
              "    .dataframe tbody tr th {\n",
              "        vertical-align: top;\n",
              "    }\n",
              "\n",
              "    .dataframe thead th {\n",
              "        text-align: right;\n",
              "    }\n",
              "</style>\n",
              "<table border=\"1\" class=\"dataframe\">\n",
              "  <thead>\n",
              "    <tr style=\"text-align: right;\">\n",
              "      <th></th>\n",
              "      <th>count</th>\n",
              "      <th>weight</th>\n",
              "    </tr>\n",
              "  </thead>\n",
              "  <tbody>\n",
              "    <tr>\n",
              "      <th>0</th>\n",
              "      <td>601</td>\n",
              "      <td>1.709188</td>\n",
              "    </tr>\n",
              "    <tr>\n",
              "      <th>1</th>\n",
              "      <td>913</td>\n",
              "      <td>1.125106</td>\n",
              "    </tr>\n",
              "    <tr>\n",
              "      <th>2</th>\n",
              "      <td>1360</td>\n",
              "      <td>0.755310</td>\n",
              "    </tr>\n",
              "    <tr>\n",
              "      <th>3</th>\n",
              "      <td>485</td>\n",
              "      <td>2.117984</td>\n",
              "    </tr>\n",
              "    <tr>\n",
              "      <th>4</th>\n",
              "      <td>1510</td>\n",
              "      <td>0.680280</td>\n",
              "    </tr>\n",
              "    <tr>\n",
              "      <th>5</th>\n",
              "      <td>1081</td>\n",
              "      <td>0.950252</td>\n",
              "    </tr>\n",
              "    <tr>\n",
              "      <th>6</th>\n",
              "      <td>1509</td>\n",
              "      <td>0.680730</td>\n",
              "    </tr>\n",
              "    <tr>\n",
              "      <th>7</th>\n",
              "      <td>1270</td>\n",
              "      <td>0.808836</td>\n",
              "    </tr>\n",
              "    <tr>\n",
              "      <th>8</th>\n",
              "      <td>516</td>\n",
              "      <td>1.990741</td>\n",
              "    </tr>\n",
              "  </tbody>\n",
              "</table>\n",
              "</div>"
            ],
            "text/plain": [
              "   count    weight\n",
              "0    601  1.709188\n",
              "1    913  1.125106\n",
              "2   1360  0.755310\n",
              "3    485  2.117984\n",
              "4   1510  0.680280\n",
              "5   1081  0.950252\n",
              "6   1509  0.680730\n",
              "7   1270  0.808836\n",
              "8    516  1.990741"
            ]
          },
          "metadata": {}
        }
      ]
    },
    {
      "cell_type": "markdown",
      "metadata": {
        "id": "xclwtZOSanXP"
      },
      "source": [
        "## Model Setup"
      ]
    },
    {
      "cell_type": "code",
      "metadata": {
        "id": "feusxakWaTCB"
      },
      "source": [
        "from sklearn.metrics import f1_score, accuracy_score, precision_score, recall_score\n",
        "\n",
        "def f1_multiclass(labels, preds):\n",
        "    return f1_score(labels, preds, average='macro')\n",
        "\n",
        "def precision_multiclass(labels, preds):\n",
        "    return precision_score(labels, preds, average='macro')\n",
        "\n",
        "def recall_multiclass(labels, preds):\n",
        "    return recall_score(labels, preds, average='macro')"
      ],
      "execution_count": 12,
      "outputs": []
    },
    {
      "cell_type": "code",
      "metadata": {
        "id": "KtUSAQvepKpm"
      },
      "source": [
        "train_args = {\n",
        "    \"reprocess_input_data\": True,\n",
        "    \"overwrite_output_dir\": True,\n",
        "    \"evaluate_during_training\": True,\n",
        "    \"evaluate_during_training_steps\": 200,    \n",
        "    \"evaluate_during_training_verbose\": False,\n",
        "    \"evaluate_during_training_silent\": True,\n",
        "    \"silent\": True,\n",
        "    \"fp16\": False,\n",
        "    \"wandb_project\": project_name,\n",
        "    }"
      ],
      "execution_count": 15,
      "outputs": []
    },
    {
      "cell_type": "code",
      "metadata": {
        "id": "ZKZgDXsgcHFt"
      },
      "source": [
        "def train():\n",
        "\n",
        "    # need to create a tokenizer first and adjust train args with tokenizer's lower case setting\n",
        "    tokenizer = AutoTokenizer.from_pretrained(model_name)\n",
        "    args = {**train_args, **{ \"do_lower_case\": tokenizer.do_lower_case }}\n",
        "\n",
        "    # Create a ClassificationModel\n",
        "    model = ClassificationModel(model_type,\n",
        "                                model_name,\n",
        "                                num_labels=train_df.labels.nunique(),\n",
        "                                args=args)\n",
        "\n",
        "\n",
        "    steps, details = model.train_model(train_df,\n",
        "                                       eval_df=test_df,\n",
        "                                       verbose=False,\n",
        "                                       f1=f1_multiclass,\n",
        "                                       acc=accuracy_score,\n",
        "                                       precision=precision_multiclass,\n",
        "                                       recall=recall_multiclass)\n",
        "    \n",
        "    print(details)\n",
        "\n",
        "    wandb.join()"
      ],
      "execution_count": 16,
      "outputs": []
    },
    {
      "cell_type": "code",
      "metadata": {
        "id": "2xMI-XtXebnb",
        "colab": {
          "base_uri": "https://localhost:8080/",
          "height": 871
        },
        "outputId": "7a6db144-f0a1-408d-f759-ed5771ecba8a"
      },
      "source": [
        "# continuously run experiments until stopped\n",
        "while True:\n",
        "    train()"
      ],
      "execution_count": 17,
      "outputs": [
        {
          "output_type": "display_data",
          "data": {
            "application/javascript": [
              "\n",
              "        window._wandbApiKey = new Promise((resolve, reject) => {\n",
              "            function loadScript(url) {\n",
              "            return new Promise(function(resolve, reject) {\n",
              "                let newScript = document.createElement(\"script\");\n",
              "                newScript.onerror = reject;\n",
              "                newScript.onload = resolve;\n",
              "                document.body.appendChild(newScript);\n",
              "                newScript.src = url;\n",
              "            });\n",
              "            }\n",
              "            loadScript(\"https://cdn.jsdelivr.net/npm/postmate/build/postmate.min.js\").then(() => {\n",
              "            const iframe = document.createElement('iframe')\n",
              "            iframe.style.cssText = \"width:0;height:0;border:none\"\n",
              "            document.body.appendChild(iframe)\n",
              "            const handshake = new Postmate({\n",
              "                container: iframe,\n",
              "                url: 'https://wandb.ai/authorize'\n",
              "            });\n",
              "            const timeout = setTimeout(() => reject(\"Couldn't auto authenticate\"), 5000)\n",
              "            handshake.then(function(child) {\n",
              "                child.on('authorize', data => {\n",
              "                    clearTimeout(timeout)\n",
              "                    resolve(data)\n",
              "                });\n",
              "            });\n",
              "            })\n",
              "        });\n",
              "    "
            ],
            "text/plain": [
              "<IPython.core.display.Javascript object>"
            ]
          },
          "metadata": {}
        },
        {
          "output_type": "stream",
          "name": "stdout",
          "text": [
            "wandb: Paste an API key from your profile and hit enter: ··········\n",
            "defaultdict(<class 'list'>, {'global_step': [200, 400, 600, 800, 1000, 1156], 'train_loss': [0.9056264162063599, 0.502555787563324, 1.1973752975463867, 0.19918952882289886, 1.3784610033035278, 0.019147220999002457], 'mcc': [0.7810989186463829, 0.8211842141156012, 0.8550705617234949, 0.8630530762626466, 0.8662400023279396, 0.8728953828389182], 'f1': [0.7937181876945638, 0.831150622432685, 0.8660478008815321, 0.8770207240980252, 0.8781399898967925, 0.8846282749358215], 'acc': [0.806420233463035, 0.8433852140077821, 0.8735408560311284, 0.8803501945525292, 0.8832684824902723, 0.8891050583657587], 'precision': [0.8053801727116544, 0.8536782373418692, 0.8730085811584363, 0.8785741343605326, 0.8858663863182452, 0.890758892696854], 'recall': [0.794875218744787, 0.82494317761626, 0.8621389508525419, 0.8763035541791978, 0.8723403438638082, 0.8794234920774758], 'eval_loss': [0.6587459397639415, 0.5280436280854913, 0.41764037916075814, 0.39293053266845007, 0.39733912967607493, 0.37716870776615863]})\n",
            "defaultdict(<class 'list'>, {'global_step': [200, 400, 600, 800, 1000, 1156], 'train_loss': [0.9482019543647766, 0.2655630111694336, 0.2780649960041046, 0.18155544996261597, 0.22550679743289948, 0.028455734252929688], 'mcc': [0.7891634466761974, 0.8174179251436654, 0.8364266563061841, 0.8606586182890307, 0.8595097307378057, 0.8584261860438901], 'f1': [0.8142864815266994, 0.8347128962698922, 0.8506464049197962, 0.8768279694144148, 0.871249704606288, 0.8747864273741998], 'acc': [0.8151750972762646, 0.8394941634241245, 0.8570038910505836, 0.8784046692607004, 0.877431906614786, 0.8764591439688716], 'precision': [0.8363006160552632, 0.8475541772842209, 0.857214011284789, 0.881620478650147, 0.8793241931065492, 0.8807166853245252], 'recall': [0.803170497853005, 0.8310267696492133, 0.8486048654005134, 0.8731815202943456, 0.8653987446702334, 0.8698766190958991], 'eval_loss': [0.6226672788923101, 0.5149089312253072, 0.4591366849810809, 0.4044592957366113, 0.4106185088988191, 0.3981190891864226]})\n",
            "defaultdict(<class 'list'>, {'global_step': [200, 400, 600, 800, 1000, 1156], 'train_loss': [1.4100605249404907, 1.0942484140396118, 0.22113268077373505, 1.2128400802612305, 0.4214393198490143, 0.9953883290290833], 'mcc': [0.7857599584588094, 0.8102339945381043, 0.8419444344472196, 0.8595715813496053, 0.8622255800703638, 0.855029992099681], 'f1': [0.8075390696410696, 0.8343902315194845, 0.8584634220347153, 0.8729273602670434, 0.8755843038124818, 0.8683241652497742], 'acc': [0.8122568093385214, 0.8336575875486382, 0.8618677042801557, 0.877431906614786, 0.8793774319066148, 0.8735408560311284], 'precision': [0.8104599388266938, 0.8486712507933916, 0.8649531811401427, 0.8747748406968818, 0.8799017916095272, 0.8745007140671405], 'recall': [0.8089976973534259, 0.8258098862981914, 0.8566103692946941, 0.8723645907418507, 0.8750157182060528, 0.8640844506331801], 'eval_loss': [0.6209051343937253, 0.5162891675970813, 0.44813097092185833, 0.4243478113280017, 0.41976495902956457, 0.404457747170976]})\n",
            "defaultdict(<class 'list'>, {'global_step': [200, 400, 600, 800, 1000, 1156], 'train_loss': [0.6346118450164795, 0.7262587547302246, 0.4304336905479431, 0.06905962526798248, 0.08554638922214508, 0.3571412265300751], 'mcc': [0.7842217327176407, 0.8203345019438828, 0.8219193848689403, 0.8480479751772317, 0.8663117355990778, 0.8652656901605732], 'f1': [0.7990581020935529, 0.8354801946310496, 0.8465284871999553, 0.860374081938066, 0.8773193761110667, 0.878140452855331], 'acc': [0.811284046692607, 0.8424124513618677, 0.8424124513618677, 0.8667315175097277, 0.8832684824902723, 0.882295719844358], 'precision': [0.8138898402653374, 0.836103572066886, 0.8596233585538022, 0.8702709047157863, 0.8811838289093801, 0.8824473736067924], 'recall': [0.7915648241261619, 0.840662252924222, 0.8447196178549277, 0.8575405071883071, 0.8749946569239818, 0.8753072951379585], 'eval_loss': [0.6507099394996961, 0.513560127466917, 0.5103395387761352, 0.4460711014392071, 0.38946689676868823, 0.3865324565491011]})\n",
            "defaultdict(<class 'list'>, {'global_step': [200, 400, 600, 800, 1000, 1156], 'train_loss': [1.2420107126235962, 0.8862801790237427, 0.4245619773864746, 0.31751689314842224, 0.7071635127067566, 0.03455299511551857], 'mcc': [0.75295042487114, 0.8301598990543269, 0.841197636369726, 0.8654582867356708, 0.8643865499139104, 0.8687390491870898], 'f1': [0.7691749170257302, 0.839118175276385, 0.8548047892791172, 0.8793682199060913, 0.8754704664759907, 0.8796120842281703], 'acc': [0.7811284046692607, 0.8511673151750972, 0.8608949416342413, 0.882295719844358, 0.8813229571984436, 0.8852140077821011], 'precision': [0.8253079465007889, 0.8479177652274329, 0.8598513448163267, 0.8825768064521312, 0.8791371034754585, 0.8810736147632574], 'recall': [0.7529159600724858, 0.8401504421730907, 0.8567992440195875, 0.8788745899434922, 0.8753945986010125, 0.88042411734281], 'eval_loss': [0.6768181244878806, 0.488976284255122, 0.46021627626100253, 0.39767052768910116, 0.38491265749371095, 0.37532307307214235]})\n",
            "defaultdict(<class 'list'>, {'global_step': [200, 400, 600, 800, 1000, 1156], 'train_loss': [1.5496282577514648, 0.3135768473148346, 0.27235111594200134, 0.17745262384414673, 0.40148797631263733, 0.03440774604678154], 'mcc': [0.7385508445605092, 0.8214713699808761, 0.8381478816096466, 0.8487560647325505, 0.8631558064335768, 0.8640520929724881], 'f1': [0.7530053613261439, 0.8341021518188634, 0.857195886696251, 0.8667971746637775, 0.8776657657728486, 0.8769203596742043], 'acc': [0.7655642023346303, 0.8433852140077821, 0.857976653696498, 0.867704280155642, 0.8803501945525292, 0.8813229571984436], 'precision': [0.7992125743379563, 0.8465785373690795, 0.8600701331464333, 0.8666081825298194, 0.8857506865970923, 0.8787685587974658], 'recall': [0.7620397030819857, 0.8294199802368283, 0.8582923222710218, 0.8686605043624852, 0.873263996935372, 0.8761676985129964], 'eval_loss': [0.7508811337310214, 0.5046596380398255, 0.4541741532179736, 0.41163550971379115, 0.4078865689694766, 0.39546366296564195]})\n"
          ]
        },
        {
          "output_type": "stream",
          "name": "stderr",
          "text": [
            "Process ForkPoolWorker-49:\n",
            "Traceback (most recent call last):\n",
            "  File \"/usr/lib/python3.7/multiprocessing/process.py\", line 297, in _bootstrap\n",
            "    self.run()\n",
            "  File \"/usr/lib/python3.7/multiprocessing/process.py\", line 99, in run\n",
            "    self._target(*self._args, **self._kwargs)\n",
            "  File \"/usr/lib/python3.7/multiprocessing/pool.py\", line 110, in worker\n",
            "    task = get()\n",
            "  File \"/usr/lib/python3.7/multiprocessing/queues.py\", line 354, in get\n",
            "    return _ForkingPickler.loads(res)\n",
            "KeyboardInterrupt\n"
          ]
        },
        {
          "output_type": "error",
          "ename": "AssertionError",
          "evalue": "ignored",
          "traceback": [
            "\u001b[0;31m---------------------------------------------------------------------------\u001b[0m",
            "\u001b[0;31mIndexError\u001b[0m                                Traceback (most recent call last)",
            "\u001b[0;32m/usr/lib/python3.7/multiprocessing/pool.py\u001b[0m in \u001b[0;36mnext\u001b[0;34m(self, timeout)\u001b[0m\n\u001b[1;32m    732\u001b[0m             \u001b[0;32mtry\u001b[0m\u001b[0;34m:\u001b[0m\u001b[0;34m\u001b[0m\u001b[0;34m\u001b[0m\u001b[0m\n\u001b[0;32m--> 733\u001b[0;31m                 \u001b[0mitem\u001b[0m \u001b[0;34m=\u001b[0m \u001b[0mself\u001b[0m\u001b[0;34m.\u001b[0m\u001b[0m_items\u001b[0m\u001b[0;34m.\u001b[0m\u001b[0mpopleft\u001b[0m\u001b[0;34m(\u001b[0m\u001b[0;34m)\u001b[0m\u001b[0;34m\u001b[0m\u001b[0;34m\u001b[0m\u001b[0m\n\u001b[0m\u001b[1;32m    734\u001b[0m             \u001b[0;32mexcept\u001b[0m \u001b[0mIndexError\u001b[0m\u001b[0;34m:\u001b[0m\u001b[0;34m\u001b[0m\u001b[0;34m\u001b[0m\u001b[0m\n",
            "\u001b[0;31mIndexError\u001b[0m: pop from an empty deque",
            "\nDuring handling of the above exception, another exception occurred:\n",
            "\u001b[0;31mKeyboardInterrupt\u001b[0m                         Traceback (most recent call last)",
            "\u001b[0;32m/usr/local/lib/python3.7/dist-packages/simpletransformers/classification/classification_utils.py\u001b[0m in \u001b[0;36mbuild_classification_dataset\u001b[0;34m(data, tokenizer, args, mode, multi_label, output_mode, no_cache)\u001b[0m\n\u001b[1;32m    227\u001b[0m                         \u001b[0mtotal\u001b[0m\u001b[0;34m=\u001b[0m\u001b[0mlen\u001b[0m\u001b[0;34m(\u001b[0m\u001b[0mtext_a\u001b[0m\u001b[0;34m)\u001b[0m\u001b[0;34m,\u001b[0m\u001b[0;34m\u001b[0m\u001b[0;34m\u001b[0m\u001b[0m\n\u001b[0;32m--> 228\u001b[0;31m                         \u001b[0mdisable\u001b[0m\u001b[0;34m=\u001b[0m\u001b[0margs\u001b[0m\u001b[0;34m.\u001b[0m\u001b[0msilent\u001b[0m\u001b[0;34m,\u001b[0m\u001b[0;34m\u001b[0m\u001b[0;34m\u001b[0m\u001b[0m\n\u001b[0m\u001b[1;32m    229\u001b[0m                     )\n",
            "\u001b[0;32m/usr/local/lib/python3.7/dist-packages/tqdm/notebook.py\u001b[0m in \u001b[0;36m__iter__\u001b[0;34m(self, *args, **kwargs)\u001b[0m\n\u001b[1;32m    227\u001b[0m         \u001b[0;32mtry\u001b[0m\u001b[0;34m:\u001b[0m\u001b[0;34m\u001b[0m\u001b[0;34m\u001b[0m\u001b[0m\n\u001b[0;32m--> 228\u001b[0;31m             \u001b[0;32mfor\u001b[0m \u001b[0mobj\u001b[0m \u001b[0;32min\u001b[0m \u001b[0msuper\u001b[0m\u001b[0;34m(\u001b[0m\u001b[0mtqdm_notebook\u001b[0m\u001b[0;34m,\u001b[0m \u001b[0mself\u001b[0m\u001b[0;34m)\u001b[0m\u001b[0;34m.\u001b[0m\u001b[0m__iter__\u001b[0m\u001b[0;34m(\u001b[0m\u001b[0;34m*\u001b[0m\u001b[0margs\u001b[0m\u001b[0;34m,\u001b[0m \u001b[0;34m**\u001b[0m\u001b[0mkwargs\u001b[0m\u001b[0;34m)\u001b[0m\u001b[0;34m:\u001b[0m\u001b[0;34m\u001b[0m\u001b[0;34m\u001b[0m\u001b[0m\n\u001b[0m\u001b[1;32m    229\u001b[0m                 \u001b[0;31m# return super(tqdm...) will not catch exception\u001b[0m\u001b[0;34m\u001b[0m\u001b[0;34m\u001b[0m\u001b[0;34m\u001b[0m\u001b[0m\n",
            "\u001b[0;32m/usr/local/lib/python3.7/dist-packages/tqdm/std.py\u001b[0m in \u001b[0;36m__iter__\u001b[0;34m(self)\u001b[0m\n\u001b[1;32m   1110\u001b[0m         \u001b[0;32mif\u001b[0m \u001b[0mself\u001b[0m\u001b[0;34m.\u001b[0m\u001b[0mdisable\u001b[0m\u001b[0;34m:\u001b[0m\u001b[0;34m\u001b[0m\u001b[0;34m\u001b[0m\u001b[0m\n\u001b[0;32m-> 1111\u001b[0;31m             \u001b[0;32mfor\u001b[0m \u001b[0mobj\u001b[0m \u001b[0;32min\u001b[0m \u001b[0miterable\u001b[0m\u001b[0;34m:\u001b[0m\u001b[0;34m\u001b[0m\u001b[0;34m\u001b[0m\u001b[0m\n\u001b[0m\u001b[1;32m   1112\u001b[0m                 \u001b[0;32myield\u001b[0m \u001b[0mobj\u001b[0m\u001b[0;34m\u001b[0m\u001b[0;34m\u001b[0m\u001b[0m\n",
            "\u001b[0;32m/usr/lib/python3.7/multiprocessing/pool.py\u001b[0m in \u001b[0;36mnext\u001b[0;34m(self, timeout)\u001b[0m\n\u001b[1;32m    736\u001b[0m                     \u001b[0;32mraise\u001b[0m \u001b[0mStopIteration\u001b[0m \u001b[0;32mfrom\u001b[0m \u001b[0;32mNone\u001b[0m\u001b[0;34m\u001b[0m\u001b[0;34m\u001b[0m\u001b[0m\n\u001b[0;32m--> 737\u001b[0;31m                 \u001b[0mself\u001b[0m\u001b[0;34m.\u001b[0m\u001b[0m_cond\u001b[0m\u001b[0;34m.\u001b[0m\u001b[0mwait\u001b[0m\u001b[0;34m(\u001b[0m\u001b[0mtimeout\u001b[0m\u001b[0;34m)\u001b[0m\u001b[0;34m\u001b[0m\u001b[0;34m\u001b[0m\u001b[0m\n\u001b[0m\u001b[1;32m    738\u001b[0m                 \u001b[0;32mtry\u001b[0m\u001b[0;34m:\u001b[0m\u001b[0;34m\u001b[0m\u001b[0;34m\u001b[0m\u001b[0m\n",
            "\u001b[0;32m/usr/lib/python3.7/threading.py\u001b[0m in \u001b[0;36mwait\u001b[0;34m(self, timeout)\u001b[0m\n\u001b[1;32m    295\u001b[0m             \u001b[0;32mif\u001b[0m \u001b[0mtimeout\u001b[0m \u001b[0;32mis\u001b[0m \u001b[0;32mNone\u001b[0m\u001b[0;34m:\u001b[0m\u001b[0;34m\u001b[0m\u001b[0;34m\u001b[0m\u001b[0m\n\u001b[0;32m--> 296\u001b[0;31m                 \u001b[0mwaiter\u001b[0m\u001b[0;34m.\u001b[0m\u001b[0macquire\u001b[0m\u001b[0;34m(\u001b[0m\u001b[0;34m)\u001b[0m\u001b[0;34m\u001b[0m\u001b[0;34m\u001b[0m\u001b[0m\n\u001b[0m\u001b[1;32m    297\u001b[0m                 \u001b[0mgotit\u001b[0m \u001b[0;34m=\u001b[0m \u001b[0;32mTrue\u001b[0m\u001b[0;34m\u001b[0m\u001b[0;34m\u001b[0m\u001b[0m\n",
            "\u001b[0;31mKeyboardInterrupt\u001b[0m: ",
            "\nDuring handling of the above exception, another exception occurred:\n",
            "\u001b[0;31mAssertionError\u001b[0m                            Traceback (most recent call last)",
            "\u001b[0;32m<ipython-input-17-e2c5508b00e8>\u001b[0m in \u001b[0;36m<module>\u001b[0;34m()\u001b[0m\n\u001b[1;32m      1\u001b[0m \u001b[0;32mwhile\u001b[0m \u001b[0;32mTrue\u001b[0m\u001b[0;34m:\u001b[0m\u001b[0;34m\u001b[0m\u001b[0;34m\u001b[0m\u001b[0m\n\u001b[0;32m----> 2\u001b[0;31m     \u001b[0mtrain\u001b[0m\u001b[0;34m(\u001b[0m\u001b[0;34m)\u001b[0m\u001b[0;34m\u001b[0m\u001b[0;34m\u001b[0m\u001b[0m\n\u001b[0m",
            "\u001b[0;32m<ipython-input-16-a7d9fadd98c5>\u001b[0m in \u001b[0;36mtrain\u001b[0;34m()\u001b[0m\n\u001b[1;32m     18\u001b[0m                                        \u001b[0macc\u001b[0m\u001b[0;34m=\u001b[0m\u001b[0maccuracy_score\u001b[0m\u001b[0;34m,\u001b[0m\u001b[0;34m\u001b[0m\u001b[0;34m\u001b[0m\u001b[0m\n\u001b[1;32m     19\u001b[0m                                        \u001b[0mprecision\u001b[0m\u001b[0;34m=\u001b[0m\u001b[0mprecision_multiclass\u001b[0m\u001b[0;34m,\u001b[0m\u001b[0;34m\u001b[0m\u001b[0;34m\u001b[0m\u001b[0m\n\u001b[0;32m---> 20\u001b[0;31m                                        recall=recall_multiclass)\n\u001b[0m\u001b[1;32m     21\u001b[0m \u001b[0;34m\u001b[0m\u001b[0m\n\u001b[1;32m     22\u001b[0m     \u001b[0mprint\u001b[0m\u001b[0;34m(\u001b[0m\u001b[0mdetails\u001b[0m\u001b[0;34m)\u001b[0m\u001b[0;34m\u001b[0m\u001b[0;34m\u001b[0m\u001b[0m\n",
            "\u001b[0;32m/usr/local/lib/python3.7/dist-packages/simpletransformers/classification/classification_model.py\u001b[0m in \u001b[0;36mtrain_model\u001b[0;34m(self, train_df, multi_label, output_dir, show_running_loss, args, eval_df, verbose, **kwargs)\u001b[0m\n\u001b[1;32m    591\u001b[0m                 )\n\u001b[1;32m    592\u001b[0m             train_dataset = self.load_and_cache_examples(\n\u001b[0;32m--> 593\u001b[0;31m                 \u001b[0mtrain_examples\u001b[0m\u001b[0;34m,\u001b[0m \u001b[0mverbose\u001b[0m\u001b[0;34m=\u001b[0m\u001b[0mverbose\u001b[0m\u001b[0;34m\u001b[0m\u001b[0;34m\u001b[0m\u001b[0m\n\u001b[0m\u001b[1;32m    594\u001b[0m             )\n\u001b[1;32m    595\u001b[0m         \u001b[0mtrain_sampler\u001b[0m \u001b[0;34m=\u001b[0m \u001b[0mRandomSampler\u001b[0m\u001b[0;34m(\u001b[0m\u001b[0mtrain_dataset\u001b[0m\u001b[0;34m)\u001b[0m\u001b[0;34m\u001b[0m\u001b[0;34m\u001b[0m\u001b[0m\n",
            "\u001b[0;32m/usr/local/lib/python3.7/dist-packages/simpletransformers/classification/classification_model.py\u001b[0m in \u001b[0;36mload_and_cache_examples\u001b[0;34m(self, examples, evaluate, no_cache, multi_label, verbose, silent)\u001b[0m\n\u001b[1;32m   1804\u001b[0m                 \u001b[0mmulti_label\u001b[0m\u001b[0;34m=\u001b[0m\u001b[0mmulti_label\u001b[0m\u001b[0;34m,\u001b[0m\u001b[0;34m\u001b[0m\u001b[0;34m\u001b[0m\u001b[0m\n\u001b[1;32m   1805\u001b[0m                 \u001b[0moutput_mode\u001b[0m\u001b[0;34m=\u001b[0m\u001b[0moutput_mode\u001b[0m\u001b[0;34m,\u001b[0m\u001b[0;34m\u001b[0m\u001b[0;34m\u001b[0m\u001b[0m\n\u001b[0;32m-> 1806\u001b[0;31m                 \u001b[0mno_cache\u001b[0m\u001b[0;34m=\u001b[0m\u001b[0mno_cache\u001b[0m\u001b[0;34m,\u001b[0m\u001b[0;34m\u001b[0m\u001b[0;34m\u001b[0m\u001b[0m\n\u001b[0m\u001b[1;32m   1807\u001b[0m             )\n\u001b[1;32m   1808\u001b[0m             \u001b[0;32mreturn\u001b[0m \u001b[0mdataset\u001b[0m\u001b[0;34m\u001b[0m\u001b[0;34m\u001b[0m\u001b[0m\n",
            "\u001b[0;32m/usr/local/lib/python3.7/dist-packages/simpletransformers/classification/classification_utils.py\u001b[0m in \u001b[0;36m__init__\u001b[0;34m(self, data, tokenizer, args, mode, multi_label, output_mode, no_cache)\u001b[0m\n\u001b[1;32m    256\u001b[0m     \u001b[0;32mdef\u001b[0m \u001b[0m__init__\u001b[0m\u001b[0;34m(\u001b[0m\u001b[0mself\u001b[0m\u001b[0;34m,\u001b[0m \u001b[0mdata\u001b[0m\u001b[0;34m,\u001b[0m \u001b[0mtokenizer\u001b[0m\u001b[0;34m,\u001b[0m \u001b[0margs\u001b[0m\u001b[0;34m,\u001b[0m \u001b[0mmode\u001b[0m\u001b[0;34m,\u001b[0m \u001b[0mmulti_label\u001b[0m\u001b[0;34m,\u001b[0m \u001b[0moutput_mode\u001b[0m\u001b[0;34m,\u001b[0m \u001b[0mno_cache\u001b[0m\u001b[0;34m)\u001b[0m\u001b[0;34m:\u001b[0m\u001b[0;34m\u001b[0m\u001b[0;34m\u001b[0m\u001b[0m\n\u001b[1;32m    257\u001b[0m         self.examples, self.labels = build_classification_dataset(\n\u001b[0;32m--> 258\u001b[0;31m             \u001b[0mdata\u001b[0m\u001b[0;34m,\u001b[0m \u001b[0mtokenizer\u001b[0m\u001b[0;34m,\u001b[0m \u001b[0margs\u001b[0m\u001b[0;34m,\u001b[0m \u001b[0mmode\u001b[0m\u001b[0;34m,\u001b[0m \u001b[0mmulti_label\u001b[0m\u001b[0;34m,\u001b[0m \u001b[0moutput_mode\u001b[0m\u001b[0;34m,\u001b[0m \u001b[0mno_cache\u001b[0m\u001b[0;34m\u001b[0m\u001b[0;34m\u001b[0m\u001b[0m\n\u001b[0m\u001b[1;32m    259\u001b[0m         )\n\u001b[1;32m    260\u001b[0m \u001b[0;34m\u001b[0m\u001b[0m\n",
            "\u001b[0;32m/usr/local/lib/python3.7/dist-packages/simpletransformers/classification/classification_utils.py\u001b[0m in \u001b[0;36mbuild_classification_dataset\u001b[0;34m(data, tokenizer, args, mode, multi_label, output_mode, no_cache)\u001b[0m\n\u001b[1;32m    226\u001b[0m                         \u001b[0mp\u001b[0m\u001b[0;34m.\u001b[0m\u001b[0mimap\u001b[0m\u001b[0;34m(\u001b[0m\u001b[0mpreprocess_data_multiprocessing\u001b[0m\u001b[0;34m,\u001b[0m \u001b[0mdata\u001b[0m\u001b[0;34m)\u001b[0m\u001b[0;34m,\u001b[0m\u001b[0;34m\u001b[0m\u001b[0;34m\u001b[0m\u001b[0m\n\u001b[1;32m    227\u001b[0m                         \u001b[0mtotal\u001b[0m\u001b[0;34m=\u001b[0m\u001b[0mlen\u001b[0m\u001b[0;34m(\u001b[0m\u001b[0mtext_a\u001b[0m\u001b[0;34m)\u001b[0m\u001b[0;34m,\u001b[0m\u001b[0;34m\u001b[0m\u001b[0;34m\u001b[0m\u001b[0m\n\u001b[0;32m--> 228\u001b[0;31m                         \u001b[0mdisable\u001b[0m\u001b[0;34m=\u001b[0m\u001b[0margs\u001b[0m\u001b[0;34m.\u001b[0m\u001b[0msilent\u001b[0m\u001b[0;34m,\u001b[0m\u001b[0;34m\u001b[0m\u001b[0;34m\u001b[0m\u001b[0m\n\u001b[0m\u001b[1;32m    229\u001b[0m                     )\n\u001b[1;32m    230\u001b[0m                 )\n",
            "\u001b[0;32m/usr/lib/python3.7/multiprocessing/pool.py\u001b[0m in \u001b[0;36m__exit__\u001b[0;34m(self, exc_type, exc_val, exc_tb)\u001b[0m\n\u001b[1;32m    621\u001b[0m \u001b[0;34m\u001b[0m\u001b[0m\n\u001b[1;32m    622\u001b[0m     \u001b[0;32mdef\u001b[0m \u001b[0m__exit__\u001b[0m\u001b[0;34m(\u001b[0m\u001b[0mself\u001b[0m\u001b[0;34m,\u001b[0m \u001b[0mexc_type\u001b[0m\u001b[0;34m,\u001b[0m \u001b[0mexc_val\u001b[0m\u001b[0;34m,\u001b[0m \u001b[0mexc_tb\u001b[0m\u001b[0;34m)\u001b[0m\u001b[0;34m:\u001b[0m\u001b[0;34m\u001b[0m\u001b[0;34m\u001b[0m\u001b[0m\n\u001b[0;32m--> 623\u001b[0;31m         \u001b[0mself\u001b[0m\u001b[0;34m.\u001b[0m\u001b[0mterminate\u001b[0m\u001b[0;34m(\u001b[0m\u001b[0;34m)\u001b[0m\u001b[0;34m\u001b[0m\u001b[0;34m\u001b[0m\u001b[0m\n\u001b[0m\u001b[1;32m    624\u001b[0m \u001b[0;34m\u001b[0m\u001b[0m\n\u001b[1;32m    625\u001b[0m \u001b[0;31m#\u001b[0m\u001b[0;34m\u001b[0m\u001b[0;34m\u001b[0m\u001b[0;34m\u001b[0m\u001b[0m\n",
            "\u001b[0;32m/usr/lib/python3.7/multiprocessing/pool.py\u001b[0m in \u001b[0;36mterminate\u001b[0;34m(self)\u001b[0m\n\u001b[1;32m    546\u001b[0m         \u001b[0mself\u001b[0m\u001b[0;34m.\u001b[0m\u001b[0m_state\u001b[0m \u001b[0;34m=\u001b[0m \u001b[0mTERMINATE\u001b[0m\u001b[0;34m\u001b[0m\u001b[0;34m\u001b[0m\u001b[0m\n\u001b[1;32m    547\u001b[0m         \u001b[0mself\u001b[0m\u001b[0;34m.\u001b[0m\u001b[0m_worker_handler\u001b[0m\u001b[0;34m.\u001b[0m\u001b[0m_state\u001b[0m \u001b[0;34m=\u001b[0m \u001b[0mTERMINATE\u001b[0m\u001b[0;34m\u001b[0m\u001b[0;34m\u001b[0m\u001b[0m\n\u001b[0;32m--> 548\u001b[0;31m         \u001b[0mself\u001b[0m\u001b[0;34m.\u001b[0m\u001b[0m_terminate\u001b[0m\u001b[0;34m(\u001b[0m\u001b[0;34m)\u001b[0m\u001b[0;34m\u001b[0m\u001b[0;34m\u001b[0m\u001b[0m\n\u001b[0m\u001b[1;32m    549\u001b[0m \u001b[0;34m\u001b[0m\u001b[0m\n\u001b[1;32m    550\u001b[0m     \u001b[0;32mdef\u001b[0m \u001b[0mjoin\u001b[0m\u001b[0;34m(\u001b[0m\u001b[0mself\u001b[0m\u001b[0;34m)\u001b[0m\u001b[0;34m:\u001b[0m\u001b[0;34m\u001b[0m\u001b[0;34m\u001b[0m\u001b[0m\n",
            "\u001b[0;32m/usr/lib/python3.7/multiprocessing/util.py\u001b[0m in \u001b[0;36m__call__\u001b[0;34m(self, wr, _finalizer_registry, sub_debug, getpid)\u001b[0m\n\u001b[1;32m    222\u001b[0m                 sub_debug('finalizer calling %s with args %s and kwargs %s',\n\u001b[1;32m    223\u001b[0m                           self._callback, self._args, self._kwargs)\n\u001b[0;32m--> 224\u001b[0;31m                 \u001b[0mres\u001b[0m \u001b[0;34m=\u001b[0m \u001b[0mself\u001b[0m\u001b[0;34m.\u001b[0m\u001b[0m_callback\u001b[0m\u001b[0;34m(\u001b[0m\u001b[0;34m*\u001b[0m\u001b[0mself\u001b[0m\u001b[0;34m.\u001b[0m\u001b[0m_args\u001b[0m\u001b[0;34m,\u001b[0m \u001b[0;34m**\u001b[0m\u001b[0mself\u001b[0m\u001b[0;34m.\u001b[0m\u001b[0m_kwargs\u001b[0m\u001b[0;34m)\u001b[0m\u001b[0;34m\u001b[0m\u001b[0;34m\u001b[0m\u001b[0m\n\u001b[0m\u001b[1;32m    225\u001b[0m             \u001b[0mself\u001b[0m\u001b[0;34m.\u001b[0m\u001b[0m_weakref\u001b[0m \u001b[0;34m=\u001b[0m \u001b[0mself\u001b[0m\u001b[0;34m.\u001b[0m\u001b[0m_callback\u001b[0m \u001b[0;34m=\u001b[0m \u001b[0mself\u001b[0m\u001b[0;34m.\u001b[0m\u001b[0m_args\u001b[0m \u001b[0;34m=\u001b[0m\u001b[0;31m \u001b[0m\u001b[0;31m\\\u001b[0m\u001b[0;34m\u001b[0m\u001b[0;34m\u001b[0m\u001b[0m\n\u001b[1;32m    226\u001b[0m                             \u001b[0mself\u001b[0m\u001b[0;34m.\u001b[0m\u001b[0m_kwargs\u001b[0m \u001b[0;34m=\u001b[0m \u001b[0mself\u001b[0m\u001b[0;34m.\u001b[0m\u001b[0m_key\u001b[0m \u001b[0;34m=\u001b[0m \u001b[0;32mNone\u001b[0m\u001b[0;34m\u001b[0m\u001b[0;34m\u001b[0m\u001b[0m\n",
            "\u001b[0;32m/usr/lib/python3.7/multiprocessing/pool.py\u001b[0m in \u001b[0;36m_terminate_pool\u001b[0;34m(cls, taskqueue, inqueue, outqueue, pool, worker_handler, task_handler, result_handler, cache)\u001b[0m\n\u001b[1;32m    583\u001b[0m         \u001b[0;32mif\u001b[0m \u001b[0;34m(\u001b[0m\u001b[0;32mnot\u001b[0m \u001b[0mresult_handler\u001b[0m\u001b[0;34m.\u001b[0m\u001b[0mis_alive\u001b[0m\u001b[0;34m(\u001b[0m\u001b[0;34m)\u001b[0m\u001b[0;34m)\u001b[0m \u001b[0;32mand\u001b[0m \u001b[0;34m(\u001b[0m\u001b[0mlen\u001b[0m\u001b[0;34m(\u001b[0m\u001b[0mcache\u001b[0m\u001b[0;34m)\u001b[0m \u001b[0;34m!=\u001b[0m \u001b[0;36m0\u001b[0m\u001b[0;34m)\u001b[0m\u001b[0;34m:\u001b[0m\u001b[0;34m\u001b[0m\u001b[0;34m\u001b[0m\u001b[0m\n\u001b[1;32m    584\u001b[0m             raise AssertionError(\n\u001b[0;32m--> 585\u001b[0;31m                 \"Cannot have cache with result_hander not alive\")\n\u001b[0m\u001b[1;32m    586\u001b[0m \u001b[0;34m\u001b[0m\u001b[0m\n\u001b[1;32m    587\u001b[0m         \u001b[0mresult_handler\u001b[0m\u001b[0;34m.\u001b[0m\u001b[0m_state\u001b[0m \u001b[0;34m=\u001b[0m \u001b[0mTERMINATE\u001b[0m\u001b[0;34m\u001b[0m\u001b[0;34m\u001b[0m\u001b[0m\n",
            "\u001b[0;31mAssertionError\u001b[0m: Cannot have cache with result_hander not alive"
          ]
        }
      ]
    },
    {
      "cell_type": "markdown",
      "metadata": {
        "id": "hySEe1YaAqr4"
      },
      "source": [
        "---\n",
        "## Evaluate Best Model"
      ]
    },
    {
      "cell_type": "code",
      "metadata": {
        "colab": {
          "base_uri": "https://localhost:8080/"
        },
        "id": "ZBezSxzSYdM_",
        "outputId": "b57d7d4f-dd46-4c61-a408-0a41a8b3a272"
      },
      "source": [
        "!ls -la outputs/"
      ],
      "execution_count": 18,
      "outputs": [
        {
          "output_type": "stream",
          "name": "stdout",
          "text": [
            "total 264112\n",
            "drwxr-xr-x 9 root root      4096 Nov 14 21:22 .\n",
            "drwxr-xr-x 1 root root      4096 Nov 14 21:19 ..\n",
            "drwxr-xr-x 2 root root      4096 Nov 14 21:20 best_model\n",
            "drwxr-xr-x 2 root root      4096 Nov 14 21:21 checkpoint-1000\n",
            "drwxr-xr-x 2 root root      4096 Nov 14 21:22 checkpoint-1156-epoch-1\n",
            "drwxr-xr-x 2 root root      4096 Nov 14 21:20 checkpoint-200\n",
            "drwxr-xr-x 2 root root      4096 Nov 14 21:20 checkpoint-400\n",
            "drwxr-xr-x 2 root root      4096 Nov 14 21:21 checkpoint-600\n",
            "drwxr-xr-x 2 root root      4096 Nov 14 21:21 checkpoint-800\n",
            "-rw-r--r-- 1 root root      1024 Nov 14 21:37 config.json\n",
            "-rw-r--r-- 1 root root       165 Nov 14 21:37 eval_results.txt\n",
            "-rw-r--r-- 1 root root      2685 Nov 14 21:37 model_args.json\n",
            "-rw-r--r-- 1 root root 269663345 Nov 14 21:37 pytorch_model.bin\n",
            "-rw-r--r-- 1 root root       112 Nov 14 21:37 special_tokens_map.json\n",
            "-rw-r--r-- 1 root root       339 Nov 14 21:37 tokenizer_config.json\n",
            "-rw-r--r-- 1 root root    479105 Nov 14 21:37 tokenizer.json\n",
            "-rw-r--r-- 1 root root      3247 Nov 14 21:37 training_args.bin\n",
            "-rw-r--r-- 1 root root       887 Nov 14 21:37 training_progress_scores.csv\n",
            "-rw-r--r-- 1 root root    239836 Nov 14 21:37 vocab.txt\n"
          ]
        }
      ]
    },
    {
      "cell_type": "code",
      "metadata": {
        "id": "xcEAe5JKYhA3"
      },
      "source": [
        "# loading best model (as stored by SimpleTransformers)\n",
        "# CAUTION: for some reason this seems to be the last model not the best model\n",
        "model = ClassificationModel(model_type, \"outputs/best_model\")"
      ],
      "execution_count": 19,
      "outputs": []
    },
    {
      "cell_type": "code",
      "metadata": {
        "id": "s1009AbGcIeg",
        "colab": {
          "base_uri": "https://localhost:8080/"
        },
        "outputId": "3216e793-3d60-4bfa-87eb-7e57727c0e94"
      },
      "source": [
        "result, model_outputs, wrong_predictions = model.eval_model(test_df, f1=f1_multiclass, acc=accuracy_score, precision=precision_multiclass, recall=recall_multiclass, wandb_log=False)\n",
        "pd.Series(result)"
      ],
      "execution_count": 21,
      "outputs": [
        {
          "output_type": "execute_result",
          "data": {
            "text/plain": [
              "mcc          0.864052\n",
              "f1           0.876920\n",
              "acc          0.881323\n",
              "precision    0.878769\n",
              "recall       0.876168\n",
              "eval_loss    0.395464\n",
              "dtype: float64"
            ]
          },
          "metadata": {},
          "execution_count": 21
        }
      ]
    },
    {
      "cell_type": "code",
      "metadata": {
        "id": "jAhyTUI9bOcM",
        "colab": {
          "base_uri": "https://localhost:8080/",
          "height": 424
        },
        "outputId": "7ecc7e3a-cf4e-4f00-984e-df2582bb58c1"
      },
      "source": [
        "preds = pd.DataFrame(model_outputs, columns=le.classes_)\n",
        "preds"
      ],
      "execution_count": 43,
      "outputs": [
        {
          "output_type": "execute_result",
          "data": {
            "text/html": [
              "<div>\n",
              "<style scoped>\n",
              "    .dataframe tbody tr th:only-of-type {\n",
              "        vertical-align: middle;\n",
              "    }\n",
              "\n",
              "    .dataframe tbody tr th {\n",
              "        vertical-align: top;\n",
              "    }\n",
              "\n",
              "    .dataframe thead th {\n",
              "        text-align: right;\n",
              "    }\n",
              "</style>\n",
              "<table border=\"1\" class=\"dataframe\">\n",
              "  <thead>\n",
              "    <tr style=\"text-align: right;\">\n",
              "      <th></th>\n",
              "      <th>Etat</th>\n",
              "      <th>Inland</th>\n",
              "      <th>International</th>\n",
              "      <th>Kultur</th>\n",
              "      <th>Panorama</th>\n",
              "      <th>Sport</th>\n",
              "      <th>Web</th>\n",
              "      <th>Wirtschaft</th>\n",
              "      <th>Wissenschaft</th>\n",
              "    </tr>\n",
              "  </thead>\n",
              "  <tbody>\n",
              "    <tr>\n",
              "      <th>0</th>\n",
              "      <td>-1.246303</td>\n",
              "      <td>2.165673</td>\n",
              "      <td>-1.116495</td>\n",
              "      <td>-1.765686</td>\n",
              "      <td>-0.496776</td>\n",
              "      <td>-1.936629</td>\n",
              "      <td>-0.564982</td>\n",
              "      <td>4.745736</td>\n",
              "      <td>-1.065999</td>\n",
              "    </tr>\n",
              "    <tr>\n",
              "      <th>1</th>\n",
              "      <td>-1.048553</td>\n",
              "      <td>-1.501588</td>\n",
              "      <td>-0.883474</td>\n",
              "      <td>-1.832461</td>\n",
              "      <td>-0.932395</td>\n",
              "      <td>6.013526</td>\n",
              "      <td>-1.149155</td>\n",
              "      <td>-1.175344</td>\n",
              "      <td>-1.375613</td>\n",
              "    </tr>\n",
              "    <tr>\n",
              "      <th>2</th>\n",
              "      <td>-0.315572</td>\n",
              "      <td>-0.960655</td>\n",
              "      <td>-0.957032</td>\n",
              "      <td>-1.571495</td>\n",
              "      <td>-1.350365</td>\n",
              "      <td>-2.017533</td>\n",
              "      <td>5.953548</td>\n",
              "      <td>-0.292041</td>\n",
              "      <td>-0.866429</td>\n",
              "    </tr>\n",
              "    <tr>\n",
              "      <th>3</th>\n",
              "      <td>-1.085535</td>\n",
              "      <td>-1.567847</td>\n",
              "      <td>-0.826758</td>\n",
              "      <td>-1.800891</td>\n",
              "      <td>-0.636021</td>\n",
              "      <td>5.930137</td>\n",
              "      <td>-1.195616</td>\n",
              "      <td>-1.261313</td>\n",
              "      <td>-1.393840</td>\n",
              "    </tr>\n",
              "    <tr>\n",
              "      <th>4</th>\n",
              "      <td>-1.028808</td>\n",
              "      <td>-1.209813</td>\n",
              "      <td>6.033928</td>\n",
              "      <td>-1.352837</td>\n",
              "      <td>-0.140306</td>\n",
              "      <td>-1.330870</td>\n",
              "      <td>-0.569556</td>\n",
              "      <td>-0.307684</td>\n",
              "      <td>-1.286445</td>\n",
              "    </tr>\n",
              "    <tr>\n",
              "      <th>...</th>\n",
              "      <td>...</td>\n",
              "      <td>...</td>\n",
              "      <td>...</td>\n",
              "      <td>...</td>\n",
              "      <td>...</td>\n",
              "      <td>...</td>\n",
              "      <td>...</td>\n",
              "      <td>...</td>\n",
              "      <td>...</td>\n",
              "    </tr>\n",
              "    <tr>\n",
              "      <th>1023</th>\n",
              "      <td>0.221346</td>\n",
              "      <td>-1.229265</td>\n",
              "      <td>-1.224683</td>\n",
              "      <td>-1.400338</td>\n",
              "      <td>-1.309340</td>\n",
              "      <td>-2.240077</td>\n",
              "      <td>5.789686</td>\n",
              "      <td>0.240703</td>\n",
              "      <td>-1.236409</td>\n",
              "    </tr>\n",
              "    <tr>\n",
              "      <th>1024</th>\n",
              "      <td>-0.861510</td>\n",
              "      <td>4.993564</td>\n",
              "      <td>0.650322</td>\n",
              "      <td>-1.765656</td>\n",
              "      <td>-0.244199</td>\n",
              "      <td>-1.658149</td>\n",
              "      <td>-0.877266</td>\n",
              "      <td>0.471486</td>\n",
              "      <td>-1.234420</td>\n",
              "    </tr>\n",
              "    <tr>\n",
              "      <th>1025</th>\n",
              "      <td>-0.954487</td>\n",
              "      <td>-1.386584</td>\n",
              "      <td>-0.909206</td>\n",
              "      <td>-1.684109</td>\n",
              "      <td>-0.585073</td>\n",
              "      <td>5.869841</td>\n",
              "      <td>-1.212807</td>\n",
              "      <td>-1.411802</td>\n",
              "      <td>-1.318690</td>\n",
              "    </tr>\n",
              "    <tr>\n",
              "      <th>1026</th>\n",
              "      <td>-1.029463</td>\n",
              "      <td>-1.563712</td>\n",
              "      <td>-0.991201</td>\n",
              "      <td>-1.817411</td>\n",
              "      <td>-0.898136</td>\n",
              "      <td>6.012200</td>\n",
              "      <td>-1.102147</td>\n",
              "      <td>-1.260115</td>\n",
              "      <td>-1.293819</td>\n",
              "    </tr>\n",
              "    <tr>\n",
              "      <th>1027</th>\n",
              "      <td>-0.285568</td>\n",
              "      <td>-0.856206</td>\n",
              "      <td>-0.827411</td>\n",
              "      <td>-1.597542</td>\n",
              "      <td>-1.230848</td>\n",
              "      <td>-1.982947</td>\n",
              "      <td>5.927756</td>\n",
              "      <td>-0.554186</td>\n",
              "      <td>-0.813078</td>\n",
              "    </tr>\n",
              "  </tbody>\n",
              "</table>\n",
              "<p>1028 rows × 9 columns</p>\n",
              "</div>"
            ],
            "text/plain": [
              "          Etat    Inland  International  ...       Web  Wirtschaft  Wissenschaft\n",
              "0    -1.246303  2.165673      -1.116495  ... -0.564982    4.745736     -1.065999\n",
              "1    -1.048553 -1.501588      -0.883474  ... -1.149155   -1.175344     -1.375613\n",
              "2    -0.315572 -0.960655      -0.957032  ...  5.953548   -0.292041     -0.866429\n",
              "3    -1.085535 -1.567847      -0.826758  ... -1.195616   -1.261313     -1.393840\n",
              "4    -1.028808 -1.209813       6.033928  ... -0.569556   -0.307684     -1.286445\n",
              "...        ...       ...            ...  ...       ...         ...           ...\n",
              "1023  0.221346 -1.229265      -1.224683  ...  5.789686    0.240703     -1.236409\n",
              "1024 -0.861510  4.993564       0.650322  ... -0.877266    0.471486     -1.234420\n",
              "1025 -0.954487 -1.386584      -0.909206  ... -1.212807   -1.411802     -1.318690\n",
              "1026 -1.029463 -1.563712      -0.991201  ... -1.102147   -1.260115     -1.293819\n",
              "1027 -0.285568 -0.856206      -0.827411  ...  5.927756   -0.554186     -0.813078\n",
              "\n",
              "[1028 rows x 9 columns]"
            ]
          },
          "metadata": {},
          "execution_count": 43
        }
      ]
    },
    {
      "cell_type": "code",
      "metadata": {
        "id": "YGjePotsPX2c"
      },
      "source": [
        "# preds.to_csv(\"data/predictions.csv\", index=False)"
      ],
      "execution_count": null,
      "outputs": []
    },
    {
      "cell_type": "code",
      "metadata": {
        "id": "g0p501p2bn8W"
      },
      "source": [
        "pred_s = pd.DataFrame(model_outputs).idxmax(axis=1)"
      ],
      "execution_count": 44,
      "outputs": []
    },
    {
      "cell_type": "code",
      "metadata": {
        "id": "Y92ATriIeqDR",
        "colab": {
          "base_uri": "https://localhost:8080/"
        },
        "outputId": "886e7d17-59cf-4690-92a6-c55690bde8e8"
      },
      "source": [
        "import sklearn.metrics as skm\n",
        "skm.confusion_matrix(test_df.labels, pred_s)"
      ],
      "execution_count": 45,
      "outputs": [
        {
          "output_type": "execute_result",
          "data": {
            "text/plain": [
              "array([[ 54,   3,   1,   1,   2,   1,   3,   2,   0],\n",
              "       [  1,  85,   2,   2,   6,   0,   0,   4,   2],\n",
              "       [  2,   1, 130,   0,  10,   2,   1,   4,   1],\n",
              "       [  1,   2,   1,  47,   1,   0,   0,   0,   2],\n",
              "       [  1,   6,  10,   2, 138,   0,   1,   6,   4],\n",
              "       [  0,   0,   0,   0,   2, 118,   0,   0,   0],\n",
              "       [  1,   1,   1,   0,   0,   0, 159,   5,   1],\n",
              "       [  0,   4,   2,   0,   6,   0,   2, 125,   2],\n",
              "       [  0,   1,   3,   0,   1,   1,   0,   1,  50]])"
            ]
          },
          "metadata": {},
          "execution_count": 45
        }
      ]
    },
    {
      "cell_type": "code",
      "metadata": {
        "id": "O4Og3hgmcuHZ",
        "colab": {
          "base_uri": "https://localhost:8080/"
        },
        "outputId": "31a04062-ff20-433c-9398-c729e670ff4f"
      },
      "source": [
        "print(skm.classification_report(test_df.labels, pred_s, target_names=le.classes_))"
      ],
      "execution_count": 47,
      "outputs": [
        {
          "output_type": "stream",
          "name": "stdout",
          "text": [
            "               precision    recall  f1-score   support\n",
            "\n",
            "         Etat       0.90      0.81      0.85        67\n",
            "       Inland       0.83      0.83      0.83       102\n",
            "International       0.87      0.86      0.86       151\n",
            "       Kultur       0.90      0.87      0.89        54\n",
            "     Panorama       0.83      0.82      0.83       168\n",
            "        Sport       0.97      0.98      0.98       120\n",
            "          Web       0.96      0.95      0.95       168\n",
            "   Wirtschaft       0.85      0.89      0.87       141\n",
            " Wissenschaft       0.81      0.88      0.84        57\n",
            "\n",
            "     accuracy                           0.88      1028\n",
            "    macro avg       0.88      0.88      0.88      1028\n",
            " weighted avg       0.88      0.88      0.88      1028\n",
            "\n"
          ]
        }
      ]
    }
  ]
}