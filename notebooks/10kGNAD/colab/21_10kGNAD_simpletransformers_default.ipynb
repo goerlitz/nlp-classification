{
  "nbformat": 4,
  "nbformat_minor": 0,
  "metadata": {
    "colab": {
      "name": "21_10kGNAD_simpletransformers_default.ipynb",
      "provenance": [],
      "collapsed_sections": [],
      "authorship_tag": "ABX9TyNAQWStnz9dRbdX0cm9bImR",
      "include_colab_link": true
    },
    "kernelspec": {
      "name": "python3",
      "display_name": "Python 3"
    },
    "language_info": {
      "name": "python"
    },
    "accelerator": "GPU"
  },
  "cells": [
    {
      "cell_type": "markdown",
      "metadata": {
        "id": "view-in-github",
        "colab_type": "text"
      },
      "source": [
        "<a href=\"https://colab.research.google.com/github/goerlitz/nlp-classification/blob/main/notebooks/10kGNAD/colab/21_10kGNAD_simpletransformers_default.ipynb\" target=\"_parent\"><img src=\"https://colab.research.google.com/assets/colab-badge.svg\" alt=\"Open In Colab\"/></a>"
      ]
    },
    {
      "cell_type": "markdown",
      "metadata": {
        "id": "BfF1tsgcZm8o"
      },
      "source": [
        "# Classifying German News Articles with SimpleTransformers\n",
        "\n",
        "## Objectives\n",
        "\n",
        "1. Train a text classifier with transfer learning based on a pretrained German transformer model.\n",
        "2. Keep the implementation simple (just a few lines of code) by using the SimpleTransformers library. It also has sensible default model settings.\n",
        "\n",
        "\n",
        "## Approach\n",
        "\n",
        "Use following pretrained models on the 10k German News Articles dataset to classify 9 news topics.\n",
        "\n",
        "* `distilbert-base-german-cased`\n",
        "* `deepset/gbert-base`\n",
        "* `deepset/gelectra-large`\n",
        "\n",
        "## Learnings\n",
        "\n",
        "..."
      ]
    },
    {
      "cell_type": "markdown",
      "metadata": {
        "id": "H4GaTz-bO6ik"
      },
      "source": [
        "## Prerequisites"
      ]
    },
    {
      "cell_type": "code",
      "metadata": {
        "id": "q2bN0o_9nq-Y"
      },
      "source": [
        "# model_type = \"distilbert\"\n",
        "# model_name = \"distilbert-base-german-cased\"\n",
        "\n",
        "# model_type = \"bert\"\n",
        "# model_name = \"deepset/gbert-base\"\n",
        "\n",
        "model_type = \"electra\"\n",
        "model_name = \"deepset/gelectra-large\"\n",
        "\n",
        "project_name = \"10kgnad_default__\" + model_name.replace(\"/\", \"_\")"
      ],
      "execution_count": 5,
      "outputs": []
    },
    {
      "cell_type": "code",
      "metadata": {
        "colab": {
          "base_uri": "https://localhost:8080/"
        },
        "id": "l0PiC_x9NjC3",
        "outputId": "168fe871-ed2e-4890-cc81-c9231a320650"
      },
      "source": [
        "gpu_info = !nvidia-smi\n",
        "gpu_info = '\\n'.join(gpu_info)\n",
        "if gpu_info.find('failed') >= 0:\n",
        "  print('Select the Runtime > \"Change runtime type\" menu to enable a GPU accelerator, ')\n",
        "  print('and then re-execute this cell.')\n",
        "else:\n",
        "  print(gpu_info)"
      ],
      "execution_count": 6,
      "outputs": [
        {
          "output_type": "stream",
          "text": [
            "Tue Jun 15 21:51:53 2021       \n",
            "+-----------------------------------------------------------------------------+\n",
            "| NVIDIA-SMI 465.27       Driver Version: 460.32.03    CUDA Version: 11.2     |\n",
            "|-------------------------------+----------------------+----------------------+\n",
            "| GPU  Name        Persistence-M| Bus-Id        Disp.A | Volatile Uncorr. ECC |\n",
            "| Fan  Temp  Perf  Pwr:Usage/Cap|         Memory-Usage | GPU-Util  Compute M. |\n",
            "|                               |                      |               MIG M. |\n",
            "|===============================+======================+======================|\n",
            "|   0  Tesla V100-SXM2...  Off  | 00000000:00:04.0 Off |                    0 |\n",
            "| N/A   36C    P0    26W / 300W |      0MiB / 16160MiB |      0%      Default |\n",
            "|                               |                      |                  N/A |\n",
            "+-------------------------------+----------------------+----------------------+\n",
            "                                                                               \n",
            "+-----------------------------------------------------------------------------+\n",
            "| Processes:                                                                  |\n",
            "|  GPU   GI   CI        PID   Type   Process name                  GPU Memory |\n",
            "|        ID   ID                                                   Usage      |\n",
            "|=============================================================================|\n",
            "|  No running processes found                                                 |\n",
            "+-----------------------------------------------------------------------------+\n"
          ],
          "name": "stdout"
        }
      ]
    },
    {
      "cell_type": "code",
      "metadata": {
        "colab": {
          "base_uri": "https://localhost:8080/"
        },
        "id": "UFuf6ZDEZ2Xo",
        "outputId": "1ba5d796-352b-4844-afb8-3b66bc7a0a66"
      },
      "source": [
        "# install transformers\n",
        "!pip install -q -U tqdm==4.47.0 transformers simpletransformers >/dev/null\n",
        "\n",
        "# check installed version\n",
        "!pip freeze | grep transformers\n",
        "!pip freeze | grep torch\n",
        "# simpletransformers==0.61.6\n",
        "# transformers==4.6.1\n",
        "# torch==1.8.1+cu101"
      ],
      "execution_count": 7,
      "outputs": [
        {
          "output_type": "stream",
          "text": [
            "\u001b[31mERROR: google-colab 1.0.0 has requirement ipykernel~=4.10, but you'll have ipykernel 5.5.5 which is incompatible.\u001b[0m\n",
            "simpletransformers==0.61.6\n",
            "transformers==4.6.1\n",
            "torch==1.8.1+cu101\n",
            "torchsummary==1.5.1\n",
            "torchtext==0.9.1\n",
            "torchvision==0.9.1+cu101\n"
          ],
          "name": "stdout"
        }
      ]
    },
    {
      "cell_type": "code",
      "metadata": {
        "id": "Wa36sieXlzjQ"
      },
      "source": [
        "import numpy as np\n",
        "import pandas as pd\n",
        "from pathlib import Path\n",
        "import os\n",
        "\n",
        "from simpletransformers.classification import ClassificationModel\n",
        "from transformers import AutoTokenizer\n",
        "from transformers import logging\n",
        "import wandb\n",
        "\n",
        "# hide progress bar when downloading tokenizers - a workaround!\n",
        "logging.get_verbosity = lambda : logging.NOTSET\n",
        "\n",
        "# disable transformer warnings like \"Some weights of the model checkpoint\"\n",
        "logging.set_verbosity_error()\n",
        "\n",
        "# disable logging of wandb\n",
        "os.environ[\"WANDB_SILENT\"] = \"true\""
      ],
      "execution_count": 8,
      "outputs": []
    },
    {
      "cell_type": "markdown",
      "metadata": {
        "id": "AsTaSRJekM0L"
      },
      "source": [
        "## Download Data\n",
        "\n",
        "Using the [10k German News Articles Dataset](https://tblock.github.io/10kGNAD/)"
      ]
    },
    {
      "cell_type": "code",
      "metadata": {
        "id": "pf-3EEDYXlhh",
        "colab": {
          "base_uri": "https://localhost:8080/"
        },
        "outputId": "35a5feef-8577-4c46-f045-548f362de009"
      },
      "source": [
        "%env DIR=data\n",
        "\n",
        "!mkdir -p $DIR\n",
        "!wget -nc https://github.com/tblock/10kGNAD/blob/master/train.csv?raw=true -nv -O $DIR/train.csv\n",
        "!wget -nc https://github.com/tblock/10kGNAD/blob/master/test.csv?raw=true -nv -O $DIR/test.csv\n",
        "!ls -lAh $DIR | cut -d \" \" -f 5-"
      ],
      "execution_count": 9,
      "outputs": [
        {
          "output_type": "stream",
          "text": [
            "env: DIR=data\n",
            "2021-06-15 21:52:27 URL:https://raw.githubusercontent.com/tblock/10kGNAD/master/train.csv [24405789/24405789] -> \"data/train.csv\" [1]\n",
            "2021-06-15 21:52:29 URL:https://raw.githubusercontent.com/tblock/10kGNAD/master/test.csv [2755020/2755020] -> \"data/test.csv\" [1]\n",
            "\n",
            "2.7M Jun 15 21:52 test.csv\n",
            " 24M Jun 15 21:52 train.csv\n"
          ],
          "name": "stdout"
        }
      ]
    },
    {
      "cell_type": "markdown",
      "metadata": {
        "id": "XuLSIj9NkXAG"
      },
      "source": [
        "## Import Data"
      ]
    },
    {
      "cell_type": "code",
      "metadata": {
        "id": "fL2RFkuaaQug"
      },
      "source": [
        "data_dir = Path(\"data/\")\n",
        "\n",
        "train_file = data_dir / 'train.csv'\n",
        "test_file = data_dir / 'test.csv'\n",
        "\n",
        "def read_csv_10kGNAD(filepath: Path, columns=[\"labels\", \"text\"]) -> pd.DataFrame:\n",
        "    \"\"\"Load 10kGNAD csv file, handling its specific file format.\"\"\"\n",
        "    f = pd.read_csv(filepath, sep=\";\", quotechar=\"'\", names=columns)\n",
        "    return f"
      ],
      "execution_count": 10,
      "outputs": []
    },
    {
      "cell_type": "code",
      "metadata": {
        "id": "pFMweinxRnAT",
        "colab": {
          "base_uri": "https://localhost:8080/",
          "height": 224
        },
        "outputId": "17296855-9c1a-4d70-d835-bf90e408c51d"
      },
      "source": [
        "train_df = read_csv_10kGNAD(data_dir / 'train.csv')\n",
        "print(train_df.shape[0], 'articles')\n",
        "display(train_df.head())"
      ],
      "execution_count": 11,
      "outputs": [
        {
          "output_type": "stream",
          "text": [
            "9245 articles\n"
          ],
          "name": "stdout"
        },
        {
          "output_type": "display_data",
          "data": {
            "text/html": [
              "<div>\n",
              "<style scoped>\n",
              "    .dataframe tbody tr th:only-of-type {\n",
              "        vertical-align: middle;\n",
              "    }\n",
              "\n",
              "    .dataframe tbody tr th {\n",
              "        vertical-align: top;\n",
              "    }\n",
              "\n",
              "    .dataframe thead th {\n",
              "        text-align: right;\n",
              "    }\n",
              "</style>\n",
              "<table border=\"1\" class=\"dataframe\">\n",
              "  <thead>\n",
              "    <tr style=\"text-align: right;\">\n",
              "      <th></th>\n",
              "      <th>labels</th>\n",
              "      <th>text</th>\n",
              "    </tr>\n",
              "  </thead>\n",
              "  <tbody>\n",
              "    <tr>\n",
              "      <th>0</th>\n",
              "      <td>Sport</td>\n",
              "      <td>21-Jähriger fällt wohl bis Saisonende aus. Wie...</td>\n",
              "    </tr>\n",
              "    <tr>\n",
              "      <th>1</th>\n",
              "      <td>Kultur</td>\n",
              "      <td>Erfundene Bilder zu Filmen, die als verloren g...</td>\n",
              "    </tr>\n",
              "    <tr>\n",
              "      <th>2</th>\n",
              "      <td>Web</td>\n",
              "      <td>Der frischgekürte CEO Sundar Pichai setzt auf ...</td>\n",
              "    </tr>\n",
              "    <tr>\n",
              "      <th>3</th>\n",
              "      <td>Wirtschaft</td>\n",
              "      <td>Putin: \"Einigung, dass wir Menge auf Niveau vo...</td>\n",
              "    </tr>\n",
              "    <tr>\n",
              "      <th>4</th>\n",
              "      <td>Inland</td>\n",
              "      <td>Estland sieht den künftigen österreichischen P...</td>\n",
              "    </tr>\n",
              "  </tbody>\n",
              "</table>\n",
              "</div>"
            ],
            "text/plain": [
              "       labels                                               text\n",
              "0       Sport  21-Jähriger fällt wohl bis Saisonende aus. Wie...\n",
              "1      Kultur  Erfundene Bilder zu Filmen, die als verloren g...\n",
              "2         Web  Der frischgekürte CEO Sundar Pichai setzt auf ...\n",
              "3  Wirtschaft  Putin: \"Einigung, dass wir Menge auf Niveau vo...\n",
              "4      Inland  Estland sieht den künftigen österreichischen P..."
            ]
          },
          "metadata": {
            "tags": []
          }
        }
      ]
    },
    {
      "cell_type": "code",
      "metadata": {
        "id": "hhCGAswmBG5u",
        "colab": {
          "base_uri": "https://localhost:8080/",
          "height": 224
        },
        "outputId": "e40b2b84-16a2-4f85-acc6-0d2e8ca393c1"
      },
      "source": [
        "test_df = read_csv_10kGNAD(data_dir / 'test.csv')\n",
        "print(test_df.shape[0], 'articles')\n",
        "display(test_df.head())"
      ],
      "execution_count": 12,
      "outputs": [
        {
          "output_type": "stream",
          "text": [
            "1028 articles\n"
          ],
          "name": "stdout"
        },
        {
          "output_type": "display_data",
          "data": {
            "text/html": [
              "<div>\n",
              "<style scoped>\n",
              "    .dataframe tbody tr th:only-of-type {\n",
              "        vertical-align: middle;\n",
              "    }\n",
              "\n",
              "    .dataframe tbody tr th {\n",
              "        vertical-align: top;\n",
              "    }\n",
              "\n",
              "    .dataframe thead th {\n",
              "        text-align: right;\n",
              "    }\n",
              "</style>\n",
              "<table border=\"1\" class=\"dataframe\">\n",
              "  <thead>\n",
              "    <tr style=\"text-align: right;\">\n",
              "      <th></th>\n",
              "      <th>labels</th>\n",
              "      <th>text</th>\n",
              "    </tr>\n",
              "  </thead>\n",
              "  <tbody>\n",
              "    <tr>\n",
              "      <th>0</th>\n",
              "      <td>Wirtschaft</td>\n",
              "      <td>Die Gewerkschaft GPA-djp lanciert den \"All-in-...</td>\n",
              "    </tr>\n",
              "    <tr>\n",
              "      <th>1</th>\n",
              "      <td>Sport</td>\n",
              "      <td>Franzosen verteidigen 2:1-Führung – Kritische ...</td>\n",
              "    </tr>\n",
              "    <tr>\n",
              "      <th>2</th>\n",
              "      <td>Web</td>\n",
              "      <td>Neues Video von Designern macht im Netz die Ru...</td>\n",
              "    </tr>\n",
              "    <tr>\n",
              "      <th>3</th>\n",
              "      <td>Sport</td>\n",
              "      <td>23-jähriger Brasilianer muss vier Spiele pausi...</td>\n",
              "    </tr>\n",
              "    <tr>\n",
              "      <th>4</th>\n",
              "      <td>International</td>\n",
              "      <td>Aufständische verwendeten Chemikalie bei Gefec...</td>\n",
              "    </tr>\n",
              "  </tbody>\n",
              "</table>\n",
              "</div>"
            ],
            "text/plain": [
              "          labels                                               text\n",
              "0     Wirtschaft  Die Gewerkschaft GPA-djp lanciert den \"All-in-...\n",
              "1          Sport  Franzosen verteidigen 2:1-Führung – Kritische ...\n",
              "2            Web  Neues Video von Designern macht im Netz die Ru...\n",
              "3          Sport  23-jähriger Brasilianer muss vier Spiele pausi...\n",
              "4  International  Aufständische verwendeten Chemikalie bei Gefec..."
            ]
          },
          "metadata": {
            "tags": []
          }
        }
      ]
    },
    {
      "cell_type": "markdown",
      "metadata": {
        "id": "oFgSEkulaNq3"
      },
      "source": [
        "## Prepare Data for Model Training\n",
        "\n",
        "There are a few requiremenf for feeding training data into SimpleTransformers:\n",
        "\n",
        "* columns should be labeled `labels` and `text` (already done when reading the data)\n",
        "* labels must be encoded as int values (starting at `0`!)\n",
        "\n",
        "Additionally, we can handle imbalanced datasets by\n",
        "\n",
        "* computing class weights for training"
      ]
    },
    {
      "cell_type": "markdown",
      "metadata": {
        "id": "asYfSgYXCxQt"
      },
      "source": [
        "### Label Encoding"
      ]
    },
    {
      "cell_type": "code",
      "metadata": {
        "id": "LMPJFyt8C-Z5",
        "colab": {
          "base_uri": "https://localhost:8080/",
          "height": 206
        },
        "outputId": "739c662e-b35b-4e03-e3a9-cb69dc22c440"
      },
      "source": [
        "from sklearn.preprocessing import LabelEncoder\n",
        "\n",
        "def encode_labels(train: pd.DataFrame, test: pd.DataFrame):\n",
        "    le = LabelEncoder()\n",
        "\n",
        "    train_labels = le.fit_transform(train.labels)\n",
        "    test_labels = le.transform(test.labels)\n",
        "\n",
        "    return train.assign(labels=train_labels), test.assign(labels=test_labels)\n",
        "\n",
        "train_df, test_df = encode_labels(train_df, test_df)\n",
        "display(train_df.head())"
      ],
      "execution_count": 13,
      "outputs": [
        {
          "output_type": "display_data",
          "data": {
            "text/html": [
              "<div>\n",
              "<style scoped>\n",
              "    .dataframe tbody tr th:only-of-type {\n",
              "        vertical-align: middle;\n",
              "    }\n",
              "\n",
              "    .dataframe tbody tr th {\n",
              "        vertical-align: top;\n",
              "    }\n",
              "\n",
              "    .dataframe thead th {\n",
              "        text-align: right;\n",
              "    }\n",
              "</style>\n",
              "<table border=\"1\" class=\"dataframe\">\n",
              "  <thead>\n",
              "    <tr style=\"text-align: right;\">\n",
              "      <th></th>\n",
              "      <th>labels</th>\n",
              "      <th>text</th>\n",
              "    </tr>\n",
              "  </thead>\n",
              "  <tbody>\n",
              "    <tr>\n",
              "      <th>0</th>\n",
              "      <td>5</td>\n",
              "      <td>21-Jähriger fällt wohl bis Saisonende aus. Wie...</td>\n",
              "    </tr>\n",
              "    <tr>\n",
              "      <th>1</th>\n",
              "      <td>3</td>\n",
              "      <td>Erfundene Bilder zu Filmen, die als verloren g...</td>\n",
              "    </tr>\n",
              "    <tr>\n",
              "      <th>2</th>\n",
              "      <td>6</td>\n",
              "      <td>Der frischgekürte CEO Sundar Pichai setzt auf ...</td>\n",
              "    </tr>\n",
              "    <tr>\n",
              "      <th>3</th>\n",
              "      <td>7</td>\n",
              "      <td>Putin: \"Einigung, dass wir Menge auf Niveau vo...</td>\n",
              "    </tr>\n",
              "    <tr>\n",
              "      <th>4</th>\n",
              "      <td>1</td>\n",
              "      <td>Estland sieht den künftigen österreichischen P...</td>\n",
              "    </tr>\n",
              "  </tbody>\n",
              "</table>\n",
              "</div>"
            ],
            "text/plain": [
              "   labels                                               text\n",
              "0       5  21-Jähriger fällt wohl bis Saisonende aus. Wie...\n",
              "1       3  Erfundene Bilder zu Filmen, die als verloren g...\n",
              "2       6  Der frischgekürte CEO Sundar Pichai setzt auf ...\n",
              "3       7  Putin: \"Einigung, dass wir Menge auf Niveau vo...\n",
              "4       1  Estland sieht den künftigen österreichischen P..."
            ]
          },
          "metadata": {
            "tags": []
          }
        }
      ]
    },
    {
      "cell_type": "markdown",
      "metadata": {
        "id": "96Q4lMDDC7r0"
      },
      "source": [
        "### Computing Class Weights (not used yet)"
      ]
    },
    {
      "cell_type": "code",
      "metadata": {
        "id": "aQ4ejcR5LsDq",
        "colab": {
          "base_uri": "https://localhost:8080/",
          "height": 332
        },
        "outputId": "8294737c-1bed-433b-d86c-6935b28ff7f5"
      },
      "source": [
        "from sklearn.utils.class_weight import compute_class_weight\n",
        "\n",
        "def class_weights(labels: pd.Series) -> pd.DataFrame:\n",
        "    \"\"\"Compute class weights for imbalanced data.\"\"\"\n",
        "    uniq_labels = labels.unique()\n",
        "    counts_s = labels.value_counts().reindex(uniq_labels)\n",
        "    weights = compute_class_weight(\"balanced\", uniq_labels, labels)\n",
        "    return pd.DataFrame({\"count\": counts_s, \"weight\": weights}).sort_index()\n",
        "\n",
        "weights_df = class_weights(train_df.labels)\n",
        "display(weights_df)"
      ],
      "execution_count": 14,
      "outputs": [
        {
          "output_type": "display_data",
          "data": {
            "text/html": [
              "<div>\n",
              "<style scoped>\n",
              "    .dataframe tbody tr th:only-of-type {\n",
              "        vertical-align: middle;\n",
              "    }\n",
              "\n",
              "    .dataframe tbody tr th {\n",
              "        vertical-align: top;\n",
              "    }\n",
              "\n",
              "    .dataframe thead th {\n",
              "        text-align: right;\n",
              "    }\n",
              "</style>\n",
              "<table border=\"1\" class=\"dataframe\">\n",
              "  <thead>\n",
              "    <tr style=\"text-align: right;\">\n",
              "      <th></th>\n",
              "      <th>count</th>\n",
              "      <th>weight</th>\n",
              "    </tr>\n",
              "  </thead>\n",
              "  <tbody>\n",
              "    <tr>\n",
              "      <th>0</th>\n",
              "      <td>601</td>\n",
              "      <td>1.709188</td>\n",
              "    </tr>\n",
              "    <tr>\n",
              "      <th>1</th>\n",
              "      <td>913</td>\n",
              "      <td>1.125106</td>\n",
              "    </tr>\n",
              "    <tr>\n",
              "      <th>2</th>\n",
              "      <td>1360</td>\n",
              "      <td>0.755310</td>\n",
              "    </tr>\n",
              "    <tr>\n",
              "      <th>3</th>\n",
              "      <td>485</td>\n",
              "      <td>2.117984</td>\n",
              "    </tr>\n",
              "    <tr>\n",
              "      <th>4</th>\n",
              "      <td>1510</td>\n",
              "      <td>0.680280</td>\n",
              "    </tr>\n",
              "    <tr>\n",
              "      <th>5</th>\n",
              "      <td>1081</td>\n",
              "      <td>0.950252</td>\n",
              "    </tr>\n",
              "    <tr>\n",
              "      <th>6</th>\n",
              "      <td>1509</td>\n",
              "      <td>0.680730</td>\n",
              "    </tr>\n",
              "    <tr>\n",
              "      <th>7</th>\n",
              "      <td>1270</td>\n",
              "      <td>0.808836</td>\n",
              "    </tr>\n",
              "    <tr>\n",
              "      <th>8</th>\n",
              "      <td>516</td>\n",
              "      <td>1.990741</td>\n",
              "    </tr>\n",
              "  </tbody>\n",
              "</table>\n",
              "</div>"
            ],
            "text/plain": [
              "   count    weight\n",
              "0    601  1.709188\n",
              "1    913  1.125106\n",
              "2   1360  0.755310\n",
              "3    485  2.117984\n",
              "4   1510  0.680280\n",
              "5   1081  0.950252\n",
              "6   1509  0.680730\n",
              "7   1270  0.808836\n",
              "8    516  1.990741"
            ]
          },
          "metadata": {
            "tags": []
          }
        }
      ]
    },
    {
      "cell_type": "markdown",
      "metadata": {
        "id": "xclwtZOSanXP"
      },
      "source": [
        "## Model Setup"
      ]
    },
    {
      "cell_type": "code",
      "metadata": {
        "id": "feusxakWaTCB"
      },
      "source": [
        "from sklearn.metrics import f1_score, accuracy_score, precision_score, recall_score\n",
        "\n",
        "def f1_multiclass(labels, preds):\n",
        "    return f1_score(labels, preds, average='macro')\n",
        "\n",
        "def precision_multiclass(labels, preds):\n",
        "    return precision_score(labels, preds, average='macro')\n",
        "\n",
        "def recall_multiclass(labels, preds):\n",
        "    return recall_score(labels, preds, average='macro')"
      ],
      "execution_count": 15,
      "outputs": []
    },
    {
      "cell_type": "code",
      "metadata": {
        "id": "KtUSAQvepKpm"
      },
      "source": [
        "train_args = {\n",
        "    \"reprocess_input_data\": True,\n",
        "    \"overwrite_output_dir\": True,\n",
        "    \"evaluate_during_training\": True,\n",
        "    \"evaluate_during_training_steps\": 200,    \n",
        "    \"evaluate_during_training_verbose\": False,\n",
        "    \"evaluate_during_training_silent\": True,\n",
        "    \"silent\": True,\n",
        "    \"fp16\": False,\n",
        "    \"wandb_project\": project_name,\n",
        "    }"
      ],
      "execution_count": 16,
      "outputs": []
    },
    {
      "cell_type": "code",
      "metadata": {
        "id": "ZKZgDXsgcHFt"
      },
      "source": [
        "def train():\n",
        "\n",
        "    # need to create a tokenizer first and adjust train args with lower case setting\n",
        "    tokenizer = AutoTokenizer.from_pretrained(model_name)\n",
        "    args = {**train_args, **{ \"do_lower_case\": tokenizer.do_lower_case }}\n",
        "\n",
        "    # Create a ClassificationModel\n",
        "    model = ClassificationModel(model_type,\n",
        "                                model_name,\n",
        "                                num_labels=train_df.labels.nunique(),\n",
        "                                args=args)\n",
        "\n",
        "\n",
        "    steps, details = model.train_model(train_df,\n",
        "                                       eval_df=test_df,\n",
        "                                       verbose=False,\n",
        "                                       f1=f1_multiclass,\n",
        "                                       acc=accuracy_score,\n",
        "                                       precision=precision_multiclass,\n",
        "                                       recall=recall_multiclass)\n",
        "    \n",
        "    print(details)\n",
        "\n",
        "    wandb.join()"
      ],
      "execution_count": 17,
      "outputs": []
    },
    {
      "cell_type": "code",
      "metadata": {
        "id": "2xMI-XtXebnb",
        "colab": {
          "base_uri": "https://localhost:8080/",
          "height": 1000
        },
        "outputId": "b54a83a8-d369-44a8-9530-c673ea9cb3b8"
      },
      "source": [
        "while True:\n",
        "    train()"
      ],
      "execution_count": null,
      "outputs": [
        {
          "output_type": "display_data",
          "data": {
            "application/javascript": [
              "\n",
              "        window._wandbApiKey = new Promise((resolve, reject) => {\n",
              "            function loadScript(url) {\n",
              "            return new Promise(function(resolve, reject) {\n",
              "                let newScript = document.createElement(\"script\");\n",
              "                newScript.onerror = reject;\n",
              "                newScript.onload = resolve;\n",
              "                document.body.appendChild(newScript);\n",
              "                newScript.src = url;\n",
              "            });\n",
              "            }\n",
              "            loadScript(\"https://cdn.jsdelivr.net/npm/postmate/build/postmate.min.js\").then(() => {\n",
              "            const iframe = document.createElement('iframe')\n",
              "            iframe.style.cssText = \"width:0;height:0;border:none\"\n",
              "            document.body.appendChild(iframe)\n",
              "            const handshake = new Postmate({\n",
              "                container: iframe,\n",
              "                url: 'https://wandb.ai/authorize'\n",
              "            });\n",
              "            const timeout = setTimeout(() => reject(\"Couldn't auto authenticate\"), 5000)\n",
              "            handshake.then(function(child) {\n",
              "                child.on('authorize', data => {\n",
              "                    clearTimeout(timeout)\n",
              "                    resolve(data)\n",
              "                });\n",
              "            });\n",
              "            })\n",
              "        });\n",
              "    "
            ],
            "text/plain": [
              "<IPython.core.display.Javascript object>"
            ]
          },
          "metadata": {
            "tags": []
          }
        },
        {
          "output_type": "stream",
          "text": [
            "{'global_step': [200, 400, 600, 800, 1000, 1156], 'mcc': [0.7545361920457722, 0.8375471307145497, 0.8322818327528577, 0.8516413564864762, 0.8484767507837376, 0.8663262942875827], 'train_loss': [0.8192497491836548, 0.9092986583709717, 0.09124189615249634, 0.03136887028813362, 0.060369957238435745, 0.7705817818641663], 'eval_loss': [0.7561756147779235, 0.5354693738036147, 0.573098985622673, 0.5377070864431502, 0.5133395715176251, 0.4432173087153324], 'f1': [0.754437049202068, 0.8581801800422251, 0.8487465175009733, 0.8658173333504677, 0.8604546974191454, 0.8774893410319188], 'acc': [0.7840466926070039, 0.8570038910505836, 0.853112840466926, 0.8696498054474708, 0.867704280155642, 0.8832684824902723], 'precision': [0.7777216002930692, 0.8684560165686497, 0.8522688041863253, 0.8820538659254636, 0.8772959428814561, 0.8835729074604011], 'recall': [0.7566428752280703, 0.858734730162415, 0.8501070852561736, 0.8593993765299731, 0.8510796955083573, 0.8738238994918135]}\n",
            "{'global_step': [200, 400, 600, 800, 1000, 1156], 'mcc': [0.7869703793997965, 0.8426320500297293, 0.8470570592782742, 0.8680903974857, 0.8731982522815221, 0.8677476268293394], 'train_loss': [0.26157689094543457, 0.7296339273452759, 0.03516339138150215, 0.8611221313476562, 0.3588554859161377, 0.030437970533967018], 'eval_loss': [0.6768488017625587, 0.5345119693020518, 0.5443760257416456, 0.4492678433483423, 0.396774281328905, 0.3994170397794408], 'f1': [0.7837719312504962, 0.8537467036672192, 0.8586885989909631, 0.8791712571252541, 0.8837947557388695, 0.8777575670851501], 'acc': [0.8132295719844358, 0.8618677042801557, 0.8657587548638133, 0.8842412451361867, 0.8891050583657587, 0.8842412451361867], 'precision': [0.796636139515852, 0.8527869590165749, 0.8641629755940724, 0.8786647984183126, 0.8805137610995274, 0.874389100191996], 'recall': [0.7868659801683102, 0.8609301154723954, 0.8598874276060573, 0.8829861935543013, 0.8879575867305922, 0.88343998295214]}\n",
            "{'global_step': [200, 400, 600, 800, 1000, 1156], 'mcc': [0.7192970865067837, 0.7375807718241434, 0.8052939316292033, 0.8440055966455312, 0.8574808597370424, 0.8483549612134212], 'train_loss': [1.1639926433563232, 1.3364261388778687, 0.9488498568534851, 0.36363765597343445, 0.5553433299064636, 0.8048585653305054], 'eval_loss': [0.8508454334250716, 0.8320685908082843, 0.6676329581947752, 0.5491299177844857, 0.49259982473224173, 0.474508960594156], 'f1': [0.703247110721638, 0.7738701068587743, 0.8250837904290802, 0.8603193401994793, 0.868419522347689, 0.863550559292394], 'acc': [0.7538910505836576, 0.7636186770428015, 0.8278210116731517, 0.8638132295719845, 0.8754863813229572, 0.867704280155642], 'precision': [0.7508181807849112, 0.8171932634709247, 0.858796320778594, 0.8776353373735479, 0.8758481042650431, 0.8696988886495827], 'recall': [0.7067975232304002, 0.7732405155247296, 0.8143285693990858, 0.8489834947318248, 0.8644947050788309, 0.8587896679100367]}\n",
            "{'global_step': [200, 400, 600, 800, 1000, 1156], 'mcc': [0.6637192092468494, 0.8074965768074372, 0.838881271920185, 0.8541500508935966, 0.8729317078598049, 0.8731079895222924], 'train_loss': [1.1309483051300049, 1.1013609170913696, 0.09212347865104675, 0.5635176301002502, 0.04724501818418503, 0.026443714275956154], 'eval_loss': [0.8205048488092053, 0.62403437991937, 0.5525401634012543, 0.48494745955564256, 0.39620267661909264, 0.42286805948603523], 'f1': [0.6368682828907729, 0.8205263862066219, 0.8542866709814393, 0.8679785789689347, 0.8853634454741184, 0.8863764182474398], 'acc': [0.6974708171206225, 0.8317120622568094, 0.8589494163424124, 0.872568093385214, 0.8891050583657587, 0.8891050583657587], 'precision': [0.7487519662261408, 0.8422037526863568, 0.8598625081829242, 0.872863482044207, 0.8877133246185743, 0.8864417424185529], 'recall': [0.6639437475048624, 0.8120671410619313, 0.8523397217629246, 0.8657660557260829, 0.8835609974965895, 0.8874769032035358]}\n",
            "{'global_step': [200, 400, 600, 800, 1000, 1156], 'mcc': [0.7687899751356974, 0.8216733941142268, 0.8597423030052408, 0.8631895400815098, 0.8713289793227169, 0.8818843455510835], 'train_loss': [0.8264397382736206, 1.34898841381073, 0.046504873782396317, 1.562788486480713, 0.02224149741232395, 0.028050314635038376], 'eval_loss': [0.7841701948827551, 0.6232047825474147, 0.4603434339050175, 0.4399440873038861, 0.4076342256884127, 0.3850954130739551], 'f1': [0.8069144783258301, 0.8421004742035084, 0.8736047429374741, 0.8760225619104752, 0.8843354730713019, 0.8937261434535136], 'acc': [0.7957198443579766, 0.8424124513618677, 0.877431906614786, 0.8803501945525292, 0.8871595330739299, 0.896887159533074], 'precision': [0.8224988167080323, 0.8601924186967663, 0.8728502285037967, 0.8865141432290833, 0.8815910058543426, 0.8941073656671585], 'recall': [0.8085480708293191, 0.837614492383609, 0.8753512171771944, 0.8714281498933052, 0.890005769835187, 0.8940042546091542]}\n",
            "{'global_step': [200, 400, 600, 800, 1000, 1156], 'mcc': [0.7893019347185388, 0.8346885199312424, 0.8386974094713918, 0.8675479557921584, 0.8719802604636507, 0.8808228600672802], 'train_loss': [0.43961435556411743, 1.0961942672729492, 0.02369934692978859, 0.08740880340337753, 0.5075429081916809, 0.03815751522779465], 'eval_loss': [0.6686855831811594, 0.5187193041797294, 0.595488753429679, 0.4654181958067902, 0.4636741993486766, 0.4151295095523314], 'f1': [0.8088788436112099, 0.8466396878637831, 0.8583095059838737, 0.8810047463675109, 0.8832663992750742, 0.888782856929708], 'acc': [0.816147859922179, 0.8540856031128404, 0.8570038910505836, 0.8842412451361867, 0.8881322957198443, 0.8959143968871596], 'precision': [0.8215491353288624, 0.8528626637887459, 0.8716989088620798, 0.8860791527176188, 0.8866402724088701, 0.8877778076164043], 'recall': [0.8028961586907605, 0.8555361079866309, 0.8576410051886858, 0.8779567258918171, 0.8822004220622348, 0.8902590462125857]}\n",
            "{'global_step': [200, 400, 600, 800, 1000, 1156], 'mcc': [0.7717906407471021, 0.830146794830134, 0.8687523287530179, 0.8551501427367868, 0.861542465285805, 0.865171486211007], 'train_loss': [0.6604486703872681, 1.3004508018493652, 0.08599831163883209, 0.6969662308692932, 0.13226720690727234, 0.024057164788246155], 'eval_loss': [0.7605057190670523, 0.5616385615322479, 0.4746000738309104, 0.4654916028470494, 0.4713318418213275, 0.42998186994141846], 'f1': [0.7706932209482651, 0.836858451132898, 0.8841345537804712, 0.8653297313292145, 0.8728087409150359, 0.8776425546887326], 'acc': [0.7996108949416343, 0.8501945525291829, 0.8852140077821011, 0.8735408560311284, 0.8784046692607004, 0.882295719844358], 'precision': [0.8276778609322247, 0.8431955118632115, 0.8909389621803024, 0.8804241847743268, 0.8692334528377759, 0.8850264883189269], 'recall': [0.7552166960935722, 0.8443772924278794, 0.8801134945432812, 0.8552829209401113, 0.8812702809740774, 0.8717084508222707]}\n",
            "{'global_step': [200, 400, 600, 800, 1000, 1156], 'mcc': [0.8049506505132558, 0.852607361713183, 0.8292222785167536, 0.8460412732499843, 0.8586078329127305, 0.8730535833803696], 'train_loss': [0.42845845222473145, 0.6918190121650696, 0.867708146572113, 1.28632390499115, 0.9585332870483398, 0.4760248064994812], 'eval_loss': [0.6918844252016193, 0.48733815215816795, 0.5574347204709238, 0.511323284069004, 0.4567084601004572, 0.4147615429346067], 'f1': [0.8135033920585001, 0.8638806914439671, 0.8417454883413937, 0.8642048490795684, 0.8701930544214961, 0.883710452924489], 'acc': [0.8278210116731517, 0.8706225680933852, 0.8501945525291829, 0.8647859922178989, 0.8764591439688716, 0.8891050583657587], 'precision': [0.8509635256218586, 0.8688005358091397, 0.8598567053472995, 0.8710563180697662, 0.8743790209160323, 0.8809015148955446], 'recall': [0.8134531625918238, 0.8664714909391846, 0.8399475575861686, 0.8620683919809402, 0.8692710299596613, 0.8869950155272154]}\n",
            "{'global_step': [200, 400, 600, 800, 1000, 1156], 'mcc': [0.6924460376595314, 0.7904235876901903, 0.8493270302232929, 0.8375513112162051, 0.8675571449699231, 0.8766178132569589], 'train_loss': [1.4737998247146606, 0.3598196804523468, 0.02348240837454796, 0.0808679610490799, 0.07914824783802032, 0.117672860622406], 'eval_loss': [0.8814232827619065, 0.6876837158821119, 0.5277409570565982, 0.5404983142881777, 0.41023828489200553, 0.400346483573202], 'f1': [0.6945305177724902, 0.804372715022382, 0.8649850312696712, 0.857091155071475, 0.8831230605222894, 0.8920446013796988], 'acc': [0.7227626459143969, 0.8171206225680934, 0.867704280155642, 0.8570038910505836, 0.8842412451361867, 0.892023346303502], 'precision': [0.8331745401789179, 0.8408539299353914, 0.8736410676711072, 0.8670405542735579, 0.8882010440253019, 0.8892306385135282], 'recall': [0.6696595301412711, 0.783691030746167, 0.8625920744311768, 0.8544267145600382, 0.8799806726177912, 0.8959200708863846]}\n",
            "{'global_step': [200, 400, 600, 800, 1000, 1156], 'mcc': [0.7054766495013721, 0.809995639119238, 0.8381824309078041, 0.8536907890620279, 0.8640851169280589, 0.8742972211741579], 'train_loss': [1.213912010192871, 0.2460695058107376, 0.6211423277854919, 1.0338197946548462, 0.06662221997976303, 0.6056459546089172], 'eval_loss': [0.969622982738092, 0.6679138045382592, 0.5937843575438325, 0.5406827150605792, 0.45184502258261505, 0.4436736664438779], 'f1': [0.6708486812899458, 0.828708702400752, 0.8474937092297599, 0.8628351373795189, 0.87634771544192, 0.887488513907531], 'acc': [0.7383268482490273, 0.8326848249027238, 0.8570038910505836, 0.8715953307392996, 0.8813229571984436, 0.8900778210116731], 'precision': [0.7730951460453358, 0.8623032175237588, 0.8490669349298092, 0.8636020632385848, 0.8851631253924728, 0.8876629363034874], 'recall': [0.6950559620331558, 0.8121458545466045, 0.8568762363193798, 0.8690777261592109, 0.8709086739562121, 0.8888205228496663]}\n",
            "{'global_step': [200, 400, 600, 800, 1000, 1156], 'mcc': [0.8173240080275433, 0.8239042660993395, 0.8384756839517175, 0.8596274030682147, 0.8583492281875532, 0.8754103398476712], 'train_loss': [0.9631345272064209, 1.3910915851593018, 0.9269391298294067, 0.045145049691200256, 1.108579397201538, 0.7637122273445129], 'eval_loss': [0.6502323206658511, 0.556737198068421, 0.5185257210143546, 0.46690237428992987, 0.48450441467900607, 0.4061614167840444], 'f1': [0.8350203066065576, 0.8427202282758451, 0.8489186926673288, 0.8762941750871058, 0.865770079262337, 0.8866240067073246], 'acc': [0.8404669260700389, 0.8453307392996109, 0.857976653696498, 0.877431906614786, 0.8754863813229572, 0.8910505836575876], 'precision': [0.8478757036619391, 0.8492667869554845, 0.8448630923557475, 0.8759742767740399, 0.8632339158138767, 0.8862118486452673], 'recall': [0.8261736260424084, 0.8481596977665952, 0.8620062432671094, 0.8771947276645539, 0.8739649456751366, 0.8882948386763649]}\n",
            "{'global_step': [200, 400, 600, 800, 1000, 1156], 'mcc': [0.7542984744465138, 0.8253890793545036, 0.8190988908339786, 0.8527228965791589, 0.8628458973464834, 0.8773440683042482], 'train_loss': [0.3478070795536041, 0.07573599368333817, 1.7010983228683472, 0.15259858965873718, 0.027935432270169258, 0.024032268673181534], 'eval_loss': [0.718163933518321, 0.641471537797488, 0.5891089315937702, 0.48364730056577415, 0.4562941412333139, 0.41707701656909646], 'f1': [0.7442563431401599, 0.840150176783505, 0.8359407361921736, 0.8731872877042343, 0.8756279206769647, 0.8912648441874291], 'acc': [0.7801556420233463, 0.8472762645914397, 0.8414396887159533, 0.8706225680933852, 0.8803501945525292, 0.8929961089494164], 'precision': [0.7882995527059147, 0.8593155032150296, 0.846632263590255, 0.8706565200794647, 0.88306121361011, 0.8982306395353719], 'recall': [0.7739552700771175, 0.8288612532472677, 0.8320653569563442, 0.879873162262812, 0.8702387090800916, 0.8854369330167776]}\n",
            "{'global_step': [200, 400, 600, 800, 1000, 1156], 'mcc': [0.7411258502306486, 0.7653183365426363, 0.8386900741438404, 0.8406676011235306, 0.8598256125963449, 0.8629990565565384], 'train_loss': [0.689599871635437, 0.7400403022766113, 0.30513423681259155, 0.7836160659790039, 0.10660424083471298, 0.10252462327480316], 'eval_loss': [0.7137811920324038, 0.6260369307137736, 0.5484033473875634, 0.5497548385097306, 0.4740738222274438, 0.45083564482340516], 'f1': [0.69625340158642, 0.7218253813874517, 0.8448913006001963, 0.8486576974638318, 0.8689995462702301, 0.8750426194339204], 'acc': [0.769455252918288, 0.7889105058365758, 0.8589494163424124, 0.8608949416342413, 0.877431906614786, 0.8803501945525292], 'precision': [0.7818499871288682, 0.7637992060881147, 0.8598059931546175, 0.8589031105771001, 0.8689429377135776, 0.88443344834706], 'recall': [0.7403084365421522, 0.7661429655288765, 0.840675256069553, 0.8424234202293621, 0.8714594269071865, 0.8697823050389136]}\n",
            "{'global_step': [200, 400, 600, 800, 1000, 1156], 'mcc': [0.7946997338380544, 0.8118744490868303, 0.8406778210707477, 0.8589595233340728, 0.8744048586933645, 0.872109319761976], 'train_loss': [1.3776472806930542, 0.4516967535018921, 1.0626380443572998, 0.1162819191813469, 0.6502026915550232, 0.07713563740253448], 'eval_loss': [0.7346685466378234, 0.6701254799615505, 0.5098717679926591, 0.4626039338276483, 0.40609168111122856, 0.40247077693397454], 'f1': [0.8073076364575378, 0.8355157534589218, 0.8559494698851965, 0.8719513561675633, 0.8894349110565278, 0.8842180755798728], 'acc': [0.8200389105058365, 0.8336575875486382, 0.8599221789883269, 0.8764591439688716, 0.8900778210116731, 0.8881322957198443], 'precision': [0.8217550668140966, 0.8579673472108889, 0.8657655067872173, 0.8745616120771877, 0.8899553749572697, 0.887192743651233], 'recall': [0.8062156331450194, 0.8282967204573454, 0.8547660162159411, 0.8735630761369301, 0.8907544368996206, 0.8843954147100497]}\n",
            "{'global_step': [200, 400, 600, 800, 1000, 1156], 'mcc': [0.7517850026542418, 0.7952456840278381, 0.8323307274950678, 0.8387014929549176, 0.8589610963742986, 0.8708345576462019], 'train_loss': [0.7082883715629578, 0.9506242275238037, 1.513932704925537, 0.7970252633094788, 0.040861938148736954, 1.4409079551696777], 'eval_loss': [0.7614787097933681, 0.7162747292006894, 0.6301007243884049, 0.4874816994189985, 0.45549517355917035, 0.4263827800678537], 'f1': [0.7750631254264555, 0.8194295913013693, 0.8489729214674309, 0.8528437037475719, 0.8750951065874504, 0.884091890966584], 'acc': [0.7782101167315175, 0.8190661478599222, 0.8521400778210116, 0.857976653696498, 0.8764591439688716, 0.8871595330739299], 'precision': [0.8045649638105375, 0.8287700838396203, 0.8511557214138854, 0.8466233305690699, 0.8757615181922808, 0.883409771220743], 'recall': [0.7780662047998244, 0.8243616853517991, 0.8558798689388465, 0.8659662005242532, 0.8778451672212493, 0.8861054798316483]}\n",
            "{'global_step': [200, 400, 600, 800, 1000, 1156], 'mcc': [0.690099527154832, 0.8419350528936573, 0.8489279464716126, 0.8673121493092729, 0.859907545285036, 0.8608631363090525], 'train_loss': [0.873014509677887, 0.4193735420703888, 0.3556394875049591, 0.026027997955679893, 1.280761480331421, 1.093120813369751], 'eval_loss': [0.8867904854028724, 0.5273635641548985, 0.614477585365837, 0.44727574983366236, 0.48686283639119576, 0.4394524300312118], 'f1': [0.6545976026021021, 0.8549731476631872, 0.8621538685215216, 0.8789452687256324, 0.8757196791685831, 0.8754988561099368], 'acc': [0.7217898832684825, 0.8618677042801557, 0.867704280155642, 0.8842412451361867, 0.877431906614786, 0.8784046692607004], 'precision': [0.739031077526845, 0.8571583204434731, 0.875136124991688, 0.8897778621899887, 0.8797760517087969, 0.877375526577072], 'recall': [0.6725109023105001, 0.8555112608907022, 0.8539601472688507, 0.8709157764016917, 0.8742975092041944, 0.8756818480422075]}\n",
            "{'global_step': [200, 400, 600, 800, 1000, 1156], 'mcc': [0.7435846737007549, 0.8063255036340131, 0.8543049350261266, 0.8559017125015386, 0.8652658421544047, 0.8741222773123815], 'train_loss': [0.740495502948761, 0.6283749341964722, 0.28669172525405884, 0.14734137058258057, 0.02245139330625534, 1.437069058418274], 'eval_loss': [0.7648178701714952, 0.6154956564076187, 0.4902187839959019, 0.4503437073886857, 0.4448012476498189, 0.4138226035996809], 'f1': [0.769684204395773, 0.8184227400875677, 0.871211305026447, 0.8694425861481655, 0.8729823886178995, 0.886419298176808], 'acc': [0.7675097276264592, 0.8297665369649806, 0.872568093385214, 0.8735408560311284, 0.882295719844358, 0.8900778210116731], 'precision': [0.8576668355557935, 0.8293613958800523, 0.8700147902390326, 0.8680470365038756, 0.8797262051906134, 0.8892177083174477], 'recall': [0.7474093384878929, 0.8266439857820925, 0.8746730338748181, 0.8743272533246154, 0.8718437726772624, 0.8850807303052641]}\n",
            "{'global_step': [200, 400, 600, 800, 1000, 1156], 'mcc': [0.7934168138588623, 0.8266330699569284, 0.8425596333985298, 0.8560016301780126, 0.8698521675888907, 0.8728521897960465], 'train_loss': [0.5986267328262329, 0.15434211492538452, 0.5771984457969666, 0.47513172030448914, 0.2263365089893341, 0.04754054546356201], 'eval_loss': [0.6775971254290536, 0.5820550191136755, 0.5601269762183345, 0.4600330376492221, 0.4142626316553747, 0.38689206998304343], 'f1': [0.8088738663908657, 0.839576658506205, 0.861486170124971, 0.8693695515600346, 0.8834817514673253, 0.886335225263354], 'acc': [0.8190661478599222, 0.8482490272373541, 0.8618677042801557, 0.8735408560311284, 0.8861867704280155, 0.8891050583657587], 'precision': [0.8231146615992118, 0.8549855439028762, 0.8653594685541637, 0.8585120883153609, 0.8934106128050472, 0.8931231498044876], 'recall': [0.8078998998829682, 0.833940096636931, 0.8622424720483722, 0.8850077373138995, 0.8772651904889148, 0.8804769239820514]}\n",
            "{'global_step': [200, 400, 600, 800, 1000, 1156], 'mcc': [0.7335365324103436, 0.8312807450025907, 0.8505993204312933, 0.8551098270245451, 0.8500736574621045, 0.8599079016731801], 'train_loss': [0.9176366925239563, 1.340666651725769, 1.4338692426681519, 0.4600101411342621, 0.686223566532135, 0.12449252605438232], 'eval_loss': [0.804683678545231, 0.5828605963047161, 0.5627757828365001, 0.4774750821768891, 0.4702095962671, 0.4485340092129024], 'f1': [0.6846484180869142, 0.8498132270747676, 0.8678547476318224, 0.8714030676921437, 0.862822969000223, 0.8706825294645788], 'acc': [0.7626459143968871, 0.8521400778210116, 0.8686770428015564, 0.872568093385214, 0.8686770428015564, 0.877431906614786], 'precision': [0.7915563028088972, 0.8538806242546007, 0.8698580461998133, 0.8738007661081889, 0.870643232871183, 0.8726753979062093], 'recall': [0.7104046872134586, 0.8490936794806495, 0.8699291326160036, 0.8741557878501873, 0.8590670102539595, 0.8713315080842728]}\n",
            "{'global_step': [200, 400, 600, 800, 1000, 1156], 'mcc': [0.7238710450256575, 0.813020185216374, 0.8347773108030043, 0.8622132007670932, 0.8742859292427322, 0.879785564017591], 'train_loss': [1.3520872592926025, 1.179014801979065, 0.7228793501853943, 0.18592827022075653, 0.40145161747932434, 1.067044973373413], 'eval_loss': [0.799765467412712, 0.5683166734845371, 0.5322390880811122, 0.47792298526524807, 0.41458067307320906, 0.37922968011522706], 'f1': [0.7570072156256529, 0.8354631279998164, 0.852365966704173, 0.872174601301897, 0.8904082909660258, 0.8946665387956902], 'acc': [0.7558365758754864, 0.835603112840467, 0.8540856031128404, 0.8793774319066148, 0.8900778210116731, 0.8949416342412452], 'precision': [0.7878037639665858, 0.846425308049454, 0.8709432994021961, 0.8721049372721014, 0.8894617893872082, 0.8939288572510518], 'recall': [0.7590874575242734, 0.8380991104683014, 0.847619722958057, 0.8759942795096503, 0.8935765961669119, 0.8965446037187963]}\n",
            "{'global_step': [200, 400, 600, 800, 1000, 1156], 'mcc': [0.7326223829369012, 0.8298533836454445, 0.837585491915499, 0.8459977128755454, 0.8556427041897489, 0.8698582636436557], 'train_loss': [0.9269052743911743, 1.2434834241867065, 0.30732113122940063, 0.19962796568870544, 0.21680156886577606, 0.8088000416755676], 'eval_loss': [0.8334908997134645, 0.5769066841218823, 0.5484344891828391, 0.5099197805303243, 0.4803961008902668, 0.4477675217817458], 'f1': [0.7389089262616154, 0.8496732871797107, 0.8567900435487933, 0.8609038137434144, 0.8695934976480371, 0.8813359950496051], 'acc': [0.7597276264591439, 0.8511673151750972, 0.857976653696498, 0.8647859922178989, 0.8735408560311284, 0.8861867704280155], 'precision': [0.8365601656591809, 0.8506773564917344, 0.8772792881575038, 0.8669088914258896, 0.8735471253714658, 0.8820504149729481], 'recall': [0.7186932416278415, 0.8507947606662953, 0.8442758851415836, 0.8622474040526614, 0.8690932442394931, 0.8820976960964743]}\n",
            "{'global_step': [200, 400, 600, 800, 1000, 1156], 'mcc': [0.747639716429652, 0.7993030399571819, 0.8312565560302169, 0.8554495935658292, 0.8600667315892551, 0.8577809628050929], 'train_loss': [2.0737850666046143, 0.5874637365341187, 0.4540923237800598, 0.7194764614105225, 0.34972506761550903, 0.17191128432750702], 'eval_loss': [0.8337890558926634, 0.6345841839274232, 0.5698560346351114, 0.5025806787113348, 0.45886144312748384, 0.4351245847768908], 'f1': [0.7510907899770325, 0.8201066023939025, 0.8465243648751273, 0.8706769495579374, 0.8763641287991172, 0.872067463264616], 'acc': [0.7762645914396887, 0.8219844357976653, 0.8511673151750972, 0.8735408560311284, 0.877431906614786, 0.8754863813229572], 'precision': [0.8090288572763259, 0.8221547799389818, 0.8446594751034504, 0.8766255162055079, 0.8863701467380185, 0.8752969859265284], 'recall': [0.7616878526641411, 0.8297632537471968, 0.8617995786584807, 0.8677185347655433, 0.8712165414559894, 0.8715201022299293]}\n",
            "{'global_step': [200, 400, 600, 800, 1000, 1156], 'mcc': [0.7567864887217269, 0.8232888604833636, 0.841642522380484, 0.8599928905527975, 0.8699869998471358, 0.8741248371108508], 'train_loss': [0.8898417949676514, 0.06794647127389908, 0.1685226559638977, 0.1418313831090927, 0.9947013854980469, 1.3656256198883057], 'eval_loss': [0.7504342687568923, 0.6433313533721506, 0.5201112286209367, 0.46399738044701805, 0.4273159124982334, 0.4204860578702633], 'f1': [0.7678268020830548, 0.8416220612675092, 0.8555996034200469, 0.8707078481274562, 0.8783307676962234, 0.8851811385370781], 'acc': [0.7782101167315175, 0.8453307392996109, 0.8618677042801557, 0.877431906614786, 0.8861867704280155, 0.8900778210116731], 'precision': [0.8174575984522324, 0.8493920841639439, 0.8711549127314154, 0.8662345767232564, 0.8831541470842458, 0.8851050089941734], 'recall': [0.7759866238211015, 0.8382184258234608, 0.8451461957744679, 0.8779583612573962, 0.8764160277671638, 0.8858408516512389]}\n",
            "{'global_step': [200, 400, 600, 800, 1000, 1156], 'mcc': [0.7826354358131786, 0.8386764549603505, 0.834035352982179, 0.8321783359060582, 0.8585758063159824, 0.8611344280348641], 'train_loss': [0.46917763352394104, 0.4175342917442322, 0.06746742129325867, 0.11659935861825943, 0.08830469846725464, 0.027874818071722984], 'eval_loss': [0.6892997309450031, 0.5300632871745169, 0.5235460519415233, 0.518932467340961, 0.450072982846651, 0.43611405425986577], 'f1': [0.7992755456854815, 0.8553729536264871, 0.8498114510803726, 0.8375249449322067, 0.8710409689262305, 0.8744667931457363], 'acc': [0.8083657587548638, 0.8589494163424124, 0.8540856031128404, 0.853112840466926, 0.8764591439688716, 0.8784046692607004], 'precision': [0.81877136565793, 0.8533210877677977, 0.8486307377594242, 0.8626057351883443, 0.8777466606141995, 0.874864767554135], 'recall': [0.8048198709095697, 0.8602947803169815, 0.8586929324254374, 0.8273341815217089, 0.8663502883742237, 0.8761941912065585]}\n",
            "{'global_step': [200, 400, 600, 800, 1000, 1156], 'mcc': [0.7507225263497412, 0.8498980920721384, 0.8502462559815499, 0.83400002687279, 0.875423157092254, 0.8773866059990448], 'train_loss': [0.682914674282074, 0.7737371921539307, 0.952782392501831, 0.14558684825897217, 0.029547402635216713, 0.07693486660718918], 'eval_loss': [0.752032055815523, 0.4950264274149902, 0.4677089559592942, 0.5059080567326426, 0.45363234461451224, 0.4241526596926788], 'f1': [0.7399980395958609, 0.8673016946723355, 0.8629581702225062, 0.8393302487442623, 0.8859468188697073, 0.8880664056829326], 'acc': [0.7801556420233463, 0.8686770428015564, 0.8686770428015564, 0.8540856031128404, 0.8910505836575876, 0.8929961089494164], 'precision': [0.7951386872154432, 0.8716707977561927, 0.8811511624406433, 0.8675962223201541, 0.8817717021204351, 0.8895816170452636], 'recall': [0.753655025303278, 0.8653316300507853, 0.852324198991735, 0.8301529065816281, 0.8913222300376427, 0.8871972781216175]}\n",
            "{'global_step': [200, 400, 600, 800, 1000, 1156], 'mcc': [0.7652408185421671, 0.8301271272508642, 0.8425674963590043, 0.8510760078655764, 0.8631033341808172, 0.8685914608822812], 'train_loss': [0.5591786503791809, 0.7876991033554077, 1.1172083616256714, 2.1650567054748535, 0.43148645758628845, 0.9111997485160828], 'eval_loss': [0.7049174513812213, 0.5856689669249594, 0.5704601640098317, 0.5311186790191965, 0.4410960696088944, 0.4368021537354866], 'f1': [0.7832400736903704, 0.8402411477002883, 0.8598421289225886, 0.8663752500790979, 0.879592646972472, 0.8817509135491325], 'acc': [0.7937743190661478, 0.8511673151750972, 0.8618677042801557, 0.8696498054474708, 0.8803501945525292, 0.8852140077821011], 'precision': [0.8045078007153821, 0.8502996339654252, 0.8588197447373648, 0.8636671085904761, 0.8813758601356192, 0.8834033888198436], 'recall': [0.7842634307667684, 0.8362395608104988, 0.8641817805832271, 0.8707658078614382, 0.8790374266013703, 0.8809984367822933]}\n",
            "{'global_step': [200, 400, 600, 800, 1000, 1156], 'mcc': [0.778602391831672, 0.8240554186282977, 0.8377066690557885, 0.8507586038936961, 0.8697166563035089, 0.8741279356881758], 'train_loss': [0.9233384132385254, 0.3721354901790619, 0.689182698726654, 0.16617605090141296, 0.38242894411087036, 0.01280486024916172], 'eval_loss': [0.6958802096372427, 0.576940826320833, 0.5572545809685722, 0.4913756792079802, 0.4235947228924826, 0.4078472609768889], 'f1': [0.7986011955367409, 0.8466891770235347, 0.8536782741233101, 0.8623832496315642, 0.8839811161839459, 0.8867628889968553], 'acc': [0.8035019455252919, 0.8443579766536965, 0.8570038910505836, 0.8696498054474708, 0.8861867704280155, 0.8900778210116731], 'precision': [0.8342965658646726, 0.8498261650213359, 0.8522556481042932, 0.8673634334897158, 0.8864960917694291, 0.8880602568397156], 'recall': [0.7891817180685111, 0.8540921388757658, 0.8625138107452053, 0.8610607601464582, 0.8828774468468156, 0.8860648937183817]}\n"
          ],
          "name": "stdout"
        },
        {
          "output_type": "stream",
          "text": [
            "/usr/local/lib/python3.7/dist-packages/sklearn/metrics/_classification.py:1272: UndefinedMetricWarning: Precision is ill-defined and being set to 0.0 in labels with no predicted samples. Use `zero_division` parameter to control this behavior.\n",
            "  _warn_prf(average, modifier, msg_start, len(result))\n"
          ],
          "name": "stderr"
        },
        {
          "output_type": "stream",
          "text": [
            "{'global_step': [200, 400, 600, 800, 1000, 1156], 'mcc': [0.7204902844066637, 0.8190498945895615, 0.8525430386609827, 0.8713928143610861, 0.8720873866374537, 0.8754467946571509], 'train_loss': [0.9709653258323669, 0.43063291907310486, 0.20738773047924042, 0.818006157875061, 0.043065089732408524, 0.01651296205818653], 'eval_loss': [0.9064495444528816, 0.6337928389625032, 0.4927543645161529, 0.43306925596828144, 0.4243406290188432, 0.413127032447924], 'f1': [0.6772647694343612, 0.817118344346651, 0.8593892421735334, 0.8824781712196804, 0.8834343923803277, 0.8876462330610112], 'acc': [0.75, 0.8414396887159533, 0.8706225680933852, 0.8871595330739299, 0.8881322957198443, 0.8910505836575876], 'precision': [0.6822177558029672, 0.842956452840205, 0.8607651120127588, 0.8840663686366712, 0.8822604248034857, 0.8867229247749606], 'recall': [0.7028311995336561, 0.8100441030761326, 0.8656010843857583, 0.8847866478456768, 0.8855426729409595, 0.8899664654555601]}\n",
            "{'global_step': [200, 400, 600, 800, 1000, 1156], 'mcc': [0.790476267205919, 0.8230263563909942, 0.8471933061302522, 0.8508810878377855, 0.8809081793256146, 0.8830827764774902], 'train_loss': [0.3728931248188019, 0.9865778684616089, 0.5609432458877563, 0.48335322737693787, 1.0503488779067993, 0.6691464185714722], 'eval_loss': [0.6678089487922284, 0.570792350975811, 0.48701135063356205, 0.502106767414903, 0.4174852025326948, 0.395510687182347], 'f1': [0.7849381881187912, 0.8415479673214908, 0.8583279574595205, 0.8666019114819631, 0.8924514222737459, 0.8940231987039744], 'acc': [0.8151750972762646, 0.8443579766536965, 0.8667315175097277, 0.8686770428015564, 0.8959143968871596, 0.8978599221789884], 'precision': [0.8348415743454608, 0.8437671907240036, 0.879570652517032, 0.8869231830259235, 0.8901141478066692, 0.8990920378332414], 'recall': [0.7897647154948627, 0.8504565845221702, 0.8436211287227865, 0.8581344317787677, 0.8961081550509671, 0.890351712768972]}\n",
            "{'global_step': [200, 400, 600, 800, 1000, 1156], 'mcc': [0.7139666703748528, 0.791395557278679, 0.8382377588782546, 0.8518792208606456, 0.8675020951697949, 0.8620263728764525], 'train_loss': [0.6537026762962341, 0.331683486700058, 0.3963681757450104, 0.7153258323669434, 0.7657580971717834, 0.7184625864028931], 'eval_loss': [0.8600647880356441, 0.6181435976321845, 0.5803269148378294, 0.5261663448339863, 0.46214761309210184, 0.44097857433551735], 'f1': [0.6961401682140678, 0.7476648960119099, 0.8573523601933188, 0.8669188987171911, 0.8803336659661455, 0.8760902297060154], 'acc': [0.7441634241245136, 0.8171206225680934, 0.8570038910505836, 0.8706225680933852, 0.8842412451361867, 0.8793774319066148], 'precision': [0.8169459619191444, 0.7888917052704313, 0.8649749057779688, 0.8763266340732208, 0.8779365884406587, 0.8796625838124048], 'recall': [0.6936103276604535, 0.7627582186298665, 0.8580983496986412, 0.8611539702826632, 0.883285882139867, 0.8747798309864945]}\n",
            "{'global_step': [200, 400, 600, 800, 1000, 1156], 'mcc': [0.7838962077675702, 0.8276073121586905, 0.8297549100959165, 0.8527064656683593, 0.8754206888622738, 0.8697505405582003], 'train_loss': [0.854417085647583, 0.8199549317359924, 0.32300278544425964, 0.3692113161087036, 0.6315945386886597, 0.48244625329971313], 'eval_loss': [0.7777900626493055, 0.6613174071030099, 0.5540349504137917, 0.49176528296873784, 0.41836313892502425, 0.4113866488572008], 'f1': [0.8001344304123318, 0.8439119354607791, 0.8511220270108291, 0.8671542946804576, 0.8865628762663055, 0.8817568603669378], 'acc': [0.811284046692607, 0.8492217898832685, 0.8511673151750972, 0.8706225680933852, 0.8910505836575876, 0.8861867704280155], 'precision': [0.8303780291550147, 0.8679532064319614, 0.854279475593194, 0.8659605180978116, 0.885670925150973, 0.8835967202264386], 'recall': [0.7878872360963374, 0.8299036127362033, 0.8505169028184292, 0.873372012876977, 0.8893354994792639, 0.8820100935093094]}\n",
            "{'global_step': [200, 400, 600, 800, 1000, 1156], 'mcc': [0.6576412224660639, 0.7632644118085726, 0.836129744586285, 0.8642244026122575, 0.8575390589402491, 0.8575907893962879], 'train_loss': [1.2115755081176758, 1.2811825275421143, 0.07248836010694504, 0.9902804493904114, 0.030625155195593834, 0.018212467432022095], 'eval_loss': [0.9809559572690217, 0.8558518140064192, 0.5140905683903501, 0.4696559443088003, 0.4809599400880609, 0.46411252470123904], 'f1': [0.6384376564192968, 0.7741769761281498, 0.8571035268876842, 0.8756915527053548, 0.8711635547314169, 0.8718566823444482], 'acc': [0.6799610894941635, 0.7879377431906615, 0.8560311284046692, 0.8813229571984436, 0.8754863813229572, 0.8754863813229572], 'precision': [0.7779739510931347, 0.8206561494669148, 0.8685166367475669, 0.8730987536938721, 0.8746260554621523, 0.8786075850027271], 'recall': [0.6650183045658414, 0.7792725102593784, 0.8521467775593877, 0.8799212332346364, 0.8700613849948892, 0.8679503756457804]}\n",
            "{'global_step': [200, 400, 600, 800, 1000, 1156], 'mcc': [0.7876745300522534, 0.8218848598510569, 0.866920911310283, 0.8637655333054481, 0.8688042468093251, 0.8707198248589113], 'train_loss': [0.154653400182724, 0.15092799067497253, 0.8553667068481445, 0.027504881843924522, 0.23400868475437164, 0.950208842754364], 'eval_loss': [0.7124846762464953, 0.5908177321589039, 0.4983734978261844, 0.45582405167321366, 0.4017970777196131, 0.4028987018608077], 'f1': [0.8134090897799809, 0.8359146667540781, 0.8747774891958957, 0.8743509383707901, 0.8837175311215579, 0.8835079247448339], 'acc': [0.8132295719844358, 0.8433852140077821, 0.8832684824902723, 0.8803501945525292, 0.8852140077821011, 0.8871595330739299], 'precision': [0.842475947784291, 0.8735812148641432, 0.8759599001501835, 0.8816077974918409, 0.8886121979258298, 0.8881348671940577], 'recall': [0.8008223871152689, 0.8199822979815365, 0.882128162308712, 0.8754191359086235, 0.880838967714776, 0.8801974621098396]}\n",
            "{'global_step': [200, 400, 600, 800, 1000, 1156], 'mcc': [0.745010213482641, 0.8210220085742983, 0.8211409330481083, 0.8294541804396679, 0.8597597611906266, 0.8664937611922302], 'train_loss': [0.8883820176124573, 0.11803773045539856, 1.3911736011505127, 0.6839667558670044, 0.7746690511703491, 0.03305409848690033], 'eval_loss': [0.7828573698336764, 0.6213623550828806, 0.6026228567830814, 0.6112077503443457, 0.4583186598768992, 0.44700240865060986], 'f1': [0.7518588765862546, 0.8372388921505112, 0.8415074071533772, 0.8448772997161301, 0.8770842362968577, 0.8824420844325935], 'acc': [0.77431906614786, 0.8414396887159533, 0.8433852140077821, 0.8501945525291829, 0.877431906614786, 0.8832684824902723], 'precision': [0.7874159782317643, 0.8459188054642645, 0.8674015266041162, 0.8646401693564548, 0.8810339393940286, 0.8824767195149347], 'recall': [0.7640265583475957, 0.8438647148039894, 0.8264758963336205, 0.8382422617162817, 0.8754230181267554, 0.8839867751638607]}\n",
            "{'global_step': [200, 400, 600, 800, 1000, 1156], 'mcc': [0.7485745345368415, 0.8216875698864007, 0.8427673985478866, 0.8554539163034205, 0.8676850251737972, 0.8752455797306932], 'train_loss': [0.6670345067977905, 0.7202281355857849, 0.322780579328537, 0.029927445575594902, 0.036804091185331345, 0.03169173374772072], 'eval_loss': [0.7378465436225714, 0.6133270857696848, 0.5069036355545354, 0.5273763835141363, 0.42021746126314, 0.3878349900072397], 'f1': [0.7569454558707748, 0.838370685631888, 0.8489902823811497, 0.873352984151683, 0.8787818395982695, 0.8873639328357519], 'acc': [0.7791828793774319, 0.8443579766536965, 0.8618677042801557, 0.8735408560311284, 0.8842412451361867, 0.8910505836575876], 'precision': [0.7903831138444544, 0.8494833488717715, 0.8583432618929747, 0.8817648684897301, 0.874452632674675, 0.8898038722027598], 'recall': [0.7474912371005954, 0.8327949085203551, 0.8490560141368401, 0.868782474093889, 0.8846483518360784, 0.8861444919852481]}\n",
            "{'global_step': [200, 400, 600, 800, 1000, 1156], 'mcc': [0.8018422050123455, 0.802247783018204, 0.8526174398538516, 0.8718860905419027, 0.8728570230725068, 0.8774318921196643], 'train_loss': [0.4177634119987488, 0.2570658028125763, 0.9363616108894348, 0.04034902900457382, 0.08070313185453415, 1.0144087076187134], 'eval_loss': [0.6541341052267903, 0.6751182644173156, 0.5260294335930384, 0.45607223020967586, 0.43095876867052657, 0.399651648895454], 'f1': [0.821870175495831, 0.815253589098055, 0.8662303941008874, 0.8867398779644725, 0.882977486345291, 0.8880529134844577], 'acc': [0.8268482490272373, 0.8268482490272373, 0.8706225680933852, 0.8881322957198443, 0.8891050583657587, 0.8929961089494164], 'precision': [0.8382218923903869, 0.8551857755753668, 0.871242780571716, 0.8894016994846711, 0.8955710983473537, 0.8889984389270406], 'recall': [0.8174461184145239, 0.7974255279319706, 0.8672007324981313, 0.8853029370978034, 0.873928571489557, 0.8876450484450032]}\n",
            "{'global_step': [200, 400, 600, 800, 1000, 1156], 'mcc': [0.7874721440553997, 0.7458556537708741, 0.8487765033954762, 0.8555356715719088, 0.8774352374379338, 0.8742079373666377], 'train_loss': [0.45587942004203796, 1.1815199851989746, 0.49118900299072266, 0.17346294224262238, 0.10309940576553345, 0.3735467791557312], 'eval_loss': [0.6858460663478504, 0.8259200920141483, 0.5220323565177792, 0.44398755313063315, 0.368080505819688, 0.3876570328247062], 'f1': [0.8033976884066127, 0.7744002914539612, 0.8604769625612048, 0.8699591552852562, 0.8887207977573273, 0.8859162283431528], 'acc': [0.8093385214007782, 0.7665369649805448, 0.867704280155642, 0.8735408560311284, 0.8929961089494164, 0.8900778210116731], 'precision': [0.822559659371234, 0.8344685379851076, 0.8804292967899069, 0.8733590997067934, 0.8895862070788253, 0.8928129088800938], 'recall': [0.8144906381305214, 0.7755920935017886, 0.8496731126832129, 0.8701441969625024, 0.8891472137697727, 0.8816935903262861]}\n",
            "{'global_step': [200, 400, 600, 800, 1000, 1156], 'mcc': [0.7792817531027703, 0.8122064343103906, 0.8419111283503394, 0.866602036406737, 0.8606077989098576, 0.8740810292324275], 'train_loss': [0.22625672817230225, 0.7397782206535339, 0.09235179424285889, 1.271315336227417, 0.10037465393543243, 0.05283944681286812], 'eval_loss': [0.6676192607643993, 0.6403087893601997, 0.541983393750103, 0.47084538905715295, 0.45698054132679866, 0.4110303495093718], 'f1': [0.795428384677695, 0.8343101128909097, 0.8615337284134978, 0.8838551211420227, 0.8728501492678019, 0.8858356463717812], 'acc': [0.8035019455252919, 0.8346303501945526, 0.8608949416342413, 0.8832684824902723, 0.8784046692607004, 0.8900778210116731], 'precision': [0.8176498785834271, 0.8455166623426842, 0.8589104381544022, 0.8916819880941433, 0.8853709964531172, 0.8873548930865212], 'recall': [0.8039014015157039, 0.8349046102148756, 0.8689598336723812, 0.8782066075358019, 0.8637534144350005, 0.885429136778228]}\n",
            "{'global_step': [200, 400, 600, 800, 1000, 1156], 'mcc': [0.7232585835550812, 0.8477902328335885, 0.843276592469839, 0.8500104906356566, 0.8752165417974715, 0.8785924651148057], 'train_loss': [0.49604472517967224, 0.9049079418182373, 0.43424755334854126, 1.8649111986160278, 0.7138240337371826, 0.018701639026403427], 'eval_loss': [0.7386567170998847, 0.5277223955810995, 0.5057585380047329, 0.5156404619689944, 0.4384805319412041, 0.4049336491513622], 'f1': [0.6864784257865345, 0.8589696436396719, 0.8589720135617357, 0.8615043039305008, 0.8887607918530379, 0.8868469076216835], 'acc': [0.75, 0.8667315175097277, 0.8628404669260701, 0.8686770428015564, 0.8910505836575876, 0.8939688715953308], 'precision': [0.7169114547321692, 0.8700891013467512, 0.8681113374936196, 0.8706362547820903, 0.8956507169948195, 0.8876030886845694], 'recall': [0.7372401775218642, 0.8526650559065452, 0.8536778999847444, 0.8577181168145629, 0.8836383033733108, 0.8871486251578341]}\n",
            "{'global_step': [200, 400, 600, 800, 1000, 1156], 'mcc': [0.8001872015620711, 0.8182769201910487, 0.8410975403443436, 0.8566793924140925, 0.8778028832454273, 0.8785476700443261], 'train_loss': [0.5568109750747681, 0.9516562819480896, 0.04980690777301788, 0.35104572772979736, 0.5690965056419373, 0.7722882032394409], 'eval_loss': [0.6614981906474099, 0.5410360995708972, 0.5772139423981656, 0.457478017344089, 0.4140893732695732, 0.4018054691381579], 'f1': [0.8158828050173873, 0.8365370101895363, 0.8617833069858349, 0.8730314915042539, 0.8925283567747715, 0.8924357708880795], 'acc': [0.8239299610894941, 0.8394941634241245, 0.8589494163424124, 0.8745136186770428, 0.8929961089494164, 0.8939688715953308], 'precision': [0.8294275982010159, 0.8556839195664021, 0.8712725912666444, 0.868552407488314, 0.8884384471731201, 0.8917101908014923], 'recall': [0.8168792953156041, 0.83578784217685, 0.8649303740172548, 0.8797990156087699, 0.8983828239109811, 0.8935615615543154]}\n",
            "{'global_step': [200, 400, 600, 800, 1000, 1156], 'mcc': [0.7921489516999471, 0.843902708442878, 0.8314243560598665, 0.8574028826271518, 0.8668970572015052, 0.8720238937738778], 'train_loss': [0.9891297817230225, 0.5096022486686707, 0.8777502775192261, 0.01988033950328827, 1.3499137163162231, 0.010548390448093414], 'eval_loss': [0.6568018675659054, 0.5294522184503171, 0.586612823888544, 0.5155216765106302, 0.4736290485598147, 0.4129181615791695], 'f1': [0.8017677712095488, 0.8529090796619382, 0.8554123903937985, 0.8665418776476098, 0.8772077969402018, 0.884659303472216], 'acc': [0.8180933852140078, 0.8638132295719845, 0.8521400778210116, 0.8754863813229572, 0.8832684824902723, 0.8881322957198443], 'precision': [0.8156544500346771, 0.872314306077151, 0.8798928147188534, 0.8695748784896911, 0.8722673098272843, 0.8853510809089504], 'recall': [0.8053454701247177, 0.843399974710566, 0.838638862956818, 0.86495737963189, 0.8847711896162838, 0.8848989114512249]}\n",
            "{'global_step': [200, 400, 600, 800, 1000, 1156], 'mcc': [0.7301179888190332, 0.8233434685546935, 0.8539524662316171, 0.8462864395246136, 0.8829810439968756, 0.8775436465919078], 'train_loss': [1.425260305404663, 0.4562523365020752, 0.3951711356639862, 1.1585943698883057, 0.07144589722156525, 1.2537615299224854], 'eval_loss': [0.7763909318650416, 0.5475623824222143, 0.4992293185994838, 0.5421527627740026, 0.42075150730738115, 0.4139421103565499], 'f1': [0.727940179969635, 0.82323001337293, 0.8680087409814976, 0.8686394930565968, 0.8935752591165946, 0.8907215973604714], 'acc': [0.7616731517509727, 0.8443579766536965, 0.872568093385214, 0.8647859922178989, 0.8978599221789884, 0.8929961089494164], 'precision': [0.77616611535595, 0.8504731781946787, 0.8771500599838088, 0.87319029596101, 0.897282695029349, 0.88962621909084], 'recall': [0.729742058391869, 0.8272257786839651, 0.8615936974870072, 0.8711018096318381, 0.8910674395431408, 0.8927317370623867]}\n",
            "{'global_step': [200, 400, 600, 800, 1000, 1156], 'mcc': [0.6372928574019872, 0.8169775819230762, 0.8394273346172767, 0.8477205505616094, 0.8662612697052384, 0.8807943407928612], 'train_loss': [0.5625947117805481, 0.3177936375141144, 0.48790520429611206, 0.9099200963973999, 0.30842605233192444, 0.27036139369010925], 'eval_loss': [0.9786764238924943, 0.64721303057763, 0.5974882598677578, 0.47550425233767013, 0.4663459292302529, 0.42238568706625657], 'f1': [0.6363967542544323, 0.8274732463302578, 0.8497826380186451, 0.863160646287299, 0.8779544792545604, 0.892414822552958], 'acc': [0.669260700389105, 0.8375486381322957, 0.857976653696498, 0.8667315175097277, 0.8832684824902723, 0.8959143968871596], 'precision': [0.7585881407810162, 0.8408880504421876, 0.8592395217754905, 0.8658797381466417, 0.8821651655854578, 0.8942476464310078], 'recall': [0.6400923191184923, 0.8348012474486575, 0.8538858012440617, 0.8633622920380927, 0.8755195803090201, 0.8911671448504824]}\n",
            "{'global_step': [200, 400, 600, 800, 1000, 1156], 'mcc': [0.6377475147003401, 0.8234244169705923, 0.8336416060100884, 0.8574570381523918, 0.8586085682923283, 0.8651815656678825], 'train_loss': [1.1601914167404175, 0.37472593784332275, 0.8283588290214539, 0.8980323076248169, 0.9682766199111938, 0.0593363456428051], 'eval_loss': [0.9403497545525085, 0.5992617118497228, 0.5431764611844406, 0.5060826425346755, 0.4609183446511395, 0.45613834477758913], 'f1': [0.637218553499157, 0.8460496277579268, 0.8420053147137123, 0.8700040536306631, 0.8726947642476444, 0.875440394819216], 'acc': [0.6702334630350194, 0.8453307392996109, 0.8540856031128404, 0.8754863813229572, 0.8764591439688716, 0.882295719844358], 'precision': [0.6828882483777428, 0.8563014914370692, 0.8482035069885098, 0.8783667465365211, 0.8811521493312171, 0.8757455595514959], 'recall': [0.6618337441141744, 0.8412463109998851, 0.8481952506491948, 0.865292057483401, 0.8671218339893092, 0.8759261665565634]}\n",
            "{'global_step': [200, 400, 600, 800, 1000, 1156], 'mcc': [0.6845973619288738, 0.8132390046190006, 0.7860430903272629, 0.8584133386247034, 0.8796567986448259, 0.875292133949127], 'train_loss': [0.7785091996192932, 1.2245633602142334, 0.3012275695800781, 0.8349570631980896, 0.3727323114871979, 0.02878720685839653], 'eval_loss': [0.8693513447462127, 0.5934116284456826, 0.7624510624987442, 0.47194832095573114, 0.4154044577505353, 0.4236827118813183], 'f1': [0.6389663156820552, 0.8302478586510393, 0.8102382656637815, 0.8718180506940053, 0.8866640132553385, 0.8828229249940696], 'acc': [0.7217898832684825, 0.835603112840467, 0.806420233463035, 0.8764591439688716, 0.8949416342412452, 0.8910505836575876], 'precision': [0.7181683404973369, 0.8384363846222389, 0.8467059756611458, 0.8831326352172421, 0.8883889060778902, 0.8832607396798117], 'recall': [0.6622169400382221, 0.8336387969663521, 0.8139971511064883, 0.8639002586351471, 0.8857639230901814, 0.8832068776309845]}\n",
            "{'global_step': [200, 400, 600, 800, 1000, 1156], 'mcc': [0.7834955078207734, 0.8346133391086621, 0.8457991525335258, 0.8469153431950655, 0.8676205981803932, 0.8676055256571173], 'train_loss': [0.5931453704833984, 0.2340107560157776, 0.6293375492095947, 0.7038514018058777, 0.033197078853845596, 0.6905451416969299], 'eval_loss': [0.6987838302702867, 0.5722296299456164, 0.5534811798598647, 0.476400111953533, 0.42842909004972424, 0.42232017375009007], 'f1': [0.7825597515749148, 0.8491039798787727, 0.8614314640628983, 0.8621554101860018, 0.8813296931320864, 0.8806622813429019], 'acc': [0.8103112840466926, 0.8550583657587548, 0.8647859922178989, 0.8657587548638133, 0.8842412451361867, 0.8842412451361867], 'precision': [0.8125674015193394, 0.8567687174072789, 0.8694880446284161, 0.8611079782604091, 0.8847135668291171, 0.8825197770380954], 'recall': [0.7880471049861139, 0.8476649041096006, 0.8581830897085783, 0.8675772165471912, 0.8798913501536876, 0.8802140136461409]}\n",
            "{'global_step': [200, 400, 600, 800, 1000, 1156], 'mcc': [0.739790655890718, 0.8392414258337056, 0.8360441849127052, 0.8573781538200209, 0.8667828556085674, 0.8731514946966774], 'train_loss': [1.2382304668426514, 0.8036866188049316, 0.950807511806488, 0.05199383944272995, 0.07240601629018784, 0.1763399988412857], 'eval_loss': [0.8716255266421525, 0.5253939020570165, 0.6024191364674836, 0.4545098296980294, 0.4517928561946565, 0.4231256176970264], 'f1': [0.7477567930600462, 0.8562089843707561, 0.852843717411764, 0.8701600741355129, 0.8782319938623737, 0.8849631423371808], 'acc': [0.7714007782101168, 0.8589494163424124, 0.8550583657587548, 0.8754863813229572, 0.8832684824902723, 0.8891050583657587], 'precision': [0.782646804890619, 0.8645759013825425, 0.8534698094342662, 0.873457213386425, 0.8874903930524857, 0.8842693743619263], 'recall': [0.7378815626764103, 0.857003882482863, 0.8624221725054143, 0.868529788015145, 0.8735523692465276, 0.8866450725280651]}\n",
            "{'global_step': [200, 400, 600, 800, 1000, 1156], 'mcc': [0.825809975753144, 0.8281085853067667, 0.8567832511565643, 0.8589998636326895, 0.8680660125144841, 0.8740453743116261], 'train_loss': [1.4235365390777588, 0.5123131275177002, 0.45692989230155945, 0.023185474798083305, 0.028596241027116776, 0.05003293603658676], 'eval_loss': [0.6033965361903805, 0.588696354696917, 0.6099060298658388, 0.461688899110223, 0.462656438942681, 0.429837991606242], 'f1': [0.8412048911885458, 0.8408989918894112, 0.868481083217813, 0.8723783091053643, 0.8824857687689899, 0.8873774169138855], 'acc': [0.8472762645914397, 0.8492217898832685, 0.8745136186770428, 0.8764591439688716, 0.8842412451361867, 0.8900778210116731], 'precision': [0.8341328986032587, 0.853865656383088, 0.8728584866774877, 0.8726202093042629, 0.8895430289777936, 0.8908672309975665], 'recall': [0.8512410959610682, 0.8366043692828758, 0.8685044038884862, 0.8762114700365888, 0.8802326250326649, 0.885327784195646]}\n",
            "{'global_step': [200, 400, 600, 800, 1000, 1156], 'mcc': [0.780157809914743, 0.812059220414812, 0.848823009374637, 0.852332992514632, 0.8707677237596013, 0.8763131082145584], 'train_loss': [0.3636060953140259, 0.39430028200149536, 0.981795608997345, 0.9858312606811523, 0.5601322650909424, 1.2182031869888306], 'eval_loss': [0.7125086252425992, 0.626179297115336, 0.491555614295856, 0.4594233287137377, 0.42893348037185824, 0.40915908480366303], 'f1': [0.7891134882290244, 0.8360889614131946, 0.8617296646324007, 0.865731721219861, 0.8793299916935051, 0.8838785659673312], 'acc': [0.806420233463035, 0.8326848249027238, 0.867704280155642, 0.8706225680933852, 0.8871595330739299, 0.892023346303502], 'precision': [0.8222452348398974, 0.8494986349681556, 0.8616751069712635, 0.8646357797249157, 0.8833361650061214, 0.8845048250965334], 'recall': [0.7861352214010653, 0.8396873863551826, 0.8634607654434523, 0.869589987781101, 0.8765785191456356, 0.8835934121572688]}\n",
            "{'global_step': [200, 400, 600, 800, 1000, 1156], 'mcc': [0.7797810432467922, 0.8308750643402468, 0.846886549724306, 0.865500221683903, 0.8598470297427034, 0.8699517096810222], 'train_loss': [0.8226422667503357, 1.3074729442596436, 0.059402164071798325, 0.6012604832649231, 0.1200493797659874, 0.866977334022522], 'eval_loss': [0.678229999288108, 0.5830929605362489, 0.5046523165881864, 0.4732241120276063, 0.4566221358976507, 0.4249265486692158], 'f1': [0.7920430598725468, 0.8498229504734742, 0.8589452215227005, 0.879507458336041, 0.8761512141319092, 0.8861567437567074], 'acc': [0.8054474708171206, 0.8501945525291829, 0.8657587548638133, 0.882295719844358, 0.877431906614786, 0.8861867704280155], 'precision': [0.8194212008949182, 0.8600366287535685, 0.8615045625157798, 0.8772554422524533, 0.8843422156682109, 0.8836050596996277], 'recall': [0.7912157381233766, 0.8513807002824795, 0.8629622516175541, 0.8836358880612929, 0.871577621113246, 0.890122421038794]}\n",
            "{'global_step': [200, 400, 600, 800, 1000, 1156], 'mcc': [0.7401540775519232, 0.8217031353900353, 0.8441604589886788, 0.8585335611830996, 0.8522640547839296, 0.8586361653681921], 'train_loss': [1.4008209705352783, 1.4692119359970093, 0.9907906651496887, 0.818938672542572, 0.38984599709510803, 0.035954155027866364], 'eval_loss': [0.7694911577904872, 0.5625498156503651, 0.49671333470894385, 0.48355227450356464, 0.44388007615194763, 0.45025117613750604], 'f1': [0.7454880953676836, 0.8344823885913536, 0.8585945320850477, 0.8718746613808609, 0.869401545009845, 0.8687691930320894], 'acc': [0.7723735408560312, 0.8443579766536965, 0.8638132295719845, 0.8764591439688716, 0.8706225680933852, 0.8764591439688716], 'precision': [0.7886814116524444, 0.8387475863089671, 0.8549839903176383, 0.8775125674921477, 0.8763651238825059, 0.8751131655500405], 'recall': [0.729618378626107, 0.8314932735298955, 0.8630937111100053, 0.8686648788410272, 0.8652149771151212, 0.8672327047820202]}\n",
            "{'global_step': [200, 400, 600, 800, 1000, 1156], 'mcc': [0.6775913708873637, 0.7974744645663391, 0.8240441546023082, 0.8548358483512243, 0.858722958073454, 0.8663859661813417], 'train_loss': [0.8660863637924194, 0.12379562109708786, 0.617680549621582, 0.12869258224964142, 0.669989824295044, 1.0925910472869873], 'eval_loss': [1.0377903236437214, 0.7277337622272876, 0.682922173724618, 0.5434099546770832, 0.4469729673998185, 0.4397113688846025], 'f1': [0.6453159168813237, 0.8098884496414902, 0.8330359129724423, 0.8672403786246122, 0.8712011703212281, 0.8784662150924945], 'acc': [0.7120622568093385, 0.8219844357976653, 0.8453307392996109, 0.872568093385214, 0.8764591439688716, 0.8832684824902723], 'precision': [0.7270637245974803, 0.8308759369294773, 0.8466321260901865, 0.8680224079909407, 0.8693612030961072, 0.8787690481780559], 'recall': [0.6352113475850775, 0.8083049581905422, 0.8396361397832683, 0.8714929432808955, 0.8760853892696174, 0.879472053091625]}\n",
            "{'global_step': [200, 400, 600, 800, 1000, 1156], 'mcc': [0.7934733081453158, 0.7633747240220137, 0.8372471391148945, 0.8454563984966682, 0.8788915449545949, 0.8696631815006113], 'train_loss': [0.22878694534301758, 0.5335198640823364, 0.6938415765762329, 0.6444478034973145, 0.024926554411649704, 0.3899267315864563], 'eval_loss': [0.6595224564274152, 0.6636122604615466, 0.5694410578282767, 0.520606881772825, 0.39529281784238857, 0.3971792463819648], 'f1': [0.7967994236320168, 0.7648487020892203, 0.8581200069956814, 0.860414776351041, 0.8846509527121156, 0.8800062342514248], 'acc': [0.8180933852140078, 0.7889105058365758, 0.8570038910505836, 0.8618677042801557, 0.8939688715953308, 0.8861867704280155], 'precision': [0.8039768622488399, 0.8127179678042143, 0.8751882227700494, 0.895139627362188, 0.881707199890834, 0.885411588934311], 'recall': [0.8061137026013862, 0.7702541912779934, 0.8488615373755366, 0.8487069838162372, 0.8902557755567381, 0.8760187545062772]}\n",
            "{'global_step': [200, 400, 600, 800, 1000, 1156], 'mcc': [0.7724187424491592, 0.8188107051145807, 0.8305750061012543, 0.862126467511146, 0.8546302718455394, 0.8784906470211585], 'train_loss': [1.9331371784210205, 0.6518896222114563, 0.5808783173561096, 0.06843425333499908, 0.029766933992505074, 0.04892589896917343], 'eval_loss': [0.7505650202664294, 0.60963986068964, 0.5118236796598333, 0.43597266021682773, 0.46086405930217617, 0.4187359722157897], 'f1': [0.7873507169092195, 0.8408733822534963, 0.8485482598171112, 0.8781136760543734, 0.8722910208672199, 0.8911081394091652], 'acc': [0.7976653696498055, 0.8394941634241245, 0.8511673151750972, 0.8793774319066148, 0.872568093385214, 0.8939688715953308], 'precision': [0.8102371526576522, 0.8495284369002638, 0.8503659493467258, 0.8836665830024616, 0.8760983019711756, 0.8930381928501517], 'recall': [0.7931320748288548, 0.8462416495844627, 0.8522262854618823, 0.8764508549707709, 0.8725991120751659, 0.8897618352255834]}\n",
            "{'global_step': [200, 400, 600, 800, 1000, 1156], 'mcc': [0.7613884324538491, 0.8283930710090697, 0.8415891251213553, 0.8632539207372842, 0.8686449125570915, 0.8808432749398766], 'train_loss': [1.5663154125213623, 0.027501916512846947, 0.4152015447616577, 0.21834075450897217, 0.023053409531712532, 0.03455813229084015], 'eval_loss': [0.7932705612954243, 0.5427321559179199, 0.5446117813879436, 0.4463586006385758, 0.4478701625900098, 0.401412727239058], 'f1': [0.7861393569709625, 0.8483750036404154, 0.857100422810222, 0.8753449740964702, 0.878315989681666, 0.8930828875547037], 'acc': [0.7869649805447471, 0.8492217898832685, 0.8608949416342413, 0.8803501945525292, 0.8852140077821011, 0.8959143968871596], 'precision': [0.7983829537905905, 0.8566890520499786, 0.877096421188583, 0.874967226698884, 0.8856268207404424, 0.890677976841116], 'recall': [0.8041579891354441, 0.8474090023743206, 0.8455064513938172, 0.8799791240463457, 0.8756749725657431, 0.8961063762284979]}\n",
            "{'global_step': [200, 400, 600, 800, 1000, 1156], 'mcc': [0.769035090132807, 0.8574213800282878, 0.8422418912250644, 0.8434426939300533, 0.8730802410265063, 0.8829908131673277], 'train_loss': [0.507199764251709, 0.6110249757766724, 1.2479640245437622, 0.037793293595314026, 0.8789936304092407, 0.017519325017929077], 'eval_loss': [0.7644185884747394, 0.49654814416123916, 0.5243762697475826, 0.49256179326524335, 0.4240133787772452, 0.4126905931029902], 'f1': [0.795336968359163, 0.8694632332874239, 0.8553570314994055, 0.8576728047673765, 0.8869053492642311, 0.8959436445016432], 'acc': [0.7957198443579766, 0.8754863813229572, 0.8618677042801557, 0.8618677042801557, 0.8891050583657587, 0.8978599221789884], 'precision': [0.820167905525646, 0.8767083527813299, 0.8544699661412655, 0.8591960974394169, 0.8904254823869009, 0.902540544931457], 'recall': [0.7902042689014656, 0.8646839808072269, 0.8592798642285636, 0.8637723803924113, 0.8847161260552111, 0.8911948869455419]}\n",
            "{'global_step': [200, 400, 600, 800, 1000, 1156], 'mcc': [0.7620210537085114, 0.8269760165625653, 0.8599335359844001, 0.8597654618066386, 0.8675452808176424, 0.8752335805094276], 'train_loss': [0.40054166316986084, 0.7141454815864563, 0.5564870238304138, 0.020962033420801163, 0.6490753889083862, 0.140446275472641], 'eval_loss': [0.7557479198011317, 0.5519095521218093, 0.45411949135478613, 0.4918085336973963, 0.42416007681063905, 0.41773873994256866], 'f1': [0.7749365574774649, 0.8491157880323859, 0.8741620643588597, 0.8707091530822386, 0.8755645467710219, 0.8866904967734048], 'acc': [0.7869649805447471, 0.8482490272373541, 0.877431906614786, 0.877431906614786, 0.8842412451361867, 0.8910505836575876], 'precision': [0.7867358805425881, 0.8470469484303579, 0.8790785022982269, 0.8706259385540751, 0.8753749937080796, 0.8897851263905591], 'recall': [0.7894699155282418, 0.8544631195902963, 0.871072777360845, 0.8722027835187492, 0.8779149388045966, 0.8850348715774871]}\n",
            "{'global_step': [200, 400, 600, 800, 1000, 1156], 'mcc': [0.7413170921503927, 0.7816312832573826, 0.8456066107613132, 0.8622134122882519, 0.8759547804954678, 0.8852347734666365], 'train_loss': [0.9649312496185303, 0.9679211974143982, 0.328388512134552, 0.9495512247085571, 0.3508971333503723, 1.038388967514038], 'eval_loss': [0.7420676525018012, 0.7086951411220916, 0.5106387431769408, 0.513411319431986, 0.45212001694265264, 0.4337653540248095], 'f1': [0.6967649731239955, 0.7990113994976219, 0.8609549394592637, 0.8717782097138717, 0.8849041889040866, 0.8929780102865935], 'acc': [0.7714007782101168, 0.8073929961089494, 0.8647859922178989, 0.8793774319066148, 0.8910505836575876, 0.8998054474708171], 'precision': [0.7460004095434696, 0.8265916203384555, 0.8688128352548414, 0.8712228813857855, 0.8853605716546687, 0.8934903226886087], 'recall': [0.7184872371468396, 0.7971249258283363, 0.8587146242987813, 0.8763435814167653, 0.8882198382243298, 0.892897525626458]}\n",
            "{'global_step': [200, 400, 600, 800, 1000, 1156], 'mcc': [0.753297435492305, 0.8254445826084372, 0.820403972382057, 0.8590760055519525, 0.8775029743101276, 0.875193588449057], 'train_loss': [0.637317419052124, 0.7758505940437317, 0.615580141544342, 0.24773527681827545, 0.10210654139518738, 0.43402576446533203], 'eval_loss': [0.7844927338089129, 0.5921616299265577, 0.6046018020733613, 0.47020342467396065, 0.45318770360259353, 0.4376764031083778], 'f1': [0.7435550635813759, 0.8369511941580571, 0.8335850869236733, 0.8720512584498639, 0.8865971126077237, 0.8857613001836986], 'acc': [0.7830739299610895, 0.8463035019455253, 0.8414396887159533, 0.8764591439688716, 0.8929961089494164, 0.8910505836575876], 'precision': [0.7935521172071186, 0.8425819680827917, 0.8338087523830902, 0.875094820097872, 0.891261695724296, 0.8889302720603887], 'recall': [0.7389696061295449, 0.8447551128770681, 0.8438750750339333, 0.8721522513992284, 0.8833577065188938, 0.8836076525331921]}\n",
            "{'global_step': [200, 400, 600, 800, 1000, 1156], 'mcc': [0.7211961013468612, 0.8129546134709162, 0.8274808102619154, 0.856165924210697, 0.8475402473971232, 0.8596609972910101], 'train_loss': [0.8773421049118042, 0.7327201962471008, 0.7315397262573242, 1.160355806350708, 1.2157912254333496, 1.4969673156738281], 'eval_loss': [0.8297027617461922, 0.6644479064054267, 0.5583639102302087, 0.4802529437741799, 0.4748077046039493, 0.4613037956517565], 'f1': [0.7209182553741261, 0.8337446302859816, 0.849483983626754, 0.8702744786463007, 0.8623757433465445, 0.8686158609527292], 'acc': [0.75, 0.8346303501945526, 0.8472762645914397, 0.8745136186770428, 0.8667315175097277, 0.877431906614786], 'precision': [0.7606375848275153, 0.8537127857819102, 0.8797907053141452, 0.8759216978459918, 0.8716156191082389, 0.8740544438189103], 'recall': [0.752100399966999, 0.8319163030180826, 0.8368346869151041, 0.8664731662903008, 0.857028757415146, 0.8662625265332361]}\n",
            "{'global_step': [200, 400, 600, 800, 1000, 1156], 'mcc': [0.7119861885375158, 0.730747294401515, 0.8345456996488541, 0.8570813922667294, 0.8687971840232039, 0.8753354531737977], 'train_loss': [0.8453267216682434, 0.6255347728729248, 1.283003568649292, 0.4894285202026367, 0.8125166296958923, 1.0695968866348267], 'eval_loss': [0.796822343512561, 0.8033467948205711, 0.6245762053443942, 0.4953531523834365, 0.4091147737895218, 0.4006397671809839], 'f1': [0.669437576859093, 0.7565244442867882, 0.8474486173574944, 0.8735808391760255, 0.8815213032427534, 0.8871538528907671], 'acc': [0.7441634241245136, 0.7529182879377432, 0.8550583657587548, 0.8745136186770428, 0.8852140077821011, 0.8910505836575876], 'precision': [0.6590687285600924, 0.8201679114697562, 0.8621256906498056, 0.8729251780825388, 0.8825752332600583, 0.8877355724916335], 'recall': [0.7027780290973112, 0.7538396718870924, 0.8418684391592226, 0.8786070982491089, 0.8830747923362539, 0.8885033608244703]}\n",
            "{'global_step': [200, 400, 600, 800, 1000, 1156], 'mcc': [0.6651813009155896, 0.7784578771406815, 0.829051102364013, 0.8372938740410535, 0.8631302109253329, 0.8696226185580295], 'train_loss': [1.3418558835983276, 1.2737083435058594, 0.42558082938194275, 0.9257384538650513, 0.25290048122406006, 0.31844305992126465], 'eval_loss': [0.7448429349203443, 0.9147858436024466, 0.5394410076154064, 0.5262383179984582, 0.43112395826525, 0.40429297397851716], 'f1': [0.6769575604139227, 0.8072494265441809, 0.8480715439475408, 0.8520035325365345, 0.8744415868198473, 0.8814026269777977], 'acc': [0.6926070038910506, 0.8025291828793775, 0.8501945525291829, 0.857976653696498, 0.8803501945525292, 0.8861867704280155], 'precision': [0.7339074238888428, 0.8291259221780132, 0.8529173642508939, 0.8800470744807987, 0.8763400485104025, 0.8852396949802004], 'recall': [0.6986476666514149, 0.8101685121536133, 0.850628618230763, 0.8345292809719379, 0.8740536424411712, 0.8784431264211785]}\n",
            "{'global_step': [200, 400, 600, 800, 1000, 1156], 'mcc': [0.7919826835455871, 0.8413206392203676, 0.8469974671385753, 0.8665075673142026, 0.8582523376783883, 0.8764587000905198], 'train_loss': [0.3352365493774414, 0.5282913446426392, 0.9214926958084106, 0.5101901292800903, 0.02852354384958744, 1.4014246463775635], 'eval_loss': [0.6789986676601476, 0.5355193015736665, 0.5289899429176436, 0.4280776268939755, 0.4494880788288144, 0.3864049977413559], 'f1': [0.7987997673198092, 0.8559726223990257, 0.8647619861668713, 0.8783102329578113, 0.8746270992750409, 0.8902183121502331], 'acc': [0.8171206225680934, 0.8608949416342413, 0.8657587548638133, 0.8832684824902723, 0.8754863813229572, 0.892023346303502], 'precision': [0.8264230199099922, 0.8620022430162817, 0.8633876404899303, 0.8825000397565853, 0.8926329974920125, 0.8943978178433141], 'recall': [0.79079819939824, 0.8556786598822749, 0.8701445189903377, 0.8775721219429755, 0.8639667968499071, 0.8874642309495777]}\n",
            "{'global_step': [200, 400, 600, 800, 1000, 1156], 'mcc': [0.7248517413385003, 0.8086605975883238, 0.8361432520900688, 0.8504427428249862, 0.8752587815052365, 0.878674502737929], 'train_loss': [1.3889216184616089, 0.1501132696866989, 0.9184123873710632, 0.28165334463119507, 0.409730464220047, 0.019908752292394638], 'eval_loss': [0.774967528937399, 0.6124197287961494, 0.5118644289932278, 0.5326176370717874, 0.40869017958265635, 0.3891220365131144], 'f1': [0.6628908813191126, 0.8300811999767289, 0.8557155474508087, 0.8684416251010669, 0.8870505217632075, 0.886938614778464], 'acc': [0.7558365758754864, 0.8317120622568094, 0.8560311284046692, 0.8686770428015564, 0.8910505836575876, 0.8939688715953308], 'precision': [0.7215158008878753, 0.8578191346236343, 0.850176584619922, 0.8812836609464562, 0.8899196361223757, 0.8840198370375413], 'recall': [0.6891098828185789, 0.8170580960546686, 0.8654538954258225, 0.8616485847601959, 0.8854825809834768, 0.8905129593006814]}\n",
            "{'global_step': [200, 400, 600, 800, 1000, 1156], 'mcc': [0.7673129141174124, 0.8213410576265003, 0.8303538552200593, 0.8533517288076371, 0.8655415571948493, 0.8674471133853636], 'train_loss': [0.19212011992931366, 0.15488989651203156, 0.3211582899093628, 0.2989441752433777, 0.02382609434425831, 1.1762746572494507], 'eval_loss': [0.7701740077761716, 0.6211938169575477, 0.6575302024364702, 0.5298209068358175, 0.44596531958312025, 0.43651714162222405], 'f1': [0.7783446310259173, 0.8300663701153466, 0.8435827177392803, 0.8633012516786451, 0.879446189265223, 0.8815120052349524], 'acc': [0.7947470817120622, 0.8424124513618677, 0.8501945525291829, 0.8715953307392996, 0.882295719844358, 0.8842412451361867], 'precision': [0.7990389862076255, 0.839787841728547, 0.8493743585930252, 0.86968354881908, 0.8769454625097673, 0.8824503898584921], 'recall': [0.7744998936033407, 0.8371536873719364, 0.8492978703786195, 0.8630145362304621, 0.8839843457555794, 0.8820968053301683]}\n",
            "{'global_step': [200, 400, 600, 800, 1000, 1156], 'mcc': [0.6865600018591799, 0.8145572741010326, 0.8186198531956905, 0.8460451097061048, 0.8706187569668159, 0.871798207811734], 'train_loss': [0.9317255616188049, 0.42884716391563416, 0.051621366292238235, 0.5594810843467712, 0.5470489263534546, 0.08515242487192154], 'eval_loss': [0.8927715566269186, 0.59459209274645, 0.7010367807982735, 0.555817665618866, 0.43378257132748993, 0.42585269928469444], 'f1': [0.6591316642974303, 0.8288152502069439, 0.8355037563634513, 0.8627465323646946, 0.8845022395281371, 0.8839544171073217], 'acc': [0.7208171206225681, 0.8365758754863813, 0.8394941634241245, 0.8647859922178989, 0.8871595330739299, 0.8881322957198443], 'precision': [0.6609118779962624, 0.8373536124163774, 0.8492864950705441, 0.8642258878108705, 0.8924938388835523, 0.8885712461603524], 'recall': [0.6828408071935733, 0.8375919835080492, 0.8349759333346437, 0.8652896231071788, 0.8787062674649545, 0.8805666708788364]}\n",
            "{'global_step': [200, 400, 600, 800, 1000, 1156], 'mcc': [0.7469450108547561, 0.8154230685520129, 0.8356060253919115, 0.8565263619010307, 0.8666166535481349, 0.8742191585540282], 'train_loss': [1.475676417350769, 0.8723434805870056, 0.6857993602752686, 0.024521449580788612, 0.1579454243183136, 0.05689682811498642], 'eval_loss': [0.7892639538229898, 0.6042165733411793, 0.5257306932940964, 0.4690277507860762, 0.42117190307598246, 0.3917571337994679], 'f1': [0.7283079615093635, 0.8363742286796625, 0.8517955856341576, 0.8664407577816762, 0.8777707470567709, 0.887847737103819], 'acc': [0.7733463035019456, 0.8385214007782101, 0.8560311284046692, 0.8745136186770428, 0.8832684824902723, 0.8900778210116731], 'precision': [0.7867208892315073, 0.83747012270428, 0.8538259581172946, 0.8667905925411368, 0.8827252495895938, 0.889063606563415], 'recall': [0.7587632444763559, 0.8377432039662585, 0.8538741727756887, 0.8683637684194762, 0.8754971795576348, 0.8875838427811931]}\n",
            "{'global_step': [200, 400, 600, 800, 1000, 1156], 'mcc': [0.7746995911341871, 0.8152593528281686, 0.8375883195964724, 0.8564030224198186, 0.8622763061059671, 0.8730277284134876], 'train_loss': [0.7347702980041504, 1.3027582168579102, 0.08834407478570938, 0.8808435797691345, 0.5382868051528931, 0.02364014834165573], 'eval_loss': [0.728507030033326, 0.6767782425695612, 0.5482209289605303, 0.5157143913657051, 0.4778522880560206, 0.4535216539953799], 'f1': [0.7894072827638003, 0.8337960502074334, 0.8561905753576662, 0.8736829761535214, 0.8760532208736252, 0.884241245818806], 'acc': [0.8015564202334631, 0.8385214007782101, 0.857976653696498, 0.8745136186770428, 0.8793774319066148, 0.8891050583657587], 'precision': [0.8126717875092062, 0.8501171882226847, 0.863310601283556, 0.8849968425595716, 0.8730468010105872, 0.8864748332914865], 'recall': [0.7934487026793965, 0.8273380919641375, 0.8515780660065522, 0.8674437612577975, 0.8817949905519143, 0.8830386159130965]}\n",
            "{'global_step': [200, 400, 600, 800, 1000, 1156], 'mcc': [0.7306503498963121, 0.7730014302744397, 0.8198036204545492, 0.8584899117404332, 0.8531363234109308, 0.8652073276022405], 'train_loss': [1.0418248176574707, 0.1572185903787613, 0.3675118088722229, 0.659691572189331, 0.11252227425575256, 0.14561685919761658], 'eval_loss': [0.8280062379185543, 0.6779641876531433, 0.5837002314280632, 0.5081579962658674, 0.4681479858104573, 0.4306417271971356], 'f1': [0.6817610171244457, 0.7272058772948875, 0.8377516639822398, 0.8726728266570483, 0.8656611511386806, 0.8778667757523394], 'acc': [0.7597276264591439, 0.8005836575875487, 0.8424124513618677, 0.8754863813229572, 0.8715953307392996, 0.882295719844358], 'precision': [0.6829946476377264, 0.8172147761911506, 0.8452009070609428, 0.8733980124308907, 0.8727104655273545, 0.8828603099841987], 'recall': [0.7081158884889676, 0.7436016844486933, 0.8379267146360975, 0.8764352069663215, 0.8636050200505863, 0.8746187660359683]}\n",
            "{'global_step': [200, 400, 600, 800, 1000, 1156], 'mcc': [0.749489410356097, 0.8564454990142263, 0.8673838014534521, 0.8581223200936087, 0.8640785583641486, 0.8741557494215094], 'train_loss': [0.7862735986709595, 1.359029769897461, 0.39144229888916016, 0.119265615940094, 0.3909228444099426, 0.2561527192592621], 'eval_loss': [0.789567367859589, 0.5285607296540293, 0.45066106785810733, 0.5052901978799423, 0.4376320836329183, 0.426176962428257], 'f1': [0.7350967640322085, 0.8715496147416916, 0.8818274448398041, 0.8692861158101253, 0.8803416813731084, 0.8888882751941609], 'acc': [0.7752918287937743, 0.8745136186770428, 0.8842412451361867, 0.8754863813229572, 0.8813229571984436, 0.8900778210116731], 'precision': [0.7489808378592137, 0.876057541778726, 0.8851887620904837, 0.8642917044819829, 0.8843270011569899, 0.8898386087707024], 'recall': [0.7700268243100449, 0.868805879550968, 0.8792867284897591, 0.8782347040950493, 0.877628350373325, 0.8888846592646527]}\n",
            "{'global_step': [200, 400, 600, 800, 1000, 1156], 'mcc': [0.8027519018616723, 0.8161167440438388, 0.8468462740295419, 0.8708265035784652, 0.8830844230185443, 0.8897489958886747], 'train_loss': [0.6435635089874268, 0.2632463872432709, 0.16390812397003174, 0.7972495555877686, 0.03648081794381142, 0.015037191100418568], 'eval_loss': [0.696202826823375, 0.6560879896806423, 0.5329164240595906, 0.42263963840208774, 0.4036459152897199, 0.39196776169850384], 'f1': [0.8233999433430879, 0.8350490922757394, 0.8579900973859887, 0.8809822761027698, 0.8959815278913609, 0.9004375102715918], 'acc': [0.8268482490272373, 0.8375486381322957, 0.8657587548638133, 0.8871595330739299, 0.8978599221789884, 0.9036964980544747], 'precision': [0.8478175194788226, 0.8403468187651231, 0.8732496554618541, 0.8828351997757481, 0.8976966868455464, 0.8993315949945802], 'recall': [0.8125445095300928, 0.8438238338250795, 0.8530736133784076, 0.8818987464240301, 0.8953677706619546, 0.9019252783580958]}\n",
            "{'global_step': [200, 400, 600, 800, 1000, 1156], 'mcc': [0.7163450606364598, 0.8247679298235464, 0.8267614705563116, 0.8565514202814946, 0.8654977382943887, 0.8807082554043417], 'train_loss': [0.7688860297203064, 0.08134886622428894, 0.6155951023101807, 0.035931218415498734, 0.02669462002813816, 0.07669235020875931], 'eval_loss': [0.8886248009611469, 0.594087573215943, 0.6275066558791454, 0.519364878838492, 0.42184166249263194, 0.40075338748103195], 'f1': [0.6921030864537288, 0.8415644197482876, 0.8411603047164478, 0.8702242947571927, 0.8767112403627384, 0.8928205842364427], 'acc': [0.7470817120622568, 0.8463035019455253, 0.8482490272373541, 0.8745136186770428, 0.882295719844358, 0.8959143968871596], 'precision': [0.8005407945887729, 0.8584792980135891, 0.8509252760782495, 0.8752351161453711, 0.8778236666260573, 0.8972416925139208], 'recall': [0.7018262377224945, 0.8336741201992675, 0.8399789540392446, 0.8683606203200469, 0.8783326859138745, 0.8896238745595095]}\n",
            "{'global_step': [200, 400, 600, 800, 1000, 1156], 'mcc': [0.7394976683055143, 0.8195631271239708, 0.845009891584069, 0.8731333970677697, 0.8796619063826149, 0.8807524674830965], 'train_loss': [0.7225724458694458, 0.4856536388397217, 1.7018667459487915, 0.09985322505235672, 0.7988288402557373, 0.895147979259491], 'eval_loss': [0.8000342514394789, 0.6076179445367451, 0.532270544764492, 0.42036222200118756, 0.3843027245282203, 0.38139893849517487], 'f1': [0.7705692100802894, 0.8298428975796263, 0.8599671405368914, 0.8867634309685174, 0.8926064401990101, 0.8953104932337358], 'acc': [0.7714007782101168, 0.8414396887159533, 0.8638132295719845, 0.8891050583657587, 0.8949416342412452, 0.8959143968871596], 'precision': [0.7749486388227017, 0.840244086621209, 0.8904825525920612, 0.8923642868637417, 0.8962199850446291, 0.8999178923084483], 'recall': [0.7770482273455368, 0.8323683292947865, 0.842395574731849, 0.883840402173892, 0.8901770122259571, 0.8918972254745081]}\n",
            "{'global_step': [200, 400, 600, 800, 1000, 1156], 'mcc': [0.7506869061957716, 0.8273445400617709, 0.8487726596797627, 0.8642699807336585, 0.866383577989118, 0.8674872127396224], 'train_loss': [0.4569239020347595, 0.7168007493019104, 1.550417184829712, 0.6703454852104187, 1.3222920894622803, 1.3012726306915283], 'eval_loss': [0.7916041345212811, 0.5849407417627499, 0.46943601856167, 0.43170752719968786, 0.4214344344412287, 0.4242517021809553], 'f1': [0.7311255226896239, 0.8384260886365077, 0.8640311476055085, 0.8745986280949334, 0.8805579598458839, 0.8782705105895252], 'acc': [0.7782101167315175, 0.8492217898832685, 0.867704280155642, 0.8813229571984436, 0.8832684824902723, 0.8842412451361867], 'precision': [0.8232944532257391, 0.8583219411962825, 0.8767067678228582, 0.8784805883369549, 0.891314675322216, 0.8792756526809514], 'recall': [0.7310566443579162, 0.8293208644170416, 0.8566063868521939, 0.8727470480899725, 0.8740261291321598, 0.8788112608391458]}\n",
            "{'global_step': [200, 400, 600, 800, 1000, 1156], 'mcc': [0.7566891430714153, 0.8162502480533652, 0.8367111980671772, 0.8234185185984099, 0.8614337886388658, 0.8675897591676917], 'train_loss': [0.4181639552116394, 1.1541252136230469, 1.7658226490020752, 1.1161961555480957, 0.045990537852048874, 0.6955731511116028], 'eval_loss': [0.7642471881568894, 0.6130989181209904, 0.5719779181878927, 0.6345191581550148, 0.452746238097433, 0.4307372532784939], 'f1': [0.7454095941988556, 0.8230919229611313, 0.8532795282383617, 0.8396228183375861, 0.8725029199131772, 0.8804822746761009], 'acc': [0.7850194552529183, 0.8394941634241245, 0.8570038910505836, 0.8424124513618677, 0.8784046692607004, 0.8842412451361867], 'precision': [0.7868172027329364, 0.846182319847386, 0.8569564369463923, 0.8442937867218194, 0.8744259981669636, 0.8823863997926911], 'recall': [0.7544005667452128, 0.8125776432929246, 0.8560258489380369, 0.8526428635437028, 0.8755022474827399, 0.8807451642921659]}\n",
            "{'global_step': [200, 400, 600, 800, 1000, 1156], 'mcc': [0.7682554355055325, 0.8405076391274453, 0.8316075765085997, 0.8389201410028669, 0.8664061624279417, 0.8686658153112449], 'train_loss': [1.4471529722213745, 0.7302377223968506, 0.20573624968528748, 1.451982021331787, 0.04955029487609863, 0.03509628772735596], 'eval_loss': [0.7913791494545086, 0.5610191268456537, 0.5624713442873123, 0.5360884209517245, 0.4527955775892781, 0.46104217928567137], 'f1': [0.7840745340685868, 0.8589983498958174, 0.8380105983738202, 0.8471967624764747, 0.8796575659344769, 0.8836763709790503], 'acc': [0.7957198443579766, 0.8599221789883269, 0.8521400778210116, 0.857976653696498, 0.8832684824902723, 0.8852140077821011], 'precision': [0.7899600980557178, 0.8673331856098777, 0.8506798692631116, 0.8492057046348628, 0.8810610664116153, 0.8866091640626127], 'recall': [0.79218411959697, 0.8558586429676437, 0.8381611518985316, 0.8567463580773106, 0.8792194158388935, 0.8818664298766197]}\n",
            "{'global_step': [200, 400, 600, 800, 1000, 1156], 'mcc': [0.7780758727535089, 0.8216885096132831, 0.8375320830474112, 0.8607379894385485, 0.8675041493592915, 0.8721504829628896], 'train_loss': [0.43025410175323486, 1.7676721811294556, 0.9665350914001465, 0.3158814609050751, 1.082845687866211, 0.10642429441213608], 'eval_loss': [0.7967750069418157, 0.6774400567217159, 0.5925307997841706, 0.5143729031172602, 0.46615687930277844, 0.4445749122302893], 'f1': [0.7961556665101662, 0.8395239750396674, 0.8514151357149458, 0.8707935438842623, 0.8812663805610812, 0.8830212752512674], 'acc': [0.8054474708171206, 0.8433852140077821, 0.857976653696498, 0.8784046692607004, 0.8842412451361867, 0.8881322957198443], 'precision': [0.8035285891812987, 0.835554053817931, 0.8716528181147353, 0.8744997839878127, 0.8808388745123851, 0.8834962650018707], 'recall': [0.8016504265815725, 0.8498296189177464, 0.8420627919683188, 0.8699705948610355, 0.8829040379435027, 0.8847527246660746]}\n",
            "{'global_step': [200, 400, 600, 800, 1000, 1156], 'mcc': [0.7709844395741023, 0.7904909440496524, 0.8466029078257101, 0.8587017960309031, 0.8743086733382325, 0.8743807525273124], 'train_loss': [1.0263248682022095, 1.4174864292144775, 1.1918293237686157, 0.4180227816104889, 0.014633637852966785, 0.03921795263886452], 'eval_loss': [0.6911864129378814, 0.6853403318817763, 0.5295394216050473, 0.4612710546673268, 0.42916373254428075, 0.42270825260369355], 'f1': [0.7806770019355341, 0.7826906672840869, 0.8589716452175583, 0.8724861884346878, 0.8818905655585513, 0.8819063005955787], 'acc': [0.7986381322957199, 0.816147859922179, 0.8657587548638133, 0.8764591439688716, 0.8900778210116731, 0.8900778210116731], 'precision': [0.8034705609180415, 0.8323830020778304, 0.8770325576279583, 0.8791320152232108, 0.8897360412385508, 0.8809052266357611], 'recall': [0.775134520640139, 0.7867642138495026, 0.850274359748362, 0.8688752240453669, 0.8772039014505871, 0.8856045626476039]}\n",
            "{'global_step': [200, 400, 600, 800, 1000, 1156], 'mcc': [0.7703888089401564, 0.8322710045068822, 0.8173215671602857, 0.8545643674059236, 0.8591625999148352, 0.8740962564442595], 'train_loss': [1.5061531066894531, 1.26146399974823, 0.46657466888427734, 0.2141764760017395, 0.10837382078170776, 1.0772695541381836], 'eval_loss': [0.7227047890309215, 0.562448828574992, 0.6213645383484604, 0.462642245341179, 0.44628889024864105, 0.42294711695781856], 'f1': [0.798038012919181, 0.8415228569890116, 0.8281646906029511, 0.8689529988461367, 0.8758705298549101, 0.8874711093841298], 'acc': [0.7957198443579766, 0.853112840466926, 0.8375486381322957, 0.872568093385214, 0.8764591439688716, 0.8900778210116731], 'precision': [0.8330771283078847, 0.8569088644864397, 0.8384288429933583, 0.8784587171267554, 0.8817764330925527, 0.8913042432888777], 'recall': [0.7923108038727354, 0.8351263115294016, 0.8372884003542124, 0.8662629221555924, 0.8737831643526638, 0.8848150732010827]}\n",
            "{'global_step': [200, 400, 600, 800, 1000, 1156], 'mcc': [0.7985541216208512, 0.7840124919190711, 0.8526229311955728, 0.86513482752807, 0.8784462463473637, 0.8763495165954891], 'train_loss': [0.4156762659549713, 0.19557638466358185, 1.187015175819397, 1.393699288368225, 0.03782038390636444, 0.6673147082328796], 'eval_loss': [0.6656425438185994, 0.7101380601092133, 0.49917899889423867, 0.4970251442142582, 0.3776887300850231, 0.39536951257045877], 'f1': [0.80361836062758, 0.7784470457933126, 0.8669591516852493, 0.8840227955975343, 0.8942672485931126, 0.8909185456305347], 'acc': [0.8239299610894941, 0.8103112840466926, 0.8706225680933852, 0.8813229571984436, 0.8939688715953308, 0.892023346303502], 'precision': [0.8113574584361024, 0.8328332822715326, 0.869994929811781, 0.896551040545822, 0.9014045841673605, 0.8915579608795858], 'recall': [0.8019511406001935, 0.7665122912706572, 0.8703495022281393, 0.8772809224497955, 0.8881949451526269, 0.8909171141744898]}\n",
            "{'global_step': [200, 400, 600, 800, 1000, 1156], 'mcc': [0.7606284686831651, 0.8209490900405865, 0.8404782132866724, 0.862885519100112, 0.8641464922333618, 0.8674189564589104], 'train_loss': [0.8490986824035645, 0.07476893812417984, 0.46866464614868164, 0.3920123279094696, 0.5606095790863037, 1.3598085641860962], 'eval_loss': [0.7459522371952848, 0.6280976171179335, 0.5366881428531898, 0.4623851477377868, 0.48812162641493617, 0.46348232719614063], 'f1': [0.7724331489419436, 0.8269933396594139, 0.8530585436750353, 0.873531599838299, 0.8752216980942287, 0.8816723566401586], 'acc': [0.7879377431906615, 0.8433852140077821, 0.8608949416342413, 0.8803501945525292, 0.8813229571984436, 0.8842412451361867], 'precision': [0.8171674839342961, 0.8602266099805274, 0.870015488551776, 0.883110726449273, 0.8781093765383415, 0.8857652127830237], 'recall': [0.758641005692123, 0.8124924875887719, 0.8406899412003521, 0.8666805376217562, 0.8738000321827353, 0.8784949955396795]}\n",
            "{'global_step': [200, 400, 600, 800, 1000, 1156], 'mcc': [0.7891297509000884, 0.8407453218342771, 0.8435468262992162, 0.8712018657172059, 0.8723315011811644, 0.8774773642135814], 'train_loss': [1.4249571561813354, 0.8199302554130554, 0.2986016869544983, 0.5927826762199402, 0.17912080883979797, 0.8496432304382324], 'eval_loss': [0.7119450777076012, 0.5323732678973397, 0.5160531566528849, 0.39511652749984766, 0.41014655832518904, 0.3817765194229608], 'f1': [0.8048536654929379, 0.8602225648784815, 0.8563141405243843, 0.8810811289652593, 0.8876583489843447, 0.8900909182343967], 'acc': [0.8142023346303502, 0.8608949416342413, 0.8628404669260701, 0.8871595330739299, 0.8881322957198443, 0.8929961089494164], 'precision': [0.8358194857825522, 0.8705124038706651, 0.8592270278503462, 0.8762214908429522, 0.8926871617901779, 0.8895776885448744], 'recall': [0.7959218198965193, 0.8536521422193585, 0.8622088339007326, 0.888644866752329, 0.8854042754379021, 0.8909988129095555]}\n",
            "{'global_step': [200, 400, 600, 800, 1000, 1156], 'mcc': [0.7408979434661603, 0.8184935479448272, 0.8442428117793277, 0.8595762964265252, 0.8697587845981899, 0.8707196201874625], 'train_loss': [0.43760088086128235, 0.25208166241645813, 0.902767539024353, 0.01493033766746521, 0.3220609426498413, 0.3155794143676758], 'eval_loss': [0.8242849367995595, 0.5656427172438581, 0.4932491318142229, 0.46910841534159675, 0.3868839727324802, 0.41085148866237825], 'f1': [0.6960267879767388, 0.8354515718046712, 0.8535124994264244, 0.8756074941015839, 0.8846222581139297, 0.8815712581308328], 'acc': [0.7714007782101168, 0.8404669260700389, 0.8628404669260701, 0.877431906614786, 0.8861867704280155, 0.8871595330739299], 'precision': [0.8079200618435682, 0.8549772561092791, 0.8510257332095907, 0.87629231709295, 0.8920095154411563, 0.8892349748754229], 'recall': [0.7146515218546965, 0.8296659332839407, 0.8683411464017531, 0.875624407621353, 0.8795606567123319, 0.87660069447834]}\n",
            "{'global_step': [200, 400, 600, 800, 1000, 1156], 'mcc': [0.7659582128137112, 0.8363492588815892, 0.845201346149464, 0.8545117452772584, 0.8591998630492751, 0.8773988103359748], 'train_loss': [0.7117623090744019, 1.041286587715149, 0.5672191381454468, 0.31466415524482727, 0.8568640351295471, 0.16365817189216614], 'eval_loss': [0.7624201421127763, 0.546694821743078, 0.4765238661405652, 0.4740832275891489, 0.4503508788901706, 0.4158731903808639], 'f1': [0.760670115158033, 0.8543323379059298, 0.8614297306193148, 0.8599692268336087, 0.8719641526559622, 0.8836534809052026], 'acc': [0.7928015564202334, 0.8570038910505836, 0.8647859922178989, 0.872568093385214, 0.8764591439688716, 0.8929961089494164], 'precision': [0.7943933561201608, 0.8598171446276182, 0.8679397336316023, 0.8644012055411768, 0.8739703006302361, 0.8852025848106819], 'recall': [0.7778914984160459, 0.8517535843285287, 0.8567373719255689, 0.8620107687867495, 0.8732062928000599, 0.8829496165113732]}\n",
            "{'global_step': [200, 400, 600, 800, 1000, 1156], 'mcc': [0.7860064992993855, 0.785453964365083, 0.8391266650551557, 0.8469789004248462, 0.8711510262650869, 0.8675310255281575], 'train_loss': [0.7089878916740417, 0.37708353996276855, 1.1071922779083252, 0.040264397859573364, 0.4242307245731354, 0.22468547523021698], 'eval_loss': [0.6950477473726568, 0.681622865068358, 0.5462220289506191, 0.4712859535402106, 0.48419091949427084, 0.43221920755395826], 'f1': [0.7946499631531959, 0.8108174709582613, 0.8470545888199386, 0.8630902145353511, 0.8815436968977566, 0.8784934547477532], 'acc': [0.8122568093385214, 0.806420233463035, 0.8589494163424124, 0.8657587548638133, 0.8871595330739299, 0.8842412451361867], 'precision': [0.8190417513798081, 0.8578268189903684, 0.8529868645856126, 0.8865134583991386, 0.8778844587233865, 0.8787242529063463], 'recall': [0.787305240675872, 0.7997677684621896, 0.853786874384786, 0.8479542496056949, 0.8873130650302975, 0.8795427392522751]}\n",
            "{'global_step': [200, 400, 600, 800, 1000, 1156], 'mcc': [0.79798332721622, 0.8212366921348248, 0.8177611769235671, 0.8450592577096675, 0.8661556061748066, 0.8785011573392505], 'train_loss': [1.3454809188842773, 1.2974361181259155, 0.8655388355255127, 0.35446402430534363, 1.593095064163208, 0.02403794415295124], 'eval_loss': [0.6624631151672482, 0.5709140967693209, 0.5928969651518404, 0.4832008571414522, 0.4582680096171161, 0.4249145317562791], 'f1': [0.8033415209846478, 0.8346696407595189, 0.8236535955949849, 0.8617163606805165, 0.8816156564236446, 0.8883476673895009], 'acc': [0.8219844357976653, 0.8433852140077821, 0.8394941634241245, 0.8638132295719845, 0.8832684824902723, 0.8939688715953308], 'precision': [0.8098683913565853, 0.8283137940751151, 0.8414375587144899, 0.8716370264999058, 0.8937019731296019, 0.8933273840286794], 'recall': [0.8111351632452952, 0.844327748933388, 0.8233399371675724, 0.8596975141820845, 0.872264114589216, 0.884443402130323]}\n",
            "{'global_step': [200, 400, 600, 800, 1000, 1156], 'mcc': [0.7254190639660572, 0.836218931713836, 0.8418490595193437, 0.8574163398637207, 0.863859566960863, 0.8665572864740123], 'train_loss': [0.7698508501052856, 0.5938184857368469, 0.564160943031311, 0.050450388342142105, 0.8177036046981812, 0.06565792858600616], 'eval_loss': [0.8092797352362049, 0.5450656545716662, 0.5613480214058428, 0.5068715747243674, 0.446757515899606, 0.4510132012989863], 'f1': [0.7352789803787262, 0.8583579060502492, 0.8549985300339342, 0.8737758493985268, 0.8768421840896314, 0.8795629501980577], 'acc': [0.754863813229572, 0.8560311284046692, 0.8618677042801557, 0.8754863813229572, 0.8803501945525292, 0.8832684824902723], 'precision': [0.7746706410494557, 0.8744484647490258, 0.8605532558372497, 0.8790920762538416, 0.8810451783850632, 0.8775885565744941], 'recall': [0.7452848208828082, 0.8525657858608767, 0.8534936804298785, 0.8710361754615614, 0.878907201629656, 0.8833044533821937]}\n",
            "{'global_step': [200, 400, 600, 800, 1000, 1156], 'mcc': [0.7845118012454682, 0.8321116202216554, 0.8500173755887125, 0.8559973195450411, 0.8774254751309984, 0.8818788437105196], 'train_loss': [1.1074068546295166, 1.1187647581100464, 0.7903658151626587, 0.28282517194747925, 0.02155195362865925, 1.13399338722229], 'eval_loss': [0.6967280555025551, 0.5938887277748003, 0.4943733486642902, 0.5512435907685711, 0.3956080044857984, 0.37261175794541374], 'f1': [0.7978317388847719, 0.8491006328942436, 0.8640549461399399, 0.8667652044050291, 0.8889605756206402, 0.8918389747871439], 'acc': [0.8103112840466926, 0.8521400778210116, 0.8686770428015564, 0.8735408560311284, 0.8929961089494164, 0.896887159533074], 'precision': [0.8137071134338032, 0.8571223191339912, 0.8754443543464608, 0.8829650107171637, 0.8913384697891276, 0.8925719640232957], 'recall': [0.800938691476025, 0.8526060403341581, 0.8604312315126494, 0.8616232128044421, 0.88806791183382, 0.8919544039360245]}\n",
            "{'global_step': [200, 400, 600, 800, 1000, 1156], 'mcc': [0.7723579826839214, 0.780440581273675, 0.8520628901774452, 0.8636437139342117, 0.8831763244615449, 0.8810328796045672], 'train_loss': [1.6206337213516235, 1.1044453382492065, 0.0661722794175148, 0.027910735458135605, 0.6736684441566467, 0.11903588473796844], 'eval_loss': [0.7715056953273078, 0.7345242323570473, 0.5164347681715045, 0.48772400577891933, 0.3942869234425846, 0.39419126448531944], 'f1': [0.7938977405863826, 0.8061782452405014, 0.8706382377224617, 0.8773394788960432, 0.897023566325514, 0.892573699694978], 'acc': [0.7996108949416343, 0.8044747081712063, 0.8706225680933852, 0.8803501945525292, 0.8978599221789884, 0.8959143968871596], 'precision': [0.8076652897692917, 0.8227367814382832, 0.8837072976652325, 0.8719314009607593, 0.896889216993513, 0.8921620880573374], 'recall': [0.7928545881624919, 0.8111558264638625, 0.8614741521273311, 0.8868243688162466, 0.8981337900600153, 0.895128506848402]}\n",
            "{'global_step': [200, 400, 600, 800, 1000, 1156], 'mcc': [0.8241145036493064, 0.8119100897631394, 0.8311724653886197, 0.8555974825359872, 0.8634482743410846, 0.8586360807330756], 'train_loss': [0.7763469815254211, 0.7887329459190369, 0.6893718838691711, 0.6817998886108398, 0.2289116084575653, 0.04698977246880531], 'eval_loss': [0.5836648253160853, 0.6344294440318909, 0.5737753934407419, 0.4834653371656241, 0.4348329382825845, 0.40512948807386695], 'f1': [0.8339991845406051, 0.8354195139176339, 0.8518514372633647, 0.8695879679329028, 0.8758825365456077, 0.8781892715915764], 'acc': [0.8463035019455253, 0.8346303501945526, 0.8521400778210116, 0.8735408560311284, 0.8803501945525292, 0.8764591439688716], 'precision': [0.8444678465149947, 0.8457900898965441, 0.872861276434001, 0.8706856965388162, 0.8774244780022138, 0.8802679977007303], 'recall': [0.8302969709232753, 0.8344379409612341, 0.8422644943204196, 0.8734975433872897, 0.8794185079228692, 0.8777646713213807]}\n",
            "{'global_step': [200, 400, 600, 800, 1000, 1156], 'mcc': [0.7157562091572515, 0.7485798363823175, 0.8532203376822958, 0.8579238973459978, 0.8784653593872163, 0.8874361635423137], 'train_loss': [1.5350372791290283, 1.0257066488265991, 0.058216169476509094, 0.3806564211845398, 1.0946667194366455, 1.0213911533355713], 'eval_loss': [0.7921222018063531, 0.7071515556222708, 0.4975827874312567, 0.4733588677621627, 0.3857631725078636, 0.3702257190462808], 'f1': [0.6824174297821886, 0.7909995169146241, 0.8691251316690436, 0.869466022780191, 0.8889452975789922, 0.8962353684989027], 'acc': [0.7480544747081712, 0.7714007782101168, 0.8715953307392996, 0.8754863813229572, 0.8939688715953308, 0.9017509727626459], 'precision': [0.6998759878159536, 0.8500255596880256, 0.8765738319453454, 0.8798547960730325, 0.8967335629935087, 0.8990003290378519], 'recall': [0.7271264561359218, 0.7847185045852316, 0.8662800360711322, 0.8640223741289902, 0.8838634976006439, 0.8945412532392586]}\n",
            "{'global_step': [200, 400, 600, 800, 1000, 1156], 'mcc': [0.7796663531070096, 0.8343599287647008, 0.830323534221699, 0.8564864039982063, 0.8654082552682517, 0.869655599592013], 'train_loss': [0.39356017112731934, 0.6648610234260559, 0.08666438609361649, 0.34085962176322937, 0.03935534134507179, 0.21428132057189941], 'eval_loss': [0.7543248796994372, 0.5490887768335583, 0.553485059821906, 0.4324114324683829, 0.4302444402922609, 0.41080668600377185], 'f1': [0.8047201460649593, 0.8528989759032102, 0.8484055944537995, 0.8728729072890183, 0.8825145111118062, 0.8840932430814393], 'acc': [0.8054474708171206, 0.8550583657587548, 0.8501945525291829, 0.8745136186770428, 0.882295719844358, 0.8861867704280155], 'precision': [0.8310391025804389, 0.8567865158487957, 0.8568360775646303, 0.8713710567571363, 0.8905729635087075, 0.8876894871290545], 'recall': [0.7995546072196498, 0.8515866400090532, 0.8488743434864835, 0.8755853416737999, 0.8769274089737492, 0.8818380558678951]}\n",
            "{'global_step': [200, 400, 600, 800, 1000, 1156], 'mcc': [0.73377935842604, 0.8172941594061816, 0.8403544714568132, 0.8521617020534089, 0.8611318511216713, 0.8608460797815444], 'train_loss': [1.0425162315368652, 0.5992318987846375, 0.49862679839134216, 0.040474049746990204, 0.5232886672019958, 0.3849506378173828], 'eval_loss': [0.7643188768348028, 0.6067363269078409, 0.5747064152487027, 0.47539433532271735, 0.43160184909582366, 0.4447504503204841], 'f1': [0.6816672506032648, 0.8315170902768158, 0.8549831447993834, 0.8649586267909775, 0.8754669851551455, 0.875087749888344], 'acc': [0.7645914396887159, 0.8394941634241245, 0.8599221789883269, 0.8706225680933852, 0.8784046692607004, 0.8784046692607004], 'precision': [0.6879924586925785, 0.840482615836912, 0.8635587140985997, 0.8685641830804838, 0.881760531736759, 0.8817329969796697], 'recall': [0.702201646351913, 0.8341861822433294, 0.8549661878003225, 0.8665850305984699, 0.8741131160530228, 0.8718711095978159]}\n",
            "{'global_step': [200, 400, 600, 800, 1000, 1156], 'mcc': [0.7643391788670454, 0.835097171942606, 0.8462606559813582, 0.8533829666332211, 0.8786593509713093, 0.8751880313091244], 'train_loss': [0.9322251081466675, 0.7681675553321838, 0.517603874206543, 1.0337680578231812, 0.028442176058888435, 0.017672676593065262], 'eval_loss': [0.8336994434280913, 0.5477385004592497, 0.546332044050444, 0.49687967493465934, 0.422986327663295, 0.4167575006438203], 'f1': [0.7862998039353815, 0.8553889634196897, 0.8616990389330167, 0.8658283457381385, 0.8902788526530535, 0.8885770418246881], 'acc': [0.7879377431906615, 0.8560311284046692, 0.8657587548638133, 0.8715953307392996, 0.8939688715953308, 0.8910505836575876], 'precision': [0.8162187843586415, 0.8740765760475733, 0.8739729376119587, 0.86576248562289, 0.8905703770638641, 0.8925237853985732], 'recall': [0.7924707063971419, 0.843620363798831, 0.8534466685885147, 0.8705985675995733, 0.8908352101950905, 0.8854642300101674]}\n",
            "{'global_step': [200, 400, 600, 800, 1000, 1156], 'mcc': [0.7354427096060414, 0.8291936593759448, 0.8418711327862953, 0.8467500281230519, 0.86098702418576, 0.8630964797915016], 'train_loss': [0.7638981342315674, 1.1779536008834839, 0.47637617588043213, 0.14949488639831543, 1.3000404834747314, 0.1130923256278038], 'eval_loss': [0.7727398712967717, 0.6034272612007552, 0.5819737675289313, 0.5069705831652233, 0.46365930191277305, 0.4497465493532923], 'f1': [0.6856289681696721, 0.8419107138573074, 0.8556831462487043, 0.8636318341600016, 0.8766177501300148, 0.8770603712866389], 'acc': [0.7665369649805448, 0.8501945525291829, 0.8618677042801557, 0.8657587548638133, 0.8784046692607004, 0.8803501945525292], 'precision': [0.686071019507615, 0.8502952422362041, 0.8677141871156178, 0.8683619018046794, 0.8738174522541153, 0.8781124328475691], 'recall': [0.6991925174942131, 0.8436222851183819, 0.8471008275404832, 0.8647881126011311, 0.8817886295528862, 0.8782985149167473]}\n",
            "{'global_step': [200, 400, 600, 800, 1000, 1156], 'mcc': [0.7425469847050677, 0.8046182011017081, 0.8475943857139266, 0.8576063766896707, 0.8699043087034912, 0.8807840035591951], 'train_loss': [0.4656994640827179, 0.9262726306915283, 1.819281816482544, 0.0399351567029953, 0.6016411185264587, 0.31269481778144836], 'eval_loss': [0.7723492862180222, 0.7261618135800195, 0.5271351008076769, 0.47630657027872614, 0.40206942683475655, 0.39184743428039687], 'f1': [0.700933511826387, 0.8194859791856782, 0.8549307175312513, 0.8722823331686809, 0.8871401208798901, 0.8954405585551098], 'acc': [0.7714007782101168, 0.8268482490272373, 0.8667315175097277, 0.8754863813229572, 0.8861867704280155, 0.8959143968871596], 'precision': [0.741209050020019, 0.8664902918558842, 0.8739253907748235, 0.8721810438676957, 0.8872910511809486, 0.8960985743985483], 'recall': [0.7337194361861727, 0.8078261132851695, 0.8489014734053834, 0.8736664204794224, 0.8886095318479341, 0.8951560640821834]}\n",
            "{'global_step': [200, 400, 600, 800, 1000, 1156], 'mcc': [0.7296855105930579, 0.8167906582820259, 0.8512143791166591, 0.863123808086427, 0.8685978877822638, 0.8752317670875457], 'train_loss': [1.2156550884246826, 0.4204740822315216, 0.683889627456665, 1.3595389127731323, 0.03543688729405403, 0.030800852924585342], 'eval_loss': [0.887360213107841, 0.5962109153642673, 0.5527742845547754, 0.5021789002975867, 0.4572758058432576, 0.4248314213455301], 'f1': [0.7007241504036689, 0.8358637415486295, 0.8619732900897322, 0.8777530628899322, 0.8819592137966636, 0.8894076369990827], 'acc': [0.7607003891050583, 0.8385214007782101, 0.8696498054474708, 0.8803501945525292, 0.8852140077821011, 0.8910505836575876], 'precision': [0.7559222370038974, 0.8751080365020536, 0.8645094993103634, 0.8813601019278876, 0.8846606357781425, 0.8904810585123618], 'recall': [0.7234663545449579, 0.8148927464239591, 0.8655681218284197, 0.8759118348612446, 0.8809710109229179, 0.8889921522015517]}\n",
            "{'global_step': [200, 400, 600, 800, 1000, 1156], 'mcc': [0.8018589414875924, 0.834292512592483, 0.8453884627831174, 0.8451531234580545, 0.8697789880294086, 0.8708151608430749], 'train_loss': [0.38769111037254333, 0.06169784069061279, 0.7176395058631897, 0.843138575553894, 0.2730463743209839, 0.03871394693851471], 'eval_loss': [0.6791654431889224, 0.6104202090668701, 0.503505380391035, 0.5258520590935567, 0.42042202714744004, 0.4079694653926201], 'f1': [0.823200979264174, 0.8534817451197008, 0.8500743715141142, 0.861172506509333, 0.8812131787835202, 0.88262087166456], 'acc': [0.8249027237354085, 0.8550583657587548, 0.8647859922178989, 0.8638132295719845, 0.8861867704280155, 0.8871595330739299], 'precision': [0.8385019714321509, 0.8711535089598115, 0.8709817747146299, 0.8643894336196664, 0.8894628963671656, 0.8847520412216845], 'recall': [0.8272164794237153, 0.8434267343839436, 0.8435611020204017, 0.8666942228125057, 0.8765150191990494, 0.8818040159361789]}\n"
          ],
          "name": "stdout"
        }
      ]
    },
    {
      "cell_type": "markdown",
      "metadata": {
        "id": "hySEe1YaAqr4"
      },
      "source": [
        "---\n",
        "## Evaluate Best Model"
      ]
    },
    {
      "cell_type": "code",
      "metadata": {
        "id": "s1009AbGcIeg"
      },
      "source": [
        "result, model_outputs, wrong_predictions = model.eval_model(test_df, f1=f1_multiclass, acc=accuracy_score, precision=precision_multiclass, recall=recall_multiclass, wandb_log=False)\n",
        "pd.Series(result)"
      ],
      "execution_count": null,
      "outputs": []
    },
    {
      "cell_type": "code",
      "metadata": {
        "id": "jAhyTUI9bOcM"
      },
      "source": [
        "preds = pd.DataFrame(model_outputs, columns=mapping_s)\n",
        "preds"
      ],
      "execution_count": null,
      "outputs": []
    },
    {
      "cell_type": "code",
      "metadata": {
        "id": "YGjePotsPX2c"
      },
      "source": [
        "# preds.to_csv(\"data/predictions.csv\", index=False)"
      ],
      "execution_count": null,
      "outputs": []
    },
    {
      "cell_type": "code",
      "metadata": {
        "id": "g0p501p2bn8W"
      },
      "source": [
        "pred_s = pd.DataFrame(model_outputs).idxmax(axis=1)"
      ],
      "execution_count": null,
      "outputs": []
    },
    {
      "cell_type": "code",
      "metadata": {
        "id": "tRb7yXGkdzHy"
      },
      "source": [
        "mapping_s.values"
      ],
      "execution_count": null,
      "outputs": []
    },
    {
      "cell_type": "code",
      "metadata": {
        "id": "Y92ATriIeqDR"
      },
      "source": [
        "import sklearn.metrics as skm\n",
        "skm.confusion_matrix(test_df.labels, pred_s)"
      ],
      "execution_count": null,
      "outputs": []
    },
    {
      "cell_type": "code",
      "metadata": {
        "id": "O4Og3hgmcuHZ"
      },
      "source": [
        "print(skm.classification_report(test_df.labels, pred_s, target_names=mapping_s.values))"
      ],
      "execution_count": null,
      "outputs": []
    }
  ]
}