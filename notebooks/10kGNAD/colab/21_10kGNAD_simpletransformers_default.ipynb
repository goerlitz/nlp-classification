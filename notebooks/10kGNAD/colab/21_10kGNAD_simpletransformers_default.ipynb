{
  "nbformat": 4,
  "nbformat_minor": 0,
  "metadata": {
    "colab": {
      "name": "21_10kGNAD_simpletransformers_default.ipynb",
      "provenance": [],
      "collapsed_sections": [],
      "authorship_tag": "ABX9TyO4flaKRl8qC1PJjgyjj6Wj",
      "include_colab_link": true
    },
    "kernelspec": {
      "name": "python3",
      "display_name": "Python 3"
    },
    "language_info": {
      "name": "python"
    },
    "accelerator": "GPU"
  },
  "cells": [
    {
      "cell_type": "markdown",
      "metadata": {
        "id": "view-in-github",
        "colab_type": "text"
      },
      "source": [
        "<a href=\"https://colab.research.google.com/github/goerlitz/nlp-classification/blob/main/notebooks/10kGNAD/colab/21_10kGNAD_simpletransformers_default.ipynb\" target=\"_parent\"><img src=\"https://colab.research.google.com/assets/colab-badge.svg\" alt=\"Open In Colab\"/></a>"
      ]
    },
    {
      "cell_type": "markdown",
      "metadata": {
        "id": "BfF1tsgcZm8o"
      },
      "source": [
        "# Classifying German News Articles with SimpleTransformers\n",
        "\n",
        "## Objectives\n",
        "\n",
        "1. Train a text classifier with transfer learning based on a pretrained German transformer model.\n",
        "2. Keep the implementation simple (just a few lines of code) by using the SimpleTransformers library. It also has sensible default model settings.\n",
        "\n",
        "\n",
        "## Approach\n",
        "\n",
        "Use following pretrained models on the 10k German News Articles dataset to classify 9 news topics.\n",
        "\n",
        "* `distilbert-base-german-cased`\n",
        "* `deepset/gbert-base`\n",
        "* `deepset/gelectra-large`\n",
        "\n",
        "## Learnings\n",
        "\n",
        "..."
      ]
    },
    {
      "cell_type": "markdown",
      "metadata": {
        "id": "H4GaTz-bO6ik"
      },
      "source": [
        "## Prerequisites"
      ]
    },
    {
      "cell_type": "code",
      "metadata": {
        "id": "q2bN0o_9nq-Y"
      },
      "source": [
        "model_type = \"distilbert\"\n",
        "model_name = \"distilbert-base-german-cased\"\n",
        "\n",
        "# model_type = \"bert\"\n",
        "# model_name = \"deepset/gbert-base\"\n",
        "\n",
        "# model_type = \"electra\"\n",
        "# model_name = \"deepset/gelectra-base\"\n",
        "\n",
        "project_name = \"10kgnad_default__\" + model_name.replace(\"/\", \"_\")"
      ],
      "execution_count": 1,
      "outputs": []
    },
    {
      "cell_type": "code",
      "metadata": {
        "colab": {
          "base_uri": "https://localhost:8080/"
        },
        "id": "l0PiC_x9NjC3",
        "outputId": "e0f3ad92-341e-4713-fe30-21b1b4bb7e6e"
      },
      "source": [
        "gpu_info = !nvidia-smi\n",
        "gpu_info = '\\n'.join(gpu_info)\n",
        "if gpu_info.find('failed') >= 0:\n",
        "  print('Select the Runtime > \"Change runtime type\" menu to enable a GPU accelerator, ')\n",
        "  print('and then re-execute this cell.')\n",
        "else:\n",
        "  print(gpu_info)"
      ],
      "execution_count": 2,
      "outputs": [
        {
          "output_type": "stream",
          "name": "stdout",
          "text": [
            "Sun Nov 14 21:11:52 2021       \n",
            "+-----------------------------------------------------------------------------+\n",
            "| NVIDIA-SMI 495.44       Driver Version: 460.32.03    CUDA Version: 11.2     |\n",
            "|-------------------------------+----------------------+----------------------+\n",
            "| GPU  Name        Persistence-M| Bus-Id        Disp.A | Volatile Uncorr. ECC |\n",
            "| Fan  Temp  Perf  Pwr:Usage/Cap|         Memory-Usage | GPU-Util  Compute M. |\n",
            "|                               |                      |               MIG M. |\n",
            "|===============================+======================+======================|\n",
            "|   0  Tesla P100-PCIE...  Off  | 00000000:00:04.0 Off |                    0 |\n",
            "| N/A   51C    P0    30W / 250W |      0MiB / 16280MiB |      0%      Default |\n",
            "|                               |                      |                  N/A |\n",
            "+-------------------------------+----------------------+----------------------+\n",
            "                                                                               \n",
            "+-----------------------------------------------------------------------------+\n",
            "| Processes:                                                                  |\n",
            "|  GPU   GI   CI        PID   Type   Process name                  GPU Memory |\n",
            "|        ID   ID                                                   Usage      |\n",
            "|=============================================================================|\n",
            "|  No running processes found                                                 |\n",
            "+-----------------------------------------------------------------------------+\n"
          ]
        }
      ]
    },
    {
      "cell_type": "code",
      "metadata": {
        "colab": {
          "base_uri": "https://localhost:8080/"
        },
        "id": "UFuf6ZDEZ2Xo",
        "outputId": "578f44c8-2213-4936-feac-60cfd7aee9be"
      },
      "source": [
        "# install transformers\n",
        "!pip install -q -U tqdm transformers simpletransformers >/dev/null\n",
        "\n",
        "# check installed version\n",
        "!pip freeze | grep transformers\n",
        "!pip freeze | grep torch\n",
        "# simpletransformers==0.61.6 / 0.63.3\n",
        "# transformers==4.6.1 / 4.12.3\n",
        "# torch==1.8.1+cu101 / 1.10.0"
      ],
      "execution_count": 4,
      "outputs": [
        {
          "output_type": "stream",
          "name": "stdout",
          "text": [
            "simpletransformers==0.63.3\n",
            "transformers==4.12.3\n",
            "torch @ https://download.pytorch.org/whl/cu111/torch-1.10.0%2Bcu111-cp37-cp37m-linux_x86_64.whl\n",
            "torchsummary==1.5.1\n",
            "torchtext==0.11.0\n",
            "torchvision @ https://download.pytorch.org/whl/cu111/torchvision-0.11.1%2Bcu111-cp37-cp37m-linux_x86_64.whl\n"
          ]
        }
      ]
    },
    {
      "cell_type": "code",
      "metadata": {
        "id": "Wa36sieXlzjQ"
      },
      "source": [
        "import numpy as np\n",
        "import pandas as pd\n",
        "from pathlib import Path\n",
        "import os\n",
        "\n",
        "from simpletransformers.classification import ClassificationModel\n",
        "from transformers import AutoTokenizer\n",
        "from transformers import logging\n",
        "import wandb\n",
        "\n",
        "# hide progress bar when downloading tokenizers - a workaround!\n",
        "logging.get_verbosity = lambda : logging.NOTSET\n",
        "\n",
        "# disable transformer warnings like \"Some weights of the model checkpoint\"\n",
        "logging.set_verbosity_error()\n",
        "\n",
        "# disable logging of wandb\n",
        "os.environ[\"WANDB_SILENT\"] = \"true\""
      ],
      "execution_count": 5,
      "outputs": []
    },
    {
      "cell_type": "markdown",
      "metadata": {
        "id": "AsTaSRJekM0L"
      },
      "source": [
        "## Download Data\n",
        "\n",
        "Using the [10k German News Articles Dataset](https://tblock.github.io/10kGNAD/)"
      ]
    },
    {
      "cell_type": "code",
      "metadata": {
        "id": "pf-3EEDYXlhh",
        "colab": {
          "base_uri": "https://localhost:8080/"
        },
        "outputId": "1164c356-b5c9-414d-9258-8735b9af4965"
      },
      "source": [
        "%env DIR=data\n",
        "\n",
        "!mkdir -p $DIR\n",
        "!wget -nc https://github.com/tblock/10kGNAD/blob/master/train.csv?raw=true -nv -O $DIR/train.csv\n",
        "!wget -nc https://github.com/tblock/10kGNAD/blob/master/test.csv?raw=true -nv -O $DIR/test.csv\n",
        "!ls -lAh $DIR | cut -d \" \" -f 5-"
      ],
      "execution_count": 6,
      "outputs": [
        {
          "output_type": "stream",
          "name": "stdout",
          "text": [
            "env: DIR=data\n",
            "2021-11-14 21:15:01 URL:https://raw.githubusercontent.com/tblock/10kGNAD/master/train.csv [24405789/24405789] -> \"data/train.csv\" [1]\n",
            "2021-11-14 21:15:03 URL:https://raw.githubusercontent.com/tblock/10kGNAD/master/test.csv [2755020/2755020] -> \"data/test.csv\" [1]\n",
            "\n",
            "2.7M Nov 14 21:15 test.csv\n",
            " 24M Nov 14 21:15 train.csv\n"
          ]
        }
      ]
    },
    {
      "cell_type": "markdown",
      "metadata": {
        "id": "XuLSIj9NkXAG"
      },
      "source": [
        "## Import Data"
      ]
    },
    {
      "cell_type": "code",
      "metadata": {
        "id": "fL2RFkuaaQug"
      },
      "source": [
        "data_dir = Path(\"data/\")\n",
        "\n",
        "train_file = data_dir / 'train.csv'\n",
        "test_file = data_dir / 'test.csv'\n",
        "\n",
        "def read_csv_10kGNAD(filepath: Path, columns=[\"labels\", \"text\"]) -> pd.DataFrame:\n",
        "    \"\"\"Load 10kGNAD csv file, handling its specific file format.\"\"\"\n",
        "    f = pd.read_csv(filepath, sep=\";\", quotechar=\"'\", names=columns)\n",
        "    return f"
      ],
      "execution_count": 7,
      "outputs": []
    },
    {
      "cell_type": "code",
      "metadata": {
        "id": "pFMweinxRnAT",
        "colab": {
          "base_uri": "https://localhost:8080/",
          "height": 224
        },
        "outputId": "abfd89d2-ceed-4d8f-d8c2-fa65a1858171"
      },
      "source": [
        "train_df = read_csv_10kGNAD(data_dir / 'train.csv')\n",
        "print(train_df.shape[0], 'articles')\n",
        "display(train_df.head())"
      ],
      "execution_count": 37,
      "outputs": [
        {
          "output_type": "stream",
          "name": "stdout",
          "text": [
            "9245 articles\n"
          ]
        },
        {
          "output_type": "display_data",
          "data": {
            "text/html": [
              "<div>\n",
              "<style scoped>\n",
              "    .dataframe tbody tr th:only-of-type {\n",
              "        vertical-align: middle;\n",
              "    }\n",
              "\n",
              "    .dataframe tbody tr th {\n",
              "        vertical-align: top;\n",
              "    }\n",
              "\n",
              "    .dataframe thead th {\n",
              "        text-align: right;\n",
              "    }\n",
              "</style>\n",
              "<table border=\"1\" class=\"dataframe\">\n",
              "  <thead>\n",
              "    <tr style=\"text-align: right;\">\n",
              "      <th></th>\n",
              "      <th>labels</th>\n",
              "      <th>text</th>\n",
              "    </tr>\n",
              "  </thead>\n",
              "  <tbody>\n",
              "    <tr>\n",
              "      <th>0</th>\n",
              "      <td>Sport</td>\n",
              "      <td>21-Jähriger fällt wohl bis Saisonende aus. Wie...</td>\n",
              "    </tr>\n",
              "    <tr>\n",
              "      <th>1</th>\n",
              "      <td>Kultur</td>\n",
              "      <td>Erfundene Bilder zu Filmen, die als verloren g...</td>\n",
              "    </tr>\n",
              "    <tr>\n",
              "      <th>2</th>\n",
              "      <td>Web</td>\n",
              "      <td>Der frischgekürte CEO Sundar Pichai setzt auf ...</td>\n",
              "    </tr>\n",
              "    <tr>\n",
              "      <th>3</th>\n",
              "      <td>Wirtschaft</td>\n",
              "      <td>Putin: \"Einigung, dass wir Menge auf Niveau vo...</td>\n",
              "    </tr>\n",
              "    <tr>\n",
              "      <th>4</th>\n",
              "      <td>Inland</td>\n",
              "      <td>Estland sieht den künftigen österreichischen P...</td>\n",
              "    </tr>\n",
              "  </tbody>\n",
              "</table>\n",
              "</div>"
            ],
            "text/plain": [
              "       labels                                               text\n",
              "0       Sport  21-Jähriger fällt wohl bis Saisonende aus. Wie...\n",
              "1      Kultur  Erfundene Bilder zu Filmen, die als verloren g...\n",
              "2         Web  Der frischgekürte CEO Sundar Pichai setzt auf ...\n",
              "3  Wirtschaft  Putin: \"Einigung, dass wir Menge auf Niveau vo...\n",
              "4      Inland  Estland sieht den künftigen österreichischen P..."
            ]
          },
          "metadata": {}
        }
      ]
    },
    {
      "cell_type": "code",
      "metadata": {
        "id": "hhCGAswmBG5u",
        "colab": {
          "base_uri": "https://localhost:8080/",
          "height": 224
        },
        "outputId": "a929502d-b429-4ffe-ef97-981e4d20cfd5"
      },
      "source": [
        "test_df = read_csv_10kGNAD(data_dir / 'test.csv')\n",
        "print(test_df.shape[0], 'articles')\n",
        "display(test_df.head())"
      ],
      "execution_count": 38,
      "outputs": [
        {
          "output_type": "stream",
          "name": "stdout",
          "text": [
            "1028 articles\n"
          ]
        },
        {
          "output_type": "display_data",
          "data": {
            "text/html": [
              "<div>\n",
              "<style scoped>\n",
              "    .dataframe tbody tr th:only-of-type {\n",
              "        vertical-align: middle;\n",
              "    }\n",
              "\n",
              "    .dataframe tbody tr th {\n",
              "        vertical-align: top;\n",
              "    }\n",
              "\n",
              "    .dataframe thead th {\n",
              "        text-align: right;\n",
              "    }\n",
              "</style>\n",
              "<table border=\"1\" class=\"dataframe\">\n",
              "  <thead>\n",
              "    <tr style=\"text-align: right;\">\n",
              "      <th></th>\n",
              "      <th>labels</th>\n",
              "      <th>text</th>\n",
              "    </tr>\n",
              "  </thead>\n",
              "  <tbody>\n",
              "    <tr>\n",
              "      <th>0</th>\n",
              "      <td>Wirtschaft</td>\n",
              "      <td>Die Gewerkschaft GPA-djp lanciert den \"All-in-...</td>\n",
              "    </tr>\n",
              "    <tr>\n",
              "      <th>1</th>\n",
              "      <td>Sport</td>\n",
              "      <td>Franzosen verteidigen 2:1-Führung – Kritische ...</td>\n",
              "    </tr>\n",
              "    <tr>\n",
              "      <th>2</th>\n",
              "      <td>Web</td>\n",
              "      <td>Neues Video von Designern macht im Netz die Ru...</td>\n",
              "    </tr>\n",
              "    <tr>\n",
              "      <th>3</th>\n",
              "      <td>Sport</td>\n",
              "      <td>23-jähriger Brasilianer muss vier Spiele pausi...</td>\n",
              "    </tr>\n",
              "    <tr>\n",
              "      <th>4</th>\n",
              "      <td>International</td>\n",
              "      <td>Aufständische verwendeten Chemikalie bei Gefec...</td>\n",
              "    </tr>\n",
              "  </tbody>\n",
              "</table>\n",
              "</div>"
            ],
            "text/plain": [
              "          labels                                               text\n",
              "0     Wirtschaft  Die Gewerkschaft GPA-djp lanciert den \"All-in-...\n",
              "1          Sport  Franzosen verteidigen 2:1-Führung – Kritische ...\n",
              "2            Web  Neues Video von Designern macht im Netz die Ru...\n",
              "3          Sport  23-jähriger Brasilianer muss vier Spiele pausi...\n",
              "4  International  Aufständische verwendeten Chemikalie bei Gefec..."
            ]
          },
          "metadata": {}
        }
      ]
    },
    {
      "cell_type": "markdown",
      "metadata": {
        "id": "oFgSEkulaNq3"
      },
      "source": [
        "## Prepare Data for Model Training\n",
        "\n",
        "There are a few requiremenf for feeding training data into SimpleTransformers:\n",
        "\n",
        "* columns should be labeled `labels` and `text` (already done when reading the data)\n",
        "* labels must be encoded as int values (starting at `0`!)\n",
        "\n",
        "Additionally, we can handle imbalanced datasets by\n",
        "\n",
        "* computing class weights for training"
      ]
    },
    {
      "cell_type": "markdown",
      "metadata": {
        "id": "asYfSgYXCxQt"
      },
      "source": [
        "### Label Encoding"
      ]
    },
    {
      "cell_type": "code",
      "metadata": {
        "id": "LMPJFyt8C-Z5",
        "colab": {
          "base_uri": "https://localhost:8080/",
          "height": 206
        },
        "outputId": "10e9b456-7410-4f91-933d-ed3bb5d53e73"
      },
      "source": [
        "from sklearn.preprocessing import LabelEncoder\n",
        "\n",
        "def encode_labels(train: pd.DataFrame, test: pd.DataFrame):\n",
        "    le = LabelEncoder()\n",
        "\n",
        "    train_labels = le.fit_transform(train.labels)\n",
        "    test_labels = le.transform(test.labels)\n",
        "\n",
        "    return train.assign(labels=train_labels), test.assign(labels=test_labels), le\n",
        "\n",
        "# caution overwriting data\n",
        "train_df, test_df, le = encode_labels(train_df, test_df)\n",
        "display(train_df.head())"
      ],
      "execution_count": 39,
      "outputs": [
        {
          "output_type": "display_data",
          "data": {
            "text/html": [
              "<div>\n",
              "<style scoped>\n",
              "    .dataframe tbody tr th:only-of-type {\n",
              "        vertical-align: middle;\n",
              "    }\n",
              "\n",
              "    .dataframe tbody tr th {\n",
              "        vertical-align: top;\n",
              "    }\n",
              "\n",
              "    .dataframe thead th {\n",
              "        text-align: right;\n",
              "    }\n",
              "</style>\n",
              "<table border=\"1\" class=\"dataframe\">\n",
              "  <thead>\n",
              "    <tr style=\"text-align: right;\">\n",
              "      <th></th>\n",
              "      <th>labels</th>\n",
              "      <th>text</th>\n",
              "    </tr>\n",
              "  </thead>\n",
              "  <tbody>\n",
              "    <tr>\n",
              "      <th>0</th>\n",
              "      <td>5</td>\n",
              "      <td>21-Jähriger fällt wohl bis Saisonende aus. Wie...</td>\n",
              "    </tr>\n",
              "    <tr>\n",
              "      <th>1</th>\n",
              "      <td>3</td>\n",
              "      <td>Erfundene Bilder zu Filmen, die als verloren g...</td>\n",
              "    </tr>\n",
              "    <tr>\n",
              "      <th>2</th>\n",
              "      <td>6</td>\n",
              "      <td>Der frischgekürte CEO Sundar Pichai setzt auf ...</td>\n",
              "    </tr>\n",
              "    <tr>\n",
              "      <th>3</th>\n",
              "      <td>7</td>\n",
              "      <td>Putin: \"Einigung, dass wir Menge auf Niveau vo...</td>\n",
              "    </tr>\n",
              "    <tr>\n",
              "      <th>4</th>\n",
              "      <td>1</td>\n",
              "      <td>Estland sieht den künftigen österreichischen P...</td>\n",
              "    </tr>\n",
              "  </tbody>\n",
              "</table>\n",
              "</div>"
            ],
            "text/plain": [
              "   labels                                               text\n",
              "0       5  21-Jähriger fällt wohl bis Saisonende aus. Wie...\n",
              "1       3  Erfundene Bilder zu Filmen, die als verloren g...\n",
              "2       6  Der frischgekürte CEO Sundar Pichai setzt auf ...\n",
              "3       7  Putin: \"Einigung, dass wir Menge auf Niveau vo...\n",
              "4       1  Estland sieht den künftigen österreichischen P..."
            ]
          },
          "metadata": {}
        }
      ]
    },
    {
      "cell_type": "markdown",
      "metadata": {
        "id": "96Q4lMDDC7r0"
      },
      "source": [
        "### Computing Class Weights (not used yet)"
      ]
    },
    {
      "cell_type": "code",
      "metadata": {
        "id": "aQ4ejcR5LsDq",
        "colab": {
          "base_uri": "https://localhost:8080/",
          "height": 332
        },
        "outputId": "c51f5c86-4ae5-480f-adbe-3b5eae525b92"
      },
      "source": [
        "from sklearn.utils.class_weight import compute_class_weight\n",
        "\n",
        "def class_weights(labels: pd.Series) -> pd.DataFrame:\n",
        "    \"\"\"Compute class weights for imbalanced data.\"\"\"\n",
        "    uniq_labels = labels.unique()\n",
        "    counts_s = labels.value_counts().reindex(uniq_labels)\n",
        "    weights = compute_class_weight(\"balanced\", uniq_labels, labels)\n",
        "    return pd.DataFrame({\"count\": counts_s, \"weight\": weights}).sort_index()\n",
        "\n",
        "weights_df = class_weights(train_df.labels)\n",
        "display(weights_df)"
      ],
      "execution_count": 11,
      "outputs": [
        {
          "output_type": "display_data",
          "data": {
            "text/html": [
              "<div>\n",
              "<style scoped>\n",
              "    .dataframe tbody tr th:only-of-type {\n",
              "        vertical-align: middle;\n",
              "    }\n",
              "\n",
              "    .dataframe tbody tr th {\n",
              "        vertical-align: top;\n",
              "    }\n",
              "\n",
              "    .dataframe thead th {\n",
              "        text-align: right;\n",
              "    }\n",
              "</style>\n",
              "<table border=\"1\" class=\"dataframe\">\n",
              "  <thead>\n",
              "    <tr style=\"text-align: right;\">\n",
              "      <th></th>\n",
              "      <th>count</th>\n",
              "      <th>weight</th>\n",
              "    </tr>\n",
              "  </thead>\n",
              "  <tbody>\n",
              "    <tr>\n",
              "      <th>0</th>\n",
              "      <td>601</td>\n",
              "      <td>1.709188</td>\n",
              "    </tr>\n",
              "    <tr>\n",
              "      <th>1</th>\n",
              "      <td>913</td>\n",
              "      <td>1.125106</td>\n",
              "    </tr>\n",
              "    <tr>\n",
              "      <th>2</th>\n",
              "      <td>1360</td>\n",
              "      <td>0.755310</td>\n",
              "    </tr>\n",
              "    <tr>\n",
              "      <th>3</th>\n",
              "      <td>485</td>\n",
              "      <td>2.117984</td>\n",
              "    </tr>\n",
              "    <tr>\n",
              "      <th>4</th>\n",
              "      <td>1510</td>\n",
              "      <td>0.680280</td>\n",
              "    </tr>\n",
              "    <tr>\n",
              "      <th>5</th>\n",
              "      <td>1081</td>\n",
              "      <td>0.950252</td>\n",
              "    </tr>\n",
              "    <tr>\n",
              "      <th>6</th>\n",
              "      <td>1509</td>\n",
              "      <td>0.680730</td>\n",
              "    </tr>\n",
              "    <tr>\n",
              "      <th>7</th>\n",
              "      <td>1270</td>\n",
              "      <td>0.808836</td>\n",
              "    </tr>\n",
              "    <tr>\n",
              "      <th>8</th>\n",
              "      <td>516</td>\n",
              "      <td>1.990741</td>\n",
              "    </tr>\n",
              "  </tbody>\n",
              "</table>\n",
              "</div>"
            ],
            "text/plain": [
              "   count    weight\n",
              "0    601  1.709188\n",
              "1    913  1.125106\n",
              "2   1360  0.755310\n",
              "3    485  2.117984\n",
              "4   1510  0.680280\n",
              "5   1081  0.950252\n",
              "6   1509  0.680730\n",
              "7   1270  0.808836\n",
              "8    516  1.990741"
            ]
          },
          "metadata": {}
        }
      ]
    },
    {
      "cell_type": "markdown",
      "metadata": {
        "id": "xclwtZOSanXP"
      },
      "source": [
        "## Model Setup"
      ]
    },
    {
      "cell_type": "code",
      "metadata": {
        "id": "feusxakWaTCB"
      },
      "source": [
        "from sklearn.metrics import f1_score, accuracy_score, precision_score, recall_score\n",
        "\n",
        "def f1_multiclass(labels, preds):\n",
        "    return f1_score(labels, preds, average='macro')\n",
        "\n",
        "def precision_multiclass(labels, preds):\n",
        "    return precision_score(labels, preds, average='macro')\n",
        "\n",
        "def recall_multiclass(labels, preds):\n",
        "    return recall_score(labels, preds, average='macro')"
      ],
      "execution_count": 12,
      "outputs": []
    },
    {
      "cell_type": "code",
      "metadata": {
        "id": "KtUSAQvepKpm"
      },
      "source": [
        "train_args = {\n",
        "    \"reprocess_input_data\": True,\n",
        "    \"overwrite_output_dir\": True,\n",
        "    \"evaluate_during_training\": True,\n",
        "    \"evaluate_during_training_steps\": 200,    \n",
        "    \"evaluate_during_training_verbose\": False,\n",
        "    \"evaluate_during_training_silent\": True,\n",
        "    \"silent\": True,\n",
        "    \"fp16\": False,\n",
        "    \"wandb_project\": project_name,\n",
        "    }"
      ],
      "execution_count": 15,
      "outputs": []
    },
    {
      "cell_type": "code",
      "metadata": {
        "id": "ZKZgDXsgcHFt"
      },
      "source": [
        "def train():\n",
        "\n",
        "    # need to create a tokenizer first and adjust train args with tokenizer's lower case setting\n",
        "    tokenizer = AutoTokenizer.from_pretrained(model_name)\n",
        "    args = {**train_args, **{ \"do_lower_case\": tokenizer.do_lower_case }}\n",
        "\n",
        "    # Create a ClassificationModel\n",
        "    model = ClassificationModel(model_type,\n",
        "                                model_name,\n",
        "                                num_labels=train_df.labels.nunique(),\n",
        "                                args=args)\n",
        "\n",
        "\n",
        "    steps, details = model.train_model(train_df,\n",
        "                                       eval_df=test_df,\n",
        "                                       verbose=False,\n",
        "                                       f1=f1_multiclass,\n",
        "                                       acc=accuracy_score,\n",
        "                                       precision=precision_multiclass,\n",
        "                                       recall=recall_multiclass)\n",
        "    \n",
        "    result, _, _ = model.eval_model(test_df,\n",
        "                                    f1=f1_multiclass,\n",
        "                                    acc=accuracy_score,\n",
        "                                    precision=precision_multiclass,\n",
        "                                    recall=recall_multiclass,\n",
        "                                    wandb_log=False)\n",
        "    \n",
        "    print(\", \".join(f\"{k}={v:.4}\" for k,v in pd.Series(result).items()))\n",
        "\n",
        "    wandb.join()"
      ],
      "execution_count": 69,
      "outputs": []
    },
    {
      "cell_type": "code",
      "metadata": {
        "id": "2xMI-XtXebnb",
        "colab": {
          "base_uri": "https://localhost:8080/",
          "height": 86
        },
        "outputId": "64578297-3279-4553-d2ff-574de67a67f6"
      },
      "source": [
        "# run several experiments\n",
        "for i in range(1,5):\n",
        "    train()"
      ],
      "execution_count": 70,
      "outputs": [
        {
          "output_type": "stream",
          "name": "stdout",
          "text": [
            "mcc=0.8641, f1=0.8796, acc=0.8813, precision=0.8812, recall=0.8786, eval_loss=0.3743\n",
            "mcc=0.8585, f1=0.8737, acc=0.8765, precision=0.8758, recall=0.8729, eval_loss=0.4117\n",
            "mcc=0.8699, f1=0.8811, acc=0.8862, precision=0.8826, recall=0.882, eval_loss=0.3799\n",
            "mcc=0.8685, f1=0.8821, acc=0.8852, precision=0.8839, recall=0.8808, eval_loss=0.379\n"
          ]
        }
      ]
    },
    {
      "cell_type": "markdown",
      "metadata": {
        "id": "hySEe1YaAqr4"
      },
      "source": [
        "---\n",
        "## Evaluate Best Model"
      ]
    },
    {
      "cell_type": "code",
      "metadata": {
        "colab": {
          "base_uri": "https://localhost:8080/"
        },
        "id": "ZBezSxzSYdM_",
        "outputId": "a1c46d6f-16da-4ca4-b784-b8e46499be4c"
      },
      "source": [
        "!ls -la outputs/"
      ],
      "execution_count": 71,
      "outputs": [
        {
          "output_type": "stream",
          "name": "stdout",
          "text": [
            "total 264112\n",
            "drwxr-xr-x 9 root root      4096 Nov 14 21:22 .\n",
            "drwxr-xr-x 1 root root      4096 Nov 14 21:19 ..\n",
            "drwxr-xr-x 2 root root      4096 Nov 14 21:20 best_model\n",
            "drwxr-xr-x 2 root root      4096 Nov 14 21:21 checkpoint-1000\n",
            "drwxr-xr-x 2 root root      4096 Nov 14 21:22 checkpoint-1156-epoch-1\n",
            "drwxr-xr-x 2 root root      4096 Nov 14 21:20 checkpoint-200\n",
            "drwxr-xr-x 2 root root      4096 Nov 14 21:20 checkpoint-400\n",
            "drwxr-xr-x 2 root root      4096 Nov 14 21:21 checkpoint-600\n",
            "drwxr-xr-x 2 root root      4096 Nov 14 21:21 checkpoint-800\n",
            "-rw-r--r-- 1 root root      1024 Nov 14 22:29 config.json\n",
            "-rw-r--r-- 1 root root       162 Nov 14 22:29 eval_results.txt\n",
            "-rw-r--r-- 1 root root      2685 Nov 14 22:29 model_args.json\n",
            "-rw-r--r-- 1 root root 269663345 Nov 14 22:29 pytorch_model.bin\n",
            "-rw-r--r-- 1 root root       112 Nov 14 22:29 special_tokens_map.json\n",
            "-rw-r--r-- 1 root root       339 Nov 14 22:29 tokenizer_config.json\n",
            "-rw-r--r-- 1 root root    479105 Nov 14 22:29 tokenizer.json\n",
            "-rw-r--r-- 1 root root      3247 Nov 14 22:29 training_args.bin\n",
            "-rw-r--r-- 1 root root       881 Nov 14 22:29 training_progress_scores.csv\n",
            "-rw-r--r-- 1 root root    239836 Nov 14 22:29 vocab.txt\n"
          ]
        }
      ]
    },
    {
      "cell_type": "code",
      "metadata": {
        "id": "xcEAe5JKYhA3"
      },
      "source": [
        "# loading best model (as stored by SimpleTransformers)\n",
        "# CAUTION: for some reason this seems to be the last model not the best model\n",
        "model = ClassificationModel(model_type, \"outputs/best_model\")"
      ],
      "execution_count": 72,
      "outputs": []
    },
    {
      "cell_type": "code",
      "metadata": {
        "id": "s1009AbGcIeg",
        "colab": {
          "base_uri": "https://localhost:8080/"
        },
        "outputId": "68c714ae-732d-456d-c6cf-6dc9abef5743"
      },
      "source": [
        "result, model_outputs, wrong_predictions = model.eval_model(test_df, f1=f1_multiclass, acc=accuracy_score, precision=precision_multiclass, recall=recall_multiclass, wandb_log=False)\n",
        "pd.Series(result)"
      ],
      "execution_count": 73,
      "outputs": [
        {
          "output_type": "execute_result",
          "data": {
            "text/plain": [
              "mcc          0.868474\n",
              "f1           0.882109\n",
              "acc          0.885214\n",
              "precision    0.883880\n",
              "recall       0.880802\n",
              "eval_loss    0.379012\n",
              "dtype: float64"
            ]
          },
          "metadata": {},
          "execution_count": 73
        }
      ]
    },
    {
      "cell_type": "code",
      "metadata": {
        "id": "jAhyTUI9bOcM",
        "colab": {
          "base_uri": "https://localhost:8080/",
          "height": 424
        },
        "outputId": "0fbcf62c-eff0-4813-a09a-266623240752"
      },
      "source": [
        "preds = pd.DataFrame(model_outputs, columns=le.classes_)\n",
        "preds"
      ],
      "execution_count": 74,
      "outputs": [
        {
          "output_type": "execute_result",
          "data": {
            "text/html": [
              "<div>\n",
              "<style scoped>\n",
              "    .dataframe tbody tr th:only-of-type {\n",
              "        vertical-align: middle;\n",
              "    }\n",
              "\n",
              "    .dataframe tbody tr th {\n",
              "        vertical-align: top;\n",
              "    }\n",
              "\n",
              "    .dataframe thead th {\n",
              "        text-align: right;\n",
              "    }\n",
              "</style>\n",
              "<table border=\"1\" class=\"dataframe\">\n",
              "  <thead>\n",
              "    <tr style=\"text-align: right;\">\n",
              "      <th></th>\n",
              "      <th>Etat</th>\n",
              "      <th>Inland</th>\n",
              "      <th>International</th>\n",
              "      <th>Kultur</th>\n",
              "      <th>Panorama</th>\n",
              "      <th>Sport</th>\n",
              "      <th>Web</th>\n",
              "      <th>Wirtschaft</th>\n",
              "      <th>Wissenschaft</th>\n",
              "    </tr>\n",
              "  </thead>\n",
              "  <tbody>\n",
              "    <tr>\n",
              "      <th>0</th>\n",
              "      <td>-0.876530</td>\n",
              "      <td>2.946143</td>\n",
              "      <td>-0.962646</td>\n",
              "      <td>-2.103028</td>\n",
              "      <td>-0.840753</td>\n",
              "      <td>-2.275208</td>\n",
              "      <td>-0.945771</td>\n",
              "      <td>3.987202</td>\n",
              "      <td>-1.873073</td>\n",
              "    </tr>\n",
              "    <tr>\n",
              "      <th>1</th>\n",
              "      <td>-1.506068</td>\n",
              "      <td>-1.769839</td>\n",
              "      <td>-1.334047</td>\n",
              "      <td>-0.853971</td>\n",
              "      <td>-0.629229</td>\n",
              "      <td>6.310894</td>\n",
              "      <td>-1.118965</td>\n",
              "      <td>-0.756840</td>\n",
              "      <td>-1.061794</td>\n",
              "    </tr>\n",
              "    <tr>\n",
              "      <th>2</th>\n",
              "      <td>-0.916884</td>\n",
              "      <td>-1.182561</td>\n",
              "      <td>-1.041860</td>\n",
              "      <td>-1.375201</td>\n",
              "      <td>-1.185755</td>\n",
              "      <td>-2.032864</td>\n",
              "      <td>6.058130</td>\n",
              "      <td>-0.062409</td>\n",
              "      <td>-1.349943</td>\n",
              "    </tr>\n",
              "    <tr>\n",
              "      <th>3</th>\n",
              "      <td>-1.494297</td>\n",
              "      <td>-1.778045</td>\n",
              "      <td>-1.204552</td>\n",
              "      <td>-0.870875</td>\n",
              "      <td>-0.467632</td>\n",
              "      <td>6.212179</td>\n",
              "      <td>-1.074701</td>\n",
              "      <td>-0.802107</td>\n",
              "      <td>-1.107176</td>\n",
              "    </tr>\n",
              "    <tr>\n",
              "      <th>4</th>\n",
              "      <td>-1.329643</td>\n",
              "      <td>-1.451951</td>\n",
              "      <td>5.778667</td>\n",
              "      <td>-1.430867</td>\n",
              "      <td>0.092532</td>\n",
              "      <td>-2.052147</td>\n",
              "      <td>-0.307395</td>\n",
              "      <td>-0.449287</td>\n",
              "      <td>-1.569076</td>\n",
              "    </tr>\n",
              "    <tr>\n",
              "      <th>...</th>\n",
              "      <td>...</td>\n",
              "      <td>...</td>\n",
              "      <td>...</td>\n",
              "      <td>...</td>\n",
              "      <td>...</td>\n",
              "      <td>...</td>\n",
              "      <td>...</td>\n",
              "      <td>...</td>\n",
              "      <td>...</td>\n",
              "    </tr>\n",
              "    <tr>\n",
              "      <th>1023</th>\n",
              "      <td>-0.180114</td>\n",
              "      <td>-1.154644</td>\n",
              "      <td>-1.008521</td>\n",
              "      <td>-1.415806</td>\n",
              "      <td>-1.289979</td>\n",
              "      <td>-2.289228</td>\n",
              "      <td>5.715694</td>\n",
              "      <td>0.211121</td>\n",
              "      <td>-1.754068</td>\n",
              "    </tr>\n",
              "    <tr>\n",
              "      <th>1024</th>\n",
              "      <td>-0.538880</td>\n",
              "      <td>5.011572</td>\n",
              "      <td>-0.189598</td>\n",
              "      <td>-1.434116</td>\n",
              "      <td>-0.386076</td>\n",
              "      <td>-2.254290</td>\n",
              "      <td>-0.726566</td>\n",
              "      <td>0.364774</td>\n",
              "      <td>-1.741417</td>\n",
              "    </tr>\n",
              "    <tr>\n",
              "      <th>1025</th>\n",
              "      <td>-1.408488</td>\n",
              "      <td>-1.489617</td>\n",
              "      <td>-1.456370</td>\n",
              "      <td>-0.808149</td>\n",
              "      <td>-0.511240</td>\n",
              "      <td>6.276954</td>\n",
              "      <td>-1.294935</td>\n",
              "      <td>-0.762925</td>\n",
              "      <td>-1.022554</td>\n",
              "    </tr>\n",
              "    <tr>\n",
              "      <th>1026</th>\n",
              "      <td>-1.506702</td>\n",
              "      <td>-1.736403</td>\n",
              "      <td>-1.427306</td>\n",
              "      <td>-0.748358</td>\n",
              "      <td>-0.626613</td>\n",
              "      <td>6.271152</td>\n",
              "      <td>-1.051021</td>\n",
              "      <td>-0.722355</td>\n",
              "      <td>-1.005033</td>\n",
              "    </tr>\n",
              "    <tr>\n",
              "      <th>1027</th>\n",
              "      <td>-0.993172</td>\n",
              "      <td>-1.124467</td>\n",
              "      <td>-0.958233</td>\n",
              "      <td>-1.300278</td>\n",
              "      <td>-1.117417</td>\n",
              "      <td>-2.083668</td>\n",
              "      <td>6.134218</td>\n",
              "      <td>-0.310953</td>\n",
              "      <td>-1.401856</td>\n",
              "    </tr>\n",
              "  </tbody>\n",
              "</table>\n",
              "<p>1028 rows × 9 columns</p>\n",
              "</div>"
            ],
            "text/plain": [
              "          Etat    Inland  International  ...       Web  Wirtschaft  Wissenschaft\n",
              "0    -0.876530  2.946143      -0.962646  ... -0.945771    3.987202     -1.873073\n",
              "1    -1.506068 -1.769839      -1.334047  ... -1.118965   -0.756840     -1.061794\n",
              "2    -0.916884 -1.182561      -1.041860  ...  6.058130   -0.062409     -1.349943\n",
              "3    -1.494297 -1.778045      -1.204552  ... -1.074701   -0.802107     -1.107176\n",
              "4    -1.329643 -1.451951       5.778667  ... -0.307395   -0.449287     -1.569076\n",
              "...        ...       ...            ...  ...       ...         ...           ...\n",
              "1023 -0.180114 -1.154644      -1.008521  ...  5.715694    0.211121     -1.754068\n",
              "1024 -0.538880  5.011572      -0.189598  ... -0.726566    0.364774     -1.741417\n",
              "1025 -1.408488 -1.489617      -1.456370  ... -1.294935   -0.762925     -1.022554\n",
              "1026 -1.506702 -1.736403      -1.427306  ... -1.051021   -0.722355     -1.005033\n",
              "1027 -0.993172 -1.124467      -0.958233  ...  6.134218   -0.310953     -1.401856\n",
              "\n",
              "[1028 rows x 9 columns]"
            ]
          },
          "metadata": {},
          "execution_count": 74
        }
      ]
    },
    {
      "cell_type": "code",
      "metadata": {
        "id": "YGjePotsPX2c"
      },
      "source": [
        "# preds.to_csv(\"data/predictions.csv\", index=False)"
      ],
      "execution_count": 75,
      "outputs": []
    },
    {
      "cell_type": "code",
      "metadata": {
        "id": "g0p501p2bn8W"
      },
      "source": [
        "pred_s = pd.DataFrame(model_outputs).idxmax(axis=1)"
      ],
      "execution_count": 76,
      "outputs": []
    },
    {
      "cell_type": "code",
      "metadata": {
        "id": "Y92ATriIeqDR",
        "colab": {
          "base_uri": "https://localhost:8080/"
        },
        "outputId": "9a380a42-d7cf-4384-892b-990c6c41eed5"
      },
      "source": [
        "import sklearn.metrics as skm\n",
        "skm.confusion_matrix(test_df.labels, pred_s)"
      ],
      "execution_count": 77,
      "outputs": [
        {
          "output_type": "execute_result",
          "data": {
            "text/plain": [
              "array([[ 58,   1,   3,   1,   0,   0,   2,   2,   0],\n",
              "       [  1,  85,   2,   2,   5,   0,   0,   5,   2],\n",
              "       [  1,   1, 127,   0,  12,   2,   1,   6,   1],\n",
              "       [  1,   1,   0,  46,   4,   0,   0,   0,   2],\n",
              "       [  1,   7,   8,   2, 141,   0,   1,   5,   3],\n",
              "       [  0,   0,   0,   0,   2, 118,   0,   0,   0],\n",
              "       [  1,   2,   0,   1,   1,   0, 163,   0,   0],\n",
              "       [  0,   8,   3,   0,   6,   0,   1, 122,   1],\n",
              "       [  0,   1,   3,   0,   1,   1,   0,   1,  50]])"
            ]
          },
          "metadata": {},
          "execution_count": 77
        }
      ]
    },
    {
      "cell_type": "code",
      "metadata": {
        "id": "O4Og3hgmcuHZ",
        "colab": {
          "base_uri": "https://localhost:8080/"
        },
        "outputId": "c9a805cb-3d50-4b4d-be2d-eafce6e26f68"
      },
      "source": [
        "print(skm.classification_report(test_df.labels, pred_s, target_names=le.classes_))"
      ],
      "execution_count": 78,
      "outputs": [
        {
          "output_type": "stream",
          "name": "stdout",
          "text": [
            "               precision    recall  f1-score   support\n",
            "\n",
            "         Etat       0.92      0.87      0.89        67\n",
            "       Inland       0.80      0.83      0.82       102\n",
            "International       0.87      0.84      0.86       151\n",
            "       Kultur       0.88      0.85      0.87        54\n",
            "     Panorama       0.82      0.84      0.83       168\n",
            "        Sport       0.98      0.98      0.98       120\n",
            "          Web       0.97      0.97      0.97       168\n",
            "   Wirtschaft       0.87      0.87      0.87       141\n",
            " Wissenschaft       0.85      0.88      0.86        57\n",
            "\n",
            "     accuracy                           0.89      1028\n",
            "    macro avg       0.88      0.88      0.88      1028\n",
            " weighted avg       0.89      0.89      0.89      1028\n",
            "\n"
          ]
        }
      ]
    }
  ]
}