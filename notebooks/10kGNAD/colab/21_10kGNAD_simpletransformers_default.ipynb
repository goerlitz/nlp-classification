{
  "nbformat": 4,
  "nbformat_minor": 0,
  "metadata": {
    "colab": {
      "name": "21_10kGNAD_simpletransformers_default.ipynb",
      "provenance": [],
      "collapsed_sections": [],
      "authorship_tag": "ABX9TyNDa4SBf3yBThrkL5SyF1tV",
      "include_colab_link": true
    },
    "kernelspec": {
      "name": "python3",
      "display_name": "Python 3"
    },
    "language_info": {
      "name": "python"
    },
    "accelerator": "GPU"
  },
  "cells": [
    {
      "cell_type": "markdown",
      "metadata": {
        "id": "view-in-github",
        "colab_type": "text"
      },
      "source": [
        "<a href=\"https://colab.research.google.com/github/goerlitz/nlp-classification/blob/main/notebooks/10kGNAD/colab/21_10kGNAD_simpletransformers_default.ipynb\" target=\"_parent\"><img src=\"https://colab.research.google.com/assets/colab-badge.svg\" alt=\"Open In Colab\"/></a>"
      ]
    },
    {
      "cell_type": "markdown",
      "metadata": {
        "id": "BfF1tsgcZm8o"
      },
      "source": [
        "# Classifying German News Articles with SimpleTransformers\n",
        "\n",
        "## Objectives\n",
        "\n",
        "1. Train a text classifier with transfer learning based on a pretrained German transformer model.\n",
        "2. Keep the implementation simple (just a few lines of code) by using the SimpleTransformers library. It also has sensible default model settings.\n",
        "\n",
        "\n",
        "## Approach\n",
        "\n",
        "Use following pretrained models on the 10k German News Articles dataset to classify 9 news topics.\n",
        "* `distilbert-base-german-cased`\n",
        "* `deepset/gbert-base`\n",
        "\n",
        "## Learnings\n",
        "\n",
        "..."
      ]
    },
    {
      "cell_type": "markdown",
      "metadata": {
        "id": "H4GaTz-bO6ik"
      },
      "source": [
        "## Prerequisites"
      ]
    },
    {
      "cell_type": "code",
      "metadata": {
        "id": "q2bN0o_9nq-Y"
      },
      "source": [
        "# model_type = \"distilbert\"\n",
        "# model_name = \"distilbert-base-german-cased\"\n",
        "\n",
        "# model_type = \"bert\"\n",
        "# model_name = \"deepset/gbert-base\"\n",
        "\n",
        "model_type = \"electra\"\n",
        "model_name = \"deepset/gelectra-large\"\n",
        "\n",
        "project_name = \"10kgnad_default__\" + model_name.replace(\"/\", \"_\")"
      ],
      "execution_count": 5,
      "outputs": []
    },
    {
      "cell_type": "code",
      "metadata": {
        "colab": {
          "base_uri": "https://localhost:8080/"
        },
        "id": "l0PiC_x9NjC3",
        "outputId": "168fe871-ed2e-4890-cc81-c9231a320650"
      },
      "source": [
        "gpu_info = !nvidia-smi\n",
        "gpu_info = '\\n'.join(gpu_info)\n",
        "if gpu_info.find('failed') >= 0:\n",
        "  print('Select the Runtime > \"Change runtime type\" menu to enable a GPU accelerator, ')\n",
        "  print('and then re-execute this cell.')\n",
        "else:\n",
        "  print(gpu_info)"
      ],
      "execution_count": 6,
      "outputs": [
        {
          "output_type": "stream",
          "text": [
            "Tue Jun 15 21:51:53 2021       \n",
            "+-----------------------------------------------------------------------------+\n",
            "| NVIDIA-SMI 465.27       Driver Version: 460.32.03    CUDA Version: 11.2     |\n",
            "|-------------------------------+----------------------+----------------------+\n",
            "| GPU  Name        Persistence-M| Bus-Id        Disp.A | Volatile Uncorr. ECC |\n",
            "| Fan  Temp  Perf  Pwr:Usage/Cap|         Memory-Usage | GPU-Util  Compute M. |\n",
            "|                               |                      |               MIG M. |\n",
            "|===============================+======================+======================|\n",
            "|   0  Tesla V100-SXM2...  Off  | 00000000:00:04.0 Off |                    0 |\n",
            "| N/A   36C    P0    26W / 300W |      0MiB / 16160MiB |      0%      Default |\n",
            "|                               |                      |                  N/A |\n",
            "+-------------------------------+----------------------+----------------------+\n",
            "                                                                               \n",
            "+-----------------------------------------------------------------------------+\n",
            "| Processes:                                                                  |\n",
            "|  GPU   GI   CI        PID   Type   Process name                  GPU Memory |\n",
            "|        ID   ID                                                   Usage      |\n",
            "|=============================================================================|\n",
            "|  No running processes found                                                 |\n",
            "+-----------------------------------------------------------------------------+\n"
          ],
          "name": "stdout"
        }
      ]
    },
    {
      "cell_type": "code",
      "metadata": {
        "colab": {
          "base_uri": "https://localhost:8080/"
        },
        "id": "UFuf6ZDEZ2Xo",
        "outputId": "1ba5d796-352b-4844-afb8-3b66bc7a0a66"
      },
      "source": [
        "# install transformers\n",
        "!pip install -q -U tqdm==4.47.0 transformers simpletransformers >/dev/null\n",
        "\n",
        "# check installed version\n",
        "!pip freeze | grep transformers\n",
        "!pip freeze | grep torch\n",
        "# simpletransformers==0.61.6\n",
        "# transformers==4.6.1\n",
        "# torch==1.8.1+cu101"
      ],
      "execution_count": 7,
      "outputs": [
        {
          "output_type": "stream",
          "text": [
            "\u001b[31mERROR: google-colab 1.0.0 has requirement ipykernel~=4.10, but you'll have ipykernel 5.5.5 which is incompatible.\u001b[0m\n",
            "simpletransformers==0.61.6\n",
            "transformers==4.6.1\n",
            "torch==1.8.1+cu101\n",
            "torchsummary==1.5.1\n",
            "torchtext==0.9.1\n",
            "torchvision==0.9.1+cu101\n"
          ],
          "name": "stdout"
        }
      ]
    },
    {
      "cell_type": "code",
      "metadata": {
        "id": "Wa36sieXlzjQ"
      },
      "source": [
        "import numpy as np\n",
        "import pandas as pd\n",
        "from pathlib import Path\n",
        "import os\n",
        "\n",
        "from simpletransformers.classification import ClassificationModel\n",
        "from transformers import AutoTokenizer\n",
        "from transformers import logging\n",
        "import wandb\n",
        "\n",
        "# hide progress bar when downloading tokenizers - a workaround!\n",
        "logging.get_verbosity = lambda : logging.NOTSET\n",
        "\n",
        "# disable transformer warnings like \"Some weights of the model checkpoint\"\n",
        "logging.set_verbosity_error()\n",
        "\n",
        "# disable logging of wandb\n",
        "os.environ[\"WANDB_SILENT\"] = \"true\""
      ],
      "execution_count": 8,
      "outputs": []
    },
    {
      "cell_type": "markdown",
      "metadata": {
        "id": "AsTaSRJekM0L"
      },
      "source": [
        "## Download Data\n",
        "\n",
        "Using the [10k German News Articles Dataset](https://tblock.github.io/10kGNAD/)"
      ]
    },
    {
      "cell_type": "code",
      "metadata": {
        "id": "pf-3EEDYXlhh",
        "colab": {
          "base_uri": "https://localhost:8080/"
        },
        "outputId": "35a5feef-8577-4c46-f045-548f362de009"
      },
      "source": [
        "%env DIR=data\n",
        "\n",
        "!mkdir -p $DIR\n",
        "!wget -nc https://github.com/tblock/10kGNAD/blob/master/train.csv?raw=true -nv -O $DIR/train.csv\n",
        "!wget -nc https://github.com/tblock/10kGNAD/blob/master/test.csv?raw=true -nv -O $DIR/test.csv\n",
        "!ls -lAh $DIR | cut -d \" \" -f 5-"
      ],
      "execution_count": 9,
      "outputs": [
        {
          "output_type": "stream",
          "text": [
            "env: DIR=data\n",
            "2021-06-15 21:52:27 URL:https://raw.githubusercontent.com/tblock/10kGNAD/master/train.csv [24405789/24405789] -> \"data/train.csv\" [1]\n",
            "2021-06-15 21:52:29 URL:https://raw.githubusercontent.com/tblock/10kGNAD/master/test.csv [2755020/2755020] -> \"data/test.csv\" [1]\n",
            "\n",
            "2.7M Jun 15 21:52 test.csv\n",
            " 24M Jun 15 21:52 train.csv\n"
          ],
          "name": "stdout"
        }
      ]
    },
    {
      "cell_type": "markdown",
      "metadata": {
        "id": "XuLSIj9NkXAG"
      },
      "source": [
        "## Import Data"
      ]
    },
    {
      "cell_type": "code",
      "metadata": {
        "id": "fL2RFkuaaQug"
      },
      "source": [
        "data_dir = Path(\"data/\")\n",
        "\n",
        "train_file = data_dir / 'train.csv'\n",
        "test_file = data_dir / 'test.csv'\n",
        "\n",
        "def read_csv_10kGNAD(filepath: Path, columns=[\"labels\", \"text\"]) -> pd.DataFrame:\n",
        "    \"\"\"Load 10kGNAD csv file, handling its specific file format.\"\"\"\n",
        "    f = pd.read_csv(filepath, sep=\";\", quotechar=\"'\", names=columns)\n",
        "    return f"
      ],
      "execution_count": 10,
      "outputs": []
    },
    {
      "cell_type": "code",
      "metadata": {
        "id": "pFMweinxRnAT",
        "colab": {
          "base_uri": "https://localhost:8080/",
          "height": 224
        },
        "outputId": "17296855-9c1a-4d70-d835-bf90e408c51d"
      },
      "source": [
        "train_df = read_csv_10kGNAD(data_dir / 'train.csv')\n",
        "print(train_df.shape[0], 'articles')\n",
        "display(train_df.head())"
      ],
      "execution_count": 11,
      "outputs": [
        {
          "output_type": "stream",
          "text": [
            "9245 articles\n"
          ],
          "name": "stdout"
        },
        {
          "output_type": "display_data",
          "data": {
            "text/html": [
              "<div>\n",
              "<style scoped>\n",
              "    .dataframe tbody tr th:only-of-type {\n",
              "        vertical-align: middle;\n",
              "    }\n",
              "\n",
              "    .dataframe tbody tr th {\n",
              "        vertical-align: top;\n",
              "    }\n",
              "\n",
              "    .dataframe thead th {\n",
              "        text-align: right;\n",
              "    }\n",
              "</style>\n",
              "<table border=\"1\" class=\"dataframe\">\n",
              "  <thead>\n",
              "    <tr style=\"text-align: right;\">\n",
              "      <th></th>\n",
              "      <th>labels</th>\n",
              "      <th>text</th>\n",
              "    </tr>\n",
              "  </thead>\n",
              "  <tbody>\n",
              "    <tr>\n",
              "      <th>0</th>\n",
              "      <td>Sport</td>\n",
              "      <td>21-Jähriger fällt wohl bis Saisonende aus. Wie...</td>\n",
              "    </tr>\n",
              "    <tr>\n",
              "      <th>1</th>\n",
              "      <td>Kultur</td>\n",
              "      <td>Erfundene Bilder zu Filmen, die als verloren g...</td>\n",
              "    </tr>\n",
              "    <tr>\n",
              "      <th>2</th>\n",
              "      <td>Web</td>\n",
              "      <td>Der frischgekürte CEO Sundar Pichai setzt auf ...</td>\n",
              "    </tr>\n",
              "    <tr>\n",
              "      <th>3</th>\n",
              "      <td>Wirtschaft</td>\n",
              "      <td>Putin: \"Einigung, dass wir Menge auf Niveau vo...</td>\n",
              "    </tr>\n",
              "    <tr>\n",
              "      <th>4</th>\n",
              "      <td>Inland</td>\n",
              "      <td>Estland sieht den künftigen österreichischen P...</td>\n",
              "    </tr>\n",
              "  </tbody>\n",
              "</table>\n",
              "</div>"
            ],
            "text/plain": [
              "       labels                                               text\n",
              "0       Sport  21-Jähriger fällt wohl bis Saisonende aus. Wie...\n",
              "1      Kultur  Erfundene Bilder zu Filmen, die als verloren g...\n",
              "2         Web  Der frischgekürte CEO Sundar Pichai setzt auf ...\n",
              "3  Wirtschaft  Putin: \"Einigung, dass wir Menge auf Niveau vo...\n",
              "4      Inland  Estland sieht den künftigen österreichischen P..."
            ]
          },
          "metadata": {
            "tags": []
          }
        }
      ]
    },
    {
      "cell_type": "code",
      "metadata": {
        "id": "hhCGAswmBG5u",
        "colab": {
          "base_uri": "https://localhost:8080/",
          "height": 224
        },
        "outputId": "e40b2b84-16a2-4f85-acc6-0d2e8ca393c1"
      },
      "source": [
        "test_df = read_csv_10kGNAD(data_dir / 'test.csv')\n",
        "print(test_df.shape[0], 'articles')\n",
        "display(test_df.head())"
      ],
      "execution_count": 12,
      "outputs": [
        {
          "output_type": "stream",
          "text": [
            "1028 articles\n"
          ],
          "name": "stdout"
        },
        {
          "output_type": "display_data",
          "data": {
            "text/html": [
              "<div>\n",
              "<style scoped>\n",
              "    .dataframe tbody tr th:only-of-type {\n",
              "        vertical-align: middle;\n",
              "    }\n",
              "\n",
              "    .dataframe tbody tr th {\n",
              "        vertical-align: top;\n",
              "    }\n",
              "\n",
              "    .dataframe thead th {\n",
              "        text-align: right;\n",
              "    }\n",
              "</style>\n",
              "<table border=\"1\" class=\"dataframe\">\n",
              "  <thead>\n",
              "    <tr style=\"text-align: right;\">\n",
              "      <th></th>\n",
              "      <th>labels</th>\n",
              "      <th>text</th>\n",
              "    </tr>\n",
              "  </thead>\n",
              "  <tbody>\n",
              "    <tr>\n",
              "      <th>0</th>\n",
              "      <td>Wirtschaft</td>\n",
              "      <td>Die Gewerkschaft GPA-djp lanciert den \"All-in-...</td>\n",
              "    </tr>\n",
              "    <tr>\n",
              "      <th>1</th>\n",
              "      <td>Sport</td>\n",
              "      <td>Franzosen verteidigen 2:1-Führung – Kritische ...</td>\n",
              "    </tr>\n",
              "    <tr>\n",
              "      <th>2</th>\n",
              "      <td>Web</td>\n",
              "      <td>Neues Video von Designern macht im Netz die Ru...</td>\n",
              "    </tr>\n",
              "    <tr>\n",
              "      <th>3</th>\n",
              "      <td>Sport</td>\n",
              "      <td>23-jähriger Brasilianer muss vier Spiele pausi...</td>\n",
              "    </tr>\n",
              "    <tr>\n",
              "      <th>4</th>\n",
              "      <td>International</td>\n",
              "      <td>Aufständische verwendeten Chemikalie bei Gefec...</td>\n",
              "    </tr>\n",
              "  </tbody>\n",
              "</table>\n",
              "</div>"
            ],
            "text/plain": [
              "          labels                                               text\n",
              "0     Wirtschaft  Die Gewerkschaft GPA-djp lanciert den \"All-in-...\n",
              "1          Sport  Franzosen verteidigen 2:1-Führung – Kritische ...\n",
              "2            Web  Neues Video von Designern macht im Netz die Ru...\n",
              "3          Sport  23-jähriger Brasilianer muss vier Spiele pausi...\n",
              "4  International  Aufständische verwendeten Chemikalie bei Gefec..."
            ]
          },
          "metadata": {
            "tags": []
          }
        }
      ]
    },
    {
      "cell_type": "markdown",
      "metadata": {
        "id": "oFgSEkulaNq3"
      },
      "source": [
        "## Prepare Data for Model Training\n",
        "\n",
        "There are a few requiremenf for feeding training data into SimpleTransformers:\n",
        "\n",
        "* columns should be labeled `labels` and `text` (already done when reading the data)\n",
        "* labels must be encoded as int values (starting at `0`!)\n",
        "\n",
        "Additionally, we can handle imbalanced datasets by\n",
        "\n",
        "* computing class weights for training"
      ]
    },
    {
      "cell_type": "markdown",
      "metadata": {
        "id": "asYfSgYXCxQt"
      },
      "source": [
        "### Label Encoding"
      ]
    },
    {
      "cell_type": "code",
      "metadata": {
        "id": "LMPJFyt8C-Z5",
        "colab": {
          "base_uri": "https://localhost:8080/",
          "height": 206
        },
        "outputId": "739c662e-b35b-4e03-e3a9-cb69dc22c440"
      },
      "source": [
        "from sklearn.preprocessing import LabelEncoder\n",
        "\n",
        "def encode_labels(train: pd.DataFrame, test: pd.DataFrame):\n",
        "    le = LabelEncoder()\n",
        "\n",
        "    train_labels = le.fit_transform(train.labels)\n",
        "    test_labels = le.transform(test.labels)\n",
        "\n",
        "    return train.assign(labels=train_labels), test.assign(labels=test_labels)\n",
        "\n",
        "train_df, test_df = encode_labels(train_df, test_df)\n",
        "display(train_df.head())"
      ],
      "execution_count": 13,
      "outputs": [
        {
          "output_type": "display_data",
          "data": {
            "text/html": [
              "<div>\n",
              "<style scoped>\n",
              "    .dataframe tbody tr th:only-of-type {\n",
              "        vertical-align: middle;\n",
              "    }\n",
              "\n",
              "    .dataframe tbody tr th {\n",
              "        vertical-align: top;\n",
              "    }\n",
              "\n",
              "    .dataframe thead th {\n",
              "        text-align: right;\n",
              "    }\n",
              "</style>\n",
              "<table border=\"1\" class=\"dataframe\">\n",
              "  <thead>\n",
              "    <tr style=\"text-align: right;\">\n",
              "      <th></th>\n",
              "      <th>labels</th>\n",
              "      <th>text</th>\n",
              "    </tr>\n",
              "  </thead>\n",
              "  <tbody>\n",
              "    <tr>\n",
              "      <th>0</th>\n",
              "      <td>5</td>\n",
              "      <td>21-Jähriger fällt wohl bis Saisonende aus. Wie...</td>\n",
              "    </tr>\n",
              "    <tr>\n",
              "      <th>1</th>\n",
              "      <td>3</td>\n",
              "      <td>Erfundene Bilder zu Filmen, die als verloren g...</td>\n",
              "    </tr>\n",
              "    <tr>\n",
              "      <th>2</th>\n",
              "      <td>6</td>\n",
              "      <td>Der frischgekürte CEO Sundar Pichai setzt auf ...</td>\n",
              "    </tr>\n",
              "    <tr>\n",
              "      <th>3</th>\n",
              "      <td>7</td>\n",
              "      <td>Putin: \"Einigung, dass wir Menge auf Niveau vo...</td>\n",
              "    </tr>\n",
              "    <tr>\n",
              "      <th>4</th>\n",
              "      <td>1</td>\n",
              "      <td>Estland sieht den künftigen österreichischen P...</td>\n",
              "    </tr>\n",
              "  </tbody>\n",
              "</table>\n",
              "</div>"
            ],
            "text/plain": [
              "   labels                                               text\n",
              "0       5  21-Jähriger fällt wohl bis Saisonende aus. Wie...\n",
              "1       3  Erfundene Bilder zu Filmen, die als verloren g...\n",
              "2       6  Der frischgekürte CEO Sundar Pichai setzt auf ...\n",
              "3       7  Putin: \"Einigung, dass wir Menge auf Niveau vo...\n",
              "4       1  Estland sieht den künftigen österreichischen P..."
            ]
          },
          "metadata": {
            "tags": []
          }
        }
      ]
    },
    {
      "cell_type": "markdown",
      "metadata": {
        "id": "96Q4lMDDC7r0"
      },
      "source": [
        "### Computing Class Weights (not used yet)"
      ]
    },
    {
      "cell_type": "code",
      "metadata": {
        "id": "aQ4ejcR5LsDq",
        "colab": {
          "base_uri": "https://localhost:8080/",
          "height": 332
        },
        "outputId": "8294737c-1bed-433b-d86c-6935b28ff7f5"
      },
      "source": [
        "from sklearn.utils.class_weight import compute_class_weight\n",
        "\n",
        "def class_weights(labels: pd.Series) -> pd.DataFrame:\n",
        "    \"\"\"Compute class weights for imbalanced data.\"\"\"\n",
        "    uniq_labels = labels.unique()\n",
        "    counts_s = labels.value_counts().reindex(uniq_labels)\n",
        "    weights = compute_class_weight(\"balanced\", uniq_labels, labels)\n",
        "    return pd.DataFrame({\"count\": counts_s, \"weight\": weights}).sort_index()\n",
        "\n",
        "weights_df = class_weights(train_df.labels)\n",
        "display(weights_df)"
      ],
      "execution_count": 14,
      "outputs": [
        {
          "output_type": "display_data",
          "data": {
            "text/html": [
              "<div>\n",
              "<style scoped>\n",
              "    .dataframe tbody tr th:only-of-type {\n",
              "        vertical-align: middle;\n",
              "    }\n",
              "\n",
              "    .dataframe tbody tr th {\n",
              "        vertical-align: top;\n",
              "    }\n",
              "\n",
              "    .dataframe thead th {\n",
              "        text-align: right;\n",
              "    }\n",
              "</style>\n",
              "<table border=\"1\" class=\"dataframe\">\n",
              "  <thead>\n",
              "    <tr style=\"text-align: right;\">\n",
              "      <th></th>\n",
              "      <th>count</th>\n",
              "      <th>weight</th>\n",
              "    </tr>\n",
              "  </thead>\n",
              "  <tbody>\n",
              "    <tr>\n",
              "      <th>0</th>\n",
              "      <td>601</td>\n",
              "      <td>1.709188</td>\n",
              "    </tr>\n",
              "    <tr>\n",
              "      <th>1</th>\n",
              "      <td>913</td>\n",
              "      <td>1.125106</td>\n",
              "    </tr>\n",
              "    <tr>\n",
              "      <th>2</th>\n",
              "      <td>1360</td>\n",
              "      <td>0.755310</td>\n",
              "    </tr>\n",
              "    <tr>\n",
              "      <th>3</th>\n",
              "      <td>485</td>\n",
              "      <td>2.117984</td>\n",
              "    </tr>\n",
              "    <tr>\n",
              "      <th>4</th>\n",
              "      <td>1510</td>\n",
              "      <td>0.680280</td>\n",
              "    </tr>\n",
              "    <tr>\n",
              "      <th>5</th>\n",
              "      <td>1081</td>\n",
              "      <td>0.950252</td>\n",
              "    </tr>\n",
              "    <tr>\n",
              "      <th>6</th>\n",
              "      <td>1509</td>\n",
              "      <td>0.680730</td>\n",
              "    </tr>\n",
              "    <tr>\n",
              "      <th>7</th>\n",
              "      <td>1270</td>\n",
              "      <td>0.808836</td>\n",
              "    </tr>\n",
              "    <tr>\n",
              "      <th>8</th>\n",
              "      <td>516</td>\n",
              "      <td>1.990741</td>\n",
              "    </tr>\n",
              "  </tbody>\n",
              "</table>\n",
              "</div>"
            ],
            "text/plain": [
              "   count    weight\n",
              "0    601  1.709188\n",
              "1    913  1.125106\n",
              "2   1360  0.755310\n",
              "3    485  2.117984\n",
              "4   1510  0.680280\n",
              "5   1081  0.950252\n",
              "6   1509  0.680730\n",
              "7   1270  0.808836\n",
              "8    516  1.990741"
            ]
          },
          "metadata": {
            "tags": []
          }
        }
      ]
    },
    {
      "cell_type": "markdown",
      "metadata": {
        "id": "xclwtZOSanXP"
      },
      "source": [
        "## Model Setup"
      ]
    },
    {
      "cell_type": "code",
      "metadata": {
        "id": "feusxakWaTCB"
      },
      "source": [
        "from sklearn.metrics import f1_score, accuracy_score, precision_score, recall_score\n",
        "\n",
        "def f1_multiclass(labels, preds):\n",
        "    return f1_score(labels, preds, average='macro')\n",
        "\n",
        "def precision_multiclass(labels, preds):\n",
        "    return precision_score(labels, preds, average='macro')\n",
        "\n",
        "def recall_multiclass(labels, preds):\n",
        "    return recall_score(labels, preds, average='macro')"
      ],
      "execution_count": 15,
      "outputs": []
    },
    {
      "cell_type": "code",
      "metadata": {
        "id": "KtUSAQvepKpm"
      },
      "source": [
        "train_args = {\n",
        "    \"reprocess_input_data\": True,\n",
        "    \"overwrite_output_dir\": True,\n",
        "    \"evaluate_during_training\": True,\n",
        "    \"evaluate_during_training_steps\": 200,    \n",
        "    \"evaluate_during_training_verbose\": False,\n",
        "    \"evaluate_during_training_silent\": True,\n",
        "    \"silent\": True,\n",
        "    \"fp16\": False,\n",
        "    \"wandb_project\": project_name,\n",
        "    }"
      ],
      "execution_count": 16,
      "outputs": []
    },
    {
      "cell_type": "code",
      "metadata": {
        "id": "ZKZgDXsgcHFt"
      },
      "source": [
        "def train():\n",
        "\n",
        "    # need to create a tokenizer first and adjust train args with lower case setting\n",
        "    tokenizer = AutoTokenizer.from_pretrained(model_name)\n",
        "    args = {**train_args, **{ \"do_lower_case\": tokenizer.do_lower_case }}\n",
        "\n",
        "    # Create a ClassificationModel\n",
        "    model = ClassificationModel(model_type,\n",
        "                                model_name,\n",
        "                                num_labels=train_df.labels.nunique(),\n",
        "                                args=args)\n",
        "\n",
        "\n",
        "    steps, details = model.train_model(train_df,\n",
        "                                       eval_df=test_df,\n",
        "                                       verbose=False,\n",
        "                                       f1=f1_multiclass,\n",
        "                                       acc=accuracy_score,\n",
        "                                       precision=precision_multiclass,\n",
        "                                       recall=recall_multiclass)\n",
        "    \n",
        "    print(details)\n",
        "\n",
        "    wandb.join()"
      ],
      "execution_count": 17,
      "outputs": []
    },
    {
      "cell_type": "code",
      "metadata": {
        "id": "2xMI-XtXebnb",
        "colab": {
          "base_uri": "https://localhost:8080/",
          "height": 89
        },
        "outputId": "0cd5cfa4-8628-40dd-c615-d92839a0596e"
      },
      "source": [
        "while True:\n",
        "    train()"
      ],
      "execution_count": null,
      "outputs": [
        {
          "output_type": "display_data",
          "data": {
            "application/javascript": [
              "\n",
              "        window._wandbApiKey = new Promise((resolve, reject) => {\n",
              "            function loadScript(url) {\n",
              "            return new Promise(function(resolve, reject) {\n",
              "                let newScript = document.createElement(\"script\");\n",
              "                newScript.onerror = reject;\n",
              "                newScript.onload = resolve;\n",
              "                document.body.appendChild(newScript);\n",
              "                newScript.src = url;\n",
              "            });\n",
              "            }\n",
              "            loadScript(\"https://cdn.jsdelivr.net/npm/postmate/build/postmate.min.js\").then(() => {\n",
              "            const iframe = document.createElement('iframe')\n",
              "            iframe.style.cssText = \"width:0;height:0;border:none\"\n",
              "            document.body.appendChild(iframe)\n",
              "            const handshake = new Postmate({\n",
              "                container: iframe,\n",
              "                url: 'https://wandb.ai/authorize'\n",
              "            });\n",
              "            const timeout = setTimeout(() => reject(\"Couldn't auto authenticate\"), 5000)\n",
              "            handshake.then(function(child) {\n",
              "                child.on('authorize', data => {\n",
              "                    clearTimeout(timeout)\n",
              "                    resolve(data)\n",
              "                });\n",
              "            });\n",
              "            })\n",
              "        });\n",
              "    "
            ],
            "text/plain": [
              "<IPython.core.display.Javascript object>"
            ]
          },
          "metadata": {
            "tags": []
          }
        },
        {
          "output_type": "stream",
          "text": [
            "{'global_step': [200, 400, 600, 800, 1000, 1156], 'mcc': [0.7545361920457722, 0.8375471307145497, 0.8322818327528577, 0.8516413564864762, 0.8484767507837376, 0.8663262942875827], 'train_loss': [0.8192497491836548, 0.9092986583709717, 0.09124189615249634, 0.03136887028813362, 0.060369957238435745, 0.7705817818641663], 'eval_loss': [0.7561756147779235, 0.5354693738036147, 0.573098985622673, 0.5377070864431502, 0.5133395715176251, 0.4432173087153324], 'f1': [0.754437049202068, 0.8581801800422251, 0.8487465175009733, 0.8658173333504677, 0.8604546974191454, 0.8774893410319188], 'acc': [0.7840466926070039, 0.8570038910505836, 0.853112840466926, 0.8696498054474708, 0.867704280155642, 0.8832684824902723], 'precision': [0.7777216002930692, 0.8684560165686497, 0.8522688041863253, 0.8820538659254636, 0.8772959428814561, 0.8835729074604011], 'recall': [0.7566428752280703, 0.858734730162415, 0.8501070852561736, 0.8593993765299731, 0.8510796955083573, 0.8738238994918135]}\n",
            "{'global_step': [200, 400, 600, 800, 1000, 1156], 'mcc': [0.7869703793997965, 0.8426320500297293, 0.8470570592782742, 0.8680903974857, 0.8731982522815221, 0.8677476268293394], 'train_loss': [0.26157689094543457, 0.7296339273452759, 0.03516339138150215, 0.8611221313476562, 0.3588554859161377, 0.030437970533967018], 'eval_loss': [0.6768488017625587, 0.5345119693020518, 0.5443760257416456, 0.4492678433483423, 0.396774281328905, 0.3994170397794408], 'f1': [0.7837719312504962, 0.8537467036672192, 0.8586885989909631, 0.8791712571252541, 0.8837947557388695, 0.8777575670851501], 'acc': [0.8132295719844358, 0.8618677042801557, 0.8657587548638133, 0.8842412451361867, 0.8891050583657587, 0.8842412451361867], 'precision': [0.796636139515852, 0.8527869590165749, 0.8641629755940724, 0.8786647984183126, 0.8805137610995274, 0.874389100191996], 'recall': [0.7868659801683102, 0.8609301154723954, 0.8598874276060573, 0.8829861935543013, 0.8879575867305922, 0.88343998295214]}\n"
          ],
          "name": "stdout"
        }
      ]
    },
    {
      "cell_type": "markdown",
      "metadata": {
        "id": "hySEe1YaAqr4"
      },
      "source": [
        "---\n",
        "## Evaluate Best Model"
      ]
    },
    {
      "cell_type": "code",
      "metadata": {
        "id": "s1009AbGcIeg"
      },
      "source": [
        "result, model_outputs, wrong_predictions = model.eval_model(test_df, f1=f1_multiclass, acc=accuracy_score, precision=precision_multiclass, recall=recall_multiclass, wandb_log=False)\n",
        "pd.Series(result)"
      ],
      "execution_count": null,
      "outputs": []
    },
    {
      "cell_type": "code",
      "metadata": {
        "id": "jAhyTUI9bOcM"
      },
      "source": [
        "preds = pd.DataFrame(model_outputs, columns=mapping_s)\n",
        "preds"
      ],
      "execution_count": null,
      "outputs": []
    },
    {
      "cell_type": "code",
      "metadata": {
        "id": "YGjePotsPX2c"
      },
      "source": [
        "# preds.to_csv(\"data/predictions.csv\", index=False)"
      ],
      "execution_count": null,
      "outputs": []
    },
    {
      "cell_type": "code",
      "metadata": {
        "id": "g0p501p2bn8W"
      },
      "source": [
        "pred_s = pd.DataFrame(model_outputs).idxmax(axis=1)"
      ],
      "execution_count": null,
      "outputs": []
    },
    {
      "cell_type": "code",
      "metadata": {
        "id": "tRb7yXGkdzHy"
      },
      "source": [
        "mapping_s.values"
      ],
      "execution_count": null,
      "outputs": []
    },
    {
      "cell_type": "code",
      "metadata": {
        "id": "Y92ATriIeqDR"
      },
      "source": [
        "import sklearn.metrics as skm\n",
        "skm.confusion_matrix(test_df.labels, pred_s)"
      ],
      "execution_count": null,
      "outputs": []
    },
    {
      "cell_type": "code",
      "metadata": {
        "id": "O4Og3hgmcuHZ"
      },
      "source": [
        "print(skm.classification_report(test_df.labels, pred_s, target_names=mapping_s.values))"
      ],
      "execution_count": null,
      "outputs": []
    }
  ]
}