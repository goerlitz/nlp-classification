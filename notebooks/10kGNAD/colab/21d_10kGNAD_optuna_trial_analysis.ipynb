{
  "nbformat": 4,
  "nbformat_minor": 0,
  "metadata": {
    "colab": {
      "name": "21d_10kGNAD_optuna_trial_analysis.ipynb",
      "provenance": [],
      "collapsed_sections": [],
      "authorship_tag": "ABX9TyO6DtBeArl97hVxkFlMjjcg",
      "include_colab_link": true
    },
    "kernelspec": {
      "name": "python3",
      "display_name": "Python 3"
    },
    "language_info": {
      "name": "python"
    }
  },
  "cells": [
    {
      "cell_type": "markdown",
      "metadata": {
        "id": "view-in-github",
        "colab_type": "text"
      },
      "source": [
        "<a href=\"https://colab.research.google.com/github/goerlitz/nlp-classification/blob/main/notebooks/10kGNAD/colab/21d_10kGNAD_optuna_trial_analysis.ipynb\" target=\"_parent\"><img src=\"https://colab.research.google.com/assets/colab-badge.svg\" alt=\"Open In Colab\"/></a>"
      ]
    },
    {
      "cell_type": "markdown",
      "metadata": {
        "id": "OS6lETZj73MX"
      },
      "source": [
        "# Analysis of Optuna Trials"
      ]
    },
    {
      "cell_type": "code",
      "metadata": {
        "id": "JLCsWjYb7yF9"
      },
      "source": [
        "!pip install -q --upgrade optuna >/dev/null"
      ],
      "execution_count": 1,
      "outputs": []
    },
    {
      "cell_type": "code",
      "metadata": {
        "id": "HQ67SRK98psr"
      },
      "source": [
        "import pandas as pd\n",
        "import optuna\n",
        "from optuna.storages import RDBStorage"
      ],
      "execution_count": 2,
      "outputs": []
    },
    {
      "cell_type": "markdown",
      "metadata": {
        "id": "_9p1Ttb49PAz"
      },
      "source": [
        "## Connect Google Drive"
      ]
    },
    {
      "cell_type": "code",
      "metadata": {
        "colab": {
          "base_uri": "https://localhost:8080/"
        },
        "id": "NHLkc2JO9RdT",
        "outputId": "5371c59b-d8b6-4a6b-dbf4-2196e1f5ca4d"
      },
      "source": [
        "from google.colab import drive\n",
        "\n",
        "drive.mount('/content/gdrive')"
      ],
      "execution_count": 3,
      "outputs": [
        {
          "output_type": "stream",
          "name": "stdout",
          "text": [
            "Mounted at /content/gdrive\n"
          ]
        }
      ]
    },
    {
      "cell_type": "markdown",
      "metadata": {
        "id": "9pZxcZUH9W4o"
      },
      "source": [
        "## Connect Database\n",
        "\n",
        "https://optuna.readthedocs.io/en/stable/reference/generated/optuna.storages.RDBStorage.html#optuna.storages.RDBStorage"
      ]
    },
    {
      "cell_type": "code",
      "metadata": {
        "id": "ECGjgrzh8vLx"
      },
      "source": [
        "checkpoint = \"distilbert-base-german-cased\"\n",
        "# checkpoint = \"deepset/gbert-base\"\n",
        "# checkpoint = \"deepset/gelectra-base\"\n",
        "\n",
        "db_path = \"/content/gdrive/My Drive/Colab Notebooks/nlp-classification/\"\n",
        "db_name = \"10kgnad_optuna\"\n",
        "\n",
        "storage = RDBStorage(\n",
        "    url=f\"sqlite:///{db_path}{db_name}.db\",\n",
        "    #engine_kwargs={\"pool_size\": 20, \"connect_args\": {\"timeout\": 10}},\n",
        ")"
      ],
      "execution_count": 4,
      "outputs": []
    },
    {
      "cell_type": "markdown",
      "source": [
        "## List Trials"
      ],
      "metadata": {
        "id": "CxcIBN27lyKe"
      }
    },
    {
      "cell_type": "code",
      "metadata": {
        "colab": {
          "base_uri": "https://localhost:8080/"
        },
        "id": "88yZb0BN9akR",
        "outputId": "8cdfc297-98ca-4ce1-c3da-31ac980076a6"
      },
      "source": [
        "for s in storage.get_all_study_summaries():\n",
        "    if s.datetime_start is None:\n",
        "        print(f\"???        '{s.study_name}': {s.n_trials} Trials\")\n",
        "    else:\n",
        "        print(f\"{s.datetime_start.date()} '{s.study_name}': {s.n_trials} Trials\")"
      ],
      "execution_count": 5,
      "outputs": [
        {
          "output_type": "stream",
          "name": "stdout",
          "text": [
            "2021-12-18 'deepset/gbert-base': 1 Trials\n",
            "2021-12-18 'distilbert-base-german-cased': 89 Trials\n",
            "???        '10kgnad_optuna': 0 Trials\n",
            "2021-12-18 'distilbert-base-german-cased_bs32': 70 Trials\n"
          ]
        }
      ]
    },
    {
      "cell_type": "markdown",
      "source": [
        "## Select a Study"
      ],
      "metadata": {
        "id": "fW7TY8igossa"
      }
    },
    {
      "cell_type": "code",
      "metadata": {
        "id": "mNGZ0uJEn_C4"
      },
      "source": [
        "study = checkpoint + \"_bs32\"\n",
        "# study = storage.get_all_study_summaries()[0].study_name\n",
        "\n",
        "trials = storage.get_all_trials(storage.get_study_id_from_name(study))"
      ],
      "execution_count": 6,
      "outputs": []
    },
    {
      "cell_type": "code",
      "source": [
        "trials[2]"
      ],
      "metadata": {
        "colab": {
          "base_uri": "https://localhost:8080/"
        },
        "id": "pEFlJtyNW5i6",
        "outputId": "66ee7102-ede4-42c1-e565-1ec7af118ad4"
      },
      "execution_count": 7,
      "outputs": [
        {
          "output_type": "execute_result",
          "data": {
            "text/plain": [
              "FrozenTrial(number=2, values=[0.6464439034461975], datetime_start=datetime.datetime(2021, 12, 18, 22, 10, 40, 369200), datetime_complete=datetime.datetime(2021, 12, 18, 22, 16, 3, 337011), params={'label_smoothing_factor': 0.010433138633857076, 'learning_rate': 1.948765621949202e-05, 'num_train_epochs': 1, 'per_device_train_batch_size': 32, 'weight_decay': 0.001887314639743122}, distributions={'label_smoothing_factor': UniformDistribution(high=0.1, low=0.0), 'learning_rate': LogUniformDistribution(high=0.0001, low=1e-05), 'num_train_epochs': CategoricalDistribution(choices=(1,)), 'per_device_train_batch_size': CategoricalDistribution(choices=(32,)), 'weight_decay': LogUniformDistribution(high=0.01, low=0.001)}, user_attrs={'eval_acc': 0.8326848249027238, 'eval_f1': 0.8291801913909373, 'eval_loss': 0.6464439034461975, 'eval_precision': 0.8375314137540264, 'eval_recall': 0.8228964113735854, 'eval_runtime': 9.5346, 'eval_samples_per_second': 107.818, 'eval_steps_per_second': 3.461}, system_attrs={}, intermediate_values={}, trial_id=93, state=TrialState.COMPLETE, value=None)"
            ]
          },
          "metadata": {},
          "execution_count": 7
        }
      ]
    },
    {
      "cell_type": "code",
      "source": [
        "from optuna.trial import TrialState\n",
        "\n",
        "complete_trials = [t for t in trials if t.state==TrialState.COMPLETE]\n",
        "\n",
        "trial_df = pd.DataFrame([t.params for t in complete_trials])\n",
        "trial_df.index = [t.number for t in complete_trials]\n",
        "trial_df[\"eval_loss\"] = [t.value for t in complete_trials]\n",
        "\n",
        "userattr_df = pd.DataFrame([t.user_attrs for t in complete_trials])\n",
        "userattr_df.index = [t.number for t in complete_trials]\n",
        "metrics_df = pd.concat([trial_df.drop(\"eval_loss\", axis=1), userattr_df], axis=1)\n",
        "\n",
        "metrics_df.sort_values(\"eval_loss\")"
      ],
      "metadata": {
        "colab": {
          "base_uri": "https://localhost:8080/",
          "height": 488
        },
        "id": "WfsTYpoWYui5",
        "outputId": "bf9d7928-6f12-4fc5-8216-ddd88411adbb"
      },
      "execution_count": 8,
      "outputs": [
        {
          "output_type": "execute_result",
          "data": {
            "text/html": [
              "\n",
              "  <div id=\"df-489f6169-3844-412f-941a-0d5da1565009\">\n",
              "    <div class=\"colab-df-container\">\n",
              "      <div>\n",
              "<style scoped>\n",
              "    .dataframe tbody tr th:only-of-type {\n",
              "        vertical-align: middle;\n",
              "    }\n",
              "\n",
              "    .dataframe tbody tr th {\n",
              "        vertical-align: top;\n",
              "    }\n",
              "\n",
              "    .dataframe thead th {\n",
              "        text-align: right;\n",
              "    }\n",
              "</style>\n",
              "<table border=\"1\" class=\"dataframe\">\n",
              "  <thead>\n",
              "    <tr style=\"text-align: right;\">\n",
              "      <th></th>\n",
              "      <th>label_smoothing_factor</th>\n",
              "      <th>learning_rate</th>\n",
              "      <th>num_train_epochs</th>\n",
              "      <th>per_device_train_batch_size</th>\n",
              "      <th>weight_decay</th>\n",
              "      <th>eval_acc</th>\n",
              "      <th>eval_f1</th>\n",
              "      <th>eval_loss</th>\n",
              "      <th>eval_precision</th>\n",
              "      <th>eval_recall</th>\n",
              "      <th>eval_runtime</th>\n",
              "      <th>eval_samples_per_second</th>\n",
              "      <th>eval_steps_per_second</th>\n",
              "    </tr>\n",
              "  </thead>\n",
              "  <tbody>\n",
              "    <tr>\n",
              "      <th>67</th>\n",
              "      <td>0.000622</td>\n",
              "      <td>0.000092</td>\n",
              "      <td>1</td>\n",
              "      <td>32</td>\n",
              "      <td>0.003329</td>\n",
              "      <td>0.880350</td>\n",
              "      <td>0.879231</td>\n",
              "      <td>0.371454</td>\n",
              "      <td>0.880686</td>\n",
              "      <td>0.878219</td>\n",
              "      <td>9.5703</td>\n",
              "      <td>107.415</td>\n",
              "      <td>3.448</td>\n",
              "    </tr>\n",
              "    <tr>\n",
              "      <th>66</th>\n",
              "      <td>0.000475</td>\n",
              "      <td>0.000091</td>\n",
              "      <td>1</td>\n",
              "      <td>32</td>\n",
              "      <td>0.003401</td>\n",
              "      <td>0.876459</td>\n",
              "      <td>0.874977</td>\n",
              "      <td>0.371626</td>\n",
              "      <td>0.877185</td>\n",
              "      <td>0.873415</td>\n",
              "      <td>9.5706</td>\n",
              "      <td>107.412</td>\n",
              "      <td>3.448</td>\n",
              "    </tr>\n",
              "    <tr>\n",
              "      <th>62</th>\n",
              "      <td>0.000157</td>\n",
              "      <td>0.000091</td>\n",
              "      <td>1</td>\n",
              "      <td>32</td>\n",
              "      <td>0.002396</td>\n",
              "      <td>0.878405</td>\n",
              "      <td>0.876140</td>\n",
              "      <td>0.372342</td>\n",
              "      <td>0.875595</td>\n",
              "      <td>0.877201</td>\n",
              "      <td>9.5401</td>\n",
              "      <td>107.756</td>\n",
              "      <td>3.459</td>\n",
              "    </tr>\n",
              "    <tr>\n",
              "      <th>64</th>\n",
              "      <td>0.000516</td>\n",
              "      <td>0.000091</td>\n",
              "      <td>1</td>\n",
              "      <td>32</td>\n",
              "      <td>0.002564</td>\n",
              "      <td>0.874514</td>\n",
              "      <td>0.873946</td>\n",
              "      <td>0.375510</td>\n",
              "      <td>0.873540</td>\n",
              "      <td>0.874693</td>\n",
              "      <td>9.5854</td>\n",
              "      <td>107.247</td>\n",
              "      <td>3.443</td>\n",
              "    </tr>\n",
              "    <tr>\n",
              "      <th>63</th>\n",
              "      <td>0.000593</td>\n",
              "      <td>0.000091</td>\n",
              "      <td>1</td>\n",
              "      <td>32</td>\n",
              "      <td>0.002436</td>\n",
              "      <td>0.874514</td>\n",
              "      <td>0.872767</td>\n",
              "      <td>0.376597</td>\n",
              "      <td>0.872944</td>\n",
              "      <td>0.872910</td>\n",
              "      <td>9.5519</td>\n",
              "      <td>107.622</td>\n",
              "      <td>3.455</td>\n",
              "    </tr>\n",
              "    <tr>\n",
              "      <th>...</th>\n",
              "      <td>...</td>\n",
              "      <td>...</td>\n",
              "      <td>...</td>\n",
              "      <td>...</td>\n",
              "      <td>...</td>\n",
              "      <td>...</td>\n",
              "      <td>...</td>\n",
              "      <td>...</td>\n",
              "      <td>...</td>\n",
              "      <td>...</td>\n",
              "      <td>...</td>\n",
              "      <td>...</td>\n",
              "      <td>...</td>\n",
              "    </tr>\n",
              "    <tr>\n",
              "      <th>0</th>\n",
              "      <td>0.007080</td>\n",
              "      <td>0.000012</td>\n",
              "      <td>1</td>\n",
              "      <td>32</td>\n",
              "      <td>0.001102</td>\n",
              "      <td>0.780156</td>\n",
              "      <td>0.757565</td>\n",
              "      <td>0.869488</td>\n",
              "      <td>0.788226</td>\n",
              "      <td>0.743655</td>\n",
              "      <td>9.5503</td>\n",
              "      <td>107.641</td>\n",
              "      <td>3.455</td>\n",
              "    </tr>\n",
              "    <tr>\n",
              "      <th>4</th>\n",
              "      <td>0.015827</td>\n",
              "      <td>0.000012</td>\n",
              "      <td>1</td>\n",
              "      <td>32</td>\n",
              "      <td>0.001647</td>\n",
              "      <td>0.772374</td>\n",
              "      <td>0.747679</td>\n",
              "      <td>0.914909</td>\n",
              "      <td>0.781048</td>\n",
              "      <td>0.732878</td>\n",
              "      <td>9.5102</td>\n",
              "      <td>108.094</td>\n",
              "      <td>3.470</td>\n",
              "    </tr>\n",
              "    <tr>\n",
              "      <th>46</th>\n",
              "      <td>0.093512</td>\n",
              "      <td>0.000015</td>\n",
              "      <td>1</td>\n",
              "      <td>32</td>\n",
              "      <td>0.001123</td>\n",
              "      <td>0.814202</td>\n",
              "      <td>0.808696</td>\n",
              "      <td>0.945324</td>\n",
              "      <td>0.822882</td>\n",
              "      <td>0.798714</td>\n",
              "      <td>9.6462</td>\n",
              "      <td>106.571</td>\n",
              "      <td>3.421</td>\n",
              "    </tr>\n",
              "    <tr>\n",
              "      <th>47</th>\n",
              "      <td>0.011318</td>\n",
              "      <td>0.000010</td>\n",
              "      <td>1</td>\n",
              "      <td>32</td>\n",
              "      <td>0.001790</td>\n",
              "      <td>0.749027</td>\n",
              "      <td>0.711397</td>\n",
              "      <td>0.983490</td>\n",
              "      <td>0.760912</td>\n",
              "      <td>0.694870</td>\n",
              "      <td>9.6183</td>\n",
              "      <td>106.880</td>\n",
              "      <td>3.431</td>\n",
              "    </tr>\n",
              "    <tr>\n",
              "      <th>6</th>\n",
              "      <td>0.081793</td>\n",
              "      <td>0.000011</td>\n",
              "      <td>1</td>\n",
              "      <td>32</td>\n",
              "      <td>0.003868</td>\n",
              "      <td>0.775292</td>\n",
              "      <td>0.751291</td>\n",
              "      <td>1.055483</td>\n",
              "      <td>0.781817</td>\n",
              "      <td>0.737800</td>\n",
              "      <td>9.6069</td>\n",
              "      <td>107.006</td>\n",
              "      <td>3.435</td>\n",
              "    </tr>\n",
              "  </tbody>\n",
              "</table>\n",
              "<p>70 rows × 13 columns</p>\n",
              "</div>\n",
              "      <button class=\"colab-df-convert\" onclick=\"convertToInteractive('df-489f6169-3844-412f-941a-0d5da1565009')\"\n",
              "              title=\"Convert this dataframe to an interactive table.\"\n",
              "              style=\"display:none;\">\n",
              "        \n",
              "  <svg xmlns=\"http://www.w3.org/2000/svg\" height=\"24px\"viewBox=\"0 0 24 24\"\n",
              "       width=\"24px\">\n",
              "    <path d=\"M0 0h24v24H0V0z\" fill=\"none\"/>\n",
              "    <path d=\"M18.56 5.44l.94 2.06.94-2.06 2.06-.94-2.06-.94-.94-2.06-.94 2.06-2.06.94zm-11 1L8.5 8.5l.94-2.06 2.06-.94-2.06-.94L8.5 2.5l-.94 2.06-2.06.94zm10 10l.94 2.06.94-2.06 2.06-.94-2.06-.94-.94-2.06-.94 2.06-2.06.94z\"/><path d=\"M17.41 7.96l-1.37-1.37c-.4-.4-.92-.59-1.43-.59-.52 0-1.04.2-1.43.59L10.3 9.45l-7.72 7.72c-.78.78-.78 2.05 0 2.83L4 21.41c.39.39.9.59 1.41.59.51 0 1.02-.2 1.41-.59l7.78-7.78 2.81-2.81c.8-.78.8-2.07 0-2.86zM5.41 20L4 18.59l7.72-7.72 1.47 1.35L5.41 20z\"/>\n",
              "  </svg>\n",
              "      </button>\n",
              "      \n",
              "  <style>\n",
              "    .colab-df-container {\n",
              "      display:flex;\n",
              "      flex-wrap:wrap;\n",
              "      gap: 12px;\n",
              "    }\n",
              "\n",
              "    .colab-df-convert {\n",
              "      background-color: #E8F0FE;\n",
              "      border: none;\n",
              "      border-radius: 50%;\n",
              "      cursor: pointer;\n",
              "      display: none;\n",
              "      fill: #1967D2;\n",
              "      height: 32px;\n",
              "      padding: 0 0 0 0;\n",
              "      width: 32px;\n",
              "    }\n",
              "\n",
              "    .colab-df-convert:hover {\n",
              "      background-color: #E2EBFA;\n",
              "      box-shadow: 0px 1px 2px rgba(60, 64, 67, 0.3), 0px 1px 3px 1px rgba(60, 64, 67, 0.15);\n",
              "      fill: #174EA6;\n",
              "    }\n",
              "\n",
              "    [theme=dark] .colab-df-convert {\n",
              "      background-color: #3B4455;\n",
              "      fill: #D2E3FC;\n",
              "    }\n",
              "\n",
              "    [theme=dark] .colab-df-convert:hover {\n",
              "      background-color: #434B5C;\n",
              "      box-shadow: 0px 1px 3px 1px rgba(0, 0, 0, 0.15);\n",
              "      filter: drop-shadow(0px 1px 2px rgba(0, 0, 0, 0.3));\n",
              "      fill: #FFFFFF;\n",
              "    }\n",
              "  </style>\n",
              "\n",
              "      <script>\n",
              "        const buttonEl =\n",
              "          document.querySelector('#df-489f6169-3844-412f-941a-0d5da1565009 button.colab-df-convert');\n",
              "        buttonEl.style.display =\n",
              "          google.colab.kernel.accessAllowed ? 'block' : 'none';\n",
              "\n",
              "        async function convertToInteractive(key) {\n",
              "          const element = document.querySelector('#df-489f6169-3844-412f-941a-0d5da1565009');\n",
              "          const dataTable =\n",
              "            await google.colab.kernel.invokeFunction('convertToInteractive',\n",
              "                                                     [key], {});\n",
              "          if (!dataTable) return;\n",
              "\n",
              "          const docLinkHtml = 'Like what you see? Visit the ' +\n",
              "            '<a target=\"_blank\" href=https://colab.research.google.com/notebooks/data_table.ipynb>data table notebook</a>'\n",
              "            + ' to learn more about interactive tables.';\n",
              "          element.innerHTML = '';\n",
              "          dataTable['output_type'] = 'display_data';\n",
              "          await google.colab.output.renderOutput(dataTable, element);\n",
              "          const docLink = document.createElement('div');\n",
              "          docLink.innerHTML = docLinkHtml;\n",
              "          element.appendChild(docLink);\n",
              "        }\n",
              "      </script>\n",
              "    </div>\n",
              "  </div>\n",
              "  "
            ],
            "text/plain": [
              "    label_smoothing_factor  ...  eval_steps_per_second\n",
              "67                0.000622  ...                  3.448\n",
              "66                0.000475  ...                  3.448\n",
              "62                0.000157  ...                  3.459\n",
              "64                0.000516  ...                  3.443\n",
              "63                0.000593  ...                  3.455\n",
              "..                     ...  ...                    ...\n",
              "0                 0.007080  ...                  3.455\n",
              "4                 0.015827  ...                  3.470\n",
              "46                0.093512  ...                  3.421\n",
              "47                0.011318  ...                  3.431\n",
              "6                 0.081793  ...                  3.435\n",
              "\n",
              "[70 rows x 13 columns]"
            ]
          },
          "metadata": {},
          "execution_count": 8
        }
      ]
    },
    {
      "cell_type": "code",
      "source": [
        "metrics_df.per_device_train_batch_size.value_counts()"
      ],
      "metadata": {
        "colab": {
          "base_uri": "https://localhost:8080/"
        },
        "id": "9yQtyDVGjAOj",
        "outputId": "27bb9f51-428c-4ff6-cbe5-b525fe04f58b"
      },
      "execution_count": 9,
      "outputs": [
        {
          "output_type": "execute_result",
          "data": {
            "text/plain": [
              "32    70\n",
              "Name: per_device_train_batch_size, dtype: int64"
            ]
          },
          "metadata": {},
          "execution_count": 9
        }
      ]
    },
    {
      "cell_type": "code",
      "source": [
        "import plotly.express as px\n",
        "fig = px.parallel_coordinates(trial_df, color=\"eval_loss\", \n",
        "                             color_continuous_scale=px.colors.sequential.Oryel)\n",
        "fig.show()"
      ],
      "metadata": {
        "colab": {
          "base_uri": "https://localhost:8080/",
          "height": 542
        },
        "id": "V7sPElH5cexz",
        "outputId": "5b096011-8ee2-42c4-e39a-929243aa3f22"
      },
      "execution_count": 10,
      "outputs": [
        {
          "output_type": "display_data",
          "data": {
            "text/html": [
              "<html>\n",
              "<head><meta charset=\"utf-8\" /></head>\n",
              "<body>\n",
              "    <div>\n",
              "            <script src=\"https://cdnjs.cloudflare.com/ajax/libs/mathjax/2.7.5/MathJax.js?config=TeX-AMS-MML_SVG\"></script><script type=\"text/javascript\">if (window.MathJax) {MathJax.Hub.Config({SVG: {font: \"STIX-Web\"}});}</script>\n",
              "                <script type=\"text/javascript\">window.PlotlyConfig = {MathJaxConfig: 'local'};</script>\n",
              "        <script src=\"https://cdn.plot.ly/plotly-latest.min.js\"></script>    \n",
              "            <div id=\"72e179de-1d80-4001-a7e7-5427c376d849\" class=\"plotly-graph-div\" style=\"height:525px; width:100%;\"></div>\n",
              "            <script type=\"text/javascript\">\n",
              "                \n",
              "                    window.PLOTLYENV=window.PLOTLYENV || {};\n",
              "                    \n",
              "                if (document.getElementById(\"72e179de-1d80-4001-a7e7-5427c376d849\")) {\n",
              "                    Plotly.newPlot(\n",
              "                        '72e179de-1d80-4001-a7e7-5427c376d849',\n",
              "                        [{\"dimensions\": [{\"label\": \"label_smoothing_factor\", \"values\": [0.007080348635779443, 0.01804830526301555, 0.010433138633857076, 0.007577974813035949, 0.015826536419386406, 0.06869142376070314, 0.08179320783928892, 0.09322342987320054, 0.05537260044610775, 0.0187773529700651, 0.03865862856508288, 0.03817256552649226, 0.029814672330629552, 0.00033772098835564007, 0.0019549953663740164, 0.002290120991862342, 9.932882079016056e-05, 0.05599772639347858, 0.027255114465888707, 0.04534069960519184, 0.02732347543664355, 0.0032834045581627788, 0.0012169637525147677, 0.01608820907968688, 0.01225846272100717, 0.02673607838901969, 0.0007385953193358998, 0.01923292069443836, 0.008884041983425909, 0.008756157764046854, 0.03459365678888454, 0.012685082738751373, 0.008987514186661086, 0.02132318266791563, 0.0063512306853832235, 0.00826806728251092, 0.00809980207036672, 0.023345832675897116, 0.008243047886242763, 0.014236481513535229, 0.06920759304752172, 0.007428968789454836, 0.006466751607772679, 0.016330609047599143, 0.0056800216140093975, 0.022589634366085756, 0.09351247988819009, 0.011318282246023355, 0.09938369904713035, 0.03198608645134342, 0.005376122816437847, 0.005382224605316044, 0.004887320646947286, 0.005138958994368323, 0.004359947754859264, 0.017586301726865747, 0.0051538229420066825, 0.07075824785068309, 0.014174545078156412, 0.04755012581400559, 0.0033855390898417477, 0.003560027682929669, 0.00015659030080603532, 0.0005930500192666737, 0.0005157913033401974, 0.0002623337936037578, 0.00047461372913629315, 0.0006215711074007643, 0.0006153059202235781, 0.00017667829270411072]}, {\"label\": \"learning_rate\", \"values\": [1.2168529727787439e-05, 1.4281810234926457e-05, 1.948765621949202e-05, 3.6058712298915115e-05, 1.1574919533404579e-05, 6.489079698919251e-05, 1.1440070687323705e-05, 6.117659613639623e-05, 6.704202068404093e-05, 7.179641265858097e-05, 9.410510319108799e-05, 3.39252287976858e-05, 3.3852785786583304e-05, 4.426721464918857e-05, 4.852382389052887e-05, 4.918834683120967e-05, 4.6907158520058296e-05, 2.0423338564481728e-05, 2.3233488022532473e-05, 4.760544838883083e-05, 2.5779896765704475e-05, 4.54963682546076e-05, 4.1626961994329917e-05, 5.2499775728921325e-05, 2.8773523135577064e-05, 9.237731269323765e-05, 4.017677428215151e-05, 5.438179511273629e-05, 7.490386315314444e-05, 7.45337603340065e-05, 8.179568921195824e-05, 8.148546295658206e-05, 5.6927447382694176e-05, 7.611088203478889e-05, 9.993453790608077e-05, 9.769116293390851e-05, 9.900786024652101e-05, 9.963621913380234e-05, 8.775761134215727e-05, 8.820430991323442e-05, 9.919461697947092e-05, 8.410724600460766e-05, 8.567722979991723e-05, 7.056830565909492e-05, 6.277456193778829e-05, 8.819559845260083e-05, 1.5433406550805553e-05, 1.0260245085413009e-05, 6.507488337700906e-05, 9.996807450505676e-05, 8.097474441110994e-05, 7.978786605659688e-05, 7.943336512154693e-05, 7.928657974273968e-05, 6.017828424283103e-05, 6.857680443381228e-05, 8.039824873288829e-05, 7.712051145604682e-05, 6.739254368033661e-05, 5.900004299356959e-05, 9.00727390976241e-05, 8.750523197903139e-05, 9.058093909738025e-05, 9.105561271666804e-05, 9.141671856275465e-05, 8.988378054038654e-05, 9.11342199505515e-05, 9.150963671552329e-05, 7.260504836144708e-05, 7.179665081185553e-05]}, {\"label\": \"num_train_epochs\", \"values\": [1, 1, 1, 1, 1, 1, 1, 1, 1, 1, 1, 1, 1, 1, 1, 1, 1, 1, 1, 1, 1, 1, 1, 1, 1, 1, 1, 1, 1, 1, 1, 1, 1, 1, 1, 1, 1, 1, 1, 1, 1, 1, 1, 1, 1, 1, 1, 1, 1, 1, 1, 1, 1, 1, 1, 1, 1, 1, 1, 1, 1, 1, 1, 1, 1, 1, 1, 1, 1, 1]}, {\"label\": \"per_device_train_batch_size\", \"values\": [32, 32, 32, 32, 32, 32, 32, 32, 32, 32, 32, 32, 32, 32, 32, 32, 32, 32, 32, 32, 32, 32, 32, 32, 32, 32, 32, 32, 32, 32, 32, 32, 32, 32, 32, 32, 32, 32, 32, 32, 32, 32, 32, 32, 32, 32, 32, 32, 32, 32, 32, 32, 32, 32, 32, 32, 32, 32, 32, 32, 32, 32, 32, 32, 32, 32, 32, 32, 32, 32]}, {\"label\": \"weight_decay\", \"values\": [0.0011016250761685322, 0.0027276851772832927, 0.001887314639743122, 0.0030736627380008852, 0.0016466177516886436, 0.0025777694254033065, 0.0038683594078962333, 0.0021876790609985553, 0.003613717488550159, 0.0018766389219752608, 0.009855122451910562, 0.005642004881053344, 0.0013409175251930675, 0.0053684971209336995, 0.0056542068507408555, 0.006037532521549883, 0.007715250278488532, 0.009467661900034882, 0.007405584548088116, 0.007252193766500143, 0.004483854900043879, 0.005639406937623339, 0.007160909136464858, 0.0045711255418751295, 0.008277556150410861, 0.006172710183944598, 0.0045095834811986375, 0.006236995238465642, 0.008477294572143922, 0.008514913193257569, 0.008254566669168139, 0.00866533209757696, 0.006822242853185657, 0.009843052360608008, 0.0010256154555735243, 0.0010477428519993742, 0.0010932035242713395, 0.0010621726231993312, 0.0012597251601471965, 0.001257829494881968, 0.0012922469966618374, 0.0015110751277992809, 0.0010003963359782894, 0.0010029018392979597, 0.001180034686859075, 0.001475938662721681, 0.0011232523078250575, 0.0017900779428969885, 0.001429505351289955, 0.0021597256452135644, 0.0016390441564169214, 0.0010022750025750682, 0.0010100743432846168, 0.0010004765361006196, 0.001636543716863074, 0.0011752924280491151, 0.002934122482891072, 0.0013697320264742339, 0.002124766167303326, 0.0010036546695475687, 0.002529830679246514, 0.002617658542008943, 0.0023961632517904207, 0.002436453047855, 0.0025642564356591112, 0.0025631421566836583, 0.0034013030976917115, 0.0033286616471942198, 0.003471205960034998, 0.0034439659966747365]}, {\"label\": \"eval_loss\", \"values\": [0.8694877028465271, 0.8016016483306885, 0.6464439034461975, 0.4889587163925171, 0.914908766746521, 0.6624715328216553, 1.0554828643798828, 0.739052414894104, 0.6134863495826721, 0.4648672044277191, 0.5326570272445679, 0.6053610444068909, 0.5767446756362915, 0.43174442648887634, 0.4322931170463562, 0.42982402443885803, 0.42592647671699524, 0.7599374055862427, 0.6376599669456482, 0.596027672290802, 0.613343358039856, 0.4415104389190674, 0.44305893778800964, 0.4820971190929413, 0.5414552688598633, 0.4885106086730957, 0.4463348984718323, 0.4881979525089264, 0.42434027791023254, 0.42126932740211487, 0.529251754283905, 0.4457281231880188, 0.44445914030075073, 0.4786131680011749, 0.4084729850292206, 0.417968213558197, 0.4186168909072876, 0.47695791721343994, 0.4191163182258606, 0.4378919303417206, 0.6638225317001343, 0.4192184805870056, 0.40703555941581726, 0.4576463997364044, 0.4198647737503052, 0.48014014959335327, 0.9453240036964417, 0.9834896922111511, 0.7650218605995178, 0.5152388215065002, 0.4117865562438965, 0.4080692529678345, 0.41060197353363037, 0.4056026339530945, 0.4122443199157715, 0.4652772545814514, 0.4125162661075592, 0.6646230220794678, 0.4528005123138428, 0.5916937589645386, 0.40713202953338623, 0.3991892635822296, 0.3723418116569519, 0.37659749388694763, 0.3755095899105072, 0.3840334415435791, 0.3716256022453308, 0.3714544475078583, 0.3954123854637146, 0.387963205575943]}], \"domain\": {\"x\": [0.0, 1.0], \"y\": [0.0, 1.0]}, \"line\": {\"color\": [0.8694877028465271, 0.8016016483306885, 0.6464439034461975, 0.4889587163925171, 0.914908766746521, 0.6624715328216553, 1.0554828643798828, 0.739052414894104, 0.6134863495826721, 0.4648672044277191, 0.5326570272445679, 0.6053610444068909, 0.5767446756362915, 0.43174442648887634, 0.4322931170463562, 0.42982402443885803, 0.42592647671699524, 0.7599374055862427, 0.6376599669456482, 0.596027672290802, 0.613343358039856, 0.4415104389190674, 0.44305893778800964, 0.4820971190929413, 0.5414552688598633, 0.4885106086730957, 0.4463348984718323, 0.4881979525089264, 0.42434027791023254, 0.42126932740211487, 0.529251754283905, 0.4457281231880188, 0.44445914030075073, 0.4786131680011749, 0.4084729850292206, 0.417968213558197, 0.4186168909072876, 0.47695791721343994, 0.4191163182258606, 0.4378919303417206, 0.6638225317001343, 0.4192184805870056, 0.40703555941581726, 0.4576463997364044, 0.4198647737503052, 0.48014014959335327, 0.9453240036964417, 0.9834896922111511, 0.7650218605995178, 0.5152388215065002, 0.4117865562438965, 0.4080692529678345, 0.41060197353363037, 0.4056026339530945, 0.4122443199157715, 0.4652772545814514, 0.4125162661075592, 0.6646230220794678, 0.4528005123138428, 0.5916937589645386, 0.40713202953338623, 0.3991892635822296, 0.3723418116569519, 0.37659749388694763, 0.3755095899105072, 0.3840334415435791, 0.3716256022453308, 0.3714544475078583, 0.3954123854637146, 0.387963205575943], \"coloraxis\": \"coloraxis\"}, \"name\": \"\", \"type\": \"parcoords\"}],\n",
              "                        {\"coloraxis\": {\"colorbar\": {\"title\": {\"text\": \"eval_loss\"}}, \"colorscale\": [[0.0, \"rgb(236, 218, 154)\"], [0.16666666666666666, \"rgb(239, 196, 126)\"], [0.3333333333333333, \"rgb(243, 173, 106)\"], [0.5, \"rgb(247, 148, 93)\"], [0.6666666666666666, \"rgb(249, 123, 87)\"], [0.8333333333333334, \"rgb(246, 99, 86)\"], [1.0, \"rgb(238, 77, 90)\"]]}, \"legend\": {\"tracegroupgap\": 0}, \"margin\": {\"t\": 60}, \"template\": {\"data\": {\"bar\": [{\"error_x\": {\"color\": \"#2a3f5f\"}, \"error_y\": {\"color\": \"#2a3f5f\"}, \"marker\": {\"line\": {\"color\": \"#E5ECF6\", \"width\": 0.5}}, \"type\": \"bar\"}], \"barpolar\": [{\"marker\": {\"line\": {\"color\": \"#E5ECF6\", \"width\": 0.5}}, \"type\": \"barpolar\"}], \"carpet\": [{\"aaxis\": {\"endlinecolor\": \"#2a3f5f\", \"gridcolor\": \"white\", \"linecolor\": \"white\", \"minorgridcolor\": \"white\", \"startlinecolor\": \"#2a3f5f\"}, \"baxis\": {\"endlinecolor\": \"#2a3f5f\", \"gridcolor\": \"white\", \"linecolor\": \"white\", \"minorgridcolor\": \"white\", \"startlinecolor\": \"#2a3f5f\"}, \"type\": \"carpet\"}], \"choropleth\": [{\"colorbar\": {\"outlinewidth\": 0, \"ticks\": \"\"}, \"type\": \"choropleth\"}], \"contour\": [{\"colorbar\": {\"outlinewidth\": 0, \"ticks\": \"\"}, \"colorscale\": [[0.0, \"#0d0887\"], [0.1111111111111111, \"#46039f\"], [0.2222222222222222, \"#7201a8\"], [0.3333333333333333, \"#9c179e\"], [0.4444444444444444, \"#bd3786\"], [0.5555555555555556, \"#d8576b\"], [0.6666666666666666, \"#ed7953\"], [0.7777777777777778, \"#fb9f3a\"], [0.8888888888888888, \"#fdca26\"], [1.0, \"#f0f921\"]], \"type\": \"contour\"}], \"contourcarpet\": [{\"colorbar\": {\"outlinewidth\": 0, \"ticks\": \"\"}, \"type\": \"contourcarpet\"}], \"heatmap\": [{\"colorbar\": {\"outlinewidth\": 0, \"ticks\": \"\"}, \"colorscale\": [[0.0, \"#0d0887\"], [0.1111111111111111, \"#46039f\"], [0.2222222222222222, \"#7201a8\"], [0.3333333333333333, \"#9c179e\"], [0.4444444444444444, \"#bd3786\"], [0.5555555555555556, \"#d8576b\"], [0.6666666666666666, \"#ed7953\"], [0.7777777777777778, \"#fb9f3a\"], [0.8888888888888888, \"#fdca26\"], [1.0, \"#f0f921\"]], \"type\": \"heatmap\"}], \"heatmapgl\": [{\"colorbar\": {\"outlinewidth\": 0, \"ticks\": \"\"}, \"colorscale\": [[0.0, \"#0d0887\"], [0.1111111111111111, \"#46039f\"], [0.2222222222222222, \"#7201a8\"], [0.3333333333333333, \"#9c179e\"], [0.4444444444444444, \"#bd3786\"], [0.5555555555555556, \"#d8576b\"], [0.6666666666666666, \"#ed7953\"], [0.7777777777777778, \"#fb9f3a\"], [0.8888888888888888, \"#fdca26\"], [1.0, \"#f0f921\"]], \"type\": \"heatmapgl\"}], \"histogram\": [{\"marker\": {\"colorbar\": {\"outlinewidth\": 0, \"ticks\": \"\"}}, \"type\": \"histogram\"}], \"histogram2d\": [{\"colorbar\": {\"outlinewidth\": 0, \"ticks\": \"\"}, \"colorscale\": [[0.0, \"#0d0887\"], [0.1111111111111111, \"#46039f\"], [0.2222222222222222, \"#7201a8\"], [0.3333333333333333, \"#9c179e\"], [0.4444444444444444, \"#bd3786\"], [0.5555555555555556, \"#d8576b\"], [0.6666666666666666, \"#ed7953\"], [0.7777777777777778, \"#fb9f3a\"], [0.8888888888888888, \"#fdca26\"], [1.0, \"#f0f921\"]], \"type\": \"histogram2d\"}], \"histogram2dcontour\": [{\"colorbar\": {\"outlinewidth\": 0, \"ticks\": \"\"}, \"colorscale\": [[0.0, \"#0d0887\"], [0.1111111111111111, \"#46039f\"], [0.2222222222222222, \"#7201a8\"], [0.3333333333333333, \"#9c179e\"], [0.4444444444444444, \"#bd3786\"], [0.5555555555555556, \"#d8576b\"], [0.6666666666666666, \"#ed7953\"], [0.7777777777777778, \"#fb9f3a\"], [0.8888888888888888, \"#fdca26\"], [1.0, \"#f0f921\"]], \"type\": \"histogram2dcontour\"}], \"mesh3d\": [{\"colorbar\": {\"outlinewidth\": 0, \"ticks\": \"\"}, \"type\": \"mesh3d\"}], \"parcoords\": [{\"line\": {\"colorbar\": {\"outlinewidth\": 0, \"ticks\": \"\"}}, \"type\": \"parcoords\"}], \"pie\": [{\"automargin\": true, \"type\": \"pie\"}], \"scatter\": [{\"marker\": {\"colorbar\": {\"outlinewidth\": 0, \"ticks\": \"\"}}, \"type\": \"scatter\"}], \"scatter3d\": [{\"line\": {\"colorbar\": {\"outlinewidth\": 0, \"ticks\": \"\"}}, \"marker\": {\"colorbar\": {\"outlinewidth\": 0, \"ticks\": \"\"}}, \"type\": \"scatter3d\"}], \"scattercarpet\": [{\"marker\": {\"colorbar\": {\"outlinewidth\": 0, \"ticks\": \"\"}}, \"type\": \"scattercarpet\"}], \"scattergeo\": [{\"marker\": {\"colorbar\": {\"outlinewidth\": 0, \"ticks\": \"\"}}, \"type\": \"scattergeo\"}], \"scattergl\": [{\"marker\": {\"colorbar\": {\"outlinewidth\": 0, \"ticks\": \"\"}}, \"type\": \"scattergl\"}], \"scattermapbox\": [{\"marker\": {\"colorbar\": {\"outlinewidth\": 0, \"ticks\": \"\"}}, \"type\": \"scattermapbox\"}], \"scatterpolar\": [{\"marker\": {\"colorbar\": {\"outlinewidth\": 0, \"ticks\": \"\"}}, \"type\": \"scatterpolar\"}], \"scatterpolargl\": [{\"marker\": {\"colorbar\": {\"outlinewidth\": 0, \"ticks\": \"\"}}, \"type\": \"scatterpolargl\"}], \"scatterternary\": [{\"marker\": {\"colorbar\": {\"outlinewidth\": 0, \"ticks\": \"\"}}, \"type\": \"scatterternary\"}], \"surface\": [{\"colorbar\": {\"outlinewidth\": 0, \"ticks\": \"\"}, \"colorscale\": [[0.0, \"#0d0887\"], [0.1111111111111111, \"#46039f\"], [0.2222222222222222, \"#7201a8\"], [0.3333333333333333, \"#9c179e\"], [0.4444444444444444, \"#bd3786\"], [0.5555555555555556, \"#d8576b\"], [0.6666666666666666, \"#ed7953\"], [0.7777777777777778, \"#fb9f3a\"], [0.8888888888888888, \"#fdca26\"], [1.0, \"#f0f921\"]], \"type\": \"surface\"}], \"table\": [{\"cells\": {\"fill\": {\"color\": \"#EBF0F8\"}, \"line\": {\"color\": \"white\"}}, \"header\": {\"fill\": {\"color\": \"#C8D4E3\"}, \"line\": {\"color\": \"white\"}}, \"type\": \"table\"}]}, \"layout\": {\"annotationdefaults\": {\"arrowcolor\": \"#2a3f5f\", \"arrowhead\": 0, \"arrowwidth\": 1}, \"coloraxis\": {\"colorbar\": {\"outlinewidth\": 0, \"ticks\": \"\"}}, \"colorscale\": {\"diverging\": [[0, \"#8e0152\"], [0.1, \"#c51b7d\"], [0.2, \"#de77ae\"], [0.3, \"#f1b6da\"], [0.4, \"#fde0ef\"], [0.5, \"#f7f7f7\"], [0.6, \"#e6f5d0\"], [0.7, \"#b8e186\"], [0.8, \"#7fbc41\"], [0.9, \"#4d9221\"], [1, \"#276419\"]], \"sequential\": [[0.0, \"#0d0887\"], [0.1111111111111111, \"#46039f\"], [0.2222222222222222, \"#7201a8\"], [0.3333333333333333, \"#9c179e\"], [0.4444444444444444, \"#bd3786\"], [0.5555555555555556, \"#d8576b\"], [0.6666666666666666, \"#ed7953\"], [0.7777777777777778, \"#fb9f3a\"], [0.8888888888888888, \"#fdca26\"], [1.0, \"#f0f921\"]], \"sequentialminus\": [[0.0, \"#0d0887\"], [0.1111111111111111, \"#46039f\"], [0.2222222222222222, \"#7201a8\"], [0.3333333333333333, \"#9c179e\"], [0.4444444444444444, \"#bd3786\"], [0.5555555555555556, \"#d8576b\"], [0.6666666666666666, \"#ed7953\"], [0.7777777777777778, \"#fb9f3a\"], [0.8888888888888888, \"#fdca26\"], [1.0, \"#f0f921\"]]}, \"colorway\": [\"#636efa\", \"#EF553B\", \"#00cc96\", \"#ab63fa\", \"#FFA15A\", \"#19d3f3\", \"#FF6692\", \"#B6E880\", \"#FF97FF\", \"#FECB52\"], \"font\": {\"color\": \"#2a3f5f\"}, \"geo\": {\"bgcolor\": \"white\", \"lakecolor\": \"white\", \"landcolor\": \"#E5ECF6\", \"showlakes\": true, \"showland\": true, \"subunitcolor\": \"white\"}, \"hoverlabel\": {\"align\": \"left\"}, \"hovermode\": \"closest\", \"mapbox\": {\"style\": \"light\"}, \"paper_bgcolor\": \"white\", \"plot_bgcolor\": \"#E5ECF6\", \"polar\": {\"angularaxis\": {\"gridcolor\": \"white\", \"linecolor\": \"white\", \"ticks\": \"\"}, \"bgcolor\": \"#E5ECF6\", \"radialaxis\": {\"gridcolor\": \"white\", \"linecolor\": \"white\", \"ticks\": \"\"}}, \"scene\": {\"xaxis\": {\"backgroundcolor\": \"#E5ECF6\", \"gridcolor\": \"white\", \"gridwidth\": 2, \"linecolor\": \"white\", \"showbackground\": true, \"ticks\": \"\", \"zerolinecolor\": \"white\"}, \"yaxis\": {\"backgroundcolor\": \"#E5ECF6\", \"gridcolor\": \"white\", \"gridwidth\": 2, \"linecolor\": \"white\", \"showbackground\": true, \"ticks\": \"\", \"zerolinecolor\": \"white\"}, \"zaxis\": {\"backgroundcolor\": \"#E5ECF6\", \"gridcolor\": \"white\", \"gridwidth\": 2, \"linecolor\": \"white\", \"showbackground\": true, \"ticks\": \"\", \"zerolinecolor\": \"white\"}}, \"shapedefaults\": {\"line\": {\"color\": \"#2a3f5f\"}}, \"ternary\": {\"aaxis\": {\"gridcolor\": \"white\", \"linecolor\": \"white\", \"ticks\": \"\"}, \"baxis\": {\"gridcolor\": \"white\", \"linecolor\": \"white\", \"ticks\": \"\"}, \"bgcolor\": \"#E5ECF6\", \"caxis\": {\"gridcolor\": \"white\", \"linecolor\": \"white\", \"ticks\": \"\"}}, \"title\": {\"x\": 0.05}, \"xaxis\": {\"automargin\": true, \"gridcolor\": \"white\", \"linecolor\": \"white\", \"ticks\": \"\", \"title\": {\"standoff\": 15}, \"zerolinecolor\": \"white\", \"zerolinewidth\": 2}, \"yaxis\": {\"automargin\": true, \"gridcolor\": \"white\", \"linecolor\": \"white\", \"ticks\": \"\", \"title\": {\"standoff\": 15}, \"zerolinecolor\": \"white\", \"zerolinewidth\": 2}}}},\n",
              "                        {\"responsive\": true}\n",
              "                    ).then(function(){\n",
              "                            \n",
              "var gd = document.getElementById('72e179de-1d80-4001-a7e7-5427c376d849');\n",
              "var x = new MutationObserver(function (mutations, observer) {{\n",
              "        var display = window.getComputedStyle(gd).display;\n",
              "        if (!display || display === 'none') {{\n",
              "            console.log([gd, 'removed!']);\n",
              "            Plotly.purge(gd);\n",
              "            observer.disconnect();\n",
              "        }}\n",
              "}});\n",
              "\n",
              "// Listen for the removal of the full notebook cells\n",
              "var notebookContainer = gd.closest('#notebook-container');\n",
              "if (notebookContainer) {{\n",
              "    x.observe(notebookContainer, {childList: true});\n",
              "}}\n",
              "\n",
              "// Listen for the clearing of the current output cell\n",
              "var outputEl = gd.closest('.output');\n",
              "if (outputEl) {{\n",
              "    x.observe(outputEl, {childList: true});\n",
              "}}\n",
              "\n",
              "                        })\n",
              "                };\n",
              "                \n",
              "            </script>\n",
              "        </div>\n",
              "</body>\n",
              "</html>"
            ]
          },
          "metadata": {}
        }
      ]
    },
    {
      "cell_type": "code",
      "source": [
        "study = optuna.create_study(study_name=study,\n",
        "                            storage=f\"sqlite:///{db_path}{db_name}.db\",\n",
        "                            load_if_exists=True,)"
      ],
      "metadata": {
        "colab": {
          "base_uri": "https://localhost:8080/"
        },
        "id": "oJracliusMTc",
        "outputId": "a00b2306-f1a1-46df-e962-c90d86aa3599"
      },
      "execution_count": 11,
      "outputs": [
        {
          "output_type": "stream",
          "name": "stderr",
          "text": [
            "\u001b[32m[I 2021-12-19 07:49:38,238]\u001b[0m Using an existing study with name 'distilbert-base-german-cased_bs32' instead of creating a new one.\u001b[0m\n"
          ]
        }
      ]
    },
    {
      "cell_type": "code",
      "source": [
        "optuna.visualization.plot_param_importances(\n",
        "    study, target=lambda t: t.values[0], target_name=\"eval_loss\"\n",
        ")"
      ],
      "metadata": {
        "colab": {
          "base_uri": "https://localhost:8080/",
          "height": 542
        },
        "id": "9_4De8WosfN_",
        "outputId": "ae8b0c11-ed36-4198-dc69-fca7bdddc63d"
      },
      "execution_count": 12,
      "outputs": [
        {
          "output_type": "display_data",
          "data": {
            "text/html": [
              "<html>\n",
              "<head><meta charset=\"utf-8\" /></head>\n",
              "<body>\n",
              "    <div>\n",
              "            <script src=\"https://cdnjs.cloudflare.com/ajax/libs/mathjax/2.7.5/MathJax.js?config=TeX-AMS-MML_SVG\"></script><script type=\"text/javascript\">if (window.MathJax) {MathJax.Hub.Config({SVG: {font: \"STIX-Web\"}});}</script>\n",
              "                <script type=\"text/javascript\">window.PlotlyConfig = {MathJaxConfig: 'local'};</script>\n",
              "        <script src=\"https://cdn.plot.ly/plotly-latest.min.js\"></script>    \n",
              "            <div id=\"aa2d0be8-b160-4719-b120-4b1eab7e550b\" class=\"plotly-graph-div\" style=\"height:525px; width:100%;\"></div>\n",
              "            <script type=\"text/javascript\">\n",
              "                \n",
              "                    window.PLOTLYENV=window.PLOTLYENV || {};\n",
              "                    \n",
              "                if (document.getElementById(\"aa2d0be8-b160-4719-b120-4b1eab7e550b\")) {\n",
              "                    Plotly.newPlot(\n",
              "                        'aa2d0be8-b160-4719-b120-4b1eab7e550b',\n",
              "                        [{\"cliponaxis\": false, \"hovertemplate\": [\"num_train_epochs (CategoricalDistribution): 0.0<extra></extra>\", \"per_device_train_batch_size (CategoricalDistribution): 0.0<extra></extra>\", \"weight_decay (LogUniformDistribution): 0.010935880675619847<extra></extra>\", \"label_smoothing_factor (UniformDistribution): 0.482979951965976<extra></extra>\", \"learning_rate (LogUniformDistribution): 0.5060841673584041<extra></extra>\"], \"marker\": {\"color\": \"rgb(66,146,198)\"}, \"orientation\": \"h\", \"text\": [\"0.0\", \"0.0\", \"0.010935880675619847\", \"0.482979951965976\", \"0.5060841673584041\"], \"textposition\": \"outside\", \"texttemplate\": \"%{text:.2f}\", \"type\": \"bar\", \"x\": [0.0, 0.0, 0.010935880675619847, 0.482979951965976, 0.5060841673584041], \"y\": [\"num_train_epochs\", \"per_device_train_batch_size\", \"weight_decay\", \"label_smoothing_factor\", \"learning_rate\"]}],\n",
              "                        {\"showlegend\": false, \"template\": {\"data\": {\"bar\": [{\"error_x\": {\"color\": \"#2a3f5f\"}, \"error_y\": {\"color\": \"#2a3f5f\"}, \"marker\": {\"line\": {\"color\": \"#E5ECF6\", \"width\": 0.5}}, \"type\": \"bar\"}], \"barpolar\": [{\"marker\": {\"line\": {\"color\": \"#E5ECF6\", \"width\": 0.5}}, \"type\": \"barpolar\"}], \"carpet\": [{\"aaxis\": {\"endlinecolor\": \"#2a3f5f\", \"gridcolor\": \"white\", \"linecolor\": \"white\", \"minorgridcolor\": \"white\", \"startlinecolor\": \"#2a3f5f\"}, \"baxis\": {\"endlinecolor\": \"#2a3f5f\", \"gridcolor\": \"white\", \"linecolor\": \"white\", \"minorgridcolor\": \"white\", \"startlinecolor\": \"#2a3f5f\"}, \"type\": \"carpet\"}], \"choropleth\": [{\"colorbar\": {\"outlinewidth\": 0, \"ticks\": \"\"}, \"type\": \"choropleth\"}], \"contour\": [{\"colorbar\": {\"outlinewidth\": 0, \"ticks\": \"\"}, \"colorscale\": [[0.0, \"#0d0887\"], [0.1111111111111111, \"#46039f\"], [0.2222222222222222, \"#7201a8\"], [0.3333333333333333, \"#9c179e\"], [0.4444444444444444, \"#bd3786\"], [0.5555555555555556, \"#d8576b\"], [0.6666666666666666, \"#ed7953\"], [0.7777777777777778, \"#fb9f3a\"], [0.8888888888888888, \"#fdca26\"], [1.0, \"#f0f921\"]], \"type\": \"contour\"}], \"contourcarpet\": [{\"colorbar\": {\"outlinewidth\": 0, \"ticks\": \"\"}, \"type\": \"contourcarpet\"}], \"heatmap\": [{\"colorbar\": {\"outlinewidth\": 0, \"ticks\": \"\"}, \"colorscale\": [[0.0, \"#0d0887\"], [0.1111111111111111, \"#46039f\"], [0.2222222222222222, \"#7201a8\"], [0.3333333333333333, \"#9c179e\"], [0.4444444444444444, \"#bd3786\"], [0.5555555555555556, \"#d8576b\"], [0.6666666666666666, \"#ed7953\"], [0.7777777777777778, \"#fb9f3a\"], [0.8888888888888888, \"#fdca26\"], [1.0, \"#f0f921\"]], \"type\": \"heatmap\"}], \"heatmapgl\": [{\"colorbar\": {\"outlinewidth\": 0, \"ticks\": \"\"}, \"colorscale\": [[0.0, \"#0d0887\"], [0.1111111111111111, \"#46039f\"], [0.2222222222222222, \"#7201a8\"], [0.3333333333333333, \"#9c179e\"], [0.4444444444444444, \"#bd3786\"], [0.5555555555555556, \"#d8576b\"], [0.6666666666666666, \"#ed7953\"], [0.7777777777777778, \"#fb9f3a\"], [0.8888888888888888, \"#fdca26\"], [1.0, \"#f0f921\"]], \"type\": \"heatmapgl\"}], \"histogram\": [{\"marker\": {\"colorbar\": {\"outlinewidth\": 0, \"ticks\": \"\"}}, \"type\": \"histogram\"}], \"histogram2d\": [{\"colorbar\": {\"outlinewidth\": 0, \"ticks\": \"\"}, \"colorscale\": [[0.0, \"#0d0887\"], [0.1111111111111111, \"#46039f\"], [0.2222222222222222, \"#7201a8\"], [0.3333333333333333, \"#9c179e\"], [0.4444444444444444, \"#bd3786\"], [0.5555555555555556, \"#d8576b\"], [0.6666666666666666, \"#ed7953\"], [0.7777777777777778, \"#fb9f3a\"], [0.8888888888888888, \"#fdca26\"], [1.0, \"#f0f921\"]], \"type\": \"histogram2d\"}], \"histogram2dcontour\": [{\"colorbar\": {\"outlinewidth\": 0, \"ticks\": \"\"}, \"colorscale\": [[0.0, \"#0d0887\"], [0.1111111111111111, \"#46039f\"], [0.2222222222222222, \"#7201a8\"], [0.3333333333333333, \"#9c179e\"], [0.4444444444444444, \"#bd3786\"], [0.5555555555555556, \"#d8576b\"], [0.6666666666666666, \"#ed7953\"], [0.7777777777777778, \"#fb9f3a\"], [0.8888888888888888, \"#fdca26\"], [1.0, \"#f0f921\"]], \"type\": \"histogram2dcontour\"}], \"mesh3d\": [{\"colorbar\": {\"outlinewidth\": 0, \"ticks\": \"\"}, \"type\": \"mesh3d\"}], \"parcoords\": [{\"line\": {\"colorbar\": {\"outlinewidth\": 0, \"ticks\": \"\"}}, \"type\": \"parcoords\"}], \"pie\": [{\"automargin\": true, \"type\": \"pie\"}], \"scatter\": [{\"marker\": {\"colorbar\": {\"outlinewidth\": 0, \"ticks\": \"\"}}, \"type\": \"scatter\"}], \"scatter3d\": [{\"line\": {\"colorbar\": {\"outlinewidth\": 0, \"ticks\": \"\"}}, \"marker\": {\"colorbar\": {\"outlinewidth\": 0, \"ticks\": \"\"}}, \"type\": \"scatter3d\"}], \"scattercarpet\": [{\"marker\": {\"colorbar\": {\"outlinewidth\": 0, \"ticks\": \"\"}}, \"type\": \"scattercarpet\"}], \"scattergeo\": [{\"marker\": {\"colorbar\": {\"outlinewidth\": 0, \"ticks\": \"\"}}, \"type\": \"scattergeo\"}], \"scattergl\": [{\"marker\": {\"colorbar\": {\"outlinewidth\": 0, \"ticks\": \"\"}}, \"type\": \"scattergl\"}], \"scattermapbox\": [{\"marker\": {\"colorbar\": {\"outlinewidth\": 0, \"ticks\": \"\"}}, \"type\": \"scattermapbox\"}], \"scatterpolar\": [{\"marker\": {\"colorbar\": {\"outlinewidth\": 0, \"ticks\": \"\"}}, \"type\": \"scatterpolar\"}], \"scatterpolargl\": [{\"marker\": {\"colorbar\": {\"outlinewidth\": 0, \"ticks\": \"\"}}, \"type\": \"scatterpolargl\"}], \"scatterternary\": [{\"marker\": {\"colorbar\": {\"outlinewidth\": 0, \"ticks\": \"\"}}, \"type\": \"scatterternary\"}], \"surface\": [{\"colorbar\": {\"outlinewidth\": 0, \"ticks\": \"\"}, \"colorscale\": [[0.0, \"#0d0887\"], [0.1111111111111111, \"#46039f\"], [0.2222222222222222, \"#7201a8\"], [0.3333333333333333, \"#9c179e\"], [0.4444444444444444, \"#bd3786\"], [0.5555555555555556, \"#d8576b\"], [0.6666666666666666, \"#ed7953\"], [0.7777777777777778, \"#fb9f3a\"], [0.8888888888888888, \"#fdca26\"], [1.0, \"#f0f921\"]], \"type\": \"surface\"}], \"table\": [{\"cells\": {\"fill\": {\"color\": \"#EBF0F8\"}, \"line\": {\"color\": \"white\"}}, \"header\": {\"fill\": {\"color\": \"#C8D4E3\"}, \"line\": {\"color\": \"white\"}}, \"type\": \"table\"}]}, \"layout\": {\"annotationdefaults\": {\"arrowcolor\": \"#2a3f5f\", \"arrowhead\": 0, \"arrowwidth\": 1}, \"coloraxis\": {\"colorbar\": {\"outlinewidth\": 0, \"ticks\": \"\"}}, \"colorscale\": {\"diverging\": [[0, \"#8e0152\"], [0.1, \"#c51b7d\"], [0.2, \"#de77ae\"], [0.3, \"#f1b6da\"], [0.4, \"#fde0ef\"], [0.5, \"#f7f7f7\"], [0.6, \"#e6f5d0\"], [0.7, \"#b8e186\"], [0.8, \"#7fbc41\"], [0.9, \"#4d9221\"], [1, \"#276419\"]], \"sequential\": [[0.0, \"#0d0887\"], [0.1111111111111111, \"#46039f\"], [0.2222222222222222, \"#7201a8\"], [0.3333333333333333, \"#9c179e\"], [0.4444444444444444, \"#bd3786\"], [0.5555555555555556, \"#d8576b\"], [0.6666666666666666, \"#ed7953\"], [0.7777777777777778, \"#fb9f3a\"], [0.8888888888888888, \"#fdca26\"], [1.0, \"#f0f921\"]], \"sequentialminus\": [[0.0, \"#0d0887\"], [0.1111111111111111, \"#46039f\"], [0.2222222222222222, \"#7201a8\"], [0.3333333333333333, \"#9c179e\"], [0.4444444444444444, \"#bd3786\"], [0.5555555555555556, \"#d8576b\"], [0.6666666666666666, \"#ed7953\"], [0.7777777777777778, \"#fb9f3a\"], [0.8888888888888888, \"#fdca26\"], [1.0, \"#f0f921\"]]}, \"colorway\": [\"#636efa\", \"#EF553B\", \"#00cc96\", \"#ab63fa\", \"#FFA15A\", \"#19d3f3\", \"#FF6692\", \"#B6E880\", \"#FF97FF\", \"#FECB52\"], \"font\": {\"color\": \"#2a3f5f\"}, \"geo\": {\"bgcolor\": \"white\", \"lakecolor\": \"white\", \"landcolor\": \"#E5ECF6\", \"showlakes\": true, \"showland\": true, \"subunitcolor\": \"white\"}, \"hoverlabel\": {\"align\": \"left\"}, \"hovermode\": \"closest\", \"mapbox\": {\"style\": \"light\"}, \"paper_bgcolor\": \"white\", \"plot_bgcolor\": \"#E5ECF6\", \"polar\": {\"angularaxis\": {\"gridcolor\": \"white\", \"linecolor\": \"white\", \"ticks\": \"\"}, \"bgcolor\": \"#E5ECF6\", \"radialaxis\": {\"gridcolor\": \"white\", \"linecolor\": \"white\", \"ticks\": \"\"}}, \"scene\": {\"xaxis\": {\"backgroundcolor\": \"#E5ECF6\", \"gridcolor\": \"white\", \"gridwidth\": 2, \"linecolor\": \"white\", \"showbackground\": true, \"ticks\": \"\", \"zerolinecolor\": \"white\"}, \"yaxis\": {\"backgroundcolor\": \"#E5ECF6\", \"gridcolor\": \"white\", \"gridwidth\": 2, \"linecolor\": \"white\", \"showbackground\": true, \"ticks\": \"\", \"zerolinecolor\": \"white\"}, \"zaxis\": {\"backgroundcolor\": \"#E5ECF6\", \"gridcolor\": \"white\", \"gridwidth\": 2, \"linecolor\": \"white\", \"showbackground\": true, \"ticks\": \"\", \"zerolinecolor\": \"white\"}}, \"shapedefaults\": {\"line\": {\"color\": \"#2a3f5f\"}}, \"ternary\": {\"aaxis\": {\"gridcolor\": \"white\", \"linecolor\": \"white\", \"ticks\": \"\"}, \"baxis\": {\"gridcolor\": \"white\", \"linecolor\": \"white\", \"ticks\": \"\"}, \"bgcolor\": \"#E5ECF6\", \"caxis\": {\"gridcolor\": \"white\", \"linecolor\": \"white\", \"ticks\": \"\"}}, \"title\": {\"x\": 0.05}, \"xaxis\": {\"automargin\": true, \"gridcolor\": \"white\", \"linecolor\": \"white\", \"ticks\": \"\", \"title\": {\"standoff\": 15}, \"zerolinecolor\": \"white\", \"zerolinewidth\": 2}, \"yaxis\": {\"automargin\": true, \"gridcolor\": \"white\", \"linecolor\": \"white\", \"ticks\": \"\", \"title\": {\"standoff\": 15}, \"zerolinecolor\": \"white\", \"zerolinewidth\": 2}}}, \"title\": {\"text\": \"Hyperparameter Importances\"}, \"xaxis\": {\"title\": {\"text\": \"Importance for eval_loss\"}}, \"yaxis\": {\"title\": {\"text\": \"Hyperparameter\"}}},\n",
              "                        {\"responsive\": true}\n",
              "                    ).then(function(){\n",
              "                            \n",
              "var gd = document.getElementById('aa2d0be8-b160-4719-b120-4b1eab7e550b');\n",
              "var x = new MutationObserver(function (mutations, observer) {{\n",
              "        var display = window.getComputedStyle(gd).display;\n",
              "        if (!display || display === 'none') {{\n",
              "            console.log([gd, 'removed!']);\n",
              "            Plotly.purge(gd);\n",
              "            observer.disconnect();\n",
              "        }}\n",
              "}});\n",
              "\n",
              "// Listen for the removal of the full notebook cells\n",
              "var notebookContainer = gd.closest('#notebook-container');\n",
              "if (notebookContainer) {{\n",
              "    x.observe(notebookContainer, {childList: true});\n",
              "}}\n",
              "\n",
              "// Listen for the clearing of the current output cell\n",
              "var outputEl = gd.closest('.output');\n",
              "if (outputEl) {{\n",
              "    x.observe(outputEl, {childList: true});\n",
              "}}\n",
              "\n",
              "                        })\n",
              "                };\n",
              "                \n",
              "            </script>\n",
              "        </div>\n",
              "</body>\n",
              "</html>"
            ]
          },
          "metadata": {}
        }
      ]
    },
    {
      "cell_type": "code",
      "source": [
        "trial_df.eval_loss.plot();"
      ],
      "metadata": {
        "colab": {
          "base_uri": "https://localhost:8080/",
          "height": 265
        },
        "id": "8J0j5_bZq1U-",
        "outputId": "cbd6d12c-0e60-4b9c-fb1d-6951bc5227ad"
      },
      "execution_count": 13,
      "outputs": [
        {
          "output_type": "display_data",
          "data": {
            "image/png": "[encoded data removed]",
            "text/plain": [
              "<Figure size 432x288 with 1 Axes>"
            ]
          },
          "metadata": {
            "needs_background": "light"
          }
        }
      ]
    },
    {
      "cell_type": "code",
      "source": [
        "import matplotlib.pyplot as plt\n",
        "plt.scatter(metrics_df.eval_loss, metrics_df.eval_f1);"
      ],
      "metadata": {
        "colab": {
          "base_uri": "https://localhost:8080/",
          "height": 265
        },
        "id": "pSjeX0KqyxH0",
        "outputId": "8d63bf95-7cd5-491c-a800-be61d972d33b"
      },
      "execution_count": 14,
      "outputs": [
        {
          "output_type": "display_data",
          "data": {
            "image/png": "[encoded data removed]",
            "text/plain": [
              "<Figure size 432x288 with 1 Axes>"
            ]
          },
          "metadata": {
            "needs_background": "light"
          }
        }
      ]
    }
  ]
}