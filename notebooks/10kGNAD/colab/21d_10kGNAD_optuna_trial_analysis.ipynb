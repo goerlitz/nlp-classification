{
  "nbformat": 4,
  "nbformat_minor": 0,
  "metadata": {
    "colab": {
      "name": "21d_10kGNAD_optuna_trial_analysis.ipynb",
      "provenance": [],
      "collapsed_sections": [],
      "authorship_tag": "ABX9TyOJuxdZq65lR/C3tQa1FN+7",
      "include_colab_link": true
    },
    "kernelspec": {
      "name": "python3",
      "display_name": "Python 3"
    },
    "language_info": {
      "name": "python"
    }
  },
  "cells": [
    {
      "cell_type": "markdown",
      "metadata": {
        "id": "view-in-github",
        "colab_type": "text"
      },
      "source": [
        "<a href=\"https://colab.research.google.com/github/goerlitz/nlp-classification/blob/main/notebooks/10kGNAD/colab/21d_10kGNAD_optuna_trial_analysis.ipynb\" target=\"_parent\"><img src=\"https://colab.research.google.com/assets/colab-badge.svg\" alt=\"Open In Colab\"/></a>"
      ]
    },
    {
      "cell_type": "markdown",
      "metadata": {
        "id": "OS6lETZj73MX"
      },
      "source": [
        "# Analysis of Optuna Results"
      ]
    },
    {
      "cell_type": "code",
      "metadata": {
        "id": "JLCsWjYb7yF9"
      },
      "source": [
        "!pip install -q --upgrade optuna >/dev/null"
      ],
      "execution_count": 65,
      "outputs": []
    },
    {
      "cell_type": "code",
      "metadata": {
        "id": "HQ67SRK98psr"
      },
      "source": [
        "import optuna\n",
        "from optuna.storages import RDBStorage"
      ],
      "execution_count": 66,
      "outputs": []
    },
    {
      "cell_type": "markdown",
      "metadata": {
        "id": "_9p1Ttb49PAz"
      },
      "source": [
        "## Connect Google Drive"
      ]
    },
    {
      "cell_type": "code",
      "metadata": {
        "colab": {
          "base_uri": "https://localhost:8080/"
        },
        "id": "NHLkc2JO9RdT",
        "outputId": "2d20c78c-01ab-4468-c113-95ef33d59d34"
      },
      "source": [
        "from google.colab import drive\n",
        "\n",
        "drive.mount('/content/gdrive')"
      ],
      "execution_count": 67,
      "outputs": [
        {
          "output_type": "stream",
          "name": "stdout",
          "text": [
            "Drive already mounted at /content/gdrive; to attempt to forcibly remount, call drive.mount(\"/content/gdrive\", force_remount=True).\n"
          ]
        }
      ]
    },
    {
      "cell_type": "markdown",
      "metadata": {
        "id": "9pZxcZUH9W4o"
      },
      "source": [
        "## Connect Database\n",
        "\n",
        "https://optuna.readthedocs.io/en/stable/reference/generated/optuna.storages.RDBStorage.html#optuna.storages.RDBStorage"
      ]
    },
    {
      "cell_type": "code",
      "metadata": {
        "id": "ECGjgrzh8vLx"
      },
      "source": [
        "db_path = \"/content/gdrive/My Drive/Colab Notebooks/nlp-classification/\"\n",
        "db_name = \"10kgnad_hf__distilbert-base-german-cased\"\n",
        "\n",
        "storage = RDBStorage(\n",
        "    url=f\"sqlite:///{db_path}{db_name}.db\",\n",
        "    #engine_kwargs={\"pool_size\": 20, \"connect_args\": {\"timeout\": 10}},\n",
        ")"
      ],
      "execution_count": 68,
      "outputs": []
    },
    {
      "cell_type": "code",
      "metadata": {
        "colab": {
          "base_uri": "https://localhost:8080/"
        },
        "id": "88yZb0BN9akR",
        "outputId": "5f95203e-1dcc-4380-d4a0-c303f8e97bd4"
      },
      "source": [
        "for s in storage.get_all_study_summaries():\n",
        "    print(s.datetime_start, s.study_name, s.n_trials, s.best_trial)"
      ],
      "execution_count": 69,
      "outputs": [
        {
          "output_type": "stream",
          "name": "stdout",
          "text": [
            "2021-12-17 08:16:53.667223 10kgnad_hf__distilbert-base-german-cased 33 FrozenTrial(number=28, values=[0.3278708755970001], datetime_start=datetime.datetime(2021, 12, 17, 21, 57, 46, 766614), datetime_complete=datetime.datetime(2021, 12, 17, 22, 8, 24, 714547), params={'learning_rate': 6.496217126578442e-05, 'num_train_epochs': 2, 'per_device_train_batch_size': 32, 'weight_decay': 0.0031495603091898777}, distributions={'learning_rate': LogUniformDistribution(high=0.0001, low=1e-05), 'num_train_epochs': CategoricalDistribution(choices=(2,)), 'per_device_train_batch_size': CategoricalDistribution(choices=(8, 16, 32)), 'weight_decay': LogUniformDistribution(high=0.01, low=0.001)}, user_attrs={}, system_attrs={}, intermediate_values={}, trial_id=29, state=TrialState.COMPLETE, value=None)\n"
          ]
        }
      ]
    },
    {
      "cell_type": "code",
      "metadata": {
        "id": "mNGZ0uJEn_C4"
      },
      "source": [
        "study = storage.get_all_study_summaries()[0].study_name\n",
        "trials = storage.get_all_trials(storage.get_study_id_from_name(study))"
      ],
      "execution_count": 70,
      "outputs": []
    },
    {
      "cell_type": "code",
      "source": [
        "trials[1]"
      ],
      "metadata": {
        "colab": {
          "base_uri": "https://localhost:8080/"
        },
        "id": "pEFlJtyNW5i6",
        "outputId": "971a132b-82c5-4a31-a8af-340778ae9658"
      },
      "execution_count": 71,
      "outputs": [
        {
          "output_type": "execute_result",
          "data": {
            "text/plain": [
              "FrozenTrial(number=1, values=[0.37806227803230286], datetime_start=datetime.datetime(2021, 12, 17, 8, 17, 25, 11382), datetime_complete=datetime.datetime(2021, 12, 17, 8, 28, 56, 206016), params={'learning_rate': 3.725801318786445e-05, 'num_train_epochs': 2, 'per_device_train_batch_size': 16, 'weight_decay': 0.006507560517674187}, distributions={'learning_rate': LogUniformDistribution(high=0.0001, low=1e-05), 'num_train_epochs': CategoricalDistribution(choices=(2,)), 'per_device_train_batch_size': CategoricalDistribution(choices=(8, 16, 32)), 'weight_decay': LogUniformDistribution(high=0.01, low=0.001)}, user_attrs={}, system_attrs={}, intermediate_values={}, trial_id=2, state=TrialState.COMPLETE, value=None)"
            ]
          },
          "metadata": {},
          "execution_count": 71
        }
      ]
    },
    {
      "cell_type": "code",
      "source": [
        "from optuna.trial import TrialState\n",
        "\n",
        "complete_trials = [t for t in trials if t.state==TrialState.COMPLETE]\n",
        "\n",
        "trial_df = pd.DataFrame([t.params for t in complete_trials])\n",
        "trial_df.index = [t.number for t in complete_trials]\n",
        "trial_df[\"eval_loss\"] = [t.value for t in complete_trials]\n",
        "trial_df.sort_values(\"eval_loss\")"
      ],
      "metadata": {
        "colab": {
          "base_uri": "https://localhost:8080/",
          "height": 990
        },
        "id": "WfsTYpoWYui5",
        "outputId": "9be31757-daaf-4290-daf5-1dc95b14988a"
      },
      "execution_count": 72,
      "outputs": [
        {
          "output_type": "execute_result",
          "data": {
            "text/html": [
              "\n",
              "  <div id=\"df-6bb946d2-339c-4bae-a57d-36b90c201e46\">\n",
              "    <div class=\"colab-df-container\">\n",
              "      <div>\n",
              "<style scoped>\n",
              "    .dataframe tbody tr th:only-of-type {\n",
              "        vertical-align: middle;\n",
              "    }\n",
              "\n",
              "    .dataframe tbody tr th {\n",
              "        vertical-align: top;\n",
              "    }\n",
              "\n",
              "    .dataframe thead th {\n",
              "        text-align: right;\n",
              "    }\n",
              "</style>\n",
              "<table border=\"1\" class=\"dataframe\">\n",
              "  <thead>\n",
              "    <tr style=\"text-align: right;\">\n",
              "      <th></th>\n",
              "      <th>learning_rate</th>\n",
              "      <th>num_train_epochs</th>\n",
              "      <th>per_device_train_batch_size</th>\n",
              "      <th>weight_decay</th>\n",
              "      <th>eval_loss</th>\n",
              "    </tr>\n",
              "  </thead>\n",
              "  <tbody>\n",
              "    <tr>\n",
              "      <th>28</th>\n",
              "      <td>0.000065</td>\n",
              "      <td>2</td>\n",
              "      <td>32</td>\n",
              "      <td>0.003150</td>\n",
              "      <td>0.327871</td>\n",
              "    </tr>\n",
              "    <tr>\n",
              "      <th>22</th>\n",
              "      <td>0.000062</td>\n",
              "      <td>2</td>\n",
              "      <td>32</td>\n",
              "      <td>0.006756</td>\n",
              "      <td>0.329290</td>\n",
              "    </tr>\n",
              "    <tr>\n",
              "      <th>24</th>\n",
              "      <td>0.000060</td>\n",
              "      <td>2</td>\n",
              "      <td>32</td>\n",
              "      <td>0.005864</td>\n",
              "      <td>0.329652</td>\n",
              "    </tr>\n",
              "    <tr>\n",
              "      <th>26</th>\n",
              "      <td>0.000064</td>\n",
              "      <td>2</td>\n",
              "      <td>32</td>\n",
              "      <td>0.004508</td>\n",
              "      <td>0.332105</td>\n",
              "    </tr>\n",
              "    <tr>\n",
              "      <th>23</th>\n",
              "      <td>0.000068</td>\n",
              "      <td>2</td>\n",
              "      <td>32</td>\n",
              "      <td>0.007089</td>\n",
              "      <td>0.333058</td>\n",
              "    </tr>\n",
              "    <tr>\n",
              "      <th>16</th>\n",
              "      <td>0.000089</td>\n",
              "      <td>2</td>\n",
              "      <td>32</td>\n",
              "      <td>0.009658</td>\n",
              "      <td>0.338841</td>\n",
              "    </tr>\n",
              "    <tr>\n",
              "      <th>20</th>\n",
              "      <td>0.000074</td>\n",
              "      <td>2</td>\n",
              "      <td>32</td>\n",
              "      <td>0.007228</td>\n",
              "      <td>0.339404</td>\n",
              "    </tr>\n",
              "    <tr>\n",
              "      <th>15</th>\n",
              "      <td>0.000084</td>\n",
              "      <td>2</td>\n",
              "      <td>32</td>\n",
              "      <td>0.009690</td>\n",
              "      <td>0.339937</td>\n",
              "    </tr>\n",
              "    <tr>\n",
              "      <th>25</th>\n",
              "      <td>0.000053</td>\n",
              "      <td>2</td>\n",
              "      <td>32</td>\n",
              "      <td>0.005767</td>\n",
              "      <td>0.341159</td>\n",
              "    </tr>\n",
              "    <tr>\n",
              "      <th>19</th>\n",
              "      <td>0.000076</td>\n",
              "      <td>2</td>\n",
              "      <td>32</td>\n",
              "      <td>0.008290</td>\n",
              "      <td>0.343946</td>\n",
              "    </tr>\n",
              "    <tr>\n",
              "      <th>18</th>\n",
              "      <td>0.000075</td>\n",
              "      <td>2</td>\n",
              "      <td>32</td>\n",
              "      <td>0.003685</td>\n",
              "      <td>0.345122</td>\n",
              "    </tr>\n",
              "    <tr>\n",
              "      <th>17</th>\n",
              "      <td>0.000097</td>\n",
              "      <td>2</td>\n",
              "      <td>32</td>\n",
              "      <td>0.009795</td>\n",
              "      <td>0.352114</td>\n",
              "    </tr>\n",
              "    <tr>\n",
              "      <th>30</th>\n",
              "      <td>0.000035</td>\n",
              "      <td>2</td>\n",
              "      <td>32</td>\n",
              "      <td>0.002743</td>\n",
              "      <td>0.358369</td>\n",
              "    </tr>\n",
              "    <tr>\n",
              "      <th>6</th>\n",
              "      <td>0.000045</td>\n",
              "      <td>2</td>\n",
              "      <td>16</td>\n",
              "      <td>0.005603</td>\n",
              "      <td>0.361023</td>\n",
              "    </tr>\n",
              "    <tr>\n",
              "      <th>14</th>\n",
              "      <td>0.000044</td>\n",
              "      <td>2</td>\n",
              "      <td>16</td>\n",
              "      <td>0.009680</td>\n",
              "      <td>0.363168</td>\n",
              "    </tr>\n",
              "    <tr>\n",
              "      <th>13</th>\n",
              "      <td>0.000041</td>\n",
              "      <td>2</td>\n",
              "      <td>16</td>\n",
              "      <td>0.005476</td>\n",
              "      <td>0.366099</td>\n",
              "    </tr>\n",
              "    <tr>\n",
              "      <th>12</th>\n",
              "      <td>0.000032</td>\n",
              "      <td>2</td>\n",
              "      <td>16</td>\n",
              "      <td>0.001014</td>\n",
              "      <td>0.370881</td>\n",
              "    </tr>\n",
              "    <tr>\n",
              "      <th>3</th>\n",
              "      <td>0.000026</td>\n",
              "      <td>2</td>\n",
              "      <td>16</td>\n",
              "      <td>0.001157</td>\n",
              "      <td>0.376799</td>\n",
              "    </tr>\n",
              "    <tr>\n",
              "      <th>1</th>\n",
              "      <td>0.000037</td>\n",
              "      <td>2</td>\n",
              "      <td>16</td>\n",
              "      <td>0.006508</td>\n",
              "      <td>0.378062</td>\n",
              "    </tr>\n",
              "    <tr>\n",
              "      <th>8</th>\n",
              "      <td>0.000027</td>\n",
              "      <td>2</td>\n",
              "      <td>32</td>\n",
              "      <td>0.002103</td>\n",
              "      <td>0.381679</td>\n",
              "    </tr>\n",
              "    <tr>\n",
              "      <th>10</th>\n",
              "      <td>0.000058</td>\n",
              "      <td>2</td>\n",
              "      <td>16</td>\n",
              "      <td>0.004301</td>\n",
              "      <td>0.383601</td>\n",
              "    </tr>\n",
              "    <tr>\n",
              "      <th>9</th>\n",
              "      <td>0.000059</td>\n",
              "      <td>2</td>\n",
              "      <td>16</td>\n",
              "      <td>0.002404</td>\n",
              "      <td>0.389900</td>\n",
              "    </tr>\n",
              "    <tr>\n",
              "      <th>31</th>\n",
              "      <td>0.000048</td>\n",
              "      <td>2</td>\n",
              "      <td>8</td>\n",
              "      <td>0.003638</td>\n",
              "      <td>0.415657</td>\n",
              "    </tr>\n",
              "    <tr>\n",
              "      <th>2</th>\n",
              "      <td>0.000019</td>\n",
              "      <td>2</td>\n",
              "      <td>32</td>\n",
              "      <td>0.001356</td>\n",
              "      <td>0.423792</td>\n",
              "    </tr>\n",
              "    <tr>\n",
              "      <th>27</th>\n",
              "      <td>0.000052</td>\n",
              "      <td>2</td>\n",
              "      <td>8</td>\n",
              "      <td>0.004246</td>\n",
              "      <td>0.426816</td>\n",
              "    </tr>\n",
              "    <tr>\n",
              "      <th>7</th>\n",
              "      <td>0.000058</td>\n",
              "      <td>2</td>\n",
              "      <td>8</td>\n",
              "      <td>0.007432</td>\n",
              "      <td>0.440360</td>\n",
              "    </tr>\n",
              "    <tr>\n",
              "      <th>29</th>\n",
              "      <td>0.000018</td>\n",
              "      <td>2</td>\n",
              "      <td>32</td>\n",
              "      <td>0.003255</td>\n",
              "      <td>0.440370</td>\n",
              "    </tr>\n",
              "    <tr>\n",
              "      <th>4</th>\n",
              "      <td>0.000012</td>\n",
              "      <td>2</td>\n",
              "      <td>16</td>\n",
              "      <td>0.001871</td>\n",
              "      <td>0.444451</td>\n",
              "    </tr>\n",
              "    <tr>\n",
              "      <th>11</th>\n",
              "      <td>0.000097</td>\n",
              "      <td>2</td>\n",
              "      <td>8</td>\n",
              "      <td>0.004666</td>\n",
              "      <td>0.444478</td>\n",
              "    </tr>\n",
              "    <tr>\n",
              "      <th>5</th>\n",
              "      <td>0.000012</td>\n",
              "      <td>2</td>\n",
              "      <td>16</td>\n",
              "      <td>0.002902</td>\n",
              "      <td>0.445178</td>\n",
              "    </tr>\n",
              "  </tbody>\n",
              "</table>\n",
              "</div>\n",
              "      <button class=\"colab-df-convert\" onclick=\"convertToInteractive('df-6bb946d2-339c-4bae-a57d-36b90c201e46')\"\n",
              "              title=\"Convert this dataframe to an interactive table.\"\n",
              "              style=\"display:none;\">\n",
              "        \n",
              "  <svg xmlns=\"http://www.w3.org/2000/svg\" height=\"24px\"viewBox=\"0 0 24 24\"\n",
              "       width=\"24px\">\n",
              "    <path d=\"M0 0h24v24H0V0z\" fill=\"none\"/>\n",
              "    <path d=\"M18.56 5.44l.94 2.06.94-2.06 2.06-.94-2.06-.94-.94-2.06-.94 2.06-2.06.94zm-11 1L8.5 8.5l.94-2.06 2.06-.94-2.06-.94L8.5 2.5l-.94 2.06-2.06.94zm10 10l.94 2.06.94-2.06 2.06-.94-2.06-.94-.94-2.06-.94 2.06-2.06.94z\"/><path d=\"M17.41 7.96l-1.37-1.37c-.4-.4-.92-.59-1.43-.59-.52 0-1.04.2-1.43.59L10.3 9.45l-7.72 7.72c-.78.78-.78 2.05 0 2.83L4 21.41c.39.39.9.59 1.41.59.51 0 1.02-.2 1.41-.59l7.78-7.78 2.81-2.81c.8-.78.8-2.07 0-2.86zM5.41 20L4 18.59l7.72-7.72 1.47 1.35L5.41 20z\"/>\n",
              "  </svg>\n",
              "      </button>\n",
              "      \n",
              "  <style>\n",
              "    .colab-df-container {\n",
              "      display:flex;\n",
              "      flex-wrap:wrap;\n",
              "      gap: 12px;\n",
              "    }\n",
              "\n",
              "    .colab-df-convert {\n",
              "      background-color: #E8F0FE;\n",
              "      border: none;\n",
              "      border-radius: 50%;\n",
              "      cursor: pointer;\n",
              "      display: none;\n",
              "      fill: #1967D2;\n",
              "      height: 32px;\n",
              "      padding: 0 0 0 0;\n",
              "      width: 32px;\n",
              "    }\n",
              "\n",
              "    .colab-df-convert:hover {\n",
              "      background-color: #E2EBFA;\n",
              "      box-shadow: 0px 1px 2px rgba(60, 64, 67, 0.3), 0px 1px 3px 1px rgba(60, 64, 67, 0.15);\n",
              "      fill: #174EA6;\n",
              "    }\n",
              "\n",
              "    [theme=dark] .colab-df-convert {\n",
              "      background-color: #3B4455;\n",
              "      fill: #D2E3FC;\n",
              "    }\n",
              "\n",
              "    [theme=dark] .colab-df-convert:hover {\n",
              "      background-color: #434B5C;\n",
              "      box-shadow: 0px 1px 3px 1px rgba(0, 0, 0, 0.15);\n",
              "      filter: drop-shadow(0px 1px 2px rgba(0, 0, 0, 0.3));\n",
              "      fill: #FFFFFF;\n",
              "    }\n",
              "  </style>\n",
              "\n",
              "      <script>\n",
              "        const buttonEl =\n",
              "          document.querySelector('#df-6bb946d2-339c-4bae-a57d-36b90c201e46 button.colab-df-convert');\n",
              "        buttonEl.style.display =\n",
              "          google.colab.kernel.accessAllowed ? 'block' : 'none';\n",
              "\n",
              "        async function convertToInteractive(key) {\n",
              "          const element = document.querySelector('#df-6bb946d2-339c-4bae-a57d-36b90c201e46');\n",
              "          const dataTable =\n",
              "            await google.colab.kernel.invokeFunction('convertToInteractive',\n",
              "                                                     [key], {});\n",
              "          if (!dataTable) return;\n",
              "\n",
              "          const docLinkHtml = 'Like what you see? Visit the ' +\n",
              "            '<a target=\"_blank\" href=https://colab.research.google.com/notebooks/data_table.ipynb>data table notebook</a>'\n",
              "            + ' to learn more about interactive tables.';\n",
              "          element.innerHTML = '';\n",
              "          dataTable['output_type'] = 'display_data';\n",
              "          await google.colab.output.renderOutput(dataTable, element);\n",
              "          const docLink = document.createElement('div');\n",
              "          docLink.innerHTML = docLinkHtml;\n",
              "          element.appendChild(docLink);\n",
              "        }\n",
              "      </script>\n",
              "    </div>\n",
              "  </div>\n",
              "  "
            ],
            "text/plain": [
              "    learning_rate  num_train_epochs  ...  weight_decay  eval_loss\n",
              "28       0.000065                 2  ...      0.003150   0.327871\n",
              "22       0.000062                 2  ...      0.006756   0.329290\n",
              "24       0.000060                 2  ...      0.005864   0.329652\n",
              "26       0.000064                 2  ...      0.004508   0.332105\n",
              "23       0.000068                 2  ...      0.007089   0.333058\n",
              "16       0.000089                 2  ...      0.009658   0.338841\n",
              "20       0.000074                 2  ...      0.007228   0.339404\n",
              "15       0.000084                 2  ...      0.009690   0.339937\n",
              "25       0.000053                 2  ...      0.005767   0.341159\n",
              "19       0.000076                 2  ...      0.008290   0.343946\n",
              "18       0.000075                 2  ...      0.003685   0.345122\n",
              "17       0.000097                 2  ...      0.009795   0.352114\n",
              "30       0.000035                 2  ...      0.002743   0.358369\n",
              "6        0.000045                 2  ...      0.005603   0.361023\n",
              "14       0.000044                 2  ...      0.009680   0.363168\n",
              "13       0.000041                 2  ...      0.005476   0.366099\n",
              "12       0.000032                 2  ...      0.001014   0.370881\n",
              "3        0.000026                 2  ...      0.001157   0.376799\n",
              "1        0.000037                 2  ...      0.006508   0.378062\n",
              "8        0.000027                 2  ...      0.002103   0.381679\n",
              "10       0.000058                 2  ...      0.004301   0.383601\n",
              "9        0.000059                 2  ...      0.002404   0.389900\n",
              "31       0.000048                 2  ...      0.003638   0.415657\n",
              "2        0.000019                 2  ...      0.001356   0.423792\n",
              "27       0.000052                 2  ...      0.004246   0.426816\n",
              "7        0.000058                 2  ...      0.007432   0.440360\n",
              "29       0.000018                 2  ...      0.003255   0.440370\n",
              "4        0.000012                 2  ...      0.001871   0.444451\n",
              "11       0.000097                 2  ...      0.004666   0.444478\n",
              "5        0.000012                 2  ...      0.002902   0.445178\n",
              "\n",
              "[30 rows x 5 columns]"
            ]
          },
          "metadata": {},
          "execution_count": 72
        }
      ]
    },
    {
      "cell_type": "code",
      "source": [
        "import plotly.express as px\n",
        "df = px.data.iris()\n",
        "fig = px.parallel_coordinates(trial_df, color=\"eval_loss\", \n",
        "                             color_continuous_scale=px.colors.sequential.Oryel)\n",
        "fig.show()"
      ],
      "metadata": {
        "colab": {
          "base_uri": "https://localhost:8080/",
          "height": 542
        },
        "id": "V7sPElH5cexz",
        "outputId": "2ddcd458-7e87-4522-b8ce-0b9420ef220f"
      },
      "execution_count": 73,
      "outputs": [
        {
          "output_type": "display_data",
          "data": {
            "text/html": [
              "<html>\n",
              "<head><meta charset=\"utf-8\" /></head>\n",
              "<body>\n",
              "    <div>\n",
              "            <script src=\"https://cdnjs.cloudflare.com/ajax/libs/mathjax/2.7.5/MathJax.js?config=TeX-AMS-MML_SVG\"></script><script type=\"text/javascript\">if (window.MathJax) {MathJax.Hub.Config({SVG: {font: \"STIX-Web\"}});}</script>\n",
              "                <script type=\"text/javascript\">window.PlotlyConfig = {MathJaxConfig: 'local'};</script>\n",
              "        <script src=\"https://cdn.plot.ly/plotly-latest.min.js\"></script>    \n",
              "            <div id=\"881204f9-1242-4df6-8c45-fe191543d6ca\" class=\"plotly-graph-div\" style=\"height:525px; width:100%;\"></div>\n",
              "            <script type=\"text/javascript\">\n",
              "                \n",
              "                    window.PLOTLYENV=window.PLOTLYENV || {};\n",
              "                    \n",
              "                if (document.getElementById(\"881204f9-1242-4df6-8c45-fe191543d6ca\")) {\n",
              "                    Plotly.newPlot(\n",
              "                        '881204f9-1242-4df6-8c45-fe191543d6ca',\n",
              "                        [{\"dimensions\": [{\"label\": \"learning_rate\", \"values\": [3.725801318786445e-05, 1.9438751859428143e-05, 2.600319935475517e-05, 1.1795841270512032e-05, 1.1654920459118414e-05, 4.539067685887207e-05, 5.782597032409832e-05, 2.7090663693134098e-05, 5.863528333356388e-05, 5.821722887669164e-05, 9.729459916629844e-05, 3.212871592250142e-05, 4.074258819834774e-05, 4.392866462514796e-05, 8.421510269307033e-05, 8.935646990839742e-05, 9.7217517566928e-05, 7.519081746653503e-05, 7.561024872771288e-05, 7.382230414969843e-05, 6.192016705899308e-05, 6.764540062015983e-05, 6.042797021386203e-05, 5.321737501583504e-05, 6.401927613970127e-05, 5.160213600734755e-05, 6.496217126578442e-05, 1.8077307749947325e-05, 3.5167437049853465e-05, 4.8013749943565665e-05]}, {\"label\": \"num_train_epochs\", \"values\": [2, 2, 2, 2, 2, 2, 2, 2, 2, 2, 2, 2, 2, 2, 2, 2, 2, 2, 2, 2, 2, 2, 2, 2, 2, 2, 2, 2, 2, 2]}, {\"label\": \"per_device_train_batch_size\", \"values\": [16, 32, 16, 16, 16, 16, 8, 32, 16, 16, 8, 16, 16, 16, 32, 32, 32, 32, 32, 32, 32, 32, 32, 32, 32, 8, 32, 32, 32, 8]}, {\"label\": \"weight_decay\", \"values\": [0.006507560517674187, 0.0013559906079336386, 0.0011571486432796782, 0.0018708239575303085, 0.002901742162782392, 0.005602636957109585, 0.007432135294512281, 0.002102831035762475, 0.002404204789446004, 0.0043005093063490174, 0.0046662504026072985, 0.0010143245146407517, 0.005475920832382709, 0.009679961164973817, 0.009689976957458383, 0.009657999756721559, 0.009795146345380113, 0.0036852366898706013, 0.008289624785104394, 0.007228119760222259, 0.006756421073022273, 0.00708915922599262, 0.005863688961168331, 0.00576655954853663, 0.004508426841136669, 0.004245861723483305, 0.0031495603091898777, 0.00325542710932288, 0.0027427370616118917, 0.0036380882018569516]}, {\"label\": \"eval_loss\", \"values\": [0.37806227803230286, 0.42379191517829895, 0.3767988681793213, 0.44445136189460754, 0.44517773389816284, 0.3610231876373291, 0.44035986065864563, 0.3816792666912079, 0.38989976048469543, 0.38360127806663513, 0.4444778561592102, 0.37088096141815186, 0.3660990595817566, 0.36316752433776855, 0.3399365246295929, 0.3388412296772003, 0.3521136939525604, 0.3451218008995056, 0.34394600987434387, 0.3394036889076233, 0.3292904198169708, 0.33305755257606506, 0.3296518325805664, 0.34115928411483765, 0.33210498094558716, 0.4268161356449127, 0.3278708755970001, 0.44036996364593506, 0.35836920142173767, 0.41565707325935364]}], \"domain\": {\"x\": [0.0, 1.0], \"y\": [0.0, 1.0]}, \"line\": {\"color\": [0.37806227803230286, 0.42379191517829895, 0.3767988681793213, 0.44445136189460754, 0.44517773389816284, 0.3610231876373291, 0.44035986065864563, 0.3816792666912079, 0.38989976048469543, 0.38360127806663513, 0.4444778561592102, 0.37088096141815186, 0.3660990595817566, 0.36316752433776855, 0.3399365246295929, 0.3388412296772003, 0.3521136939525604, 0.3451218008995056, 0.34394600987434387, 0.3394036889076233, 0.3292904198169708, 0.33305755257606506, 0.3296518325805664, 0.34115928411483765, 0.33210498094558716, 0.4268161356449127, 0.3278708755970001, 0.44036996364593506, 0.35836920142173767, 0.41565707325935364], \"coloraxis\": \"coloraxis\"}, \"name\": \"\", \"type\": \"parcoords\"}],\n",
              "                        {\"coloraxis\": {\"colorbar\": {\"title\": {\"text\": \"eval_loss\"}}, \"colorscale\": [[0.0, \"rgb(236, 218, 154)\"], [0.16666666666666666, \"rgb(239, 196, 126)\"], [0.3333333333333333, \"rgb(243, 173, 106)\"], [0.5, \"rgb(247, 148, 93)\"], [0.6666666666666666, \"rgb(249, 123, 87)\"], [0.8333333333333334, \"rgb(246, 99, 86)\"], [1.0, \"rgb(238, 77, 90)\"]]}, \"legend\": {\"tracegroupgap\": 0}, \"margin\": {\"t\": 60}, \"template\": {\"data\": {\"bar\": [{\"error_x\": {\"color\": \"#2a3f5f\"}, \"error_y\": {\"color\": \"#2a3f5f\"}, \"marker\": {\"line\": {\"color\": \"#E5ECF6\", \"width\": 0.5}}, \"type\": \"bar\"}], \"barpolar\": [{\"marker\": {\"line\": {\"color\": \"#E5ECF6\", \"width\": 0.5}}, \"type\": \"barpolar\"}], \"carpet\": [{\"aaxis\": {\"endlinecolor\": \"#2a3f5f\", \"gridcolor\": \"white\", \"linecolor\": \"white\", \"minorgridcolor\": \"white\", \"startlinecolor\": \"#2a3f5f\"}, \"baxis\": {\"endlinecolor\": \"#2a3f5f\", \"gridcolor\": \"white\", \"linecolor\": \"white\", \"minorgridcolor\": \"white\", \"startlinecolor\": \"#2a3f5f\"}, \"type\": \"carpet\"}], \"choropleth\": [{\"colorbar\": {\"outlinewidth\": 0, \"ticks\": \"\"}, \"type\": \"choropleth\"}], \"contour\": [{\"colorbar\": {\"outlinewidth\": 0, \"ticks\": \"\"}, \"colorscale\": [[0.0, \"#0d0887\"], [0.1111111111111111, \"#46039f\"], [0.2222222222222222, \"#7201a8\"], [0.3333333333333333, \"#9c179e\"], [0.4444444444444444, \"#bd3786\"], [0.5555555555555556, \"#d8576b\"], [0.6666666666666666, \"#ed7953\"], [0.7777777777777778, \"#fb9f3a\"], [0.8888888888888888, \"#fdca26\"], [1.0, \"#f0f921\"]], \"type\": \"contour\"}], \"contourcarpet\": [{\"colorbar\": {\"outlinewidth\": 0, \"ticks\": \"\"}, \"type\": \"contourcarpet\"}], \"heatmap\": [{\"colorbar\": {\"outlinewidth\": 0, \"ticks\": \"\"}, \"colorscale\": [[0.0, \"#0d0887\"], [0.1111111111111111, \"#46039f\"], [0.2222222222222222, \"#7201a8\"], [0.3333333333333333, \"#9c179e\"], [0.4444444444444444, \"#bd3786\"], [0.5555555555555556, \"#d8576b\"], [0.6666666666666666, \"#ed7953\"], [0.7777777777777778, \"#fb9f3a\"], [0.8888888888888888, \"#fdca26\"], [1.0, \"#f0f921\"]], \"type\": \"heatmap\"}], \"heatmapgl\": [{\"colorbar\": {\"outlinewidth\": 0, \"ticks\": \"\"}, \"colorscale\": [[0.0, \"#0d0887\"], [0.1111111111111111, \"#46039f\"], [0.2222222222222222, \"#7201a8\"], [0.3333333333333333, \"#9c179e\"], [0.4444444444444444, \"#bd3786\"], [0.5555555555555556, \"#d8576b\"], [0.6666666666666666, \"#ed7953\"], [0.7777777777777778, \"#fb9f3a\"], [0.8888888888888888, \"#fdca26\"], [1.0, \"#f0f921\"]], \"type\": \"heatmapgl\"}], \"histogram\": [{\"marker\": {\"colorbar\": {\"outlinewidth\": 0, \"ticks\": \"\"}}, \"type\": \"histogram\"}], \"histogram2d\": [{\"colorbar\": {\"outlinewidth\": 0, \"ticks\": \"\"}, \"colorscale\": [[0.0, \"#0d0887\"], [0.1111111111111111, \"#46039f\"], [0.2222222222222222, \"#7201a8\"], [0.3333333333333333, \"#9c179e\"], [0.4444444444444444, \"#bd3786\"], [0.5555555555555556, \"#d8576b\"], [0.6666666666666666, \"#ed7953\"], [0.7777777777777778, \"#fb9f3a\"], [0.8888888888888888, \"#fdca26\"], [1.0, \"#f0f921\"]], \"type\": \"histogram2d\"}], \"histogram2dcontour\": [{\"colorbar\": {\"outlinewidth\": 0, \"ticks\": \"\"}, \"colorscale\": [[0.0, \"#0d0887\"], [0.1111111111111111, \"#46039f\"], [0.2222222222222222, \"#7201a8\"], [0.3333333333333333, \"#9c179e\"], [0.4444444444444444, \"#bd3786\"], [0.5555555555555556, \"#d8576b\"], [0.6666666666666666, \"#ed7953\"], [0.7777777777777778, \"#fb9f3a\"], [0.8888888888888888, \"#fdca26\"], [1.0, \"#f0f921\"]], \"type\": \"histogram2dcontour\"}], \"mesh3d\": [{\"colorbar\": {\"outlinewidth\": 0, \"ticks\": \"\"}, \"type\": \"mesh3d\"}], \"parcoords\": [{\"line\": {\"colorbar\": {\"outlinewidth\": 0, \"ticks\": \"\"}}, \"type\": \"parcoords\"}], \"pie\": [{\"automargin\": true, \"type\": \"pie\"}], \"scatter\": [{\"marker\": {\"colorbar\": {\"outlinewidth\": 0, \"ticks\": \"\"}}, \"type\": \"scatter\"}], \"scatter3d\": [{\"line\": {\"colorbar\": {\"outlinewidth\": 0, \"ticks\": \"\"}}, \"marker\": {\"colorbar\": {\"outlinewidth\": 0, \"ticks\": \"\"}}, \"type\": \"scatter3d\"}], \"scattercarpet\": [{\"marker\": {\"colorbar\": {\"outlinewidth\": 0, \"ticks\": \"\"}}, \"type\": \"scattercarpet\"}], \"scattergeo\": [{\"marker\": {\"colorbar\": {\"outlinewidth\": 0, \"ticks\": \"\"}}, \"type\": \"scattergeo\"}], \"scattergl\": [{\"marker\": {\"colorbar\": {\"outlinewidth\": 0, \"ticks\": \"\"}}, \"type\": \"scattergl\"}], \"scattermapbox\": [{\"marker\": {\"colorbar\": {\"outlinewidth\": 0, \"ticks\": \"\"}}, \"type\": \"scattermapbox\"}], \"scatterpolar\": [{\"marker\": {\"colorbar\": {\"outlinewidth\": 0, \"ticks\": \"\"}}, \"type\": \"scatterpolar\"}], \"scatterpolargl\": [{\"marker\": {\"colorbar\": {\"outlinewidth\": 0, \"ticks\": \"\"}}, \"type\": \"scatterpolargl\"}], \"scatterternary\": [{\"marker\": {\"colorbar\": {\"outlinewidth\": 0, \"ticks\": \"\"}}, \"type\": \"scatterternary\"}], \"surface\": [{\"colorbar\": {\"outlinewidth\": 0, \"ticks\": \"\"}, \"colorscale\": [[0.0, \"#0d0887\"], [0.1111111111111111, \"#46039f\"], [0.2222222222222222, \"#7201a8\"], [0.3333333333333333, \"#9c179e\"], [0.4444444444444444, \"#bd3786\"], [0.5555555555555556, \"#d8576b\"], [0.6666666666666666, \"#ed7953\"], [0.7777777777777778, \"#fb9f3a\"], [0.8888888888888888, \"#fdca26\"], [1.0, \"#f0f921\"]], \"type\": \"surface\"}], \"table\": [{\"cells\": {\"fill\": {\"color\": \"#EBF0F8\"}, \"line\": {\"color\": \"white\"}}, \"header\": {\"fill\": {\"color\": \"#C8D4E3\"}, \"line\": {\"color\": \"white\"}}, \"type\": \"table\"}]}, \"layout\": {\"annotationdefaults\": {\"arrowcolor\": \"#2a3f5f\", \"arrowhead\": 0, \"arrowwidth\": 1}, \"coloraxis\": {\"colorbar\": {\"outlinewidth\": 0, \"ticks\": \"\"}}, \"colorscale\": {\"diverging\": [[0, \"#8e0152\"], [0.1, \"#c51b7d\"], [0.2, \"#de77ae\"], [0.3, \"#f1b6da\"], [0.4, \"#fde0ef\"], [0.5, \"#f7f7f7\"], [0.6, \"#e6f5d0\"], [0.7, \"#b8e186\"], [0.8, \"#7fbc41\"], [0.9, \"#4d9221\"], [1, \"#276419\"]], \"sequential\": [[0.0, \"#0d0887\"], [0.1111111111111111, \"#46039f\"], [0.2222222222222222, \"#7201a8\"], [0.3333333333333333, \"#9c179e\"], [0.4444444444444444, \"#bd3786\"], [0.5555555555555556, \"#d8576b\"], [0.6666666666666666, \"#ed7953\"], [0.7777777777777778, \"#fb9f3a\"], [0.8888888888888888, \"#fdca26\"], [1.0, \"#f0f921\"]], \"sequentialminus\": [[0.0, \"#0d0887\"], [0.1111111111111111, \"#46039f\"], [0.2222222222222222, \"#7201a8\"], [0.3333333333333333, \"#9c179e\"], [0.4444444444444444, \"#bd3786\"], [0.5555555555555556, \"#d8576b\"], [0.6666666666666666, \"#ed7953\"], [0.7777777777777778, \"#fb9f3a\"], [0.8888888888888888, \"#fdca26\"], [1.0, \"#f0f921\"]]}, \"colorway\": [\"#636efa\", \"#EF553B\", \"#00cc96\", \"#ab63fa\", \"#FFA15A\", \"#19d3f3\", \"#FF6692\", \"#B6E880\", \"#FF97FF\", \"#FECB52\"], \"font\": {\"color\": \"#2a3f5f\"}, \"geo\": {\"bgcolor\": \"white\", \"lakecolor\": \"white\", \"landcolor\": \"#E5ECF6\", \"showlakes\": true, \"showland\": true, \"subunitcolor\": \"white\"}, \"hoverlabel\": {\"align\": \"left\"}, \"hovermode\": \"closest\", \"mapbox\": {\"style\": \"light\"}, \"paper_bgcolor\": \"white\", \"plot_bgcolor\": \"#E5ECF6\", \"polar\": {\"angularaxis\": {\"gridcolor\": \"white\", \"linecolor\": \"white\", \"ticks\": \"\"}, \"bgcolor\": \"#E5ECF6\", \"radialaxis\": {\"gridcolor\": \"white\", \"linecolor\": \"white\", \"ticks\": \"\"}}, \"scene\": {\"xaxis\": {\"backgroundcolor\": \"#E5ECF6\", \"gridcolor\": \"white\", \"gridwidth\": 2, \"linecolor\": \"white\", \"showbackground\": true, \"ticks\": \"\", \"zerolinecolor\": \"white\"}, \"yaxis\": {\"backgroundcolor\": \"#E5ECF6\", \"gridcolor\": \"white\", \"gridwidth\": 2, \"linecolor\": \"white\", \"showbackground\": true, \"ticks\": \"\", \"zerolinecolor\": \"white\"}, \"zaxis\": {\"backgroundcolor\": \"#E5ECF6\", \"gridcolor\": \"white\", \"gridwidth\": 2, \"linecolor\": \"white\", \"showbackground\": true, \"ticks\": \"\", \"zerolinecolor\": \"white\"}}, \"shapedefaults\": {\"line\": {\"color\": \"#2a3f5f\"}}, \"ternary\": {\"aaxis\": {\"gridcolor\": \"white\", \"linecolor\": \"white\", \"ticks\": \"\"}, \"baxis\": {\"gridcolor\": \"white\", \"linecolor\": \"white\", \"ticks\": \"\"}, \"bgcolor\": \"#E5ECF6\", \"caxis\": {\"gridcolor\": \"white\", \"linecolor\": \"white\", \"ticks\": \"\"}}, \"title\": {\"x\": 0.05}, \"xaxis\": {\"automargin\": true, \"gridcolor\": \"white\", \"linecolor\": \"white\", \"ticks\": \"\", \"title\": {\"standoff\": 15}, \"zerolinecolor\": \"white\", \"zerolinewidth\": 2}, \"yaxis\": {\"automargin\": true, \"gridcolor\": \"white\", \"linecolor\": \"white\", \"ticks\": \"\", \"title\": {\"standoff\": 15}, \"zerolinecolor\": \"white\", \"zerolinewidth\": 2}}}},\n",
              "                        {\"responsive\": true}\n",
              "                    ).then(function(){\n",
              "                            \n",
              "var gd = document.getElementById('881204f9-1242-4df6-8c45-fe191543d6ca');\n",
              "var x = new MutationObserver(function (mutations, observer) {{\n",
              "        var display = window.getComputedStyle(gd).display;\n",
              "        if (!display || display === 'none') {{\n",
              "            console.log([gd, 'removed!']);\n",
              "            Plotly.purge(gd);\n",
              "            observer.disconnect();\n",
              "        }}\n",
              "}});\n",
              "\n",
              "// Listen for the removal of the full notebook cells\n",
              "var notebookContainer = gd.closest('#notebook-container');\n",
              "if (notebookContainer) {{\n",
              "    x.observe(notebookContainer, {childList: true});\n",
              "}}\n",
              "\n",
              "// Listen for the clearing of the current output cell\n",
              "var outputEl = gd.closest('.output');\n",
              "if (outputEl) {{\n",
              "    x.observe(outputEl, {childList: true});\n",
              "}}\n",
              "\n",
              "                        })\n",
              "                };\n",
              "                \n",
              "            </script>\n",
              "        </div>\n",
              "</body>\n",
              "</html>"
            ]
          },
          "metadata": {}
        }
      ]
    }
  ]
}