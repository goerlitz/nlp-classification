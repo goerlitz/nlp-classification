{
  "nbformat": 4,
  "nbformat_minor": 0,
  "metadata": {
    "accelerator": "GPU",
    "colab": {
      "name": "22_10kGNAD_simpletransformers_hyperparam_distilbert.ipynb",
      "provenance": [],
      "collapsed_sections": [],
      "toc_visible": true,
      "authorship_tag": "ABX9TyOaZ48xhy+i8y5Upc9+38Fz",
      "include_colab_link": true
    },
    "kernelspec": {
      "display_name": "Python 3",
      "name": "python3"
    },
    "language_info": {
      "name": "python"
    }
  },
  "cells": [
    {
      "cell_type": "markdown",
      "metadata": {
        "id": "view-in-github",
        "colab_type": "text"
      },
      "source": [
        "<a href=\"https://colab.research.google.com/github/goerlitz/nlp-classification/blob/main/notebooks/10kGNAD/colab/22_10kGNAD_simpletransformers_hyperparam_distilbert.ipynb\" target=\"_parent\"><img src=\"https://colab.research.google.com/assets/colab-badge.svg\" alt=\"Open In Colab\"/></a>"
      ]
    },
    {
      "cell_type": "markdown",
      "metadata": {
        "id": "dlrXkgH45xES"
      },
      "source": [
        "# Hyperparameter Optimization for Classification of German News Articles\n",
        "\n",
        "## Objective\n",
        "\n",
        "Train a Classifier which achieves better performance than a Classifier with the default SimpleTransformers setup by doing hyperparameter optimization.\n",
        "\n",
        "Use different pretrained models for optimization:\n",
        "* `distilbert-base-german-cased`\n",
        "* `deepset/gbert-base`\n",
        "\n",
        "## Approach\n",
        "\n",
        "Using SimpleTransformers which sweeps from Weights & Biases which evaluate different hyperparameter combinations.\n",
        "\n",
        "See also:\n",
        "* https://simpletransformers.ai/docs/tips-and-tricks/#hyperparameter-optimization\n",
        "* https://towardsdatascience.com/hyperparameter-optimization-for-optimum-transformer-models-b95a32b70949\n",
        "\n",
        "\n",
        "## Prerequisites"
      ]
    },
    {
      "cell_type": "code",
      "metadata": {
        "id": "ntiGlTHQfJqI"
      },
      "source": [
        "# model_type = \"distilbert\"\n",
        "# model_name = \"distilbert-base-german-cased\"\n",
        "\n",
        "model_type = \"bert\"\n",
        "model_name = \"deepset/gbert-base\"\n",
        "\n",
        "project_name = \"10kgnad_sweep__\" + model_name.replace(\"/\", \"_\")"
      ],
      "execution_count": 1,
      "outputs": []
    },
    {
      "cell_type": "code",
      "metadata": {
        "colab": {
          "base_uri": "https://localhost:8080/"
        },
        "id": "4Z49upWS3hvP",
        "outputId": "b775098a-2009-452c-bc5d-40ee1e198878"
      },
      "source": [
        "gpu_info = !nvidia-smi\n",
        "gpu_info = '\\n'.join(gpu_info)\n",
        "if gpu_info.find('failed') >= 0:\n",
        "  print('Select the Runtime > \"Change runtime type\" menu to enable a GPU accelerator, ')\n",
        "  print('and then re-execute this cell.')\n",
        "else:\n",
        "  print(gpu_info)"
      ],
      "execution_count": 2,
      "outputs": [
        {
          "output_type": "stream",
          "text": [
            "Tue Jun 15 21:09:55 2021       \n",
            "+-----------------------------------------------------------------------------+\n",
            "| NVIDIA-SMI 465.27       Driver Version: 460.32.03    CUDA Version: 11.2     |\n",
            "|-------------------------------+----------------------+----------------------+\n",
            "| GPU  Name        Persistence-M| Bus-Id        Disp.A | Volatile Uncorr. ECC |\n",
            "| Fan  Temp  Perf  Pwr:Usage/Cap|         Memory-Usage | GPU-Util  Compute M. |\n",
            "|                               |                      |               MIG M. |\n",
            "|===============================+======================+======================|\n",
            "|   0  Tesla P100-PCIE...  Off  | 00000000:00:04.0 Off |                    0 |\n",
            "| N/A   34C    P0    26W / 250W |      0MiB / 16280MiB |      0%      Default |\n",
            "|                               |                      |                  N/A |\n",
            "+-------------------------------+----------------------+----------------------+\n",
            "                                                                               \n",
            "+-----------------------------------------------------------------------------+\n",
            "| Processes:                                                                  |\n",
            "|  GPU   GI   CI        PID   Type   Process name                  GPU Memory |\n",
            "|        ID   ID                                                   Usage      |\n",
            "|=============================================================================|\n",
            "|  No running processes found                                                 |\n",
            "+-----------------------------------------------------------------------------+\n"
          ],
          "name": "stdout"
        }
      ]
    },
    {
      "cell_type": "markdown",
      "metadata": {
        "id": "6xBYMleY53A4"
      },
      "source": [
        "### Install Libraries"
      ]
    },
    {
      "cell_type": "code",
      "metadata": {
        "colab": {
          "base_uri": "https://localhost:8080/"
        },
        "id": "VFcohA7f5lrH",
        "outputId": "c5bedbc1-6fc3-4f40-ad50-6d51d8411273"
      },
      "source": [
        "# install transformers\n",
        "!pip install -q --upgrade tqdm==4.47.0 >/dev/null\n",
        "!pip install -q --upgrade transformers simpletransformers >/dev/null\n",
        "\n",
        "# check installed version\n",
        "!pip freeze | grep transformers\n",
        "# simpletransformers==0.61.6\n",
        "# transformers==4.6.1"
      ],
      "execution_count": 3,
      "outputs": [
        {
          "output_type": "stream",
          "text": [
            "\u001b[31mERROR: google-colab 1.0.0 has requirement ipykernel~=4.10, but you'll have ipykernel 5.5.5 which is incompatible.\u001b[0m\n",
            "simpletransformers==0.61.6\n",
            "transformers==4.6.1\n"
          ],
          "name": "stdout"
        }
      ]
    },
    {
      "cell_type": "code",
      "metadata": {
        "id": "opXOFgrD55Or"
      },
      "source": [
        "import pandas as pd\n",
        "from pathlib import Path\n",
        "import os\n",
        "\n",
        "from simpletransformers.classification import ClassificationModel\n",
        "from transformers import AutoTokenizer\n",
        "from transformers import logging\n",
        "import wandb\n",
        "\n",
        "# hide progress bar when downloading tokenizers - a workaround!\n",
        "logging.get_verbosity = lambda : logging.NOTSET\n",
        "\n",
        "# disable transformer warnings like \"Some weights of the model checkpoint\"\n",
        "logging.set_verbosity_error()\n",
        "\n",
        "# disable logging of wandb\n",
        "os.environ[\"WANDB_SILENT\"] = \"true\""
      ],
      "execution_count": 4,
      "outputs": []
    },
    {
      "cell_type": "markdown",
      "metadata": {
        "id": "AsTaSRJekM0L"
      },
      "source": [
        "### Download Data\n",
        "\n",
        "Get the 10k German News Articles Dataset"
      ]
    },
    {
      "cell_type": "code",
      "metadata": {
        "colab": {
          "base_uri": "https://localhost:8080/"
        },
        "id": "pf-3EEDYXlhh",
        "outputId": "b6d4c1ab-75fe-43d8-bad7-5bd1a1ae1700"
      },
      "source": [
        "%env DIR=data\n",
        "\n",
        "!mkdir -p $DIR\n",
        "!wget -nc https://github.com/tblock/10kGNAD/blob/master/train.csv?raw=true -nv -O $DIR/train.csv\n",
        "!wget -nc https://github.com/tblock/10kGNAD/blob/master/test.csv?raw=true -nv -O $DIR/test.csv\n",
        "!ls -lAh $DIR | cut -d \" \" -f 5-"
      ],
      "execution_count": 5,
      "outputs": [
        {
          "output_type": "stream",
          "text": [
            "env: DIR=data\n",
            "2021-06-15 21:10:28 URL:https://raw.githubusercontent.com/tblock/10kGNAD/master/train.csv [24405789/24405789] -> \"data/train.csv\" [1]\n",
            "2021-06-15 21:10:29 URL:https://raw.githubusercontent.com/tblock/10kGNAD/master/test.csv [2755020/2755020] -> \"data/test.csv\" [1]\n",
            "\n",
            "2.7M Jun 15 21:10 test.csv\n",
            " 24M Jun 15 21:10 train.csv\n"
          ],
          "name": "stdout"
        }
      ]
    },
    {
      "cell_type": "markdown",
      "metadata": {
        "id": "XuLSIj9NkXAG"
      },
      "source": [
        "## Import Data\n",
        "\n",
        "Load training and test dataset"
      ]
    },
    {
      "cell_type": "code",
      "metadata": {
        "id": "fL2RFkuaaQug"
      },
      "source": [
        "data_dir = Path(os.getenv(\"DIR\"))\n",
        "\n",
        "train_file = data_dir / 'train.csv'\n",
        "test_file = data_dir / 'test.csv'\n",
        "\n",
        "def read_csv_10kGNAD(filepath: Path, columns=[\"labels\", \"text\"]) -> pd.DataFrame:\n",
        "    \"\"\"Load 10kGNAD csv file, handling its specific file format.\"\"\"\n",
        "    f = pd.read_csv(filepath, sep=\";\", quotechar=\"'\", names=columns)\n",
        "    return f"
      ],
      "execution_count": 6,
      "outputs": []
    },
    {
      "cell_type": "code",
      "metadata": {
        "colab": {
          "base_uri": "https://localhost:8080/",
          "height": 224
        },
        "id": "pFMweinxRnAT",
        "outputId": "b0942a14-6261-48f2-aef2-bb2df4a7361b"
      },
      "source": [
        "train_df = read_csv_10kGNAD(data_dir / 'train.csv')\n",
        "print(train_df.shape[0], 'articles')\n",
        "display(train_df.head())"
      ],
      "execution_count": 7,
      "outputs": [
        {
          "output_type": "stream",
          "text": [
            "9245 articles\n"
          ],
          "name": "stdout"
        },
        {
          "output_type": "display_data",
          "data": {
            "text/html": [
              "<div>\n",
              "<style scoped>\n",
              "    .dataframe tbody tr th:only-of-type {\n",
              "        vertical-align: middle;\n",
              "    }\n",
              "\n",
              "    .dataframe tbody tr th {\n",
              "        vertical-align: top;\n",
              "    }\n",
              "\n",
              "    .dataframe thead th {\n",
              "        text-align: right;\n",
              "    }\n",
              "</style>\n",
              "<table border=\"1\" class=\"dataframe\">\n",
              "  <thead>\n",
              "    <tr style=\"text-align: right;\">\n",
              "      <th></th>\n",
              "      <th>labels</th>\n",
              "      <th>text</th>\n",
              "    </tr>\n",
              "  </thead>\n",
              "  <tbody>\n",
              "    <tr>\n",
              "      <th>0</th>\n",
              "      <td>Sport</td>\n",
              "      <td>21-Jähriger fällt wohl bis Saisonende aus. Wie...</td>\n",
              "    </tr>\n",
              "    <tr>\n",
              "      <th>1</th>\n",
              "      <td>Kultur</td>\n",
              "      <td>Erfundene Bilder zu Filmen, die als verloren g...</td>\n",
              "    </tr>\n",
              "    <tr>\n",
              "      <th>2</th>\n",
              "      <td>Web</td>\n",
              "      <td>Der frischgekürte CEO Sundar Pichai setzt auf ...</td>\n",
              "    </tr>\n",
              "    <tr>\n",
              "      <th>3</th>\n",
              "      <td>Wirtschaft</td>\n",
              "      <td>Putin: \"Einigung, dass wir Menge auf Niveau vo...</td>\n",
              "    </tr>\n",
              "    <tr>\n",
              "      <th>4</th>\n",
              "      <td>Inland</td>\n",
              "      <td>Estland sieht den künftigen österreichischen P...</td>\n",
              "    </tr>\n",
              "  </tbody>\n",
              "</table>\n",
              "</div>"
            ],
            "text/plain": [
              "       labels                                               text\n",
              "0       Sport  21-Jähriger fällt wohl bis Saisonende aus. Wie...\n",
              "1      Kultur  Erfundene Bilder zu Filmen, die als verloren g...\n",
              "2         Web  Der frischgekürte CEO Sundar Pichai setzt auf ...\n",
              "3  Wirtschaft  Putin: \"Einigung, dass wir Menge auf Niveau vo...\n",
              "4      Inland  Estland sieht den künftigen österreichischen P..."
            ]
          },
          "metadata": {
            "tags": []
          }
        }
      ]
    },
    {
      "cell_type": "code",
      "metadata": {
        "colab": {
          "base_uri": "https://localhost:8080/",
          "height": 224
        },
        "id": "-7Nk55Zhbqgv",
        "outputId": "ea3185d5-2829-4bb5-9347-190cecb2c93f"
      },
      "source": [
        "test_df = read_csv_10kGNAD(data_dir / 'test.csv')\n",
        "print(test_df.shape[0], 'articles')\n",
        "display(test_df.head())"
      ],
      "execution_count": 8,
      "outputs": [
        {
          "output_type": "stream",
          "text": [
            "1028 articles\n"
          ],
          "name": "stdout"
        },
        {
          "output_type": "display_data",
          "data": {
            "text/html": [
              "<div>\n",
              "<style scoped>\n",
              "    .dataframe tbody tr th:only-of-type {\n",
              "        vertical-align: middle;\n",
              "    }\n",
              "\n",
              "    .dataframe tbody tr th {\n",
              "        vertical-align: top;\n",
              "    }\n",
              "\n",
              "    .dataframe thead th {\n",
              "        text-align: right;\n",
              "    }\n",
              "</style>\n",
              "<table border=\"1\" class=\"dataframe\">\n",
              "  <thead>\n",
              "    <tr style=\"text-align: right;\">\n",
              "      <th></th>\n",
              "      <th>labels</th>\n",
              "      <th>text</th>\n",
              "    </tr>\n",
              "  </thead>\n",
              "  <tbody>\n",
              "    <tr>\n",
              "      <th>0</th>\n",
              "      <td>Wirtschaft</td>\n",
              "      <td>Die Gewerkschaft GPA-djp lanciert den \"All-in-...</td>\n",
              "    </tr>\n",
              "    <tr>\n",
              "      <th>1</th>\n",
              "      <td>Sport</td>\n",
              "      <td>Franzosen verteidigen 2:1-Führung – Kritische ...</td>\n",
              "    </tr>\n",
              "    <tr>\n",
              "      <th>2</th>\n",
              "      <td>Web</td>\n",
              "      <td>Neues Video von Designern macht im Netz die Ru...</td>\n",
              "    </tr>\n",
              "    <tr>\n",
              "      <th>3</th>\n",
              "      <td>Sport</td>\n",
              "      <td>23-jähriger Brasilianer muss vier Spiele pausi...</td>\n",
              "    </tr>\n",
              "    <tr>\n",
              "      <th>4</th>\n",
              "      <td>International</td>\n",
              "      <td>Aufständische verwendeten Chemikalie bei Gefec...</td>\n",
              "    </tr>\n",
              "  </tbody>\n",
              "</table>\n",
              "</div>"
            ],
            "text/plain": [
              "          labels                                               text\n",
              "0     Wirtschaft  Die Gewerkschaft GPA-djp lanciert den \"All-in-...\n",
              "1          Sport  Franzosen verteidigen 2:1-Führung – Kritische ...\n",
              "2            Web  Neues Video von Designern macht im Netz die Ru...\n",
              "3          Sport  23-jähriger Brasilianer muss vier Spiele pausi...\n",
              "4  International  Aufständische verwendeten Chemikalie bei Gefec..."
            ]
          },
          "metadata": {
            "tags": []
          }
        }
      ]
    },
    {
      "cell_type": "markdown",
      "metadata": {
        "id": "oFgSEkulaNq3"
      },
      "source": [
        "## Prepare for Model Training\n",
        "\n",
        "Model Input Requirements:\n",
        "\n",
        "* columns should be labeled `labels` and `text` (already done during import)\n",
        "* labels must be int values starting at `0`"
      ]
    },
    {
      "cell_type": "markdown",
      "metadata": {
        "id": "DbdNYGxYPZRR"
      },
      "source": [
        "### Label Encoding"
      ]
    },
    {
      "cell_type": "code",
      "metadata": {
        "colab": {
          "base_uri": "https://localhost:8080/",
          "height": 206
        },
        "id": "mZiem-noPbm3",
        "outputId": "4d22e41d-36c7-4c52-fa75-908b512e80db"
      },
      "source": [
        "from sklearn.preprocessing import LabelEncoder\n",
        "\n",
        "def encode_labels(train: pd.DataFrame, test: pd.DataFrame):\n",
        "    le = LabelEncoder()\n",
        "\n",
        "    train_labels = le.fit_transform(train.labels)\n",
        "    test_labels = le.transform(test.labels)\n",
        "\n",
        "    return train.assign(labels=train_labels), test.assign(labels=test_labels)\n",
        "\n",
        "train_df, test_df = encode_labels(train_df, test_df)\n",
        "display(train_df.head())"
      ],
      "execution_count": 9,
      "outputs": [
        {
          "output_type": "display_data",
          "data": {
            "text/html": [
              "<div>\n",
              "<style scoped>\n",
              "    .dataframe tbody tr th:only-of-type {\n",
              "        vertical-align: middle;\n",
              "    }\n",
              "\n",
              "    .dataframe tbody tr th {\n",
              "        vertical-align: top;\n",
              "    }\n",
              "\n",
              "    .dataframe thead th {\n",
              "        text-align: right;\n",
              "    }\n",
              "</style>\n",
              "<table border=\"1\" class=\"dataframe\">\n",
              "  <thead>\n",
              "    <tr style=\"text-align: right;\">\n",
              "      <th></th>\n",
              "      <th>labels</th>\n",
              "      <th>text</th>\n",
              "    </tr>\n",
              "  </thead>\n",
              "  <tbody>\n",
              "    <tr>\n",
              "      <th>0</th>\n",
              "      <td>5</td>\n",
              "      <td>21-Jähriger fällt wohl bis Saisonende aus. Wie...</td>\n",
              "    </tr>\n",
              "    <tr>\n",
              "      <th>1</th>\n",
              "      <td>3</td>\n",
              "      <td>Erfundene Bilder zu Filmen, die als verloren g...</td>\n",
              "    </tr>\n",
              "    <tr>\n",
              "      <th>2</th>\n",
              "      <td>6</td>\n",
              "      <td>Der frischgekürte CEO Sundar Pichai setzt auf ...</td>\n",
              "    </tr>\n",
              "    <tr>\n",
              "      <th>3</th>\n",
              "      <td>7</td>\n",
              "      <td>Putin: \"Einigung, dass wir Menge auf Niveau vo...</td>\n",
              "    </tr>\n",
              "    <tr>\n",
              "      <th>4</th>\n",
              "      <td>1</td>\n",
              "      <td>Estland sieht den künftigen österreichischen P...</td>\n",
              "    </tr>\n",
              "  </tbody>\n",
              "</table>\n",
              "</div>"
            ],
            "text/plain": [
              "   labels                                               text\n",
              "0       5  21-Jähriger fällt wohl bis Saisonende aus. Wie...\n",
              "1       3  Erfundene Bilder zu Filmen, die als verloren g...\n",
              "2       6  Der frischgekürte CEO Sundar Pichai setzt auf ...\n",
              "3       7  Putin: \"Einigung, dass wir Menge auf Niveau vo...\n",
              "4       1  Estland sieht den künftigen österreichischen P..."
            ]
          },
          "metadata": {
            "tags": []
          }
        }
      ]
    },
    {
      "cell_type": "markdown",
      "metadata": {
        "id": "hGxhoQd0PHUJ"
      },
      "source": [
        "### Compute Class Weights"
      ]
    },
    {
      "cell_type": "code",
      "metadata": {
        "colab": {
          "base_uri": "https://localhost:8080/"
        },
        "id": "pv5-gmLTPGGs",
        "outputId": "e742a432-b2f7-48a6-b3e4-f2b1dd0239c0"
      },
      "source": [
        "from sklearn.utils.class_weight import compute_class_weight\n",
        "\n",
        "def class_weights(labels: pd.Series):\n",
        "    uniq_labels = labels.unique()\n",
        "    weights = compute_class_weight(\"balanced\", uniq_labels, labels)\n",
        "    return pd.Series(weights, index=uniq_labels).sort_index()\n",
        "\n",
        "weights_s = class_weights(train_df.labels)\n",
        "list(weights_s.values)"
      ],
      "execution_count": 10,
      "outputs": [
        {
          "output_type": "execute_result",
          "data": {
            "text/plain": [
              "[1.7091883897208358,\n",
              " 1.1251064865522697,\n",
              " 0.7553104575163399,\n",
              " 2.117983963344788,\n",
              " 0.6802796173657101,\n",
              " 0.9502518244423888,\n",
              " 0.6807304322214859,\n",
              " 0.8088363954505686,\n",
              " 1.9907407407407407]"
            ]
          },
          "metadata": {
            "tags": []
          },
          "execution_count": 10
        }
      ]
    },
    {
      "cell_type": "markdown",
      "metadata": {
        "id": "xclwtZOSanXP"
      },
      "source": [
        "## Evaluation Setup"
      ]
    },
    {
      "cell_type": "code",
      "metadata": {
        "colab": {
          "base_uri": "https://localhost:8080/",
          "height": 69
        },
        "id": "BiLPAQuC79P4",
        "outputId": "f81b71d9-a8cb-40ca-9b4c-ea3446fee3d4"
      },
      "source": [
        "sweep_config = {\n",
        "    \"method\": \"bayes\",  # grid, random\n",
        "    \"metric\": {\"name\": \"f1\", \"goal\": \"maximize\"},\n",
        "    \"parameters\": {\n",
        "        \"num_train_epochs\": {\"values\": [1, 2, 3, 4, 5]},\n",
        "        \"learning_rate\": {\"min\": 1e-5, \"max\": 1e-4},\n",
        "        \"class_weights\": {\"values\": [0, 1]},\n",
        "        \"train_batch_size\": {\"values\": [8, 16, 24, 32]},\n",
        "    },\n",
        "}\n",
        "\n",
        "sweep_id = wandb.sweep(sweep_config, project=project_name)"
      ],
      "execution_count": 11,
      "outputs": [
        {
          "output_type": "display_data",
          "data": {
            "application/javascript": [
              "\n",
              "        window._wandbApiKey = new Promise((resolve, reject) => {\n",
              "            function loadScript(url) {\n",
              "            return new Promise(function(resolve, reject) {\n",
              "                let newScript = document.createElement(\"script\");\n",
              "                newScript.onerror = reject;\n",
              "                newScript.onload = resolve;\n",
              "                document.body.appendChild(newScript);\n",
              "                newScript.src = url;\n",
              "            });\n",
              "            }\n",
              "            loadScript(\"https://cdn.jsdelivr.net/npm/postmate/build/postmate.min.js\").then(() => {\n",
              "            const iframe = document.createElement('iframe')\n",
              "            iframe.style.cssText = \"width:0;height:0;border:none\"\n",
              "            document.body.appendChild(iframe)\n",
              "            const handshake = new Postmate({\n",
              "                container: iframe,\n",
              "                url: 'https://wandb.ai/authorize'\n",
              "            });\n",
              "            const timeout = setTimeout(() => reject(\"Couldn't auto authenticate\"), 5000)\n",
              "            handshake.then(function(child) {\n",
              "                child.on('authorize', data => {\n",
              "                    clearTimeout(timeout)\n",
              "                    resolve(data)\n",
              "                });\n",
              "            });\n",
              "            })\n",
              "        });\n",
              "    "
            ],
            "text/plain": [
              "<IPython.core.display.Javascript object>"
            ]
          },
          "metadata": {
            "tags": []
          }
        },
        {
          "output_type": "stream",
          "text": [
            "Create sweep with ID: jlrir8v2\n",
            "Sweep URL: https://wandb.ai/goerlitz/10kgnad_sweep__deepset_gbert-base/sweeps/jlrir8v2\n"
          ],
          "name": "stdout"
        }
      ]
    },
    {
      "cell_type": "code",
      "metadata": {
        "id": "mpGB1F9m9he-"
      },
      "source": [
        "train_args ={\"reprocess_input_data\": True,\n",
        "             \"overwrite_output_dir\": True,\n",
        "             \"evaluate_during_training\": True,\n",
        "             \"fp16\": False,\n",
        "             \"evaluate_during_training_verbose\": False,\n",
        "             \"evaluate_during_training_silent\": True,\n",
        "             \"wandb_project\": project_name,\n",
        "             \"silent\": True,\n",
        "             }"
      ],
      "execution_count": 12,
      "outputs": []
    },
    {
      "cell_type": "code",
      "metadata": {
        "id": "RAIOArT1AfPn"
      },
      "source": [
        "from sklearn.metrics import f1_score, accuracy_score, precision_score, recall_score\n",
        "\n",
        "def f1_multiclass(labels, preds):\n",
        "    return f1_score(labels, preds, average='macro')\n",
        "\n",
        "def precision_multiclass(labels, preds):\n",
        "    return precision_score(labels, preds, average='macro')\n",
        "\n",
        "def recall_multiclass(labels, preds):\n",
        "    return recall_score(labels, preds, average='macro')"
      ],
      "execution_count": 13,
      "outputs": []
    },
    {
      "cell_type": "code",
      "metadata": {
        "id": "lq3PWQ3J-yFX"
      },
      "source": [
        "def train():\n",
        "    # Initialize a new wandb run\n",
        "    wandb.init()\n",
        "\n",
        "    print(wandb.config)\n",
        "\n",
        "    # need to create a tokenizer first and adjust train args with lower case setting\n",
        "    tokenizer = AutoTokenizer.from_pretrained(model_name)\n",
        "    model_args = {**train_args, **{ \"do_lower_case\": tokenizer.do_lower_case }}\n",
        "\n",
        "    # print(wandb.config[\"class_weights\"])\n",
        "    weight = None if wandb.config[\"class_weights\"] == 0 else list(weights_s.values)\n",
        "\n",
        "    # Create a ClassificationModel\n",
        "    model = ClassificationModel(\n",
        "        model_type,\n",
        "        model_name,\n",
        "        num_labels=train_df.labels.nunique(),\n",
        "        weight=weight,\n",
        "        args=model_args,\n",
        "        sweep_config=wandb.config\n",
        "    )\n",
        "\n",
        "    # Train the model\n",
        "    model.train_model(\n",
        "        train_df,\n",
        "        eval_df=test_df,\n",
        "        verbose=False,\n",
        "        show_running_loss=False,\n",
        "        f1=f1_multiclass,\n",
        "        acc=accuracy_score,\n",
        "        precision=precision_multiclass,\n",
        "        recall=recall_multiclass,\n",
        "    )\n",
        "\n",
        "    # Sync wandb\n",
        "    wandb.join()"
      ],
      "execution_count": 14,
      "outputs": []
    },
    {
      "cell_type": "code",
      "metadata": {
        "colab": {
          "base_uri": "https://localhost:8080/"
        },
        "id": "Z0QaKQ_DAsUn",
        "outputId": "960a5da7-ee21-44bc-b615-0c1414a69601"
      },
      "source": [
        "wandb.agent(sweep_id, train)"
      ],
      "execution_count": null,
      "outputs": [
        {
          "output_type": "stream",
          "text": [
            "{'class_weights': 1, 'learning_rate': 4.8841260080517326e-05, 'num_train_epochs': 2, 'train_batch_size': 8}\n"
          ],
          "name": "stdout"
        }
      ]
    }
  ]
}