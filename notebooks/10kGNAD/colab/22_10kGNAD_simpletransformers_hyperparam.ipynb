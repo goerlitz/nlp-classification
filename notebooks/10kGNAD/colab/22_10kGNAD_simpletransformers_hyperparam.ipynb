{
  "nbformat": 4,
  "nbformat_minor": 0,
  "metadata": {
    "accelerator": "GPU",
    "colab": {
      "name": "22_10kGNAD_simpletransformers_hyperparam.ipynb",
      "provenance": [],
      "collapsed_sections": [],
      "toc_visible": true,
      "authorship_tag": "ABX9TyNJa0Jg2w5EkPQ2I8NZZANc",
      "include_colab_link": true
    },
    "kernelspec": {
      "display_name": "Python 3",
      "name": "python3"
    },
    "language_info": {
      "name": "python"
    }
  },
  "cells": [
    {
      "cell_type": "markdown",
      "metadata": {
        "id": "view-in-github",
        "colab_type": "text"
      },
      "source": [
        "<a href=\"https://colab.research.google.com/github/goerlitz/nlp-classification/blob/main/notebooks/10kGNAD/colab/22_10kGNAD_simpletransformers_hyperparam.ipynb\" target=\"_parent\"><img src=\"https://colab.research.google.com/assets/colab-badge.svg\" alt=\"Open In Colab\"/></a>"
      ]
    },
    {
      "cell_type": "markdown",
      "metadata": {
        "id": "dlrXkgH45xES"
      },
      "source": [
        "# Hyperparameter Optimization for Classification of German News Articles\n",
        "\n",
        "## Objective\n",
        "\n",
        "Train a Classifier which achieves better performance than a Classifier with the default SimpleTransformers setup by doing hyperparameter optimization.\n",
        "\n",
        "Use different pretrained models for optimization:\n",
        "* `distilbert-base-german-cased`\n",
        "* `deepset/gbert-base`\n",
        "* `deepset/gelectra-large`\n",
        "\n",
        "## Approach\n",
        "\n",
        "Using SimpleTransformers with *Sweeps* from Weights & Biases which evaluate different hyperparameter combinations.\n",
        "\n",
        "See also:\n",
        "* https://simpletransformers.ai/docs/tips-and-tricks/#hyperparameter-optimization\n",
        "* https://towardsdatascience.com/hyperparameter-optimization-for-optimum-transformer-models-b95a32b70949\n",
        "\n",
        "\n",
        "## Prerequisites"
      ]
    },
    {
      "cell_type": "code",
      "metadata": {
        "id": "ntiGlTHQfJqI"
      },
      "source": [
        "# model_type = \"distilbert\"\n",
        "# model_name = \"distilbert-base-german-cased\"\n",
        "\n",
        "# model_type = \"bert\"\n",
        "# model_name = \"deepset/gbert-base\"\n",
        "\n",
        "model_type = \"electra\"\n",
        "model_name = \"deepset/gelectra-large\"\n",
        "\n",
        "project_name = \"10kgnad_sweep__\" + model_name.replace(\"/\", \"_\")"
      ],
      "execution_count": null,
      "outputs": []
    },
    {
      "cell_type": "code",
      "metadata": {
        "id": "4Z49upWS3hvP",
        "colab": {
          "base_uri": "https://localhost:8080/"
        },
        "outputId": "d71a900d-8187-4286-a755-02c86ddb7828"
      },
      "source": [
        "gpu_info = !nvidia-smi\n",
        "gpu_info = '\\n'.join(gpu_info)\n",
        "if gpu_info.find('failed') >= 0:\n",
        "  print('Select the Runtime > \"Change runtime type\" menu to enable a GPU accelerator, ')\n",
        "  print('and then re-execute this cell.')\n",
        "else:\n",
        "  print(gpu_info)"
      ],
      "execution_count": null,
      "outputs": [
        {
          "output_type": "stream",
          "text": [
            "Fri Jun 25 21:29:15 2021       \n",
            "+-----------------------------------------------------------------------------+\n",
            "| NVIDIA-SMI 465.27       Driver Version: 460.32.03    CUDA Version: 11.2     |\n",
            "|-------------------------------+----------------------+----------------------+\n",
            "| GPU  Name        Persistence-M| Bus-Id        Disp.A | Volatile Uncorr. ECC |\n",
            "| Fan  Temp  Perf  Pwr:Usage/Cap|         Memory-Usage | GPU-Util  Compute M. |\n",
            "|                               |                      |               MIG M. |\n",
            "|===============================+======================+======================|\n",
            "|   0  Tesla P100-PCIE...  Off  | 00000000:00:04.0 Off |                    0 |\n",
            "| N/A   42C    P0    32W / 250W |      0MiB / 16280MiB |      0%      Default |\n",
            "|                               |                      |                  N/A |\n",
            "+-------------------------------+----------------------+----------------------+\n",
            "                                                                               \n",
            "+-----------------------------------------------------------------------------+\n",
            "| Processes:                                                                  |\n",
            "|  GPU   GI   CI        PID   Type   Process name                  GPU Memory |\n",
            "|        ID   ID                                                   Usage      |\n",
            "|=============================================================================|\n",
            "|  No running processes found                                                 |\n",
            "+-----------------------------------------------------------------------------+\n"
          ],
          "name": "stdout"
        }
      ]
    },
    {
      "cell_type": "markdown",
      "metadata": {
        "id": "6xBYMleY53A4"
      },
      "source": [
        "### Install Libraries"
      ]
    },
    {
      "cell_type": "code",
      "metadata": {
        "id": "VFcohA7f5lrH",
        "colab": {
          "base_uri": "https://localhost:8080/"
        },
        "outputId": "77e66634-3fcd-4f2a-a9af-90d73f9a2b62"
      },
      "source": [
        "# install transformers\n",
        "!pip install -q --upgrade tqdm==4.47.0 >/dev/null\n",
        "!pip install -q --upgrade transformers simpletransformers >/dev/null\n",
        "\n",
        "# check installed version\n",
        "!pip freeze | grep transformers\n",
        "# simpletransformers==0.61.6\n",
        "# transformers==4.6.1"
      ],
      "execution_count": null,
      "outputs": [
        {
          "output_type": "stream",
          "text": [
            "\u001b[31mERROR: google-colab 1.0.0 has requirement ipykernel~=4.10, but you'll have ipykernel 5.5.5 which is incompatible.\u001b[0m\n",
            "simpletransformers==0.61.9\n",
            "transformers==4.8.1\n"
          ],
          "name": "stdout"
        }
      ]
    },
    {
      "cell_type": "code",
      "metadata": {
        "id": "opXOFgrD55Or"
      },
      "source": [
        "import pandas as pd\n",
        "from pathlib import Path\n",
        "import os\n",
        "\n",
        "from simpletransformers.classification import ClassificationModel\n",
        "from transformers import AutoTokenizer\n",
        "from transformers import logging\n",
        "import wandb\n",
        "\n",
        "# hide progress bar when downloading tokenizers - a workaround!\n",
        "logging.get_verbosity = lambda : logging.NOTSET\n",
        "\n",
        "# disable transformer warnings like \"Some weights of the model checkpoint\"\n",
        "logging.set_verbosity_error()\n",
        "\n",
        "# disable logging of wandb\n",
        "os.environ[\"WANDB_SILENT\"] = \"true\""
      ],
      "execution_count": null,
      "outputs": []
    },
    {
      "cell_type": "markdown",
      "metadata": {
        "id": "AsTaSRJekM0L"
      },
      "source": [
        "### Download Data\n",
        "\n",
        "Get the 10k German News Articles Dataset"
      ]
    },
    {
      "cell_type": "code",
      "metadata": {
        "id": "pf-3EEDYXlhh",
        "colab": {
          "base_uri": "https://localhost:8080/"
        },
        "outputId": "956f2693-5390-4733-b586-90299dabeed6"
      },
      "source": [
        "%env DIR=data\n",
        "\n",
        "!mkdir -p $DIR\n",
        "!wget -nc https://github.com/tblock/10kGNAD/blob/master/train.csv?raw=true -nv -O $DIR/train.csv\n",
        "!wget -nc https://github.com/tblock/10kGNAD/blob/master/test.csv?raw=true -nv -O $DIR/test.csv\n",
        "!ls -lAh $DIR | cut -d \" \" -f 5-"
      ],
      "execution_count": null,
      "outputs": [
        {
          "output_type": "stream",
          "text": [
            "env: DIR=data\n",
            "2021-06-25 21:29:58 URL:https://raw.githubusercontent.com/tblock/10kGNAD/master/train.csv [24405789/24405789] -> \"data/train.csv\" [1]\n",
            "2021-06-25 21:30:00 URL:https://raw.githubusercontent.com/tblock/10kGNAD/master/test.csv [2755020/2755020] -> \"data/test.csv\" [1]\n",
            "\n",
            "2.7M Jun 25 21:30 test.csv\n",
            " 24M Jun 25 21:29 train.csv\n"
          ],
          "name": "stdout"
        }
      ]
    },
    {
      "cell_type": "markdown",
      "metadata": {
        "id": "XuLSIj9NkXAG"
      },
      "source": [
        "## Import Data\n",
        "\n",
        "Load training and test dataset"
      ]
    },
    {
      "cell_type": "code",
      "metadata": {
        "id": "fL2RFkuaaQug"
      },
      "source": [
        "data_dir = Path(os.getenv(\"DIR\"))\n",
        "\n",
        "train_file = data_dir / 'train.csv'\n",
        "test_file = data_dir / 'test.csv'\n",
        "\n",
        "def read_csv_10kGNAD(filepath: Path, columns=[\"labels\", \"text\"]) -> pd.DataFrame:\n",
        "    \"\"\"Load 10kGNAD csv file, handling its specific file format.\"\"\"\n",
        "    f = pd.read_csv(filepath, sep=\";\", quotechar=\"'\", names=columns)\n",
        "    return f"
      ],
      "execution_count": null,
      "outputs": []
    },
    {
      "cell_type": "code",
      "metadata": {
        "id": "pFMweinxRnAT",
        "colab": {
          "base_uri": "https://localhost:8080/",
          "height": 224
        },
        "outputId": "9ebf8d8a-cac6-416f-f1b6-b8e3432c383b"
      },
      "source": [
        "train_df = read_csv_10kGNAD(data_dir / 'train.csv')\n",
        "print(train_df.shape[0], 'articles')\n",
        "display(train_df.head())"
      ],
      "execution_count": null,
      "outputs": [
        {
          "output_type": "stream",
          "text": [
            "9245 articles\n"
          ],
          "name": "stdout"
        },
        {
          "output_type": "display_data",
          "data": {
            "text/html": [
              "<div>\n",
              "<style scoped>\n",
              "    .dataframe tbody tr th:only-of-type {\n",
              "        vertical-align: middle;\n",
              "    }\n",
              "\n",
              "    .dataframe tbody tr th {\n",
              "        vertical-align: top;\n",
              "    }\n",
              "\n",
              "    .dataframe thead th {\n",
              "        text-align: right;\n",
              "    }\n",
              "</style>\n",
              "<table border=\"1\" class=\"dataframe\">\n",
              "  <thead>\n",
              "    <tr style=\"text-align: right;\">\n",
              "      <th></th>\n",
              "      <th>labels</th>\n",
              "      <th>text</th>\n",
              "    </tr>\n",
              "  </thead>\n",
              "  <tbody>\n",
              "    <tr>\n",
              "      <th>0</th>\n",
              "      <td>Sport</td>\n",
              "      <td>21-Jähriger fällt wohl bis Saisonende aus. Wie...</td>\n",
              "    </tr>\n",
              "    <tr>\n",
              "      <th>1</th>\n",
              "      <td>Kultur</td>\n",
              "      <td>Erfundene Bilder zu Filmen, die als verloren g...</td>\n",
              "    </tr>\n",
              "    <tr>\n",
              "      <th>2</th>\n",
              "      <td>Web</td>\n",
              "      <td>Der frischgekürte CEO Sundar Pichai setzt auf ...</td>\n",
              "    </tr>\n",
              "    <tr>\n",
              "      <th>3</th>\n",
              "      <td>Wirtschaft</td>\n",
              "      <td>Putin: \"Einigung, dass wir Menge auf Niveau vo...</td>\n",
              "    </tr>\n",
              "    <tr>\n",
              "      <th>4</th>\n",
              "      <td>Inland</td>\n",
              "      <td>Estland sieht den künftigen österreichischen P...</td>\n",
              "    </tr>\n",
              "  </tbody>\n",
              "</table>\n",
              "</div>"
            ],
            "text/plain": [
              "       labels                                               text\n",
              "0       Sport  21-Jähriger fällt wohl bis Saisonende aus. Wie...\n",
              "1      Kultur  Erfundene Bilder zu Filmen, die als verloren g...\n",
              "2         Web  Der frischgekürte CEO Sundar Pichai setzt auf ...\n",
              "3  Wirtschaft  Putin: \"Einigung, dass wir Menge auf Niveau vo...\n",
              "4      Inland  Estland sieht den künftigen österreichischen P..."
            ]
          },
          "metadata": {
            "tags": []
          }
        }
      ]
    },
    {
      "cell_type": "code",
      "metadata": {
        "id": "-7Nk55Zhbqgv",
        "colab": {
          "base_uri": "https://localhost:8080/",
          "height": 224
        },
        "outputId": "2166a432-9de7-4d65-85ba-5313ac19f582"
      },
      "source": [
        "test_df = read_csv_10kGNAD(data_dir / 'test.csv')\n",
        "print(test_df.shape[0], 'articles')\n",
        "display(test_df.head())"
      ],
      "execution_count": null,
      "outputs": [
        {
          "output_type": "stream",
          "text": [
            "1028 articles\n"
          ],
          "name": "stdout"
        },
        {
          "output_type": "display_data",
          "data": {
            "text/html": [
              "<div>\n",
              "<style scoped>\n",
              "    .dataframe tbody tr th:only-of-type {\n",
              "        vertical-align: middle;\n",
              "    }\n",
              "\n",
              "    .dataframe tbody tr th {\n",
              "        vertical-align: top;\n",
              "    }\n",
              "\n",
              "    .dataframe thead th {\n",
              "        text-align: right;\n",
              "    }\n",
              "</style>\n",
              "<table border=\"1\" class=\"dataframe\">\n",
              "  <thead>\n",
              "    <tr style=\"text-align: right;\">\n",
              "      <th></th>\n",
              "      <th>labels</th>\n",
              "      <th>text</th>\n",
              "    </tr>\n",
              "  </thead>\n",
              "  <tbody>\n",
              "    <tr>\n",
              "      <th>0</th>\n",
              "      <td>Wirtschaft</td>\n",
              "      <td>Die Gewerkschaft GPA-djp lanciert den \"All-in-...</td>\n",
              "    </tr>\n",
              "    <tr>\n",
              "      <th>1</th>\n",
              "      <td>Sport</td>\n",
              "      <td>Franzosen verteidigen 2:1-Führung – Kritische ...</td>\n",
              "    </tr>\n",
              "    <tr>\n",
              "      <th>2</th>\n",
              "      <td>Web</td>\n",
              "      <td>Neues Video von Designern macht im Netz die Ru...</td>\n",
              "    </tr>\n",
              "    <tr>\n",
              "      <th>3</th>\n",
              "      <td>Sport</td>\n",
              "      <td>23-jähriger Brasilianer muss vier Spiele pausi...</td>\n",
              "    </tr>\n",
              "    <tr>\n",
              "      <th>4</th>\n",
              "      <td>International</td>\n",
              "      <td>Aufständische verwendeten Chemikalie bei Gefec...</td>\n",
              "    </tr>\n",
              "  </tbody>\n",
              "</table>\n",
              "</div>"
            ],
            "text/plain": [
              "          labels                                               text\n",
              "0     Wirtschaft  Die Gewerkschaft GPA-djp lanciert den \"All-in-...\n",
              "1          Sport  Franzosen verteidigen 2:1-Führung – Kritische ...\n",
              "2            Web  Neues Video von Designern macht im Netz die Ru...\n",
              "3          Sport  23-jähriger Brasilianer muss vier Spiele pausi...\n",
              "4  International  Aufständische verwendeten Chemikalie bei Gefec..."
            ]
          },
          "metadata": {
            "tags": []
          }
        }
      ]
    },
    {
      "cell_type": "markdown",
      "metadata": {
        "id": "oFgSEkulaNq3"
      },
      "source": [
        "## Prepare for Model Training\n",
        "\n",
        "Model Input Requirements:\n",
        "\n",
        "* columns should be labeled `labels` and `text` (already done during import)\n",
        "* labels must be int values starting at `0`"
      ]
    },
    {
      "cell_type": "markdown",
      "metadata": {
        "id": "DbdNYGxYPZRR"
      },
      "source": [
        "### Label Encoding"
      ]
    },
    {
      "cell_type": "code",
      "metadata": {
        "id": "mZiem-noPbm3",
        "colab": {
          "base_uri": "https://localhost:8080/",
          "height": 206
        },
        "outputId": "b7d66cb7-974f-4b22-fb1d-8f8bbbff7f53"
      },
      "source": [
        "from sklearn.preprocessing import LabelEncoder\n",
        "\n",
        "def encode_labels(train: pd.DataFrame, test: pd.DataFrame):\n",
        "    le = LabelEncoder()\n",
        "\n",
        "    train_labels = le.fit_transform(train.labels)\n",
        "    test_labels = le.transform(test.labels)\n",
        "\n",
        "    return train.assign(labels=train_labels), test.assign(labels=test_labels)\n",
        "\n",
        "train_df, test_df = encode_labels(train_df, test_df)\n",
        "display(train_df.head())"
      ],
      "execution_count": null,
      "outputs": [
        {
          "output_type": "display_data",
          "data": {
            "text/html": [
              "<div>\n",
              "<style scoped>\n",
              "    .dataframe tbody tr th:only-of-type {\n",
              "        vertical-align: middle;\n",
              "    }\n",
              "\n",
              "    .dataframe tbody tr th {\n",
              "        vertical-align: top;\n",
              "    }\n",
              "\n",
              "    .dataframe thead th {\n",
              "        text-align: right;\n",
              "    }\n",
              "</style>\n",
              "<table border=\"1\" class=\"dataframe\">\n",
              "  <thead>\n",
              "    <tr style=\"text-align: right;\">\n",
              "      <th></th>\n",
              "      <th>labels</th>\n",
              "      <th>text</th>\n",
              "    </tr>\n",
              "  </thead>\n",
              "  <tbody>\n",
              "    <tr>\n",
              "      <th>0</th>\n",
              "      <td>5</td>\n",
              "      <td>21-Jähriger fällt wohl bis Saisonende aus. Wie...</td>\n",
              "    </tr>\n",
              "    <tr>\n",
              "      <th>1</th>\n",
              "      <td>3</td>\n",
              "      <td>Erfundene Bilder zu Filmen, die als verloren g...</td>\n",
              "    </tr>\n",
              "    <tr>\n",
              "      <th>2</th>\n",
              "      <td>6</td>\n",
              "      <td>Der frischgekürte CEO Sundar Pichai setzt auf ...</td>\n",
              "    </tr>\n",
              "    <tr>\n",
              "      <th>3</th>\n",
              "      <td>7</td>\n",
              "      <td>Putin: \"Einigung, dass wir Menge auf Niveau vo...</td>\n",
              "    </tr>\n",
              "    <tr>\n",
              "      <th>4</th>\n",
              "      <td>1</td>\n",
              "      <td>Estland sieht den künftigen österreichischen P...</td>\n",
              "    </tr>\n",
              "  </tbody>\n",
              "</table>\n",
              "</div>"
            ],
            "text/plain": [
              "   labels                                               text\n",
              "0       5  21-Jähriger fällt wohl bis Saisonende aus. Wie...\n",
              "1       3  Erfundene Bilder zu Filmen, die als verloren g...\n",
              "2       6  Der frischgekürte CEO Sundar Pichai setzt auf ...\n",
              "3       7  Putin: \"Einigung, dass wir Menge auf Niveau vo...\n",
              "4       1  Estland sieht den künftigen österreichischen P..."
            ]
          },
          "metadata": {
            "tags": []
          }
        }
      ]
    },
    {
      "cell_type": "markdown",
      "metadata": {
        "id": "hGxhoQd0PHUJ"
      },
      "source": [
        "### Compute Class Weights"
      ]
    },
    {
      "cell_type": "code",
      "metadata": {
        "id": "pv5-gmLTPGGs",
        "colab": {
          "base_uri": "https://localhost:8080/"
        },
        "outputId": "ac83fdb8-6d9f-4efc-914d-c431f12629e6"
      },
      "source": [
        "from sklearn.utils.class_weight import compute_class_weight\n",
        "\n",
        "def class_weights(labels: pd.Series):\n",
        "    uniq_labels = labels.unique()\n",
        "    weights = compute_class_weight(\"balanced\", uniq_labels, labels)\n",
        "    return pd.Series(weights, index=uniq_labels).sort_index()\n",
        "\n",
        "weights_s = class_weights(train_df.labels)\n",
        "list(weights_s.values)"
      ],
      "execution_count": null,
      "outputs": [
        {
          "output_type": "execute_result",
          "data": {
            "text/plain": [
              "[1.7091883897208358,\n",
              " 1.1251064865522697,\n",
              " 0.7553104575163399,\n",
              " 2.117983963344788,\n",
              " 0.6802796173657101,\n",
              " 0.9502518244423888,\n",
              " 0.6807304322214859,\n",
              " 0.8088363954505686,\n",
              " 1.9907407407407407]"
            ]
          },
          "metadata": {
            "tags": []
          },
          "execution_count": 11
        }
      ]
    },
    {
      "cell_type": "markdown",
      "metadata": {
        "id": "xclwtZOSanXP"
      },
      "source": [
        "## Evaluation Setup"
      ]
    },
    {
      "cell_type": "code",
      "metadata": {
        "id": "BiLPAQuC79P4"
      },
      "source": [
        "sweep_config = {\n",
        "    \"method\": \"bayes\",  # grid, random\n",
        "    \"metric\": {\"name\": \"f1\", \"goal\": \"maximize\"},\n",
        "    \"parameters\": {\n",
        "        \"num_train_epochs\": {\"values\": [1, 2, 3, 4, 5]},\n",
        "        \"learning_rate\": {\"min\": 1e-5, \"max\": 1e-4},\n",
        "        \"class_weights\": {\"values\": [0, 1]},\n",
        "        \"train_batch_size\": {\"values\": [8, 16, 24, 32]},\n",
        "    },\n",
        "}\n",
        "\n",
        "# sweep_id = wandb.sweep(sweep_config, project=project_name)\n",
        "sweep_id = \"maaowpe8\""
      ],
      "execution_count": null,
      "outputs": []
    },
    {
      "cell_type": "code",
      "metadata": {
        "id": "mpGB1F9m9he-"
      },
      "source": [
        "train_args ={\"reprocess_input_data\": True,\n",
        "             \"overwrite_output_dir\": True,\n",
        "             \"evaluate_during_training\": True,\n",
        "             \"fp16\": False,\n",
        "             \"evaluate_during_training_verbose\": False,\n",
        "             \"evaluate_during_training_silent\": True,\n",
        "             \"wandb_project\": project_name,\n",
        "             \"silent\": True,\n",
        "             }"
      ],
      "execution_count": null,
      "outputs": []
    },
    {
      "cell_type": "code",
      "metadata": {
        "id": "RAIOArT1AfPn"
      },
      "source": [
        "from sklearn.metrics import f1_score, accuracy_score, precision_score, recall_score\n",
        "\n",
        "def f1_multiclass(labels, preds):\n",
        "    return f1_score(labels, preds, average='macro')\n",
        "\n",
        "def precision_multiclass(labels, preds):\n",
        "    return precision_score(labels, preds, average='macro')\n",
        "\n",
        "def recall_multiclass(labels, preds):\n",
        "    return recall_score(labels, preds, average='macro')"
      ],
      "execution_count": null,
      "outputs": []
    },
    {
      "cell_type": "code",
      "metadata": {
        "id": "lq3PWQ3J-yFX"
      },
      "source": [
        "def train():\n",
        "    # Initialize a new wandb run\n",
        "    wandb.init()\n",
        "\n",
        "    print(wandb.config)\n",
        "\n",
        "    # need to create a tokenizer first and adjust train args with lower case setting\n",
        "    tokenizer = AutoTokenizer.from_pretrained(model_name)\n",
        "    model_args = {**train_args, **{ \"do_lower_case\": tokenizer.do_lower_case }}\n",
        "\n",
        "    # print(wandb.config[\"class_weights\"])\n",
        "    weight = None if wandb.config[\"class_weights\"] == 0 else list(weights_s.values)\n",
        "\n",
        "    # Create a ClassificationModel\n",
        "    model = ClassificationModel(\n",
        "        model_type,\n",
        "        model_name,\n",
        "        num_labels=train_df.labels.nunique(),\n",
        "        weight=weight,\n",
        "        args=model_args,\n",
        "        sweep_config=wandb.config\n",
        "    )\n",
        "\n",
        "    # Train the model\n",
        "    model.train_model(\n",
        "        train_df,\n",
        "        eval_df=test_df,\n",
        "        verbose=False,\n",
        "        show_running_loss=False,\n",
        "        f1=f1_multiclass,\n",
        "        acc=accuracy_score,\n",
        "        precision=precision_multiclass,\n",
        "        recall=recall_multiclass,\n",
        "    )\n",
        "\n",
        "    # Sync wandb\n",
        "    wandb.join()"
      ],
      "execution_count": null,
      "outputs": []
    },
    {
      "cell_type": "code",
      "metadata": {
        "colab": {
          "base_uri": "https://localhost:8080/",
          "height": 541
        },
        "id": "Z0QaKQ_DAsUn",
        "outputId": "68d8d977-321e-41e3-afb6-0435431ee823"
      },
      "source": [
        "wandb.agent(sweep_id, train, project=project_name)"
      ],
      "execution_count": null,
      "outputs": [
        {
          "output_type": "display_data",
          "data": {
            "application/javascript": [
              "\n",
              "        window._wandbApiKey = new Promise((resolve, reject) => {\n",
              "            function loadScript(url) {\n",
              "            return new Promise(function(resolve, reject) {\n",
              "                let newScript = document.createElement(\"script\");\n",
              "                newScript.onerror = reject;\n",
              "                newScript.onload = resolve;\n",
              "                document.body.appendChild(newScript);\n",
              "                newScript.src = url;\n",
              "            });\n",
              "            }\n",
              "            loadScript(\"https://cdn.jsdelivr.net/npm/postmate/build/postmate.min.js\").then(() => {\n",
              "            const iframe = document.createElement('iframe')\n",
              "            iframe.style.cssText = \"width:0;height:0;border:none\"\n",
              "            document.body.appendChild(iframe)\n",
              "            const handshake = new Postmate({\n",
              "                container: iframe,\n",
              "                url: 'https://wandb.ai/authorize'\n",
              "            });\n",
              "            const timeout = setTimeout(() => reject(\"Couldn't auto authenticate\"), 5000)\n",
              "            handshake.then(function(child) {\n",
              "                child.on('authorize', data => {\n",
              "                    clearTimeout(timeout)\n",
              "                    resolve(data)\n",
              "                });\n",
              "            });\n",
              "            })\n",
              "        });\n",
              "    "
            ],
            "text/plain": [
              "<IPython.core.display.Javascript object>"
            ]
          },
          "metadata": {
            "tags": []
          }
        },
        {
          "output_type": "stream",
          "text": [
            "{'class_weights': 0, 'learning_rate': 5.751722516474097e-05, 'num_train_epochs': 4, 'train_batch_size': 24}\n",
            "{'class_weights': 1, 'learning_rate': 6.717245929664931e-05, 'num_train_epochs': 4, 'train_batch_size': 24}\n",
            "{'class_weights': 1, 'learning_rate': 3.5398814275539346e-05, 'num_train_epochs': 1, 'train_batch_size': 8}\n",
            "{'class_weights': 1, 'learning_rate': 7.947859059031065e-05, 'num_train_epochs': 1, 'train_batch_size': 8}\n",
            "{'class_weights': 0, 'learning_rate': 3.133904217832304e-05, 'num_train_epochs': 3, 'train_batch_size': 8}\n",
            "{'class_weights': 1, 'learning_rate': 5.5639328136607527e-05, 'num_train_epochs': 3, 'train_batch_size': 24}\n",
            "{'class_weights': 1, 'learning_rate': 8.432729790805366e-05, 'num_train_epochs': 2, 'train_batch_size': 32}\n",
            "{'class_weights': 1, 'learning_rate': 5.049003569967008e-05, 'num_train_epochs': 2, 'train_batch_size': 8}\n",
            "{'class_weights': 1, 'learning_rate': 2.9147094209324766e-05, 'num_train_epochs': 5, 'train_batch_size': 16}\n",
            "{'class_weights': 1, 'learning_rate': 7.12412314877672e-05, 'num_train_epochs': 2, 'train_batch_size': 32}\n",
            "{'class_weights': 1, 'learning_rate': 4.472956778261837e-05, 'num_train_epochs': 5, 'train_batch_size': 24}\n",
            "{'class_weights': 0, 'learning_rate': 6.897565464045367e-05, 'num_train_epochs': 4, 'train_batch_size': 8}\n"
          ],
          "name": "stdout"
        },
        {
          "output_type": "stream",
          "text": [
            "/usr/local/lib/python3.7/dist-packages/sklearn/metrics/_classification.py:1272: UndefinedMetricWarning: Precision is ill-defined and being set to 0.0 in labels with no predicted samples. Use `zero_division` parameter to control this behavior.\n",
            "  _warn_prf(average, modifier, msg_start, len(result))\n",
            "/usr/local/lib/python3.7/dist-packages/sklearn/metrics/_classification.py:900: RuntimeWarning: invalid value encountered in double_scalars\n",
            "  mcc = cov_ytyp / np.sqrt(cov_ytyt * cov_ypyp)\n"
          ],
          "name": "stderr"
        },
        {
          "output_type": "stream",
          "text": [
            "{'class_weights': 0, 'learning_rate': 3.912509009371307e-05, 'num_train_epochs': 4, 'train_batch_size': 16}\n",
            "{'class_weights': 0, 'learning_rate': 5.78326026396385e-05, 'num_train_epochs': 5, 'train_batch_size': 8}\n",
            "{'class_weights': 1, 'learning_rate': 6.858441298360156e-05, 'num_train_epochs': 5, 'train_batch_size': 24}\n",
            "{'class_weights': 1, 'learning_rate': 5.578730976376975e-05, 'num_train_epochs': 4, 'train_batch_size': 32}\n",
            "{'class_weights': 1, 'learning_rate': 9.519443593769315e-05, 'num_train_epochs': 1, 'train_batch_size': 8}\n",
            "{'class_weights': 1, 'learning_rate': 1.634077928361311e-05, 'num_train_epochs': 5, 'train_batch_size': 24}\n",
            "{'class_weights': 1, 'learning_rate': 4.743005528146444e-05, 'num_train_epochs': 1, 'train_batch_size': 8}\n",
            "{'class_weights': 1, 'learning_rate': 7.08426482958503e-05, 'num_train_epochs': 3, 'train_batch_size': 24}\n",
            "{'class_weights': 0, 'learning_rate': 7.232233167666023e-05, 'num_train_epochs': 5, 'train_batch_size': 24}\n",
            "{'class_weights': 1, 'learning_rate': 8.396326829496853e-05, 'num_train_epochs': 3, 'train_batch_size': 32}\n",
            "{'class_weights': 1, 'learning_rate': 7.932342985199246e-05, 'num_train_epochs': 2, 'train_batch_size': 24}\n",
            "{'class_weights': 1, 'learning_rate': 2.5408598724067657e-05, 'num_train_epochs': 5, 'train_batch_size': 16}\n"
          ],
          "name": "stdout"
        }
      ]
    }
  ]
}