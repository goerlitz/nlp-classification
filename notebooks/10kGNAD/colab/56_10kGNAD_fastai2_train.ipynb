{
  "nbformat": 4,
  "nbformat_minor": 0,
  "metadata": {
    "colab": {
      "name": "56_10kGNAD_fastai2_train.ipynb",
      "provenance": [],
      "collapsed_sections": [],
      "authorship_tag": "ABX9TyOFGD1GXNemkA5CBzu3mGFd",
      "include_colab_link": true
    },
    "kernelspec": {
      "name": "python3",
      "display_name": "Python 3"
    },
    "language_info": {
      "name": "python"
    },
    "accelerator": "GPU"
  },
  "cells": [
    {
      "cell_type": "markdown",
      "metadata": {
        "id": "view-in-github",
        "colab_type": "text"
      },
      "source": [
        "<a href=\"https://colab.research.google.com/github/goerlitz/nlp-classification/blob/main/notebooks/10kGNAD/colab/56_10kGNAD_fastai2_train.ipynb\" target=\"_parent\"><img src=\"https://colab.research.google.com/assets/colab-badge.svg\" alt=\"Open In Colab\"/></a>"
      ]
    },
    {
      "cell_type": "markdown",
      "metadata": {
        "id": "d-tdx5ue1Y27"
      },
      "source": [
        "# Training FastAI Classifier\n",
        "\n",
        "based on https://github.com/floleuerer/fastai_ulmfit/blob/main/4_ulmfit_train_classifier.ipynb"
      ]
    },
    {
      "cell_type": "markdown",
      "metadata": {
        "id": "KXpwUt2W2GAn"
      },
      "source": [
        "## Prerequisites\n",
        "\n",
        "### Connect Google Drive"
      ]
    },
    {
      "cell_type": "code",
      "metadata": {
        "colab": {
          "base_uri": "https://localhost:8080/"
        },
        "id": "EKqX9CLW2IXk",
        "outputId": "f8a75676-334e-474c-a6f7-f0aa132221ac"
      },
      "source": [
        "from google.colab import drive\n",
        "from pathlib import Path\n",
        "\n",
        "drive.mount('/content/gdrive')\n",
        "\n",
        "# model location\n",
        "root_path = Path('/content/gdrive/My Drive/')\n",
        "base_path = root_path / 'Colab Notebooks/nlp-classification/'\n",
        "model_path = base_path / 'models'"
      ],
      "execution_count": 6,
      "outputs": [
        {
          "output_type": "stream",
          "name": "stdout",
          "text": [
            "Drive already mounted at /content/gdrive; to attempt to forcibly remount, call drive.mount(\"/content/gdrive\", force_remount=True).\n"
          ]
        }
      ]
    },
    {
      "cell_type": "code",
      "metadata": {
        "colab": {
          "base_uri": "https://localhost:8080/"
        },
        "id": "wPU3gX5yVwNd",
        "outputId": "39eea16f-a51a-400a-d0e1-f51e809bd7ab"
      },
      "source": [
        "gpu_info = !nvidia-smi\n",
        "gpu_info = '\\n'.join(gpu_info)\n",
        "if gpu_info.find('failed') >= 0:\n",
        "  print('Select the Runtime > \"Change runtime type\" menu to enable a GPU accelerator, ')\n",
        "  print('and then re-execute this cell.')\n",
        "else:\n",
        "  print(gpu_info)"
      ],
      "execution_count": 55,
      "outputs": [
        {
          "output_type": "stream",
          "name": "stdout",
          "text": [
            "Sun Dec  5 20:56:59 2021       \n",
            "+-----------------------------------------------------------------------------+\n",
            "| NVIDIA-SMI 495.44       Driver Version: 460.32.03    CUDA Version: 11.2     |\n",
            "|-------------------------------+----------------------+----------------------+\n",
            "| GPU  Name        Persistence-M| Bus-Id        Disp.A | Volatile Uncorr. ECC |\n",
            "| Fan  Temp  Perf  Pwr:Usage/Cap|         Memory-Usage | GPU-Util  Compute M. |\n",
            "|                               |                      |               MIG M. |\n",
            "|===============================+======================+======================|\n",
            "|   0  Tesla P100-PCIE...  Off  | 00000000:00:04.0 Off |                    0 |\n",
            "| N/A   39C    P0    34W / 250W |   6709MiB / 16280MiB |      0%      Default |\n",
            "|                               |                      |                  N/A |\n",
            "+-------------------------------+----------------------+----------------------+\n",
            "                                                                               \n",
            "+-----------------------------------------------------------------------------+\n",
            "| Processes:                                                                  |\n",
            "|  GPU   GI   CI        PID   Type   Process name                  GPU Memory |\n",
            "|        ID   ID                                                   Usage      |\n",
            "|=============================================================================|\n",
            "|  No running processes found                                                 |\n",
            "+-----------------------------------------------------------------------------+\n"
          ]
        }
      ]
    },
    {
      "cell_type": "markdown",
      "metadata": {
        "id": "cTp95_ol2mMb"
      },
      "source": [
        "### Install Libraries"
      ]
    },
    {
      "cell_type": "code",
      "metadata": {
        "colab": {
          "base_uri": "https://localhost:8080/"
        },
        "id": "IWedFzMj1Q_a",
        "outputId": "04eef751-1c48-467f-8a7e-aa3dfd113213"
      },
      "source": [
        "!pip install -q -U fastai sentencepiece!=0.1.90,!=0.1.91\n",
        "\n",
        "!pip freeze | grep fastai\n",
        "!pip freeze | grep sentencepiece\n",
        "!pip freeze | grep torch\n",
        "# fastai==2.5.3\n",
        "# sentencepiece==0.1.96\n",
        "# torch==0.10.0+cu111"
      ],
      "execution_count": 7,
      "outputs": [
        {
          "output_type": "stream",
          "name": "stdout",
          "text": [
            "fastai==2.5.3\n",
            "sentencepiece==0.1.96\n",
            "torch @ https://download.pytorch.org/whl/cu111/torch-1.10.0%2Bcu111-cp37-cp37m-linux_x86_64.whl\n",
            "torchaudio @ https://download.pytorch.org/whl/cu111/torchaudio-0.10.0%2Bcu111-cp37-cp37m-linux_x86_64.whl\n",
            "torchsummary==1.5.1\n",
            "torchtext==0.11.0\n",
            "torchvision @ https://download.pytorch.org/whl/cu111/torchvision-0.11.1%2Bcu111-cp37-cp37m-linux_x86_64.whl\n"
          ]
        }
      ]
    },
    {
      "cell_type": "markdown",
      "metadata": {
        "id": "tXFG2H0J1__r"
      },
      "source": [
        "### Fetch Model Data"
      ]
    },
    {
      "cell_type": "code",
      "metadata": {
        "colab": {
          "base_uri": "https://localhost:8080/"
        },
        "id": "8wZwtgirHWr7",
        "outputId": "f55a6b7d-949c-4a8e-f1ba-67ffe652931c"
      },
      "source": [
        "!cp -r \"$model_path/10kgnad_fastai2/\" model\n",
        "!ls -lah model"
      ],
      "execution_count": 12,
      "outputs": [
        {
          "output_type": "stream",
          "name": "stdout",
          "text": [
            "total 202M\n",
            "drwx------ 3 root root 4.0K Dec  5 19:42 .\n",
            "drwxr-xr-x 1 root root 4.0K Dec  5 19:42 ..\n",
            "drwx------ 2 root root 4.0K Dec  5 19:42 10kgnad_fastai2\n",
            "-rw------- 1 root root 502K Dec  5 19:42 de_15k_spm.model\n",
            "-rw------- 1 root root 283K Dec  5 19:42 de_15k_spm.vocab\n",
            "-rw------- 1 root root 101M Dec  5 19:42 de_lm_finetune_encoder.pth\n",
            "-rw------- 1 root root 101M Dec  5 19:42 de_lm_finetune_model.pth\n",
            "-rw------- 1 root root 284K Dec  5 19:42 de_lm_finetune_vocab.pkl\n"
          ]
        }
      ]
    },
    {
      "cell_type": "markdown",
      "metadata": {
        "id": "bjrb5y-0HyU1"
      },
      "source": [
        "### Fetch Data"
      ]
    },
    {
      "cell_type": "code",
      "metadata": {
        "colab": {
          "base_uri": "https://localhost:8080/"
        },
        "id": "bab11nXS11l2",
        "outputId": "f9d20819-0c7a-4a4b-918a-8835b336e0cd"
      },
      "source": [
        "%env DIR=data\n",
        "\n",
        "!mkdir -p $DIR\n",
        "!wget -nc https://github.com/tblock/10kGNAD/blob/master/train.csv?raw=true -nv -O $DIR/train.csv\n",
        "!wget -nc https://github.com/tblock/10kGNAD/blob/master/test.csv?raw=true -nv -O $DIR/test.csv\n",
        "!ls -lAh $DIR | cut -d \" \" -f 5-"
      ],
      "execution_count": 13,
      "outputs": [
        {
          "output_type": "stream",
          "name": "stdout",
          "text": [
            "env: DIR=data\n",
            "2021-12-05 19:43:32 URL:https://raw.githubusercontent.com/tblock/10kGNAD/master/train.csv [24405789/24405789] -> \"data/train.csv\" [1]\n",
            "2021-12-05 19:43:33 URL:https://raw.githubusercontent.com/tblock/10kGNAD/master/test.csv [2755020/2755020] -> \"data/test.csv\" [1]\n",
            "\n",
            "2.7M Dec  5 19:43 test.csv\n",
            " 24M Dec  5 19:43 train.csv\n"
          ]
        }
      ]
    },
    {
      "cell_type": "markdown",
      "metadata": {
        "id": "QiECesEaAEs9"
      },
      "source": [
        "### Import Data"
      ]
    },
    {
      "cell_type": "code",
      "metadata": {
        "id": "dTxS8SbNAGT7"
      },
      "source": [
        "import pandas as pd\n",
        "\n",
        "data_dir = Path(\"data/\")\n",
        "\n",
        "train_file = data_dir / 'train.csv'\n",
        "test_file = data_dir / 'test.csv'\n",
        "\n",
        "def read_csv_10kGNAD(filepath: Path, columns=[\"labels\", \"text\"]) -> pd.DataFrame:\n",
        "    \"\"\"Load 10kGNAD csv file, handling its specific file format.\"\"\"\n",
        "    f = pd.read_csv(filepath, sep=\";\", quotechar=\"'\", names=columns)\n",
        "    return f"
      ],
      "execution_count": 16,
      "outputs": []
    },
    {
      "cell_type": "code",
      "metadata": {
        "colab": {
          "base_uri": "https://localhost:8080/",
          "height": 224
        },
        "id": "7VSk4nZHAf60",
        "outputId": "4289ee36-cf37-48c7-f83f-fe1b12e5776d"
      },
      "source": [
        "train_df = read_csv_10kGNAD(data_dir / 'train.csv')\n",
        "print(train_df.shape[0], 'articles')\n",
        "display(train_df.head())"
      ],
      "execution_count": 17,
      "outputs": [
        {
          "output_type": "stream",
          "name": "stdout",
          "text": [
            "9245 articles\n"
          ]
        },
        {
          "output_type": "display_data",
          "data": {
            "text/html": [
              "<div>\n",
              "<style scoped>\n",
              "    .dataframe tbody tr th:only-of-type {\n",
              "        vertical-align: middle;\n",
              "    }\n",
              "\n",
              "    .dataframe tbody tr th {\n",
              "        vertical-align: top;\n",
              "    }\n",
              "\n",
              "    .dataframe thead th {\n",
              "        text-align: right;\n",
              "    }\n",
              "</style>\n",
              "<table border=\"1\" class=\"dataframe\">\n",
              "  <thead>\n",
              "    <tr style=\"text-align: right;\">\n",
              "      <th></th>\n",
              "      <th>labels</th>\n",
              "      <th>text</th>\n",
              "    </tr>\n",
              "  </thead>\n",
              "  <tbody>\n",
              "    <tr>\n",
              "      <th>0</th>\n",
              "      <td>Sport</td>\n",
              "      <td>21-Jähriger fällt wohl bis Saisonende aus. Wie...</td>\n",
              "    </tr>\n",
              "    <tr>\n",
              "      <th>1</th>\n",
              "      <td>Kultur</td>\n",
              "      <td>Erfundene Bilder zu Filmen, die als verloren g...</td>\n",
              "    </tr>\n",
              "    <tr>\n",
              "      <th>2</th>\n",
              "      <td>Web</td>\n",
              "      <td>Der frischgekürte CEO Sundar Pichai setzt auf ...</td>\n",
              "    </tr>\n",
              "    <tr>\n",
              "      <th>3</th>\n",
              "      <td>Wirtschaft</td>\n",
              "      <td>Putin: \"Einigung, dass wir Menge auf Niveau vo...</td>\n",
              "    </tr>\n",
              "    <tr>\n",
              "      <th>4</th>\n",
              "      <td>Inland</td>\n",
              "      <td>Estland sieht den künftigen österreichischen P...</td>\n",
              "    </tr>\n",
              "  </tbody>\n",
              "</table>\n",
              "</div>"
            ],
            "text/plain": [
              "       labels                                               text\n",
              "0       Sport  21-Jähriger fällt wohl bis Saisonende aus. Wie...\n",
              "1      Kultur  Erfundene Bilder zu Filmen, die als verloren g...\n",
              "2         Web  Der frischgekürte CEO Sundar Pichai setzt auf ...\n",
              "3  Wirtschaft  Putin: \"Einigung, dass wir Menge auf Niveau vo...\n",
              "4      Inland  Estland sieht den künftigen österreichischen P..."
            ]
          },
          "metadata": {}
        }
      ]
    },
    {
      "cell_type": "code",
      "metadata": {
        "colab": {
          "base_uri": "https://localhost:8080/",
          "height": 224
        },
        "id": "ixU1xX9jANqv",
        "outputId": "4f774b5e-bcec-47d1-9c2a-f1f01d817532"
      },
      "source": [
        "test_df = read_csv_10kGNAD(data_dir / 'test.csv')\n",
        "print(test_df.shape[0], 'articles')\n",
        "display(test_df.head())"
      ],
      "execution_count": 18,
      "outputs": [
        {
          "output_type": "stream",
          "name": "stdout",
          "text": [
            "1028 articles\n"
          ]
        },
        {
          "output_type": "display_data",
          "data": {
            "text/html": [
              "<div>\n",
              "<style scoped>\n",
              "    .dataframe tbody tr th:only-of-type {\n",
              "        vertical-align: middle;\n",
              "    }\n",
              "\n",
              "    .dataframe tbody tr th {\n",
              "        vertical-align: top;\n",
              "    }\n",
              "\n",
              "    .dataframe thead th {\n",
              "        text-align: right;\n",
              "    }\n",
              "</style>\n",
              "<table border=\"1\" class=\"dataframe\">\n",
              "  <thead>\n",
              "    <tr style=\"text-align: right;\">\n",
              "      <th></th>\n",
              "      <th>labels</th>\n",
              "      <th>text</th>\n",
              "    </tr>\n",
              "  </thead>\n",
              "  <tbody>\n",
              "    <tr>\n",
              "      <th>0</th>\n",
              "      <td>Wirtschaft</td>\n",
              "      <td>Die Gewerkschaft GPA-djp lanciert den \"All-in-...</td>\n",
              "    </tr>\n",
              "    <tr>\n",
              "      <th>1</th>\n",
              "      <td>Sport</td>\n",
              "      <td>Franzosen verteidigen 2:1-Führung – Kritische ...</td>\n",
              "    </tr>\n",
              "    <tr>\n",
              "      <th>2</th>\n",
              "      <td>Web</td>\n",
              "      <td>Neues Video von Designern macht im Netz die Ru...</td>\n",
              "    </tr>\n",
              "    <tr>\n",
              "      <th>3</th>\n",
              "      <td>Sport</td>\n",
              "      <td>23-jähriger Brasilianer muss vier Spiele pausi...</td>\n",
              "    </tr>\n",
              "    <tr>\n",
              "      <th>4</th>\n",
              "      <td>International</td>\n",
              "      <td>Aufständische verwendeten Chemikalie bei Gefec...</td>\n",
              "    </tr>\n",
              "  </tbody>\n",
              "</table>\n",
              "</div>"
            ],
            "text/plain": [
              "          labels                                               text\n",
              "0     Wirtschaft  Die Gewerkschaft GPA-djp lanciert den \"All-in-...\n",
              "1          Sport  Franzosen verteidigen 2:1-Führung – Kritische ...\n",
              "2            Web  Neues Video von Designern macht im Netz die Ru...\n",
              "3          Sport  23-jähriger Brasilianer muss vier Spiele pausi...\n",
              "4  International  Aufständische verwendeten Chemikalie bei Gefec..."
            ]
          },
          "metadata": {}
        }
      ]
    },
    {
      "cell_type": "markdown",
      "metadata": {
        "id": "Ees21YDMIND4"
      },
      "source": [
        "## Create Model"
      ]
    },
    {
      "cell_type": "code",
      "metadata": {
        "id": "afrnE9T967rc"
      },
      "source": [
        "from fastai.text.all import *\n",
        "\n",
        "lang= \"de\"\n",
        "\n",
        "tok = SentencePieceTokenizer(lang=lang, sp_model=\"model/de_15k_spm.model\")"
      ],
      "execution_count": 19,
      "outputs": []
    },
    {
      "cell_type": "code",
      "metadata": {
        "id": "OWvbOMnoInG8"
      },
      "source": [
        "lm_ft_fns = [(f'{os.getcwd()}/model/de_lm_finetune_model'), \n",
        "             (f'{os.getcwd()}/model/de_lm_finetune_vocab.pkl'),\n",
        "             (f'{os.getcwd()}/model/de_lm_finetune_encoder')]\n",
        "\n",
        "with open(f'{lm_ft_fns[1]}', 'rb') as f:\n",
        "      vocab = pickle.load(f)"
      ],
      "execution_count": 44,
      "outputs": []
    },
    {
      "cell_type": "code",
      "metadata": {
        "colab": {
          "base_uri": "https://localhost:8080/",
          "height": 72
        },
        "id": "NyGDCmISJRkV",
        "outputId": "17d7f655-64c5-4299-dd2a-fa532db642af"
      },
      "source": [
        "bs=64\n",
        "num_workers=18\n",
        "\n",
        "dblocks = DataBlock(blocks=(TextBlock.from_df('text', tok=tok, vocab=vocab, backwards=False), CategoryBlock),\n",
        "                    get_x=ColReader('text'),\n",
        "                    get_y=ColReader('labels'), \n",
        "                    # splitter=ColSplitter()\n",
        "                    splitter=RandomSplitter(valid_pct=0.1, seed=42))\n",
        "dls = dblocks.dataloaders(train_df, bs=bs, num_workers=num_workers)"
      ],
      "execution_count": 26,
      "outputs": [
        {
          "output_type": "display_data",
          "data": {
            "text/html": [
              ""
            ],
            "text/plain": [
              "<IPython.core.display.HTML object>"
            ]
          },
          "metadata": {}
        },
        {
          "output_type": "stream",
          "name": "stderr",
          "text": [
            "/usr/local/lib/python3.7/dist-packages/numpy/core/_asarray.py:83: VisibleDeprecationWarning: Creating an ndarray from ragged nested sequences (which is a list-or-tuple of lists-or-tuples-or ndarrays with different lengths or shapes) is deprecated. If you meant to do this, you must specify 'dtype=object' when creating the ndarray\n",
            "  return array(a, dtype, copy=False, order=order)\n"
          ]
        }
      ]
    },
    {
      "cell_type": "code",
      "metadata": {
        "colab": {
          "base_uri": "https://localhost:8080/"
        },
        "id": "mps5g-ejJ5mm",
        "outputId": "b6130e1c-c3ff-40cc-8704-4701558940fb"
      },
      "source": [
        "dls.vocab[1]"
      ],
      "execution_count": 27,
      "outputs": [
        {
          "output_type": "execute_result",
          "data": {
            "text/plain": [
              "['Etat', 'Inland', 'International', 'Kultur', 'Panorama', 'Sport', 'Web', 'Wirtschaft', 'Wissenschaft']"
            ]
          },
          "metadata": {},
          "execution_count": 27
        }
      ]
    },
    {
      "cell_type": "code",
      "metadata": {
        "colab": {
          "base_uri": "https://localhost:8080/"
        },
        "id": "WWAcJCJ0QOxk",
        "outputId": "756e8370-9305-46ef-df00-5868374a835c"
      },
      "source": [
        "len(dls.train), len(dls.valid)"
      ],
      "execution_count": 29,
      "outputs": [
        {
          "output_type": "execute_result",
          "data": {
            "text/plain": [
              "(130, 15)"
            ]
          },
          "metadata": {},
          "execution_count": 29
        }
      ]
    },
    {
      "cell_type": "code",
      "metadata": {
        "colab": {
          "base_uri": "https://localhost:8080/",
          "height": 853
        },
        "id": "WOqRN0UxQHF4",
        "outputId": "2f9fc640-5beb-41a1-ba9b-b0dfc4ec6d45"
      },
      "source": [
        "dls.show_batch()"
      ],
      "execution_count": 28,
      "outputs": [
        {
          "output_type": "display_data",
          "data": {
            "text/html": [
              "<table border=\"1\" class=\"dataframe\">\n",
              "  <thead>\n",
              "    <tr style=\"text-align: right;\">\n",
              "      <th></th>\n",
              "      <th>text</th>\n",
              "      <th>category</th>\n",
              "    </tr>\n",
              "  </thead>\n",
              "  <tbody>\n",
              "    <tr>\n",
              "      <th>0</th>\n",
              "      <td>▁xxbos ▁xxmaj ▁neues ▁xxmaj ▁windows ▁wird ▁seit ▁xxmaj ▁mittwoch ▁als ▁xxmaj ▁download ▁an ▁private ▁xxmaj ▁nutzer ▁verteilt . ▁xxmaj ▁da ▁ist ▁es ▁nun ▁also . ▁xxmaj ▁das ▁erste ▁xxmaj ▁windows ▁unter ▁der ▁ ä gi de ▁des ▁neuen ▁microsoft - chefs ▁xxmaj ▁ sat ya ▁xxmaj ▁nadella . ▁xxmaj ▁und ▁sein ▁xxmaj ▁baby ▁namens ▁xxmaj ▁windows ▁10 ▁soll ▁nicht ▁nur ▁jene ▁xxmaj ▁nutzer ▁zurück gewinn en , ▁die ▁mit ▁dem ▁zu ▁radikal ▁auf ▁xxmaj ▁touch ▁first ▁ausgerichtet en ▁xxmaj ▁windows ▁8 ▁nichts ▁anfang en ▁konnten , ▁sondern ▁auch ▁die ▁ ära ▁von ▁xxmaj ▁windows ▁10 ▁als ▁xxmaj ▁dienst leistung ▁ein leit en . ▁xxmaj ▁seit ▁heute ▁verteilt ▁xxmaj ▁microsoft ▁sein ▁neues ▁xxmaj ▁betriebssystem ▁xxmaj ▁windows ▁10 ▁an ▁private ▁xxmaj ▁ anwender ▁– ▁als ▁xxmaj ▁download . ▁xxmaj ▁das ▁xxmaj ▁ upgrade ▁gibt ▁es ▁kostenlos ▁für ▁alle , ▁die ▁derzeit ▁mit ▁xxmaj ▁windows ▁ 7 ▁oder ▁8 ▁arbeiten . ▁xxmaj ▁später</td>\n",
              "      <td>Web</td>\n",
              "    </tr>\n",
              "    <tr>\n",
              "      <th>1</th>\n",
              "      <td>▁xxbos ▁\" w o ▁sind ▁xxmaj ▁sie ▁daheim ? \" ▁xxmaj ▁diese ▁xxmaj ▁frage ▁war ▁schwer ▁zu ▁beantworten . ▁xxmaj ▁david ▁st ach ▁mit ▁dem ▁xxmaj ▁zeige finger ▁auf ▁seine ▁xxmaj ▁brust ▁und ▁sagte : ▁\" i ▁am ▁from ▁xxmaj ▁ sy ria , ▁ i ▁am ▁ a ▁masse ur , ▁now ▁in ▁la a - an - der - th aya \" ▁– ▁das ▁ging ▁ihm ▁schon ▁ganz ▁gut ▁von ▁den ▁xxmaj ▁ li pp en . ▁xxmaj ▁am ▁27. ▁xxmaj ▁august ▁2015 ▁stieg ▁der ▁xxmaj ▁mann ▁in ▁den ▁weißen ▁xxmaj ▁bus ▁mit ▁drei ▁grünen ▁xxmaj ▁ tan n en ▁an ▁der ▁xxmaj ▁seite , ▁ bezahlte ▁beim ▁xxmaj ▁fahrer ▁15 ▁xxmaj ▁euro : ▁la a - an - der - th aya , ▁ ple as e , ▁ging ▁die ▁xxmaj ▁ reihen ▁entlang ▁und ▁wählte ▁einen ▁der ▁hinter en ▁xxmaj ▁plätze . ▁xxmaj ▁den ▁kleinen ▁xxmaj</td>\n",
              "      <td>Panorama</td>\n",
              "    </tr>\n",
              "    <tr>\n",
              "      <th>2</th>\n",
              "      <td>▁xxbos ▁xxmaj ▁kurz ▁vor ▁xxmaj ▁beginn ▁der ▁xxup ▁wm ▁ pla ud ert ▁österreichs ▁neuseeländische r ▁xxmaj ▁ teamchef ▁aus ▁dem ▁xxmaj ▁ n ä h k ä st chen : ▁\" geht ▁nicht \" ▁gibt ▁es ▁für ▁den ▁ leidenschaft lichen ▁xxmaj ▁sport s mann ▁nicht . ▁xxmaj ▁philip ▁xxmaj ▁ lo ft y ▁xxmaj ▁steve n son ▁ist ▁der ▁erste ▁profi - trainer ▁in ▁der ▁noch ▁nicht ▁gar ▁so ▁langen ▁ r ug by - hi s to rie ▁österreichs . ▁xxmaj ▁seit ▁zwei ▁xxmaj ▁jahren ▁ coach t ▁er ▁die ▁österreichische ▁xxmaj ▁national mannschaft , ▁doch ▁ist ▁der ▁50 - jährige ▁viel ▁mehr ▁als ▁bloß ▁xxmaj ▁ teamchef . ▁xxmaj ▁seine ▁xxmaj ▁ mission : ▁den ▁xxmaj ▁sport ▁in ▁allen ▁xxmaj ▁ face tten ▁auf ▁ein ▁höhere s ▁xxmaj ▁entwicklungs niveau ▁zu ▁ hi e ven ▁– ▁ organisator isch , ▁spieler isch , ▁überhaupt . ▁xxmaj</td>\n",
              "      <td>Sport</td>\n",
              "    </tr>\n",
              "    <tr>\n",
              "      <th>3</th>\n",
              "      <td>▁xxbos ▁xxmaj ▁stich t ▁mit ▁xxmaj ▁mut ▁zu ▁ungewöhnlich em ▁xxmaj ▁design ▁und ▁frisch en ▁xxmaj ▁software konzept en ▁aus ▁der ▁xxmaj ▁masse ▁heraus . ▁xxmaj ▁es ▁passiert ▁nur ▁selten , ▁dass ▁ein ▁neues ▁xxmaj ▁smartphone ▁in ▁der ▁xxmaj ▁ redaktion ▁ein tri ff t , ▁das ▁wirklich ▁aus ▁der ▁xxmaj ▁masse ▁heraus s ti cht . ▁xxmaj ▁scheint ▁es ▁doch ▁fast ▁so , ▁als ▁hätten ▁sich ▁die ▁großen ▁xxmaj ▁hersteller ▁mittlerweile ▁allesamt ▁auf ▁eine ▁gemeinsame ▁design - linie ▁geeinigt . ▁xxmaj ▁um ▁so ▁er fr ischen der ▁ist ▁es , ▁wenn ▁dann ▁einmal ▁ein ▁xxmaj ▁smartphone ▁auf taucht , ▁das ▁aus ▁dieser ▁xxmaj ▁ uniform ität ▁aus bricht ▁– ▁vor ▁allem , ▁wenn ▁es ▁von ▁einem ▁xxmaj ▁new com er ▁kommt , ▁der ▁noch ▁dazu ▁mit ▁frisch en ▁xxmaj ▁software ide en ▁auf wart en ▁kann . ▁xxmaj ▁robin ▁heißt ▁das ▁erste ▁xxmaj ▁smartphone ▁von ▁xxmaj ▁ n ex</td>\n",
              "      <td>Web</td>\n",
              "    </tr>\n",
              "    <tr>\n",
              "      <th>4</th>\n",
              "      <td>▁xxbos ▁xxmaj ▁dichter in ▁xxmaj ▁ fried er ik e ▁xxmaj ▁ mayr öck er ▁über ▁das ▁xxmaj ▁nicht suche n ▁und ▁xxmaj ▁nicht finden , ▁ihren ▁xxmaj ▁heiligen ▁xxmaj ▁ geist ▁der ▁xxmaj ▁er le uch t ung ▁und ▁den ▁xxmaj ▁tod ▁als ▁xxmaj ▁ skandal . ▁xxup ▁standard : ▁xxmaj ▁ich ▁habe ▁xxmaj ▁ihnen ▁eine ▁weiße ▁xxmaj ▁ li lie ▁mit gebracht . ▁xxmaj ▁sie ▁lieben ▁die ▁xxmaj ▁natur , ▁xxmaj ▁blumen , ▁besonders ▁xxmaj ▁ li li en . ▁xxmaj ▁ mayr öck er : ▁xxmaj ▁je ▁älter ▁ich ▁werde , ▁ desto ▁mehr ▁liebe ▁ich ▁die ▁xxmaj ▁natur . ▁xxup ▁standard : ▁xxmaj ▁so ▁ge pr ä gt ▁sind ▁xxmaj ▁sie ▁von ▁xxmaj ▁ihren ▁xxmaj ▁ aufenthalt en ▁als ▁xxmaj ▁kind ▁im ▁xxmaj ▁wein v iert ler ▁xxmaj ▁de in zen dorf , ▁wo ▁xxmaj ▁ihre ▁xxmaj ▁eltern ▁ein ▁xxmaj ▁haus ▁hatten ? ▁xxmaj ▁ mayr</td>\n",
              "      <td>Wirtschaft</td>\n",
              "    </tr>\n",
              "    <tr>\n",
              "      <th>5</th>\n",
              "      <td>▁xxbos ▁xxmaj ▁der ▁xxmaj ▁umgang ▁mit ▁dem ▁bisher ▁größten ▁xxmaj ▁atom unfall ▁am ▁26. ▁xxmaj ▁april ▁1986 ▁ist ▁von ▁xxmaj ▁ver dr ä n g ung ▁ge pr ä gt . ▁xxmaj ▁es ▁war ▁xxmaj ▁nacht ▁und ▁stock fin ster , ▁als ▁xxmaj ▁ n ata lia ▁xxmaj ▁ ter e scht schen ko ▁ihr ▁xxmaj ▁fahr ziel ▁erreichte . ▁xxmaj ▁die ▁ ä r z t in ▁bekam ▁wenige ▁xxmaj ▁tage ▁zuvor ▁den ▁xxmaj ▁auftrag ▁für ▁eine ▁xxmaj ▁dienst reise . ▁xxmaj ▁ zweck : ▁unbekannt . ▁xxmaj ▁ort : ▁unbekannt . ▁xxmaj ▁fragen : ▁unerwünscht . ▁xxmaj ▁die ▁xxmaj ▁mit reisende n ▁im ▁xxmaj ▁bus ▁waren ▁genauso ▁ahnung s los ▁wie ▁sie . ▁xxmaj ▁die ▁35- jährige ▁hatte ▁xxmaj ▁pro vi ant ▁für ▁drei ▁xxmaj ▁tage ▁ein gepackt , ▁sich ▁von ▁ihrem ▁xxmaj ▁mann ▁und ▁den ▁zwei ▁kleinen ▁xxmaj ▁kindern ▁in ▁xxmaj ▁char ki w ▁im ▁xxmaj ▁osten</td>\n",
              "      <td>Panorama</td>\n",
              "    </tr>\n",
              "    <tr>\n",
              "      <th>6</th>\n",
              "      <td>▁xxbos ▁xxmaj ▁smartphone ▁überzeugt ▁mit ▁guter ▁xxmaj ▁kamera ▁und ▁ hochauflösende m ▁xxmaj ▁ display ▁– ▁die ▁xxmaj ▁software ▁nicht . ▁xxmaj ▁windows ▁10 ▁xxmaj ▁mobile ▁stellt ▁nach ▁xxmaj ▁windows ▁xxmaj ▁ phone ▁ 7 ▁und ▁xxmaj ▁windows ▁xxmaj ▁ phone ▁8 ▁bereits ▁den ▁dritten ▁xxmaj ▁kurs wechsel ▁von ▁xxmaj ▁microsofts ▁smartphone - bemühungen ▁in ▁nur ▁wenigen ▁xxmaj ▁jahren ▁dar . ▁xxmaj ▁nennenswerte ▁xxmaj ▁erfolge ▁blieben ▁dem ▁xxmaj ▁konzern ▁trotz ▁seiner ▁xxmaj ▁marktführer schaft ▁am ▁pc - markt ▁aber ▁verwehrt . ▁xxmaj ▁wie ▁bringt ▁man ▁die ▁xxmaj ▁kunden ▁also ▁gerade ▁jetzt ▁zur ▁eigenen ▁xxmaj ▁plattform ? ▁xxmaj ▁durch ▁ausge kl ügel te ▁xxmaj ▁geräte , ▁gut ▁durch dach te ▁xxmaj ▁funktionen ▁und ▁ausge reif te ▁xxmaj ▁software ▁zu ▁einem ▁angemessen en ▁xxmaj ▁preis . ▁xxmaj ▁das ▁xxmaj ▁lumia ▁950 , ▁das ▁neue ▁ flag g schiff - smartphone ▁mit ▁xxmaj ▁windows ▁10 ▁xxmaj ▁mobile , ▁verfehlt ▁diese ▁xxmaj ▁ziele ▁aber</td>\n",
              "      <td>Web</td>\n",
              "    </tr>\n",
              "    <tr>\n",
              "      <th>7</th>\n",
              "      <td>▁xxbos ▁xxmaj ▁play to ge ther n ow . ▁xxmaj ▁so ▁heißt ▁eine ▁xxmaj ▁initiative ▁mit ▁drei ß ig ▁xxmaj ▁helfer n , ▁die ▁xxmaj ▁flüchtlinge ▁in ▁einer ▁xxmaj ▁schule ▁in ▁xxmaj ▁ stadl au ▁zum ▁xxmaj ▁fußball spielen ▁bringt . ▁xxmaj ▁bei ▁einem ▁xxmaj ▁verein ▁in ▁xxmaj ▁ hetze n dorf ▁kämpft ▁der weil ▁ein ▁junger ▁xxmaj ▁syrer ▁um ▁sein ▁xxmaj ▁leib erl ▁und ▁seinen ▁xxmaj ▁traum . ▁xxmaj ▁von ▁der ▁in te gra tiv en ▁xxmaj ▁macht ▁des ▁xxmaj ▁sport s . ▁xxmaj ▁wien ▁– ▁xxmaj ▁da ▁sind ▁ein ▁paar ▁ordentlich e ▁xxmaj ▁fahrer ▁auf ▁dem ▁xxmaj ▁park ett bo den , ▁die ▁können ▁nur ▁von ▁schwarzen ▁xxmaj ▁ schuh s ohlen ▁stammen , ▁dabei ▁ist ▁hier ▁das ▁xxmaj ▁fußball spielen ▁mit ▁xxmaj ▁ schuh en , ▁die ▁eine ▁schwarze ▁xxmaj ▁so hl e ▁haben , ▁ausdrücklich ▁verboten , ▁das ▁kann ▁doch ▁bitte ▁nicht ▁sein . ▁xxmaj ▁der</td>\n",
              "      <td>Sport</td>\n",
              "    </tr>\n",
              "    <tr>\n",
              "      <th>8</th>\n",
              "      <td>▁xxbos ▁xxmaj ▁palmer ▁xxmaj ▁lucke y ▁und ▁xxmaj ▁ br en dan ▁xxmaj ▁ iri be ▁sowie ▁mor ph e us - entwickler ▁xxmaj ▁ r ay n ard ▁über ▁die ▁xxmaj ▁chancen ▁und ▁xxmaj ▁gefahren ▁virtuelle r ▁xxmaj ▁realität . ▁xxmaj ▁in ▁den ▁xxmaj ▁ hallen , ▁in ▁denen ▁in ▁den ▁kommenden ▁xxmaj ▁tagen ▁bis ▁xxmaj ▁sonntag ▁fast ▁400 . ▁xxrep ▁3 ▁0 ▁xxmaj ▁menschen ▁in ▁xxmaj ▁ za um ▁gehalten ▁werden ▁müssen ▁und ▁die ▁xxmaj ▁massen ▁zwischen ▁ohr en be t äu ben der ▁xxmaj ▁ animation s musik ▁und ▁ end los ▁gr ell ▁ leuchten den ▁xxmaj ▁video lein wände n ▁und ▁good ie - ver lock ungen ▁zu ▁den ▁großen ▁xxmaj ▁games ▁der ▁nächsten ▁xxmaj ▁monate ▁ geleitet ▁werden , ▁finden ▁sich ▁die ▁spannend sten ▁neuen ▁xxmaj ▁ver lock ungen ▁der ▁xxmaj ▁videospiel industrie ▁in ▁den ▁weit ▁kleineren ▁und ▁schlicht er en ▁xxmaj ▁ räumen</td>\n",
              "      <td>Web</td>\n",
              "    </tr>\n",
              "  </tbody>\n",
              "</table>"
            ],
            "text/plain": [
              "<IPython.core.display.HTML object>"
            ]
          },
          "metadata": {}
        }
      ]
    },
    {
      "cell_type": "markdown",
      "metadata": {
        "id": "nMhxdIVHRaBg"
      },
      "source": [
        "## Train Model"
      ]
    },
    {
      "cell_type": "code",
      "metadata": {
        "id": "MYuSgMj4QHpP"
      },
      "source": [
        "avg = 'macro'\n",
        "metrics=[accuracy, Precision(average=avg), Recall(average=avg), F1Score(average=avg)]"
      ],
      "execution_count": 30,
      "outputs": []
    },
    {
      "cell_type": "code",
      "metadata": {
        "id": "h-FLxxrWRbZs"
      },
      "source": [
        "learn = text_classifier_learner(dls, AWD_LSTM, drop_mult=1, pretrained=False, \n",
        "                               metrics=metrics).to_fp16()\n",
        "# learn.path = model_path"
      ],
      "execution_count": 46,
      "outputs": []
    },
    {
      "cell_type": "code",
      "metadata": {
        "colab": {
          "base_uri": "https://localhost:8080/"
        },
        "id": "qAthxnuGRrgc",
        "outputId": "e2267d77-93c3-4712-d39a-297e86eb9522"
      },
      "source": [
        "# we only need the encoder\n",
        "learn.load_encoder(lm_ft_fns[2])"
      ],
      "execution_count": 48,
      "outputs": [
        {
          "output_type": "execute_result",
          "data": {
            "text/plain": [
              "<fastai.text.learner.TextLearner at 0x7faa8e1c4050>"
            ]
          },
          "metadata": {},
          "execution_count": 48
        }
      ]
    },
    {
      "cell_type": "code",
      "metadata": {
        "colab": {
          "base_uri": "https://localhost:8080/",
          "height": 301
        },
        "id": "8SxEPinMSBm8",
        "outputId": "057dd73b-e5b0-4f10-f488-8fecd4e54038"
      },
      "source": [
        "learn.lr_find()"
      ],
      "execution_count": 49,
      "outputs": [
        {
          "output_type": "display_data",
          "data": {
            "text/html": [
              ""
            ],
            "text/plain": [
              "<IPython.core.display.HTML object>"
            ]
          },
          "metadata": {}
        },
        {
          "output_type": "execute_result",
          "data": {
            "text/plain": [
              "SuggestedLRs(valley=0.002511886414140463)"
            ]
          },
          "metadata": {},
          "execution_count": 49
        },
        {
          "output_type": "display_data",
          "data": {
            "image/png": "[encoded data removed]",
            "text/plain": [
              "<Figure size 432x288 with 1 Axes>"
            ]
          },
          "metadata": {
            "needs_background": "light"
          }
        }
      ]
    },
    {
      "cell_type": "code",
      "metadata": {
        "colab": {
          "base_uri": "https://localhost:8080/"
        },
        "id": "HVpJTfUoT6N2",
        "outputId": "57972ae9-15fa-46cd-ed4e-52122b41b2a4"
      },
      "source": [
        "lr = 2e-3\n",
        "lr *= bs/48\n",
        "lr"
      ],
      "execution_count": 52,
      "outputs": [
        {
          "output_type": "execute_result",
          "data": {
            "text/plain": [
              "0.0026666666666666666"
            ]
          },
          "metadata": {},
          "execution_count": 52
        }
      ]
    },
    {
      "cell_type": "code",
      "metadata": {
        "colab": {
          "base_uri": "https://localhost:8080/",
          "height": 270
        },
        "id": "lHmw0oe7TrEi",
        "outputId": "709c95db-279d-4648-ab3e-43d6f64775a0"
      },
      "source": [
        "learn.fine_tune(5, lr, moms=(0.8,0.7,0.8), wd=0.1)"
      ],
      "execution_count": 53,
      "outputs": [
        {
          "output_type": "display_data",
          "data": {
            "text/html": [
              "<table border=\"1\" class=\"dataframe\">\n",
              "  <thead>\n",
              "    <tr style=\"text-align: left;\">\n",
              "      <th>epoch</th>\n",
              "      <th>train_loss</th>\n",
              "      <th>valid_loss</th>\n",
              "      <th>accuracy</th>\n",
              "      <th>precision_score</th>\n",
              "      <th>recall_score</th>\n",
              "      <th>f1_score</th>\n",
              "      <th>time</th>\n",
              "    </tr>\n",
              "  </thead>\n",
              "  <tbody>\n",
              "    <tr>\n",
              "      <td>0</td>\n",
              "      <td>0.993807</td>\n",
              "      <td>0.534702</td>\n",
              "      <td>0.817100</td>\n",
              "      <td>0.822046</td>\n",
              "      <td>0.792903</td>\n",
              "      <td>0.799285</td>\n",
              "      <td>00:56</td>\n",
              "    </tr>\n",
              "  </tbody>\n",
              "</table>"
            ],
            "text/plain": [
              "<IPython.core.display.HTML object>"
            ]
          },
          "metadata": {}
        },
        {
          "output_type": "display_data",
          "data": {
            "text/html": [
              "<table border=\"1\" class=\"dataframe\">\n",
              "  <thead>\n",
              "    <tr style=\"text-align: left;\">\n",
              "      <th>epoch</th>\n",
              "      <th>train_loss</th>\n",
              "      <th>valid_loss</th>\n",
              "      <th>accuracy</th>\n",
              "      <th>precision_score</th>\n",
              "      <th>recall_score</th>\n",
              "      <th>f1_score</th>\n",
              "      <th>time</th>\n",
              "    </tr>\n",
              "  </thead>\n",
              "  <tbody>\n",
              "    <tr>\n",
              "      <td>0</td>\n",
              "      <td>0.736728</td>\n",
              "      <td>0.482000</td>\n",
              "      <td>0.830087</td>\n",
              "      <td>0.838897</td>\n",
              "      <td>0.815440</td>\n",
              "      <td>0.821216</td>\n",
              "      <td>02:13</td>\n",
              "    </tr>\n",
              "    <tr>\n",
              "      <td>1</td>\n",
              "      <td>0.683906</td>\n",
              "      <td>0.463725</td>\n",
              "      <td>0.849567</td>\n",
              "      <td>0.860249</td>\n",
              "      <td>0.831223</td>\n",
              "      <td>0.842701</td>\n",
              "      <td>02:14</td>\n",
              "    </tr>\n",
              "    <tr>\n",
              "      <td>2</td>\n",
              "      <td>0.638055</td>\n",
              "      <td>0.442621</td>\n",
              "      <td>0.843074</td>\n",
              "      <td>0.856319</td>\n",
              "      <td>0.828064</td>\n",
              "      <td>0.837794</td>\n",
              "      <td>02:15</td>\n",
              "    </tr>\n",
              "    <tr>\n",
              "      <td>3</td>\n",
              "      <td>0.629830</td>\n",
              "      <td>0.416792</td>\n",
              "      <td>0.850649</td>\n",
              "      <td>0.858313</td>\n",
              "      <td>0.837460</td>\n",
              "      <td>0.844798</td>\n",
              "      <td>02:15</td>\n",
              "    </tr>\n",
              "    <tr>\n",
              "      <td>4</td>\n",
              "      <td>0.560555</td>\n",
              "      <td>0.415546</td>\n",
              "      <td>0.856061</td>\n",
              "      <td>0.861613</td>\n",
              "      <td>0.842436</td>\n",
              "      <td>0.848896</td>\n",
              "      <td>02:16</td>\n",
              "    </tr>\n",
              "  </tbody>\n",
              "</table>"
            ],
            "text/plain": [
              "<IPython.core.display.HTML object>"
            ]
          },
          "metadata": {}
        }
      ]
    },
    {
      "cell_type": "code",
      "metadata": {
        "colab": {
          "base_uri": "https://localhost:8080/",
          "height": 265
        },
        "id": "hQHUPTt1YSD_",
        "outputId": "f9787072-a56e-4c64-e68f-14e1c1786cf2"
      },
      "source": [
        "learn.recorder.plot_loss()"
      ],
      "execution_count": 54,
      "outputs": [
        {
          "output_type": "display_data",
          "data": {
            "image/png": "[encoded data removed]",
            "text/plain": [
              "<Figure size 432x288 with 1 Axes>"
            ]
          },
          "metadata": {
            "needs_background": "light"
          }
        }
      ]
    },
    {
      "cell_type": "code",
      "metadata": {
        "colab": {
          "base_uri": "https://localhost:8080/"
        },
        "id": "ipT2ilaPYzsH",
        "outputId": "ec716670-5923-4d54-8058-001adf0aff7b"
      },
      "source": [
        "model_path/f'de_lm_finetune_encoder'"
      ],
      "execution_count": 56,
      "outputs": [
        {
          "output_type": "execute_result",
          "data": {
            "text/plain": [
              "Path('/content/gdrive/My Drive/Colab Notebooks/nlp-classification/models/de_lm_finetune_encoder')"
            ]
          },
          "metadata": {},
          "execution_count": 56
        }
      ]
    },
    {
      "cell_type": "code",
      "metadata": {
        "colab": {
          "base_uri": "https://localhost:8080/"
        },
        "id": "WezbCGOkZO62",
        "outputId": "52e70c1d-bc77-4df4-a71d-b0a6c3928e8a"
      },
      "source": [
        "learn.to_fp32()"
      ],
      "execution_count": 58,
      "outputs": [
        {
          "output_type": "execute_result",
          "data": {
            "text/plain": [
              "<fastai.text.learner.TextLearner at 0x7faa8e1c4050>"
            ]
          },
          "metadata": {},
          "execution_count": 58
        }
      ]
    },
    {
      "cell_type": "code",
      "metadata": {
        "id": "8uUa9EOOYTK8"
      },
      "source": [
        "learn.export(model_path/f'de_cls_finetune.pkl')"
      ],
      "execution_count": 59,
      "outputs": []
    },
    {
      "cell_type": "markdown",
      "metadata": {
        "id": "26aJGGrraZA8"
      },
      "source": [
        "## Prediction"
      ]
    },
    {
      "cell_type": "code",
      "metadata": {
        "colab": {
          "base_uri": "https://localhost:8080/",
          "height": 86
        },
        "id": "PWncIimraa03",
        "outputId": "658809c8-aafe-45ef-943a-fb69a245aa62"
      },
      "source": [
        "learn.predict(\"Beim Spiel gegen Arminia Bielefeld konnte Müller wieder zum Zug kommen\")"
      ],
      "execution_count": 60,
      "outputs": [
        {
          "output_type": "display_data",
          "data": {
            "text/html": [
              ""
            ],
            "text/plain": [
              "<IPython.core.display.HTML object>"
            ]
          },
          "metadata": {}
        },
        {
          "output_type": "execute_result",
          "data": {
            "text/plain": [
              "('Sport',\n",
              " TensorText(5),\n",
              " TensorText([7.4133e-03, 1.7623e-02, 4.2638e-04, 1.9827e-02, 2.4012e-04, 9.4605e-01,\n",
              "         7.0021e-03, 8.4814e-04, 5.7048e-04]))"
            ]
          },
          "metadata": {},
          "execution_count": 60
        }
      ]
    },
    {
      "cell_type": "code",
      "metadata": {
        "colab": {
          "base_uri": "https://localhost:8080/",
          "height": 17
        },
        "id": "E81Ne7mYbwwL",
        "outputId": "b5d1225f-11f4-4008-81eb-e1a569224cda"
      },
      "source": [
        "test_dl = learn.dls.test_dl(test_df) # Create a test dataloader\n",
        "preds = learn.get_preds(dl = test_dl) # Make predictions on it"
      ],
      "execution_count": 96,
      "outputs": [
        {
          "output_type": "display_data",
          "data": {
            "text/html": [
              ""
            ],
            "text/plain": [
              "<IPython.core.display.HTML object>"
            ]
          },
          "metadata": {}
        }
      ]
    },
    {
      "cell_type": "code",
      "metadata": {
        "id": "05UDjavOcHoc"
      },
      "source": [
        "preds_df = pd.DataFrame([tensor.numpy() for tensor in preds[0]], columns=dls.vocab[1])"
      ],
      "execution_count": 97,
      "outputs": []
    },
    {
      "cell_type": "code",
      "metadata": {
        "colab": {
          "base_uri": "https://localhost:8080/",
          "height": 351
        },
        "id": "nHdzo5D9hpcE",
        "outputId": "5b68fc0f-250d-49cd-e007-d1998dca3f54"
      },
      "source": [
        "import sklearn.metrics as skm\n",
        "\n",
        "test_labels = test_df.labels\n",
        "pred_labels = preds_df.idxmax(axis=1)\n",
        "labels = dls.vocab[1]\n",
        "\n",
        "cm = skm.confusion_matrix(test_labels, pred_labels, labels=labels)\n",
        "cmd = skm.ConfusionMatrixDisplay(cm, display_labels=labels)\n",
        "cmd.plot(cmap=\"Blues\", xticks_rotation=\"vertical\")\n",
        "plt.title(\"Confusion Matrix\");"
      ],
      "execution_count": 99,
      "outputs": [
        {
          "output_type": "display_data",
          "data": {
            "image/png": "[encoded data removed]",
            "text/plain": [
              "<Figure size 432x288 with 2 Axes>"
            ]
          },
          "metadata": {
            "needs_background": "light"
          }
        }
      ]
    },
    {
      "cell_type": "code",
      "metadata": {
        "colab": {
          "base_uri": "https://localhost:8080/"
        },
        "id": "GFpXs2q-hMxa",
        "outputId": "30f0b5fc-0e69-4918-8da3-a7c8952b2b2f"
      },
      "source": [
        "print(skm.classification_report(test_labels, pred_labels))"
      ],
      "execution_count": 91,
      "outputs": [
        {
          "output_type": "stream",
          "name": "stdout",
          "text": [
            "               precision    recall  f1-score   support\n",
            "\n",
            "         Etat       0.92      0.66      0.77        67\n",
            "       Inland       0.77      0.84      0.80       102\n",
            "International       0.86      0.85      0.86       151\n",
            "       Kultur       0.93      0.80      0.86        54\n",
            "     Panorama       0.78      0.82      0.80       168\n",
            "        Sport       0.98      0.98      0.98       120\n",
            "          Web       0.86      0.93      0.89       168\n",
            "   Wirtschaft       0.78      0.77      0.78       141\n",
            " Wissenschaft       0.86      0.84      0.85        57\n",
            "\n",
            "     accuracy                           0.85      1028\n",
            "    macro avg       0.86      0.83      0.84      1028\n",
            " weighted avg       0.85      0.85      0.85      1028\n",
            "\n"
          ]
        }
      ]
    },
    {
      "cell_type": "code",
      "metadata": {
        "colab": {
          "base_uri": "https://localhost:8080/"
        },
        "id": "2wDSiNe_iNL4",
        "outputId": "3f2cffac-6201-40ac-fe4f-4639f8b01c58"
      },
      "source": [
        "from sklearn.metrics import f1_score, accuracy_score, precision_score, recall_score, hamming_loss, matthews_corrcoef\n",
        "\n",
        "print(f\"{accuracy_score(test_labels, pred_labels):.4} accuracy\")\n",
        "print(f\"{precision_score(test_labels, pred_labels, average='macro'):.4} precision (macro)\")\n",
        "print(f\"{recall_score(test_labels, pred_labels, average='macro'):.4} recall (macro)\")\n",
        "print(f\"{f1_score(test_labels, pred_labels, average='macro'):.4} f1 (marco)\")\n",
        "print(f\"{f1_score(test_labels, pred_labels, average='weighted'):.4} f1 (weighted)\")\n",
        "print(f\"{matthews_corrcoef(test_labels, pred_labels):.4} mcc\")\n",
        "print(f\"{hamming_loss(test_labels, pred_labels):.4} hamming loss\")"
      ],
      "execution_count": 100,
      "outputs": [
        {
          "output_type": "stream",
          "name": "stdout",
          "text": [
            "0.8463 accuracy\n",
            "0.8606 precision (macro)\n",
            "0.8325 recall (macro)\n",
            "0.8431 f1 (marco)\n",
            "0.8456 f1 (weighted)\n",
            "0.8238 mcc\n",
            "0.1537 hamming loss\n"
          ]
        }
      ]
    }
  ]
}