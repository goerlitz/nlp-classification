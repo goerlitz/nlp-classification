{
  "nbformat": 4,
  "nbformat_minor": 0,
  "metadata": {
    "colab": {
      "name": "LanguageModelFastAI.ipynb",
      "provenance": [],
      "collapsed_sections": [],
      "authorship_tag": "ABX9TyMjQHPbBXrCxJd+68pgbzmH",
      "include_colab_link": true
    },
    "kernelspec": {
      "name": "python3",
      "display_name": "Python 3"
    },
    "language_info": {
      "name": "python"
    },
    "accelerator": "GPU",
    "widgets": {
      "application/vnd.jupyter.widget-state+json": {
        "b8769896bebc4b0a8fb6b4ac5de5fe27": {
          "model_module": "@jupyter-widgets/controls",
          "model_name": "VBoxModel",
          "state": {
            "_view_name": "VBoxView",
            "_dom_classes": [],
            "_model_name": "VBoxModel",
            "_view_module": "@jupyter-widgets/controls",
            "_model_module_version": "1.5.0",
            "_view_count": null,
            "_view_module_version": "1.5.0",
            "box_style": "",
            "layout": "IPY_MODEL_9d3b069875774274890b39e95630d0b1",
            "_model_module": "@jupyter-widgets/controls",
            "children": [
              "IPY_MODEL_1784c2f8983947789609f68b1a935440",
              "IPY_MODEL_68f399ceecf4445d9b9bd20573a77b90"
            ]
          }
        },
        "9d3b069875774274890b39e95630d0b1": {
          "model_module": "@jupyter-widgets/base",
          "model_name": "LayoutModel",
          "state": {
            "_view_name": "LayoutView",
            "grid_template_rows": null,
            "right": null,
            "justify_content": null,
            "_view_module": "@jupyter-widgets/base",
            "overflow": null,
            "_model_module_version": "1.2.0",
            "_view_count": null,
            "flex_flow": null,
            "width": null,
            "min_width": null,
            "border": null,
            "align_items": null,
            "bottom": null,
            "_model_module": "@jupyter-widgets/base",
            "top": null,
            "grid_column": null,
            "overflow_y": null,
            "overflow_x": null,
            "grid_auto_flow": null,
            "grid_area": null,
            "grid_template_columns": null,
            "flex": null,
            "_model_name": "LayoutModel",
            "justify_items": null,
            "grid_row": null,
            "max_height": null,
            "align_content": null,
            "visibility": null,
            "align_self": null,
            "height": null,
            "min_height": null,
            "padding": null,
            "grid_auto_rows": null,
            "grid_gap": null,
            "max_width": null,
            "order": null,
            "_view_module_version": "1.2.0",
            "grid_template_areas": null,
            "object_position": null,
            "object_fit": null,
            "grid_auto_columns": null,
            "margin": null,
            "display": null,
            "left": null
          }
        },
        "1784c2f8983947789609f68b1a935440": {
          "model_module": "@jupyter-widgets/controls",
          "model_name": "LabelModel",
          "state": {
            "_view_name": "LabelView",
            "style": "IPY_MODEL_c1a66b11a4a34be5965541d9a9d0a60d",
            "_dom_classes": [],
            "description": "",
            "_model_name": "LabelModel",
            "placeholder": "​",
            "_view_module": "@jupyter-widgets/controls",
            "_model_module_version": "1.5.0",
            "value": " 506.68MB of 506.68MB uploaded (0.00MB deduped)\r",
            "_view_count": null,
            "_view_module_version": "1.5.0",
            "description_tooltip": null,
            "_model_module": "@jupyter-widgets/controls",
            "layout": "IPY_MODEL_fe3bd00f9c18407bbe23ab43a9b51bb1"
          }
        },
        "68f399ceecf4445d9b9bd20573a77b90": {
          "model_module": "@jupyter-widgets/controls",
          "model_name": "FloatProgressModel",
          "state": {
            "_view_name": "ProgressView",
            "style": "IPY_MODEL_272d8ff5ef304332bd7d92de3bc87ef2",
            "_dom_classes": [],
            "description": "",
            "_model_name": "FloatProgressModel",
            "bar_style": "",
            "max": 1,
            "_view_module": "@jupyter-widgets/controls",
            "_model_module_version": "1.5.0",
            "value": 1,
            "_view_count": null,
            "_view_module_version": "1.5.0",
            "orientation": "horizontal",
            "min": 0,
            "description_tooltip": null,
            "_model_module": "@jupyter-widgets/controls",
            "layout": "IPY_MODEL_1895885a8e6e4fbea6551933e6781cbe"
          }
        },
        "c1a66b11a4a34be5965541d9a9d0a60d": {
          "model_module": "@jupyter-widgets/controls",
          "model_name": "DescriptionStyleModel",
          "state": {
            "_view_name": "StyleView",
            "_model_name": "DescriptionStyleModel",
            "description_width": "",
            "_view_module": "@jupyter-widgets/base",
            "_model_module_version": "1.5.0",
            "_view_count": null,
            "_view_module_version": "1.2.0",
            "_model_module": "@jupyter-widgets/controls"
          }
        },
        "fe3bd00f9c18407bbe23ab43a9b51bb1": {
          "model_module": "@jupyter-widgets/base",
          "model_name": "LayoutModel",
          "state": {
            "_view_name": "LayoutView",
            "grid_template_rows": null,
            "right": null,
            "justify_content": null,
            "_view_module": "@jupyter-widgets/base",
            "overflow": null,
            "_model_module_version": "1.2.0",
            "_view_count": null,
            "flex_flow": null,
            "width": null,
            "min_width": null,
            "border": null,
            "align_items": null,
            "bottom": null,
            "_model_module": "@jupyter-widgets/base",
            "top": null,
            "grid_column": null,
            "overflow_y": null,
            "overflow_x": null,
            "grid_auto_flow": null,
            "grid_area": null,
            "grid_template_columns": null,
            "flex": null,
            "_model_name": "LayoutModel",
            "justify_items": null,
            "grid_row": null,
            "max_height": null,
            "align_content": null,
            "visibility": null,
            "align_self": null,
            "height": null,
            "min_height": null,
            "padding": null,
            "grid_auto_rows": null,
            "grid_gap": null,
            "max_width": null,
            "order": null,
            "_view_module_version": "1.2.0",
            "grid_template_areas": null,
            "object_position": null,
            "object_fit": null,
            "grid_auto_columns": null,
            "margin": null,
            "display": null,
            "left": null
          }
        },
        "272d8ff5ef304332bd7d92de3bc87ef2": {
          "model_module": "@jupyter-widgets/controls",
          "model_name": "ProgressStyleModel",
          "state": {
            "_view_name": "StyleView",
            "_model_name": "ProgressStyleModel",
            "description_width": "",
            "_view_module": "@jupyter-widgets/base",
            "_model_module_version": "1.5.0",
            "_view_count": null,
            "_view_module_version": "1.2.0",
            "bar_color": null,
            "_model_module": "@jupyter-widgets/controls"
          }
        },
        "1895885a8e6e4fbea6551933e6781cbe": {
          "model_module": "@jupyter-widgets/base",
          "model_name": "LayoutModel",
          "state": {
            "_view_name": "LayoutView",
            "grid_template_rows": null,
            "right": null,
            "justify_content": null,
            "_view_module": "@jupyter-widgets/base",
            "overflow": null,
            "_model_module_version": "1.2.0",
            "_view_count": null,
            "flex_flow": null,
            "width": null,
            "min_width": null,
            "border": null,
            "align_items": null,
            "bottom": null,
            "_model_module": "@jupyter-widgets/base",
            "top": null,
            "grid_column": null,
            "overflow_y": null,
            "overflow_x": null,
            "grid_auto_flow": null,
            "grid_area": null,
            "grid_template_columns": null,
            "flex": null,
            "_model_name": "LayoutModel",
            "justify_items": null,
            "grid_row": null,
            "max_height": null,
            "align_content": null,
            "visibility": null,
            "align_self": null,
            "height": null,
            "min_height": null,
            "padding": null,
            "grid_auto_rows": null,
            "grid_gap": null,
            "max_width": null,
            "order": null,
            "_view_module_version": "1.2.0",
            "grid_template_areas": null,
            "object_position": null,
            "object_fit": null,
            "grid_auto_columns": null,
            "margin": null,
            "display": null,
            "left": null
          }
        }
      }
    }
  },
  "cells": [
    {
      "cell_type": "markdown",
      "metadata": {
        "id": "view-in-github",
        "colab_type": "text"
      },
      "source": [
        "<a href=\"https://colab.research.google.com/github/goerlitz/nlp-classification/blob/main/notebooks/10kGNAD/colab/LanguageModelFastAI.ipynb\" target=\"_parent\"><img src=\"https://colab.research.google.com/assets/colab-badge.svg\" alt=\"Open In Colab\"/></a>"
      ]
    },
    {
      "cell_type": "markdown",
      "metadata": {
        "id": "owqsEqA2nq9b"
      },
      "source": [
        "## Prerequisites"
      ]
    },
    {
      "cell_type": "code",
      "metadata": {
        "colab": {
          "base_uri": "https://localhost:8080/"
        },
        "id": "_P-qltL0oX7G",
        "outputId": "1f768850-8604-48e6-b348-700efaa3f24a"
      },
      "source": [
        "# check installed version\n",
        "!pip freeze | grep -E \"torch|fastai\""
      ],
      "execution_count": 31,
      "outputs": [
        {
          "output_type": "stream",
          "text": [
            "fastai==1.0.61\n",
            "torch==1.8.1+cu101\n",
            "torchsummary==1.5.1\n",
            "torchtext==0.9.1\n",
            "torchvision==0.9.1+cu101\n"
          ],
          "name": "stdout"
        }
      ]
    },
    {
      "cell_type": "code",
      "metadata": {
        "id": "VlCxwe5AmxNe"
      },
      "source": [
        "from google.colab import drive\n",
        "from pathlib import Path\n",
        "import pandas as pd\n",
        "import matplotlib.pyplot as plt\n",
        "from fastai.text import *"
      ],
      "execution_count": 32,
      "outputs": []
    },
    {
      "cell_type": "markdown",
      "metadata": {
        "id": "aRvHmB7Gn6tS"
      },
      "source": [
        "### Mount Google Drive\n",
        "\n",
        "We will store all model in Google Drive"
      ]
    },
    {
      "cell_type": "code",
      "metadata": {
        "colab": {
          "base_uri": "https://localhost:8080/"
        },
        "id": "HWvpbb0hnysr",
        "outputId": "742ac018-8def-4e8e-b798-ad0b12a58a10"
      },
      "source": [
        "drive.mount('/content/gdrive')"
      ],
      "execution_count": 34,
      "outputs": [
        {
          "output_type": "stream",
          "text": [
            "Drive already mounted at /content/gdrive; to attempt to forcibly remount, call drive.mount(\"/content/gdrive\", force_remount=True).\n"
          ],
          "name": "stdout"
        }
      ]
    },
    {
      "cell_type": "markdown",
      "metadata": {
        "id": "w90tXCwMpB5k"
      },
      "source": [
        "## Download Data"
      ]
    },
    {
      "cell_type": "code",
      "metadata": {
        "colab": {
          "base_uri": "https://localhost:8080/"
        },
        "id": "S-ZIzBUZoIrm",
        "outputId": "7866d30e-cc77-4102-950e-0e2cc24bbe4e"
      },
      "source": [
        "!mkdir -p data\n",
        "!wget https://github.com/tblock/10kGNAD/blob/master/train.csv?raw=true -nv -O data/train.csv\n",
        "!wget https://github.com/tblock/10kGNAD/blob/master/test.csv?raw=true -nv -O data/test.csv\n",
        "!ls -lAh data"
      ],
      "execution_count": 35,
      "outputs": [
        {
          "output_type": "stream",
          "text": [
            "2021-04-19 21:33:12 URL:https://raw.githubusercontent.com/tblock/10kGNAD/master/train.csv [24405789/24405789] -> \"data/train.csv\" [1]\n",
            "2021-04-19 21:33:13 URL:https://raw.githubusercontent.com/tblock/10kGNAD/master/test.csv [2755020/2755020] -> \"data/test.csv\" [1]\n",
            "total 53M\n",
            "-rw-r--r-- 1 root root  27M Apr 19 21:22 10kgnad__lm.pkl\n",
            "-rw-r--r-- 1 root root 2.7M Apr 19 21:33 test.csv\n",
            "-rw-r--r-- 1 root root  24M Apr 19 21:33 train.csv\n"
          ],
          "name": "stdout"
        }
      ]
    },
    {
      "cell_type": "markdown",
      "metadata": {
        "id": "aTskIhwEpE9t"
      },
      "source": [
        "## Load Data"
      ]
    },
    {
      "cell_type": "code",
      "metadata": {
        "id": "aDI6t70NpDwk"
      },
      "source": [
        "root_path = Path(\"/content/gdrive/My Drive/\")\n",
        "drive_path = root_path / \"Colab Notebooks/nlp-classification/\"\n",
        "model_path = drive_path / \"model/\"\n",
        "\n",
        "data_path = Path(\"data/\")\n",
        "\n",
        "train_file = data_path / \"train.csv\"\n",
        "test_file = data_path / \"test.csv\""
      ],
      "execution_count": 92,
      "outputs": []
    },
    {
      "cell_type": "code",
      "metadata": {
        "id": "-c6mE0ANps0s"
      },
      "source": [
        "def load_file(filepath: Path, columns: list=[\"labels\", \"text\"]) -> pd.DataFrame:\n",
        "    \"\"\"Load dataset from CVS file.\"\"\"\n",
        "    f = pd.read_csv(filepath, sep=\";\", quotechar=\"'\", names=columns)\n",
        "    return f"
      ],
      "execution_count": 37,
      "outputs": []
    },
    {
      "cell_type": "code",
      "metadata": {
        "colab": {
          "base_uri": "https://localhost:8080/",
          "height": 224
        },
        "id": "0Iqa-8XTpwbr",
        "outputId": "fccec67b-2412-4411-ff66-5c01206bc5b4"
      },
      "source": [
        "train_df = load_file(train_file).assign(is_valid=False)\n",
        "valid_df = load_file(test_file).assign(is_valid=True)\n",
        "\n",
        "# combine training and test data\n",
        "text_df = pd.concat([train_df, valid_df], ignore_index=True)\n",
        "\n",
        "print(text_df.shape[0], 'articles')\n",
        "display(text_df.head())"
      ],
      "execution_count": 38,
      "outputs": [
        {
          "output_type": "stream",
          "text": [
            "10273 articles\n"
          ],
          "name": "stdout"
        },
        {
          "output_type": "display_data",
          "data": {
            "text/html": [
              "<div>\n",
              "<style scoped>\n",
              "    .dataframe tbody tr th:only-of-type {\n",
              "        vertical-align: middle;\n",
              "    }\n",
              "\n",
              "    .dataframe tbody tr th {\n",
              "        vertical-align: top;\n",
              "    }\n",
              "\n",
              "    .dataframe thead th {\n",
              "        text-align: right;\n",
              "    }\n",
              "</style>\n",
              "<table border=\"1\" class=\"dataframe\">\n",
              "  <thead>\n",
              "    <tr style=\"text-align: right;\">\n",
              "      <th></th>\n",
              "      <th>text</th>\n",
              "      <th>is_valid</th>\n",
              "    </tr>\n",
              "  </thead>\n",
              "  <tbody>\n",
              "    <tr>\n",
              "      <th>0</th>\n",
              "      <td>21-Jähriger fällt wohl bis Saisonende aus. Wie...</td>\n",
              "      <td>False</td>\n",
              "    </tr>\n",
              "    <tr>\n",
              "      <th>1</th>\n",
              "      <td>Erfundene Bilder zu Filmen, die als verloren g...</td>\n",
              "      <td>False</td>\n",
              "    </tr>\n",
              "    <tr>\n",
              "      <th>2</th>\n",
              "      <td>Der frischgekürte CEO Sundar Pichai setzt auf ...</td>\n",
              "      <td>False</td>\n",
              "    </tr>\n",
              "    <tr>\n",
              "      <th>3</th>\n",
              "      <td>Putin: \"Einigung, dass wir Menge auf Niveau vo...</td>\n",
              "      <td>False</td>\n",
              "    </tr>\n",
              "    <tr>\n",
              "      <th>4</th>\n",
              "      <td>Estland sieht den künftigen österreichischen P...</td>\n",
              "      <td>False</td>\n",
              "    </tr>\n",
              "  </tbody>\n",
              "</table>\n",
              "</div>"
            ],
            "text/plain": [
              "                                                text  is_valid\n",
              "0  21-Jähriger fällt wohl bis Saisonende aus. Wie...     False\n",
              "1  Erfundene Bilder zu Filmen, die als verloren g...     False\n",
              "2  Der frischgekürte CEO Sundar Pichai setzt auf ...     False\n",
              "3  Putin: \"Einigung, dass wir Menge auf Niveau vo...     False\n",
              "4  Estland sieht den künftigen österreichischen P...     False"
            ]
          },
          "metadata": {
            "tags": []
          }
        }
      ]
    },
    {
      "cell_type": "markdown",
      "metadata": {
        "id": "xKZwmodWrxUy"
      },
      "source": [
        "## Data Preparation"
      ]
    },
    {
      "cell_type": "code",
      "metadata": {
        "id": "Wn5eGZyauXZa"
      },
      "source": [
        "# truncate text\n",
        "#text_df.text = text_df.text.map(lambda x: x[:2000])"
      ],
      "execution_count": 39,
      "outputs": []
    },
    {
      "cell_type": "code",
      "metadata": {
        "id": "YVW2qzgax1rk"
      },
      "source": [
        "# define batchsize\n",
        "batchsize=128\n",
        "\n",
        "lm_databunch_path = drive_path / \"data\" / \"10kgnad__lm.pkl\""
      ],
      "execution_count": 50,
      "outputs": []
    },
    {
      "cell_type": "code",
      "metadata": {
        "id": "Q80CFNQ-7o62"
      },
      "source": [
        "def prepare_databunch_lm(lm_path: Path, df: pd.DataFrame, bs: int) -> DataBunch:\n",
        "    \"\"\"Load or create text databunch for language model training.\"\"\"\n",
        "\n",
        "    # check if databunch already exists\n",
        "    if lm_path.is_file():\n",
        "        print(\"loading preprocessed text data\")\n",
        "        return load_data(lm_path.parent, lm_path.name, bs=bs)\n",
        "\n",
        "    else:\n",
        "        print(\"processing text data\")\n",
        "        data_lm = (TextList\n",
        "                   .from_df(text_df, cols='text')\n",
        "                   .split_from_df(col='is_valid')\n",
        "                   .label_for_lm()\n",
        "                   .databunch(bs=bs)\n",
        "                   )\n",
        "        data_lm.save(lm_path)\n",
        "        return data_lm"
      ],
      "execution_count": 68,
      "outputs": []
    },
    {
      "cell_type": "code",
      "metadata": {
        "colab": {
          "base_uri": "https://localhost:8080/",
          "height": 141
        },
        "id": "xDzUib22vK7x",
        "outputId": "40911359-0d7a-4fa9-cdc9-258b9230bf74"
      },
      "source": [
        "%%time\n",
        "data_lm = prepare_databunch_lm(lm_databunch_path, text_df, batchsize)\n",
        "\n",
        "print(f\"{len(data_lm.vocab.itos):,} words in vocabulary\")"
      ],
      "execution_count": 69,
      "outputs": [
        {
          "output_type": "stream",
          "text": [
            "processing text data\n"
          ],
          "name": "stdout"
        },
        {
          "output_type": "display_data",
          "data": {
            "text/html": [
              ""
            ],
            "text/plain": [
              "<IPython.core.display.HTML object>"
            ]
          },
          "metadata": {
            "tags": []
          }
        },
        {
          "output_type": "stream",
          "text": [
            "/usr/local/lib/python3.7/dist-packages/fastai/core.py:302: VisibleDeprecationWarning: Creating an ndarray from ragged nested sequences (which is a list-or-tuple of lists-or-tuples-or ndarrays with different lengths or shapes) is deprecated. If you meant to do this, you must specify 'dtype=object' when creating the ndarray\n",
            "  return np.array(a, dtype=dtype, **kwargs)\n"
          ],
          "name": "stderr"
        },
        {
          "output_type": "display_data",
          "data": {
            "text/html": [
              ""
            ],
            "text/plain": [
              "<IPython.core.display.HTML object>"
            ]
          },
          "metadata": {
            "tags": []
          }
        },
        {
          "output_type": "stream",
          "text": [
            "60,000 words in vocabulary\n",
            "CPU times: user 5.55 s, sys: 855 ms, total: 6.4 s\n",
            "Wall time: 8min 41s\n"
          ],
          "name": "stdout"
        }
      ]
    },
    {
      "cell_type": "code",
      "metadata": {
        "colab": {
          "base_uri": "https://localhost:8080/"
        },
        "id": "-AC-h87Hp0SS",
        "outputId": "4a578655-b365-4101-bf9c-c3470fd1f352"
      },
      "source": [
        "data_lm"
      ],
      "execution_count": 70,
      "outputs": [
        {
          "output_type": "execute_result",
          "data": {
            "text/plain": [
              "TextLMDataBunch;\n",
              "\n",
              "Train: LabelList (9245 items)\n",
              "x: LMTextList\n",
              "xxbos 21-jähriger fällt wohl bis xxmaj saisonende aus . xxmaj wien – xxmaj rapid muss wohl bis xxmaj saisonende auf xxmaj offensivspieler xxmaj thomas xxmaj murg verzichten . xxmaj der i m xxmaj winter aus xxmaj ried gekommene 21-jährige erlitt beim xxunk gegen xxmaj admira xxmaj wacker xxmaj mödling am xxmaj samstag einen xxmaj teilriss des xxmaj xxunk i m linken xxmaj knie , wie eine xxmaj xxunk - xxmaj untersuchung am xxmaj donnerstag ergab . xxmaj murg erhielt eine xxmaj schiene , muss aber nicht operiert werden . xxmaj dennoch steht ihm eine xxunk xxmaj pause bevor .,xxbos xxmaj erfundene xxmaj bilder zu xxmaj filmen , die als verloren gelten : \" xxmaj the xxmaj forbidden xxmaj room \" von xxmaj guy xxmaj maddin und xxmaj evan xxmaj johnson ist ein xxunk xxmaj ritt durch die magischen xxmaj xxunk des frühen xxmaj kinos . xxmaj wien – xxmaj die xxmaj filmgeschichte ist ein xxmaj friedhof der xxmaj verlorenen . xxmaj unter den xxmaj xxunk finden sich zahllose xxmaj filme , von denen nur noch mysteriös oder abenteuerlich klingende xxmaj namen kursieren ; und solche , über die verstreut xxunk xxmaj xxunk xxmaj aufschluss erlaubt . xxmaj einer davon ist xxmaj the xxmaj forbidden xxmaj room , ein xxmaj two - xxmaj xxunk von 1913 / 14 , den der xxunk xxup us - xxmaj regisseur xxmaj xxunk xxmaj xxunk u. a. mit dem xxmaj xxunk xxmaj xxunk xxmaj xxunk gedreht hat . xxmaj ein passender xxmaj titel für einen xxmaj film , der als verschollen gilt . xxmaj verbote sind xxmaj einladungen zur xxmaj überschreitung . xxmaj einen ähnlichen xxmaj gedanken hatte wohl auch der kanadische xxmaj xxunk xxmaj guy xxmaj maddin , als er seinem xxmaj film von 2015 den gleichen xxmaj titel gab . xxmaj gemeinsam mit seinem xxmaj xxunk xxmaj evan xxmaj johnson hat er vergessene , verschwundene xxmaj arbeiten der xxmaj film geschichte zum xxmaj ausgangspunkt einer xxmaj xxunk erkoren . xxmaj um historische xxmaj genauigkeit geht es ihnen dabei freilich nicht , erlaubt ist vielmehr alles , was die xxmaj fantasie so xxunk . xxmaj arg angespannte xxmaj szenen in einem u - xxmaj boot , dessen xxmaj besatzung tief i m xxmaj ozean mit einer xxmaj art xxunk xxmaj xxunk xxunk und xxmaj sauerstoff mit xxmaj xxunk generiert . xxmaj oder die xxmaj erinnerungen eines xxmaj xxunk , der sich auf die xxmaj xxunk des xxmaj sohnes eines xxmaj toten heftet , um derart der xxmaj witwe xxmaj trost zu spenden . xxmaj letzteres die frei erfundene xxmaj handlung eines xxmaj xxunk - xxmaj xxunk - xxmaj films mit dem xxmaj titel xxmaj the xxmaj xxunk of a xxmaj xxunk . xxmaj immer neue xxmaj xxunk schlägt die xxmaj handlung , verläuft dabei kaum jemals linear , sondern gibt sich sprunghaft , xxunk dem xxmaj unerwarteten hin , irgendwo zwischen xxmaj jules xxmaj xxunk , xxmaj jacques xxmaj xxunk , xxup f. xxup w. xxmaj xxunk und dem von xxmaj maddin verehrten xxmaj xxunk xxmaj raymond xxmaj xxunk . xxmaj der britische xxmaj guardian beschrieb das xxmaj ergebnis so : als würde man unter der xxmaj xxunk von xxup lsd durch ein xxmaj filmarchiv wandeln . xxmaj das xxmaj xxunk oder zumindest xxmaj xxunk teilt diese xxmaj arbeit xxmaj xxunk mit seinen früheren , die kürzer dimensioniert waren . xxmaj the xxmaj forbidden xxmaj room ist durch seine xxmaj dauer von mehr als zwei xxmaj stunden schon nahe an der xxmaj überdosis , soll heißen : xxmaj die xxmaj überforderung ist xxmaj programm . xxmaj maddin und xxmaj johnson geben sich mit keinen xxmaj xxunk zufrieden , sondern wollen ein xxunk xxmaj xxunk ermöglichen , in einem mehr an xxmaj xxunk xxmaj georges xxmaj xxunk orientierten xxmaj sinne . xxmaj sie nehmen die fantastische xxmaj qualität des xxmaj kinos als seine eigentliche xxmaj realität wahr – eine wild xxmaj bilder xxunk , an unsere xxmaj psyche xxunk ( und daher auch manchmal humorvoll kindliche ) xxmaj maschine , wie sie schon in xxmaj xxunk xxmaj kurzfilm xxmaj the xxmaj heart of the xxmaj world ( 2000 ) zur xxmaj geltung kam . xxmaj wer nach einem xxmaj zusammenhang sucht , findet ihn i m xxmaj bekenntnis zur xxmaj xxunk . xxmaj die xxmaj verbindung von einem xxmaj xxunk ( xxmaj roy xxmaj xxunk ) , der der xxmaj spur einer verschwundenen xxmaj frau folgt , zu einem ( von xxmaj udo xxmaj kier verkörperten ) xxmaj arzt mit einem xxmaj xxunk für xxmaj xxunk oder zu jenem seltsamen xxmaj xxunk , der dem xxmaj zuschauer erklärt , wie man das perfekte xxmaj bad nimmt – sie liegt allenfalls in der xxmaj oberfläche , jener digital in der xxmaj xxunk hergestellten xxmaj ästhetik des frühen xxmaj kinos , die xxmaj the xxmaj forbidden xxmaj room wie ein xxmaj xxunk des analogen xxmaj zeitalters xxunk . xxmaj künstlich verwittert xxmaj die xxmaj farben der xxmaj xxunk , die auf das eingeschränkte xxmaj zwei - xxmaj farben - xxmaj xxunk - xxmaj verfahren verweisen , sind künstlich xxunk , als wäre das xxmaj filmmaterial der xxmaj xxunk ausgesetzt gewesen ; manche xxmaj xxunk wirken so , als wären die xxmaj mate xxunk xxunk . xxmaj auch mit xxmaj xxunk und dem weitgehenden xxmaj verzicht auf herkömmliche xxmaj dialoge schließen xxmaj maddin und xxmaj evan an den xxmaj xxunk an , dessen stilistische xxmaj bandbreite sie in der xxmaj montage und szenischen xxmaj regie spielerisch betonen und xxunk . xxmaj die xxmaj amnesie , heißt es in diesem visuell xxunk xxmaj film einmal , xxunk jene xxmaj menschen , zu denen die xxmaj figuren aus der xxmaj ferne zurückkehren . xxmaj der xxmaj gedanke lässt sich auch auf die xxmaj bilder des xxmaj films anwenden : xxmaj er enthält die xxmaj fragmente eines xxmaj kinos , an das wir uns nicht mehr erinnern können , weil wir es für verloren hielten .,xxbos xxmaj der xxunk xxup ceo xxmaj sundar xxmaj pichai setzt auf ein xxunk xxmaj führungsteam . xxmaj die xxmaj atmosphäre i m xxmaj silicon xxmaj valley ist rau . xxmaj da werden massenhaft xxmaj mitarbeiter der direkten xxmaj konkurrenz abgeworben , xxmaj löhne mit xxunk xxmaj xxunk niedrig gehalten und xxmaj xxunk wegen leicht xxunk xxmaj ziele vor die xxmaj tür gesetzt . xxmaj auch in der höchsten xxmaj xxunk werden brutale xxmaj umgangsformen gepflegt : xxmaj die xxmaj xxunk von xxmaj apple - xxmaj mitgründer xxmaj steve xxmaj jobs sind legendär , sein früherer xxmaj geschäftspartner xxmaj steve xxmaj wozniak hätte ihn zu xxmaj lebzeiten gerne als xxmaj arschloch beschimpft , traute sich aber nicht . xxmaj auch xxmaj google - xxmaj mitgründer xxmaj larry xxmaj page gilt als xxmaj xxunk , für den ein xxunk xxmaj umgang mit xxmaj mitarbeitern nicht an erster xxmaj stelle steht . xxmaj doch die xxmaj zeiten des harten xxmaj management - xxmaj stils sind bei xxmaj google vorbei . xxmaj das belegen zahlreiche ehemalige xxmaj mitarbeiter und xxmaj geschäftspartner . xxmaj wie ein xxmaj ex - xxmaj manager gegenüber re : code pointiert verlautbart : xxmaj alle xxmaj xxunk sind jetzt weg . xxmaj verantwortlich dafür zeichnet sich xxmaj sundar xxmaj pichai , der nach xxmaj googles großer xxmaj umstrukturierung ( xxmaj gründung des xxmaj xxunk xxmaj alphabet ) zum xxup ceo des xxmaj xxunk wurde . xxmaj in den wenigen xxmaj monaten als xxmaj google - xxmaj chef hat xxmaj pichai nun bereits einige xxmaj umstrukturierungen vorgenommen – und erhält dafür viel xxmaj lob aus der xxmaj branche . xxmaj so wurde beispielsweise xxmaj hiroshi xxmaj lockheimer zum xxmaj android - xxmaj chef gemacht . xxmaj ehemalige xxmaj kollegen , etwa xxmaj motorola - xxmaj präsident xxmaj rick xxmaj osterloh , schwärmen von ihm als großartigen xxmaj typen , den man sehr gern hat . xxmaj so soll xxmaj lockheimer dafür gesorgt haben , dass alle xxmaj smartphone - xxmaj hersteller , die auf xxmaj android setzen , gleichberechtigten xxmaj zugang zu xxmaj entwicklungen des xxmaj betriebssystems haben – auch , als xxmaj motorola noch zu xxmaj google gehörte . xxmaj ein anderes xxmaj beispiel ist xxmaj philipp xxmaj schindler , der xxmaj googles xxmaj werbegeschäft leiten soll . xxmaj xxunk beschreiben ihn als kompromissbereit und xxunk . xxmaj gelernt hat xxmaj schindler das in xxmaj europa , wo er xxmaj google jahrelang gegen xxmaj monopol - xxmaj vorwürfe aus xxmaj regierungskreisen verteidigen musste . xxmaj älterer xxmaj semester i m xxmaj google - xxmaj umfeld befürchten laut re : code allerdings , dass ein xxunk xxmaj google wichtige xxmaj scharmützel verlieren wird . xxmaj doch die xxmaj zeit der xxunk xxmaj ellbogen ist vorerst vorbei .,xxbos xxmaj putin : \" xxmaj einigung , dass wir xxmaj menge auf xxmaj niveau von xxmaj jänner halten \" . xxmaj moskau – xxmaj die russischen xxmaj xxunk wollen nach den xxmaj worten von xxmaj präsident xxmaj wladimir xxmaj putin ihre xxmaj förderung in diesem xxmaj jahr einfrieren . i m xxmaj großen und xxmaj ganzen wurde eine xxmaj einigung erzielt , dass wir die xxmaj ölproduktion auf dem xxmaj niveau von xxmaj jänner halten werden , sagte xxmaj putin am xxmaj mittwoch in xxmaj moskau . xxmaj russland leidet wie andere xxmaj xxunk unter dem drastischen xxmaj einbruch der xxmaj ölpreise . xxmaj putin will die xxmaj preise durch eine begrenzte xxmaj förderung i m xxmaj in- und xxmaj ausland stabilisieren . xxmaj dazu hatte xxmaj russland jüngst mit xxmaj saudi - xxmaj arabien und anderen großen xxmaj xxunk über ein xxmaj einfrieren der xxmaj produktion auf dem xxmaj jänner - xxmaj niveau beraten .,xxbos xxmaj estland sieht den künftigen österreichischen xxmaj präsidenten auch als estnischen xxmaj staatsbürger . xxmaj wien / xxmaj tallinn / xxmaj pskow – xxmaj die xxmaj eltern des künftigen xxmaj bundespräsidenten waren 1941 aus dem von xxmaj sowjets besetzten xxmaj estland in das damalige xxmaj deutsche xxmaj reich geflohen , wo 1944 in xxmaj wien xxmaj sascha xxmaj van der xxmaj bellen zur xxmaj welt kam . xxmaj estnische xxmaj verwandte jubelten am xxmaj dienstag über dessen xxmaj wahlsieg , xxmaj freude herrscht auch unter xxmaj politikern des xxmaj landes . xxmaj interesse an xxmaj van der xxmaj bellen gibt es auch in der russischen xxmaj stadt xxmaj pskow , der xxmaj geburtsstadt seiner xxmaj eltern . xxmaj wir haben von xxunk xxmaj herzen und mit der ganzen xxmaj familie xxunk , sagt xxmaj irina xxmaj xxunk , eine xxmaj cousine des künftigen xxmaj präsidenten . xxmaj der xxmaj sonntag sei für sie deshalb ein großer xxmaj stress gewesen , erzählt xxmaj xxunk i m xxmaj telefonat mit der xxup apa . xxmaj sein xxmaj sieg zeugt davon , dass die österreichische xxmaj intelligenzija , die xxunk xxmaj menschen , für xxmaj sascha gestimmt haben , so die studierte xxmaj xxunk , die in einem xxmaj dorf i m xxmaj süden xxmaj estlands lebt . xxmaj freudig wird der xxmaj wahlsieg des ehemaligen xxmaj grünen - xxmaj chefs auch von estnischen xxmaj politikern kommentiert . xxmaj die xxmaj wahl eines xxmaj präsidenten mit estnischen xxmaj wurzeln schafft günstige xxmaj bedingungen für eine engere xxmaj zusammenarbeit zwischen xxmaj estland und xxmaj österreich , erklärt der xxmaj vorsitzende des außenpolitischen xxmaj ausschusses i m estnischen xxmaj parlament , xxmaj sven xxmaj xxunk . xxmaj da xxmaj estland aber auch den xxmaj aufschwung xxunk xxmaj kräfte mit xxmaj sorge beobachte , sei er froh , dass sich die xxmaj österreicher für xxmaj van der xxmaj bellen entscheiden haben , sagt der xxmaj vertreter der xxmaj sozialdemokratischen xxmaj partei xxmaj estlands gegenüber der xxup apa . xxmaj das xxmaj wahlergebnis ist ein guter xxmaj grund , den xxmaj österreichern gleich doppelt zu gratulieren , betont der ehemalige xxmaj außenminister und nunmehrige liberale xxmaj xxunk xxmaj xxunk xxmaj xxunk . xxmaj van der xxmaj bellen sei für die jetzige xxmaj zeit eine sehr vernünftige xxmaj wahl , sie sei gut für xxmaj europa und xxmaj österreich , sagt xxmaj xxunk i m xxmaj gespräch mit der xxup apa . xxmaj für xxmaj estland und das estnische xxmaj volk spielt aber auch die xxmaj tatsache eine xxmaj rolle , dass xxmaj österreich einen estnischen xxmaj staatsbürger zum xxmaj präsidenten gewählt hat . xxmaj nach xxmaj auskunft des estnischen xxmaj außenministeriums gelten xxmaj kinder von xxmaj bewohnern des 1940 zerstörten unabhängigen xxmaj estland , die vor dem 16 . xxmaj juni 1940 über die estnische xxmaj staatsbürgerschaft verfügten , automatisch als xxmaj staatsbürger des nunmehrigen xxmaj estland . xxmaj der xxup apa vorliegende xxmaj dokumente des estnischen xxmaj staatsarchivs und des deutschen xxmaj xxunk belegen , dass xxmaj alma und xxmaj alexander xxmaj van der xxmaj bellen senior , die xxmaj eltern des künftigen xxmaj präsidenten , damals i m xxmaj besitz der estnischen xxmaj staatsbürgerschaft waren . xxmaj interesse am künftigen xxmaj präsidenten zeigt aber auch xxmaj pskow , das i m xxmaj westen xxmaj russland an der heutigen estnischen xxmaj grenze liegt . xxmaj die ursprünglich aus xxmaj holland stammende xxmaj familie war hier i m 19 . xxmaj jahrhundert in den russischen xxmaj xxunk erhoben worden , insbesondere der ebenso gleichnamige xxmaj großvater von xxmaj alexander xxmaj van der xxmaj bellen hatte vor der xxmaj oktoberrevolution des xxmaj jahres 1917 eine tragende politische xxmaj funktion in der xxmaj region gespielt . xxmaj nach der bürgerlichen xxmaj xxunk von 1917 war dieser xxmaj vertreter eines russischen xxmaj liberalismus zum xxmaj kommissar der xxmaj übergangsregierung für das xxmaj xxunk xxmaj pskow und somit zum lokalen xxmaj regierungschef ernannt worden . xxmaj in einigen xxmaj lokalmedien finden sich xxmaj schlagzeilen , in denen vom xxmaj sieg des xxmaj nachfahren eines xxmaj aristokraten aus xxmaj pskow oder des xxmaj enkels des xxmaj xxunk xxmaj gouverneurs die xxmaj rede ist , berichtet der xxmaj direktor des xxmaj archivs der xxmaj region xxmaj pskow , xxmaj xxunk xxmaj kusmin . xxmaj in diesem xxmaj archiv finden sich zahlreiche xxmaj akten zur xxmaj familie xxmaj van der xxmaj bellen , insbesondere zur politischen xxmaj tätigkeit der xxmaj vorfahren . xxmaj kusmin geht i m xxmaj gespräch mit der xxup apa davon aus , dass in der nächsten xxmaj zeit auch einige wissenschaftliche xxmaj publikationen über die xxmaj van der xxmaj bellens in xxmaj pskow erscheinen werden . xxmaj die xxmaj geschichte dieser xxmaj xxunk in xxmaj pskow ging nach der xxmaj machtübernahme der xxmaj xxunk zu xxmaj ende : 1919 floh die xxmaj familie , darunter die xxmaj großeltern und der xxmaj vater des künftigen xxmaj präsidenten , nach xxmaj estland . xxmaj als die xxmaj sowjets 1940 xxmaj estland eroberten , floh man erneut xxmaj richtung xxmaj westen . xxmaj van der xxmaj bellens xxmaj vater hatte zu diesem xxmaj zeitpunkt aufgrund seiner xxmaj herkunft und insbesondere als international tätiger xxmaj banker xxmaj repressionen des sowjetischen xxmaj geheimdiensts xxup xxunk zu befürchten . xxmaj die xxmaj flucht ging zunächst nach xxmaj wien und xxmaj ende 1944 , xxmaj anfang 1945 und somit rechtzeitig vor dem xxmaj eintreffen der xxmaj rote xxmaj armee in xxmaj ostösterreich weiter nach xxmaj tirol , wo xxmaj van der xxmaj bellen senior eine xxmaj existenz i m xxmaj außenhandel aufbauen konnte und zudem ein künftiger xxmaj präsident heranwachsen sollte .\n",
              "y: LMLabelList\n",
              ",,,,\n",
              "Path: .;\n",
              "\n",
              "Valid: LabelList (1028 items)\n",
              "x: LMTextList\n",
              "xxbos xxmaj die xxmaj gewerkschaft xxup gpa - djp lanciert den \" xxmaj all - in - xxmaj rechner \" und findet , dass die xxmaj xxunk auf die xxmaj führungsebene beschränkt gehört . xxmaj wien – xxmaj die xxmaj gewerkschaft xxup gpa - djp sieht xxmaj handlungsbedarf bei sogenannten xxmaj all - in - xxmaj verträgen . xxmaj für mehr xxmaj transparenz haben die xxmaj gewerkschaft nun unter xxunk ein xxmaj online - xxmaj werkzeug lanciert , das xxmaj arbeitnehmern mit solchen xxmaj verträgen helfen soll , sich einen xxmaj überblick zu verschaffen . xxmaj es geht darum , ob die xxmaj differenz zum xxmaj xxunk nicht womöglich eine zu geringe ist . xxmaj schließlich sei ein xxmaj all - in - xxmaj gehalt oft nur auf den ersten xxmaj blick von xxmaj vorteil , gab xxup gpa - djp - xxmaj chef xxmaj wolfgang xxmaj katzian ( xxup spö ) am xxmaj montag bei einer xxmaj pressekonferenz in xxmaj wien zu bedenken . xxmaj allzu oft sei bei der xxmaj all - in - xxmaj entlohnung nur schwer nachvollziehbar , wie viele xxmaj überstunden und xxmaj xxunk damit tatsächlich abgegolten werden . xxmaj ein erster guter xxmaj schritt aus xxunk xxmaj sicht ist xxmaj katzian zufolge zwar eine seit xxmaj ende xxmaj vorjahr gültige xxmaj gesetzesänderung , die besagt , dass das xxmaj xxunk bei xxmaj all - in - xxmaj verträgen in xxmaj xxunk auszuweisen ist . xxmaj so werden über die xxmaj normalarbeitszeit hinausgehende xxmaj xxunk und andere xxmaj xxunk sichtbar . xxmaj das ist der xxmaj gewerkschaft aber zu wenig , denn die ursprünglich für xxmaj führungskräfte gedachte xxmaj xxunk sei längst in allen xxmaj branchen in allen xxmaj ebenen von den xxmaj xxunk abwärts zu xxmaj angestellten und xxmaj arbeitern eingezogen . xxmaj so hätten bereits 18 xxmaj prozent der xxmaj arbeiter einen xxmaj all - in - xxmaj vertrag , laut xxmaj xxunk der xxup ak xxmaj oberösterreich . i m xxmaj xxunk liege der xxmaj anteil bei 27 xxmaj prozent . xxmaj der xxunk mache aber auch bestehende xxmaj verträge transparenter . xxmaj einige anonyme xxmaj angaben zur xxmaj xxunk reichen , um das xxmaj xxunk – und vor allem etwaige xxmaj xxunk – zu ermitteln . xxmaj unklarheiten sollen xxmaj betroffene dann bei ihrem xxmaj betriebsrat oder bei xxup gpa - djp - xxmaj experten abklären . xxmaj katzian nannte für seine xxmaj gewerkschaft eine xxmaj vielzahl von xxmaj forderungen zu xxmaj all - in - xxmaj verträgen . xxmaj vor allem sollen sich xxmaj all - in - xxmaj verträge wie ursprünglich vorgesehen wieder auf xxmaj mitarbeiter mit xxmaj xxunk beschränken . xxmaj überlegt werde auch – das ist eine xxmaj forderung an uns selbst – künftig bei xxup kv - xxmaj verhandlungen xxmaj muster für xxmaj all - in - xxmaj verträge xxunk . xxmaj all - in - xxmaj verträge solle es auch nur mit einer wesentlichen xxmaj xxunk zum xxunk xxmaj xxunk geben ; dazu gehörten auch regelmäßige xxmaj xxunk xxunk mit xxup kv - xxmaj erhöhungen . xxmaj mitarbeiter sollen zudem jederzeit die xxmaj möglichkeit haben , wieder aus xxmaj all - in auszusteigen . xxmaj all - in - xxmaj regelungen sollten laut dem xxup gpa - djp - xxmaj chef nur xxunk xxmaj arbeitszeiten und xxunk abdecken . xxmaj darüber hinausgehende xxmaj leistungen des xxmaj xxunk wie xxmaj xxunk sollen gesondert abgegolten werden . xxmaj bleiben müsse den xxmaj arbeitnehmern vor allem auch die freie xxmaj wahl zwischen xxmaj entlohnung auf xxmaj xxunk oder xxmaj all - in .,xxbos xxmaj franzosen verteidigen xxunk – xxmaj kritische xxmaj stimmen zu xxmaj schwedens xxmaj superstar , xxmaj tore in xxunk fehlen – xxmaj benfica mit xxmaj xxunk nach xxmaj st. xxmaj petersburg . xxmaj london – xxmaj mit einem xxunk xxmaj vorsprung i m xxmaj gepäck ist xxmaj paris xxmaj saint xxmaj germain zum xxmaj champions - xxmaj league - xxmaj achtelfinale nach xxmaj london gereist . xxmaj am xxmaj mittwochabend ( 20.45 xxmaj uhr ) verteidigt xxmaj frankreichs xxmaj serienmeister gegen xxmaj chelsea ein 2:1 aus dem xxmaj hinspiel . xxup psg sollte gewarnt sein , die xxmaj blues sind seit der xxmaj trennung von xxmaj jose xxmaj mourinho xxunk . xxmaj seit xxmaj dezember hat xxmaj chelsea unter xxmaj guus xxmaj hiddink in 18 xxmaj pflichtspielen nur die eine xxmaj niederlage in xxmaj paris einstecken müssen . xxmaj ein 1:0 würde den xxmaj hausherren reichen . i m xxmaj vorjahr war für xxmaj chelsea i m xxmaj achtelfinale gegen xxup psg xxmaj endstation , 2014 setzte sich xxmaj chelsea i m xxmaj viertelfinale gegen die xxmaj franzosen durch . i m zweiten xxmaj achtelfinal - xxmaj rückspiel am xxmaj mittwoch verteidigt xxmaj benfica xxmaj lissabon ein 1:0 bei xxmaj zenit xxmaj st. xxmaj petersburg . xxmaj leise xxmaj kritik xxmaj bei xxup psg drehte sich vor dem xxmaj spiel wieder einmal alles um den xxmaj superstar . xxmaj zlatan xxmaj ibrahimovic hat in den vergangenen acht xxmaj spielen in xxmaj frankreich zwar achtmal getroffen , dennoch musste sich der xxmaj schwede mit kritischen xxmaj stimmen befassen . xxmaj wie xxunk anmerkte , sei xxmaj ibrahimovic in der xxmaj champions xxmaj league in engen xxmaj spielen kein entscheidender xxmaj faktor . xxmaj die xxmaj statistik zeigt , dass xxmaj ibrahimovic in 37 xxunk in der xxmaj königsklasse nur acht xxmaj treffer erzielt hat – keines davon in einem xxmaj rückspiel . xxmaj dazu passt es , dass der in xxmaj summe xxunk xxmaj xxunk in der xxmaj champions xxmaj league nie über das xxmaj halbfinale – mit dem xxup fc xxmaj barcelona gelang ihm das 2010 – hinausgekommen ist . xxmaj bereits xxmaj ende xxmaj dezember hatte er gegenüber xxunk betont : xxmaj auch wenn ich die xxmaj champions xxmaj league nicht gewinne , wird meine xxmaj karriere großartig sein . xxmaj gegen xxmaj chelsea traf der 34-jährige i m xxmaj hinspiel per xxunk xxmaj freistoß immerhin zum 1:0 . xxmaj ein weiteres xxmaj tor an der xxmaj stamford xxmaj bridge würde die xxmaj kritiker vorerst verstummen lassen . xxmaj david xxmaj xxunk , ein xxmaj ex - xxmaj xxunk bei xxmaj juventus , sah die xxmaj motivation bei xxmaj ibrahimovic vorhanden . xxmaj er will die xxmaj statistiken xxmaj lügen xxmaj strafen . xxup psg braucht den besten xxmaj zlatan , und ich bin sicher , dass er entscheidend sein wird . xxmaj leichtes xxmaj xxunk in der xxmaj liga xxup psg ließ in der xxmaj xxunk 1 die xxmaj zügel in den vergangenen xxmaj wochen schleifen . xxmaj in xxmaj lyon kassierte man mit einem 1:2 die erste xxmaj saisonniederlage , am xxmaj wochenende gab es zu xxmaj hause ein 0:0 gegen xxmaj xxunk . xxmaj die xxmaj spieler xxunk sich dabei nicht wirklich . xxmaj gegen xxmaj chelsea muss xxmaj trainer xxmaj laurent xxmaj xxunk wohl xxmaj mittelfeldspieler xxmaj marco xxmaj xxunk vorgeben , der sich mit xxmaj xxunk plagt . xxmaj der xxmaj xxunk aus dem xxmaj hinspiel , xxmaj xxunk xxmaj xxunk , dürfte zu xxmaj beginn erneut auf der xxmaj bank sitzen . xxmaj chelsea gefiel sich vor dem xxmaj spiel in der xxmaj rolle des xxmaj xxunk . xxmaj wir haben xxmaj selbstvertrauen xxunk und die xxmaj qualität , aber wollen nur ein sehr zäher xxmaj underdog sein , erklärte xxmaj hiddink . xxmaj seine xxmaj profis sollen verärgert auf eine kontrollierte xxmaj art spielen , meinte der 69-jährige xxmaj niederländer , der national sogar einen xxmaj rekord xxunk . xxmaj hiddink ist der erste xxmaj premier - xxmaj league - xxmaj trainer , der nach den ersten zwölf xxmaj partien einer xxmaj amtszeit ungeschlagen geblieben ist . xxmaj nicht zur xxmaj verfügung stehen wird den xxmaj hausherren der i m xxmaj oberschenkel verletzte xxmaj kapitän xxmaj john xxmaj terry . xxmaj diego xxmaj costa wird gegen xxup psg wieder einlaufen , nachdem der gebürtige xxmaj brasilianer beim 1:1 gegen xxmaj stoke am xxmaj wochenende geschont wurde . xxmaj sein xxmaj landsmann xxmaj willian zeigte sich motiviert . xxmaj wir müssen sie ( xxup psg ) ab der ersten xxmaj minute unter xxmaj druck setzen , betonte xxmaj brasiliens xxmaj xxunk . xxmaj benfica mit einem kleinen xxmaj vorsprung xxmaj benfica reiste mit einem kleinen xxmaj vorsprung , aber großen xxmaj sorgen in der xxmaj defensive nach xxmaj russland . xxmaj portugals xxmaj meister muss i m xxmaj xxunk - xxmaj stadion drei xxmaj innenverteidiger und den verletzten xxmaj torhüter xxmaj xxunk xxmaj cesar vorgeben . xxmaj kapitän xxmaj xxunk und xxmaj xxunk xxmaj lopez sind verletzt , xxmaj xxunk gesperrt . xxmaj der 21-jährige xxmaj schwede xxmaj victor xxmaj xxunk ist der einzig verfügbare xxmaj mann für das xxmaj xxunk . xxmaj dennoch : xxmaj der portugiesische xxmaj rekordmeister scheint bei 13 xxmaj siegen in 14 xxmaj pflichtspielen in diesem xxmaj kalenderjahr in xxmaj form . xxmaj die xxmaj hoffnungen in xxmaj st. xxmaj petersburg ruhen auf xxmaj angreifer xxmaj jonas . xxmaj der xxmaj hinspiel - xxmaj torschütze hat in dieser xxmaj saison bereits 28 xxmaj tore in 35 xxmaj einsätzen erzielt . xxmaj zenit will zum ersten xxmaj mal den xxmaj sprung ins xxmaj viertelfinale realisieren . xxmaj möglich machen soll dies der portugiesische xxmaj trainer xxmaj andre xxmaj xxunk - xxmaj xxunk . xxmaj ich bin sicher , dass wir den xxmaj rückstand aufholen können , meinte der ehemalige xxmaj porto - xxmaj coach . xxmaj für xxmaj torgefahr soll xxmaj xxunk xxmaj dsjuba sorgen . xxmaj russlands xxmaj teamstürmer hat in der xxmaj champions xxmaj league bereits sechsmal getroffen .,xxbos xxmaj neues xxmaj video von xxmaj designern macht i m xxmaj netz die xxmaj runde – sie schlagen etwa bunte xxmaj benachrichtigungen vor . xxmaj bei den iphone - xxmaj verkaufszahlen ist der xxmaj wurm drin : xxmaj erstmals seit dessen xxmaj einführung musste xxmaj apple heuer sinkende xxmaj quartalsergebnisse bekanntgeben . xxup ceo xxmaj tim xxmaj cook hat daher versprochen , das i m xxmaj herbst erscheinende iphone 7 werde xxmaj dinge können , die viele xxmaj menschen zu einer xxmaj xxunk bewegen wird . xxmaj ein großer xxmaj bestandteil davon ist nicht nur die xxmaj hardware , sondern auch das xxmaj betriebssystem ios . xxmaj dessen neueste xxmaj versionsnummer 10 könnte i m xxmaj juni bei xxmaj apples xxup wwdc - xxmaj event präsentiert werden . xxmaj noch ist nur wenig über neue xxmaj funktionen durchgesickert . xxmaj apple - xxmaj fans nehmen deshalb das xxmaj heft selbst in die xxmaj hand . xxmaj auf iphone - xxmaj tricks ist eine fiktive xxmaj werbung für das neue ios erschienen , in der die xxunk neuen xxmaj funktionen präsentiert werden . xxmaj die xxmaj apple - xxmaj unterstützer fordern etwa , dass unterhalb von xxmaj apps künftig ein neuer xxmaj bereich erscheint , wenn diese länger angeklickt werden . xxmaj so könnten dann etwa xxmaj updates oder bei xxmaj messengern neue xxmaj nachrichten angezeigt werden , ohne dass die xxmaj app geöffnet werden muss . xxmaj außerdem sollen die xxmaj farben des xxmaj displays ständig geändert werden können ; quasi ein xxmaj xxunk für jede xxmaj anwendung verfügbar sein . xxmaj apps müssten künftig auch leichter zu schließen sein , so die xxmaj macher des xxmaj videos : xxmaj sie wollen , dass alle xxmaj anwendungen mit einem einzigen xxmaj xxunk beendet werden können . xxmaj ein neuer xxmaj xxunk - xxmaj modus soll zusätzlich mehr xxmaj übersicht über die aktiven xxmaj apps bieten . xxmaj als weitere große xxmaj neuerung denken die xxmaj fans ein neues xxmaj xxunk für xxmaj benachrichtigungen an . xxmaj dadurch sollen xxmaj nutzer schneller erkennen können , von welcher xxmaj app die neue xxmaj xxunk stammt . xxmaj facebook - xxmaj meldungen könnten dann etwa in xxmaj blau , whatsapp - xxmaj nachrichten in xxmaj grün aktiviert werden . xxmaj dieses xxmaj xxunk soll auch i m xxmaj sperrbildschirm funktionieren , wo iphone - xxmaj tricks mehr xxmaj funktionen fordert . xxmaj so wollen sie , dass xxmaj xxunk oder das xxmaj aktivieren von xxmaj xxunk auch i m xxmaj sperrbildschirm abgerufen werden kann . xxmaj welche der xxmaj funktionen es tatsächlich in ios 10 schaffen , ist natürlich unklar . xxmaj kürzlich gab es xxmaj gerüchte , dass xxmaj xxunk - xxmaj nachrichten automatisch von xxmaj siri xxunk werden könnten , sofern diese in der icloud landen . xxmaj außerdem konzentriert sich xxmaj apple offenbar auf einen xxmaj relaunch des xxmaj apple xxmaj music - xxmaj xxunk . xxmaj außerdem sollen xxmaj anwendungen wie xxmaj apple xxmaj pay und xxmaj fotos xxunk werden .,xxbos 23-jähriger xxmaj brasilianer muss vier xxmaj spiele pausieren – xxmaj entscheidung kann noch angefochten werden – xxmaj chile und xxmaj bolivien i m xxmaj viertelfinale , xxmaj mexiko out . xxmaj santiago de xxmaj chile – xxmaj wegen seiner xxmaj provokation nach dem xxmaj spiel gegen xxmaj kolumbien hat der südamerikanische xxmaj fußballverband ( xxup xxunk ) xxmaj brasiliens xxmaj top - xxmaj stürmer xxmaj neymar für vier xxmaj spiele gesperrt . xxmaj zudem verhängte der xxmaj xxunk eine xxmaj geldstrafe in xxmaj höhe von 10.000 xxup us - xxmaj dollar ( xxunk xxmaj euro ) gegen den 23-jährigen . xxmaj damit dürfte xxmaj neymar bei der laufenden xxmaj xxunk xxmaj copa xxmaj america in xxmaj chile nicht mehr zum xxmaj einsatz kommen . xxmaj die xxmaj entscheidung kann noch angefochten werden . xxmaj beim xxmaj xxunk gegen xxmaj kolumbien am xxmaj mittwoch hatte xxmaj neymar nach dem xxmaj abpfiff den xxmaj ball mit voller xxmaj wucht gegen xxmaj pablo xxmaj xxunk xxunk und nach einer anschließenden xxmaj xxunk die xxmaj rote xxmaj karte gesehen . xxmaj auch der xxmaj kolumbianer xxmaj carlos xxmaj bacca wurde mit xxmaj rot bestraft . xxmaj er erhielt eine xxmaj sperre für zwei xxmaj partien . xxmaj neben den xxmaj xxunk und den damit verbundenen xxmaj sanktionen gibt es aber auch xxmaj xxunk von der xxmaj copa zu berichten : xxmaj gastgeber xxmaj chile hat sich mit dem xxmaj gruppe - a - xxmaj sieg den xxmaj aufstieg ins xxmaj viertelfinale gesichert . xxmaj die xxmaj chilenen xxunk xxmaj bolivien mit 5:0 und sind i m xxmaj turnierverlauf nach zwei xxmaj siegen und einem xxmaj remis weiter ungeschlagen . xxmaj freuen durfte sich aber auch xxmaj bolivien , das mit vier xxmaj zählern als xxmaj zweiter auch xxunk . xxmaj ecuador ( 3 ) sicherte sich mit einem 2:1-sieg gegen xxmaj mexiko ( 2 ) noch xxmaj rang drei . xxmaj charles xxmaj xxunk zeichnete sich beim deutlichen xxmaj sieg in xxmaj santiago als xxmaj xxunk ( 3 . , 66 . ) aus . xxmaj die weiteren xxmaj treffer erzielten xxmaj alexis xxmaj sanchez ( 37 . ) und xxmaj gary xxmaj xxunk ( 79 . ) , ehe der xxmaj xxunk xxmaj ronald xxmaj xxunk ( 86 . ) mit einem xxmaj eigentor den xxmaj endstand fixierte . xxmaj damit fanden die xxmaj chilenen nach dem xxmaj skandal um xxmaj xxunk xxmaj arturo xxmaj vidal überzeugend ins xxmaj turnier zurück . xxmaj der xxmaj spieler von xxmaj juventus xxmaj turin hatte am xxmaj dienstag i m betrunkenen xxmaj zustand einen xxmaj autounfall verursacht und wurde vorübergehend festgenommen . xxmaj gegen xxmaj bolivien stand xxmaj vidal wieder auf dem xxmaj platz , fiel aber nicht groß auf . xxmaj beendet ist das xxmaj turnier für xxmaj mexiko , das in xxmaj xxunk gegen xxmaj ecuador 1:2 verlor . xxmaj miller xxmaj xxunk ( 27 . ) und xxmaj xxunk xxmaj valencia ( 57 . ) brachten xxmaj ecuador mit 2:0 in xxmaj führung , xxmaj mexiko gelang durch einen verwandelten xxmaj elfmeter von xxmaj raul xxmaj jimenez ( 63 . ) nur noch der xxmaj anschlusstreffer . xxmaj bei einem xxmaj sieg wären die xxmaj mexikaner ins xxmaj viertelfinale aufgestiegen . xxmaj wir haben unser xxmaj ziel nicht erreicht . xxmaj ich übernehme die xxmaj verantwortung , sagte xxmaj mexikos xxmaj trainer xxmaj miguel xxmaj xxunk . xxmaj er hofft nun auf eine xxmaj reaktion i m xxmaj gold xxmaj cup , der am 7 . xxmaj juli beginnt . xxmaj durch die xxmaj gruppe - a - xxmaj konstellation stehen auch xxmaj argentinien und xxmaj paraguay bereits vorzeitig als xxmaj gruppe - b - xxmaj xxunk fest . xxmaj die beiden xxmaj mannschaften führen die xxmaj gruppe b mit je vier xxmaj punkten an und gehören i m schlechtesten xxmaj fall zu jenen zwei xxmaj gruppendritten , die ebenfalls weiterkommen . xxmaj ecuador hat nur drei xxmaj zähler auf dem xxmaj konto .,xxbos xxmaj aufständische verwendeten xxmaj xxunk bei xxmaj gefechten i m xxmaj august . xxmaj damaskus – xxmaj bei xxmaj kämpfen zwischen xxmaj rebellengruppen in xxmaj syrien ist nach xxmaj angaben unabhängiger xxmaj experten xxmaj senfgas eingesetzt worden . xxmaj die xxmaj xxunk sei am 21 . xxmaj august bei xxmaj gefechten in xxmaj marea in der nördlichen xxmaj provinz xxmaj aleppo verwendet worden , verlautete am xxmaj donnerstag aus xxmaj kreisen der xxmaj organisation für das xxmaj verbot von xxmaj chemiewaffen ( xxup opcw ) . xxmaj es handelt sich demnach um den ersten bestätigten xxmaj einsatz von xxmaj senfgas in dem xxmaj bürgerkriegsland . xxmaj der xxup un - xxmaj sicherheitsrat hatte xxmaj anfang xxmaj august beschlossen , dass ein xxmaj team aus xxmaj experten der xxmaj vereinten xxmaj nationen sowie der xxup opcw die xxmaj verantwortlichen für xxmaj angriffe mit xxmaj xxunk und anderen giftigen xxmaj chemikalien in xxmaj syrien ausfindig machen soll . xxmaj die syrische xxmaj opposition und der xxmaj westen werfen den xxmaj truppen von xxmaj syriens xxmaj staatschef xxmaj bashar al - xxmaj assad vor , xxmaj fassbomben mit xxmaj xxunk von xxmaj hubschraubern xxunk . xxmaj syriens xxmaj führung weist den xxmaj vorwurf zurück . xxmaj die xxmaj jihadistenmiliz xxmaj islamischer xxmaj staat ( xxup is ) steht ebenfalls i m xxmaj verdacht , xxmaj xxunk einzusetzen .\n",
              "y: LMLabelList\n",
              ",,,,\n",
              "Path: .;\n",
              "\n",
              "Test: None"
            ]
          },
          "metadata": {
            "tags": []
          },
          "execution_count": 70
        }
      ]
    },
    {
      "cell_type": "markdown",
      "metadata": {
        "id": "A_rXja_YKj74"
      },
      "source": [
        "# Prepare German Language Model\n",
        "\n",
        "Implementation follows this description https://forums.fast.ai/t/ulmfit-german/22529/110"
      ]
    },
    {
      "cell_type": "code",
      "metadata": {
        "id": "G0NVlcBCOULc"
      },
      "source": [
        "! pip install -q wandb > /dev/null"
      ],
      "execution_count": 91,
      "outputs": []
    },
    {
      "cell_type": "code",
      "metadata": {
        "colab": {
          "base_uri": "https://localhost:8080/",
          "height": 749,
          "referenced_widgets": [
            "b8769896bebc4b0a8fb6b4ac5de5fe27",
            "9d3b069875774274890b39e95630d0b1",
            "1784c2f8983947789609f68b1a935440",
            "68f399ceecf4445d9b9bd20573a77b90",
            "c1a66b11a4a34be5965541d9a9d0a60d",
            "fe3bd00f9c18407bbe23ab43a9b51bb1",
            "272d8ff5ef304332bd7d92de3bc87ef2",
            "1895885a8e6e4fbea6551933e6781cbe"
          ]
        },
        "id": "lcmHW9FcMz7x",
        "outputId": "09fdfb14-8130-4fc2-e33e-2215221b68ed"
      },
      "source": [
        "import wandb\n",
        "from wandb.fastai import WandbCallback\n",
        "\n",
        "wandb.init(project = \"German Language Model ULMFit\");"
      ],
      "execution_count": 106,
      "outputs": [
        {
          "output_type": "display_data",
          "data": {
            "text/html": [
              "Finishing last run (ID:2c9mjpn9) before initializing another..."
            ],
            "text/plain": [
              "<IPython.core.display.HTML object>"
            ]
          },
          "metadata": {
            "tags": []
          }
        },
        {
          "output_type": "display_data",
          "data": {
            "text/html": [
              "<br/>Waiting for W&B process to finish, PID 1597<br/>Program ended successfully."
            ],
            "text/plain": [
              "<IPython.core.display.HTML object>"
            ]
          },
          "metadata": {
            "tags": []
          }
        },
        {
          "output_type": "display_data",
          "data": {
            "application/vnd.jupyter.widget-view+json": {
              "model_id": "b8769896bebc4b0a8fb6b4ac5de5fe27",
              "version_minor": 0,
              "version_major": 2
            },
            "text/plain": [
              "VBox(children=(Label(value=' 0.00MB of 0.00MB uploaded (0.00MB deduped)\\r'), FloatProgress(value=1.0, max=1.0)…"
            ]
          },
          "metadata": {
            "tags": []
          }
        },
        {
          "output_type": "display_data",
          "data": {
            "text/html": [
              "Find user logs for this run at: <code>/content/wandb/run-20210419_222153-2c9mjpn9/logs/debug.log</code>"
            ],
            "text/plain": [
              "<IPython.core.display.HTML object>"
            ]
          },
          "metadata": {
            "tags": []
          }
        },
        {
          "output_type": "display_data",
          "data": {
            "text/html": [
              "Find internal logs for this run at: <code>/content/wandb/run-20210419_222153-2c9mjpn9/logs/debug-internal.log</code>"
            ],
            "text/plain": [
              "<IPython.core.display.HTML object>"
            ]
          },
          "metadata": {
            "tags": []
          }
        },
        {
          "output_type": "display_data",
          "data": {
            "text/html": [
              "<h3>Run summary:</h3><br/><style>\n",
              "    table.wandb td:nth-child(1) { padding: 0 10px; text-align: right }\n",
              "    </style><table class=\"wandb\">\n",
              "<tr><td>epoch</td><td>2</td></tr><tr><td>train_loss</td><td>3.07686</td></tr><tr><td>valid_loss</td><td>3.21044</td></tr><tr><td>_runtime</td><td>2322</td></tr><tr><td>_timestamp</td><td>1618873235</td></tr><tr><td>_step</td><td>7</td></tr><tr><td>accuracy</td><td>0.42478</td></tr></table>"
            ],
            "text/plain": [
              "<IPython.core.display.HTML object>"
            ]
          },
          "metadata": {
            "tags": []
          }
        },
        {
          "output_type": "display_data",
          "data": {
            "text/html": [
              "<h3>Run history:</h3><br/><style>\n",
              "    table.wandb td:nth-child(1) { padding: 0 10px; text-align: right }\n",
              "    </style><table class=\"wandb\">\n",
              "<tr><td>epoch</td><td>▁▁▁▁▅▅██</td></tr><tr><td>train_loss</td><td>█▂▁▁▁▁▁▁</td></tr><tr><td>_runtime</td><td>▁▃▅▅▆▆██</td></tr><tr><td>_timestamp</td><td>▁▃▅▅▆▆██</td></tr><tr><td>_step</td><td>▁▂▃▄▅▆▇█</td></tr><tr><td>valid_loss</td><td>█▄▄▁▁▁▁</td></tr><tr><td>accuracy</td><td>▁▅▅▇▇██</td></tr></table><br/>"
            ],
            "text/plain": [
              "<IPython.core.display.HTML object>"
            ]
          },
          "metadata": {
            "tags": []
          }
        },
        {
          "output_type": "display_data",
          "data": {
            "text/html": [
              "Synced 5 W&B file(s), 1 media file(s), 0 artifact file(s) and 1 other file(s)"
            ],
            "text/plain": [
              "<IPython.core.display.HTML object>"
            ]
          },
          "metadata": {
            "tags": []
          }
        },
        {
          "output_type": "display_data",
          "data": {
            "text/html": [
              "\n",
              "                    <br/>Synced <strong style=\"color:#cdcd00\">likely-grass-1</strong>: <a href=\"https://wandb.ai/goerlitz/Germany%20Language%20Model%20ULMFit/runs/2c9mjpn9\" target=\"_blank\">https://wandb.ai/goerlitz/Germany%20Language%20Model%20ULMFit/runs/2c9mjpn9</a><br/>\n",
              "                "
            ],
            "text/plain": [
              "<IPython.core.display.HTML object>"
            ]
          },
          "metadata": {
            "tags": []
          }
        },
        {
          "output_type": "display_data",
          "data": {
            "text/html": [
              "...Successfully finished last run (ID:2c9mjpn9). Initializing new run:<br/><br/>"
            ],
            "text/plain": [
              "<IPython.core.display.HTML object>"
            ]
          },
          "metadata": {
            "tags": []
          }
        },
        {
          "output_type": "display_data",
          "data": {
            "text/html": [
              "\n",
              "                Tracking run with wandb version 0.10.26<br/>\n",
              "                Syncing run <strong style=\"color:#cdcd00\">iconic-sponge-1</strong> to <a href=\"https://wandb.ai\" target=\"_blank\">Weights & Biases</a> <a href=\"https://docs.wandb.com/integrations/jupyter.html\" target=\"_blank\">(Documentation)</a>.<br/>\n",
              "                Project page: <a href=\"https://wandb.ai/goerlitz/German%20Language%20Model%20ULMFit\" target=\"_blank\">https://wandb.ai/goerlitz/German%20Language%20Model%20ULMFit</a><br/>\n",
              "                Run page: <a href=\"https://wandb.ai/goerlitz/German%20Language%20Model%20ULMFit/runs/2zeasb7j\" target=\"_blank\">https://wandb.ai/goerlitz/German%20Language%20Model%20ULMFit/runs/2zeasb7j</a><br/>\n",
              "                Run data is saved locally in <code>/content/wandb/run-20210419_230615-2zeasb7j</code><br/><br/>\n",
              "            "
            ],
            "text/plain": [
              "<IPython.core.display.HTML object>"
            ]
          },
          "metadata": {
            "tags": []
          }
        }
      ]
    },
    {
      "cell_type": "code",
      "metadata": {
        "id": "whVOwY3fIfLT"
      },
      "source": [
        "config = awd_lstm_lm_config.copy()\n",
        "config['n_hid'] = 1150\n",
        "\n",
        "# pretrained German language model\n",
        "FILE_LM_ENCODER = drive_path / \"model\" / \"30k-pre-ger\"\n",
        "FILE_ITOS = drive_path / \"model\" / \"30k-pre-ger-itos\""
      ],
      "execution_count": 81,
      "outputs": []
    },
    {
      "cell_type": "code",
      "metadata": {
        "colab": {
          "base_uri": "https://localhost:8080/"
        },
        "id": "7H0V-XD2K6-y",
        "outputId": "c0010046-b213-4342-9115-f53409a73182"
      },
      "source": [
        "%%time\n",
        "learn = language_model_learner(data_lm,\n",
        "                               AWD_LSTM,\n",
        "                               config=config,\n",
        "                               pretrained_fnames=[FILE_LM_ENCODER, FILE_ITOS],\n",
        "                               drop_mult=0.3,\n",
        "                               callback_fns=WandbCallback\n",
        "                               )"
      ],
      "execution_count": 82,
      "outputs": [
        {
          "output_type": "stream",
          "text": [
            "CPU times: user 1.36 s, sys: 352 ms, total: 1.71 s\n",
            "Wall time: 1.96 s\n"
          ],
          "name": "stdout"
        }
      ]
    },
    {
      "cell_type": "markdown",
      "metadata": {
        "id": "9iT_mEgELLIS"
      },
      "source": [
        "## Training Language Model: Top Layer"
      ]
    },
    {
      "cell_type": "code",
      "metadata": {
        "colab": {
          "base_uri": "https://localhost:8080/",
          "height": 167
        },
        "id": "qmLSmHDULD6i",
        "outputId": "0fe1fabf-413d-4e2e-e0e1-dd9dcf2138f9"
      },
      "source": [
        "learn.lr_find()"
      ],
      "execution_count": 83,
      "outputs": [
        {
          "output_type": "display_data",
          "data": {
            "text/html": [
              "\n",
              "    <div>\n",
              "        <style>\n",
              "            /* Turns off some styling */\n",
              "            progress {\n",
              "                /* gets rid of default border in Firefox and Opera. */\n",
              "                border: none;\n",
              "                /* Needs to be in here for Safari polyfill so background images work as expected. */\n",
              "                background-size: auto;\n",
              "            }\n",
              "            .progress-bar-interrupted, .progress-bar-interrupted::-webkit-progress-bar {\n",
              "                background: #F44336;\n",
              "            }\n",
              "        </style>\n",
              "      <progress value='0' class='' max='1' style='width:300px; height:20px; vertical-align: middle;'></progress>\n",
              "      0.00% [0/1 00:00<00:00]\n",
              "    </div>\n",
              "    \n",
              "<table border=\"1\" class=\"dataframe\">\n",
              "  <thead>\n",
              "    <tr style=\"text-align: left;\">\n",
              "      <th>epoch</th>\n",
              "      <th>train_loss</th>\n",
              "      <th>valid_loss</th>\n",
              "      <th>accuracy</th>\n",
              "      <th>time</th>\n",
              "    </tr>\n",
              "  </thead>\n",
              "  <tbody>\n",
              "  </tbody>\n",
              "</table><p>\n",
              "\n",
              "    <div>\n",
              "        <style>\n",
              "            /* Turns off some styling */\n",
              "            progress {\n",
              "                /* gets rid of default border in Firefox and Opera. */\n",
              "                border: none;\n",
              "                /* Needs to be in here for Safari polyfill so background images work as expected. */\n",
              "                background-size: auto;\n",
              "            }\n",
              "            .progress-bar-interrupted, .progress-bar-interrupted::-webkit-progress-bar {\n",
              "                background: #F44336;\n",
              "            }\n",
              "        </style>\n",
              "      <progress value='99' class='' max='584' style='width:300px; height:20px; vertical-align: middle;'></progress>\n",
              "      16.95% [99/584 01:19<06:30 7.7301]\n",
              "    </div>\n",
              "    "
            ],
            "text/plain": [
              "<IPython.core.display.HTML object>"
            ]
          },
          "metadata": {
            "tags": []
          }
        },
        {
          "output_type": "stream",
          "text": [
            "/usr/local/lib/python3.7/dist-packages/torch/nn/modules/module.py:760: UserWarning: Using non-full backward hooks on a Module that does not return a single Tensor or a tuple of Tensors is deprecated and will be removed in future versions. This hook will be missing some of the grad_output. Please use register_full_backward_hook to get the documented behavior.\n",
            "  warnings.warn(\"Using non-full backward hooks on a Module that does not return a \"\n"
          ],
          "name": "stderr"
        },
        {
          "output_type": "stream",
          "text": [
            "LR Finder is complete, type {learner_name}.recorder.plot() to see the graph.\n"
          ],
          "name": "stdout"
        }
      ]
    },
    {
      "cell_type": "code",
      "metadata": {
        "colab": {
          "base_uri": "https://localhost:8080/",
          "height": 279
        },
        "id": "QVIbEo7LLQda",
        "outputId": "dd889235-9c09-473a-9cf2-bcdc5ec8f472"
      },
      "source": [
        "learn.recorder.plot()"
      ],
      "execution_count": 84,
      "outputs": [
        {
          "output_type": "display_data",
          "data": {
            "image/png": "[encoded data removed]",
            "text/plain": [
              "<Figure size 432x288 with 1 Axes>"
            ]
          },
          "metadata": {
            "tags": [],
            "needs_background": "light"
          }
        }
      ]
    },
    {
      "cell_type": "code",
      "metadata": {
        "colab": {
          "base_uri": "https://localhost:8080/",
          "height": 115
        },
        "id": "g7EVgynkLWK7",
        "outputId": "e0cd08b6-0468-4b8d-9079-d64f758a2df4"
      },
      "source": [
        "learn.fit_one_cycle(1, 1e-2, moms=(0.8,0.7))"
      ],
      "execution_count": 85,
      "outputs": [
        {
          "output_type": "display_data",
          "data": {
            "text/html": [
              "<table border=\"1\" class=\"dataframe\">\n",
              "  <thead>\n",
              "    <tr style=\"text-align: left;\">\n",
              "      <th>epoch</th>\n",
              "      <th>train_loss</th>\n",
              "      <th>valid_loss</th>\n",
              "      <th>accuracy</th>\n",
              "      <th>time</th>\n",
              "    </tr>\n",
              "  </thead>\n",
              "  <tbody>\n",
              "    <tr>\n",
              "      <td>0</td>\n",
              "      <td>3.718726</td>\n",
              "      <td>3.415094</td>\n",
              "      <td>0.405070</td>\n",
              "      <td>08:12</td>\n",
              "    </tr>\n",
              "  </tbody>\n",
              "</table>"
            ],
            "text/plain": [
              "<IPython.core.display.HTML object>"
            ]
          },
          "metadata": {
            "tags": []
          }
        },
        {
          "output_type": "stream",
          "text": [
            "Better model found at epoch 0 with valid_loss value: 3.4150938987731934.\n",
            "Loaded best saved model from /content/wandb/run-20210419_222153-2c9mjpn9/files/bestmodel.pth\n"
          ],
          "name": "stdout"
        }
      ]
    },
    {
      "cell_type": "code",
      "metadata": {
        "colab": {
          "base_uri": "https://localhost:8080/",
          "height": 282
        },
        "id": "UZsTUCKJLqnW",
        "outputId": "17423e5e-fa3b-4001-9446-146f73f3733a"
      },
      "source": [
        "learn.recorder.plot_losses()"
      ],
      "execution_count": 86,
      "outputs": [
        {
          "output_type": "display_data",
          "data": {
            "image/png": "[encoded data removed]",
            "text/plain": [
              "<Figure size 432x288 with 1 Axes>"
            ]
          },
          "metadata": {
            "tags": [],
            "needs_background": "light"
          }
        }
      ]
    },
    {
      "cell_type": "markdown",
      "metadata": {
        "id": "PguheqPAQDuw"
      },
      "source": [
        "## Training Language Model: Fine tuning"
      ]
    },
    {
      "cell_type": "code",
      "metadata": {
        "id": "J_MxQUY2PEt4"
      },
      "source": [
        "learn.unfreeze()"
      ],
      "execution_count": 87,
      "outputs": []
    },
    {
      "cell_type": "code",
      "metadata": {
        "colab": {
          "base_uri": "https://localhost:8080/",
          "height": 282
        },
        "id": "2xWpwi-kQJUk",
        "outputId": "0af14a92-7b8a-4f66-a28f-e26931f50545"
      },
      "source": [
        "learn.fit_one_cycle(3, 1e-3, moms=(0.8,0.7))"
      ],
      "execution_count": 88,
      "outputs": [
        {
          "output_type": "display_data",
          "data": {
            "text/html": [
              "<table border=\"1\" class=\"dataframe\">\n",
              "  <thead>\n",
              "    <tr style=\"text-align: left;\">\n",
              "      <th>epoch</th>\n",
              "      <th>train_loss</th>\n",
              "      <th>valid_loss</th>\n",
              "      <th>accuracy</th>\n",
              "      <th>time</th>\n",
              "    </tr>\n",
              "  </thead>\n",
              "  <tbody>\n",
              "    <tr>\n",
              "      <td>0</td>\n",
              "      <td>3.326706</td>\n",
              "      <td>3.295168</td>\n",
              "      <td>0.416678</td>\n",
              "      <td>09:03</td>\n",
              "    </tr>\n",
              "    <tr>\n",
              "      <td>1</td>\n",
              "      <td>3.211934</td>\n",
              "      <td>3.224742</td>\n",
              "      <td>0.423103</td>\n",
              "      <td>09:03</td>\n",
              "    </tr>\n",
              "    <tr>\n",
              "      <td>2</td>\n",
              "      <td>3.076864</td>\n",
              "      <td>3.210444</td>\n",
              "      <td>0.424777</td>\n",
              "      <td>09:03</td>\n",
              "    </tr>\n",
              "  </tbody>\n",
              "</table>"
            ],
            "text/plain": [
              "<IPython.core.display.HTML object>"
            ]
          },
          "metadata": {
            "tags": []
          }
        },
        {
          "output_type": "stream",
          "text": [
            "Better model found at epoch 0 with valid_loss value: 3.295167922973633.\n",
            "Better model found at epoch 0 with valid_loss value: 3.295167922973633.\n",
            "Better model found at epoch 1 with valid_loss value: 3.2247421741485596.\n",
            "Better model found at epoch 1 with valid_loss value: 3.2247421741485596.\n",
            "Better model found at epoch 2 with valid_loss value: 3.210444211959839.\n",
            "Better model found at epoch 2 with valid_loss value: 3.210444211959839.\n",
            "Loaded best saved model from /content/wandb/run-20210419_222153-2c9mjpn9/files/bestmodel.pth\n",
            "Loaded best saved model from /content/wandb/run-20210419_222153-2c9mjpn9/files/bestmodel.pth\n"
          ],
          "name": "stdout"
        }
      ]
    },
    {
      "cell_type": "code",
      "metadata": {
        "colab": {
          "base_uri": "https://localhost:8080/",
          "height": 283
        },
        "id": "hCuNe36WQNp0",
        "outputId": "b5ef977c-4e43-4599-9c15-76b654486ba5"
      },
      "source": [
        "learn.recorder.plot_losses()"
      ],
      "execution_count": 89,
      "outputs": [
        {
          "output_type": "display_data",
          "data": {
            "image/png": "[encoded data removed]",
            "text/plain": [
              "<Figure size 432x288 with 1 Axes>"
            ]
          },
          "metadata": {
            "tags": [],
            "needs_background": "light"
          }
        }
      ]
    },
    {
      "cell_type": "code",
      "metadata": {
        "id": "zALlWMf5SJFE"
      },
      "source": [
        "learn.save(model_path / '10kgnad_fine_tuned_lm')\n",
        "learn.save_encoder(model_path / '10kgnad_fine_tuned_lm_enc')"
      ],
      "execution_count": 93,
      "outputs": []
    },
    {
      "cell_type": "markdown",
      "metadata": {
        "id": "WgZ9YQBkRZr4"
      },
      "source": [
        "## Evaluation: Text Generation"
      ]
    },
    {
      "cell_type": "code",
      "metadata": {
        "id": "Wa_rzwZ7Rdsq"
      },
      "source": [
        "TEXT = \"Keine\"\n",
        "N_WORDS = 50\n",
        "N_SENTENCES = 2"
      ],
      "execution_count": 103,
      "outputs": []
    },
    {
      "cell_type": "code",
      "metadata": {
        "colab": {
          "base_uri": "https://localhost:8080/"
        },
        "id": "n1mSqTw4Re9S",
        "outputId": "140094bb-2216-49ee-8e15-95a28112775d"
      },
      "source": [
        "print(\"\\n\".join(learn.predict(TEXT, N_WORDS, temperature=0.75) for _ in range(N_SENTENCES)))"
      ],
      "execution_count": 105,
      "outputs": [
        {
          "output_type": "stream",
          "text": [
            "Keine Fähre soll Flüchtlinge in den Gewässern zwischen Calais und Calais bringen . Rom – Die italienische Küstenwache hat am Dienstag Airlines und Boote in der Nähe von Sizilien evakuiert . Die Höhle sei von einer\n",
            "Keine neue Zeile für Satire . Nachdem Microsoft einen Artikel für seinen eigenen Blog veröffentlicht hat , haben die Nutzer zumindest dieses Update für den Versand von Facebook - Kontakten genutzt : So hat es sich bei Facebook\n"
          ],
          "name": "stdout"
        }
      ]
    },
    {
      "cell_type": "code",
      "metadata": {
        "id": "JoCUXqeVTccA"
      },
      "source": [
        ""
      ],
      "execution_count": null,
      "outputs": []
    }
  ]
}