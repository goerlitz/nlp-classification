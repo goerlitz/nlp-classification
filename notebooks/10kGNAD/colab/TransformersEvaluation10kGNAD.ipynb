{
  "nbformat": 4,
  "nbformat_minor": 0,
  "metadata": {
    "colab": {
      "name": "TransformersEvaluation10kGNAD.ipynb",
      "provenance": [],
      "collapsed_sections": [],
      "authorship_tag": "ABX9TyM/pooqmothfD5f8WMDdD5/",
      "include_colab_link": true
    },
    "kernelspec": {
      "name": "python3",
      "display_name": "Python 3"
    },
    "language_info": {
      "name": "python"
    },
    "accelerator": "GPU"
  },
  "cells": [
    {
      "cell_type": "markdown",
      "metadata": {
        "id": "view-in-github",
        "colab_type": "text"
      },
      "source": [
        "<a href=\"https://colab.research.google.com/github/goerlitz/nlp-classification/blob/main/notebooks/10kGNAD/colab/TransformersEvaluation10kGNAD.ipynb\" target=\"_parent\"><img src=\"https://colab.research.google.com/assets/colab-badge.svg\" alt=\"Open In Colab\"/></a>"
      ]
    },
    {
      "cell_type": "markdown",
      "metadata": {
        "id": "BfF1tsgcZm8o"
      },
      "source": [
        "# Evaluation of Pre-trained Transformers Models for German Text Classification\n",
        "\n",
        "**Goal:** Evaluate the performance of different pre-trained Transformers Models from the Hugging Face model hub, i.e. BERT, DistilBERT, Electra.\n",
        "\n",
        "**Experiment Setup:**\n",
        "\n",
        "This evaluation should rely on a simple common baseline for model training without going into details like hyperparameter optimization. Therefore, we use [SimpleTransformers](https://simpletransformers.ai/) with its default settings and the [Ten Thousand German News Articles Dataset](https://tblock.github.io/10kGNAD/)."
      ]
    },
    {
      "cell_type": "markdown",
      "metadata": {
        "id": "H4GaTz-bO6ik"
      },
      "source": [
        "## Prerequisites\n",
        "\n",
        "### List of Models"
      ]
    },
    {
      "cell_type": "code",
      "metadata": {
        "id": "LddfN2gUFWRL"
      },
      "source": [
        "model_names = [\n",
        "          \"bert-base-german-cased\",\n",
        "          \"distilbert-base-german-cased\",\n",
        "          \"dbmdz/bert-base-german-cased\",\n",
        "          \"dbmdz/bert-base-german-uncased\",\n",
        "          \"dbmdz/bert-base-german-europeana-cased\",\n",
        "          \"dbmdz/bert-base-german-europeana-uncased\",\n",
        "          \"dbmdz/distilbert-base-german-europeana-cased\",\n",
        "          \"deepset/gbert-base\",   # newest base model\n",
        "          \"deepset/gbert-large\",\n",
        "          \"deepset/gelectra-base\",\n",
        "          \"deepset/gelectra-large\",   # current SOTA\n",
        "          \"german-nlp-group/electra-base-german-uncased\",\n",
        "          \n",
        "          \"bert-base-multilingual-cased\",\n",
        "          \"distilbert-base-multilingual-cased\",\n",
        "]"
      ],
      "execution_count": 87,
      "outputs": []
    },
    {
      "cell_type": "markdown",
      "metadata": {
        "id": "1916VUBgFZkC"
      },
      "source": [
        "### Check GPU"
      ]
    },
    {
      "cell_type": "code",
      "metadata": {
        "colab": {
          "base_uri": "https://localhost:8080/"
        },
        "id": "gUKAE0UUA8Cd",
        "outputId": "4070909d-62b9-468f-c7b5-f496c2467176"
      },
      "source": [
        "gpu_info = !nvidia-smi\n",
        "gpu_info = '\\n'.join(gpu_info)\n",
        "if gpu_info.find('failed') >= 0:\n",
        "  print('Select the Runtime > \"Change runtime type\" menu to enable a GPU accelerator, ')\n",
        "  print('and then re-execute this cell.')\n",
        "else:\n",
        "  print(gpu_info)"
      ],
      "execution_count": 88,
      "outputs": [
        {
          "output_type": "stream",
          "text": [
            "Mon May 17 21:37:55 2021       \n",
            "+-----------------------------------------------------------------------------+\n",
            "| NVIDIA-SMI 465.19.01    Driver Version: 460.32.03    CUDA Version: 11.2     |\n",
            "|-------------------------------+----------------------+----------------------+\n",
            "| GPU  Name        Persistence-M| Bus-Id        Disp.A | Volatile Uncorr. ECC |\n",
            "| Fan  Temp  Perf  Pwr:Usage/Cap|         Memory-Usage | GPU-Util  Compute M. |\n",
            "|                               |                      |               MIG M. |\n",
            "|===============================+======================+======================|\n",
            "|   0  Tesla P100-PCIE...  Off  | 00000000:00:04.0 Off |                    0 |\n",
            "| N/A   38C    P0    34W / 250W |   5283MiB / 16280MiB |      0%      Default |\n",
            "|                               |                      |                  N/A |\n",
            "+-------------------------------+----------------------+----------------------+\n",
            "                                                                               \n",
            "+-----------------------------------------------------------------------------+\n",
            "| Processes:                                                                  |\n",
            "|  GPU   GI   CI        PID   Type   Process name                  GPU Memory |\n",
            "|        ID   ID                                                   Usage      |\n",
            "|=============================================================================|\n",
            "+-----------------------------------------------------------------------------+\n"
          ],
          "name": "stdout"
        }
      ]
    },
    {
      "cell_type": "markdown",
      "metadata": {
        "id": "Q2FMqyWku206"
      },
      "source": [
        "\n",
        "### Install Tranformers"
      ]
    },
    {
      "cell_type": "code",
      "metadata": {
        "colab": {
          "base_uri": "https://localhost:8080/"
        },
        "id": "UFuf6ZDEZ2Xo",
        "outputId": "ef50d67d-c346-4d2c-de4b-70b09b9f74df"
      },
      "source": [
        "# install transformers\n",
        "!pip install -q --upgrade tqdm==4.47.0 >/dev/null\n",
        "!pip install -q --upgrade transformers simpletransformers >/dev/null\n",
        "\n",
        "# check installed version\n",
        "!pip freeze | grep transformers\n",
        "# simpletransformers==0.61.4\n",
        "# transformers==4.6.0"
      ],
      "execution_count": 89,
      "outputs": [
        {
          "output_type": "stream",
          "text": [
            "simpletransformers==0.61.4\n",
            "transformers==4.6.0\n"
          ],
          "name": "stdout"
        }
      ]
    },
    {
      "cell_type": "code",
      "metadata": {
        "id": "Wa36sieXlzjQ"
      },
      "source": [
        "import numpy as np\n",
        "import pandas as pd\n",
        "import matplotlib.pyplot as plt\n",
        "from pathlib import Path\n",
        "import time\n",
        "import os\n",
        "\n",
        "from simpletransformers.classification import ClassificationModel\n",
        "from transformers import AutoTokenizer\n",
        "\n",
        "os.environ[\"WANDB_SILENT\"] = \"true\""
      ],
      "execution_count": 90,
      "outputs": []
    },
    {
      "cell_type": "markdown",
      "metadata": {
        "id": "6RfcFdTwz6s-"
      },
      "source": [
        "### Connect Google Drive"
      ]
    },
    {
      "cell_type": "code",
      "metadata": {
        "id": "idz1KVoIpdM2"
      },
      "source": [
        "from google.colab import drive"
      ],
      "execution_count": 91,
      "outputs": []
    },
    {
      "cell_type": "code",
      "metadata": {
        "id": "KzEzRyAfpdrL",
        "colab": {
          "base_uri": "https://localhost:8080/"
        },
        "outputId": "26ff141e-ccc6-41b4-ef34-8c9b695554b7"
      },
      "source": [
        "drive.mount('/content/gdrive')"
      ],
      "execution_count": 92,
      "outputs": [
        {
          "output_type": "stream",
          "text": [
            "Drive already mounted at /content/gdrive; to attempt to forcibly remount, call drive.mount(\"/content/gdrive\", force_remount=True).\n"
          ],
          "name": "stdout"
        }
      ]
    },
    {
      "cell_type": "markdown",
      "metadata": {
        "id": "AsTaSRJekM0L"
      },
      "source": [
        "### Download Data\n",
        "\n",
        "Get the 10k German News Articles Dataset"
      ]
    },
    {
      "cell_type": "code",
      "metadata": {
        "colab": {
          "base_uri": "https://localhost:8080/"
        },
        "id": "pf-3EEDYXlhh",
        "outputId": "e025bd8d-51f9-4394-dba9-98ebb2d53dd2"
      },
      "source": [
        "%env DIR=data\n",
        "\n",
        "!mkdir -p $DIR\n",
        "!wget -nc https://github.com/tblock/10kGNAD/blob/master/train.csv?raw=true -nv -O $DIR/train.csv\n",
        "!wget -nc https://github.com/tblock/10kGNAD/blob/master/test.csv?raw=true -nv -O $DIR/test.csv\n",
        "!ls -lAh $DIR | cut -d \" \" -f 5-"
      ],
      "execution_count": 93,
      "outputs": [
        {
          "output_type": "stream",
          "text": [
            "env: DIR=data\n",
            "\n",
            "2.7M May 17 11:51 test.csv\n",
            " 24M May 17 11:51 train.csv\n"
          ],
          "name": "stdout"
        }
      ]
    },
    {
      "cell_type": "markdown",
      "metadata": {
        "id": "XuLSIj9NkXAG"
      },
      "source": [
        "## Import Data\n",
        "\n",
        "Load training and test dataset"
      ]
    },
    {
      "cell_type": "code",
      "metadata": {
        "id": "fL2RFkuaaQug"
      },
      "source": [
        "data_dir = Path(os.getenv(\"DIR\"))\n",
        "\n",
        "train_file = data_dir / 'train.csv'\n",
        "test_file = data_dir / 'test.csv'\n",
        "\n",
        "def load_10kgnad(filepath: Path, columns=['labels', 'text']) -> pd.DataFrame:\n",
        "    \"\"\"Load 10kGNAD data file\"\"\"\n",
        "    f = pd.read_csv(filepath, sep=\";\", quotechar=\"'\", names=columns)\n",
        "    return f"
      ],
      "execution_count": 94,
      "outputs": []
    },
    {
      "cell_type": "code",
      "metadata": {
        "colab": {
          "base_uri": "https://localhost:8080/",
          "height": 224
        },
        "id": "pFMweinxRnAT",
        "outputId": "079b121e-b178-46ab-83d6-8f2dbea5c759"
      },
      "source": [
        "train_df = load_file(data_dir / 'train.csv')\n",
        "print(train_df.shape[0], 'articles')\n",
        "display(train_df.head())"
      ],
      "execution_count": 95,
      "outputs": [
        {
          "output_type": "stream",
          "text": [
            "9245 articles\n"
          ],
          "name": "stdout"
        },
        {
          "output_type": "display_data",
          "data": {
            "text/html": [
              "<div>\n",
              "<style scoped>\n",
              "    .dataframe tbody tr th:only-of-type {\n",
              "        vertical-align: middle;\n",
              "    }\n",
              "\n",
              "    .dataframe tbody tr th {\n",
              "        vertical-align: top;\n",
              "    }\n",
              "\n",
              "    .dataframe thead th {\n",
              "        text-align: right;\n",
              "    }\n",
              "</style>\n",
              "<table border=\"1\" class=\"dataframe\">\n",
              "  <thead>\n",
              "    <tr style=\"text-align: right;\">\n",
              "      <th></th>\n",
              "      <th>labels</th>\n",
              "      <th>text</th>\n",
              "    </tr>\n",
              "  </thead>\n",
              "  <tbody>\n",
              "    <tr>\n",
              "      <th>0</th>\n",
              "      <td>Sport</td>\n",
              "      <td>21-Jähriger fällt wohl bis Saisonende aus. Wie...</td>\n",
              "    </tr>\n",
              "    <tr>\n",
              "      <th>1</th>\n",
              "      <td>Kultur</td>\n",
              "      <td>Erfundene Bilder zu Filmen, die als verloren g...</td>\n",
              "    </tr>\n",
              "    <tr>\n",
              "      <th>2</th>\n",
              "      <td>Web</td>\n",
              "      <td>Der frischgekürte CEO Sundar Pichai setzt auf ...</td>\n",
              "    </tr>\n",
              "    <tr>\n",
              "      <th>3</th>\n",
              "      <td>Wirtschaft</td>\n",
              "      <td>Putin: \"Einigung, dass wir Menge auf Niveau vo...</td>\n",
              "    </tr>\n",
              "    <tr>\n",
              "      <th>4</th>\n",
              "      <td>Inland</td>\n",
              "      <td>Estland sieht den künftigen österreichischen P...</td>\n",
              "    </tr>\n",
              "  </tbody>\n",
              "</table>\n",
              "</div>"
            ],
            "text/plain": [
              "       labels                                               text\n",
              "0       Sport  21-Jähriger fällt wohl bis Saisonende aus. Wie...\n",
              "1      Kultur  Erfundene Bilder zu Filmen, die als verloren g...\n",
              "2         Web  Der frischgekürte CEO Sundar Pichai setzt auf ...\n",
              "3  Wirtschaft  Putin: \"Einigung, dass wir Menge auf Niveau vo...\n",
              "4      Inland  Estland sieht den künftigen österreichischen P..."
            ]
          },
          "metadata": {
            "tags": []
          }
        }
      ]
    },
    {
      "cell_type": "code",
      "metadata": {
        "colab": {
          "base_uri": "https://localhost:8080/",
          "height": 224
        },
        "id": "-7Nk55Zhbqgv",
        "outputId": "240bf9ac-0867-4b09-ba05-6cc9357ab3da"
      },
      "source": [
        "test_df = load_file(data_dir / 'test.csv')\n",
        "print(test_df.shape[0], 'articles')\n",
        "display(test_df.head())"
      ],
      "execution_count": 96,
      "outputs": [
        {
          "output_type": "stream",
          "text": [
            "1028 articles\n"
          ],
          "name": "stdout"
        },
        {
          "output_type": "display_data",
          "data": {
            "text/html": [
              "<div>\n",
              "<style scoped>\n",
              "    .dataframe tbody tr th:only-of-type {\n",
              "        vertical-align: middle;\n",
              "    }\n",
              "\n",
              "    .dataframe tbody tr th {\n",
              "        vertical-align: top;\n",
              "    }\n",
              "\n",
              "    .dataframe thead th {\n",
              "        text-align: right;\n",
              "    }\n",
              "</style>\n",
              "<table border=\"1\" class=\"dataframe\">\n",
              "  <thead>\n",
              "    <tr style=\"text-align: right;\">\n",
              "      <th></th>\n",
              "      <th>labels</th>\n",
              "      <th>text</th>\n",
              "    </tr>\n",
              "  </thead>\n",
              "  <tbody>\n",
              "    <tr>\n",
              "      <th>0</th>\n",
              "      <td>Wirtschaft</td>\n",
              "      <td>Die Gewerkschaft GPA-djp lanciert den \"All-in-...</td>\n",
              "    </tr>\n",
              "    <tr>\n",
              "      <th>1</th>\n",
              "      <td>Sport</td>\n",
              "      <td>Franzosen verteidigen 2:1-Führung – Kritische ...</td>\n",
              "    </tr>\n",
              "    <tr>\n",
              "      <th>2</th>\n",
              "      <td>Web</td>\n",
              "      <td>Neues Video von Designern macht im Netz die Ru...</td>\n",
              "    </tr>\n",
              "    <tr>\n",
              "      <th>3</th>\n",
              "      <td>Sport</td>\n",
              "      <td>23-jähriger Brasilianer muss vier Spiele pausi...</td>\n",
              "    </tr>\n",
              "    <tr>\n",
              "      <th>4</th>\n",
              "      <td>International</td>\n",
              "      <td>Aufständische verwendeten Chemikalie bei Gefec...</td>\n",
              "    </tr>\n",
              "  </tbody>\n",
              "</table>\n",
              "</div>"
            ],
            "text/plain": [
              "          labels                                               text\n",
              "0     Wirtschaft  Die Gewerkschaft GPA-djp lanciert den \"All-in-...\n",
              "1          Sport  Franzosen verteidigen 2:1-Führung – Kritische ...\n",
              "2            Web  Neues Video von Designern macht im Netz die Ru...\n",
              "3          Sport  23-jähriger Brasilianer muss vier Spiele pausi...\n",
              "4  International  Aufständische verwendeten Chemikalie bei Gefec..."
            ]
          },
          "metadata": {
            "tags": []
          }
        }
      ]
    },
    {
      "cell_type": "markdown",
      "metadata": {
        "id": "oFgSEkulaNq3"
      },
      "source": [
        "## Prepare for Model Training\n",
        "\n",
        "Requirements of SimpleTransformers\n",
        "\n",
        "* columns should be labeled `labels` and `text` (onready done during import)\n",
        "* labels must be int values starting at `0`"
      ]
    },
    {
      "cell_type": "code",
      "metadata": {
        "colab": {
          "base_uri": "https://localhost:8080/"
        },
        "id": "3Y6YrJ8sNarL",
        "outputId": "c7dea542-5f12-4720-f741-f3703dceeaa2"
      },
      "source": [
        "# map label to integers\n",
        "mapping_s = pd.Series(train_df.labels.value_counts().index)\n",
        "mapping_s"
      ],
      "execution_count": 97,
      "outputs": [
        {
          "output_type": "execute_result",
          "data": {
            "text/plain": [
              "0         Panorama\n",
              "1              Web\n",
              "2    International\n",
              "3       Wirtschaft\n",
              "4            Sport\n",
              "5           Inland\n",
              "6             Etat\n",
              "7     Wissenschaft\n",
              "8           Kultur\n",
              "dtype: object"
            ]
          },
          "metadata": {
            "tags": []
          },
          "execution_count": 97
        }
      ]
    },
    {
      "cell_type": "code",
      "metadata": {
        "colab": {
          "base_uri": "https://localhost:8080/",
          "height": 395
        },
        "id": "KP7qKCTXXV25",
        "outputId": "703efce5-9b0f-4fba-891c-a55e766c2ffa"
      },
      "source": [
        "# replace labels with integers starting at 0\n",
        "train_df.labels.replace(mapping_s.values, mapping_s.index, inplace=True)\n",
        "test_df.labels.replace(mapping_s.values, mapping_s.index, inplace=True)\n",
        "display(train_df.head())\n",
        "display(test_df.head())"
      ],
      "execution_count": 98,
      "outputs": [
        {
          "output_type": "display_data",
          "data": {
            "text/html": [
              "<div>\n",
              "<style scoped>\n",
              "    .dataframe tbody tr th:only-of-type {\n",
              "        vertical-align: middle;\n",
              "    }\n",
              "\n",
              "    .dataframe tbody tr th {\n",
              "        vertical-align: top;\n",
              "    }\n",
              "\n",
              "    .dataframe thead th {\n",
              "        text-align: right;\n",
              "    }\n",
              "</style>\n",
              "<table border=\"1\" class=\"dataframe\">\n",
              "  <thead>\n",
              "    <tr style=\"text-align: right;\">\n",
              "      <th></th>\n",
              "      <th>labels</th>\n",
              "      <th>text</th>\n",
              "    </tr>\n",
              "  </thead>\n",
              "  <tbody>\n",
              "    <tr>\n",
              "      <th>0</th>\n",
              "      <td>4</td>\n",
              "      <td>21-Jähriger fällt wohl bis Saisonende aus. Wie...</td>\n",
              "    </tr>\n",
              "    <tr>\n",
              "      <th>1</th>\n",
              "      <td>8</td>\n",
              "      <td>Erfundene Bilder zu Filmen, die als verloren g...</td>\n",
              "    </tr>\n",
              "    <tr>\n",
              "      <th>2</th>\n",
              "      <td>1</td>\n",
              "      <td>Der frischgekürte CEO Sundar Pichai setzt auf ...</td>\n",
              "    </tr>\n",
              "    <tr>\n",
              "      <th>3</th>\n",
              "      <td>3</td>\n",
              "      <td>Putin: \"Einigung, dass wir Menge auf Niveau vo...</td>\n",
              "    </tr>\n",
              "    <tr>\n",
              "      <th>4</th>\n",
              "      <td>5</td>\n",
              "      <td>Estland sieht den künftigen österreichischen P...</td>\n",
              "    </tr>\n",
              "  </tbody>\n",
              "</table>\n",
              "</div>"
            ],
            "text/plain": [
              "   labels                                               text\n",
              "0       4  21-Jähriger fällt wohl bis Saisonende aus. Wie...\n",
              "1       8  Erfundene Bilder zu Filmen, die als verloren g...\n",
              "2       1  Der frischgekürte CEO Sundar Pichai setzt auf ...\n",
              "3       3  Putin: \"Einigung, dass wir Menge auf Niveau vo...\n",
              "4       5  Estland sieht den künftigen österreichischen P..."
            ]
          },
          "metadata": {
            "tags": []
          }
        },
        {
          "output_type": "display_data",
          "data": {
            "text/html": [
              "<div>\n",
              "<style scoped>\n",
              "    .dataframe tbody tr th:only-of-type {\n",
              "        vertical-align: middle;\n",
              "    }\n",
              "\n",
              "    .dataframe tbody tr th {\n",
              "        vertical-align: top;\n",
              "    }\n",
              "\n",
              "    .dataframe thead th {\n",
              "        text-align: right;\n",
              "    }\n",
              "</style>\n",
              "<table border=\"1\" class=\"dataframe\">\n",
              "  <thead>\n",
              "    <tr style=\"text-align: right;\">\n",
              "      <th></th>\n",
              "      <th>labels</th>\n",
              "      <th>text</th>\n",
              "    </tr>\n",
              "  </thead>\n",
              "  <tbody>\n",
              "    <tr>\n",
              "      <th>0</th>\n",
              "      <td>3</td>\n",
              "      <td>Die Gewerkschaft GPA-djp lanciert den \"All-in-...</td>\n",
              "    </tr>\n",
              "    <tr>\n",
              "      <th>1</th>\n",
              "      <td>4</td>\n",
              "      <td>Franzosen verteidigen 2:1-Führung – Kritische ...</td>\n",
              "    </tr>\n",
              "    <tr>\n",
              "      <th>2</th>\n",
              "      <td>1</td>\n",
              "      <td>Neues Video von Designern macht im Netz die Ru...</td>\n",
              "    </tr>\n",
              "    <tr>\n",
              "      <th>3</th>\n",
              "      <td>4</td>\n",
              "      <td>23-jähriger Brasilianer muss vier Spiele pausi...</td>\n",
              "    </tr>\n",
              "    <tr>\n",
              "      <th>4</th>\n",
              "      <td>2</td>\n",
              "      <td>Aufständische verwendeten Chemikalie bei Gefec...</td>\n",
              "    </tr>\n",
              "  </tbody>\n",
              "</table>\n",
              "</div>"
            ],
            "text/plain": [
              "   labels                                               text\n",
              "0       3  Die Gewerkschaft GPA-djp lanciert den \"All-in-...\n",
              "1       4  Franzosen verteidigen 2:1-Führung – Kritische ...\n",
              "2       1  Neues Video von Designern macht im Netz die Ru...\n",
              "3       4  23-jähriger Brasilianer muss vier Spiele pausi...\n",
              "4       2  Aufständische verwendeten Chemikalie bei Gefec..."
            ]
          },
          "metadata": {
            "tags": []
          }
        }
      ]
    },
    {
      "cell_type": "markdown",
      "metadata": {
        "id": "xclwtZOSanXP"
      },
      "source": [
        "## Evaluation Setup\n",
        "\n",
        "There are many different German (or multilingual) language models we want to evaluate"
      ]
    },
    {
      "cell_type": "code",
      "metadata": {
        "colab": {
          "base_uri": "https://localhost:8080/",
          "height": 489
        },
        "id": "eJE-ES8tOEcl",
        "outputId": "747bd18b-5b08-47bf-85b0-410c97ab1971"
      },
      "source": [
        "def get_model_type(model_name: str):\n",
        "    if \"electra\" in model_name:\n",
        "        return \"electra\"\n",
        "\n",
        "    if \"distilbert\" in model_name:\n",
        "        return \"distilbert\"\n",
        "\n",
        "    if \"bert\" in model_name:\n",
        "        return \"bert\"\n",
        "\n",
        "    return None\n",
        "\n",
        "model_df = pd.DataFrame([(get_model_type(m), m) for m in model_names], columns=[\"type\", \"name\"])\n",
        "model_df"
      ],
      "execution_count": 99,
      "outputs": [
        {
          "output_type": "execute_result",
          "data": {
            "text/html": [
              "<div>\n",
              "<style scoped>\n",
              "    .dataframe tbody tr th:only-of-type {\n",
              "        vertical-align: middle;\n",
              "    }\n",
              "\n",
              "    .dataframe tbody tr th {\n",
              "        vertical-align: top;\n",
              "    }\n",
              "\n",
              "    .dataframe thead th {\n",
              "        text-align: right;\n",
              "    }\n",
              "</style>\n",
              "<table border=\"1\" class=\"dataframe\">\n",
              "  <thead>\n",
              "    <tr style=\"text-align: right;\">\n",
              "      <th></th>\n",
              "      <th>type</th>\n",
              "      <th>name</th>\n",
              "    </tr>\n",
              "  </thead>\n",
              "  <tbody>\n",
              "    <tr>\n",
              "      <th>0</th>\n",
              "      <td>bert</td>\n",
              "      <td>bert-base-german-cased</td>\n",
              "    </tr>\n",
              "    <tr>\n",
              "      <th>1</th>\n",
              "      <td>distilbert</td>\n",
              "      <td>distilbert-base-german-cased</td>\n",
              "    </tr>\n",
              "    <tr>\n",
              "      <th>2</th>\n",
              "      <td>bert</td>\n",
              "      <td>dbmdz/bert-base-german-cased</td>\n",
              "    </tr>\n",
              "    <tr>\n",
              "      <th>3</th>\n",
              "      <td>bert</td>\n",
              "      <td>dbmdz/bert-base-german-uncased</td>\n",
              "    </tr>\n",
              "    <tr>\n",
              "      <th>4</th>\n",
              "      <td>bert</td>\n",
              "      <td>dbmdz/bert-base-german-europeana-cased</td>\n",
              "    </tr>\n",
              "    <tr>\n",
              "      <th>5</th>\n",
              "      <td>bert</td>\n",
              "      <td>dbmdz/bert-base-german-europeana-uncased</td>\n",
              "    </tr>\n",
              "    <tr>\n",
              "      <th>6</th>\n",
              "      <td>distilbert</td>\n",
              "      <td>dbmdz/distilbert-base-german-europeana-cased</td>\n",
              "    </tr>\n",
              "    <tr>\n",
              "      <th>7</th>\n",
              "      <td>bert</td>\n",
              "      <td>deepset/gbert-base</td>\n",
              "    </tr>\n",
              "    <tr>\n",
              "      <th>8</th>\n",
              "      <td>bert</td>\n",
              "      <td>deepset/gbert-large</td>\n",
              "    </tr>\n",
              "    <tr>\n",
              "      <th>9</th>\n",
              "      <td>electra</td>\n",
              "      <td>deepset/gelectra-base</td>\n",
              "    </tr>\n",
              "    <tr>\n",
              "      <th>10</th>\n",
              "      <td>electra</td>\n",
              "      <td>deepset/gelectra-large</td>\n",
              "    </tr>\n",
              "    <tr>\n",
              "      <th>11</th>\n",
              "      <td>electra</td>\n",
              "      <td>german-nlp-group/electra-base-german-uncased</td>\n",
              "    </tr>\n",
              "    <tr>\n",
              "      <th>12</th>\n",
              "      <td>bert</td>\n",
              "      <td>bert-base-multilingual-cased</td>\n",
              "    </tr>\n",
              "    <tr>\n",
              "      <th>13</th>\n",
              "      <td>distilbert</td>\n",
              "      <td>distilbert-base-multilingual-cased</td>\n",
              "    </tr>\n",
              "  </tbody>\n",
              "</table>\n",
              "</div>"
            ],
            "text/plain": [
              "          type                                          name\n",
              "0         bert                        bert-base-german-cased\n",
              "1   distilbert                  distilbert-base-german-cased\n",
              "2         bert                  dbmdz/bert-base-german-cased\n",
              "3         bert                dbmdz/bert-base-german-uncased\n",
              "4         bert        dbmdz/bert-base-german-europeana-cased\n",
              "5         bert      dbmdz/bert-base-german-europeana-uncased\n",
              "6   distilbert  dbmdz/distilbert-base-german-europeana-cased\n",
              "7         bert                            deepset/gbert-base\n",
              "8         bert                           deepset/gbert-large\n",
              "9      electra                         deepset/gelectra-base\n",
              "10     electra                        deepset/gelectra-large\n",
              "11     electra  german-nlp-group/electra-base-german-uncased\n",
              "12        bert                  bert-base-multilingual-cased\n",
              "13  distilbert            distilbert-base-multilingual-cased"
            ]
          },
          "metadata": {
            "tags": []
          },
          "execution_count": 99
        }
      ]
    },
    {
      "cell_type": "code",
      "metadata": {
        "colab": {
          "base_uri": "https://localhost:8080/"
        },
        "id": "4lIGoQjd_ylO",
        "outputId": "a661c065-1734-4560-dd8e-364a092f6c93"
      },
      "source": [
        "mdl = model_df.iloc[10]\n",
        "print(f\"using model: '{mdl['name']}'\")"
      ],
      "execution_count": 106,
      "outputs": [
        {
          "output_type": "stream",
          "text": [
            "using model: 'deepset/gelectra-large'\n"
          ],
          "name": "stdout"
        }
      ]
    },
    {
      "cell_type": "code",
      "metadata": {
        "id": "ilsQfVSs6mLM"
      },
      "source": [
        "import wandb\n",
        "\n",
        "# initialize weights & biases logging\n",
        "project_name = \"german_news_article_classification2\""
      ],
      "execution_count": 101,
      "outputs": []
    },
    {
      "cell_type": "code",
      "metadata": {
        "id": "feusxakWaTCB"
      },
      "source": [
        "# define hyperparameters\n",
        "train_args ={\"reprocess_input_data\": True,\n",
        "             \"fp16\": False,\n",
        "             \"num_train_epochs\": 4,\n",
        "             # \"weight\": train_weights_s.values,\n",
        "             \"evaluate_during_training\": True,\n",
        "             \"overwrite_output_dir\": True,\n",
        "             \"wandb_project\": project_name}\n",
        "\n",
        "from sklearn.metrics import f1_score, accuracy_score, precision_score, recall_score\n",
        "\n",
        "def f1_multiclass(labels, preds):\n",
        "    return f1_score(labels, preds, average='macro')\n",
        "\n",
        "def precision_multiclass(labels, preds):\n",
        "    return precision_score(labels, preds, average='macro')\n",
        "\n",
        "def recall_multiclass(labels, preds):\n",
        "    return recall_score(labels, preds, average='macro')"
      ],
      "execution_count": 102,
      "outputs": []
    },
    {
      "cell_type": "code",
      "metadata": {
        "id": "O1DMTCqtwQE1"
      },
      "source": [
        "def init_classifier(model_type:str, model_name:str, num_labels, train_args) -> ClassificationModel:\n",
        "\n",
        "    # need to create a tokenizer first and adjust train args with lower case setting\n",
        "    tokenizer = AutoTokenizer.from_pretrained(model_name)\n",
        "    train_args = {**train_args, **{ \"do_lower_case\": tokenizer.do_lower_case }}\n",
        "\n",
        "    # Create a ClassificationModel\n",
        "    return ClassificationModel(model_type, model_name, tokenizer_name=model_name, num_labels=num_labels, args=train_args)\n",
        "\n",
        "def train_model(model:ClassificationModel, train_df, eval_df, show_loss=False):\n",
        "    return model.train_model(train_df, eval_df=eval_df, verbose=False, show_running_loss=show_loss, f1=f1_multiclass, acc=accuracy_score, precision=precision_multiclass, recall=recall_multiclass)\n",
        "\n",
        "def eval_model(model:ClassificationModel, eval_df):\n",
        "    return model.eval_model(test_df, wandb_log=False, f1=f1_multiclass, acc=accuracy_score, precision=precision_multiclass, recall=recall_multiclass)\n",
        "\n",
        "def log_results(model_name, start, end, details):\n",
        "    eval_df = pd.DataFrame(details)[-1:].reset_index(drop=True).round(4)\n",
        "    result_df = pd.DataFrame({\n",
        "        \"start_time\": [time.strftime('%Y-%m-%d %H:%M:%S %Z', time.gmtime(start))],\n",
        "        \"runtime\": [int(end - start)],\n",
        "        \"model_name\": [model_name],\n",
        "        })\n",
        "    output_df = pd.concat([result_df, eval_df], axis=1)\n",
        "\n",
        "    eval_log = Path(\"/content/gdrive/My Drive/Colab Notebooks/nlp-classification/data\") / \"eval_log2.txt\"\n",
        "\n",
        "    if eval_log.exists():\n",
        "        output_df.to_csv(eval_log, mode='a', header=False, index=False)\n",
        "    else:\n",
        "        output_df.to_csv(eval_log, index=False)"
      ],
      "execution_count": 103,
      "outputs": []
    },
    {
      "cell_type": "code",
      "metadata": {
        "id": "ZKZgDXsgcHFt"
      },
      "source": [
        "# run training multiple times\n",
        "num_runs = 11\n",
        "\n",
        "for i in range(num_runs):\n",
        "\n",
        "    model = init_classifier(mdl[\"type\"], mdl[\"name\"], len(mapping_s), train_args)\n",
        "    \n",
        "    start = time.time()\n",
        "    steps, details = train_model(model, train_df, test_df)\n",
        "    end = time.time()\n",
        "    \n",
        "    wandb.finish()\n",
        "    log_results(mdl[\"name\"], start, end, details)"
      ],
      "execution_count": null,
      "outputs": []
    }
  ]
}