{
  "nbformat": 4,
  "nbformat_minor": 0,
  "metadata": {
    "accelerator": "GPU",
    "colab": {
      "name": "21c_10kGNAD_huggingface_basic_optuna.ipynb",
      "provenance": [],
      "collapsed_sections": [],
      "authorship_tag": "ABX9TyOlMFJ3BdYfueDATc5vqo/P",
      "include_colab_link": true
    },
    "kernelspec": {
      "display_name": "Python 3",
      "name": "python3"
    },
    "language_info": {
      "name": "python"
    },
    "widgets": {
      "application/vnd.jupyter.widget-state+json": {
        "82098183e6be445584a7127f3985ee98": {
          "model_module": "@jupyter-widgets/controls",
          "model_name": "HBoxModel",
          "model_module_version": "1.5.0",
          "state": {
            "_view_name": "HBoxView",
            "_dom_classes": [],
            "_model_name": "HBoxModel",
            "_view_module": "@jupyter-widgets/controls",
            "_model_module_version": "1.5.0",
            "_view_count": null,
            "_view_module_version": "1.5.0",
            "box_style": "",
            "layout": "IPY_MODEL_9c56a31acf3b4073990d2b6fde8ed1c5",
            "_model_module": "@jupyter-widgets/controls",
            "children": [
              "IPY_MODEL_f58fa39057264a2e8c19cbb1ea70b4a2",
              "IPY_MODEL_d4c5136293bd46b9baa4cdae85ec2026",
              "IPY_MODEL_7bfc761d1766414d9f4da549967ba50d"
            ]
          }
        },
        "9c56a31acf3b4073990d2b6fde8ed1c5": {
          "model_module": "@jupyter-widgets/base",
          "model_name": "LayoutModel",
          "model_module_version": "1.2.0",
          "state": {
            "_view_name": "LayoutView",
            "grid_template_rows": null,
            "right": null,
            "justify_content": null,
            "_view_module": "@jupyter-widgets/base",
            "overflow": null,
            "_model_module_version": "1.2.0",
            "_view_count": null,
            "flex_flow": null,
            "width": null,
            "min_width": null,
            "border": null,
            "align_items": null,
            "bottom": null,
            "_model_module": "@jupyter-widgets/base",
            "top": null,
            "grid_column": null,
            "overflow_y": null,
            "overflow_x": null,
            "grid_auto_flow": null,
            "grid_area": null,
            "grid_template_columns": null,
            "flex": null,
            "_model_name": "LayoutModel",
            "justify_items": null,
            "grid_row": null,
            "max_height": null,
            "align_content": null,
            "visibility": null,
            "align_self": null,
            "height": null,
            "min_height": null,
            "padding": null,
            "grid_auto_rows": null,
            "grid_gap": null,
            "max_width": null,
            "order": null,
            "_view_module_version": "1.2.0",
            "grid_template_areas": null,
            "object_position": null,
            "object_fit": null,
            "grid_auto_columns": null,
            "margin": null,
            "display": null,
            "left": null
          }
        },
        "f58fa39057264a2e8c19cbb1ea70b4a2": {
          "model_module": "@jupyter-widgets/controls",
          "model_name": "HTMLModel",
          "model_module_version": "1.5.0",
          "state": {
            "_view_name": "HTMLView",
            "style": "IPY_MODEL_3815b127b7e34d57a3d3544697b95984",
            "_dom_classes": [],
            "description": "",
            "_model_name": "HTMLModel",
            "placeholder": "​",
            "_view_module": "@jupyter-widgets/controls",
            "_model_module_version": "1.5.0",
            "value": "100%",
            "_view_count": null,
            "_view_module_version": "1.5.0",
            "description_tooltip": null,
            "_model_module": "@jupyter-widgets/controls",
            "layout": "IPY_MODEL_5d43efbe58db44f08e5ebab06af2d401"
          }
        },
        "d4c5136293bd46b9baa4cdae85ec2026": {
          "model_module": "@jupyter-widgets/controls",
          "model_name": "FloatProgressModel",
          "model_module_version": "1.5.0",
          "state": {
            "_view_name": "ProgressView",
            "style": "IPY_MODEL_51b5403aced844b8912215116f26b5aa",
            "_dom_classes": [],
            "description": "",
            "_model_name": "FloatProgressModel",
            "bar_style": "success",
            "max": 2,
            "_view_module": "@jupyter-widgets/controls",
            "_model_module_version": "1.5.0",
            "value": 2,
            "_view_count": null,
            "_view_module_version": "1.5.0",
            "orientation": "horizontal",
            "min": 0,
            "description_tooltip": null,
            "_model_module": "@jupyter-widgets/controls",
            "layout": "IPY_MODEL_e59b79ba560841aa9982a31288d52e4d"
          }
        },
        "7bfc761d1766414d9f4da549967ba50d": {
          "model_module": "@jupyter-widgets/controls",
          "model_name": "HTMLModel",
          "model_module_version": "1.5.0",
          "state": {
            "_view_name": "HTMLView",
            "style": "IPY_MODEL_9e2a5174256542e98f051886118c7c62",
            "_dom_classes": [],
            "description": "",
            "_model_name": "HTMLModel",
            "placeholder": "​",
            "_view_module": "@jupyter-widgets/controls",
            "_model_module_version": "1.5.0",
            "value": " 2/2 [00:00&lt;00:00, 59.44it/s]",
            "_view_count": null,
            "_view_module_version": "1.5.0",
            "description_tooltip": null,
            "_model_module": "@jupyter-widgets/controls",
            "layout": "IPY_MODEL_dcf86f1c06464258a81690eedacb4715"
          }
        },
        "3815b127b7e34d57a3d3544697b95984": {
          "model_module": "@jupyter-widgets/controls",
          "model_name": "DescriptionStyleModel",
          "model_module_version": "1.5.0",
          "state": {
            "_view_name": "StyleView",
            "_model_name": "DescriptionStyleModel",
            "description_width": "",
            "_view_module": "@jupyter-widgets/base",
            "_model_module_version": "1.5.0",
            "_view_count": null,
            "_view_module_version": "1.2.0",
            "_model_module": "@jupyter-widgets/controls"
          }
        },
        "5d43efbe58db44f08e5ebab06af2d401": {
          "model_module": "@jupyter-widgets/base",
          "model_name": "LayoutModel",
          "model_module_version": "1.2.0",
          "state": {
            "_view_name": "LayoutView",
            "grid_template_rows": null,
            "right": null,
            "justify_content": null,
            "_view_module": "@jupyter-widgets/base",
            "overflow": null,
            "_model_module_version": "1.2.0",
            "_view_count": null,
            "flex_flow": null,
            "width": null,
            "min_width": null,
            "border": null,
            "align_items": null,
            "bottom": null,
            "_model_module": "@jupyter-widgets/base",
            "top": null,
            "grid_column": null,
            "overflow_y": null,
            "overflow_x": null,
            "grid_auto_flow": null,
            "grid_area": null,
            "grid_template_columns": null,
            "flex": null,
            "_model_name": "LayoutModel",
            "justify_items": null,
            "grid_row": null,
            "max_height": null,
            "align_content": null,
            "visibility": null,
            "align_self": null,
            "height": null,
            "min_height": null,
            "padding": null,
            "grid_auto_rows": null,
            "grid_gap": null,
            "max_width": null,
            "order": null,
            "_view_module_version": "1.2.0",
            "grid_template_areas": null,
            "object_position": null,
            "object_fit": null,
            "grid_auto_columns": null,
            "margin": null,
            "display": null,
            "left": null
          }
        },
        "51b5403aced844b8912215116f26b5aa": {
          "model_module": "@jupyter-widgets/controls",
          "model_name": "ProgressStyleModel",
          "model_module_version": "1.5.0",
          "state": {
            "_view_name": "StyleView",
            "_model_name": "ProgressStyleModel",
            "description_width": "",
            "_view_module": "@jupyter-widgets/base",
            "_model_module_version": "1.5.0",
            "_view_count": null,
            "_view_module_version": "1.2.0",
            "bar_color": null,
            "_model_module": "@jupyter-widgets/controls"
          }
        },
        "e59b79ba560841aa9982a31288d52e4d": {
          "model_module": "@jupyter-widgets/base",
          "model_name": "LayoutModel",
          "model_module_version": "1.2.0",
          "state": {
            "_view_name": "LayoutView",
            "grid_template_rows": null,
            "right": null,
            "justify_content": null,
            "_view_module": "@jupyter-widgets/base",
            "overflow": null,
            "_model_module_version": "1.2.0",
            "_view_count": null,
            "flex_flow": null,
            "width": null,
            "min_width": null,
            "border": null,
            "align_items": null,
            "bottom": null,
            "_model_module": "@jupyter-widgets/base",
            "top": null,
            "grid_column": null,
            "overflow_y": null,
            "overflow_x": null,
            "grid_auto_flow": null,
            "grid_area": null,
            "grid_template_columns": null,
            "flex": null,
            "_model_name": "LayoutModel",
            "justify_items": null,
            "grid_row": null,
            "max_height": null,
            "align_content": null,
            "visibility": null,
            "align_self": null,
            "height": null,
            "min_height": null,
            "padding": null,
            "grid_auto_rows": null,
            "grid_gap": null,
            "max_width": null,
            "order": null,
            "_view_module_version": "1.2.0",
            "grid_template_areas": null,
            "object_position": null,
            "object_fit": null,
            "grid_auto_columns": null,
            "margin": null,
            "display": null,
            "left": null
          }
        },
        "9e2a5174256542e98f051886118c7c62": {
          "model_module": "@jupyter-widgets/controls",
          "model_name": "DescriptionStyleModel",
          "model_module_version": "1.5.0",
          "state": {
            "_view_name": "StyleView",
            "_model_name": "DescriptionStyleModel",
            "description_width": "",
            "_view_module": "@jupyter-widgets/base",
            "_model_module_version": "1.5.0",
            "_view_count": null,
            "_view_module_version": "1.2.0",
            "_model_module": "@jupyter-widgets/controls"
          }
        },
        "dcf86f1c06464258a81690eedacb4715": {
          "model_module": "@jupyter-widgets/base",
          "model_name": "LayoutModel",
          "model_module_version": "1.2.0",
          "state": {
            "_view_name": "LayoutView",
            "grid_template_rows": null,
            "right": null,
            "justify_content": null,
            "_view_module": "@jupyter-widgets/base",
            "overflow": null,
            "_model_module_version": "1.2.0",
            "_view_count": null,
            "flex_flow": null,
            "width": null,
            "min_width": null,
            "border": null,
            "align_items": null,
            "bottom": null,
            "_model_module": "@jupyter-widgets/base",
            "top": null,
            "grid_column": null,
            "overflow_y": null,
            "overflow_x": null,
            "grid_auto_flow": null,
            "grid_area": null,
            "grid_template_columns": null,
            "flex": null,
            "_model_name": "LayoutModel",
            "justify_items": null,
            "grid_row": null,
            "max_height": null,
            "align_content": null,
            "visibility": null,
            "align_self": null,
            "height": null,
            "min_height": null,
            "padding": null,
            "grid_auto_rows": null,
            "grid_gap": null,
            "max_width": null,
            "order": null,
            "_view_module_version": "1.2.0",
            "grid_template_areas": null,
            "object_position": null,
            "object_fit": null,
            "grid_auto_columns": null,
            "margin": null,
            "display": null,
            "left": null
          }
        }
      }
    }
  },
  "cells": [
    {
      "cell_type": "markdown",
      "metadata": {
        "id": "view-in-github",
        "colab_type": "text"
      },
      "source": [
        "<a href=\"https://colab.research.google.com/github/goerlitz/nlp-classification/blob/main/notebooks/10kGNAD/colab/21c_10kGNAD_huggingface_basic_optuna.ipynb\" target=\"_parent\"><img src=\"https://colab.research.google.com/assets/colab-badge.svg\" alt=\"Open In Colab\"/></a>"
      ]
    },
    {
      "cell_type": "markdown",
      "metadata": {
        "id": "FrveYRYD2E9-"
      },
      "source": [
        "# Hyperparameter Optimization with HuggingFace Transformers\n",
        "\n",
        "Adapted from https://huggingface.co/docs/transformers/custom_datasets#sequence-classification-with-imdb-reviews\n",
        "\n",
        "Things we need\n",
        "* a tokenizer\n",
        "* tokenized input data\n",
        "* a pretrained model\n",
        "* evaluation metrics\n",
        "* training parameters\n",
        "* a Trainer instance\n",
        "\n",
        "Notes\n",
        "* [class labels can be included in the model config](https://github.com/huggingface/transformers/pull/2945#issuecomment-781986506) (a bit hacky)\n",
        "* [fp16 is disabled on tesla P100 GPU in pytorch](https://discuss.pytorch.org/t/cnn-fp16-slower-than-fp32-on-tesla-p100/12146)"
      ]
    },
    {
      "cell_type": "markdown",
      "metadata": {
        "id": "JH5VyX6w9AIM"
      },
      "source": [
        "## Prerequisites"
      ]
    },
    {
      "cell_type": "code",
      "metadata": {
        "id": "L2BZ9NGbmTkF"
      },
      "source": [
        "checkpoint = \"distilbert-base-german-cased\"\n",
        "\n",
        "# checkpoint = \"deepset/gbert-base\"\n",
        "\n",
        "# checkpoint = \"deepset/gelectra-base\"\n",
        "\n",
        "project_name = f'10kgnad_hf__{checkpoint.replace(\"/\", \"_\")}'"
      ],
      "execution_count": 27,
      "outputs": []
    },
    {
      "cell_type": "markdown",
      "metadata": {
        "id": "qKqjLlGpWdsi"
      },
      "source": [
        "### Connect Google Drive\n",
        "\n",
        "Will be used to save results"
      ]
    },
    {
      "cell_type": "code",
      "metadata": {
        "colab": {
          "base_uri": "https://localhost:8080/"
        },
        "id": "1YXxAbtZWcxA",
        "outputId": "0c00c2a7-4e28-4b45-b0be-c2d420d249fe"
      },
      "source": [
        "from google.colab import drive\n",
        "drive.mount('/content/gdrive')"
      ],
      "execution_count": 28,
      "outputs": [
        {
          "output_type": "stream",
          "name": "stdout",
          "text": [
            "Drive already mounted at /content/gdrive; to attempt to forcibly remount, call drive.mount(\"/content/gdrive\", force_remount=True).\n"
          ]
        }
      ]
    },
    {
      "cell_type": "code",
      "source": [
        "from pathlib import Path\n",
        "\n",
        "# define model path\n",
        "root_path = Path('/content/gdrive/My Drive/')\n",
        "base_path = root_path / 'Colab Notebooks/nlp-classification/'\n",
        "model_path = base_path / 'models'"
      ],
      "metadata": {
        "id": "M3n8HqXwEyK6"
      },
      "execution_count": 29,
      "outputs": []
    },
    {
      "cell_type": "markdown",
      "source": [
        "## Check GPU"
      ],
      "metadata": {
        "id": "5F2oddvs2rNv"
      }
    },
    {
      "cell_type": "code",
      "metadata": {
        "colab": {
          "base_uri": "https://localhost:8080/"
        },
        "id": "JVWRNvQf1cnR",
        "outputId": "6171dc61-20b4-41fe-a001-3736fdc10e73"
      },
      "source": [
        "gpu_info = !nvidia-smi\n",
        "gpu_info = '\\n'.join(gpu_info)\n",
        "if gpu_info.find('failed') >= 0:\n",
        "  print('Select the Runtime > \"Change runtime type\" menu to enable a GPU accelerator, ')\n",
        "  print('and then re-execute this cell.')\n",
        "else:\n",
        "  print(gpu_info)"
      ],
      "execution_count": 30,
      "outputs": [
        {
          "output_type": "stream",
          "name": "stdout",
          "text": [
            "Mon Dec 20 13:07:27 2021       \n",
            "+-----------------------------------------------------------------------------+\n",
            "| NVIDIA-SMI 495.44       Driver Version: 460.32.03    CUDA Version: 11.2     |\n",
            "|-------------------------------+----------------------+----------------------+\n",
            "| GPU  Name        Persistence-M| Bus-Id        Disp.A | Volatile Uncorr. ECC |\n",
            "| Fan  Temp  Perf  Pwr:Usage/Cap|         Memory-Usage | GPU-Util  Compute M. |\n",
            "|                               |                      |               MIG M. |\n",
            "|===============================+======================+======================|\n",
            "|   0  Tesla P100-PCIE...  Off  | 00000000:00:04.0 Off |                    0 |\n",
            "| N/A   56C    P0    38W / 250W |   5661MiB / 16280MiB |      0%      Default |\n",
            "|                               |                      |                  N/A |\n",
            "+-------------------------------+----------------------+----------------------+\n",
            "                                                                               \n",
            "+-----------------------------------------------------------------------------+\n",
            "| Processes:                                                                  |\n",
            "|  GPU   GI   CI        PID   Type   Process name                  GPU Memory |\n",
            "|        ID   ID                                                   Usage      |\n",
            "|=============================================================================|\n",
            "|  No running processes found                                                 |\n",
            "+-----------------------------------------------------------------------------+\n"
          ]
        }
      ]
    },
    {
      "cell_type": "markdown",
      "metadata": {
        "id": "Bwlw_kI3nHLW"
      },
      "source": [
        "### Install Packages"
      ]
    },
    {
      "cell_type": "code",
      "metadata": {
        "colab": {
          "base_uri": "https://localhost:8080/"
        },
        "id": "0QhKj625lBso",
        "outputId": "622b254c-9c81-4ad3-e2f6-dee06491eda9"
      },
      "source": [
        "%%time\n",
        "!pip install -q -U transformers datasets >/dev/null\n",
        "!pip install -q -U optuna >/dev/null\n",
        "\n",
        "# check installed version\n",
        "!pip freeze | grep optuna        # optuna==2.10.0\n",
        "!pip freeze | grep transformers  # transformers==4.13.0\n",
        "!pip freeze | grep torch         # torch==1.10.0+cu111"
      ],
      "execution_count": 31,
      "outputs": [
        {
          "output_type": "stream",
          "name": "stdout",
          "text": [
            "optuna==2.10.0\n",
            "transformers==4.14.1\n",
            "torch @ https://download.pytorch.org/whl/cu111/torch-1.10.0%2Bcu111-cp37-cp37m-linux_x86_64.whl\n",
            "torchaudio @ https://download.pytorch.org/whl/cu111/torchaudio-0.10.0%2Bcu111-cp37-cp37m-linux_x86_64.whl\n",
            "torchsummary==1.5.1\n",
            "torchtext==0.11.0\n",
            "torchvision @ https://download.pytorch.org/whl/cu111/torchvision-0.11.1%2Bcu111-cp37-cp37m-linux_x86_64.whl\n",
            "CPU times: user 69.1 ms, sys: 218 ms, total: 287 ms\n",
            "Wall time: 8.67 s\n"
          ]
        }
      ]
    },
    {
      "cell_type": "code",
      "source": [
        "from transformers import logging\n",
        "\n",
        "# hide progress bar when downloading tokenizer and model (a workaround!)\n",
        "logging.get_verbosity = lambda : logging.NOTSET"
      ],
      "metadata": {
        "id": "vbpLzC7DRoR5"
      },
      "execution_count": 32,
      "outputs": []
    },
    {
      "cell_type": "markdown",
      "source": [
        "## Load Dataset"
      ],
      "metadata": {
        "id": "64Q8bFMM7UYg"
      }
    },
    {
      "cell_type": "code",
      "source": [
        "from datasets import load_dataset\n",
        "\n",
        "gnad10k = load_dataset(\"gnad10\")\n",
        "label_names = gnad10k[\"train\"].features[\"label\"].names"
      ],
      "metadata": {
        "colab": {
          "base_uri": "https://localhost:8080/",
          "height": 84,
          "referenced_widgets": [
            "82098183e6be445584a7127f3985ee98",
            "9c56a31acf3b4073990d2b6fde8ed1c5",
            "f58fa39057264a2e8c19cbb1ea70b4a2",
            "d4c5136293bd46b9baa4cdae85ec2026",
            "7bfc761d1766414d9f4da549967ba50d",
            "3815b127b7e34d57a3d3544697b95984",
            "5d43efbe58db44f08e5ebab06af2d401",
            "51b5403aced844b8912215116f26b5aa",
            "e59b79ba560841aa9982a31288d52e4d",
            "9e2a5174256542e98f051886118c7c62",
            "dcf86f1c06464258a81690eedacb4715"
          ]
        },
        "id": "4aYzOljo7W9X",
        "outputId": "69f91414-2b8d-4f82-e637-9ea12024d4a1"
      },
      "execution_count": 33,
      "outputs": [
        {
          "output_type": "stream",
          "name": "stderr",
          "text": [
            "Using custom data configuration default\n",
            "Reusing dataset gnad10 (/root/.cache/huggingface/datasets/gnad10/default/1.1.0/3a8445be65795ad88270af4d797034c3d99f70f8352ca658c586faf1cf960881)\n"
          ]
        },
        {
          "output_type": "display_data",
          "data": {
            "application/vnd.jupyter.widget-view+json": {
              "model_id": "82098183e6be445584a7127f3985ee98",
              "version_minor": 0,
              "version_major": 2
            },
            "text/plain": [
              "  0%|          | 0/2 [00:00<?, ?it/s]"
            ]
          },
          "metadata": {}
        }
      ]
    },
    {
      "cell_type": "code",
      "source": [
        "print(gnad10k)\n",
        "print(\"labels:\", label_names)\n",
        "gnad10k[\"train\"][0]"
      ],
      "metadata": {
        "colab": {
          "base_uri": "https://localhost:8080/"
        },
        "id": "CkcJyc-I8bLP",
        "outputId": "c750f723-d541-43f4-feb3-b5ddecc3d5af"
      },
      "execution_count": 34,
      "outputs": [
        {
          "output_type": "stream",
          "name": "stdout",
          "text": [
            "DatasetDict({\n",
            "    train: Dataset({\n",
            "        features: ['text', 'label'],\n",
            "        num_rows: 9245\n",
            "    })\n",
            "    test: Dataset({\n",
            "        features: ['text', 'label'],\n",
            "        num_rows: 1028\n",
            "    })\n",
            "})\n",
            "labels: ['Web', 'Panorama', 'International', 'Wirtschaft', 'Sport', 'Inland', 'Etat', 'Wissenschaft', 'Kultur']\n"
          ]
        },
        {
          "output_type": "execute_result",
          "data": {
            "text/plain": [
              "{'label': 4,\n",
              " 'text': '21-Jähriger fällt wohl bis Saisonende aus. Wien – Rapid muss wohl bis Saisonende auf Offensivspieler Thomas Murg verzichten. Der im Winter aus Ried gekommene 21-Jährige erlitt beim 0:4-Heimdebakel gegen Admira Wacker Mödling am Samstag einen Teilriss des Innenbandes im linken Knie, wie eine Magnetresonanz-Untersuchung am Donnerstag ergab. Murg erhielt eine Schiene, muss aber nicht operiert werden. Dennoch steht ihm eine mehrwöchige Pause bevor.'}"
            ]
          },
          "metadata": {},
          "execution_count": 34
        }
      ]
    },
    {
      "cell_type": "markdown",
      "source": [
        "## Data Preprocessing\n",
        "\n",
        "* Loading the same Tokenizer that was used with the pretrained model.\n",
        "* Define function to tokenize the text (with truncation to max input length of model.\n",
        "* Run the tokenization"
      ],
      "metadata": {
        "id": "4EUOwFbFPXCy"
      }
    },
    {
      "cell_type": "code",
      "source": [
        "from transformers import AutoTokenizer\n",
        "\n",
        "tokenizer = AutoTokenizer.from_pretrained(checkpoint)\n",
        "\n",
        "def preprocess_function(examples):\n",
        "    return tokenizer(examples[\"text\"], truncation=True)\n",
        "\n",
        "tokenized_gnad10k = gnad10k.map(preprocess_function, batched=True).remove_columns(\"text\")"
      ],
      "metadata": {
        "id": "u7AJ7SGjPaZ0",
        "colab": {
          "base_uri": "https://localhost:8080/"
        },
        "outputId": "af8894e1-0b91-4f23-f269-966427c78377"
      },
      "execution_count": 35,
      "outputs": [
        {
          "output_type": "stream",
          "name": "stderr",
          "text": [
            "Loading cached processed dataset at /root/.cache/huggingface/datasets/gnad10/default/1.1.0/3a8445be65795ad88270af4d797034c3d99f70f8352ca658c586faf1cf960881/cache-5d66d7a004b32c63.arrow\n",
            "Loading cached processed dataset at /root/.cache/huggingface/datasets/gnad10/default/1.1.0/3a8445be65795ad88270af4d797034c3d99f70f8352ca658c586faf1cf960881/cache-1e7aaca04dbb52e2.arrow\n"
          ]
        }
      ]
    },
    {
      "cell_type": "markdown",
      "source": [
        "### Use Dynamic Padding\n",
        "\n",
        "Apply panding only on longest text in batch - this is more efficient than applying padding on the whole dataset."
      ],
      "metadata": {
        "id": "kdmFxnHlSV6x"
      }
    },
    {
      "cell_type": "code",
      "source": [
        "from transformers import DataCollatorWithPadding\n",
        "\n",
        "data_collator = DataCollatorWithPadding(tokenizer=tokenizer)"
      ],
      "metadata": {
        "id": "DhEWeeg2SVCe"
      },
      "execution_count": 36,
      "outputs": []
    },
    {
      "cell_type": "markdown",
      "source": [
        "## Model Setup\n",
        "\n",
        "We want to include the label names and save them together with the model.\n",
        "The only way to do this is to create a Config and put them in. "
      ],
      "metadata": {
        "id": "Eqe_fA8muv5T"
      }
    },
    {
      "cell_type": "code",
      "source": [
        "import optuna\n",
        "from transformers import AutoConfig, AutoModelForSequenceClassification\n",
        "\n",
        "config = AutoConfig.from_pretrained(\n",
        "        checkpoint,\n",
        "        num_labels=len(label_names),\n",
        "        id2label={i: label for i, label in enumerate(label_names)},\n",
        "        label2id={label: i for i, label in enumerate(label_names)},\n",
        "        )\n",
        "\n",
        "def model_init(trial: optuna.Trial):\n",
        "    \"\"\"A function that instantiates the model to be used.\"\"\"\n",
        "    return AutoModelForSequenceClassification.from_pretrained(checkpoint, config=config)"
      ],
      "metadata": {
        "id": "kHPXNqxCgyxQ"
      },
      "execution_count": 37,
      "outputs": []
    },
    {
      "cell_type": "markdown",
      "source": [
        "### Define Evaluation Metrics\n",
        "\n",
        "The funtion that computes the metrics needs to be passed to the Trainer."
      ],
      "metadata": {
        "id": "ufbNYVSIxuhv"
      }
    },
    {
      "cell_type": "code",
      "source": [
        "from sklearn.metrics import f1_score, accuracy_score, precision_score, recall_score, matthews_corrcoef\n",
        "import numpy as np\n",
        "from typing import Dict\n",
        "\n",
        "def compute_metrics(eval_preds):\n",
        "    \"\"\"The function that will be used to compute metrics at evaluation.\n",
        "    Must take a :class:`~transformers.EvalPrediction` and return a dictionary\n",
        "    string to metric values.\"\"\"\n",
        "    logits, labels = eval_preds\n",
        "    preds = np.argmax(logits, axis=-1)\n",
        "    return {\n",
        "        \"acc\": accuracy_score(labels, preds),\n",
        "        \"f1\": f1_score(labels, preds, average='macro'),\n",
        "        \"precision\": precision_score(labels, preds, average='macro'),\n",
        "        \"recall\": recall_score(labels, preds, average='macro'),\n",
        "        \"mcc\": matthews_corrcoef(labels, preds),\n",
        "        }\n",
        "\n",
        "\n",
        "def objective(metrics: Dict[str, float]):\n",
        "    \"\"\"A function computing the main optimization objective from the metrics\n",
        "    returned by the :obj:`compute_metrics` method.\n",
        "    To be used in :obj:`Trainer.hyperparameter_search`.\"\"\"\n",
        "    return metrics[\"eval_loss\"]"
      ],
      "metadata": {
        "id": "Hpj1PZYjxtqS"
      },
      "execution_count": 38,
      "outputs": []
    },
    {
      "cell_type": "markdown",
      "metadata": {
        "id": "V9HHIeJrM3_I"
      },
      "source": [
        "## Hyperparameter Tuning"
      ]
    },
    {
      "cell_type": "code",
      "source": [
        "from transformers import TrainingArguments, Trainer\n",
        "import shutil\n",
        "\n",
        "def hp_space(trial: optuna.Trial):\n",
        "    \"\"\"A function that defines the hyperparameter search space.\n",
        "    To be used in :obj:`Trainer.hyperparameter_search`.\"\"\"\n",
        "    return {\n",
        "        \"learning_rate\": trial.suggest_float(\"learning_rate\", 1e-5, 1e-4, log=True),\n",
        "        \"num_train_epochs\": trial.suggest_categorical(\"num_train_epochs\", [1]),\n",
        "        \"per_device_train_batch_size\": trial.suggest_categorical(\"per_device_train_batch_size\", [16, 32]),\n",
        "        \"weight_decay\": trial.suggest_float(\"weight_decay\", 1e-3, 1e-2, log=True),\n",
        "        # \"label_smoothing_factor\": trial.suggest_float(\"label_smoothing_factor\", 0.0, 0.1),\n",
        "    }\n",
        "\n",
        "best_model_dir = \"best_model_trainer\"\n",
        "\n",
        "def callback(study, trial):\n",
        "    for t in study.best_trials:\n",
        "        if t.number == trial.number:\n",
        "            print(\"This is a new besttrial\", trial.number)\n",
        "        \n",
        "            out_filename = model_path / f\"{project_name}_t{trial.number}\"\n",
        "            shutil.make_archive(out_filename, 'zip', f\"{project_name}/{best_model_dir}\")\n",
        "\n",
        "def train(trial: optuna.Trial):\n",
        "\n",
        "    # get hyperparameters choice\n",
        "    hp = hp_space(trial)\n",
        "    lr = hp[\"learning_rate\"]\n",
        "    bs = hp[\"per_device_train_batch_size\"]\n",
        "    epochs = hp[\"num_train_epochs\"]\n",
        "    weight_decay = hp[\"weight_decay\"]\n",
        "    # label_smoothing_factor = hp[\"label_smoothing_factor\"]\n",
        "\n",
        "    eval_rounds_per_epoch = 5\n",
        "    eval_steps = gnad10k[\"train\"].num_rows / bs // eval_rounds_per_epoch\n",
        "\n",
        "    training_args = TrainingArguments(\n",
        "        output_dir=str(project_name),\n",
        "        report_to=[],\n",
        "        log_level=\"error\",\n",
        "        disable_tqdm=False,\n",
        "\n",
        "        evaluation_strategy=\"steps\",\n",
        "        eval_steps=eval_steps,\n",
        "        save_strategy=\"steps\",\n",
        "        save_steps=eval_steps,\n",
        "        load_best_model_at_end=True,\n",
        "        metric_for_best_model=\"eval_loss\",\n",
        "        greater_is_better=False,\n",
        "\n",
        "        # hyperparameters\n",
        "        num_train_epochs=epochs,\n",
        "        learning_rate=lr,\n",
        "        per_device_train_batch_size=bs,\n",
        "        per_device_eval_batch_size=bs,\n",
        "        weight_decay=weight_decay,\n",
        "        # label_smoothing_factor=label_smoothing_factor,\n",
        "\n",
        "        # fp16=True,  # fp16 is disabled on Tesla P100 by pytorch\n",
        "    )\n",
        "\n",
        "    trainer = Trainer(\n",
        "        model_init=model_init,\n",
        "        args=training_args,\n",
        "        train_dataset=tokenized_gnad10k[\"train\"],\n",
        "        eval_dataset=tokenized_gnad10k[\"test\"],\n",
        "        tokenizer=tokenizer,\n",
        "        data_collator=data_collator,\n",
        "        compute_metrics=compute_metrics,\n",
        "    )\n",
        "\n",
        "    # train model and save best model from evaluations\n",
        "    # needs 'load_best_model_at_end=True'\n",
        "    trainer.train()\n",
        "    trainer.save_model(f\"{project_name}/{best_model_dir}\")\n",
        "\n",
        "    result = trainer.evaluate(eval_dataset=tokenized_gnad10k[\"test\"])\n",
        "\n",
        "    # store eval metrics in trial\n",
        "    for key in result.keys():\n",
        "        if key != \"epoch\":\n",
        "            trial.set_user_attr(key, result[key])\n",
        "    \n",
        "    return result[\"eval_loss\"], result[\"eval_mcc\"]\n",
        "\n",
        "\n",
        "db_path = \"/content/gdrive/My Drive/Colab Notebooks/nlp-classification/\"\n",
        "db_name = \"10kgnad_optuna\"\n",
        "study_name = checkpoint + \"_multi_mcc\"\n",
        "\n",
        "# multi objective study\n",
        "# https://optuna.readthedocs.io/en/stable/tutorial/20_recipes/002_multi_objective.html#sphx-glr-tutorial-20-recipes-002-multi-objective-py\n",
        "study = optuna.create_study(study_name=study_name,\n",
        "                            directions=[\"minimize\", \"maximize\"],\n",
        "                            storage=f\"sqlite:///{db_path}{db_name}.db\",\n",
        "                            load_if_exists=True,)\n",
        "study.optimize(train, n_trials=70, callbacks=[callback])\n",
        "\n",
        "study.best_params"
      ],
      "metadata": {
        "colab": {
          "base_uri": "https://localhost:8080/",
          "height": 1000
        },
        "id": "YqjuJ-2tRMYQ",
        "outputId": "6705bd83-17dd-4ed1-d9b8-f02bbee15b0b"
      },
      "execution_count": null,
      "outputs": [
        {
          "output_type": "stream",
          "name": "stderr",
          "text": [
            "\u001b[32m[I 2021-12-20 13:07:38,167]\u001b[0m Using an existing study with name 'distilbert-base-german-cased_multi_mcc' instead of creating a new one.\u001b[0m\n"
          ]
        },
        {
          "output_type": "display_data",
          "data": {
            "text/html": [
              "\n",
              "    <div>\n",
              "      \n",
              "      <progress value='578' max='578' style='width:300px; height:20px; vertical-align: middle;'></progress>\n",
              "      [578/578 05:22, Epoch 1/1]\n",
              "    </div>\n",
              "    <table border=\"1\" class=\"dataframe\">\n",
              "  <thead>\n",
              "    <tr style=\"text-align: left;\">\n",
              "      <th>Step</th>\n",
              "      <th>Training Loss</th>\n",
              "      <th>Validation Loss</th>\n",
              "      <th>Acc</th>\n",
              "      <th>F1</th>\n",
              "      <th>Precision</th>\n",
              "      <th>Recall</th>\n",
              "      <th>Mcc</th>\n",
              "    </tr>\n",
              "  </thead>\n",
              "  <tbody>\n",
              "    <tr>\n",
              "      <td>115</td>\n",
              "      <td>No log</td>\n",
              "      <td>0.668510</td>\n",
              "      <td>0.789883</td>\n",
              "      <td>0.797635</td>\n",
              "      <td>0.822782</td>\n",
              "      <td>0.794905</td>\n",
              "      <td>0.761854</td>\n",
              "    </tr>\n",
              "    <tr>\n",
              "      <td>230</td>\n",
              "      <td>No log</td>\n",
              "      <td>0.507040</td>\n",
              "      <td>0.846304</td>\n",
              "      <td>0.847680</td>\n",
              "      <td>0.863774</td>\n",
              "      <td>0.838392</td>\n",
              "      <td>0.824808</td>\n",
              "    </tr>\n",
              "    <tr>\n",
              "      <td>345</td>\n",
              "      <td>No log</td>\n",
              "      <td>0.515576</td>\n",
              "      <td>0.834630</td>\n",
              "      <td>0.838600</td>\n",
              "      <td>0.857747</td>\n",
              "      <td>0.842261</td>\n",
              "      <td>0.815524</td>\n",
              "    </tr>\n",
              "    <tr>\n",
              "      <td>460</td>\n",
              "      <td>No log</td>\n",
              "      <td>0.393281</td>\n",
              "      <td>0.868677</td>\n",
              "      <td>0.870326</td>\n",
              "      <td>0.867528</td>\n",
              "      <td>0.876393</td>\n",
              "      <td>0.849964</td>\n",
              "    </tr>\n",
              "    <tr>\n",
              "      <td>575</td>\n",
              "      <td>0.638700</td>\n",
              "      <td>0.372356</td>\n",
              "      <td>0.883268</td>\n",
              "      <td>0.882518</td>\n",
              "      <td>0.881823</td>\n",
              "      <td>0.883630</td>\n",
              "      <td>0.866298</td>\n",
              "    </tr>\n",
              "  </tbody>\n",
              "</table><p>"
            ],
            "text/plain": [
              "<IPython.core.display.HTML object>"
            ]
          },
          "metadata": {}
        },
        {
          "output_type": "display_data",
          "data": {
            "text/html": [
              "\n",
              "    <div>\n",
              "      \n",
              "      <progress value='65' max='65' style='width:300px; height:20px; vertical-align: middle;'></progress>\n",
              "      [65/65 00:09]\n",
              "    </div>\n",
              "    "
            ],
            "text/plain": [
              "<IPython.core.display.HTML object>"
            ]
          },
          "metadata": {}
        },
        {
          "output_type": "stream",
          "name": "stderr",
          "text": [
            "\u001b[32m[I 2021-12-20 13:13:18,068]\u001b[0m Trial 1 finished with values: [0.3723558187484741, 0.8662979784184075] and parameters: {'learning_rate': 9.027375856819522e-05, 'num_train_epochs': 1, 'per_device_train_batch_size': 16, 'weight_decay': 0.0013772751568888668}. \u001b[0m\n"
          ]
        },
        {
          "output_type": "stream",
          "name": "stdout",
          "text": [
            "This is a new besttrial 1\n"
          ]
        },
        {
          "output_type": "display_data",
          "data": {
            "text/html": [
              "\n",
              "    <div>\n",
              "      \n",
              "      <progress value='578' max='578' style='width:300px; height:20px; vertical-align: middle;'></progress>\n",
              "      [578/578 05:23, Epoch 1/1]\n",
              "    </div>\n",
              "    <table border=\"1\" class=\"dataframe\">\n",
              "  <thead>\n",
              "    <tr style=\"text-align: left;\">\n",
              "      <th>Step</th>\n",
              "      <th>Training Loss</th>\n",
              "      <th>Validation Loss</th>\n",
              "      <th>Acc</th>\n",
              "      <th>F1</th>\n",
              "      <th>Precision</th>\n",
              "      <th>Recall</th>\n",
              "      <th>Mcc</th>\n",
              "    </tr>\n",
              "  </thead>\n",
              "  <tbody>\n",
              "    <tr>\n",
              "      <td>115</td>\n",
              "      <td>No log</td>\n",
              "      <td>0.891729</td>\n",
              "      <td>0.748054</td>\n",
              "      <td>0.695007</td>\n",
              "      <td>0.765625</td>\n",
              "      <td>0.684234</td>\n",
              "      <td>0.712569</td>\n",
              "    </tr>\n",
              "    <tr>\n",
              "      <td>230</td>\n",
              "      <td>No log</td>\n",
              "      <td>0.609391</td>\n",
              "      <td>0.830739</td>\n",
              "      <td>0.834713</td>\n",
              "      <td>0.848949</td>\n",
              "      <td>0.825443</td>\n",
              "      <td>0.806838</td>\n",
              "    </tr>\n",
              "    <tr>\n",
              "      <td>345</td>\n",
              "      <td>No log</td>\n",
              "      <td>0.546623</td>\n",
              "      <td>0.825875</td>\n",
              "      <td>0.829316</td>\n",
              "      <td>0.838409</td>\n",
              "      <td>0.837283</td>\n",
              "      <td>0.804170</td>\n",
              "    </tr>\n",
              "    <tr>\n",
              "      <td>460</td>\n",
              "      <td>No log</td>\n",
              "      <td>0.454447</td>\n",
              "      <td>0.864786</td>\n",
              "      <td>0.866409</td>\n",
              "      <td>0.864882</td>\n",
              "      <td>0.869020</td>\n",
              "      <td>0.845222</td>\n",
              "    </tr>\n",
              "    <tr>\n",
              "      <td>575</td>\n",
              "      <td>0.809200</td>\n",
              "      <td>0.448002</td>\n",
              "      <td>0.854086</td>\n",
              "      <td>0.855350</td>\n",
              "      <td>0.856838</td>\n",
              "      <td>0.854816</td>\n",
              "      <td>0.832907</td>\n",
              "    </tr>\n",
              "  </tbody>\n",
              "</table><p>"
            ],
            "text/plain": [
              "<IPython.core.display.HTML object>"
            ]
          },
          "metadata": {}
        },
        {
          "output_type": "display_data",
          "data": {
            "text/html": [
              "\n",
              "    <div>\n",
              "      \n",
              "      <progress value='65' max='65' style='width:300px; height:20px; vertical-align: middle;'></progress>\n",
              "      [65/65 00:09]\n",
              "    </div>\n",
              "    "
            ],
            "text/plain": [
              "<IPython.core.display.HTML object>"
            ]
          },
          "metadata": {}
        },
        {
          "output_type": "stream",
          "name": "stderr",
          "text": [
            "\u001b[32m[I 2021-12-20 13:19:10,939]\u001b[0m Trial 2 finished with values: [0.4480017423629761, 0.832906546619818] and parameters: {'learning_rate': 2.5699211211567478e-05, 'num_train_epochs': 1, 'per_device_train_batch_size': 16, 'weight_decay': 0.0016545565398837247}. \u001b[0m\n"
          ]
        },
        {
          "output_type": "display_data",
          "data": {
            "text/html": [
              "\n",
              "    <div>\n",
              "      \n",
              "      <progress value='289' max='289' style='width:300px; height:20px; vertical-align: middle;'></progress>\n",
              "      [289/289 05:08, Epoch 1/1]\n",
              "    </div>\n",
              "    <table border=\"1\" class=\"dataframe\">\n",
              "  <thead>\n",
              "    <tr style=\"text-align: left;\">\n",
              "      <th>Step</th>\n",
              "      <th>Training Loss</th>\n",
              "      <th>Validation Loss</th>\n",
              "      <th>Acc</th>\n",
              "      <th>F1</th>\n",
              "      <th>Precision</th>\n",
              "      <th>Recall</th>\n",
              "      <th>Mcc</th>\n",
              "    </tr>\n",
              "  </thead>\n",
              "  <tbody>\n",
              "    <tr>\n",
              "      <td>57</td>\n",
              "      <td>No log</td>\n",
              "      <td>1.637084</td>\n",
              "      <td>0.577821</td>\n",
              "      <td>0.430455</td>\n",
              "      <td>0.459110</td>\n",
              "      <td>0.452925</td>\n",
              "      <td>0.525532</td>\n",
              "    </tr>\n",
              "    <tr>\n",
              "      <td>114</td>\n",
              "      <td>No log</td>\n",
              "      <td>1.142542</td>\n",
              "      <td>0.687743</td>\n",
              "      <td>0.612541</td>\n",
              "      <td>0.745609</td>\n",
              "      <td>0.604423</td>\n",
              "      <td>0.642571</td>\n",
              "    </tr>\n",
              "    <tr>\n",
              "      <td>171</td>\n",
              "      <td>No log</td>\n",
              "      <td>0.924732</td>\n",
              "      <td>0.765564</td>\n",
              "      <td>0.739945</td>\n",
              "      <td>0.781514</td>\n",
              "      <td>0.734154</td>\n",
              "      <td>0.733878</td>\n",
              "    </tr>\n",
              "    <tr>\n",
              "      <td>228</td>\n",
              "      <td>No log</td>\n",
              "      <td>0.822541</td>\n",
              "      <td>0.779183</td>\n",
              "      <td>0.762208</td>\n",
              "      <td>0.790060</td>\n",
              "      <td>0.748746</td>\n",
              "      <td>0.746650</td>\n",
              "    </tr>\n",
              "    <tr>\n",
              "      <td>285</td>\n",
              "      <td>No log</td>\n",
              "      <td>0.782745</td>\n",
              "      <td>0.799611</td>\n",
              "      <td>0.783704</td>\n",
              "      <td>0.808141</td>\n",
              "      <td>0.770060</td>\n",
              "      <td>0.770004</td>\n",
              "    </tr>\n",
              "  </tbody>\n",
              "</table><p>"
            ],
            "text/plain": [
              "<IPython.core.display.HTML object>"
            ]
          },
          "metadata": {}
        },
        {
          "output_type": "stream",
          "name": "stderr",
          "text": [
            "/usr/local/lib/python3.7/dist-packages/sklearn/metrics/_classification.py:1308: UndefinedMetricWarning:\n",
            "\n",
            "Precision is ill-defined and being set to 0.0 in labels with no predicted samples. Use `zero_division` parameter to control this behavior.\n",
            "\n"
          ]
        },
        {
          "output_type": "display_data",
          "data": {
            "text/html": [
              "\n",
              "    <div>\n",
              "      \n",
              "      <progress value='33' max='33' style='width:300px; height:20px; vertical-align: middle;'></progress>\n",
              "      [33/33 00:09]\n",
              "    </div>\n",
              "    "
            ],
            "text/plain": [
              "<IPython.core.display.HTML object>"
            ]
          },
          "metadata": {}
        },
        {
          "output_type": "stream",
          "name": "stderr",
          "text": [
            "\u001b[32m[I 2021-12-20 13:24:34,693]\u001b[0m Trial 3 finished with values: [0.7827445268630981, 0.770003799564523] and parameters: {'learning_rate': 1.3665343859439226e-05, 'num_train_epochs': 1, 'per_device_train_batch_size': 32, 'weight_decay': 0.0011525075868379787}. \u001b[0m\n"
          ]
        },
        {
          "output_type": "display_data",
          "data": {
            "text/html": [
              "\n",
              "    <div>\n",
              "      \n",
              "      <progress value='289' max='289' style='width:300px; height:20px; vertical-align: middle;'></progress>\n",
              "      [289/289 05:09, Epoch 1/1]\n",
              "    </div>\n",
              "    <table border=\"1\" class=\"dataframe\">\n",
              "  <thead>\n",
              "    <tr style=\"text-align: left;\">\n",
              "      <th>Step</th>\n",
              "      <th>Training Loss</th>\n",
              "      <th>Validation Loss</th>\n",
              "      <th>Acc</th>\n",
              "      <th>F1</th>\n",
              "      <th>Precision</th>\n",
              "      <th>Recall</th>\n",
              "      <th>Mcc</th>\n",
              "    </tr>\n",
              "  </thead>\n",
              "  <tbody>\n",
              "    <tr>\n",
              "      <td>57</td>\n",
              "      <td>No log</td>\n",
              "      <td>1.195721</td>\n",
              "      <td>0.674125</td>\n",
              "      <td>0.563357</td>\n",
              "      <td>0.748579</td>\n",
              "      <td>0.563389</td>\n",
              "      <td>0.626593</td>\n",
              "    </tr>\n",
              "    <tr>\n",
              "      <td>114</td>\n",
              "      <td>No log</td>\n",
              "      <td>0.775490</td>\n",
              "      <td>0.794747</td>\n",
              "      <td>0.780233</td>\n",
              "      <td>0.819694</td>\n",
              "      <td>0.762473</td>\n",
              "      <td>0.765118</td>\n",
              "    </tr>\n",
              "    <tr>\n",
              "      <td>171</td>\n",
              "      <td>No log</td>\n",
              "      <td>0.616354</td>\n",
              "      <td>0.834630</td>\n",
              "      <td>0.830084</td>\n",
              "      <td>0.835256</td>\n",
              "      <td>0.834987</td>\n",
              "      <td>0.812063</td>\n",
              "    </tr>\n",
              "    <tr>\n",
              "      <td>228</td>\n",
              "      <td>No log</td>\n",
              "      <td>0.545324</td>\n",
              "      <td>0.853113</td>\n",
              "      <td>0.855515</td>\n",
              "      <td>0.859610</td>\n",
              "      <td>0.852625</td>\n",
              "      <td>0.831706</td>\n",
              "    </tr>\n",
              "    <tr>\n",
              "      <td>285</td>\n",
              "      <td>No log</td>\n",
              "      <td>0.520814</td>\n",
              "      <td>0.844358</td>\n",
              "      <td>0.846530</td>\n",
              "      <td>0.852185</td>\n",
              "      <td>0.842614</td>\n",
              "      <td>0.821756</td>\n",
              "    </tr>\n",
              "  </tbody>\n",
              "</table><p>"
            ],
            "text/plain": [
              "<IPython.core.display.HTML object>"
            ]
          },
          "metadata": {}
        },
        {
          "output_type": "display_data",
          "data": {
            "text/html": [
              "\n",
              "    <div>\n",
              "      \n",
              "      <progress value='33' max='33' style='width:300px; height:20px; vertical-align: middle;'></progress>\n",
              "      [33/33 00:09]\n",
              "    </div>\n",
              "    "
            ],
            "text/plain": [
              "<IPython.core.display.HTML object>"
            ]
          },
          "metadata": {}
        },
        {
          "output_type": "stream",
          "name": "stderr",
          "text": [
            "\u001b[32m[I 2021-12-20 13:29:58,932]\u001b[0m Trial 4 finished with values: [0.5208142995834351, 0.8217559938341262] and parameters: {'learning_rate': 2.618125710808599e-05, 'num_train_epochs': 1, 'per_device_train_batch_size': 32, 'weight_decay': 0.0023533088688421386}. \u001b[0m\n"
          ]
        },
        {
          "output_type": "display_data",
          "data": {
            "text/html": [
              "\n",
              "    <div>\n",
              "      \n",
              "      <progress value='578' max='578' style='width:300px; height:20px; vertical-align: middle;'></progress>\n",
              "      [578/578 05:22, Epoch 1/1]\n",
              "    </div>\n",
              "    <table border=\"1\" class=\"dataframe\">\n",
              "  <thead>\n",
              "    <tr style=\"text-align: left;\">\n",
              "      <th>Step</th>\n",
              "      <th>Training Loss</th>\n",
              "      <th>Validation Loss</th>\n",
              "      <th>Acc</th>\n",
              "      <th>F1</th>\n",
              "      <th>Precision</th>\n",
              "      <th>Recall</th>\n",
              "      <th>Mcc</th>\n",
              "    </tr>\n",
              "  </thead>\n",
              "  <tbody>\n",
              "    <tr>\n",
              "      <td>115</td>\n",
              "      <td>No log</td>\n",
              "      <td>0.619424</td>\n",
              "      <td>0.809339</td>\n",
              "      <td>0.812775</td>\n",
              "      <td>0.842872</td>\n",
              "      <td>0.804066</td>\n",
              "      <td>0.783346</td>\n",
              "    </tr>\n",
              "    <tr>\n",
              "      <td>230</td>\n",
              "      <td>No log</td>\n",
              "      <td>0.500164</td>\n",
              "      <td>0.845331</td>\n",
              "      <td>0.847428</td>\n",
              "      <td>0.863810</td>\n",
              "      <td>0.837997</td>\n",
              "      <td>0.823899</td>\n",
              "    </tr>\n",
              "    <tr>\n",
              "      <td>345</td>\n",
              "      <td>No log</td>\n",
              "      <td>0.494883</td>\n",
              "      <td>0.837549</td>\n",
              "      <td>0.842718</td>\n",
              "      <td>0.856187</td>\n",
              "      <td>0.849808</td>\n",
              "      <td>0.818713</td>\n",
              "    </tr>\n",
              "    <tr>\n",
              "      <td>460</td>\n",
              "      <td>No log</td>\n",
              "      <td>0.389410</td>\n",
              "      <td>0.871595</td>\n",
              "      <td>0.871414</td>\n",
              "      <td>0.867007</td>\n",
              "      <td>0.877275</td>\n",
              "      <td>0.853116</td>\n",
              "    </tr>\n",
              "    <tr>\n",
              "      <td>575</td>\n",
              "      <td>0.635800</td>\n",
              "      <td>0.377273</td>\n",
              "      <td>0.872568</td>\n",
              "      <td>0.870155</td>\n",
              "      <td>0.870085</td>\n",
              "      <td>0.870939</td>\n",
              "      <td>0.854060</td>\n",
              "    </tr>\n",
              "  </tbody>\n",
              "</table><p>"
            ],
            "text/plain": [
              "<IPython.core.display.HTML object>"
            ]
          },
          "metadata": {}
        },
        {
          "output_type": "display_data",
          "data": {
            "text/html": [
              "\n",
              "    <div>\n",
              "      \n",
              "      <progress value='65' max='65' style='width:300px; height:20px; vertical-align: middle;'></progress>\n",
              "      [65/65 00:09]\n",
              "    </div>\n",
              "    "
            ],
            "text/plain": [
              "<IPython.core.display.HTML object>"
            ]
          },
          "metadata": {}
        },
        {
          "output_type": "stream",
          "name": "stderr",
          "text": [
            "\u001b[32m[I 2021-12-20 13:35:37,127]\u001b[0m Trial 5 finished with values: [0.3772728443145752, 0.8540595677839364] and parameters: {'learning_rate': 6.927780912409597e-05, 'num_train_epochs': 1, 'per_device_train_batch_size': 16, 'weight_decay': 0.00944326965590354}. \u001b[0m\n"
          ]
        },
        {
          "output_type": "display_data",
          "data": {
            "text/html": [
              "\n",
              "    <div>\n",
              "      \n",
              "      <progress value='578' max='578' style='width:300px; height:20px; vertical-align: middle;'></progress>\n",
              "      [578/578 05:22, Epoch 1/1]\n",
              "    </div>\n",
              "    <table border=\"1\" class=\"dataframe\">\n",
              "  <thead>\n",
              "    <tr style=\"text-align: left;\">\n",
              "      <th>Step</th>\n",
              "      <th>Training Loss</th>\n",
              "      <th>Validation Loss</th>\n",
              "      <th>Acc</th>\n",
              "      <th>F1</th>\n",
              "      <th>Precision</th>\n",
              "      <th>Recall</th>\n",
              "      <th>Mcc</th>\n",
              "    </tr>\n",
              "  </thead>\n",
              "  <tbody>\n",
              "    <tr>\n",
              "      <td>115</td>\n",
              "      <td>No log</td>\n",
              "      <td>0.627458</td>\n",
              "      <td>0.812257</td>\n",
              "      <td>0.818764</td>\n",
              "      <td>0.830433</td>\n",
              "      <td>0.818049</td>\n",
              "      <td>0.786589</td>\n",
              "    </tr>\n",
              "    <tr>\n",
              "      <td>230</td>\n",
              "      <td>No log</td>\n",
              "      <td>0.500268</td>\n",
              "      <td>0.847276</td>\n",
              "      <td>0.848767</td>\n",
              "      <td>0.864757</td>\n",
              "      <td>0.839380</td>\n",
              "      <td>0.826115</td>\n",
              "    </tr>\n",
              "    <tr>\n",
              "      <td>345</td>\n",
              "      <td>No log</td>\n",
              "      <td>0.536381</td>\n",
              "      <td>0.824903</td>\n",
              "      <td>0.826947</td>\n",
              "      <td>0.850594</td>\n",
              "      <td>0.827116</td>\n",
              "      <td>0.804862</td>\n",
              "    </tr>\n",
              "    <tr>\n",
              "      <td>460</td>\n",
              "      <td>No log</td>\n",
              "      <td>0.402520</td>\n",
              "      <td>0.866732</td>\n",
              "      <td>0.866845</td>\n",
              "      <td>0.864685</td>\n",
              "      <td>0.872220</td>\n",
              "      <td>0.847700</td>\n",
              "    </tr>\n",
              "    <tr>\n",
              "      <td>575</td>\n",
              "      <td>0.634100</td>\n",
              "      <td>0.382425</td>\n",
              "      <td>0.872568</td>\n",
              "      <td>0.871629</td>\n",
              "      <td>0.871906</td>\n",
              "      <td>0.872420</td>\n",
              "      <td>0.854086</td>\n",
              "    </tr>\n",
              "  </tbody>\n",
              "</table><p>"
            ],
            "text/plain": [
              "<IPython.core.display.HTML object>"
            ]
          },
          "metadata": {}
        },
        {
          "output_type": "display_data",
          "data": {
            "text/html": [
              "\n",
              "    <div>\n",
              "      \n",
              "      <progress value='65' max='65' style='width:300px; height:20px; vertical-align: middle;'></progress>\n",
              "      [65/65 00:09]\n",
              "    </div>\n",
              "    "
            ],
            "text/plain": [
              "<IPython.core.display.HTML object>"
            ]
          },
          "metadata": {}
        },
        {
          "output_type": "stream",
          "name": "stderr",
          "text": [
            "\u001b[32m[I 2021-12-20 13:41:14,960]\u001b[0m Trial 6 finished with values: [0.38242509961128235, 0.8540857997896235] and parameters: {'learning_rate': 9.460331576251244e-05, 'num_train_epochs': 1, 'per_device_train_batch_size': 16, 'weight_decay': 0.0016892211264089025}. \u001b[0m\n"
          ]
        },
        {
          "output_type": "display_data",
          "data": {
            "text/html": [
              "\n",
              "    <div>\n",
              "      \n",
              "      <progress value='289' max='289' style='width:300px; height:20px; vertical-align: middle;'></progress>\n",
              "      [289/289 05:09, Epoch 1/1]\n",
              "    </div>\n",
              "    <table border=\"1\" class=\"dataframe\">\n",
              "  <thead>\n",
              "    <tr style=\"text-align: left;\">\n",
              "      <th>Step</th>\n",
              "      <th>Training Loss</th>\n",
              "      <th>Validation Loss</th>\n",
              "      <th>Acc</th>\n",
              "      <th>F1</th>\n",
              "      <th>Precision</th>\n",
              "      <th>Recall</th>\n",
              "      <th>Mcc</th>\n",
              "    </tr>\n",
              "  </thead>\n",
              "  <tbody>\n",
              "    <tr>\n",
              "      <td>57</td>\n",
              "      <td>No log</td>\n",
              "      <td>1.687499</td>\n",
              "      <td>0.566148</td>\n",
              "      <td>0.419785</td>\n",
              "      <td>0.462408</td>\n",
              "      <td>0.440744</td>\n",
              "      <td>0.514067</td>\n",
              "    </tr>\n",
              "    <tr>\n",
              "      <td>114</td>\n",
              "      <td>No log</td>\n",
              "      <td>1.208702</td>\n",
              "      <td>0.657588</td>\n",
              "      <td>0.558422</td>\n",
              "      <td>0.625651</td>\n",
              "      <td>0.559615</td>\n",
              "      <td>0.608573</td>\n",
              "    </tr>\n",
              "    <tr>\n",
              "      <td>171</td>\n",
              "      <td>No log</td>\n",
              "      <td>0.983366</td>\n",
              "      <td>0.757782</td>\n",
              "      <td>0.720995</td>\n",
              "      <td>0.784329</td>\n",
              "      <td>0.715511</td>\n",
              "      <td>0.725101</td>\n",
              "    </tr>\n",
              "    <tr>\n",
              "      <td>228</td>\n",
              "      <td>No log</td>\n",
              "      <td>0.879302</td>\n",
              "      <td>0.771401</td>\n",
              "      <td>0.748749</td>\n",
              "      <td>0.784473</td>\n",
              "      <td>0.734827</td>\n",
              "      <td>0.737753</td>\n",
              "    </tr>\n",
              "    <tr>\n",
              "      <td>285</td>\n",
              "      <td>No log</td>\n",
              "      <td>0.838218</td>\n",
              "      <td>0.781128</td>\n",
              "      <td>0.758917</td>\n",
              "      <td>0.788982</td>\n",
              "      <td>0.745314</td>\n",
              "      <td>0.748763</td>\n",
              "    </tr>\n",
              "  </tbody>\n",
              "</table><p>"
            ],
            "text/plain": [
              "<IPython.core.display.HTML object>"
            ]
          },
          "metadata": {}
        },
        {
          "output_type": "stream",
          "name": "stderr",
          "text": [
            "/usr/local/lib/python3.7/dist-packages/sklearn/metrics/_classification.py:1308: UndefinedMetricWarning:\n",
            "\n",
            "Precision is ill-defined and being set to 0.0 in labels with no predicted samples. Use `zero_division` parameter to control this behavior.\n",
            "\n",
            "/usr/local/lib/python3.7/dist-packages/sklearn/metrics/_classification.py:1308: UndefinedMetricWarning:\n",
            "\n",
            "Precision is ill-defined and being set to 0.0 in labels with no predicted samples. Use `zero_division` parameter to control this behavior.\n",
            "\n"
          ]
        },
        {
          "output_type": "display_data",
          "data": {
            "text/html": [
              "\n",
              "    <div>\n",
              "      \n",
              "      <progress value='33' max='33' style='width:300px; height:20px; vertical-align: middle;'></progress>\n",
              "      [33/33 00:09]\n",
              "    </div>\n",
              "    "
            ],
            "text/plain": [
              "<IPython.core.display.HTML object>"
            ]
          },
          "metadata": {}
        },
        {
          "output_type": "stream",
          "name": "stderr",
          "text": [
            "\u001b[32m[I 2021-12-20 13:46:39,410]\u001b[0m Trial 7 finished with values: [0.8382183909416199, 0.7487628267814431] and parameters: {'learning_rate': 1.2492181134557523e-05, 'num_train_epochs': 1, 'per_device_train_batch_size': 32, 'weight_decay': 0.002805553425030019}. \u001b[0m\n"
          ]
        },
        {
          "output_type": "display_data",
          "data": {
            "text/html": [
              "\n",
              "    <div>\n",
              "      \n",
              "      <progress value='289' max='289' style='width:300px; height:20px; vertical-align: middle;'></progress>\n",
              "      [289/289 05:09, Epoch 1/1]\n",
              "    </div>\n",
              "    <table border=\"1\" class=\"dataframe\">\n",
              "  <thead>\n",
              "    <tr style=\"text-align: left;\">\n",
              "      <th>Step</th>\n",
              "      <th>Training Loss</th>\n",
              "      <th>Validation Loss</th>\n",
              "      <th>Acc</th>\n",
              "      <th>F1</th>\n",
              "      <th>Precision</th>\n",
              "      <th>Recall</th>\n",
              "      <th>Mcc</th>\n",
              "    </tr>\n",
              "  </thead>\n",
              "  <tbody>\n",
              "    <tr>\n",
              "      <td>57</td>\n",
              "      <td>No log</td>\n",
              "      <td>1.392770</td>\n",
              "      <td>0.625486</td>\n",
              "      <td>0.466318</td>\n",
              "      <td>0.574050</td>\n",
              "      <td>0.495116</td>\n",
              "      <td>0.573577</td>\n",
              "    </tr>\n",
              "    <tr>\n",
              "      <td>114</td>\n",
              "      <td>No log</td>\n",
              "      <td>0.920892</td>\n",
              "      <td>0.750000</td>\n",
              "      <td>0.700713</td>\n",
              "      <td>0.768955</td>\n",
              "      <td>0.690186</td>\n",
              "      <td>0.713847</td>\n",
              "    </tr>\n",
              "    <tr>\n",
              "      <td>171</td>\n",
              "      <td>No log</td>\n",
              "      <td>0.732555</td>\n",
              "      <td>0.817121</td>\n",
              "      <td>0.809144</td>\n",
              "      <td>0.821205</td>\n",
              "      <td>0.809969</td>\n",
              "      <td>0.792178</td>\n",
              "    </tr>\n",
              "    <tr>\n",
              "      <td>228</td>\n",
              "      <td>No log</td>\n",
              "      <td>0.644006</td>\n",
              "      <td>0.833658</td>\n",
              "      <td>0.829264</td>\n",
              "      <td>0.843011</td>\n",
              "      <td>0.819240</td>\n",
              "      <td>0.809221</td>\n",
              "    </tr>\n",
              "    <tr>\n",
              "      <td>285</td>\n",
              "      <td>No log</td>\n",
              "      <td>0.612903</td>\n",
              "      <td>0.831712</td>\n",
              "      <td>0.830664</td>\n",
              "      <td>0.837871</td>\n",
              "      <td>0.824953</td>\n",
              "      <td>0.807031</td>\n",
              "    </tr>\n",
              "  </tbody>\n",
              "</table><p>"
            ],
            "text/plain": [
              "<IPython.core.display.HTML object>"
            ]
          },
          "metadata": {}
        },
        {
          "output_type": "stream",
          "name": "stderr",
          "text": [
            "/usr/local/lib/python3.7/dist-packages/sklearn/metrics/_classification.py:1308: UndefinedMetricWarning:\n",
            "\n",
            "Precision is ill-defined and being set to 0.0 in labels with no predicted samples. Use `zero_division` parameter to control this behavior.\n",
            "\n"
          ]
        },
        {
          "output_type": "display_data",
          "data": {
            "text/html": [
              "\n",
              "    <div>\n",
              "      \n",
              "      <progress value='33' max='33' style='width:300px; height:20px; vertical-align: middle;'></progress>\n",
              "      [33/33 00:09]\n",
              "    </div>\n",
              "    "
            ],
            "text/plain": [
              "<IPython.core.display.HTML object>"
            ]
          },
          "metadata": {}
        },
        {
          "output_type": "stream",
          "name": "stderr",
          "text": [
            "\u001b[32m[I 2021-12-20 13:52:03,593]\u001b[0m Trial 8 finished with values: [0.6129025816917419, 0.8070313677180124] and parameters: {'learning_rate': 1.9618125877536372e-05, 'num_train_epochs': 1, 'per_device_train_batch_size': 32, 'weight_decay': 0.004838135542064863}. \u001b[0m\n"
          ]
        },
        {
          "output_type": "display_data",
          "data": {
            "text/html": [
              "\n",
              "    <div>\n",
              "      \n",
              "      <progress value='289' max='289' style='width:300px; height:20px; vertical-align: middle;'></progress>\n",
              "      [289/289 05:09, Epoch 1/1]\n",
              "    </div>\n",
              "    <table border=\"1\" class=\"dataframe\">\n",
              "  <thead>\n",
              "    <tr style=\"text-align: left;\">\n",
              "      <th>Step</th>\n",
              "      <th>Training Loss</th>\n",
              "      <th>Validation Loss</th>\n",
              "      <th>Acc</th>\n",
              "      <th>F1</th>\n",
              "      <th>Precision</th>\n",
              "      <th>Recall</th>\n",
              "      <th>Mcc</th>\n",
              "    </tr>\n",
              "  </thead>\n",
              "  <tbody>\n",
              "    <tr>\n",
              "      <td>57</td>\n",
              "      <td>No log</td>\n",
              "      <td>0.980408</td>\n",
              "      <td>0.736381</td>\n",
              "      <td>0.684301</td>\n",
              "      <td>0.767348</td>\n",
              "      <td>0.663289</td>\n",
              "      <td>0.698165</td>\n",
              "    </tr>\n",
              "    <tr>\n",
              "      <td>114</td>\n",
              "      <td>No log</td>\n",
              "      <td>0.666255</td>\n",
              "      <td>0.816148</td>\n",
              "      <td>0.810160</td>\n",
              "      <td>0.850162</td>\n",
              "      <td>0.791343</td>\n",
              "      <td>0.789925</td>\n",
              "    </tr>\n",
              "    <tr>\n",
              "      <td>171</td>\n",
              "      <td>No log</td>\n",
              "      <td>0.528666</td>\n",
              "      <td>0.836576</td>\n",
              "      <td>0.834990</td>\n",
              "      <td>0.838170</td>\n",
              "      <td>0.840751</td>\n",
              "      <td>0.814293</td>\n",
              "    </tr>\n",
              "    <tr>\n",
              "      <td>228</td>\n",
              "      <td>No log</td>\n",
              "      <td>0.474736</td>\n",
              "      <td>0.857004</td>\n",
              "      <td>0.857188</td>\n",
              "      <td>0.859608</td>\n",
              "      <td>0.856722</td>\n",
              "      <td>0.836350</td>\n",
              "    </tr>\n",
              "    <tr>\n",
              "      <td>285</td>\n",
              "      <td>No log</td>\n",
              "      <td>0.454372</td>\n",
              "      <td>0.857004</td>\n",
              "      <td>0.858336</td>\n",
              "      <td>0.858967</td>\n",
              "      <td>0.858616</td>\n",
              "      <td>0.836307</td>\n",
              "    </tr>\n",
              "  </tbody>\n",
              "</table><p>"
            ],
            "text/plain": [
              "<IPython.core.display.HTML object>"
            ]
          },
          "metadata": {}
        },
        {
          "output_type": "display_data",
          "data": {
            "text/html": [
              "\n",
              "    <div>\n",
              "      \n",
              "      <progress value='33' max='33' style='width:300px; height:20px; vertical-align: middle;'></progress>\n",
              "      [33/33 00:09]\n",
              "    </div>\n",
              "    "
            ],
            "text/plain": [
              "<IPython.core.display.HTML object>"
            ]
          },
          "metadata": {}
        },
        {
          "output_type": "stream",
          "name": "stderr",
          "text": [
            "\u001b[32m[I 2021-12-20 13:57:28,084]\u001b[0m Trial 9 finished with values: [0.45437178015708923, 0.8363073498477495] and parameters: {'learning_rate': 3.724356197357372e-05, 'num_train_epochs': 1, 'per_device_train_batch_size': 32, 'weight_decay': 0.0013401693425654114}. \u001b[0m\n"
          ]
        },
        {
          "output_type": "display_data",
          "data": {
            "text/html": [
              "\n",
              "    <div>\n",
              "      \n",
              "      <progress value='578' max='578' style='width:300px; height:20px; vertical-align: middle;'></progress>\n",
              "      [578/578 05:22, Epoch 1/1]\n",
              "    </div>\n",
              "    <table border=\"1\" class=\"dataframe\">\n",
              "  <thead>\n",
              "    <tr style=\"text-align: left;\">\n",
              "      <th>Step</th>\n",
              "      <th>Training Loss</th>\n",
              "      <th>Validation Loss</th>\n",
              "      <th>Acc</th>\n",
              "      <th>F1</th>\n",
              "      <th>Precision</th>\n",
              "      <th>Recall</th>\n",
              "      <th>Mcc</th>\n",
              "    </tr>\n",
              "  </thead>\n",
              "  <tbody>\n",
              "    <tr>\n",
              "      <td>115</td>\n",
              "      <td>No log</td>\n",
              "      <td>0.678750</td>\n",
              "      <td>0.792802</td>\n",
              "      <td>0.789394</td>\n",
              "      <td>0.830577</td>\n",
              "      <td>0.775480</td>\n",
              "      <td>0.764784</td>\n",
              "    </tr>\n",
              "    <tr>\n",
              "      <td>230</td>\n",
              "      <td>No log</td>\n",
              "      <td>0.491867</td>\n",
              "      <td>0.838521</td>\n",
              "      <td>0.840155</td>\n",
              "      <td>0.851541</td>\n",
              "      <td>0.834804</td>\n",
              "      <td>0.815906</td>\n",
              "    </tr>\n",
              "    <tr>\n",
              "      <td>345</td>\n",
              "      <td>No log</td>\n",
              "      <td>0.520894</td>\n",
              "      <td>0.826848</td>\n",
              "      <td>0.831994</td>\n",
              "      <td>0.847209</td>\n",
              "      <td>0.838841</td>\n",
              "      <td>0.806805</td>\n",
              "    </tr>\n",
              "    <tr>\n",
              "      <td>460</td>\n",
              "      <td>No log</td>\n",
              "      <td>0.403235</td>\n",
              "      <td>0.868677</td>\n",
              "      <td>0.867017</td>\n",
              "      <td>0.864238</td>\n",
              "      <td>0.871313</td>\n",
              "      <td>0.849804</td>\n",
              "    </tr>\n",
              "    <tr>\n",
              "      <td>575</td>\n",
              "      <td>0.652300</td>\n",
              "      <td>0.395340</td>\n",
              "      <td>0.864786</td>\n",
              "      <td>0.862639</td>\n",
              "      <td>0.864762</td>\n",
              "      <td>0.861657</td>\n",
              "      <td>0.845113</td>\n",
              "    </tr>\n",
              "  </tbody>\n",
              "</table><p>"
            ],
            "text/plain": [
              "<IPython.core.display.HTML object>"
            ]
          },
          "metadata": {}
        },
        {
          "output_type": "display_data",
          "data": {
            "text/html": [
              "\n",
              "    <div>\n",
              "      \n",
              "      <progress value='65' max='65' style='width:300px; height:20px; vertical-align: middle;'></progress>\n",
              "      [65/65 00:09]\n",
              "    </div>\n",
              "    "
            ],
            "text/plain": [
              "<IPython.core.display.HTML object>"
            ]
          },
          "metadata": {}
        },
        {
          "output_type": "stream",
          "name": "stderr",
          "text": [
            "\u001b[32m[I 2021-12-20 14:03:06,207]\u001b[0m Trial 10 finished with values: [0.3953400254249573, 0.8451128819392325] and parameters: {'learning_rate': 5.9113053210398586e-05, 'num_train_epochs': 1, 'per_device_train_batch_size': 16, 'weight_decay': 0.0030703036342070575}. \u001b[0m\n"
          ]
        },
        {
          "output_type": "display_data",
          "data": {
            "text/html": [
              "\n",
              "    <div>\n",
              "      \n",
              "      <progress value='578' max='578' style='width:300px; height:20px; vertical-align: middle;'></progress>\n",
              "      [578/578 05:22, Epoch 1/1]\n",
              "    </div>\n",
              "    <table border=\"1\" class=\"dataframe\">\n",
              "  <thead>\n",
              "    <tr style=\"text-align: left;\">\n",
              "      <th>Step</th>\n",
              "      <th>Training Loss</th>\n",
              "      <th>Validation Loss</th>\n",
              "      <th>Acc</th>\n",
              "      <th>F1</th>\n",
              "      <th>Precision</th>\n",
              "      <th>Recall</th>\n",
              "      <th>Mcc</th>\n",
              "    </tr>\n",
              "  </thead>\n",
              "  <tbody>\n",
              "    <tr>\n",
              "      <td>115</td>\n",
              "      <td>No log</td>\n",
              "      <td>0.638912</td>\n",
              "      <td>0.807393</td>\n",
              "      <td>0.801152</td>\n",
              "      <td>0.825630</td>\n",
              "      <td>0.795034</td>\n",
              "      <td>0.780924</td>\n",
              "    </tr>\n",
              "    <tr>\n",
              "      <td>230</td>\n",
              "      <td>No log</td>\n",
              "      <td>0.492354</td>\n",
              "      <td>0.840467</td>\n",
              "      <td>0.845528</td>\n",
              "      <td>0.857442</td>\n",
              "      <td>0.838501</td>\n",
              "      <td>0.818013</td>\n",
              "    </tr>\n",
              "    <tr>\n",
              "      <td>345</td>\n",
              "      <td>No log</td>\n",
              "      <td>0.527708</td>\n",
              "      <td>0.829767</td>\n",
              "      <td>0.833074</td>\n",
              "      <td>0.856363</td>\n",
              "      <td>0.835088</td>\n",
              "      <td>0.810446</td>\n",
              "    </tr>\n",
              "    <tr>\n",
              "      <td>460</td>\n",
              "      <td>No log</td>\n",
              "      <td>0.392304</td>\n",
              "      <td>0.867704</td>\n",
              "      <td>0.868379</td>\n",
              "      <td>0.862918</td>\n",
              "      <td>0.876413</td>\n",
              "      <td>0.848828</td>\n",
              "    </tr>\n",
              "    <tr>\n",
              "      <td>575</td>\n",
              "      <td>0.638600</td>\n",
              "      <td>0.370656</td>\n",
              "      <td>0.875486</td>\n",
              "      <td>0.875391</td>\n",
              "      <td>0.876063</td>\n",
              "      <td>0.875288</td>\n",
              "      <td>0.857377</td>\n",
              "    </tr>\n",
              "  </tbody>\n",
              "</table><p>"
            ],
            "text/plain": [
              "<IPython.core.display.HTML object>"
            ]
          },
          "metadata": {}
        },
        {
          "output_type": "display_data",
          "data": {
            "text/html": [
              "\n",
              "    <div>\n",
              "      \n",
              "      <progress value='65' max='65' style='width:300px; height:20px; vertical-align: middle;'></progress>\n",
              "      [65/65 00:09]\n",
              "    </div>\n",
              "    "
            ],
            "text/plain": [
              "<IPython.core.display.HTML object>"
            ]
          },
          "metadata": {}
        },
        {
          "output_type": "stream",
          "name": "stderr",
          "text": [
            "\u001b[32m[I 2021-12-20 14:08:44,201]\u001b[0m Trial 11 finished with values: [0.3706563115119934, 0.8573769061986882] and parameters: {'learning_rate': 7.73660728575556e-05, 'num_train_epochs': 1, 'per_device_train_batch_size': 16, 'weight_decay': 0.002372610042368086}. \u001b[0m\n"
          ]
        },
        {
          "output_type": "stream",
          "name": "stdout",
          "text": [
            "This is a new besttrial 11\n"
          ]
        },
        {
          "output_type": "display_data",
          "data": {
            "text/html": [
              "\n",
              "    <div>\n",
              "      \n",
              "      <progress value='578' max='578' style='width:300px; height:20px; vertical-align: middle;'></progress>\n",
              "      [578/578 05:22, Epoch 1/1]\n",
              "    </div>\n",
              "    <table border=\"1\" class=\"dataframe\">\n",
              "  <thead>\n",
              "    <tr style=\"text-align: left;\">\n",
              "      <th>Step</th>\n",
              "      <th>Training Loss</th>\n",
              "      <th>Validation Loss</th>\n",
              "      <th>Acc</th>\n",
              "      <th>F1</th>\n",
              "      <th>Precision</th>\n",
              "      <th>Recall</th>\n",
              "      <th>Mcc</th>\n",
              "    </tr>\n",
              "  </thead>\n",
              "  <tbody>\n",
              "    <tr>\n",
              "      <td>115</td>\n",
              "      <td>No log</td>\n",
              "      <td>1.038676</td>\n",
              "      <td>0.709144</td>\n",
              "      <td>0.643515</td>\n",
              "      <td>0.748740</td>\n",
              "      <td>0.628446</td>\n",
              "      <td>0.668592</td>\n",
              "    </tr>\n",
              "    <tr>\n",
              "      <td>230</td>\n",
              "      <td>No log</td>\n",
              "      <td>0.692201</td>\n",
              "      <td>0.818093</td>\n",
              "      <td>0.819117</td>\n",
              "      <td>0.838645</td>\n",
              "      <td>0.806081</td>\n",
              "      <td>0.792249</td>\n",
              "    </tr>\n",
              "    <tr>\n",
              "      <td>345</td>\n",
              "      <td>No log</td>\n",
              "      <td>0.589183</td>\n",
              "      <td>0.821984</td>\n",
              "      <td>0.821418</td>\n",
              "      <td>0.831879</td>\n",
              "      <td>0.827189</td>\n",
              "      <td>0.799150</td>\n",
              "    </tr>\n",
              "    <tr>\n",
              "      <td>460</td>\n",
              "      <td>No log</td>\n",
              "      <td>0.501406</td>\n",
              "      <td>0.853113</td>\n",
              "      <td>0.857148</td>\n",
              "      <td>0.858580</td>\n",
              "      <td>0.856910</td>\n",
              "      <td>0.831851</td>\n",
              "    </tr>\n",
              "    <tr>\n",
              "      <td>575</td>\n",
              "      <td>0.892400</td>\n",
              "      <td>0.491492</td>\n",
              "      <td>0.849222</td>\n",
              "      <td>0.850087</td>\n",
              "      <td>0.854994</td>\n",
              "      <td>0.846666</td>\n",
              "      <td>0.827343</td>\n",
              "    </tr>\n",
              "  </tbody>\n",
              "</table><p>"
            ],
            "text/plain": [
              "<IPython.core.display.HTML object>"
            ]
          },
          "metadata": {}
        },
        {
          "output_type": "display_data",
          "data": {
            "text/html": [
              "\n",
              "    <div>\n",
              "      \n",
              "      <progress value='65' max='65' style='width:300px; height:20px; vertical-align: middle;'></progress>\n",
              "      [65/65 00:09]\n",
              "    </div>\n",
              "    "
            ],
            "text/plain": [
              "<IPython.core.display.HTML object>"
            ]
          },
          "metadata": {}
        },
        {
          "output_type": "stream",
          "name": "stderr",
          "text": [
            "\u001b[32m[I 2021-12-20 14:14:36,331]\u001b[0m Trial 12 finished with values: [0.49149179458618164, 0.8273430577178728] and parameters: {'learning_rate': 1.9683623029877304e-05, 'num_train_epochs': 1, 'per_device_train_batch_size': 16, 'weight_decay': 0.001556225944369944}. \u001b[0m\n"
          ]
        },
        {
          "output_type": "display_data",
          "data": {
            "text/html": [
              "\n",
              "    <div>\n",
              "      \n",
              "      <progress value='578' max='578' style='width:300px; height:20px; vertical-align: middle;'></progress>\n",
              "      [578/578 05:23, Epoch 1/1]\n",
              "    </div>\n",
              "    <table border=\"1\" class=\"dataframe\">\n",
              "  <thead>\n",
              "    <tr style=\"text-align: left;\">\n",
              "      <th>Step</th>\n",
              "      <th>Training Loss</th>\n",
              "      <th>Validation Loss</th>\n",
              "      <th>Acc</th>\n",
              "      <th>F1</th>\n",
              "      <th>Precision</th>\n",
              "      <th>Recall</th>\n",
              "      <th>Mcc</th>\n",
              "    </tr>\n",
              "  </thead>\n",
              "  <tbody>\n",
              "    <tr>\n",
              "      <td>115</td>\n",
              "      <td>No log</td>\n",
              "      <td>0.905965</td>\n",
              "      <td>0.742218</td>\n",
              "      <td>0.685458</td>\n",
              "      <td>0.760321</td>\n",
              "      <td>0.674351</td>\n",
              "      <td>0.706026</td>\n",
              "    </tr>\n",
              "    <tr>\n",
              "      <td>230</td>\n",
              "      <td>No log</td>\n",
              "      <td>0.617227</td>\n",
              "      <td>0.831712</td>\n",
              "      <td>0.835782</td>\n",
              "      <td>0.850139</td>\n",
              "      <td>0.826532</td>\n",
              "      <td>0.808006</td>\n",
              "    </tr>\n",
              "    <tr>\n",
              "      <td>345</td>\n",
              "      <td>No log</td>\n",
              "      <td>0.551193</td>\n",
              "      <td>0.826848</td>\n",
              "      <td>0.830477</td>\n",
              "      <td>0.840484</td>\n",
              "      <td>0.836947</td>\n",
              "      <td>0.805117</td>\n",
              "    </tr>\n",
              "    <tr>\n",
              "      <td>460</td>\n",
              "      <td>No log</td>\n",
              "      <td>0.458091</td>\n",
              "      <td>0.862840</td>\n",
              "      <td>0.863941</td>\n",
              "      <td>0.862206</td>\n",
              "      <td>0.866596</td>\n",
              "      <td>0.842980</td>\n",
              "    </tr>\n",
              "    <tr>\n",
              "      <td>575</td>\n",
              "      <td>0.817100</td>\n",
              "      <td>0.451478</td>\n",
              "      <td>0.853113</td>\n",
              "      <td>0.853577</td>\n",
              "      <td>0.854794</td>\n",
              "      <td>0.853459</td>\n",
              "      <td>0.831821</td>\n",
              "    </tr>\n",
              "  </tbody>\n",
              "</table><p>"
            ],
            "text/plain": [
              "<IPython.core.display.HTML object>"
            ]
          },
          "metadata": {}
        },
        {
          "output_type": "display_data",
          "data": {
            "text/html": [
              "\n",
              "    <div>\n",
              "      \n",
              "      <progress value='65' max='65' style='width:300px; height:20px; vertical-align: middle;'></progress>\n",
              "      [65/65 00:09]\n",
              "    </div>\n",
              "    "
            ],
            "text/plain": [
              "<IPython.core.display.HTML object>"
            ]
          },
          "metadata": {}
        },
        {
          "output_type": "stream",
          "name": "stderr",
          "text": [
            "\u001b[32m[I 2021-12-20 14:20:14,729]\u001b[0m Trial 13 finished with values: [0.4514780044555664, 0.8318208263135594] and parameters: {'learning_rate': 2.502288755655432e-05, 'num_train_epochs': 1, 'per_device_train_batch_size': 16, 'weight_decay': 0.007033381652717656}. \u001b[0m\n"
          ]
        },
        {
          "output_type": "display_data",
          "data": {
            "text/html": [
              "\n",
              "    <div>\n",
              "      \n",
              "      <progress value='578' max='578' style='width:300px; height:20px; vertical-align: middle;'></progress>\n",
              "      [578/578 05:22, Epoch 1/1]\n",
              "    </div>\n",
              "    <table border=\"1\" class=\"dataframe\">\n",
              "  <thead>\n",
              "    <tr style=\"text-align: left;\">\n",
              "      <th>Step</th>\n",
              "      <th>Training Loss</th>\n",
              "      <th>Validation Loss</th>\n",
              "      <th>Acc</th>\n",
              "      <th>F1</th>\n",
              "      <th>Precision</th>\n",
              "      <th>Recall</th>\n",
              "      <th>Mcc</th>\n",
              "    </tr>\n",
              "  </thead>\n",
              "  <tbody>\n",
              "    <tr>\n",
              "      <td>115</td>\n",
              "      <td>No log</td>\n",
              "      <td>0.650662</td>\n",
              "      <td>0.799611</td>\n",
              "      <td>0.800962</td>\n",
              "      <td>0.836361</td>\n",
              "      <td>0.787488</td>\n",
              "      <td>0.772385</td>\n",
              "    </tr>\n",
              "    <tr>\n",
              "      <td>230</td>\n",
              "      <td>No log</td>\n",
              "      <td>0.503266</td>\n",
              "      <td>0.843385</td>\n",
              "      <td>0.845371</td>\n",
              "      <td>0.861315</td>\n",
              "      <td>0.837319</td>\n",
              "      <td>0.821524</td>\n",
              "    </tr>\n",
              "    <tr>\n",
              "      <td>345</td>\n",
              "      <td>No log</td>\n",
              "      <td>0.522817</td>\n",
              "      <td>0.822957</td>\n",
              "      <td>0.829966</td>\n",
              "      <td>0.845480</td>\n",
              "      <td>0.837058</td>\n",
              "      <td>0.802752</td>\n",
              "    </tr>\n",
              "    <tr>\n",
              "      <td>460</td>\n",
              "      <td>No log</td>\n",
              "      <td>0.390777</td>\n",
              "      <td>0.871595</td>\n",
              "      <td>0.872160</td>\n",
              "      <td>0.869431</td>\n",
              "      <td>0.875857</td>\n",
              "      <td>0.853045</td>\n",
              "    </tr>\n",
              "    <tr>\n",
              "      <td>575</td>\n",
              "      <td>0.656000</td>\n",
              "      <td>0.389705</td>\n",
              "      <td>0.875486</td>\n",
              "      <td>0.875303</td>\n",
              "      <td>0.875381</td>\n",
              "      <td>0.875890</td>\n",
              "      <td>0.857424</td>\n",
              "    </tr>\n",
              "  </tbody>\n",
              "</table><p>"
            ],
            "text/plain": [
              "<IPython.core.display.HTML object>"
            ]
          },
          "metadata": {}
        },
        {
          "output_type": "display_data",
          "data": {
            "text/html": [
              "\n",
              "    <div>\n",
              "      \n",
              "      <progress value='65' max='65' style='width:300px; height:20px; vertical-align: middle;'></progress>\n",
              "      [65/65 00:09]\n",
              "    </div>\n",
              "    "
            ],
            "text/plain": [
              "<IPython.core.display.HTML object>"
            ]
          },
          "metadata": {}
        },
        {
          "output_type": "stream",
          "name": "stderr",
          "text": [
            "\u001b[32m[I 2021-12-20 14:25:52,482]\u001b[0m Trial 14 finished with values: [0.38970524072647095, 0.8574239994510773] and parameters: {'learning_rate': 5.4968865059080574e-05, 'num_train_epochs': 1, 'per_device_train_batch_size': 16, 'weight_decay': 0.004331956336329123}. \u001b[0m\n"
          ]
        },
        {
          "output_type": "display_data",
          "data": {
            "text/html": [
              "\n",
              "    <div>\n",
              "      \n",
              "      <progress value='289' max='289' style='width:300px; height:20px; vertical-align: middle;'></progress>\n",
              "      [289/289 05:09, Epoch 1/1]\n",
              "    </div>\n",
              "    <table border=\"1\" class=\"dataframe\">\n",
              "  <thead>\n",
              "    <tr style=\"text-align: left;\">\n",
              "      <th>Step</th>\n",
              "      <th>Training Loss</th>\n",
              "      <th>Validation Loss</th>\n",
              "      <th>Acc</th>\n",
              "      <th>F1</th>\n",
              "      <th>Precision</th>\n",
              "      <th>Recall</th>\n",
              "      <th>Mcc</th>\n",
              "    </tr>\n",
              "  </thead>\n",
              "  <tbody>\n",
              "    <tr>\n",
              "      <td>57</td>\n",
              "      <td>No log</td>\n",
              "      <td>1.292417</td>\n",
              "      <td>0.642023</td>\n",
              "      <td>0.485004</td>\n",
              "      <td>0.506206</td>\n",
              "      <td>0.511856</td>\n",
              "      <td>0.590613</td>\n",
              "    </tr>\n",
              "    <tr>\n",
              "      <td>114</td>\n",
              "      <td>No log</td>\n",
              "      <td>0.838198</td>\n",
              "      <td>0.774319</td>\n",
              "      <td>0.750183</td>\n",
              "      <td>0.793962</td>\n",
              "      <td>0.732568</td>\n",
              "      <td>0.741428</td>\n",
              "    </tr>\n",
              "    <tr>\n",
              "      <td>171</td>\n",
              "      <td>No log</td>\n",
              "      <td>0.665679</td>\n",
              "      <td>0.825875</td>\n",
              "      <td>0.820902</td>\n",
              "      <td>0.827442</td>\n",
              "      <td>0.825265</td>\n",
              "      <td>0.802173</td>\n",
              "    </tr>\n",
              "    <tr>\n",
              "      <td>228</td>\n",
              "      <td>No log</td>\n",
              "      <td>0.585734</td>\n",
              "      <td>0.843385</td>\n",
              "      <td>0.842815</td>\n",
              "      <td>0.848297</td>\n",
              "      <td>0.838380</td>\n",
              "      <td>0.820478</td>\n",
              "    </tr>\n",
              "    <tr>\n",
              "      <td>285</td>\n",
              "      <td>No log</td>\n",
              "      <td>0.558154</td>\n",
              "      <td>0.838521</td>\n",
              "      <td>0.839666</td>\n",
              "      <td>0.847081</td>\n",
              "      <td>0.834109</td>\n",
              "      <td>0.814968</td>\n",
              "    </tr>\n",
              "  </tbody>\n",
              "</table><p>"
            ],
            "text/plain": [
              "<IPython.core.display.HTML object>"
            ]
          },
          "metadata": {}
        },
        {
          "output_type": "stream",
          "name": "stderr",
          "text": [
            "/usr/local/lib/python3.7/dist-packages/sklearn/metrics/_classification.py:1308: UndefinedMetricWarning:\n",
            "\n",
            "Precision is ill-defined and being set to 0.0 in labels with no predicted samples. Use `zero_division` parameter to control this behavior.\n",
            "\n"
          ]
        },
        {
          "output_type": "display_data",
          "data": {
            "text/html": [
              "\n",
              "    <div>\n",
              "      \n",
              "      <progress value='33' max='33' style='width:300px; height:20px; vertical-align: middle;'></progress>\n",
              "      [33/33 00:09]\n",
              "    </div>\n",
              "    "
            ],
            "text/plain": [
              "<IPython.core.display.HTML object>"
            ]
          },
          "metadata": {}
        },
        {
          "output_type": "stream",
          "name": "stderr",
          "text": [
            "\u001b[32m[I 2021-12-20 14:31:17,116]\u001b[0m Trial 15 finished with values: [0.5581539273262024, 0.8149679942066972] and parameters: {'learning_rate': 2.2914519416893815e-05, 'num_train_epochs': 1, 'per_device_train_batch_size': 32, 'weight_decay': 0.001841496962995193}. \u001b[0m\n"
          ]
        },
        {
          "output_type": "display_data",
          "data": {
            "text/html": [
              "\n",
              "    <div>\n",
              "      \n",
              "      <progress value='578' max='578' style='width:300px; height:20px; vertical-align: middle;'></progress>\n",
              "      [578/578 05:22, Epoch 1/1]\n",
              "    </div>\n",
              "    <table border=\"1\" class=\"dataframe\">\n",
              "  <thead>\n",
              "    <tr style=\"text-align: left;\">\n",
              "      <th>Step</th>\n",
              "      <th>Training Loss</th>\n",
              "      <th>Validation Loss</th>\n",
              "      <th>Acc</th>\n",
              "      <th>F1</th>\n",
              "      <th>Precision</th>\n",
              "      <th>Recall</th>\n",
              "      <th>Mcc</th>\n",
              "    </tr>\n",
              "  </thead>\n",
              "  <tbody>\n",
              "    <tr>\n",
              "      <td>115</td>\n",
              "      <td>No log</td>\n",
              "      <td>0.629901</td>\n",
              "      <td>0.808366</td>\n",
              "      <td>0.806996</td>\n",
              "      <td>0.839266</td>\n",
              "      <td>0.793662</td>\n",
              "      <td>0.781876</td>\n",
              "    </tr>\n",
              "    <tr>\n",
              "      <td>230</td>\n",
              "      <td>No log</td>\n",
              "      <td>0.519842</td>\n",
              "      <td>0.840467</td>\n",
              "      <td>0.843490</td>\n",
              "      <td>0.859740</td>\n",
              "      <td>0.835847</td>\n",
              "      <td>0.818483</td>\n",
              "    </tr>\n",
              "    <tr>\n",
              "      <td>345</td>\n",
              "      <td>No log</td>\n",
              "      <td>0.536212</td>\n",
              "      <td>0.827821</td>\n",
              "      <td>0.835488</td>\n",
              "      <td>0.854016</td>\n",
              "      <td>0.842740</td>\n",
              "      <td>0.809104</td>\n",
              "    </tr>\n",
              "    <tr>\n",
              "      <td>460</td>\n",
              "      <td>No log</td>\n",
              "      <td>0.396940</td>\n",
              "      <td>0.867704</td>\n",
              "      <td>0.867583</td>\n",
              "      <td>0.864844</td>\n",
              "      <td>0.871090</td>\n",
              "      <td>0.848575</td>\n",
              "    </tr>\n",
              "    <tr>\n",
              "      <td>575</td>\n",
              "      <td>0.661200</td>\n",
              "      <td>0.394062</td>\n",
              "      <td>0.873541</td>\n",
              "      <td>0.872399</td>\n",
              "      <td>0.872634</td>\n",
              "      <td>0.872853</td>\n",
              "      <td>0.855189</td>\n",
              "    </tr>\n",
              "  </tbody>\n",
              "</table><p>"
            ],
            "text/plain": [
              "<IPython.core.display.HTML object>"
            ]
          },
          "metadata": {}
        },
        {
          "output_type": "display_data",
          "data": {
            "text/html": [
              "\n",
              "    <div>\n",
              "      \n",
              "      <progress value='65' max='65' style='width:300px; height:20px; vertical-align: middle;'></progress>\n",
              "      [65/65 00:09]\n",
              "    </div>\n",
              "    "
            ],
            "text/plain": [
              "<IPython.core.display.HTML object>"
            ]
          },
          "metadata": {}
        },
        {
          "output_type": "stream",
          "name": "stderr",
          "text": [
            "\u001b[32m[I 2021-12-20 14:36:55,270]\u001b[0m Trial 16 finished with values: [0.3940621614456177, 0.8551891180305556] and parameters: {'learning_rate': 5.322178448295809e-05, 'num_train_epochs': 1, 'per_device_train_batch_size': 16, 'weight_decay': 0.002268555667798629}. \u001b[0m\n"
          ]
        },
        {
          "output_type": "display_data",
          "data": {
            "text/html": [
              "\n",
              "    <div>\n",
              "      \n",
              "      <progress value='578' max='578' style='width:300px; height:20px; vertical-align: middle;'></progress>\n",
              "      [578/578 05:22, Epoch 1/1]\n",
              "    </div>\n",
              "    <table border=\"1\" class=\"dataframe\">\n",
              "  <thead>\n",
              "    <tr style=\"text-align: left;\">\n",
              "      <th>Step</th>\n",
              "      <th>Training Loss</th>\n",
              "      <th>Validation Loss</th>\n",
              "      <th>Acc</th>\n",
              "      <th>F1</th>\n",
              "      <th>Precision</th>\n",
              "      <th>Recall</th>\n",
              "      <th>Mcc</th>\n",
              "    </tr>\n",
              "  </thead>\n",
              "  <tbody>\n",
              "    <tr>\n",
              "      <td>115</td>\n",
              "      <td>No log</td>\n",
              "      <td>1.270357</td>\n",
              "      <td>0.648833</td>\n",
              "      <td>0.513044</td>\n",
              "      <td>0.734639</td>\n",
              "      <td>0.525366</td>\n",
              "      <td>0.600141</td>\n",
              "    </tr>\n",
              "    <tr>\n",
              "      <td>230</td>\n",
              "      <td>No log</td>\n",
              "      <td>0.869197</td>\n",
              "      <td>0.773346</td>\n",
              "      <td>0.766434</td>\n",
              "      <td>0.807413</td>\n",
              "      <td>0.745652</td>\n",
              "      <td>0.741449</td>\n",
              "    </tr>\n",
              "    <tr>\n",
              "      <td>345</td>\n",
              "      <td>No log</td>\n",
              "      <td>0.706952</td>\n",
              "      <td>0.816148</td>\n",
              "      <td>0.810459</td>\n",
              "      <td>0.821996</td>\n",
              "      <td>0.812579</td>\n",
              "      <td>0.791458</td>\n",
              "    </tr>\n",
              "    <tr>\n",
              "      <td>460</td>\n",
              "      <td>No log</td>\n",
              "      <td>0.613764</td>\n",
              "      <td>0.829767</td>\n",
              "      <td>0.832669</td>\n",
              "      <td>0.835603</td>\n",
              "      <td>0.830322</td>\n",
              "      <td>0.804916</td>\n",
              "    </tr>\n",
              "    <tr>\n",
              "      <td>575</td>\n",
              "      <td>1.048200</td>\n",
              "      <td>0.594306</td>\n",
              "      <td>0.832685</td>\n",
              "      <td>0.831638</td>\n",
              "      <td>0.841756</td>\n",
              "      <td>0.823995</td>\n",
              "      <td>0.808210</td>\n",
              "    </tr>\n",
              "  </tbody>\n",
              "</table><p>"
            ],
            "text/plain": [
              "<IPython.core.display.HTML object>"
            ]
          },
          "metadata": {}
        },
        {
          "output_type": "display_data",
          "data": {
            "text/html": [
              "\n",
              "    <div>\n",
              "      \n",
              "      <progress value='65' max='65' style='width:300px; height:20px; vertical-align: middle;'></progress>\n",
              "      [65/65 00:09]\n",
              "    </div>\n",
              "    "
            ],
            "text/plain": [
              "<IPython.core.display.HTML object>"
            ]
          },
          "metadata": {}
        },
        {
          "output_type": "stream",
          "name": "stderr",
          "text": [
            "\u001b[32m[I 2021-12-20 14:42:33,768]\u001b[0m Trial 17 finished with values: [0.5943055152893066, 0.8082098044259179] and parameters: {'learning_rate': 1.3232556465350068e-05, 'num_train_epochs': 1, 'per_device_train_batch_size': 16, 'weight_decay': 0.005459364481933602}. \u001b[0m\n"
          ]
        },
        {
          "output_type": "display_data",
          "data": {
            "text/html": [
              "\n",
              "    <div>\n",
              "      \n",
              "      <progress value='289' max='289' style='width:300px; height:20px; vertical-align: middle;'></progress>\n",
              "      [289/289 05:09, Epoch 1/1]\n",
              "    </div>\n",
              "    <table border=\"1\" class=\"dataframe\">\n",
              "  <thead>\n",
              "    <tr style=\"text-align: left;\">\n",
              "      <th>Step</th>\n",
              "      <th>Training Loss</th>\n",
              "      <th>Validation Loss</th>\n",
              "      <th>Acc</th>\n",
              "      <th>F1</th>\n",
              "      <th>Precision</th>\n",
              "      <th>Recall</th>\n",
              "      <th>Mcc</th>\n",
              "    </tr>\n",
              "  </thead>\n",
              "  <tbody>\n",
              "    <tr>\n",
              "      <td>57</td>\n",
              "      <td>No log</td>\n",
              "      <td>1.124949</td>\n",
              "      <td>0.691634</td>\n",
              "      <td>0.605947</td>\n",
              "      <td>0.759044</td>\n",
              "      <td>0.593864</td>\n",
              "      <td>0.646726</td>\n",
              "    </tr>\n",
              "    <tr>\n",
              "      <td>114</td>\n",
              "      <td>No log</td>\n",
              "      <td>0.740494</td>\n",
              "      <td>0.802529</td>\n",
              "      <td>0.791077</td>\n",
              "      <td>0.828413</td>\n",
              "      <td>0.773097</td>\n",
              "      <td>0.773967</td>\n",
              "    </tr>\n",
              "    <tr>\n",
              "      <td>171</td>\n",
              "      <td>No log</td>\n",
              "      <td>0.585832</td>\n",
              "      <td>0.839494</td>\n",
              "      <td>0.834822</td>\n",
              "      <td>0.839548</td>\n",
              "      <td>0.839912</td>\n",
              "      <td>0.817568</td>\n",
              "    </tr>\n",
              "    <tr>\n",
              "      <td>228</td>\n",
              "      <td>No log</td>\n",
              "      <td>0.519967</td>\n",
              "      <td>0.855058</td>\n",
              "      <td>0.857620</td>\n",
              "      <td>0.861697</td>\n",
              "      <td>0.855432</td>\n",
              "      <td>0.834011</td>\n",
              "    </tr>\n",
              "    <tr>\n",
              "      <td>285</td>\n",
              "      <td>No log</td>\n",
              "      <td>0.497096</td>\n",
              "      <td>0.851167</td>\n",
              "      <td>0.850262</td>\n",
              "      <td>0.853504</td>\n",
              "      <td>0.848201</td>\n",
              "      <td>0.829526</td>\n",
              "    </tr>\n",
              "  </tbody>\n",
              "</table><p>"
            ],
            "text/plain": [
              "<IPython.core.display.HTML object>"
            ]
          },
          "metadata": {}
        },
        {
          "output_type": "display_data",
          "data": {
            "text/html": [
              "\n",
              "    <div>\n",
              "      \n",
              "      <progress value='33' max='33' style='width:300px; height:20px; vertical-align: middle;'></progress>\n",
              "      [33/33 00:09]\n",
              "    </div>\n",
              "    "
            ],
            "text/plain": [
              "<IPython.core.display.HTML object>"
            ]
          },
          "metadata": {}
        },
        {
          "output_type": "stream",
          "name": "stderr",
          "text": [
            "\u001b[32m[I 2021-12-20 14:47:58,063]\u001b[0m Trial 18 finished with values: [0.49709615111351013, 0.8295255868305729] and parameters: {'learning_rate': 2.9163289155964626e-05, 'num_train_epochs': 1, 'per_device_train_batch_size': 32, 'weight_decay': 0.00454220600341496}. \u001b[0m\n"
          ]
        },
        {
          "output_type": "display_data",
          "data": {
            "text/html": [
              "\n",
              "    <div>\n",
              "      \n",
              "      <progress value='289' max='289' style='width:300px; height:20px; vertical-align: middle;'></progress>\n",
              "      [289/289 05:09, Epoch 1/1]\n",
              "    </div>\n",
              "    <table border=\"1\" class=\"dataframe\">\n",
              "  <thead>\n",
              "    <tr style=\"text-align: left;\">\n",
              "      <th>Step</th>\n",
              "      <th>Training Loss</th>\n",
              "      <th>Validation Loss</th>\n",
              "      <th>Acc</th>\n",
              "      <th>F1</th>\n",
              "      <th>Precision</th>\n",
              "      <th>Recall</th>\n",
              "      <th>Mcc</th>\n",
              "    </tr>\n",
              "  </thead>\n",
              "  <tbody>\n",
              "    <tr>\n",
              "      <td>57</td>\n",
              "      <td>No log</td>\n",
              "      <td>0.949736</td>\n",
              "      <td>0.740272</td>\n",
              "      <td>0.690293</td>\n",
              "      <td>0.767579</td>\n",
              "      <td>0.672455</td>\n",
              "      <td>0.702981</td>\n",
              "    </tr>\n",
              "    <tr>\n",
              "      <td>114</td>\n",
              "      <td>No log</td>\n",
              "      <td>0.654140</td>\n",
              "      <td>0.820039</td>\n",
              "      <td>0.818106</td>\n",
              "      <td>0.856479</td>\n",
              "      <td>0.798516</td>\n",
              "      <td>0.794447</td>\n",
              "    </tr>\n",
              "    <tr>\n",
              "      <td>171</td>\n",
              "      <td>No log</td>\n",
              "      <td>0.521230</td>\n",
              "      <td>0.839494</td>\n",
              "      <td>0.837492</td>\n",
              "      <td>0.841055</td>\n",
              "      <td>0.842809</td>\n",
              "      <td>0.817612</td>\n",
              "    </tr>\n",
              "    <tr>\n",
              "      <td>228</td>\n",
              "      <td>No log</td>\n",
              "      <td>0.466698</td>\n",
              "      <td>0.860895</td>\n",
              "      <td>0.862338</td>\n",
              "      <td>0.864402</td>\n",
              "      <td>0.861600</td>\n",
              "      <td>0.840748</td>\n",
              "    </tr>\n",
              "    <tr>\n",
              "      <td>285</td>\n",
              "      <td>No log</td>\n",
              "      <td>0.447533</td>\n",
              "      <td>0.860895</td>\n",
              "      <td>0.861885</td>\n",
              "      <td>0.862702</td>\n",
              "      <td>0.861716</td>\n",
              "      <td>0.840706</td>\n",
              "    </tr>\n",
              "  </tbody>\n",
              "</table><p>"
            ],
            "text/plain": [
              "<IPython.core.display.HTML object>"
            ]
          },
          "metadata": {}
        },
        {
          "output_type": "display_data",
          "data": {
            "text/html": [
              "\n",
              "    <div>\n",
              "      \n",
              "      <progress value='33' max='33' style='width:300px; height:20px; vertical-align: middle;'></progress>\n",
              "      [33/33 00:09]\n",
              "    </div>\n",
              "    "
            ],
            "text/plain": [
              "<IPython.core.display.HTML object>"
            ]
          },
          "metadata": {}
        },
        {
          "output_type": "stream",
          "name": "stderr",
          "text": [
            "\u001b[32m[I 2021-12-20 14:53:22,626]\u001b[0m Trial 19 finished with values: [0.4475332796573639, 0.8407064703703742] and parameters: {'learning_rate': 3.9044997141240665e-05, 'num_train_epochs': 1, 'per_device_train_batch_size': 32, 'weight_decay': 0.00322257376769894}. \u001b[0m\n"
          ]
        },
        {
          "output_type": "display_data",
          "data": {
            "text/html": [
              "\n",
              "    <div>\n",
              "      \n",
              "      <progress value='289' max='289' style='width:300px; height:20px; vertical-align: middle;'></progress>\n",
              "      [289/289 05:10, Epoch 1/1]\n",
              "    </div>\n",
              "    <table border=\"1\" class=\"dataframe\">\n",
              "  <thead>\n",
              "    <tr style=\"text-align: left;\">\n",
              "      <th>Step</th>\n",
              "      <th>Training Loss</th>\n",
              "      <th>Validation Loss</th>\n",
              "      <th>Acc</th>\n",
              "      <th>F1</th>\n",
              "      <th>Precision</th>\n",
              "      <th>Recall</th>\n",
              "      <th>Mcc</th>\n",
              "    </tr>\n",
              "  </thead>\n",
              "  <tbody>\n",
              "    <tr>\n",
              "      <td>57</td>\n",
              "      <td>No log</td>\n",
              "      <td>1.778819</td>\n",
              "      <td>0.525292</td>\n",
              "      <td>0.376096</td>\n",
              "      <td>0.457028</td>\n",
              "      <td>0.401616</td>\n",
              "      <td>0.467301</td>\n",
              "    </tr>\n",
              "    <tr>\n",
              "      <td>114</td>\n",
              "      <td>No log</td>\n",
              "      <td>1.334460</td>\n",
              "      <td>0.618677</td>\n",
              "      <td>0.496798</td>\n",
              "      <td>0.628833</td>\n",
              "      <td>0.508357</td>\n",
              "      <td>0.565096</td>\n",
              "    </tr>\n",
              "    <tr>\n",
              "      <td>171</td>\n",
              "      <td>No log</td>\n",
              "      <td>1.096475</td>\n",
              "      <td>0.724708</td>\n",
              "      <td>0.674465</td>\n",
              "      <td>0.761726</td>\n",
              "      <td>0.664396</td>\n",
              "      <td>0.686311</td>\n",
              "    </tr>\n",
              "    <tr>\n",
              "      <td>228</td>\n",
              "      <td>No log</td>\n",
              "      <td>0.993813</td>\n",
              "      <td>0.736381</td>\n",
              "      <td>0.695007</td>\n",
              "      <td>0.760095</td>\n",
              "      <td>0.680672</td>\n",
              "      <td>0.697370</td>\n",
              "    </tr>\n",
              "    <tr>\n",
              "      <td>285</td>\n",
              "      <td>No log</td>\n",
              "      <td>0.951580</td>\n",
              "      <td>0.752918</td>\n",
              "      <td>0.715455</td>\n",
              "      <td>0.764860</td>\n",
              "      <td>0.698766</td>\n",
              "      <td>0.716365</td>\n",
              "    </tr>\n",
              "  </tbody>\n",
              "</table><p>"
            ],
            "text/plain": [
              "<IPython.core.display.HTML object>"
            ]
          },
          "metadata": {}
        },
        {
          "output_type": "stream",
          "name": "stderr",
          "text": [
            "/usr/local/lib/python3.7/dist-packages/sklearn/metrics/_classification.py:1308: UndefinedMetricWarning:\n",
            "\n",
            "Precision is ill-defined and being set to 0.0 in labels with no predicted samples. Use `zero_division` parameter to control this behavior.\n",
            "\n",
            "/usr/local/lib/python3.7/dist-packages/sklearn/metrics/_classification.py:1308: UndefinedMetricWarning:\n",
            "\n",
            "Precision is ill-defined and being set to 0.0 in labels with no predicted samples. Use `zero_division` parameter to control this behavior.\n",
            "\n"
          ]
        },
        {
          "output_type": "display_data",
          "data": {
            "text/html": [
              "\n",
              "    <div>\n",
              "      \n",
              "      <progress value='33' max='33' style='width:300px; height:20px; vertical-align: middle;'></progress>\n",
              "      [33/33 00:09]\n",
              "    </div>\n",
              "    "
            ],
            "text/plain": [
              "<IPython.core.display.HTML object>"
            ]
          },
          "metadata": {}
        },
        {
          "output_type": "stream",
          "name": "stderr",
          "text": [
            "\u001b[32m[I 2021-12-20 14:58:47,756]\u001b[0m Trial 20 finished with values: [0.9515802264213562, 0.7163650275990657] and parameters: {'learning_rate': 1.0437331612272703e-05, 'num_train_epochs': 1, 'per_device_train_batch_size': 32, 'weight_decay': 0.005645051219523894}. \u001b[0m\n"
          ]
        },
        {
          "output_type": "display_data",
          "data": {
            "text/html": [
              "\n",
              "    <div>\n",
              "      \n",
              "      <progress value='289' max='289' style='width:300px; height:20px; vertical-align: middle;'></progress>\n",
              "      [289/289 05:09, Epoch 1/1]\n",
              "    </div>\n",
              "    <table border=\"1\" class=\"dataframe\">\n",
              "  <thead>\n",
              "    <tr style=\"text-align: left;\">\n",
              "      <th>Step</th>\n",
              "      <th>Training Loss</th>\n",
              "      <th>Validation Loss</th>\n",
              "      <th>Acc</th>\n",
              "      <th>F1</th>\n",
              "      <th>Precision</th>\n",
              "      <th>Recall</th>\n",
              "      <th>Mcc</th>\n",
              "    </tr>\n",
              "  </thead>\n",
              "  <tbody>\n",
              "    <tr>\n",
              "      <td>57</td>\n",
              "      <td>No log</td>\n",
              "      <td>1.463305</td>\n",
              "      <td>0.618677</td>\n",
              "      <td>0.460584</td>\n",
              "      <td>0.569914</td>\n",
              "      <td>0.488807</td>\n",
              "      <td>0.566251</td>\n",
              "    </tr>\n",
              "    <tr>\n",
              "      <td>114</td>\n",
              "      <td>No log</td>\n",
              "      <td>0.977297</td>\n",
              "      <td>0.737354</td>\n",
              "      <td>0.682591</td>\n",
              "      <td>0.759691</td>\n",
              "      <td>0.672257</td>\n",
              "      <td>0.699534</td>\n",
              "    </tr>\n",
              "    <tr>\n",
              "      <td>171</td>\n",
              "      <td>No log</td>\n",
              "      <td>0.778251</td>\n",
              "      <td>0.806420</td>\n",
              "      <td>0.792526</td>\n",
              "      <td>0.810229</td>\n",
              "      <td>0.792157</td>\n",
              "      <td>0.779944</td>\n",
              "    </tr>\n",
              "    <tr>\n",
              "      <td>228</td>\n",
              "      <td>No log</td>\n",
              "      <td>0.687504</td>\n",
              "      <td>0.823930</td>\n",
              "      <td>0.817876</td>\n",
              "      <td>0.834127</td>\n",
              "      <td>0.806292</td>\n",
              "      <td>0.797979</td>\n",
              "    </tr>\n",
              "    <tr>\n",
              "      <td>285</td>\n",
              "      <td>No log</td>\n",
              "      <td>0.652603</td>\n",
              "      <td>0.821984</td>\n",
              "      <td>0.816731</td>\n",
              "      <td>0.829287</td>\n",
              "      <td>0.808169</td>\n",
              "      <td>0.795783</td>\n",
              "    </tr>\n",
              "  </tbody>\n",
              "</table><p>"
            ],
            "text/plain": [
              "<IPython.core.display.HTML object>"
            ]
          },
          "metadata": {}
        },
        {
          "output_type": "stream",
          "name": "stderr",
          "text": [
            "/usr/local/lib/python3.7/dist-packages/sklearn/metrics/_classification.py:1308: UndefinedMetricWarning:\n",
            "\n",
            "Precision is ill-defined and being set to 0.0 in labels with no predicted samples. Use `zero_division` parameter to control this behavior.\n",
            "\n"
          ]
        },
        {
          "output_type": "display_data",
          "data": {
            "text/html": [
              "\n",
              "    <div>\n",
              "      \n",
              "      <progress value='33' max='33' style='width:300px; height:20px; vertical-align: middle;'></progress>\n",
              "      [33/33 00:09]\n",
              "    </div>\n",
              "    "
            ],
            "text/plain": [
              "<IPython.core.display.HTML object>"
            ]
          },
          "metadata": {}
        },
        {
          "output_type": "stream",
          "name": "stderr",
          "text": [
            "\u001b[32m[I 2021-12-20 15:04:12,759]\u001b[0m Trial 21 finished with values: [0.6526034474372864, 0.7957828093649362] and parameters: {'learning_rate': 1.777867885453977e-05, 'num_train_epochs': 1, 'per_device_train_batch_size': 32, 'weight_decay': 0.0030175413698191656}. \u001b[0m\n"
          ]
        },
        {
          "output_type": "display_data",
          "data": {
            "text/html": [
              "\n",
              "    <div>\n",
              "      \n",
              "      <progress value='289' max='289' style='width:300px; height:20px; vertical-align: middle;'></progress>\n",
              "      [289/289 05:10, Epoch 1/1]\n",
              "    </div>\n",
              "    <table border=\"1\" class=\"dataframe\">\n",
              "  <thead>\n",
              "    <tr style=\"text-align: left;\">\n",
              "      <th>Step</th>\n",
              "      <th>Training Loss</th>\n",
              "      <th>Validation Loss</th>\n",
              "      <th>Acc</th>\n",
              "      <th>F1</th>\n",
              "      <th>Precision</th>\n",
              "      <th>Recall</th>\n",
              "      <th>Mcc</th>\n",
              "    </tr>\n",
              "  </thead>\n",
              "  <tbody>\n",
              "    <tr>\n",
              "      <td>57</td>\n",
              "      <td>No log</td>\n",
              "      <td>0.973875</td>\n",
              "      <td>0.729572</td>\n",
              "      <td>0.675303</td>\n",
              "      <td>0.760243</td>\n",
              "      <td>0.656783</td>\n",
              "      <td>0.690694</td>\n",
              "    </tr>\n",
              "    <tr>\n",
              "      <td>114</td>\n",
              "      <td>No log</td>\n",
              "      <td>0.663943</td>\n",
              "      <td>0.816148</td>\n",
              "      <td>0.812483</td>\n",
              "      <td>0.851947</td>\n",
              "      <td>0.793501</td>\n",
              "      <td>0.789900</td>\n",
              "    </tr>\n",
              "    <tr>\n",
              "      <td>171</td>\n",
              "      <td>No log</td>\n",
              "      <td>0.527842</td>\n",
              "      <td>0.836576</td>\n",
              "      <td>0.834502</td>\n",
              "      <td>0.837561</td>\n",
              "      <td>0.840624</td>\n",
              "      <td>0.814335</td>\n",
              "    </tr>\n",
              "    <tr>\n",
              "      <td>228</td>\n",
              "      <td>No log</td>\n",
              "      <td>0.471997</td>\n",
              "      <td>0.858949</td>\n",
              "      <td>0.858758</td>\n",
              "      <td>0.860931</td>\n",
              "      <td>0.858298</td>\n",
              "      <td>0.838545</td>\n",
              "    </tr>\n",
              "    <tr>\n",
              "      <td>285</td>\n",
              "      <td>No log</td>\n",
              "      <td>0.453015</td>\n",
              "      <td>0.857004</td>\n",
              "      <td>0.857752</td>\n",
              "      <td>0.858937</td>\n",
              "      <td>0.857619</td>\n",
              "      <td>0.836309</td>\n",
              "    </tr>\n",
              "  </tbody>\n",
              "</table><p>"
            ],
            "text/plain": [
              "<IPython.core.display.HTML object>"
            ]
          },
          "metadata": {}
        },
        {
          "output_type": "display_data",
          "data": {
            "text/html": [
              "\n",
              "    <div>\n",
              "      \n",
              "      <progress value='33' max='33' style='width:300px; height:20px; vertical-align: middle;'></progress>\n",
              "      [33/33 00:09]\n",
              "    </div>\n",
              "    "
            ],
            "text/plain": [
              "<IPython.core.display.HTML object>"
            ]
          },
          "metadata": {}
        },
        {
          "output_type": "stream",
          "name": "stderr",
          "text": [
            "\u001b[32m[I 2021-12-20 15:09:38,499]\u001b[0m Trial 22 finished with values: [0.4530148506164551, 0.8363091824101395] and parameters: {'learning_rate': 3.78947290474435e-05, 'num_train_epochs': 1, 'per_device_train_batch_size': 32, 'weight_decay': 0.008572572991134019}. \u001b[0m\n"
          ]
        },
        {
          "output_type": "display_data",
          "data": {
            "text/html": [
              "\n",
              "    <div>\n",
              "      \n",
              "      <progress value='289' max='289' style='width:300px; height:20px; vertical-align: middle;'></progress>\n",
              "      [289/289 05:09, Epoch 1/1]\n",
              "    </div>\n",
              "    <table border=\"1\" class=\"dataframe\">\n",
              "  <thead>\n",
              "    <tr style=\"text-align: left;\">\n",
              "      <th>Step</th>\n",
              "      <th>Training Loss</th>\n",
              "      <th>Validation Loss</th>\n",
              "      <th>Acc</th>\n",
              "      <th>F1</th>\n",
              "      <th>Precision</th>\n",
              "      <th>Recall</th>\n",
              "      <th>Mcc</th>\n",
              "    </tr>\n",
              "  </thead>\n",
              "  <tbody>\n",
              "    <tr>\n",
              "      <td>57</td>\n",
              "      <td>No log</td>\n",
              "      <td>1.654008</td>\n",
              "      <td>0.574903</td>\n",
              "      <td>0.426735</td>\n",
              "      <td>0.461047</td>\n",
              "      <td>0.449318</td>\n",
              "      <td>0.522796</td>\n",
              "    </tr>\n",
              "    <tr>\n",
              "      <td>114</td>\n",
              "      <td>No log</td>\n",
              "      <td>1.161920</td>\n",
              "      <td>0.681907</td>\n",
              "      <td>0.606432</td>\n",
              "      <td>0.749083</td>\n",
              "      <td>0.596755</td>\n",
              "      <td>0.635965</td>\n",
              "    </tr>\n",
              "    <tr>\n",
              "      <td>171</td>\n",
              "      <td>No log</td>\n",
              "      <td>0.941550</td>\n",
              "      <td>0.763619</td>\n",
              "      <td>0.738020</td>\n",
              "      <td>0.781197</td>\n",
              "      <td>0.730964</td>\n",
              "      <td>0.731567</td>\n",
              "    </tr>\n",
              "    <tr>\n",
              "      <td>228</td>\n",
              "      <td>No log</td>\n",
              "      <td>0.838465</td>\n",
              "      <td>0.777237</td>\n",
              "      <td>0.758402</td>\n",
              "      <td>0.787518</td>\n",
              "      <td>0.744904</td>\n",
              "      <td>0.744398</td>\n",
              "    </tr>\n",
              "    <tr>\n",
              "      <td>285</td>\n",
              "      <td>No log</td>\n",
              "      <td>0.798561</td>\n",
              "      <td>0.796693</td>\n",
              "      <td>0.781518</td>\n",
              "      <td>0.806844</td>\n",
              "      <td>0.767395</td>\n",
              "      <td>0.766657</td>\n",
              "    </tr>\n",
              "  </tbody>\n",
              "</table><p>"
            ],
            "text/plain": [
              "<IPython.core.display.HTML object>"
            ]
          },
          "metadata": {}
        },
        {
          "output_type": "stream",
          "name": "stderr",
          "text": [
            "/usr/local/lib/python3.7/dist-packages/sklearn/metrics/_classification.py:1308: UndefinedMetricWarning:\n",
            "\n",
            "Precision is ill-defined and being set to 0.0 in labels with no predicted samples. Use `zero_division` parameter to control this behavior.\n",
            "\n"
          ]
        },
        {
          "output_type": "display_data",
          "data": {
            "text/html": [
              "\n",
              "    <div>\n",
              "      \n",
              "      <progress value='33' max='33' style='width:300px; height:20px; vertical-align: middle;'></progress>\n",
              "      [33/33 00:09]\n",
              "    </div>\n",
              "    "
            ],
            "text/plain": [
              "<IPython.core.display.HTML object>"
            ]
          },
          "metadata": {}
        },
        {
          "output_type": "stream",
          "name": "stderr",
          "text": [
            "\u001b[32m[I 2021-12-20 15:15:03,604]\u001b[0m Trial 23 finished with values: [0.7985613346099854, 0.7666573527316356] and parameters: {'learning_rate': 1.328345424486003e-05, 'num_train_epochs': 1, 'per_device_train_batch_size': 32, 'weight_decay': 0.0010854190075026305}. \u001b[0m\n"
          ]
        },
        {
          "output_type": "display_data",
          "data": {
            "text/html": [
              "\n",
              "    <div>\n",
              "      \n",
              "      <progress value='578' max='578' style='width:300px; height:20px; vertical-align: middle;'></progress>\n",
              "      [578/578 05:25, Epoch 1/1]\n",
              "    </div>\n",
              "    <table border=\"1\" class=\"dataframe\">\n",
              "  <thead>\n",
              "    <tr style=\"text-align: left;\">\n",
              "      <th>Step</th>\n",
              "      <th>Training Loss</th>\n",
              "      <th>Validation Loss</th>\n",
              "      <th>Acc</th>\n",
              "      <th>F1</th>\n",
              "      <th>Precision</th>\n",
              "      <th>Recall</th>\n",
              "      <th>Mcc</th>\n",
              "    </tr>\n",
              "  </thead>\n",
              "  <tbody>\n",
              "    <tr>\n",
              "      <td>115</td>\n",
              "      <td>No log</td>\n",
              "      <td>1.324340</td>\n",
              "      <td>0.644942</td>\n",
              "      <td>0.491367</td>\n",
              "      <td>0.623850</td>\n",
              "      <td>0.515277</td>\n",
              "      <td>0.595399</td>\n",
              "    </tr>\n",
              "    <tr>\n",
              "      <td>230</td>\n",
              "      <td>No log</td>\n",
              "      <td>0.912446</td>\n",
              "      <td>0.759728</td>\n",
              "      <td>0.744328</td>\n",
              "      <td>0.792527</td>\n",
              "      <td>0.722983</td>\n",
              "      <td>0.725658</td>\n",
              "    </tr>\n",
              "    <tr>\n",
              "      <td>345</td>\n",
              "      <td>No log</td>\n",
              "      <td>0.742628</td>\n",
              "      <td>0.809339</td>\n",
              "      <td>0.801105</td>\n",
              "      <td>0.815891</td>\n",
              "      <td>0.802511</td>\n",
              "      <td>0.783790</td>\n",
              "    </tr>\n",
              "    <tr>\n",
              "      <td>460</td>\n",
              "      <td>No log</td>\n",
              "      <td>0.647291</td>\n",
              "      <td>0.824903</td>\n",
              "      <td>0.829655</td>\n",
              "      <td>0.834393</td>\n",
              "      <td>0.825596</td>\n",
              "      <td>0.799288</td>\n",
              "    </tr>\n",
              "    <tr>\n",
              "      <td>575</td>\n",
              "      <td>1.088000</td>\n",
              "      <td>0.625398</td>\n",
              "      <td>0.826848</td>\n",
              "      <td>0.824999</td>\n",
              "      <td>0.836185</td>\n",
              "      <td>0.816830</td>\n",
              "      <td>0.801474</td>\n",
              "    </tr>\n",
              "  </tbody>\n",
              "</table><p>"
            ],
            "text/plain": [
              "<IPython.core.display.HTML object>"
            ]
          },
          "metadata": {}
        },
        {
          "output_type": "stream",
          "name": "stderr",
          "text": [
            "/usr/local/lib/python3.7/dist-packages/sklearn/metrics/_classification.py:1308: UndefinedMetricWarning:\n",
            "\n",
            "Precision is ill-defined and being set to 0.0 in labels with no predicted samples. Use `zero_division` parameter to control this behavior.\n",
            "\n"
          ]
        },
        {
          "output_type": "display_data",
          "data": {
            "text/html": [
              "\n",
              "    <div>\n",
              "      \n",
              "      <progress value='65' max='65' style='width:300px; height:20px; vertical-align: middle;'></progress>\n",
              "      [65/65 00:09]\n",
              "    </div>\n",
              "    "
            ],
            "text/plain": [
              "<IPython.core.display.HTML object>"
            ]
          },
          "metadata": {}
        },
        {
          "output_type": "stream",
          "name": "stderr",
          "text": [
            "\u001b[32m[I 2021-12-20 15:20:44,447]\u001b[0m Trial 24 finished with values: [0.6253980398178101, 0.8014738861356477] and parameters: {'learning_rate': 1.2135558623303133e-05, 'num_train_epochs': 1, 'per_device_train_batch_size': 16, 'weight_decay': 0.008495332760303646}. \u001b[0m\n"
          ]
        },
        {
          "output_type": "display_data",
          "data": {
            "text/html": [
              "\n",
              "    <div>\n",
              "      \n",
              "      <progress value='578' max='578' style='width:300px; height:20px; vertical-align: middle;'></progress>\n",
              "      [578/578 05:24, Epoch 1/1]\n",
              "    </div>\n",
              "    <table border=\"1\" class=\"dataframe\">\n",
              "  <thead>\n",
              "    <tr style=\"text-align: left;\">\n",
              "      <th>Step</th>\n",
              "      <th>Training Loss</th>\n",
              "      <th>Validation Loss</th>\n",
              "      <th>Acc</th>\n",
              "      <th>F1</th>\n",
              "      <th>Precision</th>\n",
              "      <th>Recall</th>\n",
              "      <th>Mcc</th>\n",
              "    </tr>\n",
              "  </thead>\n",
              "  <tbody>\n",
              "    <tr>\n",
              "      <td>115</td>\n",
              "      <td>No log</td>\n",
              "      <td>0.629773</td>\n",
              "      <td>0.805447</td>\n",
              "      <td>0.807582</td>\n",
              "      <td>0.831205</td>\n",
              "      <td>0.798246</td>\n",
              "      <td>0.778161</td>\n",
              "    </tr>\n",
              "    <tr>\n",
              "      <td>230</td>\n",
              "      <td>No log</td>\n",
              "      <td>0.508938</td>\n",
              "      <td>0.838521</td>\n",
              "      <td>0.841522</td>\n",
              "      <td>0.855662</td>\n",
              "      <td>0.833091</td>\n",
              "      <td>0.815775</td>\n",
              "    </tr>\n",
              "    <tr>\n",
              "      <td>345</td>\n",
              "      <td>No log</td>\n",
              "      <td>0.516852</td>\n",
              "      <td>0.835603</td>\n",
              "      <td>0.833939</td>\n",
              "      <td>0.849238</td>\n",
              "      <td>0.835575</td>\n",
              "      <td>0.814896</td>\n",
              "    </tr>\n",
              "    <tr>\n",
              "      <td>460</td>\n",
              "      <td>No log</td>\n",
              "      <td>0.397223</td>\n",
              "      <td>0.871595</td>\n",
              "      <td>0.871022</td>\n",
              "      <td>0.870991</td>\n",
              "      <td>0.872570</td>\n",
              "      <td>0.852989</td>\n",
              "    </tr>\n",
              "    <tr>\n",
              "      <td>575</td>\n",
              "      <td>0.632200</td>\n",
              "      <td>0.388431</td>\n",
              "      <td>0.872568</td>\n",
              "      <td>0.871978</td>\n",
              "      <td>0.872539</td>\n",
              "      <td>0.872079</td>\n",
              "      <td>0.854061</td>\n",
              "    </tr>\n",
              "  </tbody>\n",
              "</table><p>"
            ],
            "text/plain": [
              "<IPython.core.display.HTML object>"
            ]
          },
          "metadata": {}
        },
        {
          "output_type": "display_data",
          "data": {
            "text/html": [
              "\n",
              "    <div>\n",
              "      \n",
              "      <progress value='65' max='65' style='width:300px; height:20px; vertical-align: middle;'></progress>\n",
              "      [65/65 00:09]\n",
              "    </div>\n",
              "    "
            ],
            "text/plain": [
              "<IPython.core.display.HTML object>"
            ]
          },
          "metadata": {}
        },
        {
          "output_type": "stream",
          "name": "stderr",
          "text": [
            "\u001b[32m[I 2021-12-20 15:26:24,088]\u001b[0m Trial 25 finished with values: [0.38843104243278503, 0.854061253127864] and parameters: {'learning_rate': 9.4705050091967e-05, 'num_train_epochs': 1, 'per_device_train_batch_size': 16, 'weight_decay': 0.004755481585981095}. \u001b[0m\n"
          ]
        },
        {
          "output_type": "display_data",
          "data": {
            "text/html": [
              "\n",
              "    <div>\n",
              "      \n",
              "      <progress value='578' max='578' style='width:300px; height:20px; vertical-align: middle;'></progress>\n",
              "      [578/578 05:24, Epoch 1/1]\n",
              "    </div>\n",
              "    <table border=\"1\" class=\"dataframe\">\n",
              "  <thead>\n",
              "    <tr style=\"text-align: left;\">\n",
              "      <th>Step</th>\n",
              "      <th>Training Loss</th>\n",
              "      <th>Validation Loss</th>\n",
              "      <th>Acc</th>\n",
              "      <th>F1</th>\n",
              "      <th>Precision</th>\n",
              "      <th>Recall</th>\n",
              "      <th>Mcc</th>\n",
              "    </tr>\n",
              "  </thead>\n",
              "  <tbody>\n",
              "    <tr>\n",
              "      <td>115</td>\n",
              "      <td>No log</td>\n",
              "      <td>0.763863</td>\n",
              "      <td>0.785992</td>\n",
              "      <td>0.762431</td>\n",
              "      <td>0.808426</td>\n",
              "      <td>0.748743</td>\n",
              "      <td>0.755730</td>\n",
              "    </tr>\n",
              "    <tr>\n",
              "      <td>230</td>\n",
              "      <td>No log</td>\n",
              "      <td>0.541679</td>\n",
              "      <td>0.841440</td>\n",
              "      <td>0.845298</td>\n",
              "      <td>0.853219</td>\n",
              "      <td>0.841771</td>\n",
              "      <td>0.819099</td>\n",
              "    </tr>\n",
              "    <tr>\n",
              "      <td>345</td>\n",
              "      <td>No log</td>\n",
              "      <td>0.526516</td>\n",
              "      <td>0.825875</td>\n",
              "      <td>0.828522</td>\n",
              "      <td>0.837857</td>\n",
              "      <td>0.838156</td>\n",
              "      <td>0.804760</td>\n",
              "    </tr>\n",
              "    <tr>\n",
              "      <td>460</td>\n",
              "      <td>No log</td>\n",
              "      <td>0.419930</td>\n",
              "      <td>0.869650</td>\n",
              "      <td>0.870788</td>\n",
              "      <td>0.868484</td>\n",
              "      <td>0.874568</td>\n",
              "      <td>0.850836</td>\n",
              "    </tr>\n",
              "    <tr>\n",
              "      <td>575</td>\n",
              "      <td>0.744100</td>\n",
              "      <td>0.417173</td>\n",
              "      <td>0.858949</td>\n",
              "      <td>0.859847</td>\n",
              "      <td>0.860242</td>\n",
              "      <td>0.860633</td>\n",
              "      <td>0.838564</td>\n",
              "    </tr>\n",
              "  </tbody>\n",
              "</table><p>"
            ],
            "text/plain": [
              "<IPython.core.display.HTML object>"
            ]
          },
          "metadata": {}
        },
        {
          "output_type": "display_data",
          "data": {
            "text/html": [
              "\n",
              "    <div>\n",
              "      \n",
              "      <progress value='65' max='65' style='width:300px; height:20px; vertical-align: middle;'></progress>\n",
              "      [65/65 00:09]\n",
              "    </div>\n",
              "    "
            ],
            "text/plain": [
              "<IPython.core.display.HTML object>"
            ]
          },
          "metadata": {}
        },
        {
          "output_type": "stream",
          "name": "stderr",
          "text": [
            "\u001b[32m[I 2021-12-20 15:32:03,797]\u001b[0m Trial 26 finished with values: [0.41717344522476196, 0.8385641849239942] and parameters: {'learning_rate': 3.274120993423763e-05, 'num_train_epochs': 1, 'per_device_train_batch_size': 16, 'weight_decay': 0.003090711368125064}. \u001b[0m\n"
          ]
        },
        {
          "output_type": "display_data",
          "data": {
            "text/html": [
              "\n",
              "    <div>\n",
              "      \n",
              "      <progress value='289' max='289' style='width:300px; height:20px; vertical-align: middle;'></progress>\n",
              "      [289/289 05:10, Epoch 1/1]\n",
              "    </div>\n",
              "    <table border=\"1\" class=\"dataframe\">\n",
              "  <thead>\n",
              "    <tr style=\"text-align: left;\">\n",
              "      <th>Step</th>\n",
              "      <th>Training Loss</th>\n",
              "      <th>Validation Loss</th>\n",
              "      <th>Acc</th>\n",
              "      <th>F1</th>\n",
              "      <th>Precision</th>\n",
              "      <th>Recall</th>\n",
              "      <th>Mcc</th>\n",
              "    </tr>\n",
              "  </thead>\n",
              "  <tbody>\n",
              "    <tr>\n",
              "      <td>57</td>\n",
              "      <td>No log</td>\n",
              "      <td>0.709991</td>\n",
              "      <td>0.781128</td>\n",
              "      <td>0.762358</td>\n",
              "      <td>0.811602</td>\n",
              "      <td>0.752814</td>\n",
              "      <td>0.751653</td>\n",
              "    </tr>\n",
              "    <tr>\n",
              "      <td>114</td>\n",
              "      <td>No log</td>\n",
              "      <td>0.499562</td>\n",
              "      <td>0.842412</td>\n",
              "      <td>0.842096</td>\n",
              "      <td>0.855366</td>\n",
              "      <td>0.833443</td>\n",
              "      <td>0.819296</td>\n",
              "    </tr>\n",
              "    <tr>\n",
              "      <td>171</td>\n",
              "      <td>No log</td>\n",
              "      <td>0.450442</td>\n",
              "      <td>0.851167</td>\n",
              "      <td>0.851689</td>\n",
              "      <td>0.857536</td>\n",
              "      <td>0.857071</td>\n",
              "      <td>0.831587</td>\n",
              "    </tr>\n",
              "    <tr>\n",
              "      <td>228</td>\n",
              "      <td>No log</td>\n",
              "      <td>0.379501</td>\n",
              "      <td>0.876459</td>\n",
              "      <td>0.874265</td>\n",
              "      <td>0.875584</td>\n",
              "      <td>0.873164</td>\n",
              "      <td>0.858406</td>\n",
              "    </tr>\n",
              "    <tr>\n",
              "      <td>285</td>\n",
              "      <td>No log</td>\n",
              "      <td>0.370018</td>\n",
              "      <td>0.877432</td>\n",
              "      <td>0.876126</td>\n",
              "      <td>0.876942</td>\n",
              "      <td>0.875907</td>\n",
              "      <td>0.859585</td>\n",
              "    </tr>\n",
              "  </tbody>\n",
              "</table><p>"
            ],
            "text/plain": [
              "<IPython.core.display.HTML object>"
            ]
          },
          "metadata": {}
        },
        {
          "output_type": "display_data",
          "data": {
            "text/html": [
              "\n",
              "    <div>\n",
              "      \n",
              "      <progress value='33' max='33' style='width:300px; height:20px; vertical-align: middle;'></progress>\n",
              "      [33/33 00:09]\n",
              "    </div>\n",
              "    "
            ],
            "text/plain": [
              "<IPython.core.display.HTML object>"
            ]
          },
          "metadata": {}
        },
        {
          "output_type": "stream",
          "name": "stderr",
          "text": [
            "\u001b[32m[I 2021-12-20 15:37:29,299]\u001b[0m Trial 27 finished with values: [0.37001755833625793, 0.8595845151158474] and parameters: {'learning_rate': 9.142476962730016e-05, 'num_train_epochs': 1, 'per_device_train_batch_size': 32, 'weight_decay': 0.004998050740399115}. \u001b[0m\n"
          ]
        },
        {
          "output_type": "stream",
          "name": "stdout",
          "text": [
            "This is a new besttrial 27\n"
          ]
        },
        {
          "output_type": "display_data",
          "data": {
            "text/html": [
              "\n",
              "    <div>\n",
              "      \n",
              "      <progress value='578' max='578' style='width:300px; height:20px; vertical-align: middle;'></progress>\n",
              "      [578/578 05:25, Epoch 1/1]\n",
              "    </div>\n",
              "    <table border=\"1\" class=\"dataframe\">\n",
              "  <thead>\n",
              "    <tr style=\"text-align: left;\">\n",
              "      <th>Step</th>\n",
              "      <th>Training Loss</th>\n",
              "      <th>Validation Loss</th>\n",
              "      <th>Acc</th>\n",
              "      <th>F1</th>\n",
              "      <th>Precision</th>\n",
              "      <th>Recall</th>\n",
              "      <th>Mcc</th>\n",
              "    </tr>\n",
              "  </thead>\n",
              "  <tbody>\n",
              "    <tr>\n",
              "      <td>115</td>\n",
              "      <td>No log</td>\n",
              "      <td>0.649613</td>\n",
              "      <td>0.803502</td>\n",
              "      <td>0.799775</td>\n",
              "      <td>0.836604</td>\n",
              "      <td>0.785150</td>\n",
              "      <td>0.776311</td>\n",
              "    </tr>\n",
              "    <tr>\n",
              "      <td>230</td>\n",
              "      <td>No log</td>\n",
              "      <td>0.507121</td>\n",
              "      <td>0.839494</td>\n",
              "      <td>0.840425</td>\n",
              "      <td>0.852593</td>\n",
              "      <td>0.835431</td>\n",
              "      <td>0.817280</td>\n",
              "    </tr>\n",
              "    <tr>\n",
              "      <td>345</td>\n",
              "      <td>No log</td>\n",
              "      <td>0.531780</td>\n",
              "      <td>0.834630</td>\n",
              "      <td>0.839482</td>\n",
              "      <td>0.853270</td>\n",
              "      <td>0.847487</td>\n",
              "      <td>0.815716</td>\n",
              "    </tr>\n",
              "    <tr>\n",
              "      <td>460</td>\n",
              "      <td>No log</td>\n",
              "      <td>0.398517</td>\n",
              "      <td>0.870623</td>\n",
              "      <td>0.870846</td>\n",
              "      <td>0.867715</td>\n",
              "      <td>0.875572</td>\n",
              "      <td>0.852070</td>\n",
              "    </tr>\n",
              "    <tr>\n",
              "      <td>575</td>\n",
              "      <td>0.662100</td>\n",
              "      <td>0.393438</td>\n",
              "      <td>0.873541</td>\n",
              "      <td>0.871837</td>\n",
              "      <td>0.873327</td>\n",
              "      <td>0.871367</td>\n",
              "      <td>0.855192</td>\n",
              "    </tr>\n",
              "  </tbody>\n",
              "</table><p>"
            ],
            "text/plain": [
              "<IPython.core.display.HTML object>"
            ]
          },
          "metadata": {}
        },
        {
          "output_type": "display_data",
          "data": {
            "text/html": [
              "\n",
              "    <div>\n",
              "      \n",
              "      <progress value='65' max='65' style='width:300px; height:20px; vertical-align: middle;'></progress>\n",
              "      [65/65 00:09]\n",
              "    </div>\n",
              "    "
            ],
            "text/plain": [
              "<IPython.core.display.HTML object>"
            ]
          },
          "metadata": {}
        },
        {
          "output_type": "stream",
          "name": "stderr",
          "text": [
            "\u001b[32m[I 2021-12-20 15:43:24,113]\u001b[0m Trial 28 finished with values: [0.39343810081481934, 0.8551916528313239] and parameters: {'learning_rate': 5.296798744857186e-05, 'num_train_epochs': 1, 'per_device_train_batch_size': 16, 'weight_decay': 0.0013883536718487142}. \u001b[0m\n"
          ]
        },
        {
          "output_type": "display_data",
          "data": {
            "text/html": [
              "\n",
              "    <div>\n",
              "      \n",
              "      <progress value='289' max='289' style='width:300px; height:20px; vertical-align: middle;'></progress>\n",
              "      [289/289 05:10, Epoch 1/1]\n",
              "    </div>\n",
              "    <table border=\"1\" class=\"dataframe\">\n",
              "  <thead>\n",
              "    <tr style=\"text-align: left;\">\n",
              "      <th>Step</th>\n",
              "      <th>Training Loss</th>\n",
              "      <th>Validation Loss</th>\n",
              "      <th>Acc</th>\n",
              "      <th>F1</th>\n",
              "      <th>Precision</th>\n",
              "      <th>Recall</th>\n",
              "      <th>Mcc</th>\n",
              "    </tr>\n",
              "  </thead>\n",
              "  <tbody>\n",
              "    <tr>\n",
              "      <td>57</td>\n",
              "      <td>No log</td>\n",
              "      <td>1.764680</td>\n",
              "      <td>0.535019</td>\n",
              "      <td>0.386567</td>\n",
              "      <td>0.460340</td>\n",
              "      <td>0.410407</td>\n",
              "      <td>0.478500</td>\n",
              "    </tr>\n",
              "    <tr>\n",
              "      <td>114</td>\n",
              "      <td>No log</td>\n",
              "      <td>1.312658</td>\n",
              "      <td>0.629377</td>\n",
              "      <td>0.511942</td>\n",
              "      <td>0.628724</td>\n",
              "      <td>0.520493</td>\n",
              "      <td>0.577197</td>\n",
              "    </tr>\n",
              "    <tr>\n",
              "      <td>171</td>\n",
              "      <td>No log</td>\n",
              "      <td>1.076815</td>\n",
              "      <td>0.728599</td>\n",
              "      <td>0.678479</td>\n",
              "      <td>0.758829</td>\n",
              "      <td>0.671042</td>\n",
              "      <td>0.690846</td>\n",
              "    </tr>\n",
              "    <tr>\n",
              "      <td>228</td>\n",
              "      <td>No log</td>\n",
              "      <td>0.973558</td>\n",
              "      <td>0.747082</td>\n",
              "      <td>0.713198</td>\n",
              "      <td>0.770017</td>\n",
              "      <td>0.696773</td>\n",
              "      <td>0.709711</td>\n",
              "    </tr>\n",
              "    <tr>\n",
              "      <td>285</td>\n",
              "      <td>No log</td>\n",
              "      <td>0.931464</td>\n",
              "      <td>0.761673</td>\n",
              "      <td>0.731368</td>\n",
              "      <td>0.770800</td>\n",
              "      <td>0.715762</td>\n",
              "      <td>0.726420</td>\n",
              "    </tr>\n",
              "  </tbody>\n",
              "</table><p>"
            ],
            "text/plain": [
              "<IPython.core.display.HTML object>"
            ]
          },
          "metadata": {}
        },
        {
          "output_type": "stream",
          "name": "stderr",
          "text": [
            "/usr/local/lib/python3.7/dist-packages/sklearn/metrics/_classification.py:1308: UndefinedMetricWarning:\n",
            "\n",
            "Precision is ill-defined and being set to 0.0 in labels with no predicted samples. Use `zero_division` parameter to control this behavior.\n",
            "\n",
            "/usr/local/lib/python3.7/dist-packages/sklearn/metrics/_classification.py:1308: UndefinedMetricWarning:\n",
            "\n",
            "Precision is ill-defined and being set to 0.0 in labels with no predicted samples. Use `zero_division` parameter to control this behavior.\n",
            "\n"
          ]
        },
        {
          "output_type": "display_data",
          "data": {
            "text/html": [
              "\n",
              "    <div>\n",
              "      \n",
              "      <progress value='33' max='33' style='width:300px; height:20px; vertical-align: middle;'></progress>\n",
              "      [33/33 00:09]\n",
              "    </div>\n",
              "    "
            ],
            "text/plain": [
              "<IPython.core.display.HTML object>"
            ]
          },
          "metadata": {}
        },
        {
          "output_type": "stream",
          "name": "stderr",
          "text": [
            "\u001b[32m[I 2021-12-20 15:48:50,063]\u001b[0m Trial 29 finished with values: [0.9314635992050171, 0.7264199682233355] and parameters: {'learning_rate': 1.0759866093782487e-05, 'num_train_epochs': 1, 'per_device_train_batch_size': 32, 'weight_decay': 0.005551495276979483}. \u001b[0m\n"
          ]
        },
        {
          "output_type": "display_data",
          "data": {
            "text/html": [
              "\n",
              "    <div>\n",
              "      \n",
              "      <progress value='578' max='578' style='width:300px; height:20px; vertical-align: middle;'></progress>\n",
              "      [578/578 05:24, Epoch 1/1]\n",
              "    </div>\n",
              "    <table border=\"1\" class=\"dataframe\">\n",
              "  <thead>\n",
              "    <tr style=\"text-align: left;\">\n",
              "      <th>Step</th>\n",
              "      <th>Training Loss</th>\n",
              "      <th>Validation Loss</th>\n",
              "      <th>Acc</th>\n",
              "      <th>F1</th>\n",
              "      <th>Precision</th>\n",
              "      <th>Recall</th>\n",
              "      <th>Mcc</th>\n",
              "    </tr>\n",
              "  </thead>\n",
              "  <tbody>\n",
              "    <tr>\n",
              "      <td>115</td>\n",
              "      <td>No log</td>\n",
              "      <td>0.714612</td>\n",
              "      <td>0.795720</td>\n",
              "      <td>0.776317</td>\n",
              "      <td>0.814723</td>\n",
              "      <td>0.762816</td>\n",
              "      <td>0.766316</td>\n",
              "    </tr>\n",
              "    <tr>\n",
              "      <td>230</td>\n",
              "      <td>No log</td>\n",
              "      <td>0.536188</td>\n",
              "      <td>0.834630</td>\n",
              "      <td>0.841732</td>\n",
              "      <td>0.853615</td>\n",
              "      <td>0.836021</td>\n",
              "      <td>0.811639</td>\n",
              "    </tr>\n",
              "    <tr>\n",
              "      <td>345</td>\n",
              "      <td>No log</td>\n",
              "      <td>0.520661</td>\n",
              "      <td>0.827821</td>\n",
              "      <td>0.832366</td>\n",
              "      <td>0.841677</td>\n",
              "      <td>0.841872</td>\n",
              "      <td>0.806978</td>\n",
              "    </tr>\n",
              "    <tr>\n",
              "      <td>460</td>\n",
              "      <td>No log</td>\n",
              "      <td>0.409419</td>\n",
              "      <td>0.872568</td>\n",
              "      <td>0.872831</td>\n",
              "      <td>0.870623</td>\n",
              "      <td>0.875726</td>\n",
              "      <td>0.854072</td>\n",
              "    </tr>\n",
              "    <tr>\n",
              "      <td>575</td>\n",
              "      <td>0.722400</td>\n",
              "      <td>0.407765</td>\n",
              "      <td>0.865759</td>\n",
              "      <td>0.864152</td>\n",
              "      <td>0.865115</td>\n",
              "      <td>0.864300</td>\n",
              "      <td>0.846328</td>\n",
              "    </tr>\n",
              "  </tbody>\n",
              "</table><p>"
            ],
            "text/plain": [
              "<IPython.core.display.HTML object>"
            ]
          },
          "metadata": {}
        },
        {
          "output_type": "display_data",
          "data": {
            "text/html": [
              "\n",
              "    <div>\n",
              "      \n",
              "      <progress value='65' max='65' style='width:300px; height:20px; vertical-align: middle;'></progress>\n",
              "      [65/65 00:09]\n",
              "    </div>\n",
              "    "
            ],
            "text/plain": [
              "<IPython.core.display.HTML object>"
            ]
          },
          "metadata": {}
        },
        {
          "output_type": "stream",
          "name": "stderr",
          "text": [
            "\u001b[32m[I 2021-12-20 15:54:30,082]\u001b[0m Trial 30 finished with values: [0.40776512026786804, 0.8463282657588233] and parameters: {'learning_rate': 3.609659204157708e-05, 'num_train_epochs': 1, 'per_device_train_batch_size': 16, 'weight_decay': 0.00729359630545312}. \u001b[0m\n"
          ]
        },
        {
          "output_type": "display_data",
          "data": {
            "text/html": [
              "\n",
              "    <div>\n",
              "      \n",
              "      <progress value='578' max='578' style='width:300px; height:20px; vertical-align: middle;'></progress>\n",
              "      [578/578 05:24, Epoch 1/1]\n",
              "    </div>\n",
              "    <table border=\"1\" class=\"dataframe\">\n",
              "  <thead>\n",
              "    <tr style=\"text-align: left;\">\n",
              "      <th>Step</th>\n",
              "      <th>Training Loss</th>\n",
              "      <th>Validation Loss</th>\n",
              "      <th>Acc</th>\n",
              "      <th>F1</th>\n",
              "      <th>Precision</th>\n",
              "      <th>Recall</th>\n",
              "      <th>Mcc</th>\n",
              "    </tr>\n",
              "  </thead>\n",
              "  <tbody>\n",
              "    <tr>\n",
              "      <td>115</td>\n",
              "      <td>No log</td>\n",
              "      <td>0.680873</td>\n",
              "      <td>0.788911</td>\n",
              "      <td>0.787677</td>\n",
              "      <td>0.829555</td>\n",
              "      <td>0.774138</td>\n",
              "      <td>0.760709</td>\n",
              "    </tr>\n",
              "    <tr>\n",
              "      <td>230</td>\n",
              "      <td>No log</td>\n",
              "      <td>0.495185</td>\n",
              "      <td>0.835603</td>\n",
              "      <td>0.838305</td>\n",
              "      <td>0.851529</td>\n",
              "      <td>0.831313</td>\n",
              "      <td>0.812433</td>\n",
              "    </tr>\n",
              "    <tr>\n",
              "      <td>345</td>\n",
              "      <td>No log</td>\n",
              "      <td>0.527914</td>\n",
              "      <td>0.825875</td>\n",
              "      <td>0.832738</td>\n",
              "      <td>0.850516</td>\n",
              "      <td>0.840356</td>\n",
              "      <td>0.806578</td>\n",
              "    </tr>\n",
              "    <tr>\n",
              "      <td>460</td>\n",
              "      <td>No log</td>\n",
              "      <td>0.396821</td>\n",
              "      <td>0.871595</td>\n",
              "      <td>0.870237</td>\n",
              "      <td>0.866672</td>\n",
              "      <td>0.874839</td>\n",
              "      <td>0.853086</td>\n",
              "    </tr>\n",
              "    <tr>\n",
              "      <td>575</td>\n",
              "      <td>0.652900</td>\n",
              "      <td>0.387173</td>\n",
              "      <td>0.868677</td>\n",
              "      <td>0.866634</td>\n",
              "      <td>0.867698</td>\n",
              "      <td>0.866342</td>\n",
              "      <td>0.849549</td>\n",
              "    </tr>\n",
              "  </tbody>\n",
              "</table><p>"
            ],
            "text/plain": [
              "<IPython.core.display.HTML object>"
            ]
          },
          "metadata": {}
        },
        {
          "output_type": "display_data",
          "data": {
            "text/html": [
              "\n",
              "    <div>\n",
              "      \n",
              "      <progress value='65' max='65' style='width:300px; height:20px; vertical-align: middle;'></progress>\n",
              "      [65/65 00:09]\n",
              "    </div>\n",
              "    "
            ],
            "text/plain": [
              "<IPython.core.display.HTML object>"
            ]
          },
          "metadata": {}
        },
        {
          "output_type": "stream",
          "name": "stderr",
          "text": [
            "\u001b[32m[I 2021-12-20 16:00:09,841]\u001b[0m Trial 31 finished with values: [0.3871729373931885, 0.8495493550429445] and parameters: {'learning_rate': 5.817544086562296e-05, 'num_train_epochs': 1, 'per_device_train_batch_size': 16, 'weight_decay': 0.002303017097867922}. \u001b[0m\n"
          ]
        },
        {
          "output_type": "display_data",
          "data": {
            "text/html": [
              "\n",
              "    <div>\n",
              "      \n",
              "      <progress value='578' max='578' style='width:300px; height:20px; vertical-align: middle;'></progress>\n",
              "      [578/578 05:24, Epoch 1/1]\n",
              "    </div>\n",
              "    <table border=\"1\" class=\"dataframe\">\n",
              "  <thead>\n",
              "    <tr style=\"text-align: left;\">\n",
              "      <th>Step</th>\n",
              "      <th>Training Loss</th>\n",
              "      <th>Validation Loss</th>\n",
              "      <th>Acc</th>\n",
              "      <th>F1</th>\n",
              "      <th>Precision</th>\n",
              "      <th>Recall</th>\n",
              "      <th>Mcc</th>\n",
              "    </tr>\n",
              "  </thead>\n",
              "  <tbody>\n",
              "    <tr>\n",
              "      <td>115</td>\n",
              "      <td>No log</td>\n",
              "      <td>0.764105</td>\n",
              "      <td>0.784047</td>\n",
              "      <td>0.761119</td>\n",
              "      <td>0.808334</td>\n",
              "      <td>0.746871</td>\n",
              "      <td>0.753466</td>\n",
              "    </tr>\n",
              "    <tr>\n",
              "      <td>230</td>\n",
              "      <td>No log</td>\n",
              "      <td>0.545694</td>\n",
              "      <td>0.837549</td>\n",
              "      <td>0.842064</td>\n",
              "      <td>0.851559</td>\n",
              "      <td>0.837749</td>\n",
              "      <td>0.814706</td>\n",
              "    </tr>\n",
              "    <tr>\n",
              "      <td>345</td>\n",
              "      <td>No log</td>\n",
              "      <td>0.523666</td>\n",
              "      <td>0.830739</td>\n",
              "      <td>0.833857</td>\n",
              "      <td>0.843397</td>\n",
              "      <td>0.842534</td>\n",
              "      <td>0.810100</td>\n",
              "    </tr>\n",
              "    <tr>\n",
              "      <td>460</td>\n",
              "      <td>No log</td>\n",
              "      <td>0.419699</td>\n",
              "      <td>0.870623</td>\n",
              "      <td>0.871571</td>\n",
              "      <td>0.869742</td>\n",
              "      <td>0.874254</td>\n",
              "      <td>0.851860</td>\n",
              "    </tr>\n",
              "    <tr>\n",
              "      <td>575</td>\n",
              "      <td>0.742100</td>\n",
              "      <td>0.417689</td>\n",
              "      <td>0.858949</td>\n",
              "      <td>0.858045</td>\n",
              "      <td>0.858834</td>\n",
              "      <td>0.858367</td>\n",
              "      <td>0.838524</td>\n",
              "    </tr>\n",
              "  </tbody>\n",
              "</table><p>"
            ],
            "text/plain": [
              "<IPython.core.display.HTML object>"
            ]
          },
          "metadata": {}
        },
        {
          "output_type": "display_data",
          "data": {
            "text/html": [
              "\n",
              "    <div>\n",
              "      \n",
              "      <progress value='65' max='65' style='width:300px; height:20px; vertical-align: middle;'></progress>\n",
              "      [65/65 00:09]\n",
              "    </div>\n",
              "    "
            ],
            "text/plain": [
              "<IPython.core.display.HTML object>"
            ]
          },
          "metadata": {}
        },
        {
          "output_type": "stream",
          "name": "stderr",
          "text": [
            "\u001b[32m[I 2021-12-20 16:05:50,110]\u001b[0m Trial 32 finished with values: [0.4176887273788452, 0.8385239863885064] and parameters: {'learning_rate': 3.296854486700235e-05, 'num_train_epochs': 1, 'per_device_train_batch_size': 16, 'weight_decay': 0.006883227379410138}. \u001b[0m\n"
          ]
        },
        {
          "output_type": "display_data",
          "data": {
            "text/html": [
              "\n",
              "    <div>\n",
              "      \n",
              "      <progress value='289' max='289' style='width:300px; height:20px; vertical-align: middle;'></progress>\n",
              "      [289/289 05:10, Epoch 1/1]\n",
              "    </div>\n",
              "    <table border=\"1\" class=\"dataframe\">\n",
              "  <thead>\n",
              "    <tr style=\"text-align: left;\">\n",
              "      <th>Step</th>\n",
              "      <th>Training Loss</th>\n",
              "      <th>Validation Loss</th>\n",
              "      <th>Acc</th>\n",
              "      <th>F1</th>\n",
              "      <th>Precision</th>\n",
              "      <th>Recall</th>\n",
              "      <th>Mcc</th>\n",
              "    </tr>\n",
              "  </thead>\n",
              "  <tbody>\n",
              "    <tr>\n",
              "      <td>57</td>\n",
              "      <td>No log</td>\n",
              "      <td>0.953175</td>\n",
              "      <td>0.733463</td>\n",
              "      <td>0.676515</td>\n",
              "      <td>0.762014</td>\n",
              "      <td>0.660316</td>\n",
              "      <td>0.695228</td>\n",
              "    </tr>\n",
              "    <tr>\n",
              "      <td>114</td>\n",
              "      <td>No log</td>\n",
              "      <td>0.653220</td>\n",
              "      <td>0.818093</td>\n",
              "      <td>0.816168</td>\n",
              "      <td>0.853546</td>\n",
              "      <td>0.797541</td>\n",
              "      <td>0.792012</td>\n",
              "    </tr>\n",
              "    <tr>\n",
              "      <td>171</td>\n",
              "      <td>No log</td>\n",
              "      <td>0.521223</td>\n",
              "      <td>0.839494</td>\n",
              "      <td>0.837594</td>\n",
              "      <td>0.841097</td>\n",
              "      <td>0.842884</td>\n",
              "      <td>0.817598</td>\n",
              "    </tr>\n",
              "    <tr>\n",
              "      <td>228</td>\n",
              "      <td>No log</td>\n",
              "      <td>0.467615</td>\n",
              "      <td>0.855058</td>\n",
              "      <td>0.857350</td>\n",
              "      <td>0.860999</td>\n",
              "      <td>0.855626</td>\n",
              "      <td>0.834114</td>\n",
              "    </tr>\n",
              "    <tr>\n",
              "      <td>285</td>\n",
              "      <td>No log</td>\n",
              "      <td>0.448186</td>\n",
              "      <td>0.857004</td>\n",
              "      <td>0.858629</td>\n",
              "      <td>0.859560</td>\n",
              "      <td>0.858616</td>\n",
              "      <td>0.836315</td>\n",
              "    </tr>\n",
              "  </tbody>\n",
              "</table><p>"
            ],
            "text/plain": [
              "<IPython.core.display.HTML object>"
            ]
          },
          "metadata": {}
        },
        {
          "output_type": "display_data",
          "data": {
            "text/html": [
              "\n",
              "    <div>\n",
              "      \n",
              "      <progress value='33' max='33' style='width:300px; height:20px; vertical-align: middle;'></progress>\n",
              "      [33/33 00:09]\n",
              "    </div>\n",
              "    "
            ],
            "text/plain": [
              "<IPython.core.display.HTML object>"
            ]
          },
          "metadata": {}
        },
        {
          "output_type": "stream",
          "name": "stderr",
          "text": [
            "\u001b[32m[I 2021-12-20 16:11:16,309]\u001b[0m Trial 33 finished with values: [0.448186457157135, 0.836315362516697] and parameters: {'learning_rate': 3.936384777664846e-05, 'num_train_epochs': 1, 'per_device_train_batch_size': 32, 'weight_decay': 0.0021658723591611306}. \u001b[0m\n"
          ]
        },
        {
          "output_type": "display_data",
          "data": {
            "text/html": [
              "\n",
              "    <div>\n",
              "      \n",
              "      <progress value='578' max='578' style='width:300px; height:20px; vertical-align: middle;'></progress>\n",
              "      [578/578 05:25, Epoch 1/1]\n",
              "    </div>\n",
              "    <table border=\"1\" class=\"dataframe\">\n",
              "  <thead>\n",
              "    <tr style=\"text-align: left;\">\n",
              "      <th>Step</th>\n",
              "      <th>Training Loss</th>\n",
              "      <th>Validation Loss</th>\n",
              "      <th>Acc</th>\n",
              "      <th>F1</th>\n",
              "      <th>Precision</th>\n",
              "      <th>Recall</th>\n",
              "      <th>Mcc</th>\n",
              "    </tr>\n",
              "  </thead>\n",
              "  <tbody>\n",
              "    <tr>\n",
              "      <td>115</td>\n",
              "      <td>No log</td>\n",
              "      <td>1.048518</td>\n",
              "      <td>0.710117</td>\n",
              "      <td>0.640832</td>\n",
              "      <td>0.743724</td>\n",
              "      <td>0.627719</td>\n",
              "      <td>0.669346</td>\n",
              "    </tr>\n",
              "    <tr>\n",
              "      <td>230</td>\n",
              "      <td>No log</td>\n",
              "      <td>0.705118</td>\n",
              "      <td>0.809339</td>\n",
              "      <td>0.813102</td>\n",
              "      <td>0.833832</td>\n",
              "      <td>0.799484</td>\n",
              "      <td>0.782335</td>\n",
              "    </tr>\n",
              "    <tr>\n",
              "      <td>345</td>\n",
              "      <td>No log</td>\n",
              "      <td>0.596361</td>\n",
              "      <td>0.823930</td>\n",
              "      <td>0.823600</td>\n",
              "      <td>0.834013</td>\n",
              "      <td>0.828787</td>\n",
              "      <td>0.801253</td>\n",
              "    </tr>\n",
              "    <tr>\n",
              "      <td>460</td>\n",
              "      <td>No log</td>\n",
              "      <td>0.508086</td>\n",
              "      <td>0.851167</td>\n",
              "      <td>0.855801</td>\n",
              "      <td>0.856690</td>\n",
              "      <td>0.855878</td>\n",
              "      <td>0.829609</td>\n",
              "    </tr>\n",
              "    <tr>\n",
              "      <td>575</td>\n",
              "      <td>0.901800</td>\n",
              "      <td>0.497615</td>\n",
              "      <td>0.849222</td>\n",
              "      <td>0.849984</td>\n",
              "      <td>0.853664</td>\n",
              "      <td>0.847663</td>\n",
              "      <td>0.827363</td>\n",
              "    </tr>\n",
              "  </tbody>\n",
              "</table><p>"
            ],
            "text/plain": [
              "<IPython.core.display.HTML object>"
            ]
          },
          "metadata": {}
        },
        {
          "output_type": "display_data",
          "data": {
            "text/html": [
              "\n",
              "    <div>\n",
              "      \n",
              "      <progress value='65' max='65' style='width:300px; height:20px; vertical-align: middle;'></progress>\n",
              "      [65/65 00:09]\n",
              "    </div>\n",
              "    "
            ],
            "text/plain": [
              "<IPython.core.display.HTML object>"
            ]
          },
          "metadata": {}
        },
        {
          "output_type": "stream",
          "name": "stderr",
          "text": [
            "\u001b[32m[I 2021-12-20 16:16:57,253]\u001b[0m Trial 34 finished with values: [0.49761536717414856, 0.8273625082484904] and parameters: {'learning_rate': 1.915382149844806e-05, 'num_train_epochs': 1, 'per_device_train_batch_size': 16, 'weight_decay': 0.009482985681700227}. \u001b[0m\n"
          ]
        },
        {
          "output_type": "display_data",
          "data": {
            "text/html": [
              "\n",
              "    <div>\n",
              "      \n",
              "      <progress value='289' max='289' style='width:300px; height:20px; vertical-align: middle;'></progress>\n",
              "      [289/289 05:10, Epoch 1/1]\n",
              "    </div>\n",
              "    <table border=\"1\" class=\"dataframe\">\n",
              "  <thead>\n",
              "    <tr style=\"text-align: left;\">\n",
              "      <th>Step</th>\n",
              "      <th>Training Loss</th>\n",
              "      <th>Validation Loss</th>\n",
              "      <th>Acc</th>\n",
              "      <th>F1</th>\n",
              "      <th>Precision</th>\n",
              "      <th>Recall</th>\n",
              "      <th>Mcc</th>\n",
              "    </tr>\n",
              "  </thead>\n",
              "  <tbody>\n",
              "    <tr>\n",
              "      <td>57</td>\n",
              "      <td>No log</td>\n",
              "      <td>0.753008</td>\n",
              "      <td>0.789883</td>\n",
              "      <td>0.781164</td>\n",
              "      <td>0.813598</td>\n",
              "      <td>0.774662</td>\n",
              "      <td>0.761793</td>\n",
              "    </tr>\n",
              "    <tr>\n",
              "      <td>114</td>\n",
              "      <td>No log</td>\n",
              "      <td>0.531066</td>\n",
              "      <td>0.837549</td>\n",
              "      <td>0.834416</td>\n",
              "      <td>0.854792</td>\n",
              "      <td>0.823665</td>\n",
              "      <td>0.813915</td>\n",
              "    </tr>\n",
              "    <tr>\n",
              "      <td>171</td>\n",
              "      <td>No log</td>\n",
              "      <td>0.466266</td>\n",
              "      <td>0.854086</td>\n",
              "      <td>0.850013</td>\n",
              "      <td>0.854019</td>\n",
              "      <td>0.855731</td>\n",
              "      <td>0.834444</td>\n",
              "    </tr>\n",
              "    <tr>\n",
              "      <td>228</td>\n",
              "      <td>No log</td>\n",
              "      <td>0.402389</td>\n",
              "      <td>0.870623</td>\n",
              "      <td>0.871856</td>\n",
              "      <td>0.872552</td>\n",
              "      <td>0.871272</td>\n",
              "      <td>0.851736</td>\n",
              "    </tr>\n",
              "    <tr>\n",
              "      <td>285</td>\n",
              "      <td>No log</td>\n",
              "      <td>0.390272</td>\n",
              "      <td>0.868677</td>\n",
              "      <td>0.869289</td>\n",
              "      <td>0.868347</td>\n",
              "      <td>0.870776</td>\n",
              "      <td>0.849629</td>\n",
              "    </tr>\n",
              "  </tbody>\n",
              "</table><p>"
            ],
            "text/plain": [
              "<IPython.core.display.HTML object>"
            ]
          },
          "metadata": {}
        },
        {
          "output_type": "display_data",
          "data": {
            "text/html": [
              "\n",
              "    <div>\n",
              "      \n",
              "      <progress value='33' max='33' style='width:300px; height:20px; vertical-align: middle;'></progress>\n",
              "      [33/33 00:09]\n",
              "    </div>\n",
              "    "
            ],
            "text/plain": [
              "<IPython.core.display.HTML object>"
            ]
          },
          "metadata": {}
        },
        {
          "output_type": "stream",
          "name": "stderr",
          "text": [
            "\u001b[32m[I 2021-12-20 16:22:23,532]\u001b[0m Trial 35 finished with values: [0.390272319316864, 0.8496293886440381] and parameters: {'learning_rate': 6.911060395543888e-05, 'num_train_epochs': 1, 'per_device_train_batch_size': 32, 'weight_decay': 0.0026170736049645487}. \u001b[0m\n"
          ]
        },
        {
          "output_type": "display_data",
          "data": {
            "text/html": [
              "\n",
              "    <div>\n",
              "      \n",
              "      <progress value='578' max='578' style='width:300px; height:20px; vertical-align: middle;'></progress>\n",
              "      [578/578 05:25, Epoch 1/1]\n",
              "    </div>\n",
              "    <table border=\"1\" class=\"dataframe\">\n",
              "  <thead>\n",
              "    <tr style=\"text-align: left;\">\n",
              "      <th>Step</th>\n",
              "      <th>Training Loss</th>\n",
              "      <th>Validation Loss</th>\n",
              "      <th>Acc</th>\n",
              "      <th>F1</th>\n",
              "      <th>Precision</th>\n",
              "      <th>Recall</th>\n",
              "      <th>Mcc</th>\n",
              "    </tr>\n",
              "  </thead>\n",
              "  <tbody>\n",
              "    <tr>\n",
              "      <td>115</td>\n",
              "      <td>No log</td>\n",
              "      <td>0.659446</td>\n",
              "      <td>0.788911</td>\n",
              "      <td>0.781078</td>\n",
              "      <td>0.818094</td>\n",
              "      <td>0.772390</td>\n",
              "      <td>0.760251</td>\n",
              "    </tr>\n",
              "    <tr>\n",
              "      <td>230</td>\n",
              "      <td>No log</td>\n",
              "      <td>0.498177</td>\n",
              "      <td>0.846304</td>\n",
              "      <td>0.851249</td>\n",
              "      <td>0.863029</td>\n",
              "      <td>0.844062</td>\n",
              "      <td>0.824685</td>\n",
              "    </tr>\n",
              "    <tr>\n",
              "      <td>345</td>\n",
              "      <td>No log</td>\n",
              "      <td>0.536131</td>\n",
              "      <td>0.828794</td>\n",
              "      <td>0.834611</td>\n",
              "      <td>0.854541</td>\n",
              "      <td>0.840235</td>\n",
              "      <td>0.810025</td>\n",
              "    </tr>\n",
              "    <tr>\n",
              "      <td>460</td>\n",
              "      <td>No log</td>\n",
              "      <td>0.399409</td>\n",
              "      <td>0.872568</td>\n",
              "      <td>0.871538</td>\n",
              "      <td>0.866200</td>\n",
              "      <td>0.878480</td>\n",
              "      <td>0.854287</td>\n",
              "    </tr>\n",
              "    <tr>\n",
              "      <td>575</td>\n",
              "      <td>0.643300</td>\n",
              "      <td>0.383218</td>\n",
              "      <td>0.870623</td>\n",
              "      <td>0.868392</td>\n",
              "      <td>0.869384</td>\n",
              "      <td>0.868488</td>\n",
              "      <td>0.851874</td>\n",
              "    </tr>\n",
              "  </tbody>\n",
              "</table><p>"
            ],
            "text/plain": [
              "<IPython.core.display.HTML object>"
            ]
          },
          "metadata": {}
        },
        {
          "output_type": "display_data",
          "data": {
            "text/html": [
              "\n",
              "    <div>\n",
              "      \n",
              "      <progress value='65' max='65' style='width:300px; height:20px; vertical-align: middle;'></progress>\n",
              "      [65/65 00:09]\n",
              "    </div>\n",
              "    "
            ],
            "text/plain": [
              "<IPython.core.display.HTML object>"
            ]
          },
          "metadata": {}
        },
        {
          "output_type": "stream",
          "name": "stderr",
          "text": [
            "\u001b[32m[I 2021-12-20 16:28:04,342]\u001b[0m Trial 36 finished with values: [0.38321807980537415, 0.8518741434752752] and parameters: {'learning_rate': 7.22598117655033e-05, 'num_train_epochs': 1, 'per_device_train_batch_size': 16, 'weight_decay': 0.0042315882546448925}. \u001b[0m\n"
          ]
        },
        {
          "output_type": "display_data",
          "data": {
            "text/html": [
              "\n",
              "    <div>\n",
              "      \n",
              "      <progress value='289' max='289' style='width:300px; height:20px; vertical-align: middle;'></progress>\n",
              "      [289/289 05:10, Epoch 1/1]\n",
              "    </div>\n",
              "    <table border=\"1\" class=\"dataframe\">\n",
              "  <thead>\n",
              "    <tr style=\"text-align: left;\">\n",
              "      <th>Step</th>\n",
              "      <th>Training Loss</th>\n",
              "      <th>Validation Loss</th>\n",
              "      <th>Acc</th>\n",
              "      <th>F1</th>\n",
              "      <th>Precision</th>\n",
              "      <th>Recall</th>\n",
              "      <th>Mcc</th>\n",
              "    </tr>\n",
              "  </thead>\n",
              "  <tbody>\n",
              "    <tr>\n",
              "      <td>57</td>\n",
              "      <td>No log</td>\n",
              "      <td>0.849023</td>\n",
              "      <td>0.749027</td>\n",
              "      <td>0.717892</td>\n",
              "      <td>0.786980</td>\n",
              "      <td>0.699565</td>\n",
              "      <td>0.715262</td>\n",
              "    </tr>\n",
              "    <tr>\n",
              "      <td>114</td>\n",
              "      <td>No log</td>\n",
              "      <td>0.575285</td>\n",
              "      <td>0.827821</td>\n",
              "      <td>0.826803</td>\n",
              "      <td>0.853570</td>\n",
              "      <td>0.811657</td>\n",
              "      <td>0.802838</td>\n",
              "    </tr>\n",
              "    <tr>\n",
              "      <td>171</td>\n",
              "      <td>No log</td>\n",
              "      <td>0.498549</td>\n",
              "      <td>0.843385</td>\n",
              "      <td>0.842025</td>\n",
              "      <td>0.848638</td>\n",
              "      <td>0.846385</td>\n",
              "      <td>0.822434</td>\n",
              "    </tr>\n",
              "    <tr>\n",
              "      <td>228</td>\n",
              "      <td>No log</td>\n",
              "      <td>0.439368</td>\n",
              "      <td>0.860895</td>\n",
              "      <td>0.862432</td>\n",
              "      <td>0.862412</td>\n",
              "      <td>0.863594</td>\n",
              "      <td>0.840778</td>\n",
              "    </tr>\n",
              "    <tr>\n",
              "      <td>285</td>\n",
              "      <td>No log</td>\n",
              "      <td>0.421327</td>\n",
              "      <td>0.865759</td>\n",
              "      <td>0.866353</td>\n",
              "      <td>0.866890</td>\n",
              "      <td>0.866537</td>\n",
              "      <td>0.846302</td>\n",
              "    </tr>\n",
              "  </tbody>\n",
              "</table><p>"
            ],
            "text/plain": [
              "<IPython.core.display.HTML object>"
            ]
          },
          "metadata": {}
        },
        {
          "output_type": "display_data",
          "data": {
            "text/html": [
              "\n",
              "    <div>\n",
              "      \n",
              "      <progress value='33' max='33' style='width:300px; height:20px; vertical-align: middle;'></progress>\n",
              "      [33/33 00:09]\n",
              "    </div>\n",
              "    "
            ],
            "text/plain": [
              "<IPython.core.display.HTML object>"
            ]
          },
          "metadata": {}
        },
        {
          "output_type": "stream",
          "name": "stderr",
          "text": [
            "\u001b[32m[I 2021-12-20 16:33:30,150]\u001b[0m Trial 37 finished with values: [0.42132681608200073, 0.8463016850176639] and parameters: {'learning_rate': 4.951724923311126e-05, 'num_train_epochs': 1, 'per_device_train_batch_size': 32, 'weight_decay': 0.00890986171527578}. \u001b[0m\n"
          ]
        },
        {
          "output_type": "display_data",
          "data": {
            "text/html": [
              "\n",
              "    <div>\n",
              "      \n",
              "      <progress value='192' max='289' style='width:300px; height:20px; vertical-align: middle;'></progress>\n",
              "      [192/289 03:20 < 01:42, 0.95 it/s, Epoch 0.66/1]\n",
              "    </div>\n",
              "    <table border=\"1\" class=\"dataframe\">\n",
              "  <thead>\n",
              "    <tr style=\"text-align: left;\">\n",
              "      <th>Step</th>\n",
              "      <th>Training Loss</th>\n",
              "      <th>Validation Loss</th>\n",
              "      <th>Acc</th>\n",
              "      <th>F1</th>\n",
              "      <th>Precision</th>\n",
              "      <th>Recall</th>\n",
              "      <th>Mcc</th>\n",
              "    </tr>\n",
              "  </thead>\n",
              "  <tbody>\n",
              "    <tr>\n",
              "      <td>57</td>\n",
              "      <td>No log</td>\n",
              "      <td>0.688700</td>\n",
              "      <td>0.793774</td>\n",
              "      <td>0.783660</td>\n",
              "      <td>0.818563</td>\n",
              "      <td>0.775882</td>\n",
              "      <td>0.766095</td>\n",
              "    </tr>\n",
              "    <tr>\n",
              "      <td>114</td>\n",
              "      <td>No log</td>\n",
              "      <td>0.498429</td>\n",
              "      <td>0.842412</td>\n",
              "      <td>0.841791</td>\n",
              "      <td>0.855446</td>\n",
              "      <td>0.834053</td>\n",
              "      <td>0.819363</td>\n",
              "    </tr>\n",
              "    <tr>\n",
              "      <td>171</td>\n",
              "      <td>No log</td>\n",
              "      <td>0.457022</td>\n",
              "      <td>0.854086</td>\n",
              "      <td>0.853492</td>\n",
              "      <td>0.860569</td>\n",
              "      <td>0.857312</td>\n",
              "      <td>0.834710</td>\n",
              "    </tr>\n",
              "  </tbody>\n",
              "</table><p>"
            ],
            "text/plain": [
              "<IPython.core.display.HTML object>"
            ]
          },
          "metadata": {}
        }
      ]
    },
    {
      "cell_type": "code",
      "source": [
        "!ls -lahtr 10kgnad_hf__distilbert-base-german-cased/"
      ],
      "metadata": {
        "id": "vaHTHuP9W6Dn"
      },
      "execution_count": null,
      "outputs": []
    },
    {
      "cell_type": "markdown",
      "metadata": {
        "id": "yBZsS24YbFpy"
      },
      "source": [
        "## Hyperparameter Tuning\n",
        "\n",
        "https://huggingface.co/docs/transformers/main_classes/trainer#transformers.Trainer.hyperparameter_search"
      ]
    },
    {
      "cell_type": "code",
      "metadata": {
        "id": "phuJdMD6aaLP"
      },
      "source": [
        "# disable transformer warnings like \"Some weights of the model checkpoint ...\"\n",
        "logging.set_verbosity_error()\n",
        "\n",
        "\n",
        "training_args = TrainingArguments(\n",
        "    output_dir=str(project_name),\n",
        "    report_to=[],\n",
        "    log_level=\"error\",\n",
        "    disable_tqdm=False,\n",
        "\n",
        "    evaluation_strategy=\"steps\",\n",
        "    # eval_steps=eval_steps,\n",
        "    save_strategy=\"steps\",\n",
        "    # save_steps=eval_steps,\n",
        "    # load_best_model_at_end=False,\n",
        "    # metric_for_best_model=\"eval_loss\",\n",
        "    # greater_is_better=False,\n",
        ")\n",
        "\n",
        "trainer = Trainer(\n",
        "    model_init=model_init,\n",
        "    args=training_args,\n",
        "    train_dataset=tokenized_gnad10k[\"train\"],\n",
        "    eval_dataset=tokenized_gnad10k[\"test\"],\n",
        "    tokenizer=tokenizer,\n",
        "    data_collator=data_collator,\n",
        "    compute_metrics=compute_metrics,\n",
        ")\n",
        "\n",
        "\n",
        "# Default objective is the sum of all metrics\n",
        "# when metrics are provided, so we have to maximize it.\n",
        "# best = trainer.hyperparameter_search(\n",
        "#     hp_space=hp_space,\n",
        "#     compute_objective=objective,\n",
        "#     n_trials=2\n",
        "# )"
      ],
      "execution_count": null,
      "outputs": []
    }
  ]
}