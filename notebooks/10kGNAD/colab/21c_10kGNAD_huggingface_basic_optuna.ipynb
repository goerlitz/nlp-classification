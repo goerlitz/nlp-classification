{
  "nbformat": 4,
  "nbformat_minor": 0,
  "metadata": {
    "accelerator": "GPU",
    "colab": {
      "name": "21c_10kGNAD_huggingface_basic_optuna.ipynb",
      "provenance": [],
      "collapsed_sections": [],
      "authorship_tag": "ABX9TyOIv5rrLLuRYHowZ8W9Xv0t",
      "include_colab_link": true
    },
    "kernelspec": {
      "display_name": "Python 3",
      "name": "python3"
    },
    "language_info": {
      "name": "python"
    },
    "widgets": {
      "application/vnd.jupyter.widget-state+json": {
        "8fa537fe38e54d41b415cce8e5b6ea6d": {
          "model_module": "@jupyter-widgets/controls",
          "model_name": "HBoxModel",
          "model_module_version": "1.5.0",
          "state": {
            "_view_name": "HBoxView",
            "_dom_classes": [],
            "_model_name": "HBoxModel",
            "_view_module": "@jupyter-widgets/controls",
            "_model_module_version": "1.5.0",
            "_view_count": null,
            "_view_module_version": "1.5.0",
            "box_style": "",
            "layout": "IPY_MODEL_cadde5e92f434c4caf8b12f5b9d9dd41",
            "_model_module": "@jupyter-widgets/controls",
            "children": [
              "IPY_MODEL_bc6c0b386711480dbdbbcf3cd2e7aa68",
              "IPY_MODEL_03133364b61f4d11880c6b5614e5d871",
              "IPY_MODEL_91210f11068a4a069658d9afa9b4ebca"
            ]
          }
        },
        "cadde5e92f434c4caf8b12f5b9d9dd41": {
          "model_module": "@jupyter-widgets/base",
          "model_name": "LayoutModel",
          "model_module_version": "1.2.0",
          "state": {
            "_view_name": "LayoutView",
            "grid_template_rows": null,
            "right": null,
            "justify_content": null,
            "_view_module": "@jupyter-widgets/base",
            "overflow": null,
            "_model_module_version": "1.2.0",
            "_view_count": null,
            "flex_flow": null,
            "width": null,
            "min_width": null,
            "border": null,
            "align_items": null,
            "bottom": null,
            "_model_module": "@jupyter-widgets/base",
            "top": null,
            "grid_column": null,
            "overflow_y": null,
            "overflow_x": null,
            "grid_auto_flow": null,
            "grid_area": null,
            "grid_template_columns": null,
            "flex": null,
            "_model_name": "LayoutModel",
            "justify_items": null,
            "grid_row": null,
            "max_height": null,
            "align_content": null,
            "visibility": null,
            "align_self": null,
            "height": null,
            "min_height": null,
            "padding": null,
            "grid_auto_rows": null,
            "grid_gap": null,
            "max_width": null,
            "order": null,
            "_view_module_version": "1.2.0",
            "grid_template_areas": null,
            "object_position": null,
            "object_fit": null,
            "grid_auto_columns": null,
            "margin": null,
            "display": null,
            "left": null
          }
        },
        "bc6c0b386711480dbdbbcf3cd2e7aa68": {
          "model_module": "@jupyter-widgets/controls",
          "model_name": "HTMLModel",
          "model_module_version": "1.5.0",
          "state": {
            "_view_name": "HTMLView",
            "style": "IPY_MODEL_4fddeec05d524beebb527de006234a80",
            "_dom_classes": [],
            "description": "",
            "_model_name": "HTMLModel",
            "placeholder": "​",
            "_view_module": "@jupyter-widgets/controls",
            "_model_module_version": "1.5.0",
            "value": "Downloading: ",
            "_view_count": null,
            "_view_module_version": "1.5.0",
            "description_tooltip": null,
            "_model_module": "@jupyter-widgets/controls",
            "layout": "IPY_MODEL_2f52b2532c91418ca7a2b49bcacb27c9"
          }
        },
        "03133364b61f4d11880c6b5614e5d871": {
          "model_module": "@jupyter-widgets/controls",
          "model_name": "FloatProgressModel",
          "model_module_version": "1.5.0",
          "state": {
            "_view_name": "ProgressView",
            "style": "IPY_MODEL_a40258b1b9084731af8e6b5fc69ed6ce",
            "_dom_classes": [],
            "description": "",
            "_model_name": "FloatProgressModel",
            "bar_style": "success",
            "max": 1502,
            "_view_module": "@jupyter-widgets/controls",
            "_model_module_version": "1.5.0",
            "value": 1502,
            "_view_count": null,
            "_view_module_version": "1.5.0",
            "orientation": "horizontal",
            "min": 0,
            "description_tooltip": null,
            "_model_module": "@jupyter-widgets/controls",
            "layout": "IPY_MODEL_e7be68435efd4c3d989b8fe9be1610d6"
          }
        },
        "91210f11068a4a069658d9afa9b4ebca": {
          "model_module": "@jupyter-widgets/controls",
          "model_name": "HTMLModel",
          "model_module_version": "1.5.0",
          "state": {
            "_view_name": "HTMLView",
            "style": "IPY_MODEL_230d77525abc45e7945e72519cf85544",
            "_dom_classes": [],
            "description": "",
            "_model_name": "HTMLModel",
            "placeholder": "​",
            "_view_module": "@jupyter-widgets/controls",
            "_model_module_version": "1.5.0",
            "value": " 3.59k/? [00:00&lt;00:00, 65.6kB/s]",
            "_view_count": null,
            "_view_module_version": "1.5.0",
            "description_tooltip": null,
            "_model_module": "@jupyter-widgets/controls",
            "layout": "IPY_MODEL_257c3a1c59184986a446b9e0e0e267d3"
          }
        },
        "4fddeec05d524beebb527de006234a80": {
          "model_module": "@jupyter-widgets/controls",
          "model_name": "DescriptionStyleModel",
          "model_module_version": "1.5.0",
          "state": {
            "_view_name": "StyleView",
            "_model_name": "DescriptionStyleModel",
            "description_width": "",
            "_view_module": "@jupyter-widgets/base",
            "_model_module_version": "1.5.0",
            "_view_count": null,
            "_view_module_version": "1.2.0",
            "_model_module": "@jupyter-widgets/controls"
          }
        },
        "2f52b2532c91418ca7a2b49bcacb27c9": {
          "model_module": "@jupyter-widgets/base",
          "model_name": "LayoutModel",
          "model_module_version": "1.2.0",
          "state": {
            "_view_name": "LayoutView",
            "grid_template_rows": null,
            "right": null,
            "justify_content": null,
            "_view_module": "@jupyter-widgets/base",
            "overflow": null,
            "_model_module_version": "1.2.0",
            "_view_count": null,
            "flex_flow": null,
            "width": null,
            "min_width": null,
            "border": null,
            "align_items": null,
            "bottom": null,
            "_model_module": "@jupyter-widgets/base",
            "top": null,
            "grid_column": null,
            "overflow_y": null,
            "overflow_x": null,
            "grid_auto_flow": null,
            "grid_area": null,
            "grid_template_columns": null,
            "flex": null,
            "_model_name": "LayoutModel",
            "justify_items": null,
            "grid_row": null,
            "max_height": null,
            "align_content": null,
            "visibility": null,
            "align_self": null,
            "height": null,
            "min_height": null,
            "padding": null,
            "grid_auto_rows": null,
            "grid_gap": null,
            "max_width": null,
            "order": null,
            "_view_module_version": "1.2.0",
            "grid_template_areas": null,
            "object_position": null,
            "object_fit": null,
            "grid_auto_columns": null,
            "margin": null,
            "display": null,
            "left": null
          }
        },
        "a40258b1b9084731af8e6b5fc69ed6ce": {
          "model_module": "@jupyter-widgets/controls",
          "model_name": "ProgressStyleModel",
          "model_module_version": "1.5.0",
          "state": {
            "_view_name": "StyleView",
            "_model_name": "ProgressStyleModel",
            "description_width": "",
            "_view_module": "@jupyter-widgets/base",
            "_model_module_version": "1.5.0",
            "_view_count": null,
            "_view_module_version": "1.2.0",
            "bar_color": null,
            "_model_module": "@jupyter-widgets/controls"
          }
        },
        "e7be68435efd4c3d989b8fe9be1610d6": {
          "model_module": "@jupyter-widgets/base",
          "model_name": "LayoutModel",
          "model_module_version": "1.2.0",
          "state": {
            "_view_name": "LayoutView",
            "grid_template_rows": null,
            "right": null,
            "justify_content": null,
            "_view_module": "@jupyter-widgets/base",
            "overflow": null,
            "_model_module_version": "1.2.0",
            "_view_count": null,
            "flex_flow": null,
            "width": null,
            "min_width": null,
            "border": null,
            "align_items": null,
            "bottom": null,
            "_model_module": "@jupyter-widgets/base",
            "top": null,
            "grid_column": null,
            "overflow_y": null,
            "overflow_x": null,
            "grid_auto_flow": null,
            "grid_area": null,
            "grid_template_columns": null,
            "flex": null,
            "_model_name": "LayoutModel",
            "justify_items": null,
            "grid_row": null,
            "max_height": null,
            "align_content": null,
            "visibility": null,
            "align_self": null,
            "height": null,
            "min_height": null,
            "padding": null,
            "grid_auto_rows": null,
            "grid_gap": null,
            "max_width": null,
            "order": null,
            "_view_module_version": "1.2.0",
            "grid_template_areas": null,
            "object_position": null,
            "object_fit": null,
            "grid_auto_columns": null,
            "margin": null,
            "display": null,
            "left": null
          }
        },
        "230d77525abc45e7945e72519cf85544": {
          "model_module": "@jupyter-widgets/controls",
          "model_name": "DescriptionStyleModel",
          "model_module_version": "1.5.0",
          "state": {
            "_view_name": "StyleView",
            "_model_name": "DescriptionStyleModel",
            "description_width": "",
            "_view_module": "@jupyter-widgets/base",
            "_model_module_version": "1.5.0",
            "_view_count": null,
            "_view_module_version": "1.2.0",
            "_model_module": "@jupyter-widgets/controls"
          }
        },
        "257c3a1c59184986a446b9e0e0e267d3": {
          "model_module": "@jupyter-widgets/base",
          "model_name": "LayoutModel",
          "model_module_version": "1.2.0",
          "state": {
            "_view_name": "LayoutView",
            "grid_template_rows": null,
            "right": null,
            "justify_content": null,
            "_view_module": "@jupyter-widgets/base",
            "overflow": null,
            "_model_module_version": "1.2.0",
            "_view_count": null,
            "flex_flow": null,
            "width": null,
            "min_width": null,
            "border": null,
            "align_items": null,
            "bottom": null,
            "_model_module": "@jupyter-widgets/base",
            "top": null,
            "grid_column": null,
            "overflow_y": null,
            "overflow_x": null,
            "grid_auto_flow": null,
            "grid_area": null,
            "grid_template_columns": null,
            "flex": null,
            "_model_name": "LayoutModel",
            "justify_items": null,
            "grid_row": null,
            "max_height": null,
            "align_content": null,
            "visibility": null,
            "align_self": null,
            "height": null,
            "min_height": null,
            "padding": null,
            "grid_auto_rows": null,
            "grid_gap": null,
            "max_width": null,
            "order": null,
            "_view_module_version": "1.2.0",
            "grid_template_areas": null,
            "object_position": null,
            "object_fit": null,
            "grid_auto_columns": null,
            "margin": null,
            "display": null,
            "left": null
          }
        },
        "62ac5d473a6b4454bea62e2e60aa2d12": {
          "model_module": "@jupyter-widgets/controls",
          "model_name": "HBoxModel",
          "model_module_version": "1.5.0",
          "state": {
            "_view_name": "HBoxView",
            "_dom_classes": [],
            "_model_name": "HBoxModel",
            "_view_module": "@jupyter-widgets/controls",
            "_model_module_version": "1.5.0",
            "_view_count": null,
            "_view_module_version": "1.5.0",
            "box_style": "",
            "layout": "IPY_MODEL_9eb28f756e0a43d9b021801534e98a9f",
            "_model_module": "@jupyter-widgets/controls",
            "children": [
              "IPY_MODEL_79247f89c7f049d68500fb27cf9a8067",
              "IPY_MODEL_fa6a2e8d5b2841bf93e703ed8128e723",
              "IPY_MODEL_18ecad5ec2294f3d914b7c27e82ca0d0"
            ]
          }
        },
        "9eb28f756e0a43d9b021801534e98a9f": {
          "model_module": "@jupyter-widgets/base",
          "model_name": "LayoutModel",
          "model_module_version": "1.2.0",
          "state": {
            "_view_name": "LayoutView",
            "grid_template_rows": null,
            "right": null,
            "justify_content": null,
            "_view_module": "@jupyter-widgets/base",
            "overflow": null,
            "_model_module_version": "1.2.0",
            "_view_count": null,
            "flex_flow": null,
            "width": null,
            "min_width": null,
            "border": null,
            "align_items": null,
            "bottom": null,
            "_model_module": "@jupyter-widgets/base",
            "top": null,
            "grid_column": null,
            "overflow_y": null,
            "overflow_x": null,
            "grid_auto_flow": null,
            "grid_area": null,
            "grid_template_columns": null,
            "flex": null,
            "_model_name": "LayoutModel",
            "justify_items": null,
            "grid_row": null,
            "max_height": null,
            "align_content": null,
            "visibility": null,
            "align_self": null,
            "height": null,
            "min_height": null,
            "padding": null,
            "grid_auto_rows": null,
            "grid_gap": null,
            "max_width": null,
            "order": null,
            "_view_module_version": "1.2.0",
            "grid_template_areas": null,
            "object_position": null,
            "object_fit": null,
            "grid_auto_columns": null,
            "margin": null,
            "display": null,
            "left": null
          }
        },
        "79247f89c7f049d68500fb27cf9a8067": {
          "model_module": "@jupyter-widgets/controls",
          "model_name": "HTMLModel",
          "model_module_version": "1.5.0",
          "state": {
            "_view_name": "HTMLView",
            "style": "IPY_MODEL_c9b5db5913a74f7f88d4e592a520cd58",
            "_dom_classes": [],
            "description": "",
            "_model_name": "HTMLModel",
            "placeholder": "​",
            "_view_module": "@jupyter-widgets/controls",
            "_model_module_version": "1.5.0",
            "value": "Downloading: ",
            "_view_count": null,
            "_view_module_version": "1.5.0",
            "description_tooltip": null,
            "_model_module": "@jupyter-widgets/controls",
            "layout": "IPY_MODEL_0e03b9fcf98f4c7a9d4d08fba760a7e9"
          }
        },
        "fa6a2e8d5b2841bf93e703ed8128e723": {
          "model_module": "@jupyter-widgets/controls",
          "model_name": "FloatProgressModel",
          "model_module_version": "1.5.0",
          "state": {
            "_view_name": "ProgressView",
            "style": "IPY_MODEL_e11a35e194a6419e8cc3ddb30022fb9f",
            "_dom_classes": [],
            "description": "",
            "_model_name": "FloatProgressModel",
            "bar_style": "success",
            "max": 987,
            "_view_module": "@jupyter-widgets/controls",
            "_model_module_version": "1.5.0",
            "value": 987,
            "_view_count": null,
            "_view_module_version": "1.5.0",
            "orientation": "horizontal",
            "min": 0,
            "description_tooltip": null,
            "_model_module": "@jupyter-widgets/controls",
            "layout": "IPY_MODEL_d69095e27664417f94f48fe0165b90da"
          }
        },
        "18ecad5ec2294f3d914b7c27e82ca0d0": {
          "model_module": "@jupyter-widgets/controls",
          "model_name": "HTMLModel",
          "model_module_version": "1.5.0",
          "state": {
            "_view_name": "HTMLView",
            "style": "IPY_MODEL_d7bb39a0c9f242248dab6220ba098a5c",
            "_dom_classes": [],
            "description": "",
            "_model_name": "HTMLModel",
            "placeholder": "​",
            "_view_module": "@jupyter-widgets/controls",
            "_model_module_version": "1.5.0",
            "value": " 2.07k/? [00:00&lt;00:00, 63.1kB/s]",
            "_view_count": null,
            "_view_module_version": "1.5.0",
            "description_tooltip": null,
            "_model_module": "@jupyter-widgets/controls",
            "layout": "IPY_MODEL_83f05aa755064a4298e60ec979cc0b74"
          }
        },
        "c9b5db5913a74f7f88d4e592a520cd58": {
          "model_module": "@jupyter-widgets/controls",
          "model_name": "DescriptionStyleModel",
          "model_module_version": "1.5.0",
          "state": {
            "_view_name": "StyleView",
            "_model_name": "DescriptionStyleModel",
            "description_width": "",
            "_view_module": "@jupyter-widgets/base",
            "_model_module_version": "1.5.0",
            "_view_count": null,
            "_view_module_version": "1.2.0",
            "_model_module": "@jupyter-widgets/controls"
          }
        },
        "0e03b9fcf98f4c7a9d4d08fba760a7e9": {
          "model_module": "@jupyter-widgets/base",
          "model_name": "LayoutModel",
          "model_module_version": "1.2.0",
          "state": {
            "_view_name": "LayoutView",
            "grid_template_rows": null,
            "right": null,
            "justify_content": null,
            "_view_module": "@jupyter-widgets/base",
            "overflow": null,
            "_model_module_version": "1.2.0",
            "_view_count": null,
            "flex_flow": null,
            "width": null,
            "min_width": null,
            "border": null,
            "align_items": null,
            "bottom": null,
            "_model_module": "@jupyter-widgets/base",
            "top": null,
            "grid_column": null,
            "overflow_y": null,
            "overflow_x": null,
            "grid_auto_flow": null,
            "grid_area": null,
            "grid_template_columns": null,
            "flex": null,
            "_model_name": "LayoutModel",
            "justify_items": null,
            "grid_row": null,
            "max_height": null,
            "align_content": null,
            "visibility": null,
            "align_self": null,
            "height": null,
            "min_height": null,
            "padding": null,
            "grid_auto_rows": null,
            "grid_gap": null,
            "max_width": null,
            "order": null,
            "_view_module_version": "1.2.0",
            "grid_template_areas": null,
            "object_position": null,
            "object_fit": null,
            "grid_auto_columns": null,
            "margin": null,
            "display": null,
            "left": null
          }
        },
        "e11a35e194a6419e8cc3ddb30022fb9f": {
          "model_module": "@jupyter-widgets/controls",
          "model_name": "ProgressStyleModel",
          "model_module_version": "1.5.0",
          "state": {
            "_view_name": "StyleView",
            "_model_name": "ProgressStyleModel",
            "description_width": "",
            "_view_module": "@jupyter-widgets/base",
            "_model_module_version": "1.5.0",
            "_view_count": null,
            "_view_module_version": "1.2.0",
            "bar_color": null,
            "_model_module": "@jupyter-widgets/controls"
          }
        },
        "d69095e27664417f94f48fe0165b90da": {
          "model_module": "@jupyter-widgets/base",
          "model_name": "LayoutModel",
          "model_module_version": "1.2.0",
          "state": {
            "_view_name": "LayoutView",
            "grid_template_rows": null,
            "right": null,
            "justify_content": null,
            "_view_module": "@jupyter-widgets/base",
            "overflow": null,
            "_model_module_version": "1.2.0",
            "_view_count": null,
            "flex_flow": null,
            "width": null,
            "min_width": null,
            "border": null,
            "align_items": null,
            "bottom": null,
            "_model_module": "@jupyter-widgets/base",
            "top": null,
            "grid_column": null,
            "overflow_y": null,
            "overflow_x": null,
            "grid_auto_flow": null,
            "grid_area": null,
            "grid_template_columns": null,
            "flex": null,
            "_model_name": "LayoutModel",
            "justify_items": null,
            "grid_row": null,
            "max_height": null,
            "align_content": null,
            "visibility": null,
            "align_self": null,
            "height": null,
            "min_height": null,
            "padding": null,
            "grid_auto_rows": null,
            "grid_gap": null,
            "max_width": null,
            "order": null,
            "_view_module_version": "1.2.0",
            "grid_template_areas": null,
            "object_position": null,
            "object_fit": null,
            "grid_auto_columns": null,
            "margin": null,
            "display": null,
            "left": null
          }
        },
        "d7bb39a0c9f242248dab6220ba098a5c": {
          "model_module": "@jupyter-widgets/controls",
          "model_name": "DescriptionStyleModel",
          "model_module_version": "1.5.0",
          "state": {
            "_view_name": "StyleView",
            "_model_name": "DescriptionStyleModel",
            "description_width": "",
            "_view_module": "@jupyter-widgets/base",
            "_model_module_version": "1.5.0",
            "_view_count": null,
            "_view_module_version": "1.2.0",
            "_model_module": "@jupyter-widgets/controls"
          }
        },
        "83f05aa755064a4298e60ec979cc0b74": {
          "model_module": "@jupyter-widgets/base",
          "model_name": "LayoutModel",
          "model_module_version": "1.2.0",
          "state": {
            "_view_name": "LayoutView",
            "grid_template_rows": null,
            "right": null,
            "justify_content": null,
            "_view_module": "@jupyter-widgets/base",
            "overflow": null,
            "_model_module_version": "1.2.0",
            "_view_count": null,
            "flex_flow": null,
            "width": null,
            "min_width": null,
            "border": null,
            "align_items": null,
            "bottom": null,
            "_model_module": "@jupyter-widgets/base",
            "top": null,
            "grid_column": null,
            "overflow_y": null,
            "overflow_x": null,
            "grid_auto_flow": null,
            "grid_area": null,
            "grid_template_columns": null,
            "flex": null,
            "_model_name": "LayoutModel",
            "justify_items": null,
            "grid_row": null,
            "max_height": null,
            "align_content": null,
            "visibility": null,
            "align_self": null,
            "height": null,
            "min_height": null,
            "padding": null,
            "grid_auto_rows": null,
            "grid_gap": null,
            "max_width": null,
            "order": null,
            "_view_module_version": "1.2.0",
            "grid_template_areas": null,
            "object_position": null,
            "object_fit": null,
            "grid_auto_columns": null,
            "margin": null,
            "display": null,
            "left": null
          }
        },
        "335f500a62234ff0bba4a0f64f59b1c5": {
          "model_module": "@jupyter-widgets/controls",
          "model_name": "HBoxModel",
          "model_module_version": "1.5.0",
          "state": {
            "_view_name": "HBoxView",
            "_dom_classes": [],
            "_model_name": "HBoxModel",
            "_view_module": "@jupyter-widgets/controls",
            "_model_module_version": "1.5.0",
            "_view_count": null,
            "_view_module_version": "1.5.0",
            "box_style": "",
            "layout": "IPY_MODEL_86e6d5f9b2f14793965311ef91432794",
            "_model_module": "@jupyter-widgets/controls",
            "children": [
              "IPY_MODEL_cf8027442df1415b8a338afbd7c0c1b1",
              "IPY_MODEL_629999cc52d14b03abe0a8b215e75be3",
              "IPY_MODEL_8cdf47a3fd874921b3965c2259d02e91"
            ]
          }
        },
        "86e6d5f9b2f14793965311ef91432794": {
          "model_module": "@jupyter-widgets/base",
          "model_name": "LayoutModel",
          "model_module_version": "1.2.0",
          "state": {
            "_view_name": "LayoutView",
            "grid_template_rows": null,
            "right": null,
            "justify_content": null,
            "_view_module": "@jupyter-widgets/base",
            "overflow": null,
            "_model_module_version": "1.2.0",
            "_view_count": null,
            "flex_flow": null,
            "width": null,
            "min_width": null,
            "border": null,
            "align_items": null,
            "bottom": null,
            "_model_module": "@jupyter-widgets/base",
            "top": null,
            "grid_column": null,
            "overflow_y": null,
            "overflow_x": null,
            "grid_auto_flow": null,
            "grid_area": null,
            "grid_template_columns": null,
            "flex": null,
            "_model_name": "LayoutModel",
            "justify_items": null,
            "grid_row": null,
            "max_height": null,
            "align_content": null,
            "visibility": null,
            "align_self": null,
            "height": null,
            "min_height": null,
            "padding": null,
            "grid_auto_rows": null,
            "grid_gap": null,
            "max_width": null,
            "order": null,
            "_view_module_version": "1.2.0",
            "grid_template_areas": null,
            "object_position": null,
            "object_fit": null,
            "grid_auto_columns": null,
            "margin": null,
            "display": null,
            "left": null
          }
        },
        "cf8027442df1415b8a338afbd7c0c1b1": {
          "model_module": "@jupyter-widgets/controls",
          "model_name": "HTMLModel",
          "model_module_version": "1.5.0",
          "state": {
            "_view_name": "HTMLView",
            "style": "IPY_MODEL_75789a5583654979b071f237bf94d589",
            "_dom_classes": [],
            "description": "",
            "_model_name": "HTMLModel",
            "placeholder": "​",
            "_view_module": "@jupyter-widgets/controls",
            "_model_module_version": "1.5.0",
            "value": "Downloading: ",
            "_view_count": null,
            "_view_module_version": "1.5.0",
            "description_tooltip": null,
            "_model_module": "@jupyter-widgets/controls",
            "layout": "IPY_MODEL_8cb0a2207cc145769e9059e73e6ff584"
          }
        },
        "629999cc52d14b03abe0a8b215e75be3": {
          "model_module": "@jupyter-widgets/controls",
          "model_name": "FloatProgressModel",
          "model_module_version": "1.5.0",
          "state": {
            "_view_name": "ProgressView",
            "style": "IPY_MODEL_5bc92210b914486aa4c234ace926b39d",
            "_dom_classes": [],
            "description": "",
            "_model_name": "FloatProgressModel",
            "bar_style": "success",
            "max": 9674114,
            "_view_module": "@jupyter-widgets/controls",
            "_model_module_version": "1.5.0",
            "value": 9674114,
            "_view_count": null,
            "_view_module_version": "1.5.0",
            "orientation": "horizontal",
            "min": 0,
            "description_tooltip": null,
            "_model_module": "@jupyter-widgets/controls",
            "layout": "IPY_MODEL_c267c10e460f492983e9cb76fa1ba1bd"
          }
        },
        "8cdf47a3fd874921b3965c2259d02e91": {
          "model_module": "@jupyter-widgets/controls",
          "model_name": "HTMLModel",
          "model_module_version": "1.5.0",
          "state": {
            "_view_name": "HTMLView",
            "style": "IPY_MODEL_ad17973bd411461cac01ca8a7a5d8b8d",
            "_dom_classes": [],
            "description": "",
            "_model_name": "HTMLModel",
            "placeholder": "​",
            "_view_module": "@jupyter-widgets/controls",
            "_model_module_version": "1.5.0",
            "value": " 24.4M/? [00:01&lt;00:00, 26.0MB/s]",
            "_view_count": null,
            "_view_module_version": "1.5.0",
            "description_tooltip": null,
            "_model_module": "@jupyter-widgets/controls",
            "layout": "IPY_MODEL_e7628e5812844d3bb8f04ffa8a817c52"
          }
        },
        "75789a5583654979b071f237bf94d589": {
          "model_module": "@jupyter-widgets/controls",
          "model_name": "DescriptionStyleModel",
          "model_module_version": "1.5.0",
          "state": {
            "_view_name": "StyleView",
            "_model_name": "DescriptionStyleModel",
            "description_width": "",
            "_view_module": "@jupyter-widgets/base",
            "_model_module_version": "1.5.0",
            "_view_count": null,
            "_view_module_version": "1.2.0",
            "_model_module": "@jupyter-widgets/controls"
          }
        },
        "8cb0a2207cc145769e9059e73e6ff584": {
          "model_module": "@jupyter-widgets/base",
          "model_name": "LayoutModel",
          "model_module_version": "1.2.0",
          "state": {
            "_view_name": "LayoutView",
            "grid_template_rows": null,
            "right": null,
            "justify_content": null,
            "_view_module": "@jupyter-widgets/base",
            "overflow": null,
            "_model_module_version": "1.2.0",
            "_view_count": null,
            "flex_flow": null,
            "width": null,
            "min_width": null,
            "border": null,
            "align_items": null,
            "bottom": null,
            "_model_module": "@jupyter-widgets/base",
            "top": null,
            "grid_column": null,
            "overflow_y": null,
            "overflow_x": null,
            "grid_auto_flow": null,
            "grid_area": null,
            "grid_template_columns": null,
            "flex": null,
            "_model_name": "LayoutModel",
            "justify_items": null,
            "grid_row": null,
            "max_height": null,
            "align_content": null,
            "visibility": null,
            "align_self": null,
            "height": null,
            "min_height": null,
            "padding": null,
            "grid_auto_rows": null,
            "grid_gap": null,
            "max_width": null,
            "order": null,
            "_view_module_version": "1.2.0",
            "grid_template_areas": null,
            "object_position": null,
            "object_fit": null,
            "grid_auto_columns": null,
            "margin": null,
            "display": null,
            "left": null
          }
        },
        "5bc92210b914486aa4c234ace926b39d": {
          "model_module": "@jupyter-widgets/controls",
          "model_name": "ProgressStyleModel",
          "model_module_version": "1.5.0",
          "state": {
            "_view_name": "StyleView",
            "_model_name": "ProgressStyleModel",
            "description_width": "",
            "_view_module": "@jupyter-widgets/base",
            "_model_module_version": "1.5.0",
            "_view_count": null,
            "_view_module_version": "1.2.0",
            "bar_color": null,
            "_model_module": "@jupyter-widgets/controls"
          }
        },
        "c267c10e460f492983e9cb76fa1ba1bd": {
          "model_module": "@jupyter-widgets/base",
          "model_name": "LayoutModel",
          "model_module_version": "1.2.0",
          "state": {
            "_view_name": "LayoutView",
            "grid_template_rows": null,
            "right": null,
            "justify_content": null,
            "_view_module": "@jupyter-widgets/base",
            "overflow": null,
            "_model_module_version": "1.2.0",
            "_view_count": null,
            "flex_flow": null,
            "width": null,
            "min_width": null,
            "border": null,
            "align_items": null,
            "bottom": null,
            "_model_module": "@jupyter-widgets/base",
            "top": null,
            "grid_column": null,
            "overflow_y": null,
            "overflow_x": null,
            "grid_auto_flow": null,
            "grid_area": null,
            "grid_template_columns": null,
            "flex": null,
            "_model_name": "LayoutModel",
            "justify_items": null,
            "grid_row": null,
            "max_height": null,
            "align_content": null,
            "visibility": null,
            "align_self": null,
            "height": null,
            "min_height": null,
            "padding": null,
            "grid_auto_rows": null,
            "grid_gap": null,
            "max_width": null,
            "order": null,
            "_view_module_version": "1.2.0",
            "grid_template_areas": null,
            "object_position": null,
            "object_fit": null,
            "grid_auto_columns": null,
            "margin": null,
            "display": null,
            "left": null
          }
        },
        "ad17973bd411461cac01ca8a7a5d8b8d": {
          "model_module": "@jupyter-widgets/controls",
          "model_name": "DescriptionStyleModel",
          "model_module_version": "1.5.0",
          "state": {
            "_view_name": "StyleView",
            "_model_name": "DescriptionStyleModel",
            "description_width": "",
            "_view_module": "@jupyter-widgets/base",
            "_model_module_version": "1.5.0",
            "_view_count": null,
            "_view_module_version": "1.2.0",
            "_model_module": "@jupyter-widgets/controls"
          }
        },
        "e7628e5812844d3bb8f04ffa8a817c52": {
          "model_module": "@jupyter-widgets/base",
          "model_name": "LayoutModel",
          "model_module_version": "1.2.0",
          "state": {
            "_view_name": "LayoutView",
            "grid_template_rows": null,
            "right": null,
            "justify_content": null,
            "_view_module": "@jupyter-widgets/base",
            "overflow": null,
            "_model_module_version": "1.2.0",
            "_view_count": null,
            "flex_flow": null,
            "width": null,
            "min_width": null,
            "border": null,
            "align_items": null,
            "bottom": null,
            "_model_module": "@jupyter-widgets/base",
            "top": null,
            "grid_column": null,
            "overflow_y": null,
            "overflow_x": null,
            "grid_auto_flow": null,
            "grid_area": null,
            "grid_template_columns": null,
            "flex": null,
            "_model_name": "LayoutModel",
            "justify_items": null,
            "grid_row": null,
            "max_height": null,
            "align_content": null,
            "visibility": null,
            "align_self": null,
            "height": null,
            "min_height": null,
            "padding": null,
            "grid_auto_rows": null,
            "grid_gap": null,
            "max_width": null,
            "order": null,
            "_view_module_version": "1.2.0",
            "grid_template_areas": null,
            "object_position": null,
            "object_fit": null,
            "grid_auto_columns": null,
            "margin": null,
            "display": null,
            "left": null
          }
        },
        "185a1551982243eba32d9c8bcc11c13f": {
          "model_module": "@jupyter-widgets/controls",
          "model_name": "HBoxModel",
          "model_module_version": "1.5.0",
          "state": {
            "_view_name": "HBoxView",
            "_dom_classes": [],
            "_model_name": "HBoxModel",
            "_view_module": "@jupyter-widgets/controls",
            "_model_module_version": "1.5.0",
            "_view_count": null,
            "_view_module_version": "1.5.0",
            "box_style": "",
            "layout": "IPY_MODEL_6a35710b5e0b4d4587866969c8433d36",
            "_model_module": "@jupyter-widgets/controls",
            "children": [
              "IPY_MODEL_45fa7a404bc54592aa505112d6c6df24",
              "IPY_MODEL_6ddfb91ba8bf4d68acc8f020e87ba979",
              "IPY_MODEL_a332ca0f7986433f881e8c4684eb9907"
            ]
          }
        },
        "6a35710b5e0b4d4587866969c8433d36": {
          "model_module": "@jupyter-widgets/base",
          "model_name": "LayoutModel",
          "model_module_version": "1.2.0",
          "state": {
            "_view_name": "LayoutView",
            "grid_template_rows": null,
            "right": null,
            "justify_content": null,
            "_view_module": "@jupyter-widgets/base",
            "overflow": null,
            "_model_module_version": "1.2.0",
            "_view_count": null,
            "flex_flow": null,
            "width": null,
            "min_width": null,
            "border": null,
            "align_items": null,
            "bottom": null,
            "_model_module": "@jupyter-widgets/base",
            "top": null,
            "grid_column": null,
            "overflow_y": null,
            "overflow_x": null,
            "grid_auto_flow": null,
            "grid_area": null,
            "grid_template_columns": null,
            "flex": null,
            "_model_name": "LayoutModel",
            "justify_items": null,
            "grid_row": null,
            "max_height": null,
            "align_content": null,
            "visibility": null,
            "align_self": null,
            "height": null,
            "min_height": null,
            "padding": null,
            "grid_auto_rows": null,
            "grid_gap": null,
            "max_width": null,
            "order": null,
            "_view_module_version": "1.2.0",
            "grid_template_areas": null,
            "object_position": null,
            "object_fit": null,
            "grid_auto_columns": null,
            "margin": null,
            "display": null,
            "left": null
          }
        },
        "45fa7a404bc54592aa505112d6c6df24": {
          "model_module": "@jupyter-widgets/controls",
          "model_name": "HTMLModel",
          "model_module_version": "1.5.0",
          "state": {
            "_view_name": "HTMLView",
            "style": "IPY_MODEL_6809814cf4e743feab43d647771dafe1",
            "_dom_classes": [],
            "description": "",
            "_model_name": "HTMLModel",
            "placeholder": "​",
            "_view_module": "@jupyter-widgets/controls",
            "_model_module_version": "1.5.0",
            "value": "Downloading: ",
            "_view_count": null,
            "_view_module_version": "1.5.0",
            "description_tooltip": null,
            "_model_module": "@jupyter-widgets/controls",
            "layout": "IPY_MODEL_22aa3a6190134affb04cff8fbeabe42e"
          }
        },
        "6ddfb91ba8bf4d68acc8f020e87ba979": {
          "model_module": "@jupyter-widgets/controls",
          "model_name": "FloatProgressModel",
          "model_module_version": "1.5.0",
          "state": {
            "_view_name": "ProgressView",
            "style": "IPY_MODEL_6be0058a3f614dc6a7b2452bed372cdc",
            "_dom_classes": [],
            "description": "",
            "_model_name": "FloatProgressModel",
            "bar_style": "success",
            "max": 1092281,
            "_view_module": "@jupyter-widgets/controls",
            "_model_module_version": "1.5.0",
            "value": 1092281,
            "_view_count": null,
            "_view_module_version": "1.5.0",
            "orientation": "horizontal",
            "min": 0,
            "description_tooltip": null,
            "_model_module": "@jupyter-widgets/controls",
            "layout": "IPY_MODEL_8394eef56dbf460c8cc06c5959aa5f74"
          }
        },
        "a332ca0f7986433f881e8c4684eb9907": {
          "model_module": "@jupyter-widgets/controls",
          "model_name": "HTMLModel",
          "model_module_version": "1.5.0",
          "state": {
            "_view_name": "HTMLView",
            "style": "IPY_MODEL_25c6094593314e86aca817db29f6d554",
            "_dom_classes": [],
            "description": "",
            "_model_name": "HTMLModel",
            "placeholder": "​",
            "_view_module": "@jupyter-widgets/controls",
            "_model_module_version": "1.5.0",
            "value": " 2.76M/? [00:00&lt;00:00, 1.13MB/s]",
            "_view_count": null,
            "_view_module_version": "1.5.0",
            "description_tooltip": null,
            "_model_module": "@jupyter-widgets/controls",
            "layout": "IPY_MODEL_388d909478cc4aa598b04f0a553d8c21"
          }
        },
        "6809814cf4e743feab43d647771dafe1": {
          "model_module": "@jupyter-widgets/controls",
          "model_name": "DescriptionStyleModel",
          "model_module_version": "1.5.0",
          "state": {
            "_view_name": "StyleView",
            "_model_name": "DescriptionStyleModel",
            "description_width": "",
            "_view_module": "@jupyter-widgets/base",
            "_model_module_version": "1.5.0",
            "_view_count": null,
            "_view_module_version": "1.2.0",
            "_model_module": "@jupyter-widgets/controls"
          }
        },
        "22aa3a6190134affb04cff8fbeabe42e": {
          "model_module": "@jupyter-widgets/base",
          "model_name": "LayoutModel",
          "model_module_version": "1.2.0",
          "state": {
            "_view_name": "LayoutView",
            "grid_template_rows": null,
            "right": null,
            "justify_content": null,
            "_view_module": "@jupyter-widgets/base",
            "overflow": null,
            "_model_module_version": "1.2.0",
            "_view_count": null,
            "flex_flow": null,
            "width": null,
            "min_width": null,
            "border": null,
            "align_items": null,
            "bottom": null,
            "_model_module": "@jupyter-widgets/base",
            "top": null,
            "grid_column": null,
            "overflow_y": null,
            "overflow_x": null,
            "grid_auto_flow": null,
            "grid_area": null,
            "grid_template_columns": null,
            "flex": null,
            "_model_name": "LayoutModel",
            "justify_items": null,
            "grid_row": null,
            "max_height": null,
            "align_content": null,
            "visibility": null,
            "align_self": null,
            "height": null,
            "min_height": null,
            "padding": null,
            "grid_auto_rows": null,
            "grid_gap": null,
            "max_width": null,
            "order": null,
            "_view_module_version": "1.2.0",
            "grid_template_areas": null,
            "object_position": null,
            "object_fit": null,
            "grid_auto_columns": null,
            "margin": null,
            "display": null,
            "left": null
          }
        },
        "6be0058a3f614dc6a7b2452bed372cdc": {
          "model_module": "@jupyter-widgets/controls",
          "model_name": "ProgressStyleModel",
          "model_module_version": "1.5.0",
          "state": {
            "_view_name": "StyleView",
            "_model_name": "ProgressStyleModel",
            "description_width": "",
            "_view_module": "@jupyter-widgets/base",
            "_model_module_version": "1.5.0",
            "_view_count": null,
            "_view_module_version": "1.2.0",
            "bar_color": null,
            "_model_module": "@jupyter-widgets/controls"
          }
        },
        "8394eef56dbf460c8cc06c5959aa5f74": {
          "model_module": "@jupyter-widgets/base",
          "model_name": "LayoutModel",
          "model_module_version": "1.2.0",
          "state": {
            "_view_name": "LayoutView",
            "grid_template_rows": null,
            "right": null,
            "justify_content": null,
            "_view_module": "@jupyter-widgets/base",
            "overflow": null,
            "_model_module_version": "1.2.0",
            "_view_count": null,
            "flex_flow": null,
            "width": null,
            "min_width": null,
            "border": null,
            "align_items": null,
            "bottom": null,
            "_model_module": "@jupyter-widgets/base",
            "top": null,
            "grid_column": null,
            "overflow_y": null,
            "overflow_x": null,
            "grid_auto_flow": null,
            "grid_area": null,
            "grid_template_columns": null,
            "flex": null,
            "_model_name": "LayoutModel",
            "justify_items": null,
            "grid_row": null,
            "max_height": null,
            "align_content": null,
            "visibility": null,
            "align_self": null,
            "height": null,
            "min_height": null,
            "padding": null,
            "grid_auto_rows": null,
            "grid_gap": null,
            "max_width": null,
            "order": null,
            "_view_module_version": "1.2.0",
            "grid_template_areas": null,
            "object_position": null,
            "object_fit": null,
            "grid_auto_columns": null,
            "margin": null,
            "display": null,
            "left": null
          }
        },
        "25c6094593314e86aca817db29f6d554": {
          "model_module": "@jupyter-widgets/controls",
          "model_name": "DescriptionStyleModel",
          "model_module_version": "1.5.0",
          "state": {
            "_view_name": "StyleView",
            "_model_name": "DescriptionStyleModel",
            "description_width": "",
            "_view_module": "@jupyter-widgets/base",
            "_model_module_version": "1.5.0",
            "_view_count": null,
            "_view_module_version": "1.2.0",
            "_model_module": "@jupyter-widgets/controls"
          }
        },
        "388d909478cc4aa598b04f0a553d8c21": {
          "model_module": "@jupyter-widgets/base",
          "model_name": "LayoutModel",
          "model_module_version": "1.2.0",
          "state": {
            "_view_name": "LayoutView",
            "grid_template_rows": null,
            "right": null,
            "justify_content": null,
            "_view_module": "@jupyter-widgets/base",
            "overflow": null,
            "_model_module_version": "1.2.0",
            "_view_count": null,
            "flex_flow": null,
            "width": null,
            "min_width": null,
            "border": null,
            "align_items": null,
            "bottom": null,
            "_model_module": "@jupyter-widgets/base",
            "top": null,
            "grid_column": null,
            "overflow_y": null,
            "overflow_x": null,
            "grid_auto_flow": null,
            "grid_area": null,
            "grid_template_columns": null,
            "flex": null,
            "_model_name": "LayoutModel",
            "justify_items": null,
            "grid_row": null,
            "max_height": null,
            "align_content": null,
            "visibility": null,
            "align_self": null,
            "height": null,
            "min_height": null,
            "padding": null,
            "grid_auto_rows": null,
            "grid_gap": null,
            "max_width": null,
            "order": null,
            "_view_module_version": "1.2.0",
            "grid_template_areas": null,
            "object_position": null,
            "object_fit": null,
            "grid_auto_columns": null,
            "margin": null,
            "display": null,
            "left": null
          }
        },
        "73b449dad5e9495dbd90201afc905273": {
          "model_module": "@jupyter-widgets/controls",
          "model_name": "HBoxModel",
          "model_module_version": "1.5.0",
          "state": {
            "_view_name": "HBoxView",
            "_dom_classes": [],
            "_model_name": "HBoxModel",
            "_view_module": "@jupyter-widgets/controls",
            "_model_module_version": "1.5.0",
            "_view_count": null,
            "_view_module_version": "1.5.0",
            "box_style": "",
            "layout": "IPY_MODEL_705507f5aa0f48579bb3c474c0799702",
            "_model_module": "@jupyter-widgets/controls",
            "children": [
              "IPY_MODEL_f19238c799c94838be834f6c53529946",
              "IPY_MODEL_6a72f3b914b24e9da24d118f0d7c5b6d",
              "IPY_MODEL_d6560c4e2cc048979dc3b3a6ecb70b4c"
            ]
          }
        },
        "705507f5aa0f48579bb3c474c0799702": {
          "model_module": "@jupyter-widgets/base",
          "model_name": "LayoutModel",
          "model_module_version": "1.2.0",
          "state": {
            "_view_name": "LayoutView",
            "grid_template_rows": null,
            "right": null,
            "justify_content": null,
            "_view_module": "@jupyter-widgets/base",
            "overflow": null,
            "_model_module_version": "1.2.0",
            "_view_count": null,
            "flex_flow": null,
            "width": null,
            "min_width": null,
            "border": null,
            "align_items": null,
            "bottom": null,
            "_model_module": "@jupyter-widgets/base",
            "top": null,
            "grid_column": null,
            "overflow_y": null,
            "overflow_x": null,
            "grid_auto_flow": null,
            "grid_area": null,
            "grid_template_columns": null,
            "flex": null,
            "_model_name": "LayoutModel",
            "justify_items": null,
            "grid_row": null,
            "max_height": null,
            "align_content": null,
            "visibility": null,
            "align_self": null,
            "height": null,
            "min_height": null,
            "padding": null,
            "grid_auto_rows": null,
            "grid_gap": null,
            "max_width": null,
            "order": null,
            "_view_module_version": "1.2.0",
            "grid_template_areas": null,
            "object_position": null,
            "object_fit": null,
            "grid_auto_columns": null,
            "margin": null,
            "display": null,
            "left": null
          }
        },
        "f19238c799c94838be834f6c53529946": {
          "model_module": "@jupyter-widgets/controls",
          "model_name": "HTMLModel",
          "model_module_version": "1.5.0",
          "state": {
            "_view_name": "HTMLView",
            "style": "IPY_MODEL_dc7c3956fe93460a956903c535135b69",
            "_dom_classes": [],
            "description": "",
            "_model_name": "HTMLModel",
            "placeholder": "​",
            "_view_module": "@jupyter-widgets/controls",
            "_model_module_version": "1.5.0",
            "value": "",
            "_view_count": null,
            "_view_module_version": "1.5.0",
            "description_tooltip": null,
            "_model_module": "@jupyter-widgets/controls",
            "layout": "IPY_MODEL_4d974b1a34b74a82bc92ef4eaad6c977"
          }
        },
        "6a72f3b914b24e9da24d118f0d7c5b6d": {
          "model_module": "@jupyter-widgets/controls",
          "model_name": "FloatProgressModel",
          "model_module_version": "1.5.0",
          "state": {
            "_view_name": "ProgressView",
            "style": "IPY_MODEL_9ee9a66272f74be7960a66c166579211",
            "_dom_classes": [],
            "description": "",
            "_model_name": "FloatProgressModel",
            "bar_style": "info",
            "max": 1,
            "_view_module": "@jupyter-widgets/controls",
            "_model_module_version": "1.5.0",
            "value": 1,
            "_view_count": null,
            "_view_module_version": "1.5.0",
            "orientation": "horizontal",
            "min": 0,
            "description_tooltip": null,
            "_model_module": "@jupyter-widgets/controls",
            "layout": "IPY_MODEL_c210e8eabe4b4983a50a450c422e313b"
          }
        },
        "d6560c4e2cc048979dc3b3a6ecb70b4c": {
          "model_module": "@jupyter-widgets/controls",
          "model_name": "HTMLModel",
          "model_module_version": "1.5.0",
          "state": {
            "_view_name": "HTMLView",
            "style": "IPY_MODEL_6888ce5639d048ff8bc7e72487b48a34",
            "_dom_classes": [],
            "description": "",
            "_model_name": "HTMLModel",
            "placeholder": "​",
            "_view_module": "@jupyter-widgets/controls",
            "_model_module_version": "1.5.0",
            "value": " 9059/0 [00:01&lt;00:00, 5881.19 examples/s]",
            "_view_count": null,
            "_view_module_version": "1.5.0",
            "description_tooltip": null,
            "_model_module": "@jupyter-widgets/controls",
            "layout": "IPY_MODEL_eb60eb3d09594fb0bdd9b9ff6ca12ff6"
          }
        },
        "dc7c3956fe93460a956903c535135b69": {
          "model_module": "@jupyter-widgets/controls",
          "model_name": "DescriptionStyleModel",
          "model_module_version": "1.5.0",
          "state": {
            "_view_name": "StyleView",
            "_model_name": "DescriptionStyleModel",
            "description_width": "",
            "_view_module": "@jupyter-widgets/base",
            "_model_module_version": "1.5.0",
            "_view_count": null,
            "_view_module_version": "1.2.0",
            "_model_module": "@jupyter-widgets/controls"
          }
        },
        "4d974b1a34b74a82bc92ef4eaad6c977": {
          "model_module": "@jupyter-widgets/base",
          "model_name": "LayoutModel",
          "model_module_version": "1.2.0",
          "state": {
            "_view_name": "LayoutView",
            "grid_template_rows": null,
            "right": null,
            "justify_content": null,
            "_view_module": "@jupyter-widgets/base",
            "overflow": null,
            "_model_module_version": "1.2.0",
            "_view_count": null,
            "flex_flow": null,
            "width": null,
            "min_width": null,
            "border": null,
            "align_items": null,
            "bottom": null,
            "_model_module": "@jupyter-widgets/base",
            "top": null,
            "grid_column": null,
            "overflow_y": null,
            "overflow_x": null,
            "grid_auto_flow": null,
            "grid_area": null,
            "grid_template_columns": null,
            "flex": null,
            "_model_name": "LayoutModel",
            "justify_items": null,
            "grid_row": null,
            "max_height": null,
            "align_content": null,
            "visibility": null,
            "align_self": null,
            "height": null,
            "min_height": null,
            "padding": null,
            "grid_auto_rows": null,
            "grid_gap": null,
            "max_width": null,
            "order": null,
            "_view_module_version": "1.2.0",
            "grid_template_areas": null,
            "object_position": null,
            "object_fit": null,
            "grid_auto_columns": null,
            "margin": null,
            "display": null,
            "left": null
          }
        },
        "9ee9a66272f74be7960a66c166579211": {
          "model_module": "@jupyter-widgets/controls",
          "model_name": "ProgressStyleModel",
          "model_module_version": "1.5.0",
          "state": {
            "_view_name": "StyleView",
            "_model_name": "ProgressStyleModel",
            "description_width": "",
            "_view_module": "@jupyter-widgets/base",
            "_model_module_version": "1.5.0",
            "_view_count": null,
            "_view_module_version": "1.2.0",
            "bar_color": null,
            "_model_module": "@jupyter-widgets/controls"
          }
        },
        "c210e8eabe4b4983a50a450c422e313b": {
          "model_module": "@jupyter-widgets/base",
          "model_name": "LayoutModel",
          "model_module_version": "1.2.0",
          "state": {
            "_view_name": "LayoutView",
            "grid_template_rows": null,
            "right": null,
            "justify_content": null,
            "_view_module": "@jupyter-widgets/base",
            "overflow": null,
            "_model_module_version": "1.2.0",
            "_view_count": null,
            "flex_flow": null,
            "width": "20px",
            "min_width": null,
            "border": null,
            "align_items": null,
            "bottom": null,
            "_model_module": "@jupyter-widgets/base",
            "top": null,
            "grid_column": null,
            "overflow_y": null,
            "overflow_x": null,
            "grid_auto_flow": null,
            "grid_area": null,
            "grid_template_columns": null,
            "flex": null,
            "_model_name": "LayoutModel",
            "justify_items": null,
            "grid_row": null,
            "max_height": null,
            "align_content": null,
            "visibility": null,
            "align_self": null,
            "height": null,
            "min_height": null,
            "padding": null,
            "grid_auto_rows": null,
            "grid_gap": null,
            "max_width": null,
            "order": null,
            "_view_module_version": "1.2.0",
            "grid_template_areas": null,
            "object_position": null,
            "object_fit": null,
            "grid_auto_columns": null,
            "margin": null,
            "display": null,
            "left": null
          }
        },
        "6888ce5639d048ff8bc7e72487b48a34": {
          "model_module": "@jupyter-widgets/controls",
          "model_name": "DescriptionStyleModel",
          "model_module_version": "1.5.0",
          "state": {
            "_view_name": "StyleView",
            "_model_name": "DescriptionStyleModel",
            "description_width": "",
            "_view_module": "@jupyter-widgets/base",
            "_model_module_version": "1.5.0",
            "_view_count": null,
            "_view_module_version": "1.2.0",
            "_model_module": "@jupyter-widgets/controls"
          }
        },
        "eb60eb3d09594fb0bdd9b9ff6ca12ff6": {
          "model_module": "@jupyter-widgets/base",
          "model_name": "LayoutModel",
          "model_module_version": "1.2.0",
          "state": {
            "_view_name": "LayoutView",
            "grid_template_rows": null,
            "right": null,
            "justify_content": null,
            "_view_module": "@jupyter-widgets/base",
            "overflow": null,
            "_model_module_version": "1.2.0",
            "_view_count": null,
            "flex_flow": null,
            "width": null,
            "min_width": null,
            "border": null,
            "align_items": null,
            "bottom": null,
            "_model_module": "@jupyter-widgets/base",
            "top": null,
            "grid_column": null,
            "overflow_y": null,
            "overflow_x": null,
            "grid_auto_flow": null,
            "grid_area": null,
            "grid_template_columns": null,
            "flex": null,
            "_model_name": "LayoutModel",
            "justify_items": null,
            "grid_row": null,
            "max_height": null,
            "align_content": null,
            "visibility": null,
            "align_self": null,
            "height": null,
            "min_height": null,
            "padding": null,
            "grid_auto_rows": null,
            "grid_gap": null,
            "max_width": null,
            "order": null,
            "_view_module_version": "1.2.0",
            "grid_template_areas": null,
            "object_position": null,
            "object_fit": null,
            "grid_auto_columns": null,
            "margin": null,
            "display": null,
            "left": null
          }
        },
        "d1a417e820c3405f891806e665ab5360": {
          "model_module": "@jupyter-widgets/controls",
          "model_name": "HBoxModel",
          "model_module_version": "1.5.0",
          "state": {
            "_view_name": "HBoxView",
            "_dom_classes": [],
            "_model_name": "HBoxModel",
            "_view_module": "@jupyter-widgets/controls",
            "_model_module_version": "1.5.0",
            "_view_count": null,
            "_view_module_version": "1.5.0",
            "box_style": "",
            "layout": "IPY_MODEL_050b0e29e4704ff58abbfd926bc182af",
            "_model_module": "@jupyter-widgets/controls",
            "children": [
              "IPY_MODEL_f1f10d9ccf7a4e8eb2904aaf71cb7ad0",
              "IPY_MODEL_8a1adf43c7bd4e3db71cce16168470ed",
              "IPY_MODEL_59bf5ccda53a42a8af1a7cb877d38859"
            ]
          }
        },
        "050b0e29e4704ff58abbfd926bc182af": {
          "model_module": "@jupyter-widgets/base",
          "model_name": "LayoutModel",
          "model_module_version": "1.2.0",
          "state": {
            "_view_name": "LayoutView",
            "grid_template_rows": null,
            "right": null,
            "justify_content": null,
            "_view_module": "@jupyter-widgets/base",
            "overflow": null,
            "_model_module_version": "1.2.0",
            "_view_count": null,
            "flex_flow": null,
            "width": null,
            "min_width": null,
            "border": null,
            "align_items": null,
            "bottom": null,
            "_model_module": "@jupyter-widgets/base",
            "top": null,
            "grid_column": null,
            "overflow_y": null,
            "overflow_x": null,
            "grid_auto_flow": null,
            "grid_area": null,
            "grid_template_columns": null,
            "flex": null,
            "_model_name": "LayoutModel",
            "justify_items": null,
            "grid_row": null,
            "max_height": null,
            "align_content": null,
            "visibility": null,
            "align_self": null,
            "height": null,
            "min_height": null,
            "padding": null,
            "grid_auto_rows": null,
            "grid_gap": null,
            "max_width": null,
            "order": null,
            "_view_module_version": "1.2.0",
            "grid_template_areas": null,
            "object_position": null,
            "object_fit": null,
            "grid_auto_columns": null,
            "margin": null,
            "display": null,
            "left": null
          }
        },
        "f1f10d9ccf7a4e8eb2904aaf71cb7ad0": {
          "model_module": "@jupyter-widgets/controls",
          "model_name": "HTMLModel",
          "model_module_version": "1.5.0",
          "state": {
            "_view_name": "HTMLView",
            "style": "IPY_MODEL_a044d7887fad4ce1b1a6504b4b78f4ee",
            "_dom_classes": [],
            "description": "",
            "_model_name": "HTMLModel",
            "placeholder": "​",
            "_view_module": "@jupyter-widgets/controls",
            "_model_module_version": "1.5.0",
            "value": "",
            "_view_count": null,
            "_view_module_version": "1.5.0",
            "description_tooltip": null,
            "_model_module": "@jupyter-widgets/controls",
            "layout": "IPY_MODEL_7d9d5983f73b4641af1955b3ad9e6d30"
          }
        },
        "8a1adf43c7bd4e3db71cce16168470ed": {
          "model_module": "@jupyter-widgets/controls",
          "model_name": "FloatProgressModel",
          "model_module_version": "1.5.0",
          "state": {
            "_view_name": "ProgressView",
            "style": "IPY_MODEL_5c982e77103e41df9e0b2eabadba3650",
            "_dom_classes": [],
            "description": "",
            "_model_name": "FloatProgressModel",
            "bar_style": "info",
            "max": 1,
            "_view_module": "@jupyter-widgets/controls",
            "_model_module_version": "1.5.0",
            "value": 1,
            "_view_count": null,
            "_view_module_version": "1.5.0",
            "orientation": "horizontal",
            "min": 0,
            "description_tooltip": null,
            "_model_module": "@jupyter-widgets/controls",
            "layout": "IPY_MODEL_b39df05aaad04499bdb110d3b7ca2021"
          }
        },
        "59bf5ccda53a42a8af1a7cb877d38859": {
          "model_module": "@jupyter-widgets/controls",
          "model_name": "HTMLModel",
          "model_module_version": "1.5.0",
          "state": {
            "_view_name": "HTMLView",
            "style": "IPY_MODEL_7f37ee0bb1f64414ba5d2d02d24f4758",
            "_dom_classes": [],
            "description": "",
            "_model_name": "HTMLModel",
            "placeholder": "​",
            "_view_module": "@jupyter-widgets/controls",
            "_model_module_version": "1.5.0",
            "value": " 958/0 [00:00&lt;00:00, 5585.44 examples/s]",
            "_view_count": null,
            "_view_module_version": "1.5.0",
            "description_tooltip": null,
            "_model_module": "@jupyter-widgets/controls",
            "layout": "IPY_MODEL_eab44d5484104fe09b63cfd4fd70319e"
          }
        },
        "a044d7887fad4ce1b1a6504b4b78f4ee": {
          "model_module": "@jupyter-widgets/controls",
          "model_name": "DescriptionStyleModel",
          "model_module_version": "1.5.0",
          "state": {
            "_view_name": "StyleView",
            "_model_name": "DescriptionStyleModel",
            "description_width": "",
            "_view_module": "@jupyter-widgets/base",
            "_model_module_version": "1.5.0",
            "_view_count": null,
            "_view_module_version": "1.2.0",
            "_model_module": "@jupyter-widgets/controls"
          }
        },
        "7d9d5983f73b4641af1955b3ad9e6d30": {
          "model_module": "@jupyter-widgets/base",
          "model_name": "LayoutModel",
          "model_module_version": "1.2.0",
          "state": {
            "_view_name": "LayoutView",
            "grid_template_rows": null,
            "right": null,
            "justify_content": null,
            "_view_module": "@jupyter-widgets/base",
            "overflow": null,
            "_model_module_version": "1.2.0",
            "_view_count": null,
            "flex_flow": null,
            "width": null,
            "min_width": null,
            "border": null,
            "align_items": null,
            "bottom": null,
            "_model_module": "@jupyter-widgets/base",
            "top": null,
            "grid_column": null,
            "overflow_y": null,
            "overflow_x": null,
            "grid_auto_flow": null,
            "grid_area": null,
            "grid_template_columns": null,
            "flex": null,
            "_model_name": "LayoutModel",
            "justify_items": null,
            "grid_row": null,
            "max_height": null,
            "align_content": null,
            "visibility": null,
            "align_self": null,
            "height": null,
            "min_height": null,
            "padding": null,
            "grid_auto_rows": null,
            "grid_gap": null,
            "max_width": null,
            "order": null,
            "_view_module_version": "1.2.0",
            "grid_template_areas": null,
            "object_position": null,
            "object_fit": null,
            "grid_auto_columns": null,
            "margin": null,
            "display": null,
            "left": null
          }
        },
        "5c982e77103e41df9e0b2eabadba3650": {
          "model_module": "@jupyter-widgets/controls",
          "model_name": "ProgressStyleModel",
          "model_module_version": "1.5.0",
          "state": {
            "_view_name": "StyleView",
            "_model_name": "ProgressStyleModel",
            "description_width": "",
            "_view_module": "@jupyter-widgets/base",
            "_model_module_version": "1.5.0",
            "_view_count": null,
            "_view_module_version": "1.2.0",
            "bar_color": null,
            "_model_module": "@jupyter-widgets/controls"
          }
        },
        "b39df05aaad04499bdb110d3b7ca2021": {
          "model_module": "@jupyter-widgets/base",
          "model_name": "LayoutModel",
          "model_module_version": "1.2.0",
          "state": {
            "_view_name": "LayoutView",
            "grid_template_rows": null,
            "right": null,
            "justify_content": null,
            "_view_module": "@jupyter-widgets/base",
            "overflow": null,
            "_model_module_version": "1.2.0",
            "_view_count": null,
            "flex_flow": null,
            "width": "20px",
            "min_width": null,
            "border": null,
            "align_items": null,
            "bottom": null,
            "_model_module": "@jupyter-widgets/base",
            "top": null,
            "grid_column": null,
            "overflow_y": null,
            "overflow_x": null,
            "grid_auto_flow": null,
            "grid_area": null,
            "grid_template_columns": null,
            "flex": null,
            "_model_name": "LayoutModel",
            "justify_items": null,
            "grid_row": null,
            "max_height": null,
            "align_content": null,
            "visibility": null,
            "align_self": null,
            "height": null,
            "min_height": null,
            "padding": null,
            "grid_auto_rows": null,
            "grid_gap": null,
            "max_width": null,
            "order": null,
            "_view_module_version": "1.2.0",
            "grid_template_areas": null,
            "object_position": null,
            "object_fit": null,
            "grid_auto_columns": null,
            "margin": null,
            "display": null,
            "left": null
          }
        },
        "7f37ee0bb1f64414ba5d2d02d24f4758": {
          "model_module": "@jupyter-widgets/controls",
          "model_name": "DescriptionStyleModel",
          "model_module_version": "1.5.0",
          "state": {
            "_view_name": "StyleView",
            "_model_name": "DescriptionStyleModel",
            "description_width": "",
            "_view_module": "@jupyter-widgets/base",
            "_model_module_version": "1.5.0",
            "_view_count": null,
            "_view_module_version": "1.2.0",
            "_model_module": "@jupyter-widgets/controls"
          }
        },
        "eab44d5484104fe09b63cfd4fd70319e": {
          "model_module": "@jupyter-widgets/base",
          "model_name": "LayoutModel",
          "model_module_version": "1.2.0",
          "state": {
            "_view_name": "LayoutView",
            "grid_template_rows": null,
            "right": null,
            "justify_content": null,
            "_view_module": "@jupyter-widgets/base",
            "overflow": null,
            "_model_module_version": "1.2.0",
            "_view_count": null,
            "flex_flow": null,
            "width": null,
            "min_width": null,
            "border": null,
            "align_items": null,
            "bottom": null,
            "_model_module": "@jupyter-widgets/base",
            "top": null,
            "grid_column": null,
            "overflow_y": null,
            "overflow_x": null,
            "grid_auto_flow": null,
            "grid_area": null,
            "grid_template_columns": null,
            "flex": null,
            "_model_name": "LayoutModel",
            "justify_items": null,
            "grid_row": null,
            "max_height": null,
            "align_content": null,
            "visibility": null,
            "align_self": null,
            "height": null,
            "min_height": null,
            "padding": null,
            "grid_auto_rows": null,
            "grid_gap": null,
            "max_width": null,
            "order": null,
            "_view_module_version": "1.2.0",
            "grid_template_areas": null,
            "object_position": null,
            "object_fit": null,
            "grid_auto_columns": null,
            "margin": null,
            "display": null,
            "left": null
          }
        },
        "2536fd2b3acd4a7d95d6000f5ff4aed3": {
          "model_module": "@jupyter-widgets/controls",
          "model_name": "HBoxModel",
          "model_module_version": "1.5.0",
          "state": {
            "_view_name": "HBoxView",
            "_dom_classes": [],
            "_model_name": "HBoxModel",
            "_view_module": "@jupyter-widgets/controls",
            "_model_module_version": "1.5.0",
            "_view_count": null,
            "_view_module_version": "1.5.0",
            "box_style": "",
            "layout": "IPY_MODEL_a0f89fbbdad04a89b485ee2e6989ca23",
            "_model_module": "@jupyter-widgets/controls",
            "children": [
              "IPY_MODEL_b5218f9a71434061b1ef5c49a6e58793",
              "IPY_MODEL_7ba42e98ce15402f85113bd24320e16a",
              "IPY_MODEL_d25f70062c0241c89d5fe6a478d37e05"
            ]
          }
        },
        "a0f89fbbdad04a89b485ee2e6989ca23": {
          "model_module": "@jupyter-widgets/base",
          "model_name": "LayoutModel",
          "model_module_version": "1.2.0",
          "state": {
            "_view_name": "LayoutView",
            "grid_template_rows": null,
            "right": null,
            "justify_content": null,
            "_view_module": "@jupyter-widgets/base",
            "overflow": null,
            "_model_module_version": "1.2.0",
            "_view_count": null,
            "flex_flow": null,
            "width": null,
            "min_width": null,
            "border": null,
            "align_items": null,
            "bottom": null,
            "_model_module": "@jupyter-widgets/base",
            "top": null,
            "grid_column": null,
            "overflow_y": null,
            "overflow_x": null,
            "grid_auto_flow": null,
            "grid_area": null,
            "grid_template_columns": null,
            "flex": null,
            "_model_name": "LayoutModel",
            "justify_items": null,
            "grid_row": null,
            "max_height": null,
            "align_content": null,
            "visibility": null,
            "align_self": null,
            "height": null,
            "min_height": null,
            "padding": null,
            "grid_auto_rows": null,
            "grid_gap": null,
            "max_width": null,
            "order": null,
            "_view_module_version": "1.2.0",
            "grid_template_areas": null,
            "object_position": null,
            "object_fit": null,
            "grid_auto_columns": null,
            "margin": null,
            "display": null,
            "left": null
          }
        },
        "b5218f9a71434061b1ef5c49a6e58793": {
          "model_module": "@jupyter-widgets/controls",
          "model_name": "HTMLModel",
          "model_module_version": "1.5.0",
          "state": {
            "_view_name": "HTMLView",
            "style": "IPY_MODEL_92a30af0e51b408c830f820cb1beb65b",
            "_dom_classes": [],
            "description": "",
            "_model_name": "HTMLModel",
            "placeholder": "​",
            "_view_module": "@jupyter-widgets/controls",
            "_model_module_version": "1.5.0",
            "value": "100%",
            "_view_count": null,
            "_view_module_version": "1.5.0",
            "description_tooltip": null,
            "_model_module": "@jupyter-widgets/controls",
            "layout": "IPY_MODEL_23c32de4f6f7499e8610e39d5c0cdd04"
          }
        },
        "7ba42e98ce15402f85113bd24320e16a": {
          "model_module": "@jupyter-widgets/controls",
          "model_name": "FloatProgressModel",
          "model_module_version": "1.5.0",
          "state": {
            "_view_name": "ProgressView",
            "style": "IPY_MODEL_14fae41a3f7842a6a22cef239e464427",
            "_dom_classes": [],
            "description": "",
            "_model_name": "FloatProgressModel",
            "bar_style": "success",
            "max": 2,
            "_view_module": "@jupyter-widgets/controls",
            "_model_module_version": "1.5.0",
            "value": 2,
            "_view_count": null,
            "_view_module_version": "1.5.0",
            "orientation": "horizontal",
            "min": 0,
            "description_tooltip": null,
            "_model_module": "@jupyter-widgets/controls",
            "layout": "IPY_MODEL_438245de6261482d8d75ec4f26cae07a"
          }
        },
        "d25f70062c0241c89d5fe6a478d37e05": {
          "model_module": "@jupyter-widgets/controls",
          "model_name": "HTMLModel",
          "model_module_version": "1.5.0",
          "state": {
            "_view_name": "HTMLView",
            "style": "IPY_MODEL_de6e709cfef3429782fae7b4da9ab7bf",
            "_dom_classes": [],
            "description": "",
            "_model_name": "HTMLModel",
            "placeholder": "​",
            "_view_module": "@jupyter-widgets/controls",
            "_model_module_version": "1.5.0",
            "value": " 2/2 [00:00&lt;00:00,  6.39it/s]",
            "_view_count": null,
            "_view_module_version": "1.5.0",
            "description_tooltip": null,
            "_model_module": "@jupyter-widgets/controls",
            "layout": "IPY_MODEL_7621b71f6a874bb6bcedb8efdeba7f09"
          }
        },
        "92a30af0e51b408c830f820cb1beb65b": {
          "model_module": "@jupyter-widgets/controls",
          "model_name": "DescriptionStyleModel",
          "model_module_version": "1.5.0",
          "state": {
            "_view_name": "StyleView",
            "_model_name": "DescriptionStyleModel",
            "description_width": "",
            "_view_module": "@jupyter-widgets/base",
            "_model_module_version": "1.5.0",
            "_view_count": null,
            "_view_module_version": "1.2.0",
            "_model_module": "@jupyter-widgets/controls"
          }
        },
        "23c32de4f6f7499e8610e39d5c0cdd04": {
          "model_module": "@jupyter-widgets/base",
          "model_name": "LayoutModel",
          "model_module_version": "1.2.0",
          "state": {
            "_view_name": "LayoutView",
            "grid_template_rows": null,
            "right": null,
            "justify_content": null,
            "_view_module": "@jupyter-widgets/base",
            "overflow": null,
            "_model_module_version": "1.2.0",
            "_view_count": null,
            "flex_flow": null,
            "width": null,
            "min_width": null,
            "border": null,
            "align_items": null,
            "bottom": null,
            "_model_module": "@jupyter-widgets/base",
            "top": null,
            "grid_column": null,
            "overflow_y": null,
            "overflow_x": null,
            "grid_auto_flow": null,
            "grid_area": null,
            "grid_template_columns": null,
            "flex": null,
            "_model_name": "LayoutModel",
            "justify_items": null,
            "grid_row": null,
            "max_height": null,
            "align_content": null,
            "visibility": null,
            "align_self": null,
            "height": null,
            "min_height": null,
            "padding": null,
            "grid_auto_rows": null,
            "grid_gap": null,
            "max_width": null,
            "order": null,
            "_view_module_version": "1.2.0",
            "grid_template_areas": null,
            "object_position": null,
            "object_fit": null,
            "grid_auto_columns": null,
            "margin": null,
            "display": null,
            "left": null
          }
        },
        "14fae41a3f7842a6a22cef239e464427": {
          "model_module": "@jupyter-widgets/controls",
          "model_name": "ProgressStyleModel",
          "model_module_version": "1.5.0",
          "state": {
            "_view_name": "StyleView",
            "_model_name": "ProgressStyleModel",
            "description_width": "",
            "_view_module": "@jupyter-widgets/base",
            "_model_module_version": "1.5.0",
            "_view_count": null,
            "_view_module_version": "1.2.0",
            "bar_color": null,
            "_model_module": "@jupyter-widgets/controls"
          }
        },
        "438245de6261482d8d75ec4f26cae07a": {
          "model_module": "@jupyter-widgets/base",
          "model_name": "LayoutModel",
          "model_module_version": "1.2.0",
          "state": {
            "_view_name": "LayoutView",
            "grid_template_rows": null,
            "right": null,
            "justify_content": null,
            "_view_module": "@jupyter-widgets/base",
            "overflow": null,
            "_model_module_version": "1.2.0",
            "_view_count": null,
            "flex_flow": null,
            "width": null,
            "min_width": null,
            "border": null,
            "align_items": null,
            "bottom": null,
            "_model_module": "@jupyter-widgets/base",
            "top": null,
            "grid_column": null,
            "overflow_y": null,
            "overflow_x": null,
            "grid_auto_flow": null,
            "grid_area": null,
            "grid_template_columns": null,
            "flex": null,
            "_model_name": "LayoutModel",
            "justify_items": null,
            "grid_row": null,
            "max_height": null,
            "align_content": null,
            "visibility": null,
            "align_self": null,
            "height": null,
            "min_height": null,
            "padding": null,
            "grid_auto_rows": null,
            "grid_gap": null,
            "max_width": null,
            "order": null,
            "_view_module_version": "1.2.0",
            "grid_template_areas": null,
            "object_position": null,
            "object_fit": null,
            "grid_auto_columns": null,
            "margin": null,
            "display": null,
            "left": null
          }
        },
        "de6e709cfef3429782fae7b4da9ab7bf": {
          "model_module": "@jupyter-widgets/controls",
          "model_name": "DescriptionStyleModel",
          "model_module_version": "1.5.0",
          "state": {
            "_view_name": "StyleView",
            "_model_name": "DescriptionStyleModel",
            "description_width": "",
            "_view_module": "@jupyter-widgets/base",
            "_model_module_version": "1.5.0",
            "_view_count": null,
            "_view_module_version": "1.2.0",
            "_model_module": "@jupyter-widgets/controls"
          }
        },
        "7621b71f6a874bb6bcedb8efdeba7f09": {
          "model_module": "@jupyter-widgets/base",
          "model_name": "LayoutModel",
          "model_module_version": "1.2.0",
          "state": {
            "_view_name": "LayoutView",
            "grid_template_rows": null,
            "right": null,
            "justify_content": null,
            "_view_module": "@jupyter-widgets/base",
            "overflow": null,
            "_model_module_version": "1.2.0",
            "_view_count": null,
            "flex_flow": null,
            "width": null,
            "min_width": null,
            "border": null,
            "align_items": null,
            "bottom": null,
            "_model_module": "@jupyter-widgets/base",
            "top": null,
            "grid_column": null,
            "overflow_y": null,
            "overflow_x": null,
            "grid_auto_flow": null,
            "grid_area": null,
            "grid_template_columns": null,
            "flex": null,
            "_model_name": "LayoutModel",
            "justify_items": null,
            "grid_row": null,
            "max_height": null,
            "align_content": null,
            "visibility": null,
            "align_self": null,
            "height": null,
            "min_height": null,
            "padding": null,
            "grid_auto_rows": null,
            "grid_gap": null,
            "max_width": null,
            "order": null,
            "_view_module_version": "1.2.0",
            "grid_template_areas": null,
            "object_position": null,
            "object_fit": null,
            "grid_auto_columns": null,
            "margin": null,
            "display": null,
            "left": null
          }
        },
        "5a5a088d5d5b4d6fb26cefede2a67e63": {
          "model_module": "@jupyter-widgets/controls",
          "model_name": "HBoxModel",
          "model_module_version": "1.5.0",
          "state": {
            "_view_name": "HBoxView",
            "_dom_classes": [],
            "_model_name": "HBoxModel",
            "_view_module": "@jupyter-widgets/controls",
            "_model_module_version": "1.5.0",
            "_view_count": null,
            "_view_module_version": "1.5.0",
            "box_style": "",
            "layout": "IPY_MODEL_9c9ce7863d054d5399db3074b1bd6197",
            "_model_module": "@jupyter-widgets/controls",
            "children": [
              "IPY_MODEL_886272184175428b8ed85ae4db167489",
              "IPY_MODEL_3aac94b8bc484b44b4f07b0ef3eaa2ec",
              "IPY_MODEL_51030c8030e844ada2a9e78835788cd6"
            ]
          }
        },
        "9c9ce7863d054d5399db3074b1bd6197": {
          "model_module": "@jupyter-widgets/base",
          "model_name": "LayoutModel",
          "model_module_version": "1.2.0",
          "state": {
            "_view_name": "LayoutView",
            "grid_template_rows": null,
            "right": null,
            "justify_content": null,
            "_view_module": "@jupyter-widgets/base",
            "overflow": null,
            "_model_module_version": "1.2.0",
            "_view_count": null,
            "flex_flow": null,
            "width": null,
            "min_width": null,
            "border": null,
            "align_items": null,
            "bottom": null,
            "_model_module": "@jupyter-widgets/base",
            "top": null,
            "grid_column": null,
            "overflow_y": null,
            "overflow_x": null,
            "grid_auto_flow": null,
            "grid_area": null,
            "grid_template_columns": null,
            "flex": null,
            "_model_name": "LayoutModel",
            "justify_items": null,
            "grid_row": null,
            "max_height": null,
            "align_content": null,
            "visibility": null,
            "align_self": null,
            "height": null,
            "min_height": null,
            "padding": null,
            "grid_auto_rows": null,
            "grid_gap": null,
            "max_width": null,
            "order": null,
            "_view_module_version": "1.2.0",
            "grid_template_areas": null,
            "object_position": null,
            "object_fit": null,
            "grid_auto_columns": null,
            "margin": null,
            "display": null,
            "left": null
          }
        },
        "886272184175428b8ed85ae4db167489": {
          "model_module": "@jupyter-widgets/controls",
          "model_name": "HTMLModel",
          "model_module_version": "1.5.0",
          "state": {
            "_view_name": "HTMLView",
            "style": "IPY_MODEL_f8cce40ae63748aaa3cbbd1cb199c097",
            "_dom_classes": [],
            "description": "",
            "_model_name": "HTMLModel",
            "placeholder": "​",
            "_view_module": "@jupyter-widgets/controls",
            "_model_module_version": "1.5.0",
            "value": "100%",
            "_view_count": null,
            "_view_module_version": "1.5.0",
            "description_tooltip": null,
            "_model_module": "@jupyter-widgets/controls",
            "layout": "IPY_MODEL_4878907066b847a1bfc2d036967bdfc1"
          }
        },
        "3aac94b8bc484b44b4f07b0ef3eaa2ec": {
          "model_module": "@jupyter-widgets/controls",
          "model_name": "FloatProgressModel",
          "model_module_version": "1.5.0",
          "state": {
            "_view_name": "ProgressView",
            "style": "IPY_MODEL_febdfd85f2d64a48a25b9e7f9fbc2fcc",
            "_dom_classes": [],
            "description": "",
            "_model_name": "FloatProgressModel",
            "bar_style": "success",
            "max": 10,
            "_view_module": "@jupyter-widgets/controls",
            "_model_module_version": "1.5.0",
            "value": 10,
            "_view_count": null,
            "_view_module_version": "1.5.0",
            "orientation": "horizontal",
            "min": 0,
            "description_tooltip": null,
            "_model_module": "@jupyter-widgets/controls",
            "layout": "IPY_MODEL_b1e22335baa547d9ad78a52710752691"
          }
        },
        "51030c8030e844ada2a9e78835788cd6": {
          "model_module": "@jupyter-widgets/controls",
          "model_name": "HTMLModel",
          "model_module_version": "1.5.0",
          "state": {
            "_view_name": "HTMLView",
            "style": "IPY_MODEL_15e574f359fe4bdcb13806e72e580e4e",
            "_dom_classes": [],
            "description": "",
            "_model_name": "HTMLModel",
            "placeholder": "​",
            "_view_module": "@jupyter-widgets/controls",
            "_model_module_version": "1.5.0",
            "value": " 10/10 [00:08&lt;00:00,  1.40ba/s]",
            "_view_count": null,
            "_view_module_version": "1.5.0",
            "description_tooltip": null,
            "_model_module": "@jupyter-widgets/controls",
            "layout": "IPY_MODEL_3e2b94627d81492fbd645ee798ae1055"
          }
        },
        "f8cce40ae63748aaa3cbbd1cb199c097": {
          "model_module": "@jupyter-widgets/controls",
          "model_name": "DescriptionStyleModel",
          "model_module_version": "1.5.0",
          "state": {
            "_view_name": "StyleView",
            "_model_name": "DescriptionStyleModel",
            "description_width": "",
            "_view_module": "@jupyter-widgets/base",
            "_model_module_version": "1.5.0",
            "_view_count": null,
            "_view_module_version": "1.2.0",
            "_model_module": "@jupyter-widgets/controls"
          }
        },
        "4878907066b847a1bfc2d036967bdfc1": {
          "model_module": "@jupyter-widgets/base",
          "model_name": "LayoutModel",
          "model_module_version": "1.2.0",
          "state": {
            "_view_name": "LayoutView",
            "grid_template_rows": null,
            "right": null,
            "justify_content": null,
            "_view_module": "@jupyter-widgets/base",
            "overflow": null,
            "_model_module_version": "1.2.0",
            "_view_count": null,
            "flex_flow": null,
            "width": null,
            "min_width": null,
            "border": null,
            "align_items": null,
            "bottom": null,
            "_model_module": "@jupyter-widgets/base",
            "top": null,
            "grid_column": null,
            "overflow_y": null,
            "overflow_x": null,
            "grid_auto_flow": null,
            "grid_area": null,
            "grid_template_columns": null,
            "flex": null,
            "_model_name": "LayoutModel",
            "justify_items": null,
            "grid_row": null,
            "max_height": null,
            "align_content": null,
            "visibility": null,
            "align_self": null,
            "height": null,
            "min_height": null,
            "padding": null,
            "grid_auto_rows": null,
            "grid_gap": null,
            "max_width": null,
            "order": null,
            "_view_module_version": "1.2.0",
            "grid_template_areas": null,
            "object_position": null,
            "object_fit": null,
            "grid_auto_columns": null,
            "margin": null,
            "display": null,
            "left": null
          }
        },
        "febdfd85f2d64a48a25b9e7f9fbc2fcc": {
          "model_module": "@jupyter-widgets/controls",
          "model_name": "ProgressStyleModel",
          "model_module_version": "1.5.0",
          "state": {
            "_view_name": "StyleView",
            "_model_name": "ProgressStyleModel",
            "description_width": "",
            "_view_module": "@jupyter-widgets/base",
            "_model_module_version": "1.5.0",
            "_view_count": null,
            "_view_module_version": "1.2.0",
            "bar_color": null,
            "_model_module": "@jupyter-widgets/controls"
          }
        },
        "b1e22335baa547d9ad78a52710752691": {
          "model_module": "@jupyter-widgets/base",
          "model_name": "LayoutModel",
          "model_module_version": "1.2.0",
          "state": {
            "_view_name": "LayoutView",
            "grid_template_rows": null,
            "right": null,
            "justify_content": null,
            "_view_module": "@jupyter-widgets/base",
            "overflow": null,
            "_model_module_version": "1.2.0",
            "_view_count": null,
            "flex_flow": null,
            "width": null,
            "min_width": null,
            "border": null,
            "align_items": null,
            "bottom": null,
            "_model_module": "@jupyter-widgets/base",
            "top": null,
            "grid_column": null,
            "overflow_y": null,
            "overflow_x": null,
            "grid_auto_flow": null,
            "grid_area": null,
            "grid_template_columns": null,
            "flex": null,
            "_model_name": "LayoutModel",
            "justify_items": null,
            "grid_row": null,
            "max_height": null,
            "align_content": null,
            "visibility": null,
            "align_self": null,
            "height": null,
            "min_height": null,
            "padding": null,
            "grid_auto_rows": null,
            "grid_gap": null,
            "max_width": null,
            "order": null,
            "_view_module_version": "1.2.0",
            "grid_template_areas": null,
            "object_position": null,
            "object_fit": null,
            "grid_auto_columns": null,
            "margin": null,
            "display": null,
            "left": null
          }
        },
        "15e574f359fe4bdcb13806e72e580e4e": {
          "model_module": "@jupyter-widgets/controls",
          "model_name": "DescriptionStyleModel",
          "model_module_version": "1.5.0",
          "state": {
            "_view_name": "StyleView",
            "_model_name": "DescriptionStyleModel",
            "description_width": "",
            "_view_module": "@jupyter-widgets/base",
            "_model_module_version": "1.5.0",
            "_view_count": null,
            "_view_module_version": "1.2.0",
            "_model_module": "@jupyter-widgets/controls"
          }
        },
        "3e2b94627d81492fbd645ee798ae1055": {
          "model_module": "@jupyter-widgets/base",
          "model_name": "LayoutModel",
          "model_module_version": "1.2.0",
          "state": {
            "_view_name": "LayoutView",
            "grid_template_rows": null,
            "right": null,
            "justify_content": null,
            "_view_module": "@jupyter-widgets/base",
            "overflow": null,
            "_model_module_version": "1.2.0",
            "_view_count": null,
            "flex_flow": null,
            "width": null,
            "min_width": null,
            "border": null,
            "align_items": null,
            "bottom": null,
            "_model_module": "@jupyter-widgets/base",
            "top": null,
            "grid_column": null,
            "overflow_y": null,
            "overflow_x": null,
            "grid_auto_flow": null,
            "grid_area": null,
            "grid_template_columns": null,
            "flex": null,
            "_model_name": "LayoutModel",
            "justify_items": null,
            "grid_row": null,
            "max_height": null,
            "align_content": null,
            "visibility": null,
            "align_self": null,
            "height": null,
            "min_height": null,
            "padding": null,
            "grid_auto_rows": null,
            "grid_gap": null,
            "max_width": null,
            "order": null,
            "_view_module_version": "1.2.0",
            "grid_template_areas": null,
            "object_position": null,
            "object_fit": null,
            "grid_auto_columns": null,
            "margin": null,
            "display": null,
            "left": null
          }
        },
        "fa876195e45042b9a3c927b9ab3a3813": {
          "model_module": "@jupyter-widgets/controls",
          "model_name": "HBoxModel",
          "model_module_version": "1.5.0",
          "state": {
            "_view_name": "HBoxView",
            "_dom_classes": [],
            "_model_name": "HBoxModel",
            "_view_module": "@jupyter-widgets/controls",
            "_model_module_version": "1.5.0",
            "_view_count": null,
            "_view_module_version": "1.5.0",
            "box_style": "",
            "layout": "IPY_MODEL_a3a0f61711eb42adb2acc18d2a62f5aa",
            "_model_module": "@jupyter-widgets/controls",
            "children": [
              "IPY_MODEL_cb192a7a33ef4d08a0b277a98d69601a",
              "IPY_MODEL_d1eb6bafc38c48d89cba2c638a11bddb",
              "IPY_MODEL_4a8d984096c144a9b6e09ad853178920"
            ]
          }
        },
        "a3a0f61711eb42adb2acc18d2a62f5aa": {
          "model_module": "@jupyter-widgets/base",
          "model_name": "LayoutModel",
          "model_module_version": "1.2.0",
          "state": {
            "_view_name": "LayoutView",
            "grid_template_rows": null,
            "right": null,
            "justify_content": null,
            "_view_module": "@jupyter-widgets/base",
            "overflow": null,
            "_model_module_version": "1.2.0",
            "_view_count": null,
            "flex_flow": null,
            "width": null,
            "min_width": null,
            "border": null,
            "align_items": null,
            "bottom": null,
            "_model_module": "@jupyter-widgets/base",
            "top": null,
            "grid_column": null,
            "overflow_y": null,
            "overflow_x": null,
            "grid_auto_flow": null,
            "grid_area": null,
            "grid_template_columns": null,
            "flex": null,
            "_model_name": "LayoutModel",
            "justify_items": null,
            "grid_row": null,
            "max_height": null,
            "align_content": null,
            "visibility": null,
            "align_self": null,
            "height": null,
            "min_height": null,
            "padding": null,
            "grid_auto_rows": null,
            "grid_gap": null,
            "max_width": null,
            "order": null,
            "_view_module_version": "1.2.0",
            "grid_template_areas": null,
            "object_position": null,
            "object_fit": null,
            "grid_auto_columns": null,
            "margin": null,
            "display": null,
            "left": null
          }
        },
        "cb192a7a33ef4d08a0b277a98d69601a": {
          "model_module": "@jupyter-widgets/controls",
          "model_name": "HTMLModel",
          "model_module_version": "1.5.0",
          "state": {
            "_view_name": "HTMLView",
            "style": "IPY_MODEL_087756c76d7d4b318f632772a11c7960",
            "_dom_classes": [],
            "description": "",
            "_model_name": "HTMLModel",
            "placeholder": "​",
            "_view_module": "@jupyter-widgets/controls",
            "_model_module_version": "1.5.0",
            "value": "100%",
            "_view_count": null,
            "_view_module_version": "1.5.0",
            "description_tooltip": null,
            "_model_module": "@jupyter-widgets/controls",
            "layout": "IPY_MODEL_152dbef1a1624138ac559565dc0799e9"
          }
        },
        "d1eb6bafc38c48d89cba2c638a11bddb": {
          "model_module": "@jupyter-widgets/controls",
          "model_name": "FloatProgressModel",
          "model_module_version": "1.5.0",
          "state": {
            "_view_name": "ProgressView",
            "style": "IPY_MODEL_05b3083ec6c348bfb388fe8d5d8347d3",
            "_dom_classes": [],
            "description": "",
            "_model_name": "FloatProgressModel",
            "bar_style": "success",
            "max": 2,
            "_view_module": "@jupyter-widgets/controls",
            "_model_module_version": "1.5.0",
            "value": 2,
            "_view_count": null,
            "_view_module_version": "1.5.0",
            "orientation": "horizontal",
            "min": 0,
            "description_tooltip": null,
            "_model_module": "@jupyter-widgets/controls",
            "layout": "IPY_MODEL_1ea3120d20164fc3800cd5934c5cca41"
          }
        },
        "4a8d984096c144a9b6e09ad853178920": {
          "model_module": "@jupyter-widgets/controls",
          "model_name": "HTMLModel",
          "model_module_version": "1.5.0",
          "state": {
            "_view_name": "HTMLView",
            "style": "IPY_MODEL_a1eceb299410421badd902ff77f3d113",
            "_dom_classes": [],
            "description": "",
            "_model_name": "HTMLModel",
            "placeholder": "​",
            "_view_module": "@jupyter-widgets/controls",
            "_model_module_version": "1.5.0",
            "value": " 2/2 [00:01&lt;00:00,  1.01ba/s]",
            "_view_count": null,
            "_view_module_version": "1.5.0",
            "description_tooltip": null,
            "_model_module": "@jupyter-widgets/controls",
            "layout": "IPY_MODEL_9ca488cd90c1406cbb58076d8075c315"
          }
        },
        "087756c76d7d4b318f632772a11c7960": {
          "model_module": "@jupyter-widgets/controls",
          "model_name": "DescriptionStyleModel",
          "model_module_version": "1.5.0",
          "state": {
            "_view_name": "StyleView",
            "_model_name": "DescriptionStyleModel",
            "description_width": "",
            "_view_module": "@jupyter-widgets/base",
            "_model_module_version": "1.5.0",
            "_view_count": null,
            "_view_module_version": "1.2.0",
            "_model_module": "@jupyter-widgets/controls"
          }
        },
        "152dbef1a1624138ac559565dc0799e9": {
          "model_module": "@jupyter-widgets/base",
          "model_name": "LayoutModel",
          "model_module_version": "1.2.0",
          "state": {
            "_view_name": "LayoutView",
            "grid_template_rows": null,
            "right": null,
            "justify_content": null,
            "_view_module": "@jupyter-widgets/base",
            "overflow": null,
            "_model_module_version": "1.2.0",
            "_view_count": null,
            "flex_flow": null,
            "width": null,
            "min_width": null,
            "border": null,
            "align_items": null,
            "bottom": null,
            "_model_module": "@jupyter-widgets/base",
            "top": null,
            "grid_column": null,
            "overflow_y": null,
            "overflow_x": null,
            "grid_auto_flow": null,
            "grid_area": null,
            "grid_template_columns": null,
            "flex": null,
            "_model_name": "LayoutModel",
            "justify_items": null,
            "grid_row": null,
            "max_height": null,
            "align_content": null,
            "visibility": null,
            "align_self": null,
            "height": null,
            "min_height": null,
            "padding": null,
            "grid_auto_rows": null,
            "grid_gap": null,
            "max_width": null,
            "order": null,
            "_view_module_version": "1.2.0",
            "grid_template_areas": null,
            "object_position": null,
            "object_fit": null,
            "grid_auto_columns": null,
            "margin": null,
            "display": null,
            "left": null
          }
        },
        "05b3083ec6c348bfb388fe8d5d8347d3": {
          "model_module": "@jupyter-widgets/controls",
          "model_name": "ProgressStyleModel",
          "model_module_version": "1.5.0",
          "state": {
            "_view_name": "StyleView",
            "_model_name": "ProgressStyleModel",
            "description_width": "",
            "_view_module": "@jupyter-widgets/base",
            "_model_module_version": "1.5.0",
            "_view_count": null,
            "_view_module_version": "1.2.0",
            "bar_color": null,
            "_model_module": "@jupyter-widgets/controls"
          }
        },
        "1ea3120d20164fc3800cd5934c5cca41": {
          "model_module": "@jupyter-widgets/base",
          "model_name": "LayoutModel",
          "model_module_version": "1.2.0",
          "state": {
            "_view_name": "LayoutView",
            "grid_template_rows": null,
            "right": null,
            "justify_content": null,
            "_view_module": "@jupyter-widgets/base",
            "overflow": null,
            "_model_module_version": "1.2.0",
            "_view_count": null,
            "flex_flow": null,
            "width": null,
            "min_width": null,
            "border": null,
            "align_items": null,
            "bottom": null,
            "_model_module": "@jupyter-widgets/base",
            "top": null,
            "grid_column": null,
            "overflow_y": null,
            "overflow_x": null,
            "grid_auto_flow": null,
            "grid_area": null,
            "grid_template_columns": null,
            "flex": null,
            "_model_name": "LayoutModel",
            "justify_items": null,
            "grid_row": null,
            "max_height": null,
            "align_content": null,
            "visibility": null,
            "align_self": null,
            "height": null,
            "min_height": null,
            "padding": null,
            "grid_auto_rows": null,
            "grid_gap": null,
            "max_width": null,
            "order": null,
            "_view_module_version": "1.2.0",
            "grid_template_areas": null,
            "object_position": null,
            "object_fit": null,
            "grid_auto_columns": null,
            "margin": null,
            "display": null,
            "left": null
          }
        },
        "a1eceb299410421badd902ff77f3d113": {
          "model_module": "@jupyter-widgets/controls",
          "model_name": "DescriptionStyleModel",
          "model_module_version": "1.5.0",
          "state": {
            "_view_name": "StyleView",
            "_model_name": "DescriptionStyleModel",
            "description_width": "",
            "_view_module": "@jupyter-widgets/base",
            "_model_module_version": "1.5.0",
            "_view_count": null,
            "_view_module_version": "1.2.0",
            "_model_module": "@jupyter-widgets/controls"
          }
        },
        "9ca488cd90c1406cbb58076d8075c315": {
          "model_module": "@jupyter-widgets/base",
          "model_name": "LayoutModel",
          "model_module_version": "1.2.0",
          "state": {
            "_view_name": "LayoutView",
            "grid_template_rows": null,
            "right": null,
            "justify_content": null,
            "_view_module": "@jupyter-widgets/base",
            "overflow": null,
            "_model_module_version": "1.2.0",
            "_view_count": null,
            "flex_flow": null,
            "width": null,
            "min_width": null,
            "border": null,
            "align_items": null,
            "bottom": null,
            "_model_module": "@jupyter-widgets/base",
            "top": null,
            "grid_column": null,
            "overflow_y": null,
            "overflow_x": null,
            "grid_auto_flow": null,
            "grid_area": null,
            "grid_template_columns": null,
            "flex": null,
            "_model_name": "LayoutModel",
            "justify_items": null,
            "grid_row": null,
            "max_height": null,
            "align_content": null,
            "visibility": null,
            "align_self": null,
            "height": null,
            "min_height": null,
            "padding": null,
            "grid_auto_rows": null,
            "grid_gap": null,
            "max_width": null,
            "order": null,
            "_view_module_version": "1.2.0",
            "grid_template_areas": null,
            "object_position": null,
            "object_fit": null,
            "grid_auto_columns": null,
            "margin": null,
            "display": null,
            "left": null
          }
        }
      }
    }
  },
  "cells": [
    {
      "cell_type": "markdown",
      "metadata": {
        "id": "view-in-github",
        "colab_type": "text"
      },
      "source": [
        "<a href=\"https://colab.research.google.com/github/goerlitz/nlp-classification/blob/main/notebooks/10kGNAD/colab/21c_10kGNAD_huggingface_basic_optuna.ipynb\" target=\"_parent\"><img src=\"https://colab.research.google.com/assets/colab-badge.svg\" alt=\"Open In Colab\"/></a>"
      ]
    },
    {
      "cell_type": "markdown",
      "metadata": {
        "id": "FrveYRYD2E9-"
      },
      "source": [
        "# Hyperparameter Optimization with HuggingFace Transformers\n",
        "\n",
        "Adapted from https://huggingface.co/docs/transformers/custom_datasets#sequence-classification-with-imdb-reviews\n",
        "\n",
        "Things we need\n",
        "* a tokenizer\n",
        "* tokenized input data\n",
        "* a pretrained model\n",
        "* evaluation metrics\n",
        "* training parameters\n",
        "* a Trainer instance\n",
        "\n",
        "Notes\n",
        "* [class labels can be included in the model config](https://github.com/huggingface/transformers/pull/2945#issuecomment-781986506) (a bit hacky)\n",
        "* [fp16 is disabled on tesla P100 GPU in pytorch](https://discuss.pytorch.org/t/cnn-fp16-slower-than-fp32-on-tesla-p100/12146)"
      ]
    },
    {
      "cell_type": "markdown",
      "metadata": {
        "id": "JH5VyX6w9AIM"
      },
      "source": [
        "## Prerequisites"
      ]
    },
    {
      "cell_type": "code",
      "metadata": {
        "id": "L2BZ9NGbmTkF"
      },
      "source": [
        "checkpoint = \"distilbert-base-german-cased\"\n",
        "\n",
        "# checkpoint = \"deepset/gbert-base\"\n",
        "\n",
        "# checkpoint = \"deepset/gelectra-base\"\n",
        "\n",
        "project_name = f'10kgnad_hf__{checkpoint.replace(\"/\", \"_\")}'"
      ],
      "execution_count": 1,
      "outputs": []
    },
    {
      "cell_type": "markdown",
      "metadata": {
        "id": "qKqjLlGpWdsi"
      },
      "source": [
        "### Connect Google Drive\n",
        "\n",
        "Will be used to save results"
      ]
    },
    {
      "cell_type": "code",
      "metadata": {
        "colab": {
          "base_uri": "https://localhost:8080/"
        },
        "id": "1YXxAbtZWcxA",
        "outputId": "7b2e8131-4932-4ba8-c27c-a541d6a2ffe6"
      },
      "source": [
        "from google.colab import drive\n",
        "drive.mount('/content/gdrive')"
      ],
      "execution_count": 2,
      "outputs": [
        {
          "output_type": "stream",
          "name": "stdout",
          "text": [
            "Mounted at /content/gdrive\n"
          ]
        }
      ]
    },
    {
      "cell_type": "code",
      "source": [
        "from pathlib import Path\n",
        "\n",
        "# define model path\n",
        "root_path = Path('/content/gdrive/My Drive/')\n",
        "base_path = root_path / 'Colab Notebooks/nlp-classification/'\n",
        "model_path = base_path / 'models'"
      ],
      "metadata": {
        "id": "M3n8HqXwEyK6"
      },
      "execution_count": 3,
      "outputs": []
    },
    {
      "cell_type": "markdown",
      "source": [
        "## Check GPU"
      ],
      "metadata": {
        "id": "5F2oddvs2rNv"
      }
    },
    {
      "cell_type": "code",
      "metadata": {
        "colab": {
          "base_uri": "https://localhost:8080/"
        },
        "id": "JVWRNvQf1cnR",
        "outputId": "e2ecbb9d-2c71-427d-bb1c-be346adaef39"
      },
      "source": [
        "gpu_info = !nvidia-smi\n",
        "gpu_info = '\\n'.join(gpu_info)\n",
        "if gpu_info.find('failed') >= 0:\n",
        "  print('Select the Runtime > \"Change runtime type\" menu to enable a GPU accelerator, ')\n",
        "  print('and then re-execute this cell.')\n",
        "else:\n",
        "  print(gpu_info)"
      ],
      "execution_count": 4,
      "outputs": [
        {
          "output_type": "stream",
          "name": "stdout",
          "text": [
            "Sat Dec 18 18:14:59 2021       \n",
            "+-----------------------------------------------------------------------------+\n",
            "| NVIDIA-SMI 495.44       Driver Version: 460.32.03    CUDA Version: 11.2     |\n",
            "|-------------------------------+----------------------+----------------------+\n",
            "| GPU  Name        Persistence-M| Bus-Id        Disp.A | Volatile Uncorr. ECC |\n",
            "| Fan  Temp  Perf  Pwr:Usage/Cap|         Memory-Usage | GPU-Util  Compute M. |\n",
            "|                               |                      |               MIG M. |\n",
            "|===============================+======================+======================|\n",
            "|   0  Tesla P100-PCIE...  Off  | 00000000:00:04.0 Off |                    0 |\n",
            "| N/A   34C    P0    26W / 250W |      0MiB / 16280MiB |      0%      Default |\n",
            "|                               |                      |                  N/A |\n",
            "+-------------------------------+----------------------+----------------------+\n",
            "                                                                               \n",
            "+-----------------------------------------------------------------------------+\n",
            "| Processes:                                                                  |\n",
            "|  GPU   GI   CI        PID   Type   Process name                  GPU Memory |\n",
            "|        ID   ID                                                   Usage      |\n",
            "|=============================================================================|\n",
            "|  No running processes found                                                 |\n",
            "+-----------------------------------------------------------------------------+\n"
          ]
        }
      ]
    },
    {
      "cell_type": "markdown",
      "metadata": {
        "id": "Bwlw_kI3nHLW"
      },
      "source": [
        "### Install Packages"
      ]
    },
    {
      "cell_type": "code",
      "metadata": {
        "colab": {
          "base_uri": "https://localhost:8080/"
        },
        "id": "0QhKj625lBso",
        "outputId": "aad53ead-bf42-4346-f6da-057ad8690e25"
      },
      "source": [
        "%%time\n",
        "!pip install -q -U transformers datasets >/dev/null\n",
        "!pip install -q -U optuna >/dev/null\n",
        "\n",
        "# check installed version\n",
        "!pip freeze | grep optuna        # optuna==2.10.0\n",
        "!pip freeze | grep transformers  # transformers==4.13.0\n",
        "!pip freeze | grep torch         # torch==1.10.0+cu111"
      ],
      "execution_count": 5,
      "outputs": [
        {
          "output_type": "stream",
          "name": "stdout",
          "text": [
            "optuna==2.10.0\n",
            "transformers==4.14.1\n",
            "torch @ https://download.pytorch.org/whl/cu111/torch-1.10.0%2Bcu111-cp37-cp37m-linux_x86_64.whl\n",
            "torchaudio @ https://download.pytorch.org/whl/cu111/torchaudio-0.10.0%2Bcu111-cp37-cp37m-linux_x86_64.whl\n",
            "torchsummary==1.5.1\n",
            "torchtext==0.11.0\n",
            "torchvision @ https://download.pytorch.org/whl/cu111/torchvision-0.11.1%2Bcu111-cp37-cp37m-linux_x86_64.whl\n",
            "CPU times: user 126 ms, sys: 43.1 ms, total: 169 ms\n",
            "Wall time: 19.1 s\n"
          ]
        }
      ]
    },
    {
      "cell_type": "code",
      "source": [
        "from transformers import logging\n",
        "\n",
        "# hide progress bar when downloading tokenizer and model (a workaround!)\n",
        "logging.get_verbosity = lambda : logging.NOTSET"
      ],
      "metadata": {
        "id": "vbpLzC7DRoR5"
      },
      "execution_count": 6,
      "outputs": []
    },
    {
      "cell_type": "markdown",
      "source": [
        "## Load Dataset"
      ],
      "metadata": {
        "id": "64Q8bFMM7UYg"
      }
    },
    {
      "cell_type": "code",
      "source": [
        "from datasets import load_dataset\n",
        "\n",
        "gnad10k = load_dataset(\"gnad10\")\n",
        "label_names = gnad10k[\"train\"].features[\"label\"].names"
      ],
      "metadata": {
        "colab": {
          "base_uri": "https://localhost:8080/",
          "height": 249,
          "referenced_widgets": [
            "8fa537fe38e54d41b415cce8e5b6ea6d",
            "cadde5e92f434c4caf8b12f5b9d9dd41",
            "bc6c0b386711480dbdbbcf3cd2e7aa68",
            "03133364b61f4d11880c6b5614e5d871",
            "91210f11068a4a069658d9afa9b4ebca",
            "4fddeec05d524beebb527de006234a80",
            "2f52b2532c91418ca7a2b49bcacb27c9",
            "a40258b1b9084731af8e6b5fc69ed6ce",
            "e7be68435efd4c3d989b8fe9be1610d6",
            "230d77525abc45e7945e72519cf85544",
            "257c3a1c59184986a446b9e0e0e267d3",
            "62ac5d473a6b4454bea62e2e60aa2d12",
            "9eb28f756e0a43d9b021801534e98a9f",
            "79247f89c7f049d68500fb27cf9a8067",
            "fa6a2e8d5b2841bf93e703ed8128e723",
            "18ecad5ec2294f3d914b7c27e82ca0d0",
            "c9b5db5913a74f7f88d4e592a520cd58",
            "0e03b9fcf98f4c7a9d4d08fba760a7e9",
            "e11a35e194a6419e8cc3ddb30022fb9f",
            "d69095e27664417f94f48fe0165b90da",
            "d7bb39a0c9f242248dab6220ba098a5c",
            "83f05aa755064a4298e60ec979cc0b74",
            "335f500a62234ff0bba4a0f64f59b1c5",
            "86e6d5f9b2f14793965311ef91432794",
            "cf8027442df1415b8a338afbd7c0c1b1",
            "629999cc52d14b03abe0a8b215e75be3",
            "8cdf47a3fd874921b3965c2259d02e91",
            "75789a5583654979b071f237bf94d589",
            "8cb0a2207cc145769e9059e73e6ff584",
            "5bc92210b914486aa4c234ace926b39d",
            "c267c10e460f492983e9cb76fa1ba1bd",
            "ad17973bd411461cac01ca8a7a5d8b8d",
            "e7628e5812844d3bb8f04ffa8a817c52",
            "185a1551982243eba32d9c8bcc11c13f",
            "6a35710b5e0b4d4587866969c8433d36",
            "45fa7a404bc54592aa505112d6c6df24",
            "6ddfb91ba8bf4d68acc8f020e87ba979",
            "a332ca0f7986433f881e8c4684eb9907",
            "6809814cf4e743feab43d647771dafe1",
            "22aa3a6190134affb04cff8fbeabe42e",
            "6be0058a3f614dc6a7b2452bed372cdc",
            "8394eef56dbf460c8cc06c5959aa5f74",
            "25c6094593314e86aca817db29f6d554",
            "388d909478cc4aa598b04f0a553d8c21",
            "73b449dad5e9495dbd90201afc905273",
            "705507f5aa0f48579bb3c474c0799702",
            "f19238c799c94838be834f6c53529946",
            "6a72f3b914b24e9da24d118f0d7c5b6d",
            "d6560c4e2cc048979dc3b3a6ecb70b4c",
            "dc7c3956fe93460a956903c535135b69",
            "4d974b1a34b74a82bc92ef4eaad6c977",
            "9ee9a66272f74be7960a66c166579211",
            "c210e8eabe4b4983a50a450c422e313b",
            "6888ce5639d048ff8bc7e72487b48a34",
            "eb60eb3d09594fb0bdd9b9ff6ca12ff6",
            "d1a417e820c3405f891806e665ab5360",
            "050b0e29e4704ff58abbfd926bc182af",
            "f1f10d9ccf7a4e8eb2904aaf71cb7ad0",
            "8a1adf43c7bd4e3db71cce16168470ed",
            "59bf5ccda53a42a8af1a7cb877d38859",
            "a044d7887fad4ce1b1a6504b4b78f4ee",
            "7d9d5983f73b4641af1955b3ad9e6d30",
            "5c982e77103e41df9e0b2eabadba3650",
            "b39df05aaad04499bdb110d3b7ca2021",
            "7f37ee0bb1f64414ba5d2d02d24f4758",
            "eab44d5484104fe09b63cfd4fd70319e",
            "2536fd2b3acd4a7d95d6000f5ff4aed3",
            "a0f89fbbdad04a89b485ee2e6989ca23",
            "b5218f9a71434061b1ef5c49a6e58793",
            "7ba42e98ce15402f85113bd24320e16a",
            "d25f70062c0241c89d5fe6a478d37e05",
            "92a30af0e51b408c830f820cb1beb65b",
            "23c32de4f6f7499e8610e39d5c0cdd04",
            "14fae41a3f7842a6a22cef239e464427",
            "438245de6261482d8d75ec4f26cae07a",
            "de6e709cfef3429782fae7b4da9ab7bf",
            "7621b71f6a874bb6bcedb8efdeba7f09"
          ]
        },
        "id": "4aYzOljo7W9X",
        "outputId": "92754fd2-c5c4-4d12-f418-3deb0269fc2e"
      },
      "execution_count": 7,
      "outputs": [
        {
          "output_type": "display_data",
          "data": {
            "application/vnd.jupyter.widget-view+json": {
              "model_id": "8fa537fe38e54d41b415cce8e5b6ea6d",
              "version_minor": 0,
              "version_major": 2
            },
            "text/plain": [
              "Downloading:   0%|          | 0.00/1.50k [00:00<?, ?B/s]"
            ]
          },
          "metadata": {}
        },
        {
          "output_type": "display_data",
          "data": {
            "application/vnd.jupyter.widget-view+json": {
              "model_id": "62ac5d473a6b4454bea62e2e60aa2d12",
              "version_minor": 0,
              "version_major": 2
            },
            "text/plain": [
              "Downloading:   0%|          | 0.00/987 [00:00<?, ?B/s]"
            ]
          },
          "metadata": {}
        },
        {
          "output_type": "stream",
          "name": "stderr",
          "text": [
            "Using custom data configuration default\n"
          ]
        },
        {
          "output_type": "stream",
          "name": "stdout",
          "text": [
            "Downloading and preparing dataset gnad10/default (download: 25.90 MiB, generated: 25.92 MiB, post-processed: Unknown size, total: 51.82 MiB) to /root/.cache/huggingface/datasets/gnad10/default/1.1.0/3a8445be65795ad88270af4d797034c3d99f70f8352ca658c586faf1cf960881...\n"
          ]
        },
        {
          "output_type": "display_data",
          "data": {
            "application/vnd.jupyter.widget-view+json": {
              "model_id": "335f500a62234ff0bba4a0f64f59b1c5",
              "version_minor": 0,
              "version_major": 2
            },
            "text/plain": [
              "Downloading:   0%|          | 0.00/9.67M [00:00<?, ?B/s]"
            ]
          },
          "metadata": {}
        },
        {
          "output_type": "display_data",
          "data": {
            "application/vnd.jupyter.widget-view+json": {
              "model_id": "185a1551982243eba32d9c8bcc11c13f",
              "version_minor": 0,
              "version_major": 2
            },
            "text/plain": [
              "Downloading:   0%|          | 0.00/1.09M [00:00<?, ?B/s]"
            ]
          },
          "metadata": {}
        },
        {
          "output_type": "display_data",
          "data": {
            "application/vnd.jupyter.widget-view+json": {
              "model_id": "73b449dad5e9495dbd90201afc905273",
              "version_minor": 0,
              "version_major": 2
            },
            "text/plain": [
              "0 examples [00:00, ? examples/s]"
            ]
          },
          "metadata": {}
        },
        {
          "output_type": "display_data",
          "data": {
            "application/vnd.jupyter.widget-view+json": {
              "model_id": "d1a417e820c3405f891806e665ab5360",
              "version_minor": 0,
              "version_major": 2
            },
            "text/plain": [
              "0 examples [00:00, ? examples/s]"
            ]
          },
          "metadata": {}
        },
        {
          "output_type": "stream",
          "name": "stdout",
          "text": [
            "Dataset gnad10 downloaded and prepared to /root/.cache/huggingface/datasets/gnad10/default/1.1.0/3a8445be65795ad88270af4d797034c3d99f70f8352ca658c586faf1cf960881. Subsequent calls will reuse this data.\n"
          ]
        },
        {
          "output_type": "display_data",
          "data": {
            "application/vnd.jupyter.widget-view+json": {
              "model_id": "2536fd2b3acd4a7d95d6000f5ff4aed3",
              "version_minor": 0,
              "version_major": 2
            },
            "text/plain": [
              "  0%|          | 0/2 [00:00<?, ?it/s]"
            ]
          },
          "metadata": {}
        }
      ]
    },
    {
      "cell_type": "code",
      "source": [
        "print(gnad10k)\n",
        "print(\"labels:\", label_names)\n",
        "gnad10k[\"train\"][0]"
      ],
      "metadata": {
        "colab": {
          "base_uri": "https://localhost:8080/"
        },
        "id": "CkcJyc-I8bLP",
        "outputId": "817914cd-fe81-4e5a-c77c-a7a8feddab6e"
      },
      "execution_count": 8,
      "outputs": [
        {
          "output_type": "stream",
          "name": "stdout",
          "text": [
            "DatasetDict({\n",
            "    train: Dataset({\n",
            "        features: ['text', 'label'],\n",
            "        num_rows: 9245\n",
            "    })\n",
            "    test: Dataset({\n",
            "        features: ['text', 'label'],\n",
            "        num_rows: 1028\n",
            "    })\n",
            "})\n",
            "labels: ['Web', 'Panorama', 'International', 'Wirtschaft', 'Sport', 'Inland', 'Etat', 'Wissenschaft', 'Kultur']\n"
          ]
        },
        {
          "output_type": "execute_result",
          "data": {
            "text/plain": [
              "{'label': 4,\n",
              " 'text': '21-Jähriger fällt wohl bis Saisonende aus. Wien – Rapid muss wohl bis Saisonende auf Offensivspieler Thomas Murg verzichten. Der im Winter aus Ried gekommene 21-Jährige erlitt beim 0:4-Heimdebakel gegen Admira Wacker Mödling am Samstag einen Teilriss des Innenbandes im linken Knie, wie eine Magnetresonanz-Untersuchung am Donnerstag ergab. Murg erhielt eine Schiene, muss aber nicht operiert werden. Dennoch steht ihm eine mehrwöchige Pause bevor.'}"
            ]
          },
          "metadata": {},
          "execution_count": 8
        }
      ]
    },
    {
      "cell_type": "markdown",
      "source": [
        "## Data Preprocessing\n",
        "\n",
        "* Loading the same Tokenizer that was used with the pretrained model.\n",
        "* Define function to tokenize the text (with truncation to max input length of model.\n",
        "* Run the tokenization"
      ],
      "metadata": {
        "id": "4EUOwFbFPXCy"
      }
    },
    {
      "cell_type": "code",
      "source": [
        "from transformers import AutoTokenizer\n",
        "\n",
        "tokenizer = AutoTokenizer.from_pretrained(checkpoint)\n",
        "\n",
        "def preprocess_function(examples):\n",
        "    return tokenizer(examples[\"text\"], truncation=True)\n",
        "\n",
        "tokenized_gnad10k = gnad10k.map(preprocess_function, batched=True).remove_columns(\"text\")"
      ],
      "metadata": {
        "id": "u7AJ7SGjPaZ0",
        "colab": {
          "base_uri": "https://localhost:8080/",
          "height": 81,
          "referenced_widgets": [
            "5a5a088d5d5b4d6fb26cefede2a67e63",
            "9c9ce7863d054d5399db3074b1bd6197",
            "886272184175428b8ed85ae4db167489",
            "3aac94b8bc484b44b4f07b0ef3eaa2ec",
            "51030c8030e844ada2a9e78835788cd6",
            "f8cce40ae63748aaa3cbbd1cb199c097",
            "4878907066b847a1bfc2d036967bdfc1",
            "febdfd85f2d64a48a25b9e7f9fbc2fcc",
            "b1e22335baa547d9ad78a52710752691",
            "15e574f359fe4bdcb13806e72e580e4e",
            "3e2b94627d81492fbd645ee798ae1055",
            "fa876195e45042b9a3c927b9ab3a3813",
            "a3a0f61711eb42adb2acc18d2a62f5aa",
            "cb192a7a33ef4d08a0b277a98d69601a",
            "d1eb6bafc38c48d89cba2c638a11bddb",
            "4a8d984096c144a9b6e09ad853178920",
            "087756c76d7d4b318f632772a11c7960",
            "152dbef1a1624138ac559565dc0799e9",
            "05b3083ec6c348bfb388fe8d5d8347d3",
            "1ea3120d20164fc3800cd5934c5cca41",
            "a1eceb299410421badd902ff77f3d113",
            "9ca488cd90c1406cbb58076d8075c315"
          ]
        },
        "outputId": "a2869f6c-333f-4f64-85a4-c9416b1bdae5"
      },
      "execution_count": 9,
      "outputs": [
        {
          "output_type": "display_data",
          "data": {
            "application/vnd.jupyter.widget-view+json": {
              "model_id": "5a5a088d5d5b4d6fb26cefede2a67e63",
              "version_minor": 0,
              "version_major": 2
            },
            "text/plain": [
              "  0%|          | 0/10 [00:00<?, ?ba/s]"
            ]
          },
          "metadata": {}
        },
        {
          "output_type": "display_data",
          "data": {
            "application/vnd.jupyter.widget-view+json": {
              "model_id": "fa876195e45042b9a3c927b9ab3a3813",
              "version_minor": 0,
              "version_major": 2
            },
            "text/plain": [
              "  0%|          | 0/2 [00:00<?, ?ba/s]"
            ]
          },
          "metadata": {}
        }
      ]
    },
    {
      "cell_type": "markdown",
      "source": [
        "### Use Dynamic Padding\n",
        "\n",
        "Apply panding only on longest text in batch - this is more efficient than applying padding on the whole dataset."
      ],
      "metadata": {
        "id": "kdmFxnHlSV6x"
      }
    },
    {
      "cell_type": "code",
      "source": [
        "from transformers import DataCollatorWithPadding\n",
        "\n",
        "data_collator = DataCollatorWithPadding(tokenizer=tokenizer)"
      ],
      "metadata": {
        "id": "DhEWeeg2SVCe"
      },
      "execution_count": 10,
      "outputs": []
    },
    {
      "cell_type": "markdown",
      "source": [
        "## Model Setup\n",
        "\n",
        "We want to include the label names and save them together with the model.\n",
        "The only way to do this is to create a Config and put them in. "
      ],
      "metadata": {
        "id": "Eqe_fA8muv5T"
      }
    },
    {
      "cell_type": "code",
      "source": [
        "import optuna\n",
        "from transformers import AutoConfig, AutoModelForSequenceClassification\n",
        "\n",
        "config = AutoConfig.from_pretrained(\n",
        "        checkpoint,\n",
        "        num_labels=len(label_names),\n",
        "        id2label={i: label for i, label in enumerate(label_names)},\n",
        "        label2id={label: i for i, label in enumerate(label_names)},\n",
        "        )\n",
        "\n",
        "def model_init(trial: optuna.Trial):\n",
        "    \"\"\"A function that instantiates the model to be used.\"\"\"\n",
        "    return AutoModelForSequenceClassification.from_pretrained(checkpoint, config=config)"
      ],
      "metadata": {
        "id": "kHPXNqxCgyxQ"
      },
      "execution_count": 11,
      "outputs": []
    },
    {
      "cell_type": "markdown",
      "source": [
        "### Define Evaluation Metrics\n",
        "\n",
        "The funtion that computes the metrics needs to be passed to the Trainer."
      ],
      "metadata": {
        "id": "ufbNYVSIxuhv"
      }
    },
    {
      "cell_type": "code",
      "source": [
        "from sklearn.metrics import f1_score, accuracy_score, precision_score, recall_score\n",
        "import numpy as np\n",
        "from typing import Dict\n",
        "\n",
        "def compute_metrics(eval_preds):\n",
        "    \"\"\"The function that will be used to compute metrics at evaluation.\n",
        "    Must take a :class:`~transformers.EvalPrediction` and return a dictionary\n",
        "    string to metric values.\"\"\"\n",
        "    logits, labels = eval_preds\n",
        "    preds = np.argmax(logits, axis=-1)\n",
        "    return {\n",
        "        \"acc\": accuracy_score(labels, preds),\n",
        "        \"f1\": f1_score(labels, preds, average='macro'),\n",
        "        \"precision\": precision_score(labels, preds, average='macro'),\n",
        "        \"recall\": recall_score(labels, preds, average='macro'),\n",
        "        }\n",
        "\n",
        "\n",
        "def objective(metrics: Dict[str, float]):\n",
        "    \"\"\"A function computing the main optimization objective from the metrics\n",
        "    returned by the :obj:`compute_metrics` method.\n",
        "    To be used in :obj:`Trainer.hyperparameter_search`.\"\"\"\n",
        "    return metrics[\"eval_loss\"]"
      ],
      "metadata": {
        "id": "Hpj1PZYjxtqS"
      },
      "execution_count": 12,
      "outputs": []
    },
    {
      "cell_type": "markdown",
      "metadata": {
        "id": "V9HHIeJrM3_I"
      },
      "source": [
        "## Hyperparameter Tuning"
      ]
    },
    {
      "cell_type": "code",
      "source": [
        "from transformers import TrainingArguments, Trainer\n",
        "\n",
        "def hp_space(trial: optuna.Trial):\n",
        "    \"\"\"A function that defines the hyperparameter search space.\n",
        "    To be used in :obj:`Trainer.hyperparameter_search`.\"\"\"\n",
        "    return {\n",
        "        \"learning_rate\": trial.suggest_float(\"learning_rate\", 1e-5, 1e-4, log=True),\n",
        "        \"num_train_epochs\": trial.suggest_categorical(\"num_train_epochs\", [1]),\n",
        "        \"per_device_train_batch_size\": trial.suggest_categorical(\"per_device_train_batch_size\", [32]),\n",
        "        \"weight_decay\": trial.suggest_float(\"weight_decay\", 1e-3, 1e-2, log=True),\n",
        "        \"label_smoothing_factor\": trial.suggest_float(\"label_smoothing_factor\", 0.0, 0.1),\n",
        "    }\n",
        "\n",
        "def train(trial: optuna.Trial):\n",
        "\n",
        "    # get hyperparameters choice\n",
        "    hp = hp_space(trial)\n",
        "    lr = hp[\"learning_rate\"]\n",
        "    bs = hp[\"per_device_train_batch_size\"]\n",
        "    epochs = hp[\"num_train_epochs\"]\n",
        "    weight_decay = hp[\"weight_decay\"]\n",
        "    label_smoothing_factor = hp[\"label_smoothing_factor\"]\n",
        "\n",
        "    eval_rounds_per_epoch = 5\n",
        "    eval_steps = gnad10k[\"train\"].num_rows / bs // eval_rounds_per_epoch\n",
        "\n",
        "    training_args = TrainingArguments(\n",
        "        output_dir=str(project_name),\n",
        "        report_to=[],\n",
        "        log_level=\"error\",\n",
        "        disable_tqdm=False,\n",
        "\n",
        "        evaluation_strategy=\"steps\",\n",
        "        eval_steps=eval_steps,\n",
        "        save_strategy=\"steps\",\n",
        "        save_steps=eval_steps,\n",
        "        load_best_model_at_end=False,\n",
        "        metric_for_best_model=\"eval_loss\",\n",
        "        greater_is_better=False,\n",
        "\n",
        "        # hyperparameters\n",
        "        num_train_epochs=epochs,\n",
        "        learning_rate=lr,\n",
        "        per_device_train_batch_size=bs,\n",
        "        per_device_eval_batch_size=bs,\n",
        "        weight_decay=weight_decay,\n",
        "        label_smoothing_factor=label_smoothing_factor,\n",
        "\n",
        "        # fp16=True,  # fp16 is disabled on Tesla P100 by pytorch\n",
        "    )\n",
        "\n",
        "    trainer = Trainer(\n",
        "        model_init=model_init,\n",
        "        args=training_args,\n",
        "        train_dataset=tokenized_gnad10k[\"train\"],\n",
        "        eval_dataset=tokenized_gnad10k[\"test\"],\n",
        "        tokenizer=tokenizer,\n",
        "        data_collator=data_collator,\n",
        "        compute_metrics=compute_metrics,\n",
        "    )\n",
        "\n",
        "    trainer.train()\n",
        "\n",
        "    result = trainer.evaluate(eval_dataset=tokenized_gnad10k[\"test\"])\n",
        "\n",
        "    # store eval metrics in trial\n",
        "    for key in result.keys():\n",
        "        if key != \"epoch\":\n",
        "            trial.set_user_attr(key, result[key])\n",
        "            \n",
        "    return result[\"eval_loss\"]\n",
        "\n",
        "\n",
        "db_path = \"/content/gdrive/My Drive/Colab Notebooks/nlp-classification/\"\n",
        "db_name = \"10kgnad_optuna\"\n",
        "study_name = checkpoint + \"_bs32\"\n",
        "\n",
        "study = optuna.create_study(study_name=study_name,\n",
        "                            storage=f\"sqlite:///{db_path}{db_name}.db\",\n",
        "                            load_if_exists=True,)\n",
        "study.optimize(train, n_trials=70)\n",
        "\n",
        "study.best_params"
      ],
      "metadata": {
        "colab": {
          "base_uri": "https://localhost:8080/",
          "height": 1000
        },
        "id": "YqjuJ-2tRMYQ",
        "outputId": "2974bbfc-d371-4040-b4c2-e71b9a40daa1"
      },
      "execution_count": 19,
      "outputs": [
        {
          "metadata": {
            "tags": null
          },
          "name": "stderr",
          "output_type": "stream",
          "text": [
            "\u001b[32m[I 2021-12-18 21:59:52,663]\u001b[0m A new study created in RDB with name: distilbert-base-german-cased_bs32\u001b[0m\n"
          ]
        },
        {
          "data": {
            "text/html": [
              "\n",
              "    <div>\n",
              "      \n",
              "      <progress value='289' max='289' style='width:300px; height:20px; vertical-align: middle;'></progress>\n",
              "      [289/289 05:09, Epoch 1/1]\n",
              "    </div>\n",
              "    <table border=\"1\" class=\"dataframe\">\n",
              "  <thead>\n",
              "    <tr style=\"text-align: left;\">\n",
              "      <th>Step</th>\n",
              "      <th>Training Loss</th>\n",
              "      <th>Validation Loss</th>\n",
              "      <th>Acc</th>\n",
              "      <th>F1</th>\n",
              "      <th>Precision</th>\n",
              "      <th>Recall</th>\n",
              "    </tr>\n",
              "  </thead>\n",
              "  <tbody>\n",
              "    <tr>\n",
              "      <td>57</td>\n",
              "      <td>No log</td>\n",
              "      <td>1.706757</td>\n",
              "      <td>0.557393</td>\n",
              "      <td>0.411463</td>\n",
              "      <td>0.463815</td>\n",
              "      <td>0.432339</td>\n",
              "    </tr>\n",
              "    <tr>\n",
              "      <td>114</td>\n",
              "      <td>No log</td>\n",
              "      <td>1.236785</td>\n",
              "      <td>0.650778</td>\n",
              "      <td>0.547318</td>\n",
              "      <td>0.623140</td>\n",
              "      <td>0.549865</td>\n",
              "    </tr>\n",
              "    <tr>\n",
              "      <td>171</td>\n",
              "      <td>No log</td>\n",
              "      <td>1.012911</td>\n",
              "      <td>0.746109</td>\n",
              "      <td>0.705036</td>\n",
              "      <td>0.773022</td>\n",
              "      <td>0.698558</td>\n",
              "    </tr>\n",
              "    <tr>\n",
              "      <td>228</td>\n",
              "      <td>No log</td>\n",
              "      <td>0.910466</td>\n",
              "      <td>0.764591</td>\n",
              "      <td>0.739661</td>\n",
              "      <td>0.780489</td>\n",
              "      <td>0.724076</td>\n",
              "    </tr>\n",
              "    <tr>\n",
              "      <td>285</td>\n",
              "      <td>No log</td>\n",
              "      <td>0.869748</td>\n",
              "      <td>0.780156</td>\n",
              "      <td>0.757565</td>\n",
              "      <td>0.788226</td>\n",
              "      <td>0.743655</td>\n",
              "    </tr>\n",
              "  </tbody>\n",
              "</table><p>"
            ],
            "text/plain": [
              "<IPython.core.display.HTML object>"
            ]
          },
          "metadata": {},
          "output_type": "display_data"
        },
        {
          "metadata": {
            "tags": null
          },
          "name": "stderr",
          "output_type": "stream",
          "text": [
            "/usr/local/lib/python3.7/dist-packages/sklearn/metrics/_classification.py:1308: UndefinedMetricWarning:\n",
            "\n",
            "Precision is ill-defined and being set to 0.0 in labels with no predicted samples. Use `zero_division` parameter to control this behavior.\n",
            "\n",
            "/usr/local/lib/python3.7/dist-packages/sklearn/metrics/_classification.py:1308: UndefinedMetricWarning:\n",
            "\n",
            "Precision is ill-defined and being set to 0.0 in labels with no predicted samples. Use `zero_division` parameter to control this behavior.\n",
            "\n"
          ]
        },
        {
          "data": {
            "text/html": [
              "\n",
              "    <div>\n",
              "      \n",
              "      <progress value='33' max='33' style='width:300px; height:20px; vertical-align: middle;'></progress>\n",
              "      [33/33 00:09]\n",
              "    </div>\n",
              "    "
            ],
            "text/plain": [
              "<IPython.core.display.HTML object>"
            ]
          },
          "metadata": {},
          "output_type": "display_data"
        },
        {
          "metadata": {
            "tags": null
          },
          "name": "stderr",
          "output_type": "stream",
          "text": [
            "\u001b[32m[I 2021-12-18 22:05:16,651]\u001b[0m Trial 0 finished with value: 0.8694877028465271 and parameters: {'learning_rate': 1.2168529727787439e-05, 'num_train_epochs': 1, 'per_device_train_batch_size': 32, 'weight_decay': 0.0011016250761685322, 'label_smoothing_factor': 0.007080348635779443}. Best is trial 0 with value: 0.8694877028465271.\u001b[0m\n"
          ]
        },
        {
          "data": {
            "text/html": [
              "\n",
              "    <div>\n",
              "      \n",
              "      <progress value='289' max='289' style='width:300px; height:20px; vertical-align: middle;'></progress>\n",
              "      [289/289 05:08, Epoch 1/1]\n",
              "    </div>\n",
              "    <table border=\"1\" class=\"dataframe\">\n",
              "  <thead>\n",
              "    <tr style=\"text-align: left;\">\n",
              "      <th>Step</th>\n",
              "      <th>Training Loss</th>\n",
              "      <th>Validation Loss</th>\n",
              "      <th>Acc</th>\n",
              "      <th>F1</th>\n",
              "      <th>Precision</th>\n",
              "      <th>Recall</th>\n",
              "    </tr>\n",
              "  </thead>\n",
              "  <tbody>\n",
              "    <tr>\n",
              "      <td>57</td>\n",
              "      <td>No log</td>\n",
              "      <td>1.624125</td>\n",
              "      <td>0.582685</td>\n",
              "      <td>0.433389</td>\n",
              "      <td>0.455970</td>\n",
              "      <td>0.457305</td>\n",
              "    </tr>\n",
              "    <tr>\n",
              "      <td>114</td>\n",
              "      <td>No log</td>\n",
              "      <td>1.142339</td>\n",
              "      <td>0.704280</td>\n",
              "      <td>0.635727</td>\n",
              "      <td>0.758159</td>\n",
              "      <td>0.628629</td>\n",
              "    </tr>\n",
              "    <tr>\n",
              "      <td>171</td>\n",
              "      <td>No log</td>\n",
              "      <td>0.936377</td>\n",
              "      <td>0.774319</td>\n",
              "      <td>0.756521</td>\n",
              "      <td>0.788786</td>\n",
              "      <td>0.752246</td>\n",
              "    </tr>\n",
              "    <tr>\n",
              "      <td>228</td>\n",
              "      <td>No log</td>\n",
              "      <td>0.838594</td>\n",
              "      <td>0.793774</td>\n",
              "      <td>0.779797</td>\n",
              "      <td>0.804628</td>\n",
              "      <td>0.766013</td>\n",
              "    </tr>\n",
              "    <tr>\n",
              "      <td>285</td>\n",
              "      <td>No log</td>\n",
              "      <td>0.801813</td>\n",
              "      <td>0.806420</td>\n",
              "      <td>0.791927</td>\n",
              "      <td>0.811348</td>\n",
              "      <td>0.781109</td>\n",
              "    </tr>\n",
              "  </tbody>\n",
              "</table><p>"
            ],
            "text/plain": [
              "<IPython.core.display.HTML object>"
            ]
          },
          "metadata": {},
          "output_type": "display_data"
        },
        {
          "metadata": {
            "tags": null
          },
          "name": "stderr",
          "output_type": "stream",
          "text": [
            "/usr/local/lib/python3.7/dist-packages/sklearn/metrics/_classification.py:1308: UndefinedMetricWarning:\n",
            "\n",
            "Precision is ill-defined and being set to 0.0 in labels with no predicted samples. Use `zero_division` parameter to control this behavior.\n",
            "\n"
          ]
        },
        {
          "data": {
            "text/html": [
              "\n",
              "    <div>\n",
              "      \n",
              "      <progress value='33' max='33' style='width:300px; height:20px; vertical-align: middle;'></progress>\n",
              "      [33/33 00:09]\n",
              "    </div>\n",
              "    "
            ],
            "text/plain": [
              "<IPython.core.display.HTML object>"
            ]
          },
          "metadata": {},
          "output_type": "display_data"
        },
        {
          "metadata": {
            "tags": null
          },
          "name": "stderr",
          "output_type": "stream",
          "text": [
            "\u001b[32m[I 2021-12-18 22:10:40,352]\u001b[0m Trial 1 finished with value: 0.8016016483306885 and parameters: {'learning_rate': 1.4281810234926457e-05, 'num_train_epochs': 1, 'per_device_train_batch_size': 32, 'weight_decay': 0.0027276851772832927, 'label_smoothing_factor': 0.01804830526301555}. Best is trial 1 with value: 0.8016016483306885.\u001b[0m\n"
          ]
        },
        {
          "data": {
            "text/html": [
              "\n",
              "    <div>\n",
              "      \n",
              "      <progress value='289' max='289' style='width:300px; height:20px; vertical-align: middle;'></progress>\n",
              "      [289/289 05:08, Epoch 1/1]\n",
              "    </div>\n",
              "    <table border=\"1\" class=\"dataframe\">\n",
              "  <thead>\n",
              "    <tr style=\"text-align: left;\">\n",
              "      <th>Step</th>\n",
              "      <th>Training Loss</th>\n",
              "      <th>Validation Loss</th>\n",
              "      <th>Acc</th>\n",
              "      <th>F1</th>\n",
              "      <th>Precision</th>\n",
              "      <th>Recall</th>\n",
              "    </tr>\n",
              "  </thead>\n",
              "  <tbody>\n",
              "    <tr>\n",
              "      <td>57</td>\n",
              "      <td>No log</td>\n",
              "      <td>1.407254</td>\n",
              "      <td>0.624514</td>\n",
              "      <td>0.464429</td>\n",
              "      <td>0.570854</td>\n",
              "      <td>0.493975</td>\n",
              "    </tr>\n",
              "    <tr>\n",
              "      <td>114</td>\n",
              "      <td>No log</td>\n",
              "      <td>0.945898</td>\n",
              "      <td>0.750000</td>\n",
              "      <td>0.699986</td>\n",
              "      <td>0.769107</td>\n",
              "      <td>0.688898</td>\n",
              "    </tr>\n",
              "    <tr>\n",
              "      <td>171</td>\n",
              "      <td>No log</td>\n",
              "      <td>0.762753</td>\n",
              "      <td>0.816148</td>\n",
              "      <td>0.808797</td>\n",
              "      <td>0.821077</td>\n",
              "      <td>0.809081</td>\n",
              "    </tr>\n",
              "    <tr>\n",
              "      <td>228</td>\n",
              "      <td>No log</td>\n",
              "      <td>0.676838</td>\n",
              "      <td>0.831712</td>\n",
              "      <td>0.827574</td>\n",
              "      <td>0.841056</td>\n",
              "      <td>0.817653</td>\n",
              "    </tr>\n",
              "    <tr>\n",
              "      <td>285</td>\n",
              "      <td>No log</td>\n",
              "      <td>0.646585</td>\n",
              "      <td>0.830739</td>\n",
              "      <td>0.827523</td>\n",
              "      <td>0.836120</td>\n",
              "      <td>0.821071</td>\n",
              "    </tr>\n",
              "  </tbody>\n",
              "</table><p>"
            ],
            "text/plain": [
              "<IPython.core.display.HTML object>"
            ]
          },
          "metadata": {},
          "output_type": "display_data"
        },
        {
          "metadata": {
            "tags": null
          },
          "name": "stderr",
          "output_type": "stream",
          "text": [
            "/usr/local/lib/python3.7/dist-packages/sklearn/metrics/_classification.py:1308: UndefinedMetricWarning:\n",
            "\n",
            "Precision is ill-defined and being set to 0.0 in labels with no predicted samples. Use `zero_division` parameter to control this behavior.\n",
            "\n"
          ]
        },
        {
          "data": {
            "text/html": [
              "\n",
              "    <div>\n",
              "      \n",
              "      <progress value='33' max='33' style='width:300px; height:20px; vertical-align: middle;'></progress>\n",
              "      [33/33 00:09]\n",
              "    </div>\n",
              "    "
            ],
            "text/plain": [
              "<IPython.core.display.HTML object>"
            ]
          },
          "metadata": {},
          "output_type": "display_data"
        },
        {
          "metadata": {
            "tags": null
          },
          "name": "stderr",
          "output_type": "stream",
          "text": [
            "\u001b[32m[I 2021-12-18 22:16:03,405]\u001b[0m Trial 2 finished with value: 0.6464439034461975 and parameters: {'learning_rate': 1.948765621949202e-05, 'num_train_epochs': 1, 'per_device_train_batch_size': 32, 'weight_decay': 0.001887314639743122, 'label_smoothing_factor': 0.010433138633857076}. Best is trial 2 with value: 0.6464439034461975.\u001b[0m\n"
          ]
        },
        {
          "data": {
            "text/html": [
              "\n",
              "    <div>\n",
              "      \n",
              "      <progress value='289' max='289' style='width:300px; height:20px; vertical-align: middle;'></progress>\n",
              "      [289/289 05:08, Epoch 1/1]\n",
              "    </div>\n",
              "    <table border=\"1\" class=\"dataframe\">\n",
              "  <thead>\n",
              "    <tr style=\"text-align: left;\">\n",
              "      <th>Step</th>\n",
              "      <th>Training Loss</th>\n",
              "      <th>Validation Loss</th>\n",
              "      <th>Acc</th>\n",
              "      <th>F1</th>\n",
              "      <th>Precision</th>\n",
              "      <th>Recall</th>\n",
              "    </tr>\n",
              "  </thead>\n",
              "  <tbody>\n",
              "    <tr>\n",
              "      <td>57</td>\n",
              "      <td>No log</td>\n",
              "      <td>1.016341</td>\n",
              "      <td>0.728599</td>\n",
              "      <td>0.671907</td>\n",
              "      <td>0.773226</td>\n",
              "      <td>0.650258</td>\n",
              "    </tr>\n",
              "    <tr>\n",
              "      <td>114</td>\n",
              "      <td>No log</td>\n",
              "      <td>0.699961</td>\n",
              "      <td>0.815175</td>\n",
              "      <td>0.808207</td>\n",
              "      <td>0.846586</td>\n",
              "      <td>0.791322</td>\n",
              "    </tr>\n",
              "    <tr>\n",
              "      <td>171</td>\n",
              "      <td>No log</td>\n",
              "      <td>0.561274</td>\n",
              "      <td>0.837549</td>\n",
              "      <td>0.834780</td>\n",
              "      <td>0.838086</td>\n",
              "      <td>0.840291</td>\n",
              "    </tr>\n",
              "    <tr>\n",
              "      <td>228</td>\n",
              "      <td>No log</td>\n",
              "      <td>0.509563</td>\n",
              "      <td>0.856031</td>\n",
              "      <td>0.857300</td>\n",
              "      <td>0.860322</td>\n",
              "      <td>0.856287</td>\n",
              "    </tr>\n",
              "    <tr>\n",
              "      <td>285</td>\n",
              "      <td>No log</td>\n",
              "      <td>0.488981</td>\n",
              "      <td>0.857004</td>\n",
              "      <td>0.857792</td>\n",
              "      <td>0.858496</td>\n",
              "      <td>0.857820</td>\n",
              "    </tr>\n",
              "  </tbody>\n",
              "</table><p>"
            ],
            "text/plain": [
              "<IPython.core.display.HTML object>"
            ]
          },
          "metadata": {},
          "output_type": "display_data"
        },
        {
          "data": {
            "text/html": [
              "\n",
              "    <div>\n",
              "      \n",
              "      <progress value='33' max='33' style='width:300px; height:20px; vertical-align: middle;'></progress>\n",
              "      [33/33 00:09]\n",
              "    </div>\n",
              "    "
            ],
            "text/plain": [
              "<IPython.core.display.HTML object>"
            ]
          },
          "metadata": {},
          "output_type": "display_data"
        },
        {
          "metadata": {
            "tags": null
          },
          "name": "stderr",
          "output_type": "stream",
          "text": [
            "\u001b[32m[I 2021-12-18 22:21:26,467]\u001b[0m Trial 3 finished with value: 0.4889587163925171 and parameters: {'learning_rate': 3.6058712298915115e-05, 'num_train_epochs': 1, 'per_device_train_batch_size': 32, 'weight_decay': 0.0030736627380008852, 'label_smoothing_factor': 0.007577974813035949}. Best is trial 3 with value: 0.4889587163925171.\u001b[0m\n"
          ]
        },
        {
          "data": {
            "text/html": [
              "\n",
              "    <div>\n",
              "      \n",
              "      <progress value='289' max='289' style='width:300px; height:20px; vertical-align: middle;'></progress>\n",
              "      [289/289 05:08, Epoch 1/1]\n",
              "    </div>\n",
              "    <table border=\"1\" class=\"dataframe\">\n",
              "  <thead>\n",
              "    <tr style=\"text-align: left;\">\n",
              "      <th>Step</th>\n",
              "      <th>Training Loss</th>\n",
              "      <th>Validation Loss</th>\n",
              "      <th>Acc</th>\n",
              "      <th>F1</th>\n",
              "      <th>Precision</th>\n",
              "      <th>Recall</th>\n",
              "    </tr>\n",
              "  </thead>\n",
              "  <tbody>\n",
              "    <tr>\n",
              "      <td>57</td>\n",
              "      <td>No log</td>\n",
              "      <td>1.736774</td>\n",
              "      <td>0.550584</td>\n",
              "      <td>0.405265</td>\n",
              "      <td>0.462308</td>\n",
              "      <td>0.425731</td>\n",
              "    </tr>\n",
              "    <tr>\n",
              "      <td>114</td>\n",
              "      <td>No log</td>\n",
              "      <td>1.279546</td>\n",
              "      <td>0.642996</td>\n",
              "      <td>0.534565</td>\n",
              "      <td>0.618976</td>\n",
              "      <td>0.539904</td>\n",
              "    </tr>\n",
              "    <tr>\n",
              "      <td>171</td>\n",
              "      <td>No log</td>\n",
              "      <td>1.055506</td>\n",
              "      <td>0.738327</td>\n",
              "      <td>0.690623</td>\n",
              "      <td>0.765479</td>\n",
              "      <td>0.684554</td>\n",
              "    </tr>\n",
              "    <tr>\n",
              "      <td>228</td>\n",
              "      <td>No log</td>\n",
              "      <td>0.955021</td>\n",
              "      <td>0.760700</td>\n",
              "      <td>0.731925</td>\n",
              "      <td>0.776861</td>\n",
              "      <td>0.717179</td>\n",
              "    </tr>\n",
              "    <tr>\n",
              "      <td>285</td>\n",
              "      <td>No log</td>\n",
              "      <td>0.915169</td>\n",
              "      <td>0.772374</td>\n",
              "      <td>0.747679</td>\n",
              "      <td>0.781048</td>\n",
              "      <td>0.732878</td>\n",
              "    </tr>\n",
              "  </tbody>\n",
              "</table><p>"
            ],
            "text/plain": [
              "<IPython.core.display.HTML object>"
            ]
          },
          "metadata": {},
          "output_type": "display_data"
        },
        {
          "metadata": {
            "tags": null
          },
          "name": "stderr",
          "output_type": "stream",
          "text": [
            "/usr/local/lib/python3.7/dist-packages/sklearn/metrics/_classification.py:1308: UndefinedMetricWarning:\n",
            "\n",
            "Precision is ill-defined and being set to 0.0 in labels with no predicted samples. Use `zero_division` parameter to control this behavior.\n",
            "\n",
            "/usr/local/lib/python3.7/dist-packages/sklearn/metrics/_classification.py:1308: UndefinedMetricWarning:\n",
            "\n",
            "Precision is ill-defined and being set to 0.0 in labels with no predicted samples. Use `zero_division` parameter to control this behavior.\n",
            "\n"
          ]
        },
        {
          "data": {
            "text/html": [
              "\n",
              "    <div>\n",
              "      \n",
              "      <progress value='33' max='33' style='width:300px; height:20px; vertical-align: middle;'></progress>\n",
              "      [33/33 00:09]\n",
              "    </div>\n",
              "    "
            ],
            "text/plain": [
              "<IPython.core.display.HTML object>"
            ]
          },
          "metadata": {},
          "output_type": "display_data"
        },
        {
          "metadata": {
            "tags": null
          },
          "name": "stderr",
          "output_type": "stream",
          "text": [
            "\u001b[32m[I 2021-12-18 22:26:49,473]\u001b[0m Trial 4 finished with value: 0.914908766746521 and parameters: {'learning_rate': 1.1574919533404579e-05, 'num_train_epochs': 1, 'per_device_train_batch_size': 32, 'weight_decay': 0.0016466177516886436, 'label_smoothing_factor': 0.015826536419386406}. Best is trial 3 with value: 0.4889587163925171.\u001b[0m\n"
          ]
        },
        {
          "data": {
            "text/html": [
              "\n",
              "    <div>\n",
              "      \n",
              "      <progress value='289' max='289' style='width:300px; height:20px; vertical-align: middle;'></progress>\n",
              "      [289/289 05:08, Epoch 1/1]\n",
              "    </div>\n",
              "    <table border=\"1\" class=\"dataframe\">\n",
              "  <thead>\n",
              "    <tr style=\"text-align: left;\">\n",
              "      <th>Step</th>\n",
              "      <th>Training Loss</th>\n",
              "      <th>Validation Loss</th>\n",
              "      <th>Acc</th>\n",
              "      <th>F1</th>\n",
              "      <th>Precision</th>\n",
              "      <th>Recall</th>\n",
              "    </tr>\n",
              "  </thead>\n",
              "  <tbody>\n",
              "    <tr>\n",
              "      <td>57</td>\n",
              "      <td>No log</td>\n",
              "      <td>0.942898</td>\n",
              "      <td>0.789883</td>\n",
              "      <td>0.781260</td>\n",
              "      <td>0.812923</td>\n",
              "      <td>0.775681</td>\n",
              "    </tr>\n",
              "    <tr>\n",
              "      <td>114</td>\n",
              "      <td>No log</td>\n",
              "      <td>0.757733</td>\n",
              "      <td>0.840467</td>\n",
              "      <td>0.840320</td>\n",
              "      <td>0.857700</td>\n",
              "      <td>0.829764</td>\n",
              "    </tr>\n",
              "    <tr>\n",
              "      <td>171</td>\n",
              "      <td>No log</td>\n",
              "      <td>0.719956</td>\n",
              "      <td>0.855058</td>\n",
              "      <td>0.852031</td>\n",
              "      <td>0.857109</td>\n",
              "      <td>0.857100</td>\n",
              "    </tr>\n",
              "    <tr>\n",
              "      <td>228</td>\n",
              "      <td>No log</td>\n",
              "      <td>0.672807</td>\n",
              "      <td>0.871595</td>\n",
              "      <td>0.873638</td>\n",
              "      <td>0.872842</td>\n",
              "      <td>0.874826</td>\n",
              "    </tr>\n",
              "    <tr>\n",
              "      <td>285</td>\n",
              "      <td>No log</td>\n",
              "      <td>0.662433</td>\n",
              "      <td>0.868677</td>\n",
              "      <td>0.869285</td>\n",
              "      <td>0.869769</td>\n",
              "      <td>0.869285</td>\n",
              "    </tr>\n",
              "  </tbody>\n",
              "</table><p>"
            ],
            "text/plain": [
              "<IPython.core.display.HTML object>"
            ]
          },
          "metadata": {},
          "output_type": "display_data"
        },
        {
          "data": {
            "text/html": [
              "\n",
              "    <div>\n",
              "      \n",
              "      <progress value='33' max='33' style='width:300px; height:20px; vertical-align: middle;'></progress>\n",
              "      [33/33 00:09]\n",
              "    </div>\n",
              "    "
            ],
            "text/plain": [
              "<IPython.core.display.HTML object>"
            ]
          },
          "metadata": {},
          "output_type": "display_data"
        },
        {
          "metadata": {
            "tags": null
          },
          "name": "stderr",
          "output_type": "stream",
          "text": [
            "\u001b[32m[I 2021-12-18 22:32:12,838]\u001b[0m Trial 5 finished with value: 0.6624715328216553 and parameters: {'learning_rate': 6.489079698919251e-05, 'num_train_epochs': 1, 'per_device_train_batch_size': 32, 'weight_decay': 0.0025777694254033065, 'label_smoothing_factor': 0.06869142376070314}. Best is trial 3 with value: 0.4889587163925171.\u001b[0m\n"
          ]
        },
        {
          "data": {
            "text/html": [
              "\n",
              "    <div>\n",
              "      \n",
              "      <progress value='289' max='289' style='width:300px; height:20px; vertical-align: middle;'></progress>\n",
              "      [289/289 05:09, Epoch 1/1]\n",
              "    </div>\n",
              "    <table border=\"1\" class=\"dataframe\">\n",
              "  <thead>\n",
              "    <tr style=\"text-align: left;\">\n",
              "      <th>Step</th>\n",
              "      <th>Training Loss</th>\n",
              "      <th>Validation Loss</th>\n",
              "      <th>Acc</th>\n",
              "      <th>F1</th>\n",
              "      <th>Precision</th>\n",
              "      <th>Recall</th>\n",
              "    </tr>\n",
              "  </thead>\n",
              "  <tbody>\n",
              "    <tr>\n",
              "      <td>57</td>\n",
              "      <td>No log</td>\n",
              "      <td>1.780103</td>\n",
              "      <td>0.553502</td>\n",
              "      <td>0.406979</td>\n",
              "      <td>0.458962</td>\n",
              "      <td>0.428863</td>\n",
              "    </tr>\n",
              "    <tr>\n",
              "      <td>114</td>\n",
              "      <td>No log</td>\n",
              "      <td>1.370490</td>\n",
              "      <td>0.647860</td>\n",
              "      <td>0.545292</td>\n",
              "      <td>0.626252</td>\n",
              "      <td>0.548209</td>\n",
              "    </tr>\n",
              "    <tr>\n",
              "      <td>171</td>\n",
              "      <td>No log</td>\n",
              "      <td>1.175545</td>\n",
              "      <td>0.747082</td>\n",
              "      <td>0.709510</td>\n",
              "      <td>0.775524</td>\n",
              "      <td>0.700788</td>\n",
              "    </tr>\n",
              "    <tr>\n",
              "      <td>228</td>\n",
              "      <td>No log</td>\n",
              "      <td>1.089711</td>\n",
              "      <td>0.764591</td>\n",
              "      <td>0.741154</td>\n",
              "      <td>0.775361</td>\n",
              "      <td>0.726623</td>\n",
              "    </tr>\n",
              "    <tr>\n",
              "      <td>285</td>\n",
              "      <td>No log</td>\n",
              "      <td>1.055706</td>\n",
              "      <td>0.775292</td>\n",
              "      <td>0.751291</td>\n",
              "      <td>0.781817</td>\n",
              "      <td>0.737800</td>\n",
              "    </tr>\n",
              "  </tbody>\n",
              "</table><p>"
            ],
            "text/plain": [
              "<IPython.core.display.HTML object>"
            ]
          },
          "metadata": {},
          "output_type": "display_data"
        },
        {
          "metadata": {
            "tags": null
          },
          "name": "stderr",
          "output_type": "stream",
          "text": [
            "/usr/local/lib/python3.7/dist-packages/sklearn/metrics/_classification.py:1308: UndefinedMetricWarning:\n",
            "\n",
            "Precision is ill-defined and being set to 0.0 in labels with no predicted samples. Use `zero_division` parameter to control this behavior.\n",
            "\n",
            "/usr/local/lib/python3.7/dist-packages/sklearn/metrics/_classification.py:1308: UndefinedMetricWarning:\n",
            "\n",
            "Precision is ill-defined and being set to 0.0 in labels with no predicted samples. Use `zero_division` parameter to control this behavior.\n",
            "\n"
          ]
        },
        {
          "data": {
            "text/html": [
              "\n",
              "    <div>\n",
              "      \n",
              "      <progress value='33' max='33' style='width:300px; height:20px; vertical-align: middle;'></progress>\n",
              "      [33/33 00:09]\n",
              "    </div>\n",
              "    "
            ],
            "text/plain": [
              "<IPython.core.display.HTML object>"
            ]
          },
          "metadata": {},
          "output_type": "display_data"
        },
        {
          "metadata": {
            "tags": null
          },
          "name": "stderr",
          "output_type": "stream",
          "text": [
            "\u001b[32m[I 2021-12-18 22:37:36,729]\u001b[0m Trial 6 finished with value: 1.0554828643798828 and parameters: {'learning_rate': 1.1440070687323705e-05, 'num_train_epochs': 1, 'per_device_train_batch_size': 32, 'weight_decay': 0.0038683594078962333, 'label_smoothing_factor': 0.08179320783928892}. Best is trial 3 with value: 0.4889587163925171.\u001b[0m\n"
          ]
        },
        {
          "data": {
            "text/html": [
              "\n",
              "    <div>\n",
              "      \n",
              "      <progress value='289' max='289' style='width:300px; height:20px; vertical-align: middle;'></progress>\n",
              "      [289/289 05:08, Epoch 1/1]\n",
              "    </div>\n",
              "    <table border=\"1\" class=\"dataframe\">\n",
              "  <thead>\n",
              "    <tr style=\"text-align: left;\">\n",
              "      <th>Step</th>\n",
              "      <th>Training Loss</th>\n",
              "      <th>Validation Loss</th>\n",
              "      <th>Acc</th>\n",
              "      <th>F1</th>\n",
              "      <th>Precision</th>\n",
              "      <th>Recall</th>\n",
              "    </tr>\n",
              "  </thead>\n",
              "  <tbody>\n",
              "    <tr>\n",
              "      <td>57</td>\n",
              "      <td>No log</td>\n",
              "      <td>0.991051</td>\n",
              "      <td>0.801556</td>\n",
              "      <td>0.798972</td>\n",
              "      <td>0.826133</td>\n",
              "      <td>0.791273</td>\n",
              "    </tr>\n",
              "    <tr>\n",
              "      <td>114</td>\n",
              "      <td>No log</td>\n",
              "      <td>0.839750</td>\n",
              "      <td>0.845331</td>\n",
              "      <td>0.844538</td>\n",
              "      <td>0.863981</td>\n",
              "      <td>0.832817</td>\n",
              "    </tr>\n",
              "    <tr>\n",
              "      <td>171</td>\n",
              "      <td>No log</td>\n",
              "      <td>0.791446</td>\n",
              "      <td>0.852140</td>\n",
              "      <td>0.849923</td>\n",
              "      <td>0.856002</td>\n",
              "      <td>0.853413</td>\n",
              "    </tr>\n",
              "    <tr>\n",
              "      <td>228</td>\n",
              "      <td>No log</td>\n",
              "      <td>0.745909</td>\n",
              "      <td>0.876459</td>\n",
              "      <td>0.875157</td>\n",
              "      <td>0.874787</td>\n",
              "      <td>0.875899</td>\n",
              "    </tr>\n",
              "    <tr>\n",
              "      <td>285</td>\n",
              "      <td>No log</td>\n",
              "      <td>0.738997</td>\n",
              "      <td>0.877432</td>\n",
              "      <td>0.876161</td>\n",
              "      <td>0.875758</td>\n",
              "      <td>0.877094</td>\n",
              "    </tr>\n",
              "  </tbody>\n",
              "</table><p>"
            ],
            "text/plain": [
              "<IPython.core.display.HTML object>"
            ]
          },
          "metadata": {},
          "output_type": "display_data"
        },
        {
          "data": {
            "text/html": [
              "\n",
              "    <div>\n",
              "      \n",
              "      <progress value='33' max='33' style='width:300px; height:20px; vertical-align: middle;'></progress>\n",
              "      [33/33 00:09]\n",
              "    </div>\n",
              "    "
            ],
            "text/plain": [
              "<IPython.core.display.HTML object>"
            ]
          },
          "metadata": {},
          "output_type": "display_data"
        },
        {
          "metadata": {
            "tags": null
          },
          "name": "stderr",
          "output_type": "stream",
          "text": [
            "\u001b[32m[I 2021-12-18 22:43:00,325]\u001b[0m Trial 7 finished with value: 0.739052414894104 and parameters: {'learning_rate': 6.117659613639623e-05, 'num_train_epochs': 1, 'per_device_train_batch_size': 32, 'weight_decay': 0.0021876790609985553, 'label_smoothing_factor': 0.09322342987320054}. Best is trial 3 with value: 0.4889587163925171.\u001b[0m\n"
          ]
        },
        {
          "data": {
            "text/html": [
              "\n",
              "    <div>\n",
              "      \n",
              "      <progress value='289' max='289' style='width:300px; height:20px; vertical-align: middle;'></progress>\n",
              "      [289/289 05:08, Epoch 1/1]\n",
              "    </div>\n",
              "    <table border=\"1\" class=\"dataframe\">\n",
              "  <thead>\n",
              "    <tr style=\"text-align: left;\">\n",
              "      <th>Step</th>\n",
              "      <th>Training Loss</th>\n",
              "      <th>Validation Loss</th>\n",
              "      <th>Acc</th>\n",
              "      <th>F1</th>\n",
              "      <th>Precision</th>\n",
              "      <th>Recall</th>\n",
              "    </tr>\n",
              "  </thead>\n",
              "  <tbody>\n",
              "    <tr>\n",
              "      <td>57</td>\n",
              "      <td>No log</td>\n",
              "      <td>0.900650</td>\n",
              "      <td>0.791829</td>\n",
              "      <td>0.783648</td>\n",
              "      <td>0.814564</td>\n",
              "      <td>0.777279</td>\n",
              "    </tr>\n",
              "    <tr>\n",
              "      <td>114</td>\n",
              "      <td>No log</td>\n",
              "      <td>0.717382</td>\n",
              "      <td>0.840467</td>\n",
              "      <td>0.840633</td>\n",
              "      <td>0.858131</td>\n",
              "      <td>0.830111</td>\n",
              "    </tr>\n",
              "    <tr>\n",
              "      <td>171</td>\n",
              "      <td>No log</td>\n",
              "      <td>0.671838</td>\n",
              "      <td>0.854086</td>\n",
              "      <td>0.850453</td>\n",
              "      <td>0.856193</td>\n",
              "      <td>0.854660</td>\n",
              "    </tr>\n",
              "    <tr>\n",
              "      <td>228</td>\n",
              "      <td>No log</td>\n",
              "      <td>0.625034</td>\n",
              "      <td>0.869650</td>\n",
              "      <td>0.869765</td>\n",
              "      <td>0.869989</td>\n",
              "      <td>0.869788</td>\n",
              "    </tr>\n",
              "    <tr>\n",
              "      <td>285</td>\n",
              "      <td>No log</td>\n",
              "      <td>0.613449</td>\n",
              "      <td>0.873541</td>\n",
              "      <td>0.873513</td>\n",
              "      <td>0.874270</td>\n",
              "      <td>0.873220</td>\n",
              "    </tr>\n",
              "  </tbody>\n",
              "</table><p>"
            ],
            "text/plain": [
              "<IPython.core.display.HTML object>"
            ]
          },
          "metadata": {},
          "output_type": "display_data"
        },
        {
          "data": {
            "text/html": [
              "\n",
              "    <div>\n",
              "      \n",
              "      <progress value='33' max='33' style='width:300px; height:20px; vertical-align: middle;'></progress>\n",
              "      [33/33 00:09]\n",
              "    </div>\n",
              "    "
            ],
            "text/plain": [
              "<IPython.core.display.HTML object>"
            ]
          },
          "metadata": {},
          "output_type": "display_data"
        },
        {
          "metadata": {
            "tags": null
          },
          "name": "stderr",
          "output_type": "stream",
          "text": [
            "\u001b[32m[I 2021-12-18 22:48:23,774]\u001b[0m Trial 8 finished with value: 0.6134863495826721 and parameters: {'learning_rate': 6.704202068404093e-05, 'num_train_epochs': 1, 'per_device_train_batch_size': 32, 'weight_decay': 0.003613717488550159, 'label_smoothing_factor': 0.05537260044610775}. Best is trial 3 with value: 0.4889587163925171.\u001b[0m\n"
          ]
        },
        {
          "data": {
            "text/html": [
              "\n",
              "    <div>\n",
              "      \n",
              "      <progress value='289' max='289' style='width:300px; height:20px; vertical-align: middle;'></progress>\n",
              "      [289/289 05:08, Epoch 1/1]\n",
              "    </div>\n",
              "    <table border=\"1\" class=\"dataframe\">\n",
              "  <thead>\n",
              "    <tr style=\"text-align: left;\">\n",
              "      <th>Step</th>\n",
              "      <th>Training Loss</th>\n",
              "      <th>Validation Loss</th>\n",
              "      <th>Acc</th>\n",
              "      <th>F1</th>\n",
              "      <th>Precision</th>\n",
              "      <th>Recall</th>\n",
              "    </tr>\n",
              "  </thead>\n",
              "  <tbody>\n",
              "    <tr>\n",
              "      <td>57</td>\n",
              "      <td>No log</td>\n",
              "      <td>0.794949</td>\n",
              "      <td>0.785992</td>\n",
              "      <td>0.773700</td>\n",
              "      <td>0.808963</td>\n",
              "      <td>0.769833</td>\n",
              "    </tr>\n",
              "    <tr>\n",
              "      <td>114</td>\n",
              "      <td>No log</td>\n",
              "      <td>0.585317</td>\n",
              "      <td>0.845331</td>\n",
              "      <td>0.844029</td>\n",
              "      <td>0.858796</td>\n",
              "      <td>0.835196</td>\n",
              "    </tr>\n",
              "    <tr>\n",
              "      <td>171</td>\n",
              "      <td>No log</td>\n",
              "      <td>0.535841</td>\n",
              "      <td>0.858949</td>\n",
              "      <td>0.854358</td>\n",
              "      <td>0.858559</td>\n",
              "      <td>0.859816</td>\n",
              "    </tr>\n",
              "    <tr>\n",
              "      <td>228</td>\n",
              "      <td>No log</td>\n",
              "      <td>0.476965</td>\n",
              "      <td>0.871595</td>\n",
              "      <td>0.870221</td>\n",
              "      <td>0.871600</td>\n",
              "      <td>0.869196</td>\n",
              "    </tr>\n",
              "    <tr>\n",
              "      <td>285</td>\n",
              "      <td>No log</td>\n",
              "      <td>0.464814</td>\n",
              "      <td>0.873541</td>\n",
              "      <td>0.873024</td>\n",
              "      <td>0.873092</td>\n",
              "      <td>0.873384</td>\n",
              "    </tr>\n",
              "  </tbody>\n",
              "</table><p>"
            ],
            "text/plain": [
              "<IPython.core.display.HTML object>"
            ]
          },
          "metadata": {},
          "output_type": "display_data"
        },
        {
          "data": {
            "text/html": [
              "\n",
              "    <div>\n",
              "      \n",
              "      <progress value='33' max='33' style='width:300px; height:20px; vertical-align: middle;'></progress>\n",
              "      [33/33 00:09]\n",
              "    </div>\n",
              "    "
            ],
            "text/plain": [
              "<IPython.core.display.HTML object>"
            ]
          },
          "metadata": {},
          "output_type": "display_data"
        },
        {
          "metadata": {
            "tags": null
          },
          "name": "stderr",
          "output_type": "stream",
          "text": [
            "\u001b[32m[I 2021-12-18 22:53:47,529]\u001b[0m Trial 9 finished with value: 0.4648672044277191 and parameters: {'learning_rate': 7.179641265858097e-05, 'num_train_epochs': 1, 'per_device_train_batch_size': 32, 'weight_decay': 0.0018766389219752608, 'label_smoothing_factor': 0.0187773529700651}. Best is trial 9 with value: 0.4648672044277191.\u001b[0m\n"
          ]
        },
        {
          "data": {
            "text/html": [
              "\n",
              "    <div>\n",
              "      \n",
              "      <progress value='289' max='289' style='width:300px; height:20px; vertical-align: middle;'></progress>\n",
              "      [289/289 05:08, Epoch 1/1]\n",
              "    </div>\n",
              "    <table border=\"1\" class=\"dataframe\">\n",
              "  <thead>\n",
              "    <tr style=\"text-align: left;\">\n",
              "      <th>Step</th>\n",
              "      <th>Training Loss</th>\n",
              "      <th>Validation Loss</th>\n",
              "      <th>Acc</th>\n",
              "      <th>F1</th>\n",
              "      <th>Precision</th>\n",
              "      <th>Recall</th>\n",
              "    </tr>\n",
              "  </thead>\n",
              "  <tbody>\n",
              "    <tr>\n",
              "      <td>57</td>\n",
              "      <td>No log</td>\n",
              "      <td>0.821310</td>\n",
              "      <td>0.780156</td>\n",
              "      <td>0.762364</td>\n",
              "      <td>0.811623</td>\n",
              "      <td>0.753574</td>\n",
              "    </tr>\n",
              "    <tr>\n",
              "      <td>114</td>\n",
              "      <td>No log</td>\n",
              "      <td>0.626035</td>\n",
              "      <td>0.847276</td>\n",
              "      <td>0.845869</td>\n",
              "      <td>0.857087</td>\n",
              "      <td>0.837951</td>\n",
              "    </tr>\n",
              "    <tr>\n",
              "      <td>171</td>\n",
              "      <td>No log</td>\n",
              "      <td>0.604982</td>\n",
              "      <td>0.848249</td>\n",
              "      <td>0.848981</td>\n",
              "      <td>0.857008</td>\n",
              "      <td>0.853420</td>\n",
              "    </tr>\n",
              "    <tr>\n",
              "      <td>228</td>\n",
              "      <td>No log</td>\n",
              "      <td>0.542101</td>\n",
              "      <td>0.875486</td>\n",
              "      <td>0.872090</td>\n",
              "      <td>0.872901</td>\n",
              "      <td>0.871971</td>\n",
              "    </tr>\n",
              "    <tr>\n",
              "      <td>285</td>\n",
              "      <td>No log</td>\n",
              "      <td>0.532722</td>\n",
              "      <td>0.876459</td>\n",
              "      <td>0.874956</td>\n",
              "      <td>0.875011</td>\n",
              "      <td>0.875260</td>\n",
              "    </tr>\n",
              "  </tbody>\n",
              "</table><p>"
            ],
            "text/plain": [
              "<IPython.core.display.HTML object>"
            ]
          },
          "metadata": {},
          "output_type": "display_data"
        },
        {
          "data": {
            "text/html": [
              "\n",
              "    <div>\n",
              "      \n",
              "      <progress value='33' max='33' style='width:300px; height:20px; vertical-align: middle;'></progress>\n",
              "      [33/33 00:09]\n",
              "    </div>\n",
              "    "
            ],
            "text/plain": [
              "<IPython.core.display.HTML object>"
            ]
          },
          "metadata": {},
          "output_type": "display_data"
        },
        {
          "metadata": {
            "tags": null
          },
          "name": "stderr",
          "output_type": "stream",
          "text": [
            "\u001b[32m[I 2021-12-18 22:59:11,171]\u001b[0m Trial 10 finished with value: 0.5326570272445679 and parameters: {'learning_rate': 9.410510319108799e-05, 'num_train_epochs': 1, 'per_device_train_batch_size': 32, 'weight_decay': 0.009855122451910562, 'label_smoothing_factor': 0.03865862856508288}. Best is trial 9 with value: 0.4648672044277191.\u001b[0m\n"
          ]
        },
        {
          "data": {
            "text/html": [
              "\n",
              "    <div>\n",
              "      \n",
              "      <progress value='289' max='289' style='width:300px; height:20px; vertical-align: middle;'></progress>\n",
              "      [289/289 05:08, Epoch 1/1]\n",
              "    </div>\n",
              "    <table border=\"1\" class=\"dataframe\">\n",
              "  <thead>\n",
              "    <tr style=\"text-align: left;\">\n",
              "      <th>Step</th>\n",
              "      <th>Training Loss</th>\n",
              "      <th>Validation Loss</th>\n",
              "      <th>Acc</th>\n",
              "      <th>F1</th>\n",
              "      <th>Precision</th>\n",
              "      <th>Recall</th>\n",
              "    </tr>\n",
              "  </thead>\n",
              "  <tbody>\n",
              "    <tr>\n",
              "      <td>57</td>\n",
              "      <td>No log</td>\n",
              "      <td>1.098779</td>\n",
              "      <td>0.723735</td>\n",
              "      <td>0.668441</td>\n",
              "      <td>0.766305</td>\n",
              "      <td>0.646613</td>\n",
              "    </tr>\n",
              "    <tr>\n",
              "      <td>114</td>\n",
              "      <td>No log</td>\n",
              "      <td>0.796612</td>\n",
              "      <td>0.812257</td>\n",
              "      <td>0.805277</td>\n",
              "      <td>0.843852</td>\n",
              "      <td>0.787823</td>\n",
              "    </tr>\n",
              "    <tr>\n",
              "      <td>171</td>\n",
              "      <td>No log</td>\n",
              "      <td>0.670973</td>\n",
              "      <td>0.837549</td>\n",
              "      <td>0.834886</td>\n",
              "      <td>0.838617</td>\n",
              "      <td>0.840165</td>\n",
              "    </tr>\n",
              "    <tr>\n",
              "      <td>228</td>\n",
              "      <td>No log</td>\n",
              "      <td>0.622250</td>\n",
              "      <td>0.855058</td>\n",
              "      <td>0.855019</td>\n",
              "      <td>0.857332</td>\n",
              "      <td>0.854402</td>\n",
              "    </tr>\n",
              "    <tr>\n",
              "      <td>285</td>\n",
              "      <td>No log</td>\n",
              "      <td>0.605398</td>\n",
              "      <td>0.853113</td>\n",
              "      <td>0.852132</td>\n",
              "      <td>0.852699</td>\n",
              "      <td>0.852609</td>\n",
              "    </tr>\n",
              "  </tbody>\n",
              "</table><p>"
            ],
            "text/plain": [
              "<IPython.core.display.HTML object>"
            ]
          },
          "metadata": {},
          "output_type": "display_data"
        },
        {
          "data": {
            "text/html": [
              "\n",
              "    <div>\n",
              "      \n",
              "      <progress value='33' max='33' style='width:300px; height:20px; vertical-align: middle;'></progress>\n",
              "      [33/33 00:09]\n",
              "    </div>\n",
              "    "
            ],
            "text/plain": [
              "<IPython.core.display.HTML object>"
            ]
          },
          "metadata": {},
          "output_type": "display_data"
        },
        {
          "metadata": {
            "tags": null
          },
          "name": "stderr",
          "output_type": "stream",
          "text": [
            "\u001b[32m[I 2021-12-18 23:04:34,914]\u001b[0m Trial 11 finished with value: 0.6053610444068909 and parameters: {'learning_rate': 3.39252287976858e-05, 'num_train_epochs': 1, 'per_device_train_batch_size': 32, 'weight_decay': 0.005642004881053344, 'label_smoothing_factor': 0.03817256552649226}. Best is trial 9 with value: 0.4648672044277191.\u001b[0m\n"
          ]
        },
        {
          "data": {
            "text/html": [
              "\n",
              "    <div>\n",
              "      \n",
              "      <progress value='289' max='289' style='width:300px; height:20px; vertical-align: middle;'></progress>\n",
              "      [289/289 05:08, Epoch 1/1]\n",
              "    </div>\n",
              "    <table border=\"1\" class=\"dataframe\">\n",
              "  <thead>\n",
              "    <tr style=\"text-align: left;\">\n",
              "      <th>Step</th>\n",
              "      <th>Training Loss</th>\n",
              "      <th>Validation Loss</th>\n",
              "      <th>Acc</th>\n",
              "      <th>F1</th>\n",
              "      <th>Precision</th>\n",
              "      <th>Recall</th>\n",
              "    </tr>\n",
              "  </thead>\n",
              "  <tbody>\n",
              "    <tr>\n",
              "      <td>57</td>\n",
              "      <td>No log</td>\n",
              "      <td>1.086739</td>\n",
              "      <td>0.721790</td>\n",
              "      <td>0.667907</td>\n",
              "      <td>0.772518</td>\n",
              "      <td>0.644397</td>\n",
              "    </tr>\n",
              "    <tr>\n",
              "      <td>114</td>\n",
              "      <td>No log</td>\n",
              "      <td>0.774418</td>\n",
              "      <td>0.812257</td>\n",
              "      <td>0.804488</td>\n",
              "      <td>0.841649</td>\n",
              "      <td>0.788076</td>\n",
              "    </tr>\n",
              "    <tr>\n",
              "      <td>171</td>\n",
              "      <td>No log</td>\n",
              "      <td>0.645889</td>\n",
              "      <td>0.837549</td>\n",
              "      <td>0.834996</td>\n",
              "      <td>0.838160</td>\n",
              "      <td>0.839737</td>\n",
              "    </tr>\n",
              "    <tr>\n",
              "      <td>228</td>\n",
              "      <td>No log</td>\n",
              "      <td>0.594939</td>\n",
              "      <td>0.853113</td>\n",
              "      <td>0.853594</td>\n",
              "      <td>0.855028</td>\n",
              "      <td>0.854225</td>\n",
              "    </tr>\n",
              "    <tr>\n",
              "      <td>285</td>\n",
              "      <td>No log</td>\n",
              "      <td>0.576782</td>\n",
              "      <td>0.853113</td>\n",
              "      <td>0.853427</td>\n",
              "      <td>0.854286</td>\n",
              "      <td>0.853578</td>\n",
              "    </tr>\n",
              "  </tbody>\n",
              "</table><p>"
            ],
            "text/plain": [
              "<IPython.core.display.HTML object>"
            ]
          },
          "metadata": {},
          "output_type": "display_data"
        },
        {
          "data": {
            "text/html": [
              "\n",
              "    <div>\n",
              "      \n",
              "      <progress value='33' max='33' style='width:300px; height:20px; vertical-align: middle;'></progress>\n",
              "      [33/33 00:09]\n",
              "    </div>\n",
              "    "
            ],
            "text/plain": [
              "<IPython.core.display.HTML object>"
            ]
          },
          "metadata": {},
          "output_type": "display_data"
        },
        {
          "metadata": {
            "tags": null
          },
          "name": "stderr",
          "output_type": "stream",
          "text": [
            "\u001b[32m[I 2021-12-18 23:09:58,441]\u001b[0m Trial 12 finished with value: 0.5767446756362915 and parameters: {'learning_rate': 3.3852785786583304e-05, 'num_train_epochs': 1, 'per_device_train_batch_size': 32, 'weight_decay': 0.0013409175251930675, 'label_smoothing_factor': 0.029814672330629552}. Best is trial 9 with value: 0.4648672044277191.\u001b[0m\n"
          ]
        },
        {
          "data": {
            "text/html": [
              "\n",
              "    <div>\n",
              "      \n",
              "      <progress value='289' max='289' style='width:300px; height:20px; vertical-align: middle;'></progress>\n",
              "      [289/289 05:08, Epoch 1/1]\n",
              "    </div>\n",
              "    <table border=\"1\" class=\"dataframe\">\n",
              "  <thead>\n",
              "    <tr style=\"text-align: left;\">\n",
              "      <th>Step</th>\n",
              "      <th>Training Loss</th>\n",
              "      <th>Validation Loss</th>\n",
              "      <th>Acc</th>\n",
              "      <th>F1</th>\n",
              "      <th>Precision</th>\n",
              "      <th>Recall</th>\n",
              "    </tr>\n",
              "  </thead>\n",
              "  <tbody>\n",
              "    <tr>\n",
              "      <td>57</td>\n",
              "      <td>No log</td>\n",
              "      <td>0.890293</td>\n",
              "      <td>0.757782</td>\n",
              "      <td>0.725701</td>\n",
              "      <td>0.791479</td>\n",
              "      <td>0.704717</td>\n",
              "    </tr>\n",
              "    <tr>\n",
              "      <td>114</td>\n",
              "      <td>No log</td>\n",
              "      <td>0.605725</td>\n",
              "      <td>0.822957</td>\n",
              "      <td>0.821291</td>\n",
              "      <td>0.851139</td>\n",
              "      <td>0.804721</td>\n",
              "    </tr>\n",
              "    <tr>\n",
              "      <td>171</td>\n",
              "      <td>No log</td>\n",
              "      <td>0.503347</td>\n",
              "      <td>0.841440</td>\n",
              "      <td>0.839316</td>\n",
              "      <td>0.843437</td>\n",
              "      <td>0.843690</td>\n",
              "    </tr>\n",
              "    <tr>\n",
              "      <td>228</td>\n",
              "      <td>No log</td>\n",
              "      <td>0.448316</td>\n",
              "      <td>0.858949</td>\n",
              "      <td>0.860545</td>\n",
              "      <td>0.860213</td>\n",
              "      <td>0.862221</td>\n",
              "    </tr>\n",
              "    <tr>\n",
              "      <td>285</td>\n",
              "      <td>No log</td>\n",
              "      <td>0.431716</td>\n",
              "      <td>0.863813</td>\n",
              "      <td>0.864442</td>\n",
              "      <td>0.863783</td>\n",
              "      <td>0.865769</td>\n",
              "    </tr>\n",
              "  </tbody>\n",
              "</table><p>"
            ],
            "text/plain": [
              "<IPython.core.display.HTML object>"
            ]
          },
          "metadata": {},
          "output_type": "display_data"
        },
        {
          "data": {
            "text/html": [
              "\n",
              "    <div>\n",
              "      \n",
              "      <progress value='33' max='33' style='width:300px; height:20px; vertical-align: middle;'></progress>\n",
              "      [33/33 00:09]\n",
              "    </div>\n",
              "    "
            ],
            "text/plain": [
              "<IPython.core.display.HTML object>"
            ]
          },
          "metadata": {},
          "output_type": "display_data"
        },
        {
          "metadata": {
            "tags": null
          },
          "name": "stderr",
          "output_type": "stream",
          "text": [
            "\u001b[32m[I 2021-12-18 23:15:22,380]\u001b[0m Trial 13 finished with value: 0.43174442648887634 and parameters: {'learning_rate': 4.426721464918857e-05, 'num_train_epochs': 1, 'per_device_train_batch_size': 32, 'weight_decay': 0.0053684971209336995, 'label_smoothing_factor': 0.00033772098835564007}. Best is trial 13 with value: 0.43174442648887634.\u001b[0m\n"
          ]
        },
        {
          "data": {
            "text/html": [
              "\n",
              "    <div>\n",
              "      \n",
              "      <progress value='289' max='289' style='width:300px; height:20px; vertical-align: middle;'></progress>\n",
              "      [289/289 05:09, Epoch 1/1]\n",
              "    </div>\n",
              "    <table border=\"1\" class=\"dataframe\">\n",
              "  <thead>\n",
              "    <tr style=\"text-align: left;\">\n",
              "      <th>Step</th>\n",
              "      <th>Training Loss</th>\n",
              "      <th>Validation Loss</th>\n",
              "      <th>Acc</th>\n",
              "      <th>F1</th>\n",
              "      <th>Precision</th>\n",
              "      <th>Recall</th>\n",
              "    </tr>\n",
              "  </thead>\n",
              "  <tbody>\n",
              "    <tr>\n",
              "      <td>57</td>\n",
              "      <td>No log</td>\n",
              "      <td>0.837576</td>\n",
              "      <td>0.762646</td>\n",
              "      <td>0.733150</td>\n",
              "      <td>0.789576</td>\n",
              "      <td>0.715263</td>\n",
              "    </tr>\n",
              "    <tr>\n",
              "      <td>114</td>\n",
              "      <td>No log</td>\n",
              "      <td>0.587315</td>\n",
              "      <td>0.827821</td>\n",
              "      <td>0.827313</td>\n",
              "      <td>0.854013</td>\n",
              "      <td>0.812513</td>\n",
              "    </tr>\n",
              "    <tr>\n",
              "      <td>171</td>\n",
              "      <td>No log</td>\n",
              "      <td>0.508609</td>\n",
              "      <td>0.847276</td>\n",
              "      <td>0.846427</td>\n",
              "      <td>0.852402</td>\n",
              "      <td>0.850501</td>\n",
              "    </tr>\n",
              "    <tr>\n",
              "      <td>228</td>\n",
              "      <td>No log</td>\n",
              "      <td>0.451110</td>\n",
              "      <td>0.855058</td>\n",
              "      <td>0.856549</td>\n",
              "      <td>0.856324</td>\n",
              "      <td>0.857978</td>\n",
              "    </tr>\n",
              "    <tr>\n",
              "      <td>285</td>\n",
              "      <td>No log</td>\n",
              "      <td>0.432300</td>\n",
              "      <td>0.861868</td>\n",
              "      <td>0.862464</td>\n",
              "      <td>0.862482</td>\n",
              "      <td>0.862917</td>\n",
              "    </tr>\n",
              "  </tbody>\n",
              "</table><p>"
            ],
            "text/plain": [
              "<IPython.core.display.HTML object>"
            ]
          },
          "metadata": {},
          "output_type": "display_data"
        },
        {
          "data": {
            "text/html": [
              "\n",
              "    <div>\n",
              "      \n",
              "      <progress value='33' max='33' style='width:300px; height:20px; vertical-align: middle;'></progress>\n",
              "      [33/33 00:09]\n",
              "    </div>\n",
              "    "
            ],
            "text/plain": [
              "<IPython.core.display.HTML object>"
            ]
          },
          "metadata": {},
          "output_type": "display_data"
        },
        {
          "metadata": {
            "tags": null
          },
          "name": "stderr",
          "output_type": "stream",
          "text": [
            "\u001b[32m[I 2021-12-18 23:20:46,441]\u001b[0m Trial 14 finished with value: 0.4322931170463562 and parameters: {'learning_rate': 4.852382389052887e-05, 'num_train_epochs': 1, 'per_device_train_batch_size': 32, 'weight_decay': 0.0056542068507408555, 'label_smoothing_factor': 0.0019549953663740164}. Best is trial 13 with value: 0.43174442648887634.\u001b[0m\n"
          ]
        },
        {
          "data": {
            "text/html": [
              "\n",
              "    <div>\n",
              "      \n",
              "      <progress value='289' max='289' style='width:300px; height:20px; vertical-align: middle;'></progress>\n",
              "      [289/289 05:09, Epoch 1/1]\n",
              "    </div>\n",
              "    <table border=\"1\" class=\"dataframe\">\n",
              "  <thead>\n",
              "    <tr style=\"text-align: left;\">\n",
              "      <th>Step</th>\n",
              "      <th>Training Loss</th>\n",
              "      <th>Validation Loss</th>\n",
              "      <th>Acc</th>\n",
              "      <th>F1</th>\n",
              "      <th>Precision</th>\n",
              "      <th>Recall</th>\n",
              "    </tr>\n",
              "  </thead>\n",
              "  <tbody>\n",
              "    <tr>\n",
              "      <td>57</td>\n",
              "      <td>No log</td>\n",
              "      <td>0.846871</td>\n",
              "      <td>0.751946</td>\n",
              "      <td>0.721884</td>\n",
              "      <td>0.786281</td>\n",
              "      <td>0.703121</td>\n",
              "    </tr>\n",
              "    <tr>\n",
              "      <td>114</td>\n",
              "      <td>No log</td>\n",
              "      <td>0.580696</td>\n",
              "      <td>0.832685</td>\n",
              "      <td>0.834214</td>\n",
              "      <td>0.861197</td>\n",
              "      <td>0.818834</td>\n",
              "    </tr>\n",
              "    <tr>\n",
              "      <td>171</td>\n",
              "      <td>No log</td>\n",
              "      <td>0.507913</td>\n",
              "      <td>0.842412</td>\n",
              "      <td>0.841355</td>\n",
              "      <td>0.847867</td>\n",
              "      <td>0.845724</td>\n",
              "    </tr>\n",
              "    <tr>\n",
              "      <td>228</td>\n",
              "      <td>No log</td>\n",
              "      <td>0.447729</td>\n",
              "      <td>0.860895</td>\n",
              "      <td>0.862659</td>\n",
              "      <td>0.861337</td>\n",
              "      <td>0.865233</td>\n",
              "    </tr>\n",
              "    <tr>\n",
              "      <td>285</td>\n",
              "      <td>No log</td>\n",
              "      <td>0.429819</td>\n",
              "      <td>0.864786</td>\n",
              "      <td>0.864358</td>\n",
              "      <td>0.864317</td>\n",
              "      <td>0.864953</td>\n",
              "    </tr>\n",
              "  </tbody>\n",
              "</table><p>"
            ],
            "text/plain": [
              "<IPython.core.display.HTML object>"
            ]
          },
          "metadata": {},
          "output_type": "display_data"
        },
        {
          "data": {
            "text/html": [
              "\n",
              "    <div>\n",
              "      \n",
              "      <progress value='33' max='33' style='width:300px; height:20px; vertical-align: middle;'></progress>\n",
              "      [33/33 00:09]\n",
              "    </div>\n",
              "    "
            ],
            "text/plain": [
              "<IPython.core.display.HTML object>"
            ]
          },
          "metadata": {},
          "output_type": "display_data"
        },
        {
          "metadata": {
            "tags": null
          },
          "name": "stderr",
          "output_type": "stream",
          "text": [
            "\u001b[32m[I 2021-12-18 23:26:10,492]\u001b[0m Trial 15 finished with value: 0.42982402443885803 and parameters: {'learning_rate': 4.918834683120967e-05, 'num_train_epochs': 1, 'per_device_train_batch_size': 32, 'weight_decay': 0.006037532521549883, 'label_smoothing_factor': 0.002290120991862342}. Best is trial 15 with value: 0.42982402443885803.\u001b[0m\n"
          ]
        },
        {
          "data": {
            "text/html": [
              "\n",
              "    <div>\n",
              "      \n",
              "      <progress value='289' max='289' style='width:300px; height:20px; vertical-align: middle;'></progress>\n",
              "      [289/289 05:08, Epoch 1/1]\n",
              "    </div>\n",
              "    <table border=\"1\" class=\"dataframe\">\n",
              "  <thead>\n",
              "    <tr style=\"text-align: left;\">\n",
              "      <th>Step</th>\n",
              "      <th>Training Loss</th>\n",
              "      <th>Validation Loss</th>\n",
              "      <th>Acc</th>\n",
              "      <th>F1</th>\n",
              "      <th>Precision</th>\n",
              "      <th>Recall</th>\n",
              "    </tr>\n",
              "  </thead>\n",
              "  <tbody>\n",
              "    <tr>\n",
              "      <td>57</td>\n",
              "      <td>No log</td>\n",
              "      <td>0.859112</td>\n",
              "      <td>0.761673</td>\n",
              "      <td>0.734388</td>\n",
              "      <td>0.801545</td>\n",
              "      <td>0.714721</td>\n",
              "    </tr>\n",
              "    <tr>\n",
              "      <td>114</td>\n",
              "      <td>No log</td>\n",
              "      <td>0.590379</td>\n",
              "      <td>0.827821</td>\n",
              "      <td>0.826330</td>\n",
              "      <td>0.854176</td>\n",
              "      <td>0.810570</td>\n",
              "    </tr>\n",
              "    <tr>\n",
              "      <td>171</td>\n",
              "      <td>No log</td>\n",
              "      <td>0.503282</td>\n",
              "      <td>0.847276</td>\n",
              "      <td>0.846894</td>\n",
              "      <td>0.851692</td>\n",
              "      <td>0.851898</td>\n",
              "    </tr>\n",
              "    <tr>\n",
              "      <td>228</td>\n",
              "      <td>No log</td>\n",
              "      <td>0.444187</td>\n",
              "      <td>0.857004</td>\n",
              "      <td>0.858183</td>\n",
              "      <td>0.856786</td>\n",
              "      <td>0.860689</td>\n",
              "    </tr>\n",
              "    <tr>\n",
              "      <td>285</td>\n",
              "      <td>No log</td>\n",
              "      <td>0.425911</td>\n",
              "      <td>0.862840</td>\n",
              "      <td>0.863790</td>\n",
              "      <td>0.863746</td>\n",
              "      <td>0.864501</td>\n",
              "    </tr>\n",
              "  </tbody>\n",
              "</table><p>"
            ],
            "text/plain": [
              "<IPython.core.display.HTML object>"
            ]
          },
          "metadata": {},
          "output_type": "display_data"
        },
        {
          "data": {
            "text/html": [
              "\n",
              "    <div>\n",
              "      \n",
              "      <progress value='33' max='33' style='width:300px; height:20px; vertical-align: middle;'></progress>\n",
              "      [33/33 00:09]\n",
              "    </div>\n",
              "    "
            ],
            "text/plain": [
              "<IPython.core.display.HTML object>"
            ]
          },
          "metadata": {},
          "output_type": "display_data"
        },
        {
          "metadata": {
            "tags": null
          },
          "name": "stderr",
          "output_type": "stream",
          "text": [
            "\u001b[32m[I 2021-12-18 23:31:34,189]\u001b[0m Trial 16 finished with value: 0.42592647671699524 and parameters: {'learning_rate': 4.6907158520058296e-05, 'num_train_epochs': 1, 'per_device_train_batch_size': 32, 'weight_decay': 0.007715250278488532, 'label_smoothing_factor': 9.932882079016056e-05}. Best is trial 16 with value: 0.42592647671699524.\u001b[0m\n"
          ]
        },
        {
          "data": {
            "text/html": [
              "\n",
              "    <div>\n",
              "      \n",
              "      <progress value='289' max='289' style='width:300px; height:20px; vertical-align: middle;'></progress>\n",
              "      [289/289 05:08, Epoch 1/1]\n",
              "    </div>\n",
              "    <table border=\"1\" class=\"dataframe\">\n",
              "  <thead>\n",
              "    <tr style=\"text-align: left;\">\n",
              "      <th>Step</th>\n",
              "      <th>Training Loss</th>\n",
              "      <th>Validation Loss</th>\n",
              "      <th>Acc</th>\n",
              "      <th>F1</th>\n",
              "      <th>Precision</th>\n",
              "      <th>Recall</th>\n",
              "    </tr>\n",
              "  </thead>\n",
              "  <tbody>\n",
              "    <tr>\n",
              "      <td>57</td>\n",
              "      <td>No log</td>\n",
              "      <td>1.428464</td>\n",
              "      <td>0.639105</td>\n",
              "      <td>0.479954</td>\n",
              "      <td>0.547835</td>\n",
              "      <td>0.507993</td>\n",
              "    </tr>\n",
              "    <tr>\n",
              "      <td>114</td>\n",
              "      <td>No log</td>\n",
              "      <td>1.012016</td>\n",
              "      <td>0.759728</td>\n",
              "      <td>0.721726</td>\n",
              "      <td>0.775831</td>\n",
              "      <td>0.707092</td>\n",
              "    </tr>\n",
              "    <tr>\n",
              "      <td>171</td>\n",
              "      <td>No log</td>\n",
              "      <td>0.855977</td>\n",
              "      <td>0.821984</td>\n",
              "      <td>0.813853</td>\n",
              "      <td>0.824981</td>\n",
              "      <td>0.815334</td>\n",
              "    </tr>\n",
              "    <tr>\n",
              "      <td>228</td>\n",
              "      <td>No log</td>\n",
              "      <td>0.784871</td>\n",
              "      <td>0.841440</td>\n",
              "      <td>0.840803</td>\n",
              "      <td>0.849349</td>\n",
              "      <td>0.834105</td>\n",
              "    </tr>\n",
              "    <tr>\n",
              "      <td>285</td>\n",
              "      <td>No log</td>\n",
              "      <td>0.760058</td>\n",
              "      <td>0.835603</td>\n",
              "      <td>0.834207</td>\n",
              "      <td>0.841067</td>\n",
              "      <td>0.829077</td>\n",
              "    </tr>\n",
              "  </tbody>\n",
              "</table><p>"
            ],
            "text/plain": [
              "<IPython.core.display.HTML object>"
            ]
          },
          "metadata": {},
          "output_type": "display_data"
        },
        {
          "metadata": {
            "tags": null
          },
          "name": "stderr",
          "output_type": "stream",
          "text": [
            "/usr/local/lib/python3.7/dist-packages/sklearn/metrics/_classification.py:1308: UndefinedMetricWarning:\n",
            "\n",
            "Precision is ill-defined and being set to 0.0 in labels with no predicted samples. Use `zero_division` parameter to control this behavior.\n",
            "\n"
          ]
        },
        {
          "data": {
            "text/html": [
              "\n",
              "    <div>\n",
              "      \n",
              "      <progress value='33' max='33' style='width:300px; height:20px; vertical-align: middle;'></progress>\n",
              "      [33/33 00:09]\n",
              "    </div>\n",
              "    "
            ],
            "text/plain": [
              "<IPython.core.display.HTML object>"
            ]
          },
          "metadata": {},
          "output_type": "display_data"
        },
        {
          "metadata": {
            "tags": null
          },
          "name": "stderr",
          "output_type": "stream",
          "text": [
            "\u001b[32m[I 2021-12-18 23:36:57,817]\u001b[0m Trial 17 finished with value: 0.7599374055862427 and parameters: {'learning_rate': 2.0423338564481728e-05, 'num_train_epochs': 1, 'per_device_train_batch_size': 32, 'weight_decay': 0.009467661900034882, 'label_smoothing_factor': 0.05599772639347858}. Best is trial 16 with value: 0.42592647671699524.\u001b[0m\n"
          ]
        },
        {
          "data": {
            "text/html": [
              "\n",
              "    <div>\n",
              "      \n",
              "      <progress value='289' max='289' style='width:300px; height:20px; vertical-align: middle;'></progress>\n",
              "      [289/289 05:08, Epoch 1/1]\n",
              "    </div>\n",
              "    <table border=\"1\" class=\"dataframe\">\n",
              "  <thead>\n",
              "    <tr style=\"text-align: left;\">\n",
              "      <th>Step</th>\n",
              "      <th>Training Loss</th>\n",
              "      <th>Validation Loss</th>\n",
              "      <th>Acc</th>\n",
              "      <th>F1</th>\n",
              "      <th>Precision</th>\n",
              "      <th>Recall</th>\n",
              "    </tr>\n",
              "  </thead>\n",
              "  <tbody>\n",
              "    <tr>\n",
              "      <td>57</td>\n",
              "      <td>No log</td>\n",
              "      <td>1.311573</td>\n",
              "      <td>0.648833</td>\n",
              "      <td>0.503384</td>\n",
              "      <td>0.629091</td>\n",
              "      <td>0.522607</td>\n",
              "    </tr>\n",
              "    <tr>\n",
              "      <td>114</td>\n",
              "      <td>No log</td>\n",
              "      <td>0.889244</td>\n",
              "      <td>0.781128</td>\n",
              "      <td>0.764945</td>\n",
              "      <td>0.805624</td>\n",
              "      <td>0.746363</td>\n",
              "    </tr>\n",
              "    <tr>\n",
              "      <td>171</td>\n",
              "      <td>No log</td>\n",
              "      <td>0.733012</td>\n",
              "      <td>0.830739</td>\n",
              "      <td>0.827386</td>\n",
              "      <td>0.834521</td>\n",
              "      <td>0.831039</td>\n",
              "    </tr>\n",
              "    <tr>\n",
              "      <td>228</td>\n",
              "      <td>No log</td>\n",
              "      <td>0.662369</td>\n",
              "      <td>0.847276</td>\n",
              "      <td>0.848817</td>\n",
              "      <td>0.853140</td>\n",
              "      <td>0.845642</td>\n",
              "    </tr>\n",
              "    <tr>\n",
              "      <td>285</td>\n",
              "      <td>No log</td>\n",
              "      <td>0.637760</td>\n",
              "      <td>0.840467</td>\n",
              "      <td>0.842692</td>\n",
              "      <td>0.848748</td>\n",
              "      <td>0.838242</td>\n",
              "    </tr>\n",
              "  </tbody>\n",
              "</table><p>"
            ],
            "text/plain": [
              "<IPython.core.display.HTML object>"
            ]
          },
          "metadata": {},
          "output_type": "display_data"
        },
        {
          "metadata": {
            "tags": null
          },
          "name": "stderr",
          "output_type": "stream",
          "text": [
            "/usr/local/lib/python3.7/dist-packages/sklearn/metrics/_classification.py:1308: UndefinedMetricWarning:\n",
            "\n",
            "Precision is ill-defined and being set to 0.0 in labels with no predicted samples. Use `zero_division` parameter to control this behavior.\n",
            "\n"
          ]
        },
        {
          "data": {
            "text/html": [
              "\n",
              "    <div>\n",
              "      \n",
              "      <progress value='33' max='33' style='width:300px; height:20px; vertical-align: middle;'></progress>\n",
              "      [33/33 00:09]\n",
              "    </div>\n",
              "    "
            ],
            "text/plain": [
              "<IPython.core.display.HTML object>"
            ]
          },
          "metadata": {},
          "output_type": "display_data"
        },
        {
          "metadata": {
            "tags": null
          },
          "name": "stderr",
          "output_type": "stream",
          "text": [
            "\u001b[32m[I 2021-12-18 23:42:21,553]\u001b[0m Trial 18 finished with value: 0.6376599669456482 and parameters: {'learning_rate': 2.3233488022532473e-05, 'num_train_epochs': 1, 'per_device_train_batch_size': 32, 'weight_decay': 0.007405584548088116, 'label_smoothing_factor': 0.027255114465888707}. Best is trial 16 with value: 0.42592647671699524.\u001b[0m\n"
          ]
        },
        {
          "data": {
            "text/html": [
              "\n",
              "    <div>\n",
              "      \n",
              "      <progress value='289' max='289' style='width:300px; height:20px; vertical-align: middle;'></progress>\n",
              "      [289/289 05:08, Epoch 1/1]\n",
              "    </div>\n",
              "    <table border=\"1\" class=\"dataframe\">\n",
              "  <thead>\n",
              "    <tr style=\"text-align: left;\">\n",
              "      <th>Step</th>\n",
              "      <th>Training Loss</th>\n",
              "      <th>Validation Loss</th>\n",
              "      <th>Acc</th>\n",
              "      <th>F1</th>\n",
              "      <th>Precision</th>\n",
              "      <th>Recall</th>\n",
              "    </tr>\n",
              "  </thead>\n",
              "  <tbody>\n",
              "    <tr>\n",
              "      <td>57</td>\n",
              "      <td>No log</td>\n",
              "      <td>0.953458</td>\n",
              "      <td>0.755837</td>\n",
              "      <td>0.728197</td>\n",
              "      <td>0.788364</td>\n",
              "      <td>0.709377</td>\n",
              "    </tr>\n",
              "    <tr>\n",
              "      <td>114</td>\n",
              "      <td>No log</td>\n",
              "      <td>0.726611</td>\n",
              "      <td>0.828794</td>\n",
              "      <td>0.828344</td>\n",
              "      <td>0.854816</td>\n",
              "      <td>0.813442</td>\n",
              "    </tr>\n",
              "    <tr>\n",
              "      <td>171</td>\n",
              "      <td>No log</td>\n",
              "      <td>0.657435</td>\n",
              "      <td>0.845331</td>\n",
              "      <td>0.843741</td>\n",
              "      <td>0.849092</td>\n",
              "      <td>0.847961</td>\n",
              "    </tr>\n",
              "    <tr>\n",
              "      <td>228</td>\n",
              "      <td>No log</td>\n",
              "      <td>0.609510</td>\n",
              "      <td>0.859922</td>\n",
              "      <td>0.860348</td>\n",
              "      <td>0.859150</td>\n",
              "      <td>0.862609</td>\n",
              "    </tr>\n",
              "    <tr>\n",
              "      <td>285</td>\n",
              "      <td>No log</td>\n",
              "      <td>0.595993</td>\n",
              "      <td>0.864786</td>\n",
              "      <td>0.865076</td>\n",
              "      <td>0.864052</td>\n",
              "      <td>0.866925</td>\n",
              "    </tr>\n",
              "  </tbody>\n",
              "</table><p>"
            ],
            "text/plain": [
              "<IPython.core.display.HTML object>"
            ]
          },
          "metadata": {},
          "output_type": "display_data"
        },
        {
          "data": {
            "text/html": [
              "\n",
              "    <div>\n",
              "      \n",
              "      <progress value='33' max='33' style='width:300px; height:20px; vertical-align: middle;'></progress>\n",
              "      [33/33 00:09]\n",
              "    </div>\n",
              "    "
            ],
            "text/plain": [
              "<IPython.core.display.HTML object>"
            ]
          },
          "metadata": {},
          "output_type": "display_data"
        },
        {
          "metadata": {
            "tags": null
          },
          "name": "stderr",
          "output_type": "stream",
          "text": [
            "\u001b[32m[I 2021-12-18 23:47:45,027]\u001b[0m Trial 19 finished with value: 0.596027672290802 and parameters: {'learning_rate': 4.760544838883083e-05, 'num_train_epochs': 1, 'per_device_train_batch_size': 32, 'weight_decay': 0.007252193766500143, 'label_smoothing_factor': 0.04534069960519184}. Best is trial 16 with value: 0.42592647671699524.\u001b[0m\n"
          ]
        },
        {
          "data": {
            "text/html": [
              "\n",
              "    <div>\n",
              "      \n",
              "      <progress value='289' max='289' style='width:300px; height:20px; vertical-align: middle;'></progress>\n",
              "      [289/289 05:08, Epoch 1/1]\n",
              "    </div>\n",
              "    <table border=\"1\" class=\"dataframe\">\n",
              "  <thead>\n",
              "    <tr style=\"text-align: left;\">\n",
              "      <th>Step</th>\n",
              "      <th>Training Loss</th>\n",
              "      <th>Validation Loss</th>\n",
              "      <th>Acc</th>\n",
              "      <th>F1</th>\n",
              "      <th>Precision</th>\n",
              "      <th>Recall</th>\n",
              "    </tr>\n",
              "  </thead>\n",
              "  <tbody>\n",
              "    <tr>\n",
              "      <td>57</td>\n",
              "      <td>No log</td>\n",
              "      <td>1.245280</td>\n",
              "      <td>0.671206</td>\n",
              "      <td>0.552767</td>\n",
              "      <td>0.641545</td>\n",
              "      <td>0.557904</td>\n",
              "    </tr>\n",
              "    <tr>\n",
              "      <td>114</td>\n",
              "      <td>No log</td>\n",
              "      <td>0.849672</td>\n",
              "      <td>0.791829</td>\n",
              "      <td>0.776957</td>\n",
              "      <td>0.817332</td>\n",
              "      <td>0.758966</td>\n",
              "    </tr>\n",
              "    <tr>\n",
              "      <td>171</td>\n",
              "      <td>No log</td>\n",
              "      <td>0.700987</td>\n",
              "      <td>0.833658</td>\n",
              "      <td>0.829087</td>\n",
              "      <td>0.834527</td>\n",
              "      <td>0.834627</td>\n",
              "    </tr>\n",
              "    <tr>\n",
              "      <td>228</td>\n",
              "      <td>No log</td>\n",
              "      <td>0.635866</td>\n",
              "      <td>0.852140</td>\n",
              "      <td>0.855545</td>\n",
              "      <td>0.859177</td>\n",
              "      <td>0.853233</td>\n",
              "    </tr>\n",
              "    <tr>\n",
              "      <td>285</td>\n",
              "      <td>No log</td>\n",
              "      <td>0.613416</td>\n",
              "      <td>0.843385</td>\n",
              "      <td>0.845632</td>\n",
              "      <td>0.851251</td>\n",
              "      <td>0.841599</td>\n",
              "    </tr>\n",
              "  </tbody>\n",
              "</table><p>"
            ],
            "text/plain": [
              "<IPython.core.display.HTML object>"
            ]
          },
          "metadata": {},
          "output_type": "display_data"
        },
        {
          "metadata": {
            "tags": null
          },
          "name": "stderr",
          "output_type": "stream",
          "text": [
            "/usr/local/lib/python3.7/dist-packages/sklearn/metrics/_classification.py:1308: UndefinedMetricWarning:\n",
            "\n",
            "Precision is ill-defined and being set to 0.0 in labels with no predicted samples. Use `zero_division` parameter to control this behavior.\n",
            "\n"
          ]
        },
        {
          "data": {
            "text/html": [
              "\n",
              "    <div>\n",
              "      \n",
              "      <progress value='33' max='33' style='width:300px; height:20px; vertical-align: middle;'></progress>\n",
              "      [33/33 00:09]\n",
              "    </div>\n",
              "    "
            ],
            "text/plain": [
              "<IPython.core.display.HTML object>"
            ]
          },
          "metadata": {},
          "output_type": "display_data"
        },
        {
          "metadata": {
            "tags": null
          },
          "name": "stderr",
          "output_type": "stream",
          "text": [
            "\u001b[32m[I 2021-12-18 23:53:08,713]\u001b[0m Trial 20 finished with value: 0.613343358039856 and parameters: {'learning_rate': 2.5779896765704475e-05, 'num_train_epochs': 1, 'per_device_train_batch_size': 32, 'weight_decay': 0.004483854900043879, 'label_smoothing_factor': 0.02732347543664355}. Best is trial 16 with value: 0.42592647671699524.\u001b[0m\n"
          ]
        },
        {
          "data": {
            "text/html": [
              "\n",
              "    <div>\n",
              "      \n",
              "      <progress value='289' max='289' style='width:300px; height:20px; vertical-align: middle;'></progress>\n",
              "      [289/289 05:09, Epoch 1/1]\n",
              "    </div>\n",
              "    <table border=\"1\" class=\"dataframe\">\n",
              "  <thead>\n",
              "    <tr style=\"text-align: left;\">\n",
              "      <th>Step</th>\n",
              "      <th>Training Loss</th>\n",
              "      <th>Validation Loss</th>\n",
              "      <th>Acc</th>\n",
              "      <th>F1</th>\n",
              "      <th>Precision</th>\n",
              "      <th>Recall</th>\n",
              "    </tr>\n",
              "  </thead>\n",
              "  <tbody>\n",
              "    <tr>\n",
              "      <td>57</td>\n",
              "      <td>No log</td>\n",
              "      <td>0.882300</td>\n",
              "      <td>0.756809</td>\n",
              "      <td>0.726070</td>\n",
              "      <td>0.788538</td>\n",
              "      <td>0.706832</td>\n",
              "    </tr>\n",
              "    <tr>\n",
              "      <td>114</td>\n",
              "      <td>No log</td>\n",
              "      <td>0.609417</td>\n",
              "      <td>0.823930</td>\n",
              "      <td>0.822113</td>\n",
              "      <td>0.853093</td>\n",
              "      <td>0.805673</td>\n",
              "    </tr>\n",
              "    <tr>\n",
              "      <td>171</td>\n",
              "      <td>No log</td>\n",
              "      <td>0.511567</td>\n",
              "      <td>0.841440</td>\n",
              "      <td>0.841406</td>\n",
              "      <td>0.844654</td>\n",
              "      <td>0.846284</td>\n",
              "    </tr>\n",
              "    <tr>\n",
              "      <td>228</td>\n",
              "      <td>No log</td>\n",
              "      <td>0.457535</td>\n",
              "      <td>0.861868</td>\n",
              "      <td>0.861753</td>\n",
              "      <td>0.860515</td>\n",
              "      <td>0.864081</td>\n",
              "    </tr>\n",
              "    <tr>\n",
              "      <td>285</td>\n",
              "      <td>No log</td>\n",
              "      <td>0.441486</td>\n",
              "      <td>0.866732</td>\n",
              "      <td>0.867230</td>\n",
              "      <td>0.867006</td>\n",
              "      <td>0.867954</td>\n",
              "    </tr>\n",
              "  </tbody>\n",
              "</table><p>"
            ],
            "text/plain": [
              "<IPython.core.display.HTML object>"
            ]
          },
          "metadata": {},
          "output_type": "display_data"
        },
        {
          "data": {
            "text/html": [
              "\n",
              "    <div>\n",
              "      \n",
              "      <progress value='33' max='33' style='width:300px; height:20px; vertical-align: middle;'></progress>\n",
              "      [33/33 00:09]\n",
              "    </div>\n",
              "    "
            ],
            "text/plain": [
              "<IPython.core.display.HTML object>"
            ]
          },
          "metadata": {},
          "output_type": "display_data"
        },
        {
          "metadata": {
            "tags": null
          },
          "name": "stderr",
          "output_type": "stream",
          "text": [
            "\u001b[32m[I 2021-12-18 23:58:32,986]\u001b[0m Trial 21 finished with value: 0.4415104389190674 and parameters: {'learning_rate': 4.54963682546076e-05, 'num_train_epochs': 1, 'per_device_train_batch_size': 32, 'weight_decay': 0.005639406937623339, 'label_smoothing_factor': 0.0032834045581627788}. Best is trial 16 with value: 0.42592647671699524.\u001b[0m\n"
          ]
        },
        {
          "data": {
            "text/html": [
              "\n",
              "    <div>\n",
              "      \n",
              "      <progress value='289' max='289' style='width:300px; height:20px; vertical-align: middle;'></progress>\n",
              "      [289/289 05:08, Epoch 1/1]\n",
              "    </div>\n",
              "    <table border=\"1\" class=\"dataframe\">\n",
              "  <thead>\n",
              "    <tr style=\"text-align: left;\">\n",
              "      <th>Step</th>\n",
              "      <th>Training Loss</th>\n",
              "      <th>Validation Loss</th>\n",
              "      <th>Acc</th>\n",
              "      <th>F1</th>\n",
              "      <th>Precision</th>\n",
              "      <th>Recall</th>\n",
              "    </tr>\n",
              "  </thead>\n",
              "  <tbody>\n",
              "    <tr>\n",
              "      <td>57</td>\n",
              "      <td>No log</td>\n",
              "      <td>0.922409</td>\n",
              "      <td>0.750000</td>\n",
              "      <td>0.706623</td>\n",
              "      <td>0.781129</td>\n",
              "      <td>0.687809</td>\n",
              "    </tr>\n",
              "    <tr>\n",
              "      <td>114</td>\n",
              "      <td>No log</td>\n",
              "      <td>0.634546</td>\n",
              "      <td>0.821012</td>\n",
              "      <td>0.819074</td>\n",
              "      <td>0.853537</td>\n",
              "      <td>0.800450</td>\n",
              "    </tr>\n",
              "    <tr>\n",
              "      <td>171</td>\n",
              "      <td>No log</td>\n",
              "      <td>0.515007</td>\n",
              "      <td>0.841440</td>\n",
              "      <td>0.839917</td>\n",
              "      <td>0.842459</td>\n",
              "      <td>0.845677</td>\n",
              "    </tr>\n",
              "    <tr>\n",
              "      <td>228</td>\n",
              "      <td>No log</td>\n",
              "      <td>0.461131</td>\n",
              "      <td>0.856031</td>\n",
              "      <td>0.857671</td>\n",
              "      <td>0.858886</td>\n",
              "      <td>0.857717</td>\n",
              "    </tr>\n",
              "    <tr>\n",
              "      <td>285</td>\n",
              "      <td>No log</td>\n",
              "      <td>0.443059</td>\n",
              "      <td>0.862840</td>\n",
              "      <td>0.863914</td>\n",
              "      <td>0.864317</td>\n",
              "      <td>0.864110</td>\n",
              "    </tr>\n",
              "  </tbody>\n",
              "</table><p>"
            ],
            "text/plain": [
              "<IPython.core.display.HTML object>"
            ]
          },
          "metadata": {},
          "output_type": "display_data"
        },
        {
          "data": {
            "text/html": [
              "\n",
              "    <div>\n",
              "      \n",
              "      <progress value='33' max='33' style='width:300px; height:20px; vertical-align: middle;'></progress>\n",
              "      [33/33 00:09]\n",
              "    </div>\n",
              "    "
            ],
            "text/plain": [
              "<IPython.core.display.HTML object>"
            ]
          },
          "metadata": {},
          "output_type": "display_data"
        },
        {
          "metadata": {
            "tags": null
          },
          "name": "stderr",
          "output_type": "stream",
          "text": [
            "\u001b[32m[I 2021-12-19 00:03:56,873]\u001b[0m Trial 22 finished with value: 0.44305893778800964 and parameters: {'learning_rate': 4.1626961994329917e-05, 'num_train_epochs': 1, 'per_device_train_batch_size': 32, 'weight_decay': 0.007160909136464858, 'label_smoothing_factor': 0.0012169637525147677}. Best is trial 16 with value: 0.42592647671699524.\u001b[0m\n"
          ]
        },
        {
          "data": {
            "text/html": [
              "\n",
              "    <div>\n",
              "      \n",
              "      <progress value='289' max='289' style='width:300px; height:20px; vertical-align: middle;'></progress>\n",
              "      [289/289 05:08, Epoch 1/1]\n",
              "    </div>\n",
              "    <table border=\"1\" class=\"dataframe\">\n",
              "  <thead>\n",
              "    <tr style=\"text-align: left;\">\n",
              "      <th>Step</th>\n",
              "      <th>Training Loss</th>\n",
              "      <th>Validation Loss</th>\n",
              "      <th>Acc</th>\n",
              "      <th>F1</th>\n",
              "      <th>Precision</th>\n",
              "      <th>Recall</th>\n",
              "    </tr>\n",
              "  </thead>\n",
              "  <tbody>\n",
              "    <tr>\n",
              "      <td>57</td>\n",
              "      <td>No log</td>\n",
              "      <td>0.846204</td>\n",
              "      <td>0.775292</td>\n",
              "      <td>0.749333</td>\n",
              "      <td>0.802327</td>\n",
              "      <td>0.735846</td>\n",
              "    </tr>\n",
              "    <tr>\n",
              "      <td>114</td>\n",
              "      <td>No log</td>\n",
              "      <td>0.625664</td>\n",
              "      <td>0.835603</td>\n",
              "      <td>0.834089</td>\n",
              "      <td>0.861068</td>\n",
              "      <td>0.818514</td>\n",
              "    </tr>\n",
              "    <tr>\n",
              "      <td>171</td>\n",
              "      <td>No log</td>\n",
              "      <td>0.558734</td>\n",
              "      <td>0.849222</td>\n",
              "      <td>0.848246</td>\n",
              "      <td>0.853950</td>\n",
              "      <td>0.852424</td>\n",
              "    </tr>\n",
              "    <tr>\n",
              "      <td>228</td>\n",
              "      <td>No log</td>\n",
              "      <td>0.499794</td>\n",
              "      <td>0.862840</td>\n",
              "      <td>0.863786</td>\n",
              "      <td>0.861884</td>\n",
              "      <td>0.867036</td>\n",
              "    </tr>\n",
              "    <tr>\n",
              "      <td>285</td>\n",
              "      <td>No log</td>\n",
              "      <td>0.482105</td>\n",
              "      <td>0.867704</td>\n",
              "      <td>0.866758</td>\n",
              "      <td>0.867000</td>\n",
              "      <td>0.866992</td>\n",
              "    </tr>\n",
              "  </tbody>\n",
              "</table><p>"
            ],
            "text/plain": [
              "<IPython.core.display.HTML object>"
            ]
          },
          "metadata": {},
          "output_type": "display_data"
        },
        {
          "data": {
            "text/html": [
              "\n",
              "    <div>\n",
              "      \n",
              "      <progress value='33' max='33' style='width:300px; height:20px; vertical-align: middle;'></progress>\n",
              "      [33/33 00:09]\n",
              "    </div>\n",
              "    "
            ],
            "text/plain": [
              "<IPython.core.display.HTML object>"
            ]
          },
          "metadata": {},
          "output_type": "display_data"
        },
        {
          "metadata": {
            "tags": null
          },
          "name": "stderr",
          "output_type": "stream",
          "text": [
            "\u001b[32m[I 2021-12-19 00:09:20,592]\u001b[0m Trial 23 finished with value: 0.4820971190929413 and parameters: {'learning_rate': 5.2499775728921325e-05, 'num_train_epochs': 1, 'per_device_train_batch_size': 32, 'weight_decay': 0.0045711255418751295, 'label_smoothing_factor': 0.01608820907968688}. Best is trial 16 with value: 0.42592647671699524.\u001b[0m\n"
          ]
        },
        {
          "data": {
            "text/html": [
              "\n",
              "    <div>\n",
              "      \n",
              "      <progress value='289' max='289' style='width:300px; height:20px; vertical-align: middle;'></progress>\n",
              "      [289/289 05:08, Epoch 1/1]\n",
              "    </div>\n",
              "    <table border=\"1\" class=\"dataframe\">\n",
              "  <thead>\n",
              "    <tr style=\"text-align: left;\">\n",
              "      <th>Step</th>\n",
              "      <th>Training Loss</th>\n",
              "      <th>Validation Loss</th>\n",
              "      <th>Acc</th>\n",
              "      <th>F1</th>\n",
              "      <th>Precision</th>\n",
              "      <th>Recall</th>\n",
              "    </tr>\n",
              "  </thead>\n",
              "  <tbody>\n",
              "    <tr>\n",
              "      <td>57</td>\n",
              "      <td>No log</td>\n",
              "      <td>1.152479</td>\n",
              "      <td>0.689689</td>\n",
              "      <td>0.609123</td>\n",
              "      <td>0.761310</td>\n",
              "      <td>0.594428</td>\n",
              "    </tr>\n",
              "    <tr>\n",
              "      <td>114</td>\n",
              "      <td>No log</td>\n",
              "      <td>0.774223</td>\n",
              "      <td>0.803502</td>\n",
              "      <td>0.792173</td>\n",
              "      <td>0.829517</td>\n",
              "      <td>0.774187</td>\n",
              "    </tr>\n",
              "    <tr>\n",
              "      <td>171</td>\n",
              "      <td>No log</td>\n",
              "      <td>0.626523</td>\n",
              "      <td>0.836576</td>\n",
              "      <td>0.831897</td>\n",
              "      <td>0.836394</td>\n",
              "      <td>0.838230</td>\n",
              "    </tr>\n",
              "    <tr>\n",
              "      <td>228</td>\n",
              "      <td>No log</td>\n",
              "      <td>0.563248</td>\n",
              "      <td>0.855058</td>\n",
              "      <td>0.856708</td>\n",
              "      <td>0.859104</td>\n",
              "      <td>0.855686</td>\n",
              "    </tr>\n",
              "    <tr>\n",
              "      <td>285</td>\n",
              "      <td>No log</td>\n",
              "      <td>0.541517</td>\n",
              "      <td>0.851167</td>\n",
              "      <td>0.850850</td>\n",
              "      <td>0.854387</td>\n",
              "      <td>0.848327</td>\n",
              "    </tr>\n",
              "  </tbody>\n",
              "</table><p>"
            ],
            "text/plain": [
              "<IPython.core.display.HTML object>"
            ]
          },
          "metadata": {},
          "output_type": "display_data"
        },
        {
          "data": {
            "text/html": [
              "\n",
              "    <div>\n",
              "      \n",
              "      <progress value='33' max='33' style='width:300px; height:20px; vertical-align: middle;'></progress>\n",
              "      [33/33 00:09]\n",
              "    </div>\n",
              "    "
            ],
            "text/plain": [
              "<IPython.core.display.HTML object>"
            ]
          },
          "metadata": {},
          "output_type": "display_data"
        },
        {
          "metadata": {
            "tags": null
          },
          "name": "stderr",
          "output_type": "stream",
          "text": [
            "\u001b[32m[I 2021-12-19 00:14:44,107]\u001b[0m Trial 24 finished with value: 0.5414552688598633 and parameters: {'learning_rate': 2.8773523135577064e-05, 'num_train_epochs': 1, 'per_device_train_batch_size': 32, 'weight_decay': 0.008277556150410861, 'label_smoothing_factor': 0.01225846272100717}. Best is trial 16 with value: 0.42592647671699524.\u001b[0m\n"
          ]
        },
        {
          "data": {
            "text/html": [
              "\n",
              "    <div>\n",
              "      \n",
              "      <progress value='289' max='289' style='width:300px; height:20px; vertical-align: middle;'></progress>\n",
              "      [289/289 05:09, Epoch 1/1]\n",
              "    </div>\n",
              "    <table border=\"1\" class=\"dataframe\">\n",
              "  <thead>\n",
              "    <tr style=\"text-align: left;\">\n",
              "      <th>Step</th>\n",
              "      <th>Training Loss</th>\n",
              "      <th>Validation Loss</th>\n",
              "      <th>Acc</th>\n",
              "      <th>F1</th>\n",
              "      <th>Precision</th>\n",
              "      <th>Recall</th>\n",
              "    </tr>\n",
              "  </thead>\n",
              "  <tbody>\n",
              "    <tr>\n",
              "      <td>57</td>\n",
              "      <td>No log</td>\n",
              "      <td>0.787809</td>\n",
              "      <td>0.789883</td>\n",
              "      <td>0.780125</td>\n",
              "      <td>0.829011</td>\n",
              "      <td>0.767836</td>\n",
              "    </tr>\n",
              "    <tr>\n",
              "      <td>114</td>\n",
              "      <td>No log</td>\n",
              "      <td>0.583050</td>\n",
              "      <td>0.843385</td>\n",
              "      <td>0.844688</td>\n",
              "      <td>0.854532</td>\n",
              "      <td>0.837575</td>\n",
              "    </tr>\n",
              "    <tr>\n",
              "      <td>171</td>\n",
              "      <td>No log</td>\n",
              "      <td>0.563908</td>\n",
              "      <td>0.850195</td>\n",
              "      <td>0.851879</td>\n",
              "      <td>0.863781</td>\n",
              "      <td>0.853392</td>\n",
              "    </tr>\n",
              "    <tr>\n",
              "      <td>228</td>\n",
              "      <td>No log</td>\n",
              "      <td>0.499175</td>\n",
              "      <td>0.880350</td>\n",
              "      <td>0.876380</td>\n",
              "      <td>0.877429</td>\n",
              "      <td>0.875516</td>\n",
              "    </tr>\n",
              "    <tr>\n",
              "      <td>285</td>\n",
              "      <td>No log</td>\n",
              "      <td>0.488611</td>\n",
              "      <td>0.873541</td>\n",
              "      <td>0.871084</td>\n",
              "      <td>0.871555</td>\n",
              "      <td>0.870916</td>\n",
              "    </tr>\n",
              "  </tbody>\n",
              "</table><p>"
            ],
            "text/plain": [
              "<IPython.core.display.HTML object>"
            ]
          },
          "metadata": {},
          "output_type": "display_data"
        },
        {
          "data": {
            "text/html": [
              "\n",
              "    <div>\n",
              "      \n",
              "      <progress value='33' max='33' style='width:300px; height:20px; vertical-align: middle;'></progress>\n",
              "      [33/33 00:09]\n",
              "    </div>\n",
              "    "
            ],
            "text/plain": [
              "<IPython.core.display.HTML object>"
            ]
          },
          "metadata": {},
          "output_type": "display_data"
        },
        {
          "metadata": {
            "tags": null
          },
          "name": "stderr",
          "output_type": "stream",
          "text": [
            "\u001b[32m[I 2021-12-19 00:20:08,180]\u001b[0m Trial 25 finished with value: 0.4885106086730957 and parameters: {'learning_rate': 9.237731269323765e-05, 'num_train_epochs': 1, 'per_device_train_batch_size': 32, 'weight_decay': 0.006172710183944598, 'label_smoothing_factor': 0.02673607838901969}. Best is trial 16 with value: 0.42592647671699524.\u001b[0m\n"
          ]
        },
        {
          "data": {
            "text/html": [
              "\n",
              "    <div>\n",
              "      \n",
              "      <progress value='289' max='289' style='width:300px; height:20px; vertical-align: middle;'></progress>\n",
              "      [289/289 05:08, Epoch 1/1]\n",
              "    </div>\n",
              "    <table border=\"1\" class=\"dataframe\">\n",
              "  <thead>\n",
              "    <tr style=\"text-align: left;\">\n",
              "      <th>Step</th>\n",
              "      <th>Training Loss</th>\n",
              "      <th>Validation Loss</th>\n",
              "      <th>Acc</th>\n",
              "      <th>F1</th>\n",
              "      <th>Precision</th>\n",
              "      <th>Recall</th>\n",
              "    </tr>\n",
              "  </thead>\n",
              "  <tbody>\n",
              "    <tr>\n",
              "      <td>57</td>\n",
              "      <td>No log</td>\n",
              "      <td>0.940094</td>\n",
              "      <td>0.748054</td>\n",
              "      <td>0.703670</td>\n",
              "      <td>0.772842</td>\n",
              "      <td>0.683644</td>\n",
              "    </tr>\n",
              "    <tr>\n",
              "      <td>114</td>\n",
              "      <td>No log</td>\n",
              "      <td>0.642560</td>\n",
              "      <td>0.816148</td>\n",
              "      <td>0.813772</td>\n",
              "      <td>0.848810</td>\n",
              "      <td>0.795991</td>\n",
              "    </tr>\n",
              "    <tr>\n",
              "      <td>171</td>\n",
              "      <td>No log</td>\n",
              "      <td>0.517424</td>\n",
              "      <td>0.838521</td>\n",
              "      <td>0.836110</td>\n",
              "      <td>0.840448</td>\n",
              "      <td>0.841024</td>\n",
              "    </tr>\n",
              "    <tr>\n",
              "      <td>228</td>\n",
              "      <td>No log</td>\n",
              "      <td>0.464169</td>\n",
              "      <td>0.854086</td>\n",
              "      <td>0.854485</td>\n",
              "      <td>0.855469</td>\n",
              "      <td>0.854991</td>\n",
              "    </tr>\n",
              "    <tr>\n",
              "      <td>285</td>\n",
              "      <td>No log</td>\n",
              "      <td>0.446354</td>\n",
              "      <td>0.858949</td>\n",
              "      <td>0.859809</td>\n",
              "      <td>0.860210</td>\n",
              "      <td>0.860215</td>\n",
              "    </tr>\n",
              "  </tbody>\n",
              "</table><p>"
            ],
            "text/plain": [
              "<IPython.core.display.HTML object>"
            ]
          },
          "metadata": {},
          "output_type": "display_data"
        },
        {
          "data": {
            "text/html": [
              "\n",
              "    <div>\n",
              "      \n",
              "      <progress value='33' max='33' style='width:300px; height:20px; vertical-align: middle;'></progress>\n",
              "      [33/33 00:09]\n",
              "    </div>\n",
              "    "
            ],
            "text/plain": [
              "<IPython.core.display.HTML object>"
            ]
          },
          "metadata": {},
          "output_type": "display_data"
        },
        {
          "metadata": {
            "tags": null
          },
          "name": "stderr",
          "output_type": "stream",
          "text": [
            "\u001b[32m[I 2021-12-19 00:25:31,653]\u001b[0m Trial 26 finished with value: 0.4463348984718323 and parameters: {'learning_rate': 4.017677428215151e-05, 'num_train_epochs': 1, 'per_device_train_batch_size': 32, 'weight_decay': 0.0045095834811986375, 'label_smoothing_factor': 0.0007385953193358998}. Best is trial 16 with value: 0.42592647671699524.\u001b[0m\n"
          ]
        },
        {
          "data": {
            "text/html": [
              "\n",
              "    <div>\n",
              "      \n",
              "      <progress value='289' max='289' style='width:300px; height:20px; vertical-align: middle;'></progress>\n",
              "      [289/289 05:08, Epoch 1/1]\n",
              "    </div>\n",
              "    <table border=\"1\" class=\"dataframe\">\n",
              "  <thead>\n",
              "    <tr style=\"text-align: left;\">\n",
              "      <th>Step</th>\n",
              "      <th>Training Loss</th>\n",
              "      <th>Validation Loss</th>\n",
              "      <th>Acc</th>\n",
              "      <th>F1</th>\n",
              "      <th>Precision</th>\n",
              "      <th>Recall</th>\n",
              "    </tr>\n",
              "  </thead>\n",
              "  <tbody>\n",
              "    <tr>\n",
              "      <td>57</td>\n",
              "      <td>No log</td>\n",
              "      <td>0.850292</td>\n",
              "      <td>0.767510</td>\n",
              "      <td>0.737775</td>\n",
              "      <td>0.795601</td>\n",
              "      <td>0.723920</td>\n",
              "    </tr>\n",
              "    <tr>\n",
              "      <td>114</td>\n",
              "      <td>No log</td>\n",
              "      <td>0.619893</td>\n",
              "      <td>0.838521</td>\n",
              "      <td>0.839303</td>\n",
              "      <td>0.862795</td>\n",
              "      <td>0.825046</td>\n",
              "    </tr>\n",
              "    <tr>\n",
              "      <td>171</td>\n",
              "      <td>No log</td>\n",
              "      <td>0.564760</td>\n",
              "      <td>0.848249</td>\n",
              "      <td>0.848639</td>\n",
              "      <td>0.853991</td>\n",
              "      <td>0.853085</td>\n",
              "    </tr>\n",
              "    <tr>\n",
              "      <td>228</td>\n",
              "      <td>No log</td>\n",
              "      <td>0.505724</td>\n",
              "      <td>0.866732</td>\n",
              "      <td>0.868186</td>\n",
              "      <td>0.867012</td>\n",
              "      <td>0.870385</td>\n",
              "    </tr>\n",
              "    <tr>\n",
              "      <td>285</td>\n",
              "      <td>No log</td>\n",
              "      <td>0.488203</td>\n",
              "      <td>0.867704</td>\n",
              "      <td>0.868717</td>\n",
              "      <td>0.868685</td>\n",
              "      <td>0.869132</td>\n",
              "    </tr>\n",
              "  </tbody>\n",
              "</table><p>"
            ],
            "text/plain": [
              "<IPython.core.display.HTML object>"
            ]
          },
          "metadata": {},
          "output_type": "display_data"
        },
        {
          "data": {
            "text/html": [
              "\n",
              "    <div>\n",
              "      \n",
              "      <progress value='33' max='33' style='width:300px; height:20px; vertical-align: middle;'></progress>\n",
              "      [33/33 00:09]\n",
              "    </div>\n",
              "    "
            ],
            "text/plain": [
              "<IPython.core.display.HTML object>"
            ]
          },
          "metadata": {},
          "output_type": "display_data"
        },
        {
          "metadata": {
            "tags": null
          },
          "name": "stderr",
          "output_type": "stream",
          "text": [
            "\u001b[32m[I 2021-12-19 00:30:55,465]\u001b[0m Trial 27 finished with value: 0.4881979525089264 and parameters: {'learning_rate': 5.438179511273629e-05, 'num_train_epochs': 1, 'per_device_train_batch_size': 32, 'weight_decay': 0.006236995238465642, 'label_smoothing_factor': 0.01923292069443836}. Best is trial 16 with value: 0.42592647671699524.\u001b[0m\n"
          ]
        },
        {
          "data": {
            "text/html": [
              "\n",
              "    <div>\n",
              "      \n",
              "      <progress value='289' max='289' style='width:300px; height:20px; vertical-align: middle;'></progress>\n",
              "      [289/289 05:09, Epoch 1/1]\n",
              "    </div>\n",
              "    <table border=\"1\" class=\"dataframe\">\n",
              "  <thead>\n",
              "    <tr style=\"text-align: left;\">\n",
              "      <th>Step</th>\n",
              "      <th>Training Loss</th>\n",
              "      <th>Validation Loss</th>\n",
              "      <th>Acc</th>\n",
              "      <th>F1</th>\n",
              "      <th>Precision</th>\n",
              "      <th>Recall</th>\n",
              "    </tr>\n",
              "  </thead>\n",
              "  <tbody>\n",
              "    <tr>\n",
              "      <td>57</td>\n",
              "      <td>No log</td>\n",
              "      <td>0.755646</td>\n",
              "      <td>0.789883</td>\n",
              "      <td>0.779370</td>\n",
              "      <td>0.816982</td>\n",
              "      <td>0.772431</td>\n",
              "    </tr>\n",
              "    <tr>\n",
              "      <td>114</td>\n",
              "      <td>No log</td>\n",
              "      <td>0.537394</td>\n",
              "      <td>0.843385</td>\n",
              "      <td>0.844316</td>\n",
              "      <td>0.857132</td>\n",
              "      <td>0.836520</td>\n",
              "    </tr>\n",
              "    <tr>\n",
              "      <td>171</td>\n",
              "      <td>No log</td>\n",
              "      <td>0.490452</td>\n",
              "      <td>0.857977</td>\n",
              "      <td>0.854746</td>\n",
              "      <td>0.858068</td>\n",
              "      <td>0.860587</td>\n",
              "    </tr>\n",
              "    <tr>\n",
              "      <td>228</td>\n",
              "      <td>No log</td>\n",
              "      <td>0.436133</td>\n",
              "      <td>0.868677</td>\n",
              "      <td>0.869608</td>\n",
              "      <td>0.870668</td>\n",
              "      <td>0.868838</td>\n",
              "    </tr>\n",
              "    <tr>\n",
              "      <td>285</td>\n",
              "      <td>No log</td>\n",
              "      <td>0.424363</td>\n",
              "      <td>0.870623</td>\n",
              "      <td>0.872138</td>\n",
              "      <td>0.871349</td>\n",
              "      <td>0.873428</td>\n",
              "    </tr>\n",
              "  </tbody>\n",
              "</table><p>"
            ],
            "text/plain": [
              "<IPython.core.display.HTML object>"
            ]
          },
          "metadata": {},
          "output_type": "display_data"
        },
        {
          "data": {
            "text/html": [
              "\n",
              "    <div>\n",
              "      \n",
              "      <progress value='33' max='33' style='width:300px; height:20px; vertical-align: middle;'></progress>\n",
              "      [33/33 00:09]\n",
              "    </div>\n",
              "    "
            ],
            "text/plain": [
              "<IPython.core.display.HTML object>"
            ]
          },
          "metadata": {},
          "output_type": "display_data"
        },
        {
          "metadata": {
            "tags": null
          },
          "name": "stderr",
          "output_type": "stream",
          "text": [
            "\u001b[32m[I 2021-12-19 00:36:19,924]\u001b[0m Trial 28 finished with value: 0.42434027791023254 and parameters: {'learning_rate': 7.490386315314444e-05, 'num_train_epochs': 1, 'per_device_train_batch_size': 32, 'weight_decay': 0.008477294572143922, 'label_smoothing_factor': 0.008884041983425909}. Best is trial 28 with value: 0.42434027791023254.\u001b[0m\n"
          ]
        },
        {
          "data": {
            "text/html": [
              "\n",
              "    <div>\n",
              "      \n",
              "      <progress value='289' max='289' style='width:300px; height:20px; vertical-align: middle;'></progress>\n",
              "      [289/289 05:09, Epoch 1/1]\n",
              "    </div>\n",
              "    <table border=\"1\" class=\"dataframe\">\n",
              "  <thead>\n",
              "    <tr style=\"text-align: left;\">\n",
              "      <th>Step</th>\n",
              "      <th>Training Loss</th>\n",
              "      <th>Validation Loss</th>\n",
              "      <th>Acc</th>\n",
              "      <th>F1</th>\n",
              "      <th>Precision</th>\n",
              "      <th>Recall</th>\n",
              "    </tr>\n",
              "  </thead>\n",
              "  <tbody>\n",
              "    <tr>\n",
              "      <td>57</td>\n",
              "      <td>No log</td>\n",
              "      <td>0.740768</td>\n",
              "      <td>0.790856</td>\n",
              "      <td>0.783747</td>\n",
              "      <td>0.810647</td>\n",
              "      <td>0.781405</td>\n",
              "    </tr>\n",
              "    <tr>\n",
              "      <td>114</td>\n",
              "      <td>No log</td>\n",
              "      <td>0.548632</td>\n",
              "      <td>0.842412</td>\n",
              "      <td>0.840085</td>\n",
              "      <td>0.859568</td>\n",
              "      <td>0.828851</td>\n",
              "    </tr>\n",
              "    <tr>\n",
              "      <td>171</td>\n",
              "      <td>No log</td>\n",
              "      <td>0.493413</td>\n",
              "      <td>0.855058</td>\n",
              "      <td>0.851947</td>\n",
              "      <td>0.858547</td>\n",
              "      <td>0.855175</td>\n",
              "    </tr>\n",
              "    <tr>\n",
              "      <td>228</td>\n",
              "      <td>No log</td>\n",
              "      <td>0.435024</td>\n",
              "      <td>0.869650</td>\n",
              "      <td>0.870031</td>\n",
              "      <td>0.870059</td>\n",
              "      <td>0.870206</td>\n",
              "    </tr>\n",
              "    <tr>\n",
              "      <td>285</td>\n",
              "      <td>No log</td>\n",
              "      <td>0.421299</td>\n",
              "      <td>0.868677</td>\n",
              "      <td>0.866195</td>\n",
              "      <td>0.866954</td>\n",
              "      <td>0.865926</td>\n",
              "    </tr>\n",
              "  </tbody>\n",
              "</table><p>"
            ],
            "text/plain": [
              "<IPython.core.display.HTML object>"
            ]
          },
          "metadata": {},
          "output_type": "display_data"
        },
        {
          "data": {
            "text/html": [
              "\n",
              "    <div>\n",
              "      \n",
              "      <progress value='33' max='33' style='width:300px; height:20px; vertical-align: middle;'></progress>\n",
              "      [33/33 00:09]\n",
              "    </div>\n",
              "    "
            ],
            "text/plain": [
              "<IPython.core.display.HTML object>"
            ]
          },
          "metadata": {},
          "output_type": "display_data"
        },
        {
          "metadata": {
            "tags": null
          },
          "name": "stderr",
          "output_type": "stream",
          "text": [
            "\u001b[32m[I 2021-12-19 00:41:44,497]\u001b[0m Trial 29 finished with value: 0.42126932740211487 and parameters: {'learning_rate': 7.45337603340065e-05, 'num_train_epochs': 1, 'per_device_train_batch_size': 32, 'weight_decay': 0.008514913193257569, 'label_smoothing_factor': 0.008756157764046854}. Best is trial 29 with value: 0.42126932740211487.\u001b[0m\n"
          ]
        },
        {
          "data": {
            "text/html": [
              "\n",
              "    <div>\n",
              "      \n",
              "      <progress value='289' max='289' style='width:300px; height:20px; vertical-align: middle;'></progress>\n",
              "      [289/289 05:09, Epoch 1/1]\n",
              "    </div>\n",
              "    <table border=\"1\" class=\"dataframe\">\n",
              "  <thead>\n",
              "    <tr style=\"text-align: left;\">\n",
              "      <th>Step</th>\n",
              "      <th>Training Loss</th>\n",
              "      <th>Validation Loss</th>\n",
              "      <th>Acc</th>\n",
              "      <th>F1</th>\n",
              "      <th>Precision</th>\n",
              "      <th>Recall</th>\n",
              "    </tr>\n",
              "  </thead>\n",
              "  <tbody>\n",
              "    <tr>\n",
              "      <td>57</td>\n",
              "      <td>No log</td>\n",
              "      <td>0.802954</td>\n",
              "      <td>0.796693</td>\n",
              "      <td>0.786470</td>\n",
              "      <td>0.821295</td>\n",
              "      <td>0.779496</td>\n",
              "    </tr>\n",
              "    <tr>\n",
              "      <td>114</td>\n",
              "      <td>No log</td>\n",
              "      <td>0.618384</td>\n",
              "      <td>0.845331</td>\n",
              "      <td>0.844574</td>\n",
              "      <td>0.856068</td>\n",
              "      <td>0.837047</td>\n",
              "    </tr>\n",
              "    <tr>\n",
              "      <td>171</td>\n",
              "      <td>No log</td>\n",
              "      <td>0.593909</td>\n",
              "      <td>0.857004</td>\n",
              "      <td>0.854540</td>\n",
              "      <td>0.862175</td>\n",
              "      <td>0.859583</td>\n",
              "    </tr>\n",
              "    <tr>\n",
              "      <td>228</td>\n",
              "      <td>No log</td>\n",
              "      <td>0.538528</td>\n",
              "      <td>0.871595</td>\n",
              "      <td>0.871825</td>\n",
              "      <td>0.873872</td>\n",
              "      <td>0.870055</td>\n",
              "    </tr>\n",
              "    <tr>\n",
              "      <td>285</td>\n",
              "      <td>No log</td>\n",
              "      <td>0.529323</td>\n",
              "      <td>0.873541</td>\n",
              "      <td>0.872783</td>\n",
              "      <td>0.873087</td>\n",
              "      <td>0.872948</td>\n",
              "    </tr>\n",
              "  </tbody>\n",
              "</table><p>"
            ],
            "text/plain": [
              "<IPython.core.display.HTML object>"
            ]
          },
          "metadata": {},
          "output_type": "display_data"
        },
        {
          "data": {
            "text/html": [
              "\n",
              "    <div>\n",
              "      \n",
              "      <progress value='33' max='33' style='width:300px; height:20px; vertical-align: middle;'></progress>\n",
              "      [33/33 00:09]\n",
              "    </div>\n",
              "    "
            ],
            "text/plain": [
              "<IPython.core.display.HTML object>"
            ]
          },
          "metadata": {},
          "output_type": "display_data"
        },
        {
          "metadata": {
            "tags": null
          },
          "name": "stderr",
          "output_type": "stream",
          "text": [
            "\u001b[32m[I 2021-12-19 00:47:08,604]\u001b[0m Trial 30 finished with value: 0.529251754283905 and parameters: {'learning_rate': 8.179568921195824e-05, 'num_train_epochs': 1, 'per_device_train_batch_size': 32, 'weight_decay': 0.008254566669168139, 'label_smoothing_factor': 0.03459365678888454}. Best is trial 29 with value: 0.42126932740211487.\u001b[0m\n"
          ]
        },
        {
          "data": {
            "text/html": [
              "\n",
              "    <div>\n",
              "      \n",
              "      <progress value='289' max='289' style='width:300px; height:20px; vertical-align: middle;'></progress>\n",
              "      [289/289 05:08, Epoch 1/1]\n",
              "    </div>\n",
              "    <table border=\"1\" class=\"dataframe\">\n",
              "  <thead>\n",
              "    <tr style=\"text-align: left;\">\n",
              "      <th>Step</th>\n",
              "      <th>Training Loss</th>\n",
              "      <th>Validation Loss</th>\n",
              "      <th>Acc</th>\n",
              "      <th>F1</th>\n",
              "      <th>Precision</th>\n",
              "      <th>Recall</th>\n",
              "    </tr>\n",
              "  </thead>\n",
              "  <tbody>\n",
              "    <tr>\n",
              "      <td>57</td>\n",
              "      <td>No log</td>\n",
              "      <td>0.749115</td>\n",
              "      <td>0.792802</td>\n",
              "      <td>0.780882</td>\n",
              "      <td>0.816410</td>\n",
              "      <td>0.774685</td>\n",
              "    </tr>\n",
              "    <tr>\n",
              "      <td>114</td>\n",
              "      <td>No log</td>\n",
              "      <td>0.547882</td>\n",
              "      <td>0.842412</td>\n",
              "      <td>0.840243</td>\n",
              "      <td>0.851478</td>\n",
              "      <td>0.833540</td>\n",
              "    </tr>\n",
              "    <tr>\n",
              "      <td>171</td>\n",
              "      <td>No log</td>\n",
              "      <td>0.509983</td>\n",
              "      <td>0.856031</td>\n",
              "      <td>0.854830</td>\n",
              "      <td>0.862283</td>\n",
              "      <td>0.859990</td>\n",
              "    </tr>\n",
              "    <tr>\n",
              "      <td>228</td>\n",
              "      <td>No log</td>\n",
              "      <td>0.455366</td>\n",
              "      <td>0.866732</td>\n",
              "      <td>0.867280</td>\n",
              "      <td>0.869232</td>\n",
              "      <td>0.865613</td>\n",
              "    </tr>\n",
              "    <tr>\n",
              "      <td>285</td>\n",
              "      <td>No log</td>\n",
              "      <td>0.445862</td>\n",
              "      <td>0.869650</td>\n",
              "      <td>0.871907</td>\n",
              "      <td>0.873034</td>\n",
              "      <td>0.871325</td>\n",
              "    </tr>\n",
              "  </tbody>\n",
              "</table><p>"
            ],
            "text/plain": [
              "<IPython.core.display.HTML object>"
            ]
          },
          "metadata": {},
          "output_type": "display_data"
        },
        {
          "data": {
            "text/html": [
              "\n",
              "    <div>\n",
              "      \n",
              "      <progress value='33' max='33' style='width:300px; height:20px; vertical-align: middle;'></progress>\n",
              "      [33/33 00:09]\n",
              "    </div>\n",
              "    "
            ],
            "text/plain": [
              "<IPython.core.display.HTML object>"
            ]
          },
          "metadata": {},
          "output_type": "display_data"
        },
        {
          "metadata": {
            "tags": null
          },
          "name": "stderr",
          "output_type": "stream",
          "text": [
            "\u001b[32m[I 2021-12-19 00:52:32,259]\u001b[0m Trial 31 finished with value: 0.4457281231880188 and parameters: {'learning_rate': 8.148546295658206e-05, 'num_train_epochs': 1, 'per_device_train_batch_size': 32, 'weight_decay': 0.00866533209757696, 'label_smoothing_factor': 0.012685082738751373}. Best is trial 29 with value: 0.42126932740211487.\u001b[0m\n"
          ]
        },
        {
          "data": {
            "text/html": [
              "\n",
              "    <div>\n",
              "      \n",
              "      <progress value='289' max='289' style='width:300px; height:20px; vertical-align: middle;'></progress>\n",
              "      [289/289 05:08, Epoch 1/1]\n",
              "    </div>\n",
              "    <table border=\"1\" class=\"dataframe\">\n",
              "  <thead>\n",
              "    <tr style=\"text-align: left;\">\n",
              "      <th>Step</th>\n",
              "      <th>Training Loss</th>\n",
              "      <th>Validation Loss</th>\n",
              "      <th>Acc</th>\n",
              "      <th>F1</th>\n",
              "      <th>Precision</th>\n",
              "      <th>Recall</th>\n",
              "    </tr>\n",
              "  </thead>\n",
              "  <tbody>\n",
              "    <tr>\n",
              "      <td>57</td>\n",
              "      <td>No log</td>\n",
              "      <td>0.802339</td>\n",
              "      <td>0.776265</td>\n",
              "      <td>0.755506</td>\n",
              "      <td>0.807816</td>\n",
              "      <td>0.741098</td>\n",
              "    </tr>\n",
              "    <tr>\n",
              "      <td>114</td>\n",
              "      <td>No log</td>\n",
              "      <td>0.588563</td>\n",
              "      <td>0.835603</td>\n",
              "      <td>0.836864</td>\n",
              "      <td>0.860425</td>\n",
              "      <td>0.823193</td>\n",
              "    </tr>\n",
              "    <tr>\n",
              "      <td>171</td>\n",
              "      <td>No log</td>\n",
              "      <td>0.521974</td>\n",
              "      <td>0.846304</td>\n",
              "      <td>0.843723</td>\n",
              "      <td>0.849333</td>\n",
              "      <td>0.848895</td>\n",
              "    </tr>\n",
              "    <tr>\n",
              "      <td>228</td>\n",
              "      <td>No log</td>\n",
              "      <td>0.461477</td>\n",
              "      <td>0.867704</td>\n",
              "      <td>0.867547</td>\n",
              "      <td>0.866307</td>\n",
              "      <td>0.869829</td>\n",
              "    </tr>\n",
              "    <tr>\n",
              "      <td>285</td>\n",
              "      <td>No log</td>\n",
              "      <td>0.444471</td>\n",
              "      <td>0.865759</td>\n",
              "      <td>0.867212</td>\n",
              "      <td>0.867504</td>\n",
              "      <td>0.867329</td>\n",
              "    </tr>\n",
              "  </tbody>\n",
              "</table><p>"
            ],
            "text/plain": [
              "<IPython.core.display.HTML object>"
            ]
          },
          "metadata": {},
          "output_type": "display_data"
        },
        {
          "data": {
            "text/html": [
              "\n",
              "    <div>\n",
              "      \n",
              "      <progress value='33' max='33' style='width:300px; height:20px; vertical-align: middle;'></progress>\n",
              "      [33/33 00:09]\n",
              "    </div>\n",
              "    "
            ],
            "text/plain": [
              "<IPython.core.display.HTML object>"
            ]
          },
          "metadata": {},
          "output_type": "display_data"
        },
        {
          "metadata": {
            "tags": null
          },
          "name": "stderr",
          "output_type": "stream",
          "text": [
            "\u001b[32m[I 2021-12-19 00:57:56,081]\u001b[0m Trial 32 finished with value: 0.44445914030075073 and parameters: {'learning_rate': 5.6927447382694176e-05, 'num_train_epochs': 1, 'per_device_train_batch_size': 32, 'weight_decay': 0.006822242853185657, 'label_smoothing_factor': 0.008987514186661086}. Best is trial 29 with value: 0.42126932740211487.\u001b[0m\n"
          ]
        },
        {
          "data": {
            "text/html": [
              "\n",
              "    <div>\n",
              "      \n",
              "      <progress value='289' max='289' style='width:300px; height:20px; vertical-align: middle;'></progress>\n",
              "      [289/289 05:08, Epoch 1/1]\n",
              "    </div>\n",
              "    <table border=\"1\" class=\"dataframe\">\n",
              "  <thead>\n",
              "    <tr style=\"text-align: left;\">\n",
              "      <th>Step</th>\n",
              "      <th>Training Loss</th>\n",
              "      <th>Validation Loss</th>\n",
              "      <th>Acc</th>\n",
              "      <th>F1</th>\n",
              "      <th>Precision</th>\n",
              "      <th>Recall</th>\n",
              "    </tr>\n",
              "  </thead>\n",
              "  <tbody>\n",
              "    <tr>\n",
              "      <td>57</td>\n",
              "      <td>No log</td>\n",
              "      <td>0.786069</td>\n",
              "      <td>0.792802</td>\n",
              "      <td>0.783189</td>\n",
              "      <td>0.816389</td>\n",
              "      <td>0.779017</td>\n",
              "    </tr>\n",
              "    <tr>\n",
              "      <td>114</td>\n",
              "      <td>No log</td>\n",
              "      <td>0.588680</td>\n",
              "      <td>0.843385</td>\n",
              "      <td>0.840623</td>\n",
              "      <td>0.854456</td>\n",
              "      <td>0.831822</td>\n",
              "    </tr>\n",
              "    <tr>\n",
              "      <td>171</td>\n",
              "      <td>No log</td>\n",
              "      <td>0.540152</td>\n",
              "      <td>0.856031</td>\n",
              "      <td>0.854292</td>\n",
              "      <td>0.858372</td>\n",
              "      <td>0.859980</td>\n",
              "    </tr>\n",
              "    <tr>\n",
              "      <td>228</td>\n",
              "      <td>No log</td>\n",
              "      <td>0.491514</td>\n",
              "      <td>0.869650</td>\n",
              "      <td>0.868769</td>\n",
              "      <td>0.870253</td>\n",
              "      <td>0.867422</td>\n",
              "    </tr>\n",
              "    <tr>\n",
              "      <td>285</td>\n",
              "      <td>No log</td>\n",
              "      <td>0.478629</td>\n",
              "      <td>0.865759</td>\n",
              "      <td>0.865203</td>\n",
              "      <td>0.864670</td>\n",
              "      <td>0.866294</td>\n",
              "    </tr>\n",
              "  </tbody>\n",
              "</table><p>"
            ],
            "text/plain": [
              "<IPython.core.display.HTML object>"
            ]
          },
          "metadata": {},
          "output_type": "display_data"
        },
        {
          "data": {
            "text/html": [
              "\n",
              "    <div>\n",
              "      \n",
              "      <progress value='33' max='33' style='width:300px; height:20px; vertical-align: middle;'></progress>\n",
              "      [33/33 00:09]\n",
              "    </div>\n",
              "    "
            ],
            "text/plain": [
              "<IPython.core.display.HTML object>"
            ]
          },
          "metadata": {},
          "output_type": "display_data"
        },
        {
          "metadata": {
            "tags": null
          },
          "name": "stderr",
          "output_type": "stream",
          "text": [
            "\u001b[32m[I 2021-12-19 01:03:19,415]\u001b[0m Trial 33 finished with value: 0.4786131680011749 and parameters: {'learning_rate': 7.611088203478889e-05, 'num_train_epochs': 1, 'per_device_train_batch_size': 32, 'weight_decay': 0.009843052360608008, 'label_smoothing_factor': 0.02132318266791563}. Best is trial 29 with value: 0.42126932740211487.\u001b[0m\n"
          ]
        },
        {
          "data": {
            "text/html": [
              "\n",
              "    <div>\n",
              "      \n",
              "      <progress value='289' max='289' style='width:300px; height:20px; vertical-align: middle;'></progress>\n",
              "      [289/289 05:08, Epoch 1/1]\n",
              "    </div>\n",
              "    <table border=\"1\" class=\"dataframe\">\n",
              "  <thead>\n",
              "    <tr style=\"text-align: left;\">\n",
              "      <th>Step</th>\n",
              "      <th>Training Loss</th>\n",
              "      <th>Validation Loss</th>\n",
              "      <th>Acc</th>\n",
              "      <th>F1</th>\n",
              "      <th>Precision</th>\n",
              "      <th>Recall</th>\n",
              "    </tr>\n",
              "  </thead>\n",
              "  <tbody>\n",
              "    <tr>\n",
              "      <td>57</td>\n",
              "      <td>No log</td>\n",
              "      <td>0.691553</td>\n",
              "      <td>0.804475</td>\n",
              "      <td>0.793371</td>\n",
              "      <td>0.832192</td>\n",
              "      <td>0.779697</td>\n",
              "    </tr>\n",
              "    <tr>\n",
              "      <td>114</td>\n",
              "      <td>No log</td>\n",
              "      <td>0.501339</td>\n",
              "      <td>0.850195</td>\n",
              "      <td>0.852358</td>\n",
              "      <td>0.855663</td>\n",
              "      <td>0.850911</td>\n",
              "    </tr>\n",
              "    <tr>\n",
              "      <td>171</td>\n",
              "      <td>No log</td>\n",
              "      <td>0.492203</td>\n",
              "      <td>0.850195</td>\n",
              "      <td>0.849309</td>\n",
              "      <td>0.860953</td>\n",
              "      <td>0.849414</td>\n",
              "    </tr>\n",
              "    <tr>\n",
              "      <td>228</td>\n",
              "      <td>No log</td>\n",
              "      <td>0.425113</td>\n",
              "      <td>0.870623</td>\n",
              "      <td>0.869906</td>\n",
              "      <td>0.872336</td>\n",
              "      <td>0.868750</td>\n",
              "    </tr>\n",
              "    <tr>\n",
              "      <td>285</td>\n",
              "      <td>No log</td>\n",
              "      <td>0.408669</td>\n",
              "      <td>0.875486</td>\n",
              "      <td>0.874401</td>\n",
              "      <td>0.877284</td>\n",
              "      <td>0.872101</td>\n",
              "    </tr>\n",
              "  </tbody>\n",
              "</table><p>"
            ],
            "text/plain": [
              "<IPython.core.display.HTML object>"
            ]
          },
          "metadata": {},
          "output_type": "display_data"
        },
        {
          "data": {
            "text/html": [
              "\n",
              "    <div>\n",
              "      \n",
              "      <progress value='33' max='33' style='width:300px; height:20px; vertical-align: middle;'></progress>\n",
              "      [33/33 00:09]\n",
              "    </div>\n",
              "    "
            ],
            "text/plain": [
              "<IPython.core.display.HTML object>"
            ]
          },
          "metadata": {},
          "output_type": "display_data"
        },
        {
          "metadata": {
            "tags": null
          },
          "name": "stderr",
          "output_type": "stream",
          "text": [
            "\u001b[32m[I 2021-12-19 01:08:42,875]\u001b[0m Trial 34 finished with value: 0.4084729850292206 and parameters: {'learning_rate': 9.993453790608077e-05, 'num_train_epochs': 1, 'per_device_train_batch_size': 32, 'weight_decay': 0.0010256154555735243, 'label_smoothing_factor': 0.0063512306853832235}. Best is trial 34 with value: 0.4084729850292206.\u001b[0m\n"
          ]
        },
        {
          "data": {
            "text/html": [
              "\n",
              "    <div>\n",
              "      \n",
              "      <progress value='289' max='289' style='width:300px; height:20px; vertical-align: middle;'></progress>\n",
              "      [289/289 05:08, Epoch 1/1]\n",
              "    </div>\n",
              "    <table border=\"1\" class=\"dataframe\">\n",
              "  <thead>\n",
              "    <tr style=\"text-align: left;\">\n",
              "      <th>Step</th>\n",
              "      <th>Training Loss</th>\n",
              "      <th>Validation Loss</th>\n",
              "      <th>Acc</th>\n",
              "      <th>F1</th>\n",
              "      <th>Precision</th>\n",
              "      <th>Recall</th>\n",
              "    </tr>\n",
              "  </thead>\n",
              "  <tbody>\n",
              "    <tr>\n",
              "      <td>57</td>\n",
              "      <td>No log</td>\n",
              "      <td>0.724589</td>\n",
              "      <td>0.789883</td>\n",
              "      <td>0.783430</td>\n",
              "      <td>0.823596</td>\n",
              "      <td>0.770675</td>\n",
              "    </tr>\n",
              "    <tr>\n",
              "      <td>114</td>\n",
              "      <td>No log</td>\n",
              "      <td>0.519880</td>\n",
              "      <td>0.848249</td>\n",
              "      <td>0.849517</td>\n",
              "      <td>0.853782</td>\n",
              "      <td>0.846349</td>\n",
              "    </tr>\n",
              "    <tr>\n",
              "      <td>171</td>\n",
              "      <td>No log</td>\n",
              "      <td>0.504136</td>\n",
              "      <td>0.850195</td>\n",
              "      <td>0.849735</td>\n",
              "      <td>0.862497</td>\n",
              "      <td>0.848884</td>\n",
              "    </tr>\n",
              "    <tr>\n",
              "      <td>228</td>\n",
              "      <td>No log</td>\n",
              "      <td>0.436013</td>\n",
              "      <td>0.870623</td>\n",
              "      <td>0.869407</td>\n",
              "      <td>0.870329</td>\n",
              "      <td>0.869143</td>\n",
              "    </tr>\n",
              "    <tr>\n",
              "      <td>285</td>\n",
              "      <td>No log</td>\n",
              "      <td>0.418160</td>\n",
              "      <td>0.875486</td>\n",
              "      <td>0.875584</td>\n",
              "      <td>0.877522</td>\n",
              "      <td>0.874156</td>\n",
              "    </tr>\n",
              "  </tbody>\n",
              "</table><p>"
            ],
            "text/plain": [
              "<IPython.core.display.HTML object>"
            ]
          },
          "metadata": {},
          "output_type": "display_data"
        },
        {
          "data": {
            "text/html": [
              "\n",
              "    <div>\n",
              "      \n",
              "      <progress value='33' max='33' style='width:300px; height:20px; vertical-align: middle;'></progress>\n",
              "      [33/33 00:09]\n",
              "    </div>\n",
              "    "
            ],
            "text/plain": [
              "<IPython.core.display.HTML object>"
            ]
          },
          "metadata": {},
          "output_type": "display_data"
        },
        {
          "metadata": {
            "tags": null
          },
          "name": "stderr",
          "output_type": "stream",
          "text": [
            "\u001b[32m[I 2021-12-19 01:14:06,238]\u001b[0m Trial 35 finished with value: 0.417968213558197 and parameters: {'learning_rate': 9.769116293390851e-05, 'num_train_epochs': 1, 'per_device_train_batch_size': 32, 'weight_decay': 0.0010477428519993742, 'label_smoothing_factor': 0.00826806728251092}. Best is trial 34 with value: 0.4084729850292206.\u001b[0m\n"
          ]
        },
        {
          "data": {
            "text/html": [
              "\n",
              "    <div>\n",
              "      \n",
              "      <progress value='289' max='289' style='width:300px; height:20px; vertical-align: middle;'></progress>\n",
              "      [289/289 05:08, Epoch 1/1]\n",
              "    </div>\n",
              "    <table border=\"1\" class=\"dataframe\">\n",
              "  <thead>\n",
              "    <tr style=\"text-align: left;\">\n",
              "      <th>Step</th>\n",
              "      <th>Training Loss</th>\n",
              "      <th>Validation Loss</th>\n",
              "      <th>Acc</th>\n",
              "      <th>F1</th>\n",
              "      <th>Precision</th>\n",
              "      <th>Recall</th>\n",
              "    </tr>\n",
              "  </thead>\n",
              "  <tbody>\n",
              "    <tr>\n",
              "      <td>57</td>\n",
              "      <td>No log</td>\n",
              "      <td>0.725151</td>\n",
              "      <td>0.786965</td>\n",
              "      <td>0.779925</td>\n",
              "      <td>0.824479</td>\n",
              "      <td>0.765679</td>\n",
              "    </tr>\n",
              "    <tr>\n",
              "      <td>114</td>\n",
              "      <td>No log</td>\n",
              "      <td>0.517768</td>\n",
              "      <td>0.850195</td>\n",
              "      <td>0.851581</td>\n",
              "      <td>0.857229</td>\n",
              "      <td>0.847437</td>\n",
              "    </tr>\n",
              "    <tr>\n",
              "      <td>171</td>\n",
              "      <td>No log</td>\n",
              "      <td>0.494288</td>\n",
              "      <td>0.845331</td>\n",
              "      <td>0.844781</td>\n",
              "      <td>0.855457</td>\n",
              "      <td>0.845115</td>\n",
              "    </tr>\n",
              "    <tr>\n",
              "      <td>228</td>\n",
              "      <td>No log</td>\n",
              "      <td>0.437627</td>\n",
              "      <td>0.868677</td>\n",
              "      <td>0.867340</td>\n",
              "      <td>0.869525</td>\n",
              "      <td>0.866310</td>\n",
              "    </tr>\n",
              "    <tr>\n",
              "      <td>285</td>\n",
              "      <td>No log</td>\n",
              "      <td>0.418763</td>\n",
              "      <td>0.877432</td>\n",
              "      <td>0.877701</td>\n",
              "      <td>0.880116</td>\n",
              "      <td>0.876048</td>\n",
              "    </tr>\n",
              "  </tbody>\n",
              "</table><p>"
            ],
            "text/plain": [
              "<IPython.core.display.HTML object>"
            ]
          },
          "metadata": {},
          "output_type": "display_data"
        },
        {
          "data": {
            "text/html": [
              "\n",
              "    <div>\n",
              "      \n",
              "      <progress value='33' max='33' style='width:300px; height:20px; vertical-align: middle;'></progress>\n",
              "      [33/33 00:09]\n",
              "    </div>\n",
              "    "
            ],
            "text/plain": [
              "<IPython.core.display.HTML object>"
            ]
          },
          "metadata": {},
          "output_type": "display_data"
        },
        {
          "metadata": {
            "tags": null
          },
          "name": "stderr",
          "output_type": "stream",
          "text": [
            "\u001b[32m[I 2021-12-19 01:19:29,521]\u001b[0m Trial 36 finished with value: 0.4186168909072876 and parameters: {'learning_rate': 9.900786024652101e-05, 'num_train_epochs': 1, 'per_device_train_batch_size': 32, 'weight_decay': 0.0010932035242713395, 'label_smoothing_factor': 0.00809980207036672}. Best is trial 34 with value: 0.4084729850292206.\u001b[0m\n"
          ]
        },
        {
          "data": {
            "text/html": [
              "\n",
              "    <div>\n",
              "      \n",
              "      <progress value='289' max='289' style='width:300px; height:20px; vertical-align: middle;'></progress>\n",
              "      [289/289 05:08, Epoch 1/1]\n",
              "    </div>\n",
              "    <table border=\"1\" class=\"dataframe\">\n",
              "  <thead>\n",
              "    <tr style=\"text-align: left;\">\n",
              "      <th>Step</th>\n",
              "      <th>Training Loss</th>\n",
              "      <th>Validation Loss</th>\n",
              "      <th>Acc</th>\n",
              "      <th>F1</th>\n",
              "      <th>Precision</th>\n",
              "      <th>Recall</th>\n",
              "    </tr>\n",
              "  </thead>\n",
              "  <tbody>\n",
              "    <tr>\n",
              "      <td>57</td>\n",
              "      <td>No log</td>\n",
              "      <td>0.764837</td>\n",
              "      <td>0.790856</td>\n",
              "      <td>0.779531</td>\n",
              "      <td>0.825322</td>\n",
              "      <td>0.766185</td>\n",
              "    </tr>\n",
              "    <tr>\n",
              "      <td>114</td>\n",
              "      <td>No log</td>\n",
              "      <td>0.568367</td>\n",
              "      <td>0.857004</td>\n",
              "      <td>0.857945</td>\n",
              "      <td>0.864018</td>\n",
              "      <td>0.853152</td>\n",
              "    </tr>\n",
              "    <tr>\n",
              "      <td>171</td>\n",
              "      <td>No log</td>\n",
              "      <td>0.546162</td>\n",
              "      <td>0.857004</td>\n",
              "      <td>0.854985</td>\n",
              "      <td>0.869316</td>\n",
              "      <td>0.852389</td>\n",
              "    </tr>\n",
              "    <tr>\n",
              "      <td>228</td>\n",
              "      <td>No log</td>\n",
              "      <td>0.494696</td>\n",
              "      <td>0.868677</td>\n",
              "      <td>0.865393</td>\n",
              "      <td>0.867829</td>\n",
              "      <td>0.864199</td>\n",
              "    </tr>\n",
              "    <tr>\n",
              "      <td>285</td>\n",
              "      <td>No log</td>\n",
              "      <td>0.477075</td>\n",
              "      <td>0.878405</td>\n",
              "      <td>0.876768</td>\n",
              "      <td>0.878913</td>\n",
              "      <td>0.875664</td>\n",
              "    </tr>\n",
              "  </tbody>\n",
              "</table><p>"
            ],
            "text/plain": [
              "<IPython.core.display.HTML object>"
            ]
          },
          "metadata": {},
          "output_type": "display_data"
        },
        {
          "data": {
            "text/html": [
              "\n",
              "    <div>\n",
              "      \n",
              "      <progress value='33' max='33' style='width:300px; height:20px; vertical-align: middle;'></progress>\n",
              "      [33/33 00:09]\n",
              "    </div>\n",
              "    "
            ],
            "text/plain": [
              "<IPython.core.display.HTML object>"
            ]
          },
          "metadata": {},
          "output_type": "display_data"
        },
        {
          "metadata": {
            "tags": null
          },
          "name": "stderr",
          "output_type": "stream",
          "text": [
            "\u001b[32m[I 2021-12-19 01:24:53,010]\u001b[0m Trial 37 finished with value: 0.47695791721343994 and parameters: {'learning_rate': 9.963621913380234e-05, 'num_train_epochs': 1, 'per_device_train_batch_size': 32, 'weight_decay': 0.0010621726231993312, 'label_smoothing_factor': 0.023345832675897116}. Best is trial 34 with value: 0.4084729850292206.\u001b[0m\n"
          ]
        },
        {
          "data": {
            "text/html": [
              "\n",
              "    <div>\n",
              "      \n",
              "      <progress value='289' max='289' style='width:300px; height:20px; vertical-align: middle;'></progress>\n",
              "      [289/289 05:08, Epoch 1/1]\n",
              "    </div>\n",
              "    <table border=\"1\" class=\"dataframe\">\n",
              "  <thead>\n",
              "    <tr style=\"text-align: left;\">\n",
              "      <th>Step</th>\n",
              "      <th>Training Loss</th>\n",
              "      <th>Validation Loss</th>\n",
              "      <th>Acc</th>\n",
              "      <th>F1</th>\n",
              "      <th>Precision</th>\n",
              "      <th>Recall</th>\n",
              "    </tr>\n",
              "  </thead>\n",
              "  <tbody>\n",
              "    <tr>\n",
              "      <td>57</td>\n",
              "      <td>No log</td>\n",
              "      <td>0.693833</td>\n",
              "      <td>0.804475</td>\n",
              "      <td>0.796895</td>\n",
              "      <td>0.829190</td>\n",
              "      <td>0.788364</td>\n",
              "    </tr>\n",
              "    <tr>\n",
              "      <td>114</td>\n",
              "      <td>No log</td>\n",
              "      <td>0.537547</td>\n",
              "      <td>0.835603</td>\n",
              "      <td>0.835105</td>\n",
              "      <td>0.851761</td>\n",
              "      <td>0.823737</td>\n",
              "    </tr>\n",
              "    <tr>\n",
              "      <td>171</td>\n",
              "      <td>No log</td>\n",
              "      <td>0.489783</td>\n",
              "      <td>0.857004</td>\n",
              "      <td>0.855148</td>\n",
              "      <td>0.861461</td>\n",
              "      <td>0.859993</td>\n",
              "    </tr>\n",
              "    <tr>\n",
              "      <td>228</td>\n",
              "      <td>No log</td>\n",
              "      <td>0.432331</td>\n",
              "      <td>0.874514</td>\n",
              "      <td>0.873452</td>\n",
              "      <td>0.875018</td>\n",
              "      <td>0.872129</td>\n",
              "    </tr>\n",
              "    <tr>\n",
              "      <td>285</td>\n",
              "      <td>No log</td>\n",
              "      <td>0.419188</td>\n",
              "      <td>0.874514</td>\n",
              "      <td>0.872574</td>\n",
              "      <td>0.872032</td>\n",
              "      <td>0.873442</td>\n",
              "    </tr>\n",
              "  </tbody>\n",
              "</table><p>"
            ],
            "text/plain": [
              "<IPython.core.display.HTML object>"
            ]
          },
          "metadata": {},
          "output_type": "display_data"
        },
        {
          "data": {
            "text/html": [
              "\n",
              "    <div>\n",
              "      \n",
              "      <progress value='33' max='33' style='width:300px; height:20px; vertical-align: middle;'></progress>\n",
              "      [33/33 00:09]\n",
              "    </div>\n",
              "    "
            ],
            "text/plain": [
              "<IPython.core.display.HTML object>"
            ]
          },
          "metadata": {},
          "output_type": "display_data"
        },
        {
          "metadata": {
            "tags": null
          },
          "name": "stderr",
          "output_type": "stream",
          "text": [
            "\u001b[32m[I 2021-12-19 01:30:16,993]\u001b[0m Trial 38 finished with value: 0.4191163182258606 and parameters: {'learning_rate': 8.775761134215727e-05, 'num_train_epochs': 1, 'per_device_train_batch_size': 32, 'weight_decay': 0.0012597251601471965, 'label_smoothing_factor': 0.008243047886242763}. Best is trial 34 with value: 0.4084729850292206.\u001b[0m\n"
          ]
        },
        {
          "data": {
            "text/html": [
              "\n",
              "    <div>\n",
              "      \n",
              "      <progress value='289' max='289' style='width:300px; height:20px; vertical-align: middle;'></progress>\n",
              "      [289/289 05:09, Epoch 1/1]\n",
              "    </div>\n",
              "    <table border=\"1\" class=\"dataframe\">\n",
              "  <thead>\n",
              "    <tr style=\"text-align: left;\">\n",
              "      <th>Step</th>\n",
              "      <th>Training Loss</th>\n",
              "      <th>Validation Loss</th>\n",
              "      <th>Acc</th>\n",
              "      <th>F1</th>\n",
              "      <th>Precision</th>\n",
              "      <th>Recall</th>\n",
              "    </tr>\n",
              "  </thead>\n",
              "  <tbody>\n",
              "    <tr>\n",
              "      <td>57</td>\n",
              "      <td>No log</td>\n",
              "      <td>0.740079</td>\n",
              "      <td>0.785992</td>\n",
              "      <td>0.768262</td>\n",
              "      <td>0.817612</td>\n",
              "      <td>0.758138</td>\n",
              "    </tr>\n",
              "    <tr>\n",
              "      <td>114</td>\n",
              "      <td>No log</td>\n",
              "      <td>0.553628</td>\n",
              "      <td>0.846304</td>\n",
              "      <td>0.844433</td>\n",
              "      <td>0.856931</td>\n",
              "      <td>0.835752</td>\n",
              "    </tr>\n",
              "    <tr>\n",
              "      <td>171</td>\n",
              "      <td>No log</td>\n",
              "      <td>0.515838</td>\n",
              "      <td>0.854086</td>\n",
              "      <td>0.851667</td>\n",
              "      <td>0.857530</td>\n",
              "      <td>0.857058</td>\n",
              "    </tr>\n",
              "    <tr>\n",
              "      <td>228</td>\n",
              "      <td>No log</td>\n",
              "      <td>0.448469</td>\n",
              "      <td>0.879377</td>\n",
              "      <td>0.878391</td>\n",
              "      <td>0.878321</td>\n",
              "      <td>0.878756</td>\n",
              "    </tr>\n",
              "    <tr>\n",
              "      <td>285</td>\n",
              "      <td>No log</td>\n",
              "      <td>0.437966</td>\n",
              "      <td>0.879377</td>\n",
              "      <td>0.878826</td>\n",
              "      <td>0.879592</td>\n",
              "      <td>0.878658</td>\n",
              "    </tr>\n",
              "  </tbody>\n",
              "</table><p>"
            ],
            "text/plain": [
              "<IPython.core.display.HTML object>"
            ]
          },
          "metadata": {},
          "output_type": "display_data"
        },
        {
          "data": {
            "text/html": [
              "\n",
              "    <div>\n",
              "      \n",
              "      <progress value='33' max='33' style='width:300px; height:20px; vertical-align: middle;'></progress>\n",
              "      [33/33 00:09]\n",
              "    </div>\n",
              "    "
            ],
            "text/plain": [
              "<IPython.core.display.HTML object>"
            ]
          },
          "metadata": {},
          "output_type": "display_data"
        },
        {
          "metadata": {
            "tags": null
          },
          "name": "stderr",
          "output_type": "stream",
          "text": [
            "\u001b[32m[I 2021-12-19 01:35:41,148]\u001b[0m Trial 39 finished with value: 0.4378919303417206 and parameters: {'learning_rate': 8.820430991323442e-05, 'num_train_epochs': 1, 'per_device_train_batch_size': 32, 'weight_decay': 0.001257829494881968, 'label_smoothing_factor': 0.014236481513535229}. Best is trial 34 with value: 0.4084729850292206.\u001b[0m\n"
          ]
        },
        {
          "data": {
            "text/html": [
              "\n",
              "    <div>\n",
              "      \n",
              "      <progress value='289' max='289' style='width:300px; height:20px; vertical-align: middle;'></progress>\n",
              "      [289/289 05:08, Epoch 1/1]\n",
              "    </div>\n",
              "    <table border=\"1\" class=\"dataframe\">\n",
              "  <thead>\n",
              "    <tr style=\"text-align: left;\">\n",
              "      <th>Step</th>\n",
              "      <th>Training Loss</th>\n",
              "      <th>Validation Loss</th>\n",
              "      <th>Acc</th>\n",
              "      <th>F1</th>\n",
              "      <th>Precision</th>\n",
              "      <th>Recall</th>\n",
              "    </tr>\n",
              "  </thead>\n",
              "  <tbody>\n",
              "    <tr>\n",
              "      <td>57</td>\n",
              "      <td>No log</td>\n",
              "      <td>0.905782</td>\n",
              "      <td>0.795720</td>\n",
              "      <td>0.782825</td>\n",
              "      <td>0.823643</td>\n",
              "      <td>0.767095</td>\n",
              "    </tr>\n",
              "    <tr>\n",
              "      <td>114</td>\n",
              "      <td>No log</td>\n",
              "      <td>0.736887</td>\n",
              "      <td>0.847276</td>\n",
              "      <td>0.850228</td>\n",
              "      <td>0.850181</td>\n",
              "      <td>0.851002</td>\n",
              "    </tr>\n",
              "    <tr>\n",
              "      <td>171</td>\n",
              "      <td>No log</td>\n",
              "      <td>0.726547</td>\n",
              "      <td>0.848249</td>\n",
              "      <td>0.846661</td>\n",
              "      <td>0.858839</td>\n",
              "      <td>0.846015</td>\n",
              "    </tr>\n",
              "    <tr>\n",
              "      <td>228</td>\n",
              "      <td>No log</td>\n",
              "      <td>0.678761</td>\n",
              "      <td>0.870623</td>\n",
              "      <td>0.869926</td>\n",
              "      <td>0.871131</td>\n",
              "      <td>0.870179</td>\n",
              "    </tr>\n",
              "    <tr>\n",
              "      <td>285</td>\n",
              "      <td>No log</td>\n",
              "      <td>0.664043</td>\n",
              "      <td>0.874514</td>\n",
              "      <td>0.872614</td>\n",
              "      <td>0.875646</td>\n",
              "      <td>0.870593</td>\n",
              "    </tr>\n",
              "  </tbody>\n",
              "</table><p>"
            ],
            "text/plain": [
              "<IPython.core.display.HTML object>"
            ]
          },
          "metadata": {},
          "output_type": "display_data"
        },
        {
          "data": {
            "text/html": [
              "\n",
              "    <div>\n",
              "      \n",
              "      <progress value='33' max='33' style='width:300px; height:20px; vertical-align: middle;'></progress>\n",
              "      [33/33 00:09]\n",
              "    </div>\n",
              "    "
            ],
            "text/plain": [
              "<IPython.core.display.HTML object>"
            ]
          },
          "metadata": {},
          "output_type": "display_data"
        },
        {
          "metadata": {
            "tags": null
          },
          "name": "stderr",
          "output_type": "stream",
          "text": [
            "\u001b[32m[I 2021-12-19 01:41:04,805]\u001b[0m Trial 40 finished with value: 0.6638225317001343 and parameters: {'learning_rate': 9.919461697947092e-05, 'num_train_epochs': 1, 'per_device_train_batch_size': 32, 'weight_decay': 0.0012922469966618374, 'label_smoothing_factor': 0.06920759304752172}. Best is trial 34 with value: 0.4084729850292206.\u001b[0m\n"
          ]
        },
        {
          "data": {
            "text/html": [
              "\n",
              "    <div>\n",
              "      \n",
              "      <progress value='289' max='289' style='width:300px; height:20px; vertical-align: middle;'></progress>\n",
              "      [289/289 05:08, Epoch 1/1]\n",
              "    </div>\n",
              "    <table border=\"1\" class=\"dataframe\">\n",
              "  <thead>\n",
              "    <tr style=\"text-align: left;\">\n",
              "      <th>Step</th>\n",
              "      <th>Training Loss</th>\n",
              "      <th>Validation Loss</th>\n",
              "      <th>Acc</th>\n",
              "      <th>F1</th>\n",
              "      <th>Precision</th>\n",
              "      <th>Recall</th>\n",
              "    </tr>\n",
              "  </thead>\n",
              "  <tbody>\n",
              "    <tr>\n",
              "      <td>57</td>\n",
              "      <td>No log</td>\n",
              "      <td>0.719654</td>\n",
              "      <td>0.797665</td>\n",
              "      <td>0.790930</td>\n",
              "      <td>0.826191</td>\n",
              "      <td>0.781563</td>\n",
              "    </tr>\n",
              "    <tr>\n",
              "      <td>114</td>\n",
              "      <td>No log</td>\n",
              "      <td>0.526956</td>\n",
              "      <td>0.843385</td>\n",
              "      <td>0.841857</td>\n",
              "      <td>0.855035</td>\n",
              "      <td>0.834038</td>\n",
              "    </tr>\n",
              "    <tr>\n",
              "      <td>171</td>\n",
              "      <td>No log</td>\n",
              "      <td>0.488932</td>\n",
              "      <td>0.855058</td>\n",
              "      <td>0.856528</td>\n",
              "      <td>0.863792</td>\n",
              "      <td>0.861029</td>\n",
              "    </tr>\n",
              "    <tr>\n",
              "      <td>228</td>\n",
              "      <td>No log</td>\n",
              "      <td>0.428918</td>\n",
              "      <td>0.868677</td>\n",
              "      <td>0.867644</td>\n",
              "      <td>0.868865</td>\n",
              "      <td>0.866571</td>\n",
              "    </tr>\n",
              "    <tr>\n",
              "      <td>285</td>\n",
              "      <td>No log</td>\n",
              "      <td>0.419594</td>\n",
              "      <td>0.871595</td>\n",
              "      <td>0.871897</td>\n",
              "      <td>0.872281</td>\n",
              "      <td>0.871826</td>\n",
              "    </tr>\n",
              "  </tbody>\n",
              "</table><p>"
            ],
            "text/plain": [
              "<IPython.core.display.HTML object>"
            ]
          },
          "metadata": {},
          "output_type": "display_data"
        },
        {
          "data": {
            "text/html": [
              "\n",
              "    <div>\n",
              "      \n",
              "      <progress value='33' max='33' style='width:300px; height:20px; vertical-align: middle;'></progress>\n",
              "      [33/33 00:09]\n",
              "    </div>\n",
              "    "
            ],
            "text/plain": [
              "<IPython.core.display.HTML object>"
            ]
          },
          "metadata": {},
          "output_type": "display_data"
        },
        {
          "metadata": {
            "tags": null
          },
          "name": "stderr",
          "output_type": "stream",
          "text": [
            "\u001b[32m[I 2021-12-19 01:46:28,336]\u001b[0m Trial 41 finished with value: 0.4192184805870056 and parameters: {'learning_rate': 8.410724600460766e-05, 'num_train_epochs': 1, 'per_device_train_batch_size': 32, 'weight_decay': 0.0015110751277992809, 'label_smoothing_factor': 0.007428968789454836}. Best is trial 34 with value: 0.4084729850292206.\u001b[0m\n"
          ]
        },
        {
          "data": {
            "text/html": [
              "\n",
              "    <div>\n",
              "      \n",
              "      <progress value='289' max='289' style='width:300px; height:20px; vertical-align: middle;'></progress>\n",
              "      [289/289 05:09, Epoch 1/1]\n",
              "    </div>\n",
              "    <table border=\"1\" class=\"dataframe\">\n",
              "  <thead>\n",
              "    <tr style=\"text-align: left;\">\n",
              "      <th>Step</th>\n",
              "      <th>Training Loss</th>\n",
              "      <th>Validation Loss</th>\n",
              "      <th>Acc</th>\n",
              "      <th>F1</th>\n",
              "      <th>Precision</th>\n",
              "      <th>Recall</th>\n",
              "    </tr>\n",
              "  </thead>\n",
              "  <tbody>\n",
              "    <tr>\n",
              "      <td>57</td>\n",
              "      <td>No log</td>\n",
              "      <td>0.686676</td>\n",
              "      <td>0.808366</td>\n",
              "      <td>0.804990</td>\n",
              "      <td>0.834411</td>\n",
              "      <td>0.796678</td>\n",
              "    </tr>\n",
              "    <tr>\n",
              "      <td>114</td>\n",
              "      <td>No log</td>\n",
              "      <td>0.529694</td>\n",
              "      <td>0.841440</td>\n",
              "      <td>0.838681</td>\n",
              "      <td>0.856266</td>\n",
              "      <td>0.828532</td>\n",
              "    </tr>\n",
              "    <tr>\n",
              "      <td>171</td>\n",
              "      <td>No log</td>\n",
              "      <td>0.491558</td>\n",
              "      <td>0.857004</td>\n",
              "      <td>0.857813</td>\n",
              "      <td>0.865945</td>\n",
              "      <td>0.861789</td>\n",
              "    </tr>\n",
              "    <tr>\n",
              "      <td>228</td>\n",
              "      <td>No log</td>\n",
              "      <td>0.421301</td>\n",
              "      <td>0.868677</td>\n",
              "      <td>0.868764</td>\n",
              "      <td>0.870726</td>\n",
              "      <td>0.866942</td>\n",
              "    </tr>\n",
              "    <tr>\n",
              "      <td>285</td>\n",
              "      <td>No log</td>\n",
              "      <td>0.407248</td>\n",
              "      <td>0.872568</td>\n",
              "      <td>0.874357</td>\n",
              "      <td>0.876419</td>\n",
              "      <td>0.872703</td>\n",
              "    </tr>\n",
              "  </tbody>\n",
              "</table><p>"
            ],
            "text/plain": [
              "<IPython.core.display.HTML object>"
            ]
          },
          "metadata": {},
          "output_type": "display_data"
        },
        {
          "data": {
            "text/html": [
              "\n",
              "    <div>\n",
              "      \n",
              "      <progress value='33' max='33' style='width:300px; height:20px; vertical-align: middle;'></progress>\n",
              "      [33/33 00:09]\n",
              "    </div>\n",
              "    "
            ],
            "text/plain": [
              "<IPython.core.display.HTML object>"
            ]
          },
          "metadata": {},
          "output_type": "display_data"
        },
        {
          "metadata": {
            "tags": null
          },
          "name": "stderr",
          "output_type": "stream",
          "text": [
            "\u001b[32m[I 2021-12-19 01:51:52,514]\u001b[0m Trial 42 finished with value: 0.40703555941581726 and parameters: {'learning_rate': 8.567722979991723e-05, 'num_train_epochs': 1, 'per_device_train_batch_size': 32, 'weight_decay': 0.0010003963359782894, 'label_smoothing_factor': 0.006466751607772679}. Best is trial 42 with value: 0.40703555941581726.\u001b[0m\n"
          ]
        },
        {
          "data": {
            "text/html": [
              "\n",
              "    <div>\n",
              "      \n",
              "      <progress value='289' max='289' style='width:300px; height:20px; vertical-align: middle;'></progress>\n",
              "      [289/289 05:09, Epoch 1/1]\n",
              "    </div>\n",
              "    <table border=\"1\" class=\"dataframe\">\n",
              "  <thead>\n",
              "    <tr style=\"text-align: left;\">\n",
              "      <th>Step</th>\n",
              "      <th>Training Loss</th>\n",
              "      <th>Validation Loss</th>\n",
              "      <th>Acc</th>\n",
              "      <th>F1</th>\n",
              "      <th>Precision</th>\n",
              "      <th>Recall</th>\n",
              "    </tr>\n",
              "  </thead>\n",
              "  <tbody>\n",
              "    <tr>\n",
              "      <td>57</td>\n",
              "      <td>No log</td>\n",
              "      <td>0.788979</td>\n",
              "      <td>0.789883</td>\n",
              "      <td>0.776126</td>\n",
              "      <td>0.807474</td>\n",
              "      <td>0.772056</td>\n",
              "    </tr>\n",
              "    <tr>\n",
              "      <td>114</td>\n",
              "      <td>No log</td>\n",
              "      <td>0.576614</td>\n",
              "      <td>0.845331</td>\n",
              "      <td>0.844311</td>\n",
              "      <td>0.858637</td>\n",
              "      <td>0.835351</td>\n",
              "    </tr>\n",
              "    <tr>\n",
              "      <td>171</td>\n",
              "      <td>No log</td>\n",
              "      <td>0.526916</td>\n",
              "      <td>0.859922</td>\n",
              "      <td>0.856988</td>\n",
              "      <td>0.862760</td>\n",
              "      <td>0.861679</td>\n",
              "    </tr>\n",
              "    <tr>\n",
              "      <td>228</td>\n",
              "      <td>No log</td>\n",
              "      <td>0.470218</td>\n",
              "      <td>0.870623</td>\n",
              "      <td>0.870901</td>\n",
              "      <td>0.871522</td>\n",
              "      <td>0.870402</td>\n",
              "    </tr>\n",
              "    <tr>\n",
              "      <td>285</td>\n",
              "      <td>No log</td>\n",
              "      <td>0.457613</td>\n",
              "      <td>0.871595</td>\n",
              "      <td>0.871028</td>\n",
              "      <td>0.870667</td>\n",
              "      <td>0.871849</td>\n",
              "    </tr>\n",
              "  </tbody>\n",
              "</table><p>"
            ],
            "text/plain": [
              "<IPython.core.display.HTML object>"
            ]
          },
          "metadata": {},
          "output_type": "display_data"
        },
        {
          "data": {
            "text/html": [
              "\n",
              "    <div>\n",
              "      \n",
              "      <progress value='33' max='33' style='width:300px; height:20px; vertical-align: middle;'></progress>\n",
              "      [33/33 00:09]\n",
              "    </div>\n",
              "    "
            ],
            "text/plain": [
              "<IPython.core.display.HTML object>"
            ]
          },
          "metadata": {},
          "output_type": "display_data"
        },
        {
          "metadata": {
            "tags": null
          },
          "name": "stderr",
          "output_type": "stream",
          "text": [
            "\u001b[32m[I 2021-12-19 01:57:16,991]\u001b[0m Trial 43 finished with value: 0.4576463997364044 and parameters: {'learning_rate': 7.056830565909492e-05, 'num_train_epochs': 1, 'per_device_train_batch_size': 32, 'weight_decay': 0.0010029018392979597, 'label_smoothing_factor': 0.016330609047599143}. Best is trial 42 with value: 0.40703555941581726.\u001b[0m\n"
          ]
        },
        {
          "data": {
            "text/html": [
              "\n",
              "    <div>\n",
              "      \n",
              "      <progress value='289' max='289' style='width:300px; height:20px; vertical-align: middle;'></progress>\n",
              "      [289/289 05:09, Epoch 1/1]\n",
              "    </div>\n",
              "    <table border=\"1\" class=\"dataframe\">\n",
              "  <thead>\n",
              "    <tr style=\"text-align: left;\">\n",
              "      <th>Step</th>\n",
              "      <th>Training Loss</th>\n",
              "      <th>Validation Loss</th>\n",
              "      <th>Acc</th>\n",
              "      <th>F1</th>\n",
              "      <th>Precision</th>\n",
              "      <th>Recall</th>\n",
              "    </tr>\n",
              "  </thead>\n",
              "  <tbody>\n",
              "    <tr>\n",
              "      <td>57</td>\n",
              "      <td>No log</td>\n",
              "      <td>0.782126</td>\n",
              "      <td>0.792802</td>\n",
              "      <td>0.787621</td>\n",
              "      <td>0.821659</td>\n",
              "      <td>0.778708</td>\n",
              "    </tr>\n",
              "    <tr>\n",
              "      <td>114</td>\n",
              "      <td>No log</td>\n",
              "      <td>0.548475</td>\n",
              "      <td>0.840467</td>\n",
              "      <td>0.841661</td>\n",
              "      <td>0.859936</td>\n",
              "      <td>0.829905</td>\n",
              "    </tr>\n",
              "    <tr>\n",
              "      <td>171</td>\n",
              "      <td>No log</td>\n",
              "      <td>0.492568</td>\n",
              "      <td>0.853113</td>\n",
              "      <td>0.850700</td>\n",
              "      <td>0.854954</td>\n",
              "      <td>0.856295</td>\n",
              "    </tr>\n",
              "    <tr>\n",
              "      <td>228</td>\n",
              "      <td>No log</td>\n",
              "      <td>0.433800</td>\n",
              "      <td>0.866732</td>\n",
              "      <td>0.865504</td>\n",
              "      <td>0.865012</td>\n",
              "      <td>0.866193</td>\n",
              "    </tr>\n",
              "    <tr>\n",
              "      <td>285</td>\n",
              "      <td>No log</td>\n",
              "      <td>0.419810</td>\n",
              "      <td>0.871595</td>\n",
              "      <td>0.871078</td>\n",
              "      <td>0.871701</td>\n",
              "      <td>0.870967</td>\n",
              "    </tr>\n",
              "  </tbody>\n",
              "</table><p>"
            ],
            "text/plain": [
              "<IPython.core.display.HTML object>"
            ]
          },
          "metadata": {},
          "output_type": "display_data"
        },
        {
          "data": {
            "text/html": [
              "\n",
              "    <div>\n",
              "      \n",
              "      <progress value='33' max='33' style='width:300px; height:20px; vertical-align: middle;'></progress>\n",
              "      [33/33 00:09]\n",
              "    </div>\n",
              "    "
            ],
            "text/plain": [
              "<IPython.core.display.HTML object>"
            ]
          },
          "metadata": {},
          "output_type": "display_data"
        },
        {
          "metadata": {
            "tags": null
          },
          "name": "stderr",
          "output_type": "stream",
          "text": [
            "\u001b[32m[I 2021-12-19 02:02:41,483]\u001b[0m Trial 44 finished with value: 0.4198647737503052 and parameters: {'learning_rate': 6.277456193778829e-05, 'num_train_epochs': 1, 'per_device_train_batch_size': 32, 'weight_decay': 0.001180034686859075, 'label_smoothing_factor': 0.0056800216140093975}. Best is trial 42 with value: 0.40703555941581726.\u001b[0m\n"
          ]
        },
        {
          "data": {
            "text/html": [
              "\n",
              "    <div>\n",
              "      \n",
              "      <progress value='289' max='289' style='width:300px; height:20px; vertical-align: middle;'></progress>\n",
              "      [289/289 05:09, Epoch 1/1]\n",
              "    </div>\n",
              "    <table border=\"1\" class=\"dataframe\">\n",
              "  <thead>\n",
              "    <tr style=\"text-align: left;\">\n",
              "      <th>Step</th>\n",
              "      <th>Training Loss</th>\n",
              "      <th>Validation Loss</th>\n",
              "      <th>Acc</th>\n",
              "      <th>F1</th>\n",
              "      <th>Precision</th>\n",
              "      <th>Recall</th>\n",
              "    </tr>\n",
              "  </thead>\n",
              "  <tbody>\n",
              "    <tr>\n",
              "      <td>57</td>\n",
              "      <td>No log</td>\n",
              "      <td>0.776174</td>\n",
              "      <td>0.785019</td>\n",
              "      <td>0.766879</td>\n",
              "      <td>0.813199</td>\n",
              "      <td>0.758390</td>\n",
              "    </tr>\n",
              "    <tr>\n",
              "      <td>114</td>\n",
              "      <td>No log</td>\n",
              "      <td>0.587862</td>\n",
              "      <td>0.847276</td>\n",
              "      <td>0.848591</td>\n",
              "      <td>0.860472</td>\n",
              "      <td>0.842784</td>\n",
              "    </tr>\n",
              "    <tr>\n",
              "      <td>171</td>\n",
              "      <td>No log</td>\n",
              "      <td>0.559698</td>\n",
              "      <td>0.852140</td>\n",
              "      <td>0.853207</td>\n",
              "      <td>0.862313</td>\n",
              "      <td>0.856511</td>\n",
              "    </tr>\n",
              "    <tr>\n",
              "      <td>228</td>\n",
              "      <td>No log</td>\n",
              "      <td>0.493749</td>\n",
              "      <td>0.871595</td>\n",
              "      <td>0.870068</td>\n",
              "      <td>0.872942</td>\n",
              "      <td>0.867970</td>\n",
              "    </tr>\n",
              "    <tr>\n",
              "      <td>285</td>\n",
              "      <td>No log</td>\n",
              "      <td>0.480268</td>\n",
              "      <td>0.877432</td>\n",
              "      <td>0.876315</td>\n",
              "      <td>0.878100</td>\n",
              "      <td>0.875013</td>\n",
              "    </tr>\n",
              "  </tbody>\n",
              "</table><p>"
            ],
            "text/plain": [
              "<IPython.core.display.HTML object>"
            ]
          },
          "metadata": {},
          "output_type": "display_data"
        },
        {
          "data": {
            "text/html": [
              "\n",
              "    <div>\n",
              "      \n",
              "      <progress value='33' max='33' style='width:300px; height:20px; vertical-align: middle;'></progress>\n",
              "      [33/33 00:09]\n",
              "    </div>\n",
              "    "
            ],
            "text/plain": [
              "<IPython.core.display.HTML object>"
            ]
          },
          "metadata": {},
          "output_type": "display_data"
        },
        {
          "metadata": {
            "tags": null
          },
          "name": "stderr",
          "output_type": "stream",
          "text": [
            "\u001b[32m[I 2021-12-19 02:08:06,025]\u001b[0m Trial 45 finished with value: 0.48014014959335327 and parameters: {'learning_rate': 8.819559845260083e-05, 'num_train_epochs': 1, 'per_device_train_batch_size': 32, 'weight_decay': 0.001475938662721681, 'label_smoothing_factor': 0.022589634366085756}. Best is trial 42 with value: 0.40703555941581726.\u001b[0m\n"
          ]
        },
        {
          "data": {
            "text/html": [
              "\n",
              "    <div>\n",
              "      \n",
              "      <progress value='289' max='289' style='width:300px; height:20px; vertical-align: middle;'></progress>\n",
              "      [289/289 05:09, Epoch 1/1]\n",
              "    </div>\n",
              "    <table border=\"1\" class=\"dataframe\">\n",
              "  <thead>\n",
              "    <tr style=\"text-align: left;\">\n",
              "      <th>Step</th>\n",
              "      <th>Training Loss</th>\n",
              "      <th>Validation Loss</th>\n",
              "      <th>Acc</th>\n",
              "      <th>F1</th>\n",
              "      <th>Precision</th>\n",
              "      <th>Recall</th>\n",
              "    </tr>\n",
              "  </thead>\n",
              "  <tbody>\n",
              "    <tr>\n",
              "      <td>57</td>\n",
              "      <td>No log</td>\n",
              "      <td>1.631912</td>\n",
              "      <td>0.602140</td>\n",
              "      <td>0.450761</td>\n",
              "      <td>0.567179</td>\n",
              "      <td>0.475869</td>\n",
              "    </tr>\n",
              "    <tr>\n",
              "      <td>114</td>\n",
              "      <td>No log</td>\n",
              "      <td>1.214939</td>\n",
              "      <td>0.721790</td>\n",
              "      <td>0.667468</td>\n",
              "      <td>0.763786</td>\n",
              "      <td>0.654149</td>\n",
              "    </tr>\n",
              "    <tr>\n",
              "      <td>171</td>\n",
              "      <td>No log</td>\n",
              "      <td>1.049500</td>\n",
              "      <td>0.788911</td>\n",
              "      <td>0.775657</td>\n",
              "      <td>0.799086</td>\n",
              "      <td>0.773310</td>\n",
              "    </tr>\n",
              "    <tr>\n",
              "      <td>228</td>\n",
              "      <td>No log</td>\n",
              "      <td>0.973034</td>\n",
              "      <td>0.816148</td>\n",
              "      <td>0.810666</td>\n",
              "      <td>0.826987</td>\n",
              "      <td>0.799578</td>\n",
              "    </tr>\n",
              "    <tr>\n",
              "      <td>285</td>\n",
              "      <td>No log</td>\n",
              "      <td>0.945471</td>\n",
              "      <td>0.815175</td>\n",
              "      <td>0.809503</td>\n",
              "      <td>0.823894</td>\n",
              "      <td>0.799375</td>\n",
              "    </tr>\n",
              "  </tbody>\n",
              "</table><p>"
            ],
            "text/plain": [
              "<IPython.core.display.HTML object>"
            ]
          },
          "metadata": {},
          "output_type": "display_data"
        },
        {
          "metadata": {
            "tags": null
          },
          "name": "stderr",
          "output_type": "stream",
          "text": [
            "/usr/local/lib/python3.7/dist-packages/sklearn/metrics/_classification.py:1308: UndefinedMetricWarning:\n",
            "\n",
            "Precision is ill-defined and being set to 0.0 in labels with no predicted samples. Use `zero_division` parameter to control this behavior.\n",
            "\n"
          ]
        },
        {
          "data": {
            "text/html": [
              "\n",
              "    <div>\n",
              "      \n",
              "      <progress value='33' max='33' style='width:300px; height:20px; vertical-align: middle;'></progress>\n",
              "      [33/33 00:09]\n",
              "    </div>\n",
              "    "
            ],
            "text/plain": [
              "<IPython.core.display.HTML object>"
            ]
          },
          "metadata": {},
          "output_type": "display_data"
        },
        {
          "metadata": {
            "tags": null
          },
          "name": "stderr",
          "output_type": "stream",
          "text": [
            "\u001b[32m[I 2021-12-19 02:13:30,670]\u001b[0m Trial 46 finished with value: 0.9453240036964417 and parameters: {'learning_rate': 1.5433406550805553e-05, 'num_train_epochs': 1, 'per_device_train_batch_size': 32, 'weight_decay': 0.0011232523078250575, 'label_smoothing_factor': 0.09351247988819009}. Best is trial 42 with value: 0.40703555941581726.\u001b[0m\n"
          ]
        },
        {
          "data": {
            "text/html": [
              "\n",
              "    <div>\n",
              "      \n",
              "      <progress value='289' max='289' style='width:300px; height:20px; vertical-align: middle;'></progress>\n",
              "      [289/289 05:10, Epoch 1/1]\n",
              "    </div>\n",
              "    <table border=\"1\" class=\"dataframe\">\n",
              "  <thead>\n",
              "    <tr style=\"text-align: left;\">\n",
              "      <th>Step</th>\n",
              "      <th>Training Loss</th>\n",
              "      <th>Validation Loss</th>\n",
              "      <th>Acc</th>\n",
              "      <th>F1</th>\n",
              "      <th>Precision</th>\n",
              "      <th>Recall</th>\n",
              "    </tr>\n",
              "  </thead>\n",
              "  <tbody>\n",
              "    <tr>\n",
              "      <td>57</td>\n",
              "      <td>No log</td>\n",
              "      <td>1.791426</td>\n",
              "      <td>0.525292</td>\n",
              "      <td>0.376568</td>\n",
              "      <td>0.456094</td>\n",
              "      <td>0.401652</td>\n",
              "    </tr>\n",
              "    <tr>\n",
              "      <td>114</td>\n",
              "      <td>No log</td>\n",
              "      <td>1.358916</td>\n",
              "      <td>0.619650</td>\n",
              "      <td>0.496978</td>\n",
              "      <td>0.628910</td>\n",
              "      <td>0.508591</td>\n",
              "    </tr>\n",
              "    <tr>\n",
              "      <td>171</td>\n",
              "      <td>No log</td>\n",
              "      <td>1.125221</td>\n",
              "      <td>0.723735</td>\n",
              "      <td>0.674380</td>\n",
              "      <td>0.762904</td>\n",
              "      <td>0.663307</td>\n",
              "    </tr>\n",
              "    <tr>\n",
              "      <td>228</td>\n",
              "      <td>No log</td>\n",
              "      <td>1.024885</td>\n",
              "      <td>0.733463</td>\n",
              "      <td>0.692150</td>\n",
              "      <td>0.757972</td>\n",
              "      <td>0.677728</td>\n",
              "    </tr>\n",
              "    <tr>\n",
              "      <td>285</td>\n",
              "      <td>No log</td>\n",
              "      <td>0.983766</td>\n",
              "      <td>0.749027</td>\n",
              "      <td>0.711053</td>\n",
              "      <td>0.760782</td>\n",
              "      <td>0.694442</td>\n",
              "    </tr>\n",
              "  </tbody>\n",
              "</table><p>"
            ],
            "text/plain": [
              "<IPython.core.display.HTML object>"
            ]
          },
          "metadata": {},
          "output_type": "display_data"
        },
        {
          "metadata": {
            "tags": null
          },
          "name": "stderr",
          "output_type": "stream",
          "text": [
            "/usr/local/lib/python3.7/dist-packages/sklearn/metrics/_classification.py:1308: UndefinedMetricWarning:\n",
            "\n",
            "Precision is ill-defined and being set to 0.0 in labels with no predicted samples. Use `zero_division` parameter to control this behavior.\n",
            "\n",
            "/usr/local/lib/python3.7/dist-packages/sklearn/metrics/_classification.py:1308: UndefinedMetricWarning:\n",
            "\n",
            "Precision is ill-defined and being set to 0.0 in labels with no predicted samples. Use `zero_division` parameter to control this behavior.\n",
            "\n"
          ]
        },
        {
          "data": {
            "text/html": [
              "\n",
              "    <div>\n",
              "      \n",
              "      <progress value='33' max='33' style='width:300px; height:20px; vertical-align: middle;'></progress>\n",
              "      [33/33 00:09]\n",
              "    </div>\n",
              "    "
            ],
            "text/plain": [
              "<IPython.core.display.HTML object>"
            ]
          },
          "metadata": {},
          "output_type": "display_data"
        },
        {
          "metadata": {
            "tags": null
          },
          "name": "stderr",
          "output_type": "stream",
          "text": [
            "\u001b[32m[I 2021-12-19 02:18:55,831]\u001b[0m Trial 47 finished with value: 0.9834896922111511 and parameters: {'learning_rate': 1.0260245085413009e-05, 'num_train_epochs': 1, 'per_device_train_batch_size': 32, 'weight_decay': 0.0017900779428969885, 'label_smoothing_factor': 0.011318282246023355}. Best is trial 42 with value: 0.40703555941581726.\u001b[0m\n"
          ]
        },
        {
          "data": {
            "text/html": [
              "\n",
              "    <div>\n",
              "      \n",
              "      <progress value='289' max='289' style='width:300px; height:20px; vertical-align: middle;'></progress>\n",
              "      [289/289 05:08, Epoch 1/1]\n",
              "    </div>\n",
              "    <table border=\"1\" class=\"dataframe\">\n",
              "  <thead>\n",
              "    <tr style=\"text-align: left;\">\n",
              "      <th>Step</th>\n",
              "      <th>Training Loss</th>\n",
              "      <th>Validation Loss</th>\n",
              "      <th>Acc</th>\n",
              "      <th>F1</th>\n",
              "      <th>Precision</th>\n",
              "      <th>Recall</th>\n",
              "    </tr>\n",
              "  </thead>\n",
              "  <tbody>\n",
              "    <tr>\n",
              "      <td>57</td>\n",
              "      <td>No log</td>\n",
              "      <td>1.017632</td>\n",
              "      <td>0.790856</td>\n",
              "      <td>0.781782</td>\n",
              "      <td>0.812233</td>\n",
              "      <td>0.776417</td>\n",
              "    </tr>\n",
              "    <tr>\n",
              "      <td>114</td>\n",
              "      <td>No log</td>\n",
              "      <td>0.855433</td>\n",
              "      <td>0.842412</td>\n",
              "      <td>0.842280</td>\n",
              "      <td>0.859923</td>\n",
              "      <td>0.831615</td>\n",
              "    </tr>\n",
              "    <tr>\n",
              "      <td>171</td>\n",
              "      <td>No log</td>\n",
              "      <td>0.816487</td>\n",
              "      <td>0.855058</td>\n",
              "      <td>0.851741</td>\n",
              "      <td>0.856835</td>\n",
              "      <td>0.855898</td>\n",
              "    </tr>\n",
              "    <tr>\n",
              "      <td>228</td>\n",
              "      <td>No log</td>\n",
              "      <td>0.773779</td>\n",
              "      <td>0.868677</td>\n",
              "      <td>0.869525</td>\n",
              "      <td>0.868261</td>\n",
              "      <td>0.871343</td>\n",
              "    </tr>\n",
              "    <tr>\n",
              "      <td>285</td>\n",
              "      <td>No log</td>\n",
              "      <td>0.764978</td>\n",
              "      <td>0.874514</td>\n",
              "      <td>0.874752</td>\n",
              "      <td>0.875231</td>\n",
              "      <td>0.874752</td>\n",
              "    </tr>\n",
              "  </tbody>\n",
              "</table><p>"
            ],
            "text/plain": [
              "<IPython.core.display.HTML object>"
            ]
          },
          "metadata": {},
          "output_type": "display_data"
        },
        {
          "data": {
            "text/html": [
              "\n",
              "    <div>\n",
              "      \n",
              "      <progress value='33' max='33' style='width:300px; height:20px; vertical-align: middle;'></progress>\n",
              "      [33/33 00:09]\n",
              "    </div>\n",
              "    "
            ],
            "text/plain": [
              "<IPython.core.display.HTML object>"
            ]
          },
          "metadata": {},
          "output_type": "display_data"
        },
        {
          "metadata": {
            "tags": null
          },
          "name": "stderr",
          "output_type": "stream",
          "text": [
            "\u001b[32m[I 2021-12-19 02:24:19,787]\u001b[0m Trial 48 finished with value: 0.7650218605995178 and parameters: {'learning_rate': 6.507488337700906e-05, 'num_train_epochs': 1, 'per_device_train_batch_size': 32, 'weight_decay': 0.001429505351289955, 'label_smoothing_factor': 0.09938369904713035}. Best is trial 42 with value: 0.40703555941581726.\u001b[0m\n"
          ]
        },
        {
          "data": {
            "text/html": [
              "\n",
              "    <div>\n",
              "      \n",
              "      <progress value='289' max='289' style='width:300px; height:20px; vertical-align: middle;'></progress>\n",
              "      [289/289 05:09, Epoch 1/1]\n",
              "    </div>\n",
              "    <table border=\"1\" class=\"dataframe\">\n",
              "  <thead>\n",
              "    <tr style=\"text-align: left;\">\n",
              "      <th>Step</th>\n",
              "      <th>Training Loss</th>\n",
              "      <th>Validation Loss</th>\n",
              "      <th>Acc</th>\n",
              "      <th>F1</th>\n",
              "      <th>Precision</th>\n",
              "      <th>Recall</th>\n",
              "    </tr>\n",
              "  </thead>\n",
              "  <tbody>\n",
              "    <tr>\n",
              "      <td>57</td>\n",
              "      <td>No log</td>\n",
              "      <td>0.784269</td>\n",
              "      <td>0.796693</td>\n",
              "      <td>0.790835</td>\n",
              "      <td>0.831744</td>\n",
              "      <td>0.777759</td>\n",
              "    </tr>\n",
              "    <tr>\n",
              "      <td>114</td>\n",
              "      <td>No log</td>\n",
              "      <td>0.604380</td>\n",
              "      <td>0.859922</td>\n",
              "      <td>0.863214</td>\n",
              "      <td>0.866859</td>\n",
              "      <td>0.861319</td>\n",
              "    </tr>\n",
              "    <tr>\n",
              "      <td>171</td>\n",
              "      <td>No log</td>\n",
              "      <td>0.575740</td>\n",
              "      <td>0.857004</td>\n",
              "      <td>0.855819</td>\n",
              "      <td>0.866952</td>\n",
              "      <td>0.855903</td>\n",
              "    </tr>\n",
              "    <tr>\n",
              "      <td>228</td>\n",
              "      <td>No log</td>\n",
              "      <td>0.530327</td>\n",
              "      <td>0.874514</td>\n",
              "      <td>0.871207</td>\n",
              "      <td>0.872876</td>\n",
              "      <td>0.870266</td>\n",
              "    </tr>\n",
              "    <tr>\n",
              "      <td>285</td>\n",
              "      <td>No log</td>\n",
              "      <td>0.515358</td>\n",
              "      <td>0.875486</td>\n",
              "      <td>0.872136</td>\n",
              "      <td>0.875252</td>\n",
              "      <td>0.870036</td>\n",
              "    </tr>\n",
              "  </tbody>\n",
              "</table><p>"
            ],
            "text/plain": [
              "<IPython.core.display.HTML object>"
            ]
          },
          "metadata": {},
          "output_type": "display_data"
        },
        {
          "data": {
            "text/html": [
              "\n",
              "    <div>\n",
              "      \n",
              "      <progress value='33' max='33' style='width:300px; height:20px; vertical-align: middle;'></progress>\n",
              "      [33/33 00:09]\n",
              "    </div>\n",
              "    "
            ],
            "text/plain": [
              "<IPython.core.display.HTML object>"
            ]
          },
          "metadata": {},
          "output_type": "display_data"
        },
        {
          "metadata": {
            "tags": null
          },
          "name": "stderr",
          "output_type": "stream",
          "text": [
            "\u001b[32m[I 2021-12-19 02:29:43,995]\u001b[0m Trial 49 finished with value: 0.5152388215065002 and parameters: {'learning_rate': 9.996807450505676e-05, 'num_train_epochs': 1, 'per_device_train_batch_size': 32, 'weight_decay': 0.0021597256452135644, 'label_smoothing_factor': 0.03198608645134342}. Best is trial 42 with value: 0.40703555941581726.\u001b[0m\n"
          ]
        },
        {
          "data": {
            "text/html": [
              "\n",
              "    <div>\n",
              "      \n",
              "      <progress value='289' max='289' style='width:300px; height:20px; vertical-align: middle;'></progress>\n",
              "      [289/289 05:09, Epoch 1/1]\n",
              "    </div>\n",
              "    <table border=\"1\" class=\"dataframe\">\n",
              "  <thead>\n",
              "    <tr style=\"text-align: left;\">\n",
              "      <th>Step</th>\n",
              "      <th>Training Loss</th>\n",
              "      <th>Validation Loss</th>\n",
              "      <th>Acc</th>\n",
              "      <th>F1</th>\n",
              "      <th>Precision</th>\n",
              "      <th>Recall</th>\n",
              "    </tr>\n",
              "  </thead>\n",
              "  <tbody>\n",
              "    <tr>\n",
              "      <td>57</td>\n",
              "      <td>No log</td>\n",
              "      <td>0.713411</td>\n",
              "      <td>0.795720</td>\n",
              "      <td>0.781135</td>\n",
              "      <td>0.812428</td>\n",
              "      <td>0.775693</td>\n",
              "    </tr>\n",
              "    <tr>\n",
              "      <td>114</td>\n",
              "      <td>No log</td>\n",
              "      <td>0.524839</td>\n",
              "      <td>0.840467</td>\n",
              "      <td>0.838764</td>\n",
              "      <td>0.851519</td>\n",
              "      <td>0.831122</td>\n",
              "    </tr>\n",
              "    <tr>\n",
              "      <td>171</td>\n",
              "      <td>No log</td>\n",
              "      <td>0.485515</td>\n",
              "      <td>0.853113</td>\n",
              "      <td>0.850757</td>\n",
              "      <td>0.858346</td>\n",
              "      <td>0.856256</td>\n",
              "    </tr>\n",
              "    <tr>\n",
              "      <td>228</td>\n",
              "      <td>No log</td>\n",
              "      <td>0.420100</td>\n",
              "      <td>0.870623</td>\n",
              "      <td>0.869936</td>\n",
              "      <td>0.871569</td>\n",
              "      <td>0.868639</td>\n",
              "    </tr>\n",
              "    <tr>\n",
              "      <td>285</td>\n",
              "      <td>No log</td>\n",
              "      <td>0.411975</td>\n",
              "      <td>0.873541</td>\n",
              "      <td>0.874072</td>\n",
              "      <td>0.875331</td>\n",
              "      <td>0.873298</td>\n",
              "    </tr>\n",
              "  </tbody>\n",
              "</table><p>"
            ],
            "text/plain": [
              "<IPython.core.display.HTML object>"
            ]
          },
          "metadata": {},
          "output_type": "display_data"
        },
        {
          "data": {
            "text/html": [
              "\n",
              "    <div>\n",
              "      \n",
              "      <progress value='33' max='33' style='width:300px; height:20px; vertical-align: middle;'></progress>\n",
              "      [33/33 00:09]\n",
              "    </div>\n",
              "    "
            ],
            "text/plain": [
              "<IPython.core.display.HTML object>"
            ]
          },
          "metadata": {},
          "output_type": "display_data"
        },
        {
          "metadata": {
            "tags": null
          },
          "name": "stderr",
          "output_type": "stream",
          "text": [
            "\u001b[32m[I 2021-12-19 02:35:08,716]\u001b[0m Trial 50 finished with value: 0.4117865562438965 and parameters: {'learning_rate': 8.097474441110994e-05, 'num_train_epochs': 1, 'per_device_train_batch_size': 32, 'weight_decay': 0.0016390441564169214, 'label_smoothing_factor': 0.005376122816437847}. Best is trial 42 with value: 0.40703555941581726.\u001b[0m\n"
          ]
        },
        {
          "data": {
            "text/html": [
              "\n",
              "    <div>\n",
              "      \n",
              "      <progress value='289' max='289' style='width:300px; height:20px; vertical-align: middle;'></progress>\n",
              "      [289/289 05:09, Epoch 1/1]\n",
              "    </div>\n",
              "    <table border=\"1\" class=\"dataframe\">\n",
              "  <thead>\n",
              "    <tr style=\"text-align: left;\">\n",
              "      <th>Step</th>\n",
              "      <th>Training Loss</th>\n",
              "      <th>Validation Loss</th>\n",
              "      <th>Acc</th>\n",
              "      <th>F1</th>\n",
              "      <th>Precision</th>\n",
              "      <th>Recall</th>\n",
              "    </tr>\n",
              "  </thead>\n",
              "  <tbody>\n",
              "    <tr>\n",
              "      <td>57</td>\n",
              "      <td>No log</td>\n",
              "      <td>0.719263</td>\n",
              "      <td>0.790856</td>\n",
              "      <td>0.784640</td>\n",
              "      <td>0.814754</td>\n",
              "      <td>0.780259</td>\n",
              "    </tr>\n",
              "    <tr>\n",
              "      <td>114</td>\n",
              "      <td>No log</td>\n",
              "      <td>0.532172</td>\n",
              "      <td>0.842412</td>\n",
              "      <td>0.841574</td>\n",
              "      <td>0.856596</td>\n",
              "      <td>0.833016</td>\n",
              "    </tr>\n",
              "    <tr>\n",
              "      <td>171</td>\n",
              "      <td>No log</td>\n",
              "      <td>0.480714</td>\n",
              "      <td>0.856031</td>\n",
              "      <td>0.852288</td>\n",
              "      <td>0.856240</td>\n",
              "      <td>0.859037</td>\n",
              "    </tr>\n",
              "    <tr>\n",
              "      <td>228</td>\n",
              "      <td>No log</td>\n",
              "      <td>0.421818</td>\n",
              "      <td>0.869650</td>\n",
              "      <td>0.867759</td>\n",
              "      <td>0.870717</td>\n",
              "      <td>0.865316</td>\n",
              "    </tr>\n",
              "    <tr>\n",
              "      <td>285</td>\n",
              "      <td>No log</td>\n",
              "      <td>0.408035</td>\n",
              "      <td>0.875486</td>\n",
              "      <td>0.873572</td>\n",
              "      <td>0.872865</td>\n",
              "      <td>0.874795</td>\n",
              "    </tr>\n",
              "  </tbody>\n",
              "</table><p>"
            ],
            "text/plain": [
              "<IPython.core.display.HTML object>"
            ]
          },
          "metadata": {},
          "output_type": "display_data"
        },
        {
          "data": {
            "text/html": [
              "\n",
              "    <div>\n",
              "      \n",
              "      <progress value='33' max='33' style='width:300px; height:20px; vertical-align: middle;'></progress>\n",
              "      [33/33 00:09]\n",
              "    </div>\n",
              "    "
            ],
            "text/plain": [
              "<IPython.core.display.HTML object>"
            ]
          },
          "metadata": {},
          "output_type": "display_data"
        },
        {
          "metadata": {
            "tags": null
          },
          "name": "stderr",
          "output_type": "stream",
          "text": [
            "\u001b[32m[I 2021-12-19 02:40:33,334]\u001b[0m Trial 51 finished with value: 0.4080692529678345 and parameters: {'learning_rate': 7.978786605659688e-05, 'num_train_epochs': 1, 'per_device_train_batch_size': 32, 'weight_decay': 0.0010022750025750682, 'label_smoothing_factor': 0.005382224605316044}. Best is trial 42 with value: 0.40703555941581726.\u001b[0m\n"
          ]
        },
        {
          "data": {
            "text/html": [
              "\n",
              "    <div>\n",
              "      \n",
              "      <progress value='229' max='289' style='width:300px; height:20px; vertical-align: middle;'></progress>\n",
              "      [229/289 03:52 < 01:01, 0.98 it/s, Epoch 0.79/1]\n",
              "    </div>\n",
              "    <table border=\"1\" class=\"dataframe\">\n",
              "  <thead>\n",
              "    <tr style=\"text-align: left;\">\n",
              "      <th>Step</th>\n",
              "      <th>Training Loss</th>\n",
              "      <th>Validation Loss</th>\n",
              "      <th>Acc</th>\n",
              "      <th>F1</th>\n",
              "      <th>Precision</th>\n",
              "      <th>Recall</th>\n",
              "    </tr>\n",
              "  </thead>\n",
              "  <tbody>\n",
              "    <tr>\n",
              "      <td>57</td>\n",
              "      <td>No log</td>\n",
              "      <td>0.728076</td>\n",
              "      <td>0.798638</td>\n",
              "      <td>0.790531</td>\n",
              "      <td>0.823375</td>\n",
              "      <td>0.783291</td>\n",
              "    </tr>\n",
              "    <tr>\n",
              "      <td>114</td>\n",
              "      <td>No log</td>\n",
              "      <td>0.531683</td>\n",
              "      <td>0.841440</td>\n",
              "      <td>0.839236</td>\n",
              "      <td>0.852135</td>\n",
              "      <td>0.831008</td>\n",
              "    </tr>\n",
              "    <tr>\n",
              "      <td>171</td>\n",
              "      <td>No log</td>\n",
              "      <td>0.482158</td>\n",
              "      <td>0.851167</td>\n",
              "      <td>0.848397</td>\n",
              "      <td>0.853118</td>\n",
              "      <td>0.853018</td>\n",
              "    </tr>\n",
              "  </tbody>\n",
              "</table><p>\n",
              "    <div>\n",
              "      \n",
              "      <progress value='31' max='33' style='width:300px; height:20px; vertical-align: middle;'></progress>\n",
              "      [31/33 00:08 < 00:00, 3.35 it/s]\n",
              "    </div>\n",
              "    "
            ],
            "text/plain": [
              "<IPython.core.display.HTML object>"
            ]
          },
          "metadata": {},
          "output_type": "display_data"
        },
        {
          "output_type": "display_data",
          "data": {
            "text/html": [
              "\n",
              "    <div>\n",
              "      \n",
              "      <progress value='289' max='289' style='width:300px; height:20px; vertical-align: middle;'></progress>\n",
              "      [289/289 05:09, Epoch 1/1]\n",
              "    </div>\n",
              "    <table border=\"1\" class=\"dataframe\">\n",
              "  <thead>\n",
              "    <tr style=\"text-align: left;\">\n",
              "      <th>Step</th>\n",
              "      <th>Training Loss</th>\n",
              "      <th>Validation Loss</th>\n",
              "      <th>Acc</th>\n",
              "      <th>F1</th>\n",
              "      <th>Precision</th>\n",
              "      <th>Recall</th>\n",
              "    </tr>\n",
              "  </thead>\n",
              "  <tbody>\n",
              "    <tr>\n",
              "      <td>57</td>\n",
              "      <td>No log</td>\n",
              "      <td>0.728076</td>\n",
              "      <td>0.798638</td>\n",
              "      <td>0.790531</td>\n",
              "      <td>0.823375</td>\n",
              "      <td>0.783291</td>\n",
              "    </tr>\n",
              "    <tr>\n",
              "      <td>114</td>\n",
              "      <td>No log</td>\n",
              "      <td>0.531683</td>\n",
              "      <td>0.841440</td>\n",
              "      <td>0.839236</td>\n",
              "      <td>0.852135</td>\n",
              "      <td>0.831008</td>\n",
              "    </tr>\n",
              "    <tr>\n",
              "      <td>171</td>\n",
              "      <td>No log</td>\n",
              "      <td>0.482158</td>\n",
              "      <td>0.851167</td>\n",
              "      <td>0.848397</td>\n",
              "      <td>0.853118</td>\n",
              "      <td>0.853018</td>\n",
              "    </tr>\n",
              "    <tr>\n",
              "      <td>228</td>\n",
              "      <td>No log</td>\n",
              "      <td>0.424506</td>\n",
              "      <td>0.868677</td>\n",
              "      <td>0.868903</td>\n",
              "      <td>0.870553</td>\n",
              "      <td>0.867860</td>\n",
              "    </tr>\n",
              "    <tr>\n",
              "      <td>285</td>\n",
              "      <td>No log</td>\n",
              "      <td>0.410671</td>\n",
              "      <td>0.873541</td>\n",
              "      <td>0.872811</td>\n",
              "      <td>0.872201</td>\n",
              "      <td>0.873697</td>\n",
              "    </tr>\n",
              "  </tbody>\n",
              "</table><p>"
            ],
            "text/plain": [
              "<IPython.core.display.HTML object>"
            ]
          },
          "metadata": {}
        },
        {
          "output_type": "display_data",
          "data": {
            "text/html": [
              "\n",
              "    <div>\n",
              "      \n",
              "      <progress value='33' max='33' style='width:300px; height:20px; vertical-align: middle;'></progress>\n",
              "      [33/33 00:09]\n",
              "    </div>\n",
              "    "
            ],
            "text/plain": [
              "<IPython.core.display.HTML object>"
            ]
          },
          "metadata": {}
        },
        {
          "output_type": "stream",
          "name": "stderr",
          "text": [
            "\u001b[32m[I 2021-12-19 02:45:58,091]\u001b[0m Trial 52 finished with value: 0.41060197353363037 and parameters: {'learning_rate': 7.943336512154693e-05, 'num_train_epochs': 1, 'per_device_train_batch_size': 32, 'weight_decay': 0.0010100743432846168, 'label_smoothing_factor': 0.004887320646947286}. Best is trial 42 with value: 0.40703555941581726.\u001b[0m\n"
          ]
        },
        {
          "output_type": "display_data",
          "data": {
            "text/html": [
              "\n",
              "    <div>\n",
              "      \n",
              "      <progress value='289' max='289' style='width:300px; height:20px; vertical-align: middle;'></progress>\n",
              "      [289/289 05:10, Epoch 1/1]\n",
              "    </div>\n",
              "    <table border=\"1\" class=\"dataframe\">\n",
              "  <thead>\n",
              "    <tr style=\"text-align: left;\">\n",
              "      <th>Step</th>\n",
              "      <th>Training Loss</th>\n",
              "      <th>Validation Loss</th>\n",
              "      <th>Acc</th>\n",
              "      <th>F1</th>\n",
              "      <th>Precision</th>\n",
              "      <th>Recall</th>\n",
              "    </tr>\n",
              "  </thead>\n",
              "  <tbody>\n",
              "    <tr>\n",
              "      <td>57</td>\n",
              "      <td>No log</td>\n",
              "      <td>0.716235</td>\n",
              "      <td>0.797665</td>\n",
              "      <td>0.789010</td>\n",
              "      <td>0.817863</td>\n",
              "      <td>0.783323</td>\n",
              "    </tr>\n",
              "    <tr>\n",
              "      <td>114</td>\n",
              "      <td>No log</td>\n",
              "      <td>0.531431</td>\n",
              "      <td>0.838521</td>\n",
              "      <td>0.838024</td>\n",
              "      <td>0.852826</td>\n",
              "      <td>0.829409</td>\n",
              "    </tr>\n",
              "    <tr>\n",
              "      <td>171</td>\n",
              "      <td>No log</td>\n",
              "      <td>0.478633</td>\n",
              "      <td>0.854086</td>\n",
              "      <td>0.850125</td>\n",
              "      <td>0.854575</td>\n",
              "      <td>0.856028</td>\n",
              "    </tr>\n",
              "    <tr>\n",
              "      <td>228</td>\n",
              "      <td>No log</td>\n",
              "      <td>0.421361</td>\n",
              "      <td>0.873541</td>\n",
              "      <td>0.875131</td>\n",
              "      <td>0.877900</td>\n",
              "      <td>0.872859</td>\n",
              "    </tr>\n",
              "    <tr>\n",
              "      <td>285</td>\n",
              "      <td>No log</td>\n",
              "      <td>0.405592</td>\n",
              "      <td>0.876459</td>\n",
              "      <td>0.877343</td>\n",
              "      <td>0.877753</td>\n",
              "      <td>0.877324</td>\n",
              "    </tr>\n",
              "  </tbody>\n",
              "</table><p>"
            ],
            "text/plain": [
              "<IPython.core.display.HTML object>"
            ]
          },
          "metadata": {}
        },
        {
          "output_type": "display_data",
          "data": {
            "text/html": [
              "\n",
              "    <div>\n",
              "      \n",
              "      <progress value='33' max='33' style='width:300px; height:20px; vertical-align: middle;'></progress>\n",
              "      [33/33 00:09]\n",
              "    </div>\n",
              "    "
            ],
            "text/plain": [
              "<IPython.core.display.HTML object>"
            ]
          },
          "metadata": {}
        },
        {
          "output_type": "stream",
          "name": "stderr",
          "text": [
            "\u001b[32m[I 2021-12-19 02:51:23,201]\u001b[0m Trial 53 finished with value: 0.4056026339530945 and parameters: {'learning_rate': 7.928657974273968e-05, 'num_train_epochs': 1, 'per_device_train_batch_size': 32, 'weight_decay': 0.0010004765361006196, 'label_smoothing_factor': 0.005138958994368323}. Best is trial 53 with value: 0.4056026339530945.\u001b[0m\n"
          ]
        },
        {
          "output_type": "display_data",
          "data": {
            "text/html": [
              "\n",
              "    <div>\n",
              "      \n",
              "      <progress value='289' max='289' style='width:300px; height:20px; vertical-align: middle;'></progress>\n",
              "      [289/289 05:10, Epoch 1/1]\n",
              "    </div>\n",
              "    <table border=\"1\" class=\"dataframe\">\n",
              "  <thead>\n",
              "    <tr style=\"text-align: left;\">\n",
              "      <th>Step</th>\n",
              "      <th>Training Loss</th>\n",
              "      <th>Validation Loss</th>\n",
              "      <th>Acc</th>\n",
              "      <th>F1</th>\n",
              "      <th>Precision</th>\n",
              "      <th>Recall</th>\n",
              "    </tr>\n",
              "  </thead>\n",
              "  <tbody>\n",
              "    <tr>\n",
              "      <td>57</td>\n",
              "      <td>No log</td>\n",
              "      <td>0.772792</td>\n",
              "      <td>0.797665</td>\n",
              "      <td>0.794831</td>\n",
              "      <td>0.829364</td>\n",
              "      <td>0.782458</td>\n",
              "    </tr>\n",
              "    <tr>\n",
              "      <td>114</td>\n",
              "      <td>No log</td>\n",
              "      <td>0.551389</td>\n",
              "      <td>0.842412</td>\n",
              "      <td>0.843316</td>\n",
              "      <td>0.863247</td>\n",
              "      <td>0.831899</td>\n",
              "    </tr>\n",
              "    <tr>\n",
              "      <td>171</td>\n",
              "      <td>No log</td>\n",
              "      <td>0.485620</td>\n",
              "      <td>0.846304</td>\n",
              "      <td>0.844475</td>\n",
              "      <td>0.849834</td>\n",
              "      <td>0.848209</td>\n",
              "    </tr>\n",
              "    <tr>\n",
              "      <td>228</td>\n",
              "      <td>No log</td>\n",
              "      <td>0.425312</td>\n",
              "      <td>0.870623</td>\n",
              "      <td>0.871289</td>\n",
              "      <td>0.871546</td>\n",
              "      <td>0.871250</td>\n",
              "    </tr>\n",
              "    <tr>\n",
              "      <td>285</td>\n",
              "      <td>No log</td>\n",
              "      <td>0.412231</td>\n",
              "      <td>0.873541</td>\n",
              "      <td>0.873385</td>\n",
              "      <td>0.873867</td>\n",
              "      <td>0.873339</td>\n",
              "    </tr>\n",
              "  </tbody>\n",
              "</table><p>"
            ],
            "text/plain": [
              "<IPython.core.display.HTML object>"
            ]
          },
          "metadata": {}
        },
        {
          "output_type": "display_data",
          "data": {
            "text/html": [
              "\n",
              "    <div>\n",
              "      \n",
              "      <progress value='33' max='33' style='width:300px; height:20px; vertical-align: middle;'></progress>\n",
              "      [33/33 00:09]\n",
              "    </div>\n",
              "    "
            ],
            "text/plain": [
              "<IPython.core.display.HTML object>"
            ]
          },
          "metadata": {}
        },
        {
          "output_type": "stream",
          "name": "stderr",
          "text": [
            "\u001b[32m[I 2021-12-19 02:56:48,538]\u001b[0m Trial 54 finished with value: 0.4122443199157715 and parameters: {'learning_rate': 6.017828424283103e-05, 'num_train_epochs': 1, 'per_device_train_batch_size': 32, 'weight_decay': 0.001636543716863074, 'label_smoothing_factor': 0.004359947754859264}. Best is trial 53 with value: 0.4056026339530945.\u001b[0m\n"
          ]
        },
        {
          "output_type": "display_data",
          "data": {
            "text/html": [
              "\n",
              "    <div>\n",
              "      \n",
              "      <progress value='289' max='289' style='width:300px; height:20px; vertical-align: middle;'></progress>\n",
              "      [289/289 05:10, Epoch 1/1]\n",
              "    </div>\n",
              "    <table border=\"1\" class=\"dataframe\">\n",
              "  <thead>\n",
              "    <tr style=\"text-align: left;\">\n",
              "      <th>Step</th>\n",
              "      <th>Training Loss</th>\n",
              "      <th>Validation Loss</th>\n",
              "      <th>Acc</th>\n",
              "      <th>F1</th>\n",
              "      <th>Precision</th>\n",
              "      <th>Recall</th>\n",
              "    </tr>\n",
              "  </thead>\n",
              "  <tbody>\n",
              "    <tr>\n",
              "      <td>57</td>\n",
              "      <td>No log</td>\n",
              "      <td>0.796755</td>\n",
              "      <td>0.789883</td>\n",
              "      <td>0.780653</td>\n",
              "      <td>0.809870</td>\n",
              "      <td>0.776132</td>\n",
              "    </tr>\n",
              "    <tr>\n",
              "      <td>114</td>\n",
              "      <td>No log</td>\n",
              "      <td>0.585795</td>\n",
              "      <td>0.839494</td>\n",
              "      <td>0.838606</td>\n",
              "      <td>0.854700</td>\n",
              "      <td>0.829375</td>\n",
              "    </tr>\n",
              "    <tr>\n",
              "      <td>171</td>\n",
              "      <td>No log</td>\n",
              "      <td>0.534027</td>\n",
              "      <td>0.857004</td>\n",
              "      <td>0.852984</td>\n",
              "      <td>0.857062</td>\n",
              "      <td>0.858344</td>\n",
              "    </tr>\n",
              "    <tr>\n",
              "      <td>228</td>\n",
              "      <td>No log</td>\n",
              "      <td>0.478222</td>\n",
              "      <td>0.872568</td>\n",
              "      <td>0.872557</td>\n",
              "      <td>0.873099</td>\n",
              "      <td>0.872153</td>\n",
              "    </tr>\n",
              "    <tr>\n",
              "      <td>285</td>\n",
              "      <td>No log</td>\n",
              "      <td>0.465237</td>\n",
              "      <td>0.871595</td>\n",
              "      <td>0.872831</td>\n",
              "      <td>0.873001</td>\n",
              "      <td>0.873136</td>\n",
              "    </tr>\n",
              "  </tbody>\n",
              "</table><p>"
            ],
            "text/plain": [
              "<IPython.core.display.HTML object>"
            ]
          },
          "metadata": {}
        },
        {
          "output_type": "display_data",
          "data": {
            "text/html": [
              "\n",
              "    <div>\n",
              "      \n",
              "      <progress value='33' max='33' style='width:300px; height:20px; vertical-align: middle;'></progress>\n",
              "      [33/33 00:09]\n",
              "    </div>\n",
              "    "
            ],
            "text/plain": [
              "<IPython.core.display.HTML object>"
            ]
          },
          "metadata": {}
        },
        {
          "output_type": "stream",
          "name": "stderr",
          "text": [
            "\u001b[32m[I 2021-12-19 03:02:13,818]\u001b[0m Trial 55 finished with value: 0.4652772545814514 and parameters: {'learning_rate': 6.857680443381228e-05, 'num_train_epochs': 1, 'per_device_train_batch_size': 32, 'weight_decay': 0.0011752924280491151, 'label_smoothing_factor': 0.017586301726865747}. Best is trial 53 with value: 0.4056026339530945.\u001b[0m\n"
          ]
        },
        {
          "output_type": "display_data",
          "data": {
            "text/html": [
              "\n",
              "    <div>\n",
              "      \n",
              "      <progress value='289' max='289' style='width:300px; height:20px; vertical-align: middle;'></progress>\n",
              "      [289/289 05:09, Epoch 1/1]\n",
              "    </div>\n",
              "    <table border=\"1\" class=\"dataframe\">\n",
              "  <thead>\n",
              "    <tr style=\"text-align: left;\">\n",
              "      <th>Step</th>\n",
              "      <th>Training Loss</th>\n",
              "      <th>Validation Loss</th>\n",
              "      <th>Acc</th>\n",
              "      <th>F1</th>\n",
              "      <th>Precision</th>\n",
              "      <th>Recall</th>\n",
              "    </tr>\n",
              "  </thead>\n",
              "  <tbody>\n",
              "    <tr>\n",
              "      <td>57</td>\n",
              "      <td>No log</td>\n",
              "      <td>0.713342</td>\n",
              "      <td>0.798638</td>\n",
              "      <td>0.788657</td>\n",
              "      <td>0.819855</td>\n",
              "      <td>0.782041</td>\n",
              "    </tr>\n",
              "    <tr>\n",
              "      <td>114</td>\n",
              "      <td>No log</td>\n",
              "      <td>0.518672</td>\n",
              "      <td>0.846304</td>\n",
              "      <td>0.846596</td>\n",
              "      <td>0.858315</td>\n",
              "      <td>0.839181</td>\n",
              "    </tr>\n",
              "    <tr>\n",
              "      <td>171</td>\n",
              "      <td>No log</td>\n",
              "      <td>0.479941</td>\n",
              "      <td>0.856031</td>\n",
              "      <td>0.853693</td>\n",
              "      <td>0.858794</td>\n",
              "      <td>0.859588</td>\n",
              "    </tr>\n",
              "    <tr>\n",
              "      <td>228</td>\n",
              "      <td>No log</td>\n",
              "      <td>0.424731</td>\n",
              "      <td>0.864786</td>\n",
              "      <td>0.865206</td>\n",
              "      <td>0.866866</td>\n",
              "      <td>0.863899</td>\n",
              "    </tr>\n",
              "    <tr>\n",
              "      <td>285</td>\n",
              "      <td>No log</td>\n",
              "      <td>0.412560</td>\n",
              "      <td>0.870623</td>\n",
              "      <td>0.870087</td>\n",
              "      <td>0.871234</td>\n",
              "      <td>0.869360</td>\n",
              "    </tr>\n",
              "  </tbody>\n",
              "</table><p>"
            ],
            "text/plain": [
              "<IPython.core.display.HTML object>"
            ]
          },
          "metadata": {}
        },
        {
          "output_type": "display_data",
          "data": {
            "text/html": [
              "\n",
              "    <div>\n",
              "      \n",
              "      <progress value='33' max='33' style='width:300px; height:20px; vertical-align: middle;'></progress>\n",
              "      [33/33 00:09]\n",
              "    </div>\n",
              "    "
            ],
            "text/plain": [
              "<IPython.core.display.HTML object>"
            ]
          },
          "metadata": {}
        },
        {
          "output_type": "stream",
          "name": "stderr",
          "text": [
            "\u001b[32m[I 2021-12-19 03:07:38,655]\u001b[0m Trial 56 finished with value: 0.4125162661075592 and parameters: {'learning_rate': 8.039824873288829e-05, 'num_train_epochs': 1, 'per_device_train_batch_size': 32, 'weight_decay': 0.002934122482891072, 'label_smoothing_factor': 0.0051538229420066825}. Best is trial 53 with value: 0.4056026339530945.\u001b[0m\n"
          ]
        },
        {
          "output_type": "display_data",
          "data": {
            "text/html": [
              "\n",
              "    <div>\n",
              "      \n",
              "      <progress value='289' max='289' style='width:300px; height:20px; vertical-align: middle;'></progress>\n",
              "      [289/289 05:09, Epoch 1/1]\n",
              "    </div>\n",
              "    <table border=\"1\" class=\"dataframe\">\n",
              "  <thead>\n",
              "    <tr style=\"text-align: left;\">\n",
              "      <th>Step</th>\n",
              "      <th>Training Loss</th>\n",
              "      <th>Validation Loss</th>\n",
              "      <th>Acc</th>\n",
              "      <th>F1</th>\n",
              "      <th>Precision</th>\n",
              "      <th>Recall</th>\n",
              "    </tr>\n",
              "  </thead>\n",
              "  <tbody>\n",
              "    <tr>\n",
              "      <td>57</td>\n",
              "      <td>No log</td>\n",
              "      <td>0.917576</td>\n",
              "      <td>0.793774</td>\n",
              "      <td>0.785931</td>\n",
              "      <td>0.817192</td>\n",
              "      <td>0.780122</td>\n",
              "    </tr>\n",
              "    <tr>\n",
              "      <td>114</td>\n",
              "      <td>No log</td>\n",
              "      <td>0.746812</td>\n",
              "      <td>0.846304</td>\n",
              "      <td>0.846124</td>\n",
              "      <td>0.857755</td>\n",
              "      <td>0.838504</td>\n",
              "    </tr>\n",
              "    <tr>\n",
              "      <td>171</td>\n",
              "      <td>No log</td>\n",
              "      <td>0.718593</td>\n",
              "      <td>0.859922</td>\n",
              "      <td>0.856197</td>\n",
              "      <td>0.860512</td>\n",
              "      <td>0.861712</td>\n",
              "    </tr>\n",
              "    <tr>\n",
              "      <td>228</td>\n",
              "      <td>No log</td>\n",
              "      <td>0.673527</td>\n",
              "      <td>0.869650</td>\n",
              "      <td>0.871285</td>\n",
              "      <td>0.873229</td>\n",
              "      <td>0.869875</td>\n",
              "    </tr>\n",
              "    <tr>\n",
              "      <td>285</td>\n",
              "      <td>No log</td>\n",
              "      <td>0.664629</td>\n",
              "      <td>0.870623</td>\n",
              "      <td>0.870198</td>\n",
              "      <td>0.871469</td>\n",
              "      <td>0.869434</td>\n",
              "    </tr>\n",
              "  </tbody>\n",
              "</table><p>"
            ],
            "text/plain": [
              "<IPython.core.display.HTML object>"
            ]
          },
          "metadata": {}
        },
        {
          "output_type": "display_data",
          "data": {
            "text/html": [
              "\n",
              "    <div>\n",
              "      \n",
              "      <progress value='33' max='33' style='width:300px; height:20px; vertical-align: middle;'></progress>\n",
              "      [33/33 00:09]\n",
              "    </div>\n",
              "    "
            ],
            "text/plain": [
              "<IPython.core.display.HTML object>"
            ]
          },
          "metadata": {}
        },
        {
          "output_type": "stream",
          "name": "stderr",
          "text": [
            "\u001b[32m[I 2021-12-19 03:13:03,511]\u001b[0m Trial 57 finished with value: 0.6646230220794678 and parameters: {'learning_rate': 7.712051145604682e-05, 'num_train_epochs': 1, 'per_device_train_batch_size': 32, 'weight_decay': 0.0013697320264742339, 'label_smoothing_factor': 0.07075824785068309}. Best is trial 53 with value: 0.4056026339530945.\u001b[0m\n"
          ]
        },
        {
          "output_type": "display_data",
          "data": {
            "text/html": [
              "\n",
              "    <div>\n",
              "      \n",
              "      <progress value='289' max='289' style='width:300px; height:20px; vertical-align: middle;'></progress>\n",
              "      [289/289 05:10, Epoch 1/1]\n",
              "    </div>\n",
              "    <table border=\"1\" class=\"dataframe\">\n",
              "  <thead>\n",
              "    <tr style=\"text-align: left;\">\n",
              "      <th>Step</th>\n",
              "      <th>Training Loss</th>\n",
              "      <th>Validation Loss</th>\n",
              "      <th>Acc</th>\n",
              "      <th>F1</th>\n",
              "      <th>Precision</th>\n",
              "      <th>Recall</th>\n",
              "    </tr>\n",
              "  </thead>\n",
              "  <tbody>\n",
              "    <tr>\n",
              "      <td>57</td>\n",
              "      <td>No log</td>\n",
              "      <td>0.786001</td>\n",
              "      <td>0.795720</td>\n",
              "      <td>0.789432</td>\n",
              "      <td>0.818717</td>\n",
              "      <td>0.783169</td>\n",
              "    </tr>\n",
              "    <tr>\n",
              "      <td>114</td>\n",
              "      <td>No log</td>\n",
              "      <td>0.582153</td>\n",
              "      <td>0.837549</td>\n",
              "      <td>0.836072</td>\n",
              "      <td>0.856458</td>\n",
              "      <td>0.824502</td>\n",
              "    </tr>\n",
              "    <tr>\n",
              "      <td>171</td>\n",
              "      <td>No log</td>\n",
              "      <td>0.521166</td>\n",
              "      <td>0.853113</td>\n",
              "      <td>0.849889</td>\n",
              "      <td>0.855611</td>\n",
              "      <td>0.853697</td>\n",
              "    </tr>\n",
              "    <tr>\n",
              "      <td>228</td>\n",
              "      <td>No log</td>\n",
              "      <td>0.466391</td>\n",
              "      <td>0.872568</td>\n",
              "      <td>0.872219</td>\n",
              "      <td>0.872752</td>\n",
              "      <td>0.871799</td>\n",
              "    </tr>\n",
              "    <tr>\n",
              "      <td>285</td>\n",
              "      <td>No log</td>\n",
              "      <td>0.452748</td>\n",
              "      <td>0.873541</td>\n",
              "      <td>0.873286</td>\n",
              "      <td>0.873305</td>\n",
              "      <td>0.873540</td>\n",
              "    </tr>\n",
              "  </tbody>\n",
              "</table><p>"
            ],
            "text/plain": [
              "<IPython.core.display.HTML object>"
            ]
          },
          "metadata": {}
        },
        {
          "output_type": "display_data",
          "data": {
            "text/html": [
              "\n",
              "    <div>\n",
              "      \n",
              "      <progress value='33' max='33' style='width:300px; height:20px; vertical-align: middle;'></progress>\n",
              "      [33/33 00:09]\n",
              "    </div>\n",
              "    "
            ],
            "text/plain": [
              "<IPython.core.display.HTML object>"
            ]
          },
          "metadata": {}
        },
        {
          "output_type": "stream",
          "name": "stderr",
          "text": [
            "\u001b[32m[I 2021-12-19 03:18:28,943]\u001b[0m Trial 58 finished with value: 0.4528005123138428 and parameters: {'learning_rate': 6.739254368033661e-05, 'num_train_epochs': 1, 'per_device_train_batch_size': 32, 'weight_decay': 0.002124766167303326, 'label_smoothing_factor': 0.014174545078156412}. Best is trial 53 with value: 0.4056026339530945.\u001b[0m\n"
          ]
        },
        {
          "output_type": "display_data",
          "data": {
            "text/html": [
              "\n",
              "    <div>\n",
              "      \n",
              "      <progress value='289' max='289' style='width:300px; height:20px; vertical-align: middle;'></progress>\n",
              "      [289/289 05:10, Epoch 1/1]\n",
              "    </div>\n",
              "    <table border=\"1\" class=\"dataframe\">\n",
              "  <thead>\n",
              "    <tr style=\"text-align: left;\">\n",
              "      <th>Step</th>\n",
              "      <th>Training Loss</th>\n",
              "      <th>Validation Loss</th>\n",
              "      <th>Acc</th>\n",
              "      <th>F1</th>\n",
              "      <th>Precision</th>\n",
              "      <th>Recall</th>\n",
              "    </tr>\n",
              "  </thead>\n",
              "  <tbody>\n",
              "    <tr>\n",
              "      <td>57</td>\n",
              "      <td>No log</td>\n",
              "      <td>0.885141</td>\n",
              "      <td>0.785019</td>\n",
              "      <td>0.770361</td>\n",
              "      <td>0.809659</td>\n",
              "      <td>0.756794</td>\n",
              "    </tr>\n",
              "    <tr>\n",
              "      <td>114</td>\n",
              "      <td>No log</td>\n",
              "      <td>0.712473</td>\n",
              "      <td>0.840467</td>\n",
              "      <td>0.840525</td>\n",
              "      <td>0.862872</td>\n",
              "      <td>0.827144</td>\n",
              "    </tr>\n",
              "    <tr>\n",
              "      <td>171</td>\n",
              "      <td>No log</td>\n",
              "      <td>0.658068</td>\n",
              "      <td>0.845331</td>\n",
              "      <td>0.844101</td>\n",
              "      <td>0.847913</td>\n",
              "      <td>0.850627</td>\n",
              "    </tr>\n",
              "    <tr>\n",
              "      <td>228</td>\n",
              "      <td>No log</td>\n",
              "      <td>0.606345</td>\n",
              "      <td>0.871595</td>\n",
              "      <td>0.871560</td>\n",
              "      <td>0.870637</td>\n",
              "      <td>0.873471</td>\n",
              "    </tr>\n",
              "    <tr>\n",
              "      <td>285</td>\n",
              "      <td>No log</td>\n",
              "      <td>0.591698</td>\n",
              "      <td>0.868677</td>\n",
              "      <td>0.870599</td>\n",
              "      <td>0.871405</td>\n",
              "      <td>0.870244</td>\n",
              "    </tr>\n",
              "  </tbody>\n",
              "</table><p>"
            ],
            "text/plain": [
              "<IPython.core.display.HTML object>"
            ]
          },
          "metadata": {}
        },
        {
          "output_type": "display_data",
          "data": {
            "text/html": [
              "\n",
              "    <div>\n",
              "      \n",
              "      <progress value='33' max='33' style='width:300px; height:20px; vertical-align: middle;'></progress>\n",
              "      [33/33 00:09]\n",
              "    </div>\n",
              "    "
            ],
            "text/plain": [
              "<IPython.core.display.HTML object>"
            ]
          },
          "metadata": {}
        },
        {
          "output_type": "stream",
          "name": "stderr",
          "text": [
            "\u001b[32m[I 2021-12-19 03:23:54,327]\u001b[0m Trial 59 finished with value: 0.5916937589645386 and parameters: {'learning_rate': 5.900004299356959e-05, 'num_train_epochs': 1, 'per_device_train_batch_size': 32, 'weight_decay': 0.0010036546695475687, 'label_smoothing_factor': 0.04755012581400559}. Best is trial 53 with value: 0.4056026339530945.\u001b[0m\n"
          ]
        },
        {
          "output_type": "display_data",
          "data": {
            "text/html": [
              "\n",
              "    <div>\n",
              "      \n",
              "      <progress value='289' max='289' style='width:300px; height:20px; vertical-align: middle;'></progress>\n",
              "      [289/289 05:09, Epoch 1/1]\n",
              "    </div>\n",
              "    <table border=\"1\" class=\"dataframe\">\n",
              "  <thead>\n",
              "    <tr style=\"text-align: left;\">\n",
              "      <th>Step</th>\n",
              "      <th>Training Loss</th>\n",
              "      <th>Validation Loss</th>\n",
              "      <th>Acc</th>\n",
              "      <th>F1</th>\n",
              "      <th>Precision</th>\n",
              "      <th>Recall</th>\n",
              "    </tr>\n",
              "  </thead>\n",
              "  <tbody>\n",
              "    <tr>\n",
              "      <td>57</td>\n",
              "      <td>No log</td>\n",
              "      <td>0.703934</td>\n",
              "      <td>0.808366</td>\n",
              "      <td>0.797618</td>\n",
              "      <td>0.835995</td>\n",
              "      <td>0.782160</td>\n",
              "    </tr>\n",
              "    <tr>\n",
              "      <td>114</td>\n",
              "      <td>No log</td>\n",
              "      <td>0.521169</td>\n",
              "      <td>0.837549</td>\n",
              "      <td>0.837333</td>\n",
              "      <td>0.842912</td>\n",
              "      <td>0.834643</td>\n",
              "    </tr>\n",
              "    <tr>\n",
              "      <td>171</td>\n",
              "      <td>No log</td>\n",
              "      <td>0.496595</td>\n",
              "      <td>0.839494</td>\n",
              "      <td>0.836779</td>\n",
              "      <td>0.847133</td>\n",
              "      <td>0.840721</td>\n",
              "    </tr>\n",
              "    <tr>\n",
              "      <td>228</td>\n",
              "      <td>No log</td>\n",
              "      <td>0.423369</td>\n",
              "      <td>0.862840</td>\n",
              "      <td>0.861057</td>\n",
              "      <td>0.860578</td>\n",
              "      <td>0.862093</td>\n",
              "    </tr>\n",
              "    <tr>\n",
              "      <td>285</td>\n",
              "      <td>No log</td>\n",
              "      <td>0.407391</td>\n",
              "      <td>0.871595</td>\n",
              "      <td>0.870151</td>\n",
              "      <td>0.872649</td>\n",
              "      <td>0.868281</td>\n",
              "    </tr>\n",
              "  </tbody>\n",
              "</table><p>"
            ],
            "text/plain": [
              "<IPython.core.display.HTML object>"
            ]
          },
          "metadata": {}
        },
        {
          "output_type": "display_data",
          "data": {
            "text/html": [
              "\n",
              "    <div>\n",
              "      \n",
              "      <progress value='33' max='33' style='width:300px; height:20px; vertical-align: middle;'></progress>\n",
              "      [33/33 00:09]\n",
              "    </div>\n",
              "    "
            ],
            "text/plain": [
              "<IPython.core.display.HTML object>"
            ]
          },
          "metadata": {}
        },
        {
          "output_type": "stream",
          "name": "stderr",
          "text": [
            "\u001b[32m[I 2021-12-19 03:29:19,233]\u001b[0m Trial 60 finished with value: 0.40713202953338623 and parameters: {'learning_rate': 9.00727390976241e-05, 'num_train_epochs': 1, 'per_device_train_batch_size': 32, 'weight_decay': 0.002529830679246514, 'label_smoothing_factor': 0.0033855390898417477}. Best is trial 53 with value: 0.4056026339530945.\u001b[0m\n"
          ]
        },
        {
          "output_type": "display_data",
          "data": {
            "text/html": [
              "\n",
              "    <div>\n",
              "      \n",
              "      <progress value='289' max='289' style='width:300px; height:20px; vertical-align: middle;'></progress>\n",
              "      [289/289 05:09, Epoch 1/1]\n",
              "    </div>\n",
              "    <table border=\"1\" class=\"dataframe\">\n",
              "  <thead>\n",
              "    <tr style=\"text-align: left;\">\n",
              "      <th>Step</th>\n",
              "      <th>Training Loss</th>\n",
              "      <th>Validation Loss</th>\n",
              "      <th>Acc</th>\n",
              "      <th>F1</th>\n",
              "      <th>Precision</th>\n",
              "      <th>Recall</th>\n",
              "    </tr>\n",
              "  </thead>\n",
              "  <tbody>\n",
              "    <tr>\n",
              "      <td>57</td>\n",
              "      <td>No log</td>\n",
              "      <td>0.677012</td>\n",
              "      <td>0.799611</td>\n",
              "      <td>0.789513</td>\n",
              "      <td>0.825175</td>\n",
              "      <td>0.781017</td>\n",
              "    </tr>\n",
              "    <tr>\n",
              "      <td>114</td>\n",
              "      <td>No log</td>\n",
              "      <td>0.515164</td>\n",
              "      <td>0.841440</td>\n",
              "      <td>0.840182</td>\n",
              "      <td>0.854316</td>\n",
              "      <td>0.830807</td>\n",
              "    </tr>\n",
              "    <tr>\n",
              "      <td>171</td>\n",
              "      <td>No log</td>\n",
              "      <td>0.475158</td>\n",
              "      <td>0.851167</td>\n",
              "      <td>0.849549</td>\n",
              "      <td>0.855300</td>\n",
              "      <td>0.855548</td>\n",
              "    </tr>\n",
              "    <tr>\n",
              "      <td>228</td>\n",
              "      <td>No log</td>\n",
              "      <td>0.412392</td>\n",
              "      <td>0.868677</td>\n",
              "      <td>0.867102</td>\n",
              "      <td>0.869449</td>\n",
              "      <td>0.865063</td>\n",
              "    </tr>\n",
              "    <tr>\n",
              "      <td>285</td>\n",
              "      <td>No log</td>\n",
              "      <td>0.399255</td>\n",
              "      <td>0.874514</td>\n",
              "      <td>0.872825</td>\n",
              "      <td>0.873283</td>\n",
              "      <td>0.873006</td>\n",
              "    </tr>\n",
              "  </tbody>\n",
              "</table><p>"
            ],
            "text/plain": [
              "<IPython.core.display.HTML object>"
            ]
          },
          "metadata": {}
        },
        {
          "output_type": "display_data",
          "data": {
            "text/html": [
              "\n",
              "    <div>\n",
              "      \n",
              "      <progress value='33' max='33' style='width:300px; height:20px; vertical-align: middle;'></progress>\n",
              "      [33/33 00:09]\n",
              "    </div>\n",
              "    "
            ],
            "text/plain": [
              "<IPython.core.display.HTML object>"
            ]
          },
          "metadata": {}
        },
        {
          "output_type": "stream",
          "name": "stderr",
          "text": [
            "\u001b[32m[I 2021-12-19 03:34:43,854]\u001b[0m Trial 61 finished with value: 0.3991892635822296 and parameters: {'learning_rate': 8.750523197903139e-05, 'num_train_epochs': 1, 'per_device_train_batch_size': 32, 'weight_decay': 0.002617658542008943, 'label_smoothing_factor': 0.003560027682929669}. Best is trial 61 with value: 0.3991892635822296.\u001b[0m\n"
          ]
        },
        {
          "output_type": "display_data",
          "data": {
            "text/html": [
              "\n",
              "    <div>\n",
              "      \n",
              "      <progress value='289' max='289' style='width:300px; height:20px; vertical-align: middle;'></progress>\n",
              "      [289/289 05:09, Epoch 1/1]\n",
              "    </div>\n",
              "    <table border=\"1\" class=\"dataframe\">\n",
              "  <thead>\n",
              "    <tr style=\"text-align: left;\">\n",
              "      <th>Step</th>\n",
              "      <th>Training Loss</th>\n",
              "      <th>Validation Loss</th>\n",
              "      <th>Acc</th>\n",
              "      <th>F1</th>\n",
              "      <th>Precision</th>\n",
              "      <th>Recall</th>\n",
              "    </tr>\n",
              "  </thead>\n",
              "  <tbody>\n",
              "    <tr>\n",
              "      <td>57</td>\n",
              "      <td>No log</td>\n",
              "      <td>0.712521</td>\n",
              "      <td>0.779183</td>\n",
              "      <td>0.760646</td>\n",
              "      <td>0.808070</td>\n",
              "      <td>0.751216</td>\n",
              "    </tr>\n",
              "    <tr>\n",
              "      <td>114</td>\n",
              "      <td>No log</td>\n",
              "      <td>0.492998</td>\n",
              "      <td>0.842412</td>\n",
              "      <td>0.843063</td>\n",
              "      <td>0.853548</td>\n",
              "      <td>0.835963</td>\n",
              "    </tr>\n",
              "    <tr>\n",
              "      <td>171</td>\n",
              "      <td>No log</td>\n",
              "      <td>0.455926</td>\n",
              "      <td>0.851167</td>\n",
              "      <td>0.850924</td>\n",
              "      <td>0.858011</td>\n",
              "      <td>0.855672</td>\n",
              "    </tr>\n",
              "    <tr>\n",
              "      <td>228</td>\n",
              "      <td>No log</td>\n",
              "      <td>0.383867</td>\n",
              "      <td>0.876459</td>\n",
              "      <td>0.871863</td>\n",
              "      <td>0.872995</td>\n",
              "      <td>0.871222</td>\n",
              "    </tr>\n",
              "    <tr>\n",
              "      <td>285</td>\n",
              "      <td>No log</td>\n",
              "      <td>0.372548</td>\n",
              "      <td>0.877432</td>\n",
              "      <td>0.875441</td>\n",
              "      <td>0.874948</td>\n",
              "      <td>0.876465</td>\n",
              "    </tr>\n",
              "  </tbody>\n",
              "</table><p>"
            ],
            "text/plain": [
              "<IPython.core.display.HTML object>"
            ]
          },
          "metadata": {}
        },
        {
          "output_type": "display_data",
          "data": {
            "text/html": [
              "\n",
              "    <div>\n",
              "      \n",
              "      <progress value='33' max='33' style='width:300px; height:20px; vertical-align: middle;'></progress>\n",
              "      [33/33 00:09]\n",
              "    </div>\n",
              "    "
            ],
            "text/plain": [
              "<IPython.core.display.HTML object>"
            ]
          },
          "metadata": {}
        },
        {
          "output_type": "stream",
          "name": "stderr",
          "text": [
            "\u001b[32m[I 2021-12-19 03:40:08,751]\u001b[0m Trial 62 finished with value: 0.3723418116569519 and parameters: {'learning_rate': 9.058093909738025e-05, 'num_train_epochs': 1, 'per_device_train_batch_size': 32, 'weight_decay': 0.0023961632517904207, 'label_smoothing_factor': 0.00015659030080603532}. Best is trial 62 with value: 0.3723418116569519.\u001b[0m\n"
          ]
        },
        {
          "output_type": "display_data",
          "data": {
            "text/html": [
              "\n",
              "    <div>\n",
              "      \n",
              "      <progress value='289' max='289' style='width:300px; height:20px; vertical-align: middle;'></progress>\n",
              "      [289/289 05:09, Epoch 1/1]\n",
              "    </div>\n",
              "    <table border=\"1\" class=\"dataframe\">\n",
              "  <thead>\n",
              "    <tr style=\"text-align: left;\">\n",
              "      <th>Step</th>\n",
              "      <th>Training Loss</th>\n",
              "      <th>Validation Loss</th>\n",
              "      <th>Acc</th>\n",
              "      <th>F1</th>\n",
              "      <th>Precision</th>\n",
              "      <th>Recall</th>\n",
              "    </tr>\n",
              "  </thead>\n",
              "  <tbody>\n",
              "    <tr>\n",
              "      <td>57</td>\n",
              "      <td>No log</td>\n",
              "      <td>0.694576</td>\n",
              "      <td>0.790856</td>\n",
              "      <td>0.779434</td>\n",
              "      <td>0.823831</td>\n",
              "      <td>0.769149</td>\n",
              "    </tr>\n",
              "    <tr>\n",
              "      <td>114</td>\n",
              "      <td>No log</td>\n",
              "      <td>0.500444</td>\n",
              "      <td>0.845331</td>\n",
              "      <td>0.844820</td>\n",
              "      <td>0.860175</td>\n",
              "      <td>0.835086</td>\n",
              "    </tr>\n",
              "    <tr>\n",
              "      <td>171</td>\n",
              "      <td>No log</td>\n",
              "      <td>0.459069</td>\n",
              "      <td>0.852140</td>\n",
              "      <td>0.852281</td>\n",
              "      <td>0.861586</td>\n",
              "      <td>0.854968</td>\n",
              "    </tr>\n",
              "    <tr>\n",
              "      <td>228</td>\n",
              "      <td>No log</td>\n",
              "      <td>0.392100</td>\n",
              "      <td>0.873541</td>\n",
              "      <td>0.872983</td>\n",
              "      <td>0.873629</td>\n",
              "      <td>0.872687</td>\n",
              "    </tr>\n",
              "    <tr>\n",
              "      <td>285</td>\n",
              "      <td>No log</td>\n",
              "      <td>0.376665</td>\n",
              "      <td>0.873541</td>\n",
              "      <td>0.872078</td>\n",
              "      <td>0.872302</td>\n",
              "      <td>0.872174</td>\n",
              "    </tr>\n",
              "  </tbody>\n",
              "</table><p>"
            ],
            "text/plain": [
              "<IPython.core.display.HTML object>"
            ]
          },
          "metadata": {}
        },
        {
          "output_type": "display_data",
          "data": {
            "text/html": [
              "\n",
              "    <div>\n",
              "      \n",
              "      <progress value='33' max='33' style='width:300px; height:20px; vertical-align: middle;'></progress>\n",
              "      [33/33 00:09]\n",
              "    </div>\n",
              "    "
            ],
            "text/plain": [
              "<IPython.core.display.HTML object>"
            ]
          },
          "metadata": {}
        },
        {
          "output_type": "stream",
          "name": "stderr",
          "text": [
            "\u001b[32m[I 2021-12-19 03:45:33,068]\u001b[0m Trial 63 finished with value: 0.37659749388694763 and parameters: {'learning_rate': 9.105561271666804e-05, 'num_train_epochs': 1, 'per_device_train_batch_size': 32, 'weight_decay': 0.002436453047855, 'label_smoothing_factor': 0.0005930500192666737}. Best is trial 62 with value: 0.3723418116569519.\u001b[0m\n"
          ]
        },
        {
          "output_type": "display_data",
          "data": {
            "text/html": [
              "\n",
              "    <div>\n",
              "      \n",
              "      <progress value='289' max='289' style='width:300px; height:20px; vertical-align: middle;'></progress>\n",
              "      [289/289 05:09, Epoch 1/1]\n",
              "    </div>\n",
              "    <table border=\"1\" class=\"dataframe\">\n",
              "  <thead>\n",
              "    <tr style=\"text-align: left;\">\n",
              "      <th>Step</th>\n",
              "      <th>Training Loss</th>\n",
              "      <th>Validation Loss</th>\n",
              "      <th>Acc</th>\n",
              "      <th>F1</th>\n",
              "      <th>Precision</th>\n",
              "      <th>Recall</th>\n",
              "    </tr>\n",
              "  </thead>\n",
              "  <tbody>\n",
              "    <tr>\n",
              "      <td>57</td>\n",
              "      <td>No log</td>\n",
              "      <td>0.698443</td>\n",
              "      <td>0.789883</td>\n",
              "      <td>0.783777</td>\n",
              "      <td>0.828930</td>\n",
              "      <td>0.771146</td>\n",
              "    </tr>\n",
              "    <tr>\n",
              "      <td>114</td>\n",
              "      <td>No log</td>\n",
              "      <td>0.491475</td>\n",
              "      <td>0.846304</td>\n",
              "      <td>0.847831</td>\n",
              "      <td>0.859455</td>\n",
              "      <td>0.840339</td>\n",
              "    </tr>\n",
              "    <tr>\n",
              "      <td>171</td>\n",
              "      <td>No log</td>\n",
              "      <td>0.450446</td>\n",
              "      <td>0.854086</td>\n",
              "      <td>0.854367</td>\n",
              "      <td>0.862105</td>\n",
              "      <td>0.857510</td>\n",
              "    </tr>\n",
              "    <tr>\n",
              "      <td>228</td>\n",
              "      <td>No log</td>\n",
              "      <td>0.388545</td>\n",
              "      <td>0.873541</td>\n",
              "      <td>0.872299</td>\n",
              "      <td>0.872992</td>\n",
              "      <td>0.872013</td>\n",
              "    </tr>\n",
              "    <tr>\n",
              "      <td>285</td>\n",
              "      <td>No log</td>\n",
              "      <td>0.375687</td>\n",
              "      <td>0.874514</td>\n",
              "      <td>0.874372</td>\n",
              "      <td>0.874459</td>\n",
              "      <td>0.874693</td>\n",
              "    </tr>\n",
              "  </tbody>\n",
              "</table><p>"
            ],
            "text/plain": [
              "<IPython.core.display.HTML object>"
            ]
          },
          "metadata": {}
        },
        {
          "output_type": "display_data",
          "data": {
            "text/html": [
              "\n",
              "    <div>\n",
              "      \n",
              "      <progress value='33' max='33' style='width:300px; height:20px; vertical-align: middle;'></progress>\n",
              "      [33/33 00:09]\n",
              "    </div>\n",
              "    "
            ],
            "text/plain": [
              "<IPython.core.display.HTML object>"
            ]
          },
          "metadata": {}
        },
        {
          "output_type": "stream",
          "name": "stderr",
          "text": [
            "\u001b[32m[I 2021-12-19 03:50:57,608]\u001b[0m Trial 64 finished with value: 0.3755095899105072 and parameters: {'learning_rate': 9.141671856275465e-05, 'num_train_epochs': 1, 'per_device_train_batch_size': 32, 'weight_decay': 0.0025642564356591112, 'label_smoothing_factor': 0.0005157913033401974}. Best is trial 62 with value: 0.3723418116569519.\u001b[0m\n"
          ]
        },
        {
          "output_type": "display_data",
          "data": {
            "text/html": [
              "\n",
              "    <div>\n",
              "      \n",
              "      <progress value='289' max='289' style='width:300px; height:20px; vertical-align: middle;'></progress>\n",
              "      [289/289 05:09, Epoch 1/1]\n",
              "    </div>\n",
              "    <table border=\"1\" class=\"dataframe\">\n",
              "  <thead>\n",
              "    <tr style=\"text-align: left;\">\n",
              "      <th>Step</th>\n",
              "      <th>Training Loss</th>\n",
              "      <th>Validation Loss</th>\n",
              "      <th>Acc</th>\n",
              "      <th>F1</th>\n",
              "      <th>Precision</th>\n",
              "      <th>Recall</th>\n",
              "    </tr>\n",
              "  </thead>\n",
              "  <tbody>\n",
              "    <tr>\n",
              "      <td>57</td>\n",
              "      <td>No log</td>\n",
              "      <td>0.710569</td>\n",
              "      <td>0.787938</td>\n",
              "      <td>0.775652</td>\n",
              "      <td>0.825775</td>\n",
              "      <td>0.761029</td>\n",
              "    </tr>\n",
              "    <tr>\n",
              "      <td>114</td>\n",
              "      <td>No log</td>\n",
              "      <td>0.510132</td>\n",
              "      <td>0.844358</td>\n",
              "      <td>0.844295</td>\n",
              "      <td>0.850402</td>\n",
              "      <td>0.841602</td>\n",
              "    </tr>\n",
              "    <tr>\n",
              "      <td>171</td>\n",
              "      <td>No log</td>\n",
              "      <td>0.484710</td>\n",
              "      <td>0.841440</td>\n",
              "      <td>0.841017</td>\n",
              "      <td>0.850964</td>\n",
              "      <td>0.843321</td>\n",
              "    </tr>\n",
              "    <tr>\n",
              "      <td>228</td>\n",
              "      <td>No log</td>\n",
              "      <td>0.401998</td>\n",
              "      <td>0.866732</td>\n",
              "      <td>0.865786</td>\n",
              "      <td>0.866596</td>\n",
              "      <td>0.865795</td>\n",
              "    </tr>\n",
              "    <tr>\n",
              "      <td>285</td>\n",
              "      <td>No log</td>\n",
              "      <td>0.384202</td>\n",
              "      <td>0.878405</td>\n",
              "      <td>0.877425</td>\n",
              "      <td>0.879000</td>\n",
              "      <td>0.876486</td>\n",
              "    </tr>\n",
              "  </tbody>\n",
              "</table><p>"
            ],
            "text/plain": [
              "<IPython.core.display.HTML object>"
            ]
          },
          "metadata": {}
        },
        {
          "output_type": "display_data",
          "data": {
            "text/html": [
              "\n",
              "    <div>\n",
              "      \n",
              "      <progress value='33' max='33' style='width:300px; height:20px; vertical-align: middle;'></progress>\n",
              "      [33/33 00:09]\n",
              "    </div>\n",
              "    "
            ],
            "text/plain": [
              "<IPython.core.display.HTML object>"
            ]
          },
          "metadata": {}
        },
        {
          "output_type": "stream",
          "name": "stderr",
          "text": [
            "\u001b[32m[I 2021-12-19 03:56:21,902]\u001b[0m Trial 65 finished with value: 0.3840334415435791 and parameters: {'learning_rate': 8.988378054038654e-05, 'num_train_epochs': 1, 'per_device_train_batch_size': 32, 'weight_decay': 0.0025631421566836583, 'label_smoothing_factor': 0.0002623337936037578}. Best is trial 62 with value: 0.3723418116569519.\u001b[0m\n"
          ]
        },
        {
          "output_type": "display_data",
          "data": {
            "text/html": [
              "\n",
              "    <div>\n",
              "      \n",
              "      <progress value='289' max='289' style='width:300px; height:20px; vertical-align: middle;'></progress>\n",
              "      [289/289 05:09, Epoch 1/1]\n",
              "    </div>\n",
              "    <table border=\"1\" class=\"dataframe\">\n",
              "  <thead>\n",
              "    <tr style=\"text-align: left;\">\n",
              "      <th>Step</th>\n",
              "      <th>Training Loss</th>\n",
              "      <th>Validation Loss</th>\n",
              "      <th>Acc</th>\n",
              "      <th>F1</th>\n",
              "      <th>Precision</th>\n",
              "      <th>Recall</th>\n",
              "    </tr>\n",
              "  </thead>\n",
              "  <tbody>\n",
              "    <tr>\n",
              "      <td>57</td>\n",
              "      <td>No log</td>\n",
              "      <td>0.680859</td>\n",
              "      <td>0.790856</td>\n",
              "      <td>0.784656</td>\n",
              "      <td>0.826806</td>\n",
              "      <td>0.774204</td>\n",
              "    </tr>\n",
              "    <tr>\n",
              "      <td>114</td>\n",
              "      <td>No log</td>\n",
              "      <td>0.493124</td>\n",
              "      <td>0.842412</td>\n",
              "      <td>0.842738</td>\n",
              "      <td>0.854880</td>\n",
              "      <td>0.835557</td>\n",
              "    </tr>\n",
              "    <tr>\n",
              "      <td>171</td>\n",
              "      <td>No log</td>\n",
              "      <td>0.449299</td>\n",
              "      <td>0.857977</td>\n",
              "      <td>0.856529</td>\n",
              "      <td>0.863594</td>\n",
              "      <td>0.860304</td>\n",
              "    </tr>\n",
              "    <tr>\n",
              "      <td>228</td>\n",
              "      <td>No log</td>\n",
              "      <td>0.383144</td>\n",
              "      <td>0.873541</td>\n",
              "      <td>0.870351</td>\n",
              "      <td>0.872464</td>\n",
              "      <td>0.868520</td>\n",
              "    </tr>\n",
              "    <tr>\n",
              "      <td>285</td>\n",
              "      <td>No log</td>\n",
              "      <td>0.371759</td>\n",
              "      <td>0.876459</td>\n",
              "      <td>0.874977</td>\n",
              "      <td>0.877185</td>\n",
              "      <td>0.873415</td>\n",
              "    </tr>\n",
              "  </tbody>\n",
              "</table><p>"
            ],
            "text/plain": [
              "<IPython.core.display.HTML object>"
            ]
          },
          "metadata": {}
        },
        {
          "output_type": "display_data",
          "data": {
            "text/html": [
              "\n",
              "    <div>\n",
              "      \n",
              "      <progress value='33' max='33' style='width:300px; height:20px; vertical-align: middle;'></progress>\n",
              "      [33/33 00:09]\n",
              "    </div>\n",
              "    "
            ],
            "text/plain": [
              "<IPython.core.display.HTML object>"
            ]
          },
          "metadata": {}
        },
        {
          "output_type": "stream",
          "name": "stderr",
          "text": [
            "\u001b[32m[I 2021-12-19 04:01:46,709]\u001b[0m Trial 66 finished with value: 0.3716256022453308 and parameters: {'learning_rate': 9.11342199505515e-05, 'num_train_epochs': 1, 'per_device_train_batch_size': 32, 'weight_decay': 0.0034013030976917115, 'label_smoothing_factor': 0.00047461372913629315}. Best is trial 66 with value: 0.3716256022453308.\u001b[0m\n"
          ]
        },
        {
          "output_type": "display_data",
          "data": {
            "text/html": [
              "\n",
              "    <div>\n",
              "      \n",
              "      <progress value='289' max='289' style='width:300px; height:20px; vertical-align: middle;'></progress>\n",
              "      [289/289 05:09, Epoch 1/1]\n",
              "    </div>\n",
              "    <table border=\"1\" class=\"dataframe\">\n",
              "  <thead>\n",
              "    <tr style=\"text-align: left;\">\n",
              "      <th>Step</th>\n",
              "      <th>Training Loss</th>\n",
              "      <th>Validation Loss</th>\n",
              "      <th>Acc</th>\n",
              "      <th>F1</th>\n",
              "      <th>Precision</th>\n",
              "      <th>Recall</th>\n",
              "    </tr>\n",
              "  </thead>\n",
              "  <tbody>\n",
              "    <tr>\n",
              "      <td>57</td>\n",
              "      <td>No log</td>\n",
              "      <td>0.712970</td>\n",
              "      <td>0.776265</td>\n",
              "      <td>0.762039</td>\n",
              "      <td>0.813132</td>\n",
              "      <td>0.751896</td>\n",
              "    </tr>\n",
              "    <tr>\n",
              "      <td>114</td>\n",
              "      <td>No log</td>\n",
              "      <td>0.497572</td>\n",
              "      <td>0.841440</td>\n",
              "      <td>0.841282</td>\n",
              "      <td>0.852797</td>\n",
              "      <td>0.833425</td>\n",
              "    </tr>\n",
              "    <tr>\n",
              "      <td>171</td>\n",
              "      <td>No log</td>\n",
              "      <td>0.449285</td>\n",
              "      <td>0.851167</td>\n",
              "      <td>0.851155</td>\n",
              "      <td>0.856613</td>\n",
              "      <td>0.856922</td>\n",
              "    </tr>\n",
              "    <tr>\n",
              "      <td>228</td>\n",
              "      <td>No log</td>\n",
              "      <td>0.380057</td>\n",
              "      <td>0.875486</td>\n",
              "      <td>0.873099</td>\n",
              "      <td>0.874166</td>\n",
              "      <td>0.872480</td>\n",
              "    </tr>\n",
              "    <tr>\n",
              "      <td>285</td>\n",
              "      <td>No log</td>\n",
              "      <td>0.371599</td>\n",
              "      <td>0.880350</td>\n",
              "      <td>0.879368</td>\n",
              "      <td>0.880247</td>\n",
              "      <td>0.879079</td>\n",
              "    </tr>\n",
              "  </tbody>\n",
              "</table><p>"
            ],
            "text/plain": [
              "<IPython.core.display.HTML object>"
            ]
          },
          "metadata": {}
        },
        {
          "output_type": "display_data",
          "data": {
            "text/html": [
              "\n",
              "    <div>\n",
              "      \n",
              "      <progress value='33' max='33' style='width:300px; height:20px; vertical-align: middle;'></progress>\n",
              "      [33/33 00:09]\n",
              "    </div>\n",
              "    "
            ],
            "text/plain": [
              "<IPython.core.display.HTML object>"
            ]
          },
          "metadata": {}
        },
        {
          "output_type": "stream",
          "name": "stderr",
          "text": [
            "\u001b[32m[I 2021-12-19 04:07:11,635]\u001b[0m Trial 67 finished with value: 0.3714544475078583 and parameters: {'learning_rate': 9.150963671552329e-05, 'num_train_epochs': 1, 'per_device_train_batch_size': 32, 'weight_decay': 0.0033286616471942198, 'label_smoothing_factor': 0.0006215711074007643}. Best is trial 67 with value: 0.3714544475078583.\u001b[0m\n"
          ]
        },
        {
          "output_type": "display_data",
          "data": {
            "text/html": [
              "\n",
              "    <div>\n",
              "      \n",
              "      <progress value='289' max='289' style='width:300px; height:20px; vertical-align: middle;'></progress>\n",
              "      [289/289 05:10, Epoch 1/1]\n",
              "    </div>\n",
              "    <table border=\"1\" class=\"dataframe\">\n",
              "  <thead>\n",
              "    <tr style=\"text-align: left;\">\n",
              "      <th>Step</th>\n",
              "      <th>Training Loss</th>\n",
              "      <th>Validation Loss</th>\n",
              "      <th>Acc</th>\n",
              "      <th>F1</th>\n",
              "      <th>Precision</th>\n",
              "      <th>Recall</th>\n",
              "    </tr>\n",
              "  </thead>\n",
              "  <tbody>\n",
              "    <tr>\n",
              "      <td>57</td>\n",
              "      <td>No log</td>\n",
              "      <td>0.729736</td>\n",
              "      <td>0.792802</td>\n",
              "      <td>0.784154</td>\n",
              "      <td>0.815694</td>\n",
              "      <td>0.780914</td>\n",
              "    </tr>\n",
              "    <tr>\n",
              "      <td>114</td>\n",
              "      <td>No log</td>\n",
              "      <td>0.525915</td>\n",
              "      <td>0.838521</td>\n",
              "      <td>0.836560</td>\n",
              "      <td>0.854283</td>\n",
              "      <td>0.826588</td>\n",
              "    </tr>\n",
              "    <tr>\n",
              "      <td>171</td>\n",
              "      <td>No log</td>\n",
              "      <td>0.456610</td>\n",
              "      <td>0.856031</td>\n",
              "      <td>0.853028</td>\n",
              "      <td>0.860399</td>\n",
              "      <td>0.855629</td>\n",
              "    </tr>\n",
              "    <tr>\n",
              "      <td>228</td>\n",
              "      <td>No log</td>\n",
              "      <td>0.406310</td>\n",
              "      <td>0.866732</td>\n",
              "      <td>0.866726</td>\n",
              "      <td>0.867264</td>\n",
              "      <td>0.866398</td>\n",
              "    </tr>\n",
              "    <tr>\n",
              "      <td>285</td>\n",
              "      <td>No log</td>\n",
              "      <td>0.395436</td>\n",
              "      <td>0.870623</td>\n",
              "      <td>0.871641</td>\n",
              "      <td>0.872043</td>\n",
              "      <td>0.871679</td>\n",
              "    </tr>\n",
              "  </tbody>\n",
              "</table><p>"
            ],
            "text/plain": [
              "<IPython.core.display.HTML object>"
            ]
          },
          "metadata": {}
        },
        {
          "output_type": "display_data",
          "data": {
            "text/html": [
              "\n",
              "    <div>\n",
              "      \n",
              "      <progress value='33' max='33' style='width:300px; height:20px; vertical-align: middle;'></progress>\n",
              "      [33/33 00:09]\n",
              "    </div>\n",
              "    "
            ],
            "text/plain": [
              "<IPython.core.display.HTML object>"
            ]
          },
          "metadata": {}
        },
        {
          "output_type": "stream",
          "name": "stderr",
          "text": [
            "\u001b[32m[I 2021-12-19 04:12:37,287]\u001b[0m Trial 68 finished with value: 0.3954123854637146 and parameters: {'learning_rate': 7.260504836144708e-05, 'num_train_epochs': 1, 'per_device_train_batch_size': 32, 'weight_decay': 0.003471205960034998, 'label_smoothing_factor': 0.0006153059202235781}. Best is trial 67 with value: 0.3714544475078583.\u001b[0m\n"
          ]
        },
        {
          "output_type": "display_data",
          "data": {
            "text/html": [
              "\n",
              "    <div>\n",
              "      \n",
              "      <progress value='289' max='289' style='width:300px; height:20px; vertical-align: middle;'></progress>\n",
              "      [289/289 05:10, Epoch 1/1]\n",
              "    </div>\n",
              "    <table border=\"1\" class=\"dataframe\">\n",
              "  <thead>\n",
              "    <tr style=\"text-align: left;\">\n",
              "      <th>Step</th>\n",
              "      <th>Training Loss</th>\n",
              "      <th>Validation Loss</th>\n",
              "      <th>Acc</th>\n",
              "      <th>F1</th>\n",
              "      <th>Precision</th>\n",
              "      <th>Recall</th>\n",
              "    </tr>\n",
              "  </thead>\n",
              "  <tbody>\n",
              "    <tr>\n",
              "      <td>57</td>\n",
              "      <td>No log</td>\n",
              "      <td>0.729646</td>\n",
              "      <td>0.792802</td>\n",
              "      <td>0.781452</td>\n",
              "      <td>0.810605</td>\n",
              "      <td>0.777881</td>\n",
              "    </tr>\n",
              "    <tr>\n",
              "      <td>114</td>\n",
              "      <td>No log</td>\n",
              "      <td>0.519405</td>\n",
              "      <td>0.841440</td>\n",
              "      <td>0.839489</td>\n",
              "      <td>0.856722</td>\n",
              "      <td>0.828888</td>\n",
              "    </tr>\n",
              "    <tr>\n",
              "      <td>171</td>\n",
              "      <td>No log</td>\n",
              "      <td>0.462622</td>\n",
              "      <td>0.858949</td>\n",
              "      <td>0.855244</td>\n",
              "      <td>0.859315</td>\n",
              "      <td>0.860843</td>\n",
              "    </tr>\n",
              "    <tr>\n",
              "      <td>228</td>\n",
              "      <td>No log</td>\n",
              "      <td>0.401042</td>\n",
              "      <td>0.868677</td>\n",
              "      <td>0.867619</td>\n",
              "      <td>0.867623</td>\n",
              "      <td>0.867881</td>\n",
              "    </tr>\n",
              "    <tr>\n",
              "      <td>285</td>\n",
              "      <td>No log</td>\n",
              "      <td>0.387938</td>\n",
              "      <td>0.872568</td>\n",
              "      <td>0.873540</td>\n",
              "      <td>0.873623</td>\n",
              "      <td>0.873861</td>\n",
              "    </tr>\n",
              "  </tbody>\n",
              "</table><p>"
            ],
            "text/plain": [
              "<IPython.core.display.HTML object>"
            ]
          },
          "metadata": {}
        },
        {
          "output_type": "display_data",
          "data": {
            "text/html": [
              "\n",
              "    <div>\n",
              "      \n",
              "      <progress value='33' max='33' style='width:300px; height:20px; vertical-align: middle;'></progress>\n",
              "      [33/33 00:09]\n",
              "    </div>\n",
              "    "
            ],
            "text/plain": [
              "<IPython.core.display.HTML object>"
            ]
          },
          "metadata": {}
        },
        {
          "output_type": "stream",
          "name": "stderr",
          "text": [
            "\u001b[32m[I 2021-12-19 04:18:02,500]\u001b[0m Trial 69 finished with value: 0.387963205575943 and parameters: {'learning_rate': 7.179665081185553e-05, 'num_train_epochs': 1, 'per_device_train_batch_size': 32, 'weight_decay': 0.0034439659966747365, 'label_smoothing_factor': 0.00017667829270411072}. Best is trial 67 with value: 0.3714544475078583.\u001b[0m\n"
          ]
        },
        {
          "output_type": "execute_result",
          "data": {
            "text/plain": [
              "{'label_smoothing_factor': 0.0006215711074007643,\n",
              " 'learning_rate': 9.150963671552329e-05,\n",
              " 'num_train_epochs': 1,\n",
              " 'per_device_train_batch_size': 32,\n",
              " 'weight_decay': 0.0033286616471942198}"
            ]
          },
          "metadata": {},
          "execution_count": 19
        }
      ]
    },
    {
      "cell_type": "markdown",
      "metadata": {
        "id": "yBZsS24YbFpy"
      },
      "source": [
        "## Hyperparameter Tuning\n",
        "\n",
        "https://huggingface.co/docs/transformers/main_classes/trainer#transformers.Trainer.hyperparameter_search"
      ]
    },
    {
      "cell_type": "code",
      "metadata": {
        "id": "phuJdMD6aaLP"
      },
      "source": [
        "# disable transformer warnings like \"Some weights of the model checkpoint ...\"\n",
        "logging.set_verbosity_error()\n",
        "\n",
        "\n",
        "training_args = TrainingArguments(\n",
        "    output_dir=str(project_name),\n",
        "    report_to=[],\n",
        "    log_level=\"error\",\n",
        "    disable_tqdm=False,\n",
        "\n",
        "    evaluation_strategy=\"steps\",\n",
        "    # eval_steps=eval_steps,\n",
        "    save_strategy=\"steps\",\n",
        "    # save_steps=eval_steps,\n",
        "    # load_best_model_at_end=False,\n",
        "    # metric_for_best_model=\"eval_loss\",\n",
        "    # greater_is_better=False,\n",
        ")\n",
        "\n",
        "trainer = Trainer(\n",
        "    model_init=model_init,\n",
        "    args=training_args,\n",
        "    train_dataset=tokenized_gnad10k[\"train\"],\n",
        "    eval_dataset=tokenized_gnad10k[\"test\"],\n",
        "    tokenizer=tokenizer,\n",
        "    data_collator=data_collator,\n",
        "    compute_metrics=compute_metrics,\n",
        ")\n",
        "\n",
        "\n",
        "# Default objective is the sum of all metrics\n",
        "# when metrics are provided, so we have to maximize it.\n",
        "# best = trainer.hyperparameter_search(\n",
        "#     hp_space=hp_space,\n",
        "#     compute_objective=objective,\n",
        "#     n_trials=2\n",
        "# )"
      ],
      "execution_count": null,
      "outputs": []
    }
  ]
}