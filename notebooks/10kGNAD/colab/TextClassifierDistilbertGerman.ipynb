{
  "nbformat": 4,
  "nbformat_minor": 0,
  "metadata": {
    "colab": {
      "name": "TextClassifierDistilbertGerman.ipynb",
      "provenance": [],
      "collapsed_sections": [],
      "authorship_tag": "ABX9TyPPoTe3V/ldNM0AGTHYSYTE",
      "include_colab_link": true
    },
    "kernelspec": {
      "name": "python3",
      "display_name": "Python 3"
    },
    "language_info": {
      "name": "python"
    },
    "accelerator": "GPU"
  },
  "cells": [
    {
      "cell_type": "markdown",
      "metadata": {
        "id": "view-in-github",
        "colab_type": "text"
      },
      "source": [
        "<a href=\"https://colab.research.google.com/github/goerlitz/nlp-classification/blob/main/notebooks/10kGNAD/colab/TextClassifierDistilbertGerman.ipynb\" target=\"_parent\"><img src=\"https://colab.research.google.com/assets/colab-badge.svg\" alt=\"Open In Colab\"/></a>"
      ]
    },
    {
      "cell_type": "markdown",
      "metadata": {
        "id": "BfF1tsgcZm8o"
      },
      "source": [
        "# Classifying German News Articles with SimpleTransformers\n",
        "\n",
        "## Objectives\n",
        "\n",
        "1. Train a text classifier with transfer learning based on a pretrained German DistilBERT transformer model.\n",
        "2. Keep the implementation simple (just a few lines of code) by using the SimpleTransformers library.\n",
        "\n",
        "## Approach\n",
        "\n",
        "This solution is heavily inspired by the article https://www.philschmid.de/bert-text-classification-in-a-different-language/ which uses a pretrained `distilbert-base-german-cased` language model to further fine-tune it for a downstream task to identify offensive language in German tweets (the [Germeval 2019](hhttps://projects.fzai.h-da.de/iggsa/projekt/) dataset).\n",
        "\n",
        "Following, the same pretrained `distilbert-base-german-cased` model is used on the 10k German News Articles dataset to classify 9 news topics.\n",
        "\n",
        "## Learnings\n",
        "\n",
        "..."
      ]
    },
    {
      "cell_type": "markdown",
      "metadata": {
        "id": "H4GaTz-bO6ik"
      },
      "source": [
        "## Prerequisites"
      ]
    },
    {
      "cell_type": "code",
      "metadata": {
        "colab": {
          "base_uri": "https://localhost:8080/"
        },
        "id": "l0PiC_x9NjC3",
        "outputId": "e191879d-0209-4a7d-98d4-60eb848eb7d8"
      },
      "source": [
        "gpu_info = !nvidia-smi\n",
        "gpu_info = '\\n'.join(gpu_info)\n",
        "if gpu_info.find('failed') >= 0:\n",
        "  print('Select the Runtime > \"Change runtime type\" menu to enable a GPU accelerator, ')\n",
        "  print('and then re-execute this cell.')\n",
        "else:\n",
        "  print(gpu_info)"
      ],
      "execution_count": null,
      "outputs": [
        {
          "output_type": "stream",
          "text": [
            "Sat Jun 12 23:23:18 2021       \n",
            "+-----------------------------------------------------------------------------+\n",
            "| NVIDIA-SMI 465.27       Driver Version: 460.32.03    CUDA Version: 11.2     |\n",
            "|-------------------------------+----------------------+----------------------+\n",
            "| GPU  Name        Persistence-M| Bus-Id        Disp.A | Volatile Uncorr. ECC |\n",
            "| Fan  Temp  Perf  Pwr:Usage/Cap|         Memory-Usage | GPU-Util  Compute M. |\n",
            "|                               |                      |               MIG M. |\n",
            "|===============================+======================+======================|\n",
            "|   0  Tesla V100-SXM2...  Off  | 00000000:00:04.0 Off |                    0 |\n",
            "| N/A   33C    P0    38W / 300W |   3379MiB / 16160MiB |      0%      Default |\n",
            "|                               |                      |                  N/A |\n",
            "+-------------------------------+----------------------+----------------------+\n",
            "                                                                               \n",
            "+-----------------------------------------------------------------------------+\n",
            "| Processes:                                                                  |\n",
            "|  GPU   GI   CI        PID   Type   Process name                  GPU Memory |\n",
            "|        ID   ID                                                   Usage      |\n",
            "|=============================================================================|\n",
            "+-----------------------------------------------------------------------------+\n"
          ],
          "name": "stdout"
        }
      ]
    },
    {
      "cell_type": "code",
      "metadata": {
        "colab": {
          "base_uri": "https://localhost:8080/"
        },
        "id": "UFuf6ZDEZ2Xo",
        "outputId": "325782c1-621e-4c92-f45a-dbdc519e75a6"
      },
      "source": [
        "# install transformers\n",
        "!pip install -q -U tqdm==4.47.0 transformers simpletransformers >/dev/null\n",
        "\n",
        "# check installed version\n",
        "!pip freeze | grep transformers\n",
        "!pip freeze | grep torch\n",
        "# simpletransformers==0.61.6\n",
        "# transformers==4.6.1\n",
        "# torch==1.8.1+cu101"
      ],
      "execution_count": null,
      "outputs": [
        {
          "output_type": "stream",
          "text": [
            "simpletransformers==0.61.6\n",
            "transformers==4.6.1\n",
            "torch==1.8.1+cu101\n",
            "torchsummary==1.5.1\n",
            "torchtext==0.9.1\n",
            "torchvision==0.9.1+cu101\n"
          ],
          "name": "stdout"
        }
      ]
    },
    {
      "cell_type": "code",
      "metadata": {
        "id": "Wa36sieXlzjQ"
      },
      "source": [
        "import numpy as np\n",
        "import pandas as pd\n",
        "from pathlib import Path\n",
        "import os\n",
        "\n",
        "from simpletransformers.classification import ClassificationModel\n",
        "from transformers import AutoTokenizer\n",
        "\n",
        "# hide progress bar when downloading tokenizers - a workaround!\n",
        "from transformers import logging\n",
        "logging.get_verbosity = lambda : logging.NOTSET\n",
        "\n",
        "# suppress \"Some parameters of your model ...\" when loading a pretrained model\n",
        "logging.set_verbosity_error()\n",
        "\n",
        "os.environ[\"WANDB_SILENT\"] = \"true\""
      ],
      "execution_count": null,
      "outputs": []
    },
    {
      "cell_type": "markdown",
      "metadata": {
        "id": "AsTaSRJekM0L"
      },
      "source": [
        "## Download Data\n",
        "\n",
        "Using the [10k German News Articles Dataset](https://tblock.github.io/10kGNAD/)"
      ]
    },
    {
      "cell_type": "code",
      "metadata": {
        "colab": {
          "base_uri": "https://localhost:8080/"
        },
        "id": "pf-3EEDYXlhh",
        "outputId": "5d290528-876c-4d6f-ceb4-849868756dc5"
      },
      "source": [
        "%env DIR=data\n",
        "\n",
        "!mkdir -p $DIR\n",
        "!wget -nc https://github.com/tblock/10kGNAD/blob/master/train.csv?raw=true -nv -O $DIR/train.csv\n",
        "!wget -nc https://github.com/tblock/10kGNAD/blob/master/test.csv?raw=true -nv -O $DIR/test.csv\n",
        "!ls -lAh $DIR | cut -d \" \" -f 5-"
      ],
      "execution_count": null,
      "outputs": [
        {
          "output_type": "stream",
          "text": [
            "env: DIR=data\n",
            "\n",
            "2.7M Jun 12 22:32 test.csv\n",
            " 24M Jun 12 22:32 train.csv\n"
          ],
          "name": "stdout"
        }
      ]
    },
    {
      "cell_type": "markdown",
      "metadata": {
        "id": "XuLSIj9NkXAG"
      },
      "source": [
        "## Import Data"
      ]
    },
    {
      "cell_type": "code",
      "metadata": {
        "id": "fL2RFkuaaQug"
      },
      "source": [
        "data_dir = Path(\"data/\")\n",
        "\n",
        "train_file = data_dir / 'train.csv'\n",
        "test_file = data_dir / 'test.csv'\n",
        "\n",
        "def read_csv_10kGNAD(filepath: Path, columns=[\"labels\", \"text\"]) -> pd.DataFrame:\n",
        "    \"\"\"Load 10kGNAD csv file, handling its specific file format.\"\"\"\n",
        "    f = pd.read_csv(filepath, sep=\";\", quotechar=\"'\", names=columns)\n",
        "    return f"
      ],
      "execution_count": null,
      "outputs": []
    },
    {
      "cell_type": "code",
      "metadata": {
        "colab": {
          "base_uri": "https://localhost:8080/",
          "height": 224
        },
        "id": "pFMweinxRnAT",
        "outputId": "a3af5580-f63a-41c1-97d2-1e1741878557"
      },
      "source": [
        "train_df = read_csv_10kGNAD(data_dir / 'train.csv')\n",
        "print(train_df.shape[0], 'articles')\n",
        "display(train_df.head())"
      ],
      "execution_count": null,
      "outputs": [
        {
          "output_type": "stream",
          "text": [
            "9245 articles\n"
          ],
          "name": "stdout"
        },
        {
          "output_type": "display_data",
          "data": {
            "text/html": [
              "<div>\n",
              "<style scoped>\n",
              "    .dataframe tbody tr th:only-of-type {\n",
              "        vertical-align: middle;\n",
              "    }\n",
              "\n",
              "    .dataframe tbody tr th {\n",
              "        vertical-align: top;\n",
              "    }\n",
              "\n",
              "    .dataframe thead th {\n",
              "        text-align: right;\n",
              "    }\n",
              "</style>\n",
              "<table border=\"1\" class=\"dataframe\">\n",
              "  <thead>\n",
              "    <tr style=\"text-align: right;\">\n",
              "      <th></th>\n",
              "      <th>labels</th>\n",
              "      <th>text</th>\n",
              "    </tr>\n",
              "  </thead>\n",
              "  <tbody>\n",
              "    <tr>\n",
              "      <th>0</th>\n",
              "      <td>Sport</td>\n",
              "      <td>21-Jähriger fällt wohl bis Saisonende aus. Wie...</td>\n",
              "    </tr>\n",
              "    <tr>\n",
              "      <th>1</th>\n",
              "      <td>Kultur</td>\n",
              "      <td>Erfundene Bilder zu Filmen, die als verloren g...</td>\n",
              "    </tr>\n",
              "    <tr>\n",
              "      <th>2</th>\n",
              "      <td>Web</td>\n",
              "      <td>Der frischgekürte CEO Sundar Pichai setzt auf ...</td>\n",
              "    </tr>\n",
              "    <tr>\n",
              "      <th>3</th>\n",
              "      <td>Wirtschaft</td>\n",
              "      <td>Putin: \"Einigung, dass wir Menge auf Niveau vo...</td>\n",
              "    </tr>\n",
              "    <tr>\n",
              "      <th>4</th>\n",
              "      <td>Inland</td>\n",
              "      <td>Estland sieht den künftigen österreichischen P...</td>\n",
              "    </tr>\n",
              "  </tbody>\n",
              "</table>\n",
              "</div>"
            ],
            "text/plain": [
              "       labels                                               text\n",
              "0       Sport  21-Jähriger fällt wohl bis Saisonende aus. Wie...\n",
              "1      Kultur  Erfundene Bilder zu Filmen, die als verloren g...\n",
              "2         Web  Der frischgekürte CEO Sundar Pichai setzt auf ...\n",
              "3  Wirtschaft  Putin: \"Einigung, dass wir Menge auf Niveau vo...\n",
              "4      Inland  Estland sieht den künftigen österreichischen P..."
            ]
          },
          "metadata": {
            "tags": []
          }
        }
      ]
    },
    {
      "cell_type": "code",
      "metadata": {
        "colab": {
          "base_uri": "https://localhost:8080/",
          "height": 224
        },
        "id": "hhCGAswmBG5u",
        "outputId": "7efaa2e1-abce-40ce-bb6b-c1e69071e8e3"
      },
      "source": [
        "test_df = read_csv_10kGNAD(data_dir / 'test.csv')\n",
        "print(test_df.shape[0], 'articles')\n",
        "display(test_df.head())"
      ],
      "execution_count": null,
      "outputs": [
        {
          "output_type": "stream",
          "text": [
            "1028 articles\n"
          ],
          "name": "stdout"
        },
        {
          "output_type": "display_data",
          "data": {
            "text/html": [
              "<div>\n",
              "<style scoped>\n",
              "    .dataframe tbody tr th:only-of-type {\n",
              "        vertical-align: middle;\n",
              "    }\n",
              "\n",
              "    .dataframe tbody tr th {\n",
              "        vertical-align: top;\n",
              "    }\n",
              "\n",
              "    .dataframe thead th {\n",
              "        text-align: right;\n",
              "    }\n",
              "</style>\n",
              "<table border=\"1\" class=\"dataframe\">\n",
              "  <thead>\n",
              "    <tr style=\"text-align: right;\">\n",
              "      <th></th>\n",
              "      <th>labels</th>\n",
              "      <th>text</th>\n",
              "    </tr>\n",
              "  </thead>\n",
              "  <tbody>\n",
              "    <tr>\n",
              "      <th>0</th>\n",
              "      <td>Wirtschaft</td>\n",
              "      <td>Die Gewerkschaft GPA-djp lanciert den \"All-in-...</td>\n",
              "    </tr>\n",
              "    <tr>\n",
              "      <th>1</th>\n",
              "      <td>Sport</td>\n",
              "      <td>Franzosen verteidigen 2:1-Führung – Kritische ...</td>\n",
              "    </tr>\n",
              "    <tr>\n",
              "      <th>2</th>\n",
              "      <td>Web</td>\n",
              "      <td>Neues Video von Designern macht im Netz die Ru...</td>\n",
              "    </tr>\n",
              "    <tr>\n",
              "      <th>3</th>\n",
              "      <td>Sport</td>\n",
              "      <td>23-jähriger Brasilianer muss vier Spiele pausi...</td>\n",
              "    </tr>\n",
              "    <tr>\n",
              "      <th>4</th>\n",
              "      <td>International</td>\n",
              "      <td>Aufständische verwendeten Chemikalie bei Gefec...</td>\n",
              "    </tr>\n",
              "  </tbody>\n",
              "</table>\n",
              "</div>"
            ],
            "text/plain": [
              "          labels                                               text\n",
              "0     Wirtschaft  Die Gewerkschaft GPA-djp lanciert den \"All-in-...\n",
              "1          Sport  Franzosen verteidigen 2:1-Führung – Kritische ...\n",
              "2            Web  Neues Video von Designern macht im Netz die Ru...\n",
              "3          Sport  23-jähriger Brasilianer muss vier Spiele pausi...\n",
              "4  International  Aufständische verwendeten Chemikalie bei Gefec..."
            ]
          },
          "metadata": {
            "tags": []
          }
        }
      ]
    },
    {
      "cell_type": "markdown",
      "metadata": {
        "id": "oFgSEkulaNq3"
      },
      "source": [
        "## Prepare Data for Model Training\n",
        "\n",
        "There are a few requiremenf for feeding training data into SimpleTransformers:\n",
        "\n",
        "* columns should be labeled `labels` and `text` (already done when reading the data)\n",
        "* labels must be encoded as int values (starting at `0`!)\n",
        "\n",
        "Additionally, we can handle imbalanced datasets by\n",
        "\n",
        "* computing class weights for training"
      ]
    },
    {
      "cell_type": "markdown",
      "metadata": {
        "id": "asYfSgYXCxQt"
      },
      "source": [
        "### Label Encoding"
      ]
    },
    {
      "cell_type": "code",
      "metadata": {
        "colab": {
          "base_uri": "https://localhost:8080/",
          "height": 206
        },
        "id": "LMPJFyt8C-Z5",
        "outputId": "54a680c0-e2e6-4af8-be9f-7e4d7e153406"
      },
      "source": [
        "from sklearn.preprocessing import LabelEncoder\n",
        "\n",
        "def encode_labels(train: pd.DataFrame, test: pd.DataFrame):\n",
        "    le = LabelEncoder()\n",
        "\n",
        "    train_labels = le.fit_transform(train.labels)\n",
        "    test_labels = le.transform(test.labels)\n",
        "\n",
        "    return train.assign(labels=train_labels), test.assign(labels=test_labels)\n",
        "\n",
        "train_df, test_df = encode_labels(train_df, test_df)\n",
        "display(train_df.head())"
      ],
      "execution_count": null,
      "outputs": [
        {
          "output_type": "display_data",
          "data": {
            "text/html": [
              "<div>\n",
              "<style scoped>\n",
              "    .dataframe tbody tr th:only-of-type {\n",
              "        vertical-align: middle;\n",
              "    }\n",
              "\n",
              "    .dataframe tbody tr th {\n",
              "        vertical-align: top;\n",
              "    }\n",
              "\n",
              "    .dataframe thead th {\n",
              "        text-align: right;\n",
              "    }\n",
              "</style>\n",
              "<table border=\"1\" class=\"dataframe\">\n",
              "  <thead>\n",
              "    <tr style=\"text-align: right;\">\n",
              "      <th></th>\n",
              "      <th>labels</th>\n",
              "      <th>text</th>\n",
              "    </tr>\n",
              "  </thead>\n",
              "  <tbody>\n",
              "    <tr>\n",
              "      <th>0</th>\n",
              "      <td>5</td>\n",
              "      <td>21-Jähriger fällt wohl bis Saisonende aus. Wie...</td>\n",
              "    </tr>\n",
              "    <tr>\n",
              "      <th>1</th>\n",
              "      <td>3</td>\n",
              "      <td>Erfundene Bilder zu Filmen, die als verloren g...</td>\n",
              "    </tr>\n",
              "    <tr>\n",
              "      <th>2</th>\n",
              "      <td>6</td>\n",
              "      <td>Der frischgekürte CEO Sundar Pichai setzt auf ...</td>\n",
              "    </tr>\n",
              "    <tr>\n",
              "      <th>3</th>\n",
              "      <td>7</td>\n",
              "      <td>Putin: \"Einigung, dass wir Menge auf Niveau vo...</td>\n",
              "    </tr>\n",
              "    <tr>\n",
              "      <th>4</th>\n",
              "      <td>1</td>\n",
              "      <td>Estland sieht den künftigen österreichischen P...</td>\n",
              "    </tr>\n",
              "  </tbody>\n",
              "</table>\n",
              "</div>"
            ],
            "text/plain": [
              "   labels                                               text\n",
              "0       5  21-Jähriger fällt wohl bis Saisonende aus. Wie...\n",
              "1       3  Erfundene Bilder zu Filmen, die als verloren g...\n",
              "2       6  Der frischgekürte CEO Sundar Pichai setzt auf ...\n",
              "3       7  Putin: \"Einigung, dass wir Menge auf Niveau vo...\n",
              "4       1  Estland sieht den künftigen österreichischen P..."
            ]
          },
          "metadata": {
            "tags": []
          }
        }
      ]
    },
    {
      "cell_type": "markdown",
      "metadata": {
        "id": "96Q4lMDDC7r0"
      },
      "source": [
        "### Computing Class Weights (not used yet)"
      ]
    },
    {
      "cell_type": "code",
      "metadata": {
        "colab": {
          "base_uri": "https://localhost:8080/",
          "height": 332
        },
        "id": "aQ4ejcR5LsDq",
        "outputId": "688f609a-921b-4ff4-ff8b-2051a8f7a72e"
      },
      "source": [
        "from sklearn.utils.class_weight import compute_class_weight\n",
        "\n",
        "def class_weights(labels: pd.Series) -> pd.DataFrame:\n",
        "    \"\"\"Compute class weights for imbalanced data.\"\"\"\n",
        "    uniq_labels = labels.unique()\n",
        "    counts_s = labels.value_counts().reindex(uniq_labels)\n",
        "    weights = compute_class_weight(\"balanced\", uniq_labels, labels)\n",
        "    return pd.DataFrame({\"count\": counts_s, \"weight\": weights}).sort_index()\n",
        "\n",
        "weights_df = class_weights(train_df.labels)\n",
        "display(weights_df)"
      ],
      "execution_count": null,
      "outputs": [
        {
          "output_type": "display_data",
          "data": {
            "text/html": [
              "<div>\n",
              "<style scoped>\n",
              "    .dataframe tbody tr th:only-of-type {\n",
              "        vertical-align: middle;\n",
              "    }\n",
              "\n",
              "    .dataframe tbody tr th {\n",
              "        vertical-align: top;\n",
              "    }\n",
              "\n",
              "    .dataframe thead th {\n",
              "        text-align: right;\n",
              "    }\n",
              "</style>\n",
              "<table border=\"1\" class=\"dataframe\">\n",
              "  <thead>\n",
              "    <tr style=\"text-align: right;\">\n",
              "      <th></th>\n",
              "      <th>count</th>\n",
              "      <th>weight</th>\n",
              "    </tr>\n",
              "  </thead>\n",
              "  <tbody>\n",
              "    <tr>\n",
              "      <th>0</th>\n",
              "      <td>601</td>\n",
              "      <td>1.709188</td>\n",
              "    </tr>\n",
              "    <tr>\n",
              "      <th>1</th>\n",
              "      <td>913</td>\n",
              "      <td>1.125106</td>\n",
              "    </tr>\n",
              "    <tr>\n",
              "      <th>2</th>\n",
              "      <td>1360</td>\n",
              "      <td>0.755310</td>\n",
              "    </tr>\n",
              "    <tr>\n",
              "      <th>3</th>\n",
              "      <td>485</td>\n",
              "      <td>2.117984</td>\n",
              "    </tr>\n",
              "    <tr>\n",
              "      <th>4</th>\n",
              "      <td>1510</td>\n",
              "      <td>0.680280</td>\n",
              "    </tr>\n",
              "    <tr>\n",
              "      <th>5</th>\n",
              "      <td>1081</td>\n",
              "      <td>0.950252</td>\n",
              "    </tr>\n",
              "    <tr>\n",
              "      <th>6</th>\n",
              "      <td>1509</td>\n",
              "      <td>0.680730</td>\n",
              "    </tr>\n",
              "    <tr>\n",
              "      <th>7</th>\n",
              "      <td>1270</td>\n",
              "      <td>0.808836</td>\n",
              "    </tr>\n",
              "    <tr>\n",
              "      <th>8</th>\n",
              "      <td>516</td>\n",
              "      <td>1.990741</td>\n",
              "    </tr>\n",
              "  </tbody>\n",
              "</table>\n",
              "</div>"
            ],
            "text/plain": [
              "   count    weight\n",
              "0    601  1.709188\n",
              "1    913  1.125106\n",
              "2   1360  0.755310\n",
              "3    485  2.117984\n",
              "4   1510  0.680280\n",
              "5   1081  0.950252\n",
              "6   1509  0.680730\n",
              "7   1270  0.808836\n",
              "8    516  1.990741"
            ]
          },
          "metadata": {
            "tags": []
          }
        }
      ]
    },
    {
      "cell_type": "markdown",
      "metadata": {
        "id": "xclwtZOSanXP"
      },
      "source": [
        "## Model Setup"
      ]
    },
    {
      "cell_type": "code",
      "metadata": {
        "id": "feusxakWaTCB"
      },
      "source": [
        "from sklearn.metrics import f1_score, accuracy_score, precision_score, recall_score\n",
        "\n",
        "def f1_multiclass(labels, preds):\n",
        "    return f1_score(labels, preds, average='macro')\n",
        "\n",
        "def precision_multiclass(labels, preds):\n",
        "    return precision_score(labels, preds, average='macro')\n",
        "\n",
        "def recall_multiclass(labels, preds):\n",
        "    return recall_score(labels, preds, average='macro')"
      ],
      "execution_count": null,
      "outputs": []
    },
    {
      "cell_type": "code",
      "metadata": {
        "id": "ZKZgDXsgcHFt"
      },
      "source": [
        "import wandb\n",
        "\n",
        "# initialize weights & biases logging\n",
        "project_name = \"10kGNAD_SimpleTransformers_base\"\n",
        "\n",
        "# define training parameters\n",
        "train_args = {\"reprocess_input_data\": True,\n",
        "              \"fp16\": False,\n",
        "              \"num_train_epochs\": 1,\n",
        "              # \"weight\": list(weights_df.weight),\n",
        "              \"evaluate_during_training\": True,\n",
        "              \"evaluate_during_training_steps\": 200,\n",
        "              \"overwrite_output_dir\": True,\n",
        "              \"wandb_project\": project_name}\n",
        "\n",
        "model_type = \"distilbert\"\n",
        "model_name = \"distilbert-base-german-cased\"\n",
        "\n",
        "def train():\n",
        "\n",
        "    # need to create a tokenizer first and adjust train args with lower case setting\n",
        "    tokenizer = AutoTokenizer.from_pretrained(model_name)\n",
        "    args = {**train_args, **{ \"do_lower_case\": tokenizer.do_lower_case }}\n",
        "\n",
        "    # Create a ClassificationModel\n",
        "    model = ClassificationModel(model_type,\n",
        "                                model_name,\n",
        "                                num_labels=train_df.labels.nunique(),\n",
        "                                args=args)\n",
        "\n",
        "\n",
        "    steps, details = model.train_model(train_df,\n",
        "                                       eval_df=test_df,\n",
        "                                       verbose=False,\n",
        "                                       f1=f1_multiclass,\n",
        "                                       acc=accuracy_score,\n",
        "                                       precision=precision_multiclass,\n",
        "                                       recall=recall_multiclass)\n",
        "\n",
        "    wandb.join()"
      ],
      "execution_count": null,
      "outputs": []
    },
    {
      "cell_type": "code",
      "metadata": {
        "id": "2xMI-XtXebnb"
      },
      "source": [
        "while True:\n",
        "    train()"
      ],
      "execution_count": null,
      "outputs": []
    },
    {
      "cell_type": "markdown",
      "metadata": {
        "id": "hySEe1YaAqr4"
      },
      "source": [
        "---\n",
        "## Evaluate Best Model"
      ]
    },
    {
      "cell_type": "code",
      "metadata": {
        "id": "s1009AbGcIeg"
      },
      "source": [
        "result, model_outputs, wrong_predictions = model.eval_model(test_df, f1=f1_multiclass, acc=accuracy_score, precision=precision_multiclass, recall=recall_multiclass, wandb_log=False)\n",
        "pd.Series(result)"
      ],
      "execution_count": null,
      "outputs": []
    },
    {
      "cell_type": "code",
      "metadata": {
        "id": "jAhyTUI9bOcM"
      },
      "source": [
        "preds = pd.DataFrame(model_outputs, columns=mapping_s)\n",
        "preds"
      ],
      "execution_count": null,
      "outputs": []
    },
    {
      "cell_type": "code",
      "metadata": {
        "id": "YGjePotsPX2c"
      },
      "source": [
        "# preds.to_csv(\"data/predictions.csv\", index=False)"
      ],
      "execution_count": null,
      "outputs": []
    },
    {
      "cell_type": "code",
      "metadata": {
        "id": "g0p501p2bn8W"
      },
      "source": [
        "pred_s = pd.DataFrame(model_outputs).idxmax(axis=1)"
      ],
      "execution_count": null,
      "outputs": []
    },
    {
      "cell_type": "code",
      "metadata": {
        "id": "tRb7yXGkdzHy"
      },
      "source": [
        "mapping_s.values"
      ],
      "execution_count": null,
      "outputs": []
    },
    {
      "cell_type": "code",
      "metadata": {
        "id": "Y92ATriIeqDR"
      },
      "source": [
        "import sklearn.metrics as skm\n",
        "skm.confusion_matrix(test_df.labels, pred_s)"
      ],
      "execution_count": null,
      "outputs": []
    },
    {
      "cell_type": "code",
      "metadata": {
        "id": "O4Og3hgmcuHZ"
      },
      "source": [
        "print(skm.classification_report(test_df.labels, pred_s, target_names=mapping_s.values))"
      ],
      "execution_count": null,
      "outputs": []
    }
  ]
}