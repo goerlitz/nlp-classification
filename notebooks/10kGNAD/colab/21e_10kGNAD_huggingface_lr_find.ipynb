{
  "cells": [
    {
      "cell_type": "markdown",
      "metadata": {
        "id": "view-in-github",
        "colab_type": "text"
      },
      "source": [
        "<a href=\"https://colab.research.google.com/github/goerlitz/nlp-classification/blob/main/notebooks/10kGNAD/colab/21e_10kGNAD_huggingface_lr_find.ipynb\" target=\"_parent\"><img src=\"https://colab.research.google.com/assets/colab-badge.svg\" alt=\"Open In Colab\"/></a>"
      ]
    },
    {
      "cell_type": "markdown",
      "metadata": {
        "id": "FrveYRYD2E9-"
      },
      "source": [
        "# Finding a Good Learning Rate for pre-trained HuggingFace Transformer Models\n",
        "\n",
        "References\n",
        "* Leslie N. Smith: [Cyclical Learning Rates for Training Neural Networks](https://arxiv.org/abs/1506.01186)\n",
        "* Sylvain Gugger: [The 1cycle policy](https://sgugger.github.io/the-1cycle-policy.html)\n",
        "* FastAI `lr_find`\n",
        "* ktrain `lr_find` ([1](https://nbviewer.org/github/amaiya/ktrain/blob/master/tutorials/tutorial-A3-hugging_face_transformers.ipynb#STEP-2-[Optional]:-Estimate-a-Good-Learning-Rate), [2](https://nbviewer.org/github/amaiya/ktrain/blob/master/tutorials/tutorial-02-tuning-learning-rates.ipynb#A-Learning-Rate-Finder), [3](https://github.com/amaiya/ktrain/blob/master/ktrain/lroptimize/lrfinder.py))\n",
        "* PyTorch Lightning `lr_find` ([1](https://pytorch-lightning.readthedocs.io/en/stable/advanced/lr_finder.html), [2](https://pytorch-lightning.readthedocs.io/en/stable/_modules/pytorch_lightning/tuner/lr_finder.html#lr_find))\n",
        "* [Automated Learning Rate Suggester](https://forums.fast.ai/t/automated-learning-rate-suggester/44199) (fastAI forum)"
      ]
    },
    {
      "cell_type": "markdown",
      "metadata": {
        "id": "JH5VyX6w9AIM"
      },
      "source": [
        "## Prerequisites"
      ]
    },
    {
      "cell_type": "code",
      "execution_count": 155,
      "metadata": {
        "id": "L2BZ9NGbmTkF"
      },
      "outputs": [],
      "source": [
        "checkpoint = \"distilbert-base-german-cased\"\n",
        "# checkpoint = \"deepset/gbert-base\"\n",
        "# checkpoint = \"deepset/gelectra-base\""
      ]
    },
    {
      "cell_type": "markdown",
      "metadata": {
        "id": "5F2oddvs2rNv"
      },
      "source": [
        "### Check GPU"
      ]
    },
    {
      "cell_type": "code",
      "execution_count": 156,
      "metadata": {
        "id": "JVWRNvQf1cnR",
        "colab": {
          "base_uri": "https://localhost:8080/"
        },
        "outputId": "65c66fae-c1b9-4c96-df12-9a7c17d0baa6"
      },
      "outputs": [
        {
          "output_type": "stream",
          "name": "stdout",
          "text": [
            "Wed Jan  5 00:03:24 2022       \n",
            "+-----------------------------------------------------------------------------+\n",
            "| NVIDIA-SMI 495.44       Driver Version: 460.32.03    CUDA Version: 11.2     |\n",
            "|-------------------------------+----------------------+----------------------+\n",
            "| GPU  Name        Persistence-M| Bus-Id        Disp.A | Volatile Uncorr. ECC |\n",
            "| Fan  Temp  Perf  Pwr:Usage/Cap|         Memory-Usage | GPU-Util  Compute M. |\n",
            "|                               |                      |               MIG M. |\n",
            "|===============================+======================+======================|\n",
            "|   0  Tesla P100-PCIE...  Off  | 00000000:00:04.0 Off |                    0 |\n",
            "| N/A   50C    P0    37W / 250W |  10691MiB / 16280MiB |      0%      Default |\n",
            "|                               |                      |                  N/A |\n",
            "+-------------------------------+----------------------+----------------------+\n",
            "                                                                               \n",
            "+-----------------------------------------------------------------------------+\n",
            "| Processes:                                                                  |\n",
            "|  GPU   GI   CI        PID   Type   Process name                  GPU Memory |\n",
            "|        ID   ID                                                   Usage      |\n",
            "|=============================================================================|\n",
            "|  No running processes found                                                 |\n",
            "+-----------------------------------------------------------------------------+\n"
          ]
        }
      ],
      "source": [
        "gpu_info = !nvidia-smi\n",
        "gpu_info = '\\n'.join(gpu_info)\n",
        "if gpu_info.find('failed') >= 0:\n",
        "  print('Select the Runtime > \"Change runtime type\" menu to enable a GPU accelerator, ')\n",
        "  print('and then re-execute this cell.')\n",
        "else:\n",
        "  print(gpu_info)"
      ]
    },
    {
      "cell_type": "markdown",
      "metadata": {
        "id": "Bwlw_kI3nHLW"
      },
      "source": [
        "### Install Packages"
      ]
    },
    {
      "cell_type": "code",
      "execution_count": 157,
      "metadata": {
        "id": "0QhKj625lBso",
        "colab": {
          "base_uri": "https://localhost:8080/"
        },
        "outputId": "1f3c9b74-e970-424f-aafc-d217a1002f95"
      },
      "outputs": [
        {
          "output_type": "stream",
          "name": "stdout",
          "text": [
            "transformers==4.15.0\n",
            "torch @ https://download.pytorch.org/whl/cu111/torch-1.10.0%2Bcu111-cp37-cp37m-linux_x86_64.whl\n",
            "CPU times: user 53.9 ms, sys: 140 ms, total: 194 ms\n",
            "Wall time: 5.8 s\n"
          ]
        }
      ],
      "source": [
        "%%time\n",
        "!pip install -q -U transformers datasets >/dev/null\n",
        "\n",
        "# check installed version\n",
        "!pip freeze | grep transformers  # transformers==4.15.0\n",
        "!pip freeze | grep \"torch \"      # torch==1.10.0+cu111\n"
      ]
    },
    {
      "cell_type": "code",
      "execution_count": 158,
      "metadata": {
        "id": "vbpLzC7DRoR5"
      },
      "outputs": [],
      "source": [
        "from transformers import logging\n",
        "\n",
        "# hide progress bar when downloading tokenizer and model (a workaround!)\n",
        "logging.get_verbosity = lambda : logging.NOTSET"
      ]
    },
    {
      "cell_type": "markdown",
      "metadata": {
        "id": "64Q8bFMM7UYg"
      },
      "source": [
        "### Load Dataset"
      ]
    },
    {
      "cell_type": "code",
      "execution_count": 159,
      "metadata": {
        "id": "4aYzOljo7W9X",
        "colab": {
          "base_uri": "https://localhost:8080/",
          "height": 84,
          "referenced_widgets": [
            "9e1053da7998461690772894241e5230",
            "dd6d1a710ade4b3ca772555c51f6c81c",
            "010adcf8cb9844849a07bc9a435dd867",
            "f61bfd18abed43a38d35f03b750f1a38",
            "86d35cea2ec1483982ebdbea7f376ddd",
            "a62bc54cf0864e3eb6c4032f7cc5aaed",
            "22165007b1294f679148bc847d861722",
            "6837dbfe1d3e4330b9dfcb26b3c0066d",
            "eba7587238d64a73ad242fd9f4d41064",
            "a83d72a118b94721bfd3d20eaa890735",
            "97a23e3785fd40ccaee1015bdb4ffc09"
          ]
        },
        "outputId": "8d0cf8b0-90d1-4899-fd9b-32c7c05737a3"
      },
      "outputs": [
        {
          "output_type": "stream",
          "name": "stderr",
          "text": [
            "Using custom data configuration default\n",
            "Reusing dataset gnad10 (/root/.cache/huggingface/datasets/gnad10/default/1.1.0/3a8445be65795ad88270af4d797034c3d99f70f8352ca658c586faf1cf960881)\n"
          ]
        },
        {
          "output_type": "display_data",
          "data": {
            "application/vnd.jupyter.widget-view+json": {
              "model_id": "9e1053da7998461690772894241e5230",
              "version_minor": 0,
              "version_major": 2
            },
            "text/plain": [
              "  0%|          | 0/2 [00:00<?, ?it/s]"
            ]
          },
          "metadata": {}
        }
      ],
      "source": [
        "from datasets import load_dataset\n",
        "\n",
        "data = load_dataset(\"gnad10\")\n",
        "label_names = data[\"train\"].features[\"label\"].names"
      ]
    },
    {
      "cell_type": "markdown",
      "metadata": {
        "id": "4EUOwFbFPXCy"
      },
      "source": [
        "## Data Preprocessing\n",
        "\n",
        "* Loading the same Tokenizer that was used with the pretrained model.\n",
        "* Define function to tokenize the text (with truncation to max input length of model.\n",
        "* Run the tokenization"
      ]
    },
    {
      "cell_type": "code",
      "execution_count": 160,
      "metadata": {
        "id": "u7AJ7SGjPaZ0",
        "colab": {
          "base_uri": "https://localhost:8080/"
        },
        "outputId": "109e3661-62b0-4077-b730-c5d3bf919db2"
      },
      "outputs": [
        {
          "output_type": "stream",
          "name": "stderr",
          "text": [
            "Loading cached processed dataset at /root/.cache/huggingface/datasets/gnad10/default/1.1.0/3a8445be65795ad88270af4d797034c3d99f70f8352ca658c586faf1cf960881/cache-5d66d7a004b32c63.arrow\n",
            "Loading cached processed dataset at /root/.cache/huggingface/datasets/gnad10/default/1.1.0/3a8445be65795ad88270af4d797034c3d99f70f8352ca658c586faf1cf960881/cache-1e7aaca04dbb52e2.arrow\n"
          ]
        }
      ],
      "source": [
        "from transformers import AutoTokenizer\n",
        "\n",
        "tokenizer = AutoTokenizer.from_pretrained(checkpoint)\n",
        "\n",
        "def preprocess_function(examples):\n",
        "    return tokenizer(examples[\"text\"], truncation=True)\n",
        "\n",
        "tokenized_data = data.map(preprocess_function, batched=True).remove_columns(\"text\")"
      ]
    },
    {
      "cell_type": "markdown",
      "metadata": {
        "id": "kdmFxnHlSV6x"
      },
      "source": [
        "### Use Dynamic Padding\n",
        "\n",
        "Apply panding only on longest text in batch - this is more efficient than applying padding on the whole dataset."
      ]
    },
    {
      "cell_type": "code",
      "execution_count": 161,
      "metadata": {
        "id": "DhEWeeg2SVCe"
      },
      "outputs": [],
      "source": [
        "from transformers import DataCollatorWithPadding\n",
        "\n",
        "data_collator = DataCollatorWithPadding(tokenizer=tokenizer)"
      ]
    },
    {
      "cell_type": "markdown",
      "metadata": {
        "id": "Eqe_fA8muv5T"
      },
      "source": [
        "## Model Setup\n",
        "\n",
        "We want to include the label names and save them together with the model.\n",
        "The only way to do this is to create a Config and put them in. "
      ]
    },
    {
      "cell_type": "code",
      "execution_count": 162,
      "metadata": {
        "id": "kHPXNqxCgyxQ"
      },
      "outputs": [],
      "source": [
        "from transformers import AutoConfig, AutoModelForSequenceClassification\n",
        "\n",
        "def model_init():\n",
        "    \"\"\"A function that instantiates the model to be used.\"\"\"\n",
        "\n",
        "    config = AutoConfig.from_pretrained(\n",
        "        checkpoint,\n",
        "        num_labels=len(label_names),\n",
        "        id2label={i: label for i, label in enumerate(label_names)},\n",
        "        label2id={label: i for i, label in enumerate(label_names)},\n",
        "        )\n",
        "\n",
        "    return AutoModelForSequenceClassification.from_pretrained(checkpoint, config=config)"
      ]
    },
    {
      "cell_type": "code",
      "source": [
        "from transformers.utils.notebook import NotebookProgressCallback, NotebookProgressBar\n",
        "\n",
        "# https://github.com/huggingface/transformers/blob/05fa1a7ac17bb7aa07b9e0c1e138ecb31a28bbfe/src/transformers/trainer_callback.py#L160\n",
        "\n",
        "class NoTableProgressCallback(NotebookProgressCallback):\n",
        "    \"\"\"Progress Callback that does not print log values in a table\"\"\"\n",
        "\n",
        "    class NoTableProgressBar(NotebookProgressBar):\n",
        "        def __init__(self, total: int):\n",
        "            super().__init__(total)\n",
        "        def write_line(self, values):\n",
        "            pass  # don't add values to table\n",
        "\n",
        "    def on_train_begin(self, args, state, control, **kwargs):\n",
        "        super().on_train_begin(args, state, control, **kwargs)\n",
        "        self.training_tracker = self.NoTableProgressBar(state.max_steps)"
      ],
      "metadata": {
        "id": "uJ6lq9iTdf4I"
      },
      "execution_count": 163,
      "outputs": []
    },
    {
      "cell_type": "markdown",
      "source": [
        "## Find best Learning Rate"
      ],
      "metadata": {
        "id": "98odDV_2G4Jn"
      }
    },
    {
      "cell_type": "code",
      "source": [
        "import pandas as pd\n",
        "import numpy as np\n",
        "import matplotlib.pyplot as plt\n",
        "\n",
        "from transformers import Trainer, TrainingArguments\n",
        "from transformers.optimization import AdamW\n",
        "from torch.optim.lr_scheduler import ExponentialLR\n",
        "\n",
        "bs = 16\n",
        "steps = 100\n",
        "min_lr = 1e-7\n",
        "max_lr = 1e-2\n",
        "lr_mult = (max_lr / min_lr) ** (1 / steps)\n",
        "\n",
        "model = model_init()\n",
        "optimizer = AdamW(model.parameters(), lr=min_lr, weight_decay=0.01)\n",
        "lr_scheduler = ExponentialLR(optimizer, lr_mult, last_epoch=-1)\n",
        "\n",
        "# https://github.com/huggingface/transformers/blob/v4.15.0/src/transformers/training_args.py#L73\n",
        "training_args = TrainingArguments(\n",
        "    output_dir=\"/tmp\",\n",
        "    report_to=[],\n",
        "    log_level=\"error\",\n",
        "    disable_tqdm=False,\n",
        "\n",
        "    logging_steps=1,  # log loss in every step\n",
        "\n",
        "    # hyperparameters\n",
        "    max_steps=steps,\n",
        "    per_device_train_batch_size=bs,\n",
        "    warmup_ratio=0.2,\n",
        "    # weight_decay=weight_decay,\n",
        ")\n",
        "\n",
        "# https://github.com/huggingface/transformers/blob/master/src/transformers/trainer.py\n",
        "trainer = Trainer(\n",
        "    model=model,\n",
        "    args=training_args,\n",
        "    train_dataset=tokenized_data[\"train\"],\n",
        "    # eval_dataset=tokenized_data[\"test\"],\n",
        "    tokenizer=tokenizer,\n",
        "    data_collator=data_collator,\n",
        "    optimizers=(optimizer, lr_scheduler)\n",
        ")\n",
        "\n",
        "# replace default notebook callback\n",
        "trainer.remove_callback(NotebookProgressCallback)\n",
        "trainer.add_callback(NoTableProgressCallback)\n",
        "\n",
        "trainer.train();"
      ],
      "metadata": {
        "colab": {
          "base_uri": "https://localhost:8080/",
          "height": 37
        },
        "id": "1URd8ga1JiwU",
        "outputId": "edbdb6d3-4a7e-4857-dab2-030e59a33fa9"
      },
      "execution_count": 164,
      "outputs": [
        {
          "output_type": "display_data",
          "data": {
            "text/html": [
              "\n",
              "    <div>\n",
              "      \n",
              "      <progress value='100' max='100' style='width:300px; height:20px; vertical-align: middle;'></progress>\n",
              "      [100/100 00:45, Epoch 0/1]\n",
              "    </div>\n",
              "    "
            ],
            "text/plain": [
              "<IPython.core.display.HTML object>"
            ]
          },
          "metadata": {}
        }
      ]
    },
    {
      "cell_type": "code",
      "source": [
        "loss_s = pd.DataFrame(trainer.state.log_history[:-1]).set_index(\"learning_rate\").loss\n",
        "\n",
        "loss_s.plot()\n",
        "plt.xscale(\"log\")\n",
        "plt.ylim([None,loss_s.iloc[0]*1.5]);"
      ],
      "metadata": {
        "id": "-cGeqik_PoUg",
        "colab": {
          "base_uri": "https://localhost:8080/",
          "height": 284
        },
        "outputId": "be8b634b-b2e3-48f8-e6e0-565076b4e184"
      },
      "execution_count": 165,
      "outputs": [
        {
          "output_type": "display_data",
          "data": {
            "image/png": "[encoded data removed]",
            "text/plain": [
              "<Figure size 432x288 with 1 Axes>"
            ]
          },
          "metadata": {
            "needs_background": "light"
          }
        }
      ]
    },
    {
      "cell_type": "code",
      "source": [
        "# from fastai - https://sgugger.github.io/how-do-you-find-a-good-learning-rate.html#how-do-you-find-a-good-learning-rate\n",
        "\n",
        "beta = 0.98\n",
        "avg_loss = 0.0\n",
        "smoothed = []\n",
        "\n",
        "for i, loss in enumerate(loss_s):\n",
        "    i+=1\n",
        "    avg_loss = beta * avg_loss + (1-beta) * loss\n",
        "    smoothed_loss = avg_loss / (1 - beta**i)\n",
        "    smoothed.append(smoothed_loss)\n",
        "\n",
        "smoothed_s = pd.Series(smoothed, index=loss_s.index)\n",
        "\n",
        "start=10  # ignore start\n",
        "min_grad = np.gradient(smoothed)[start:].argmin() + start\n",
        "min_grad"
      ],
      "metadata": {
        "id": "LKMTNqP1ThLp",
        "colab": {
          "base_uri": "https://localhost:8080/"
        },
        "outputId": "a871750d-3ce2-4343-90dd-be9c86ac724b"
      },
      "execution_count": 166,
      "outputs": [
        {
          "output_type": "execute_result",
          "data": {
            "text/plain": [
              "73"
            ]
          },
          "metadata": {},
          "execution_count": 166
        }
      ]
    },
    {
      "cell_type": "code",
      "source": [
        "pd.Series(np.gradient(smoothed), index=loss_s.index).plot()\n",
        "plt.xscale(\"log\")"
      ],
      "metadata": {
        "colab": {
          "base_uri": "https://localhost:8080/",
          "height": 287
        },
        "id": "wiidU5nAhZIH",
        "outputId": "f2d05bf5-8d47-4750-ddb2-29648d10abf5"
      },
      "execution_count": 167,
      "outputs": [
        {
          "output_type": "display_data",
          "data": {
            "image/png": "[encoded data removed]",
            "text/plain": [
              "<Figure size 432x288 with 1 Axes>"
            ]
          },
          "metadata": {
            "needs_background": "light"
          }
        }
      ]
    },
    {
      "cell_type": "code",
      "source": [
        "# loss_s.plot(label=\"loss\")\n",
        "smoothed_s.plot(label=\"smoothed\")\n",
        "plt.plot(smoothed_s.index[min_grad], smoothed_s.iloc[min_grad], markersize=10, marker=\"o\", color=\"red\")\n",
        "plt.xscale(\"log\")\n",
        "plt.legend()\n",
        "plt.title(f\"Suggested LR: {smoothed_s.index[min_grad]:.2e}\");\n",
        "# plt.ylim([None,loss_s.iloc[0]*1.5]);"
      ],
      "metadata": {
        "colab": {
          "base_uri": "https://localhost:8080/",
          "height": 300
        },
        "id": "itMxHjxugKX2",
        "outputId": "af310be3-074b-4ff4-cab4-986dec6d233c"
      },
      "execution_count": 168,
      "outputs": [
        {
          "output_type": "display_data",
          "data": {
            "image/png": "[encoded data removed]",
            "text/plain": [
              "<Figure size 432x288 with 1 Axes>"
            ]
          },
          "metadata": {
            "needs_background": "light"
          }
        }
      ]
    }
  ],
  "metadata": {
    "accelerator": "GPU",
    "colab": {
      "collapsed_sections": [],
      "name": "21e_10kGNAD_huggingface_lr_find.ipynb",
      "provenance": [],
      "authorship_tag": "ABX9TyMp2/0IFwiyM4Ivh4dnHKlg",
      "include_colab_link": true
    },
    "kernelspec": {
      "display_name": "Python 3",
      "name": "python3"
    },
    "language_info": {
      "name": "python"
    },
    "widgets": {
      "application/vnd.jupyter.widget-state+json": {
        "9e1053da7998461690772894241e5230": {
          "model_module": "@jupyter-widgets/controls",
          "model_name": "HBoxModel",
          "model_module_version": "1.5.0",
          "state": {
            "_view_name": "HBoxView",
            "_dom_classes": [],
            "_model_name": "HBoxModel",
            "_view_module": "@jupyter-widgets/controls",
            "_model_module_version": "1.5.0",
            "_view_count": null,
            "_view_module_version": "1.5.0",
            "box_style": "",
            "layout": "IPY_MODEL_dd6d1a710ade4b3ca772555c51f6c81c",
            "_model_module": "@jupyter-widgets/controls",
            "children": [
              "IPY_MODEL_010adcf8cb9844849a07bc9a435dd867",
              "IPY_MODEL_f61bfd18abed43a38d35f03b750f1a38",
              "IPY_MODEL_86d35cea2ec1483982ebdbea7f376ddd"
            ]
          }
        },
        "dd6d1a710ade4b3ca772555c51f6c81c": {
          "model_module": "@jupyter-widgets/base",
          "model_name": "LayoutModel",
          "model_module_version": "1.2.0",
          "state": {
            "_view_name": "LayoutView",
            "grid_template_rows": null,
            "right": null,
            "justify_content": null,
            "_view_module": "@jupyter-widgets/base",
            "overflow": null,
            "_model_module_version": "1.2.0",
            "_view_count": null,
            "flex_flow": null,
            "width": null,
            "min_width": null,
            "border": null,
            "align_items": null,
            "bottom": null,
            "_model_module": "@jupyter-widgets/base",
            "top": null,
            "grid_column": null,
            "overflow_y": null,
            "overflow_x": null,
            "grid_auto_flow": null,
            "grid_area": null,
            "grid_template_columns": null,
            "flex": null,
            "_model_name": "LayoutModel",
            "justify_items": null,
            "grid_row": null,
            "max_height": null,
            "align_content": null,
            "visibility": null,
            "align_self": null,
            "height": null,
            "min_height": null,
            "padding": null,
            "grid_auto_rows": null,
            "grid_gap": null,
            "max_width": null,
            "order": null,
            "_view_module_version": "1.2.0",
            "grid_template_areas": null,
            "object_position": null,
            "object_fit": null,
            "grid_auto_columns": null,
            "margin": null,
            "display": null,
            "left": null
          }
        },
        "010adcf8cb9844849a07bc9a435dd867": {
          "model_module": "@jupyter-widgets/controls",
          "model_name": "HTMLModel",
          "model_module_version": "1.5.0",
          "state": {
            "_view_name": "HTMLView",
            "style": "IPY_MODEL_a62bc54cf0864e3eb6c4032f7cc5aaed",
            "_dom_classes": [],
            "description": "",
            "_model_name": "HTMLModel",
            "placeholder": "​",
            "_view_module": "@jupyter-widgets/controls",
            "_model_module_version": "1.5.0",
            "value": "100%",
            "_view_count": null,
            "_view_module_version": "1.5.0",
            "description_tooltip": null,
            "_model_module": "@jupyter-widgets/controls",
            "layout": "IPY_MODEL_22165007b1294f679148bc847d861722"
          }
        },
        "f61bfd18abed43a38d35f03b750f1a38": {
          "model_module": "@jupyter-widgets/controls",
          "model_name": "FloatProgressModel",
          "model_module_version": "1.5.0",
          "state": {
            "_view_name": "ProgressView",
            "style": "IPY_MODEL_6837dbfe1d3e4330b9dfcb26b3c0066d",
            "_dom_classes": [],
            "description": "",
            "_model_name": "FloatProgressModel",
            "bar_style": "success",
            "max": 2,
            "_view_module": "@jupyter-widgets/controls",
            "_model_module_version": "1.5.0",
            "value": 2,
            "_view_count": null,
            "_view_module_version": "1.5.0",
            "orientation": "horizontal",
            "min": 0,
            "description_tooltip": null,
            "_model_module": "@jupyter-widgets/controls",
            "layout": "IPY_MODEL_eba7587238d64a73ad242fd9f4d41064"
          }
        },
        "86d35cea2ec1483982ebdbea7f376ddd": {
          "model_module": "@jupyter-widgets/controls",
          "model_name": "HTMLModel",
          "model_module_version": "1.5.0",
          "state": {
            "_view_name": "HTMLView",
            "style": "IPY_MODEL_a83d72a118b94721bfd3d20eaa890735",
            "_dom_classes": [],
            "description": "",
            "_model_name": "HTMLModel",
            "placeholder": "​",
            "_view_module": "@jupyter-widgets/controls",
            "_model_module_version": "1.5.0",
            "value": " 2/2 [00:00&lt;00:00, 38.64it/s]",
            "_view_count": null,
            "_view_module_version": "1.5.0",
            "description_tooltip": null,
            "_model_module": "@jupyter-widgets/controls",
            "layout": "IPY_MODEL_97a23e3785fd40ccaee1015bdb4ffc09"
          }
        },
        "a62bc54cf0864e3eb6c4032f7cc5aaed": {
          "model_module": "@jupyter-widgets/controls",
          "model_name": "DescriptionStyleModel",
          "model_module_version": "1.5.0",
          "state": {
            "_view_name": "StyleView",
            "_model_name": "DescriptionStyleModel",
            "description_width": "",
            "_view_module": "@jupyter-widgets/base",
            "_model_module_version": "1.5.0",
            "_view_count": null,
            "_view_module_version": "1.2.0",
            "_model_module": "@jupyter-widgets/controls"
          }
        },
        "22165007b1294f679148bc847d861722": {
          "model_module": "@jupyter-widgets/base",
          "model_name": "LayoutModel",
          "model_module_version": "1.2.0",
          "state": {
            "_view_name": "LayoutView",
            "grid_template_rows": null,
            "right": null,
            "justify_content": null,
            "_view_module": "@jupyter-widgets/base",
            "overflow": null,
            "_model_module_version": "1.2.0",
            "_view_count": null,
            "flex_flow": null,
            "width": null,
            "min_width": null,
            "border": null,
            "align_items": null,
            "bottom": null,
            "_model_module": "@jupyter-widgets/base",
            "top": null,
            "grid_column": null,
            "overflow_y": null,
            "overflow_x": null,
            "grid_auto_flow": null,
            "grid_area": null,
            "grid_template_columns": null,
            "flex": null,
            "_model_name": "LayoutModel",
            "justify_items": null,
            "grid_row": null,
            "max_height": null,
            "align_content": null,
            "visibility": null,
            "align_self": null,
            "height": null,
            "min_height": null,
            "padding": null,
            "grid_auto_rows": null,
            "grid_gap": null,
            "max_width": null,
            "order": null,
            "_view_module_version": "1.2.0",
            "grid_template_areas": null,
            "object_position": null,
            "object_fit": null,
            "grid_auto_columns": null,
            "margin": null,
            "display": null,
            "left": null
          }
        },
        "6837dbfe1d3e4330b9dfcb26b3c0066d": {
          "model_module": "@jupyter-widgets/controls",
          "model_name": "ProgressStyleModel",
          "model_module_version": "1.5.0",
          "state": {
            "_view_name": "StyleView",
            "_model_name": "ProgressStyleModel",
            "description_width": "",
            "_view_module": "@jupyter-widgets/base",
            "_model_module_version": "1.5.0",
            "_view_count": null,
            "_view_module_version": "1.2.0",
            "bar_color": null,
            "_model_module": "@jupyter-widgets/controls"
          }
        },
        "eba7587238d64a73ad242fd9f4d41064": {
          "model_module": "@jupyter-widgets/base",
          "model_name": "LayoutModel",
          "model_module_version": "1.2.0",
          "state": {
            "_view_name": "LayoutView",
            "grid_template_rows": null,
            "right": null,
            "justify_content": null,
            "_view_module": "@jupyter-widgets/base",
            "overflow": null,
            "_model_module_version": "1.2.0",
            "_view_count": null,
            "flex_flow": null,
            "width": null,
            "min_width": null,
            "border": null,
            "align_items": null,
            "bottom": null,
            "_model_module": "@jupyter-widgets/base",
            "top": null,
            "grid_column": null,
            "overflow_y": null,
            "overflow_x": null,
            "grid_auto_flow": null,
            "grid_area": null,
            "grid_template_columns": null,
            "flex": null,
            "_model_name": "LayoutModel",
            "justify_items": null,
            "grid_row": null,
            "max_height": null,
            "align_content": null,
            "visibility": null,
            "align_self": null,
            "height": null,
            "min_height": null,
            "padding": null,
            "grid_auto_rows": null,
            "grid_gap": null,
            "max_width": null,
            "order": null,
            "_view_module_version": "1.2.0",
            "grid_template_areas": null,
            "object_position": null,
            "object_fit": null,
            "grid_auto_columns": null,
            "margin": null,
            "display": null,
            "left": null
          }
        },
        "a83d72a118b94721bfd3d20eaa890735": {
          "model_module": "@jupyter-widgets/controls",
          "model_name": "DescriptionStyleModel",
          "model_module_version": "1.5.0",
          "state": {
            "_view_name": "StyleView",
            "_model_name": "DescriptionStyleModel",
            "description_width": "",
            "_view_module": "@jupyter-widgets/base",
            "_model_module_version": "1.5.0",
            "_view_count": null,
            "_view_module_version": "1.2.0",
            "_model_module": "@jupyter-widgets/controls"
          }
        },
        "97a23e3785fd40ccaee1015bdb4ffc09": {
          "model_module": "@jupyter-widgets/base",
          "model_name": "LayoutModel",
          "model_module_version": "1.2.0",
          "state": {
            "_view_name": "LayoutView",
            "grid_template_rows": null,
            "right": null,
            "justify_content": null,
            "_view_module": "@jupyter-widgets/base",
            "overflow": null,
            "_model_module_version": "1.2.0",
            "_view_count": null,
            "flex_flow": null,
            "width": null,
            "min_width": null,
            "border": null,
            "align_items": null,
            "bottom": null,
            "_model_module": "@jupyter-widgets/base",
            "top": null,
            "grid_column": null,
            "overflow_y": null,
            "overflow_x": null,
            "grid_auto_flow": null,
            "grid_area": null,
            "grid_template_columns": null,
            "flex": null,
            "_model_name": "LayoutModel",
            "justify_items": null,
            "grid_row": null,
            "max_height": null,
            "align_content": null,
            "visibility": null,
            "align_self": null,
            "height": null,
            "min_height": null,
            "padding": null,
            "grid_auto_rows": null,
            "grid_gap": null,
            "max_width": null,
            "order": null,
            "_view_module_version": "1.2.0",
            "grid_template_areas": null,
            "object_position": null,
            "object_fit": null,
            "grid_auto_columns": null,
            "margin": null,
            "display": null,
            "left": null
          }
        }
      }
    }
  },
  "nbformat": 4,
  "nbformat_minor": 0
}