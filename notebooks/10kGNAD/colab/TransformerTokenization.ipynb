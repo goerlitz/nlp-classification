{
  "nbformat": 4,
  "nbformat_minor": 0,
  "metadata": {
    "colab": {
      "name": "TransformerTokenization.ipynb",
      "provenance": [],
      "collapsed_sections": [],
      "authorship_tag": "ABX9TyNjpJVckQbgXemCTOIiMm6A",
      "include_colab_link": true
    },
    "kernelspec": {
      "name": "python3",
      "display_name": "Python 3"
    },
    "language_info": {
      "name": "python"
    }
  },
  "cells": [
    {
      "cell_type": "markdown",
      "metadata": {
        "id": "view-in-github",
        "colab_type": "text"
      },
      "source": [
        "<a href=\"https://colab.research.google.com/github/goerlitz/nlp-classification/blob/main/notebooks/10kGNAD/colab/TransformerTokenization.ipynb\" target=\"_parent\"><img src=\"https://colab.research.google.com/assets/colab-badge.svg\" alt=\"Open In Colab\"/></a>"
      ]
    },
    {
      "cell_type": "markdown",
      "metadata": {
        "id": "5nMw28qLbSen"
      },
      "source": [
        "# Testing Tokenization used by different Transformer Models"
      ]
    },
    {
      "cell_type": "code",
      "metadata": {
        "colab": {
          "base_uri": "https://localhost:8080/"
        },
        "id": "JbJ91NGVaZ3w",
        "outputId": "b6c0e589-8c79-477a-9e80-6dc96ee70a40"
      },
      "source": [
        "!pip install -q transformers > /dev/null\n",
        "\n",
        "# check installed version\n",
        "!pip freeze | grep transformers\n",
        "# transformers==4.6.0"
      ],
      "execution_count": 11,
      "outputs": [
        {
          "output_type": "stream",
          "text": [
            "transformers==4.6.0\n"
          ],
          "name": "stdout"
        }
      ]
    },
    {
      "cell_type": "markdown",
      "metadata": {
        "id": "NU6tEerLbRE5"
      },
      "source": [
        "## Download Data\n",
        "\n",
        "Using [10k German News Articles Dataset](notebooks/10kGNAD/README.md)"
      ]
    },
    {
      "cell_type": "code",
      "metadata": {
        "colab": {
          "base_uri": "https://localhost:8080/"
        },
        "id": "asQ4ll1TbT7W",
        "outputId": "923f284a-99ce-452c-9081-5d8231e97c8a"
      },
      "source": [
        "%env DIR=data\n",
        "\n",
        "!mkdir -p $DIR\n",
        "!wget -nc https://github.com/tblock/10kGNAD/blob/master/train.csv?raw=true -nv -O $DIR/train.csv\n",
        "!wget -nc https://github.com/tblock/10kGNAD/blob/master/test.csv?raw=true -nv -O $DIR/test.csv\n",
        "!ls -lAh $DIR | cut -d \" \" -f 5-"
      ],
      "execution_count": 12,
      "outputs": [
        {
          "output_type": "stream",
          "text": [
            "env: DIR=data\n",
            "\n",
            "2.7M May 15 12:18 test.csv\n",
            " 24M May 15 12:18 train.csv\n"
          ],
          "name": "stdout"
        }
      ]
    },
    {
      "cell_type": "markdown",
      "metadata": {
        "id": "XuLSIj9NkXAG"
      },
      "source": [
        "## Import Data"
      ]
    },
    {
      "cell_type": "code",
      "metadata": {
        "id": "5PcyU62cZGhH"
      },
      "source": [
        "import pandas as pd\n",
        "import matplotlib.pyplot as plt\n",
        "from pathlib import Path"
      ],
      "execution_count": 13,
      "outputs": []
    },
    {
      "cell_type": "code",
      "metadata": {
        "id": "fL2RFkuaaQug"
      },
      "source": [
        "data_dir = Path(\"data/\")\n",
        "\n",
        "train_file = data_dir / 'train.csv'\n",
        "test_file = data_dir / 'test.csv'"
      ],
      "execution_count": 14,
      "outputs": []
    },
    {
      "cell_type": "code",
      "metadata": {
        "id": "T8uT0utXQitf"
      },
      "source": [
        "def load_file(filepath: Path) -> pd.DataFrame:\n",
        "    f = pd.read_csv(filepath, sep=\";\", quotechar=\"'\", names=['labels', 'text'])\n",
        "    return f"
      ],
      "execution_count": 15,
      "outputs": []
    },
    {
      "cell_type": "code",
      "metadata": {
        "colab": {
          "base_uri": "https://localhost:8080/",
          "height": 224
        },
        "id": "pFMweinxRnAT",
        "outputId": "ee254f11-0571-4378-c5a4-bddf086c48b9"
      },
      "source": [
        "train_df = load_file(data_dir / 'train.csv')\n",
        "print(train_df.shape[0], 'articles')\n",
        "display(train_df.head())"
      ],
      "execution_count": 16,
      "outputs": [
        {
          "output_type": "stream",
          "text": [
            "9245 articles\n"
          ],
          "name": "stdout"
        },
        {
          "output_type": "display_data",
          "data": {
            "text/html": [
              "<div>\n",
              "<style scoped>\n",
              "    .dataframe tbody tr th:only-of-type {\n",
              "        vertical-align: middle;\n",
              "    }\n",
              "\n",
              "    .dataframe tbody tr th {\n",
              "        vertical-align: top;\n",
              "    }\n",
              "\n",
              "    .dataframe thead th {\n",
              "        text-align: right;\n",
              "    }\n",
              "</style>\n",
              "<table border=\"1\" class=\"dataframe\">\n",
              "  <thead>\n",
              "    <tr style=\"text-align: right;\">\n",
              "      <th></th>\n",
              "      <th>labels</th>\n",
              "      <th>text</th>\n",
              "    </tr>\n",
              "  </thead>\n",
              "  <tbody>\n",
              "    <tr>\n",
              "      <th>0</th>\n",
              "      <td>Sport</td>\n",
              "      <td>21-Jähriger fällt wohl bis Saisonende aus. Wie...</td>\n",
              "    </tr>\n",
              "    <tr>\n",
              "      <th>1</th>\n",
              "      <td>Kultur</td>\n",
              "      <td>Erfundene Bilder zu Filmen, die als verloren g...</td>\n",
              "    </tr>\n",
              "    <tr>\n",
              "      <th>2</th>\n",
              "      <td>Web</td>\n",
              "      <td>Der frischgekürte CEO Sundar Pichai setzt auf ...</td>\n",
              "    </tr>\n",
              "    <tr>\n",
              "      <th>3</th>\n",
              "      <td>Wirtschaft</td>\n",
              "      <td>Putin: \"Einigung, dass wir Menge auf Niveau vo...</td>\n",
              "    </tr>\n",
              "    <tr>\n",
              "      <th>4</th>\n",
              "      <td>Inland</td>\n",
              "      <td>Estland sieht den künftigen österreichischen P...</td>\n",
              "    </tr>\n",
              "  </tbody>\n",
              "</table>\n",
              "</div>"
            ],
            "text/plain": [
              "       labels                                               text\n",
              "0       Sport  21-Jähriger fällt wohl bis Saisonende aus. Wie...\n",
              "1      Kultur  Erfundene Bilder zu Filmen, die als verloren g...\n",
              "2         Web  Der frischgekürte CEO Sundar Pichai setzt auf ...\n",
              "3  Wirtschaft  Putin: \"Einigung, dass wir Menge auf Niveau vo...\n",
              "4      Inland  Estland sieht den künftigen österreichischen P..."
            ]
          },
          "metadata": {
            "tags": []
          }
        }
      ]
    },
    {
      "cell_type": "markdown",
      "metadata": {
        "id": "bMccVifNbXoY"
      },
      "source": [
        "## Create Model"
      ]
    },
    {
      "cell_type": "code",
      "metadata": {
        "id": "hr0u5fMeZ1EE"
      },
      "source": [
        "from transformers import AutoTokenizer, AutoModel\n",
        "\n",
        "import warnings\n",
        "warnings.simplefilter('ignore')"
      ],
      "execution_count": 17,
      "outputs": []
    },
    {
      "cell_type": "code",
      "metadata": {
        "colab": {
          "base_uri": "https://localhost:8080/"
        },
        "id": "Y0V4tuWne9sx",
        "outputId": "5880fc95-c300-4d06-afe2-da76a943ebaf"
      },
      "source": [
        "%%time\n",
        "models = [\n",
        "          \"bert-base-german-cased\",\n",
        "          \"distilbert-base-german-cased\",\n",
        "          \"dbmdz/bert-base-german-cased\",\n",
        "          \"dbmdz/bert-base-german-uncased\",\n",
        "          \"dbmdz/bert-base-german-europeana-cased\",\n",
        "          \"dbmdz/bert-base-german-europeana-uncased\",\n",
        "          \"dbmdz/distilbert-base-german-europeana-cased\",\n",
        "          \"deepset/gbert-base\",\n",
        "          \"deepset/gbert-large\",\n",
        "          \"deepset/gelectra-base\",\n",
        "          \"deepset/gelectra-large\",\n",
        "          \"german-nlp-group/electra-base-german-uncased\",\n",
        "          \"bert-base-multilingual-cased\",\n",
        "          \"distilbert-base-multilingual-cased\",\n",
        "]\n",
        "\n",
        "text = train_df.text[0]\n",
        "results = {}\n",
        "\n",
        "for model_name in models:\n",
        "    print(f\"loading tokenizer for {model_name}\")\n",
        "    tokenizer = AutoTokenizer.from_pretrained(model_name)\n",
        "    # model = AutoModel.from_pretrained(model_name)\n",
        "\n",
        "    tokens = \"|\".join(tokenizer.tokenize(text))\n",
        "    results[model_name] = tokens"
      ],
      "execution_count": 18,
      "outputs": [
        {
          "output_type": "stream",
          "text": [
            "loading tokenizer for bert-base-german-cased\n",
            "loading tokenizer for distilbert-base-german-cased\n",
            "loading tokenizer for dbmdz/bert-base-german-cased\n",
            "loading tokenizer for dbmdz/bert-base-german-uncased\n",
            "loading tokenizer for dbmdz/bert-base-german-europeana-cased\n",
            "loading tokenizer for dbmdz/bert-base-german-europeana-uncased\n",
            "loading tokenizer for dbmdz/distilbert-base-german-europeana-cased\n",
            "loading tokenizer for deepset/gbert-base\n",
            "loading tokenizer for deepset/gbert-large\n",
            "loading tokenizer for deepset/gelectra-base\n",
            "loading tokenizer for deepset/gelectra-large\n",
            "loading tokenizer for german-nlp-group/electra-base-german-uncased\n",
            "loading tokenizer for bert-base-multilingual-cased\n",
            "loading tokenizer for distilbert-base-multilingual-cased\n",
            "CPU times: user 1.74 s, sys: 126 ms, total: 1.87 s\n",
            "Wall time: 18.8 s\n"
          ],
          "name": "stdout"
        }
      ]
    },
    {
      "cell_type": "code",
      "metadata": {
        "colab": {
          "base_uri": "https://localhost:8080/"
        },
        "id": "lsLX1N4Y63Wz",
        "outputId": "d017f2f4-e9fc-4d3d-a037-94d992f95fe0"
      },
      "source": [
        "print(pd.Series(results))"
      ],
      "execution_count": 19,
      "outputs": [
        {
          "output_type": "stream",
          "text": [
            "bert-base-german-cased                          21|-|J|##ähr|##iger|fällt|wohl|bis|Saisonende|...\n",
            "distilbert-base-german-cased                    21|-|Jähr|##iger|fällt|wohl|bis|Saisonende|aus...\n",
            "dbmdz/bert-base-german-cased                    21|-|Jähr|##iger|fällt|wohl|bis|Saisonende|aus...\n",
            "dbmdz/bert-base-german-uncased                  21|-|jahr|##iger|fall|##t|wohl|bis|saisonende|...\n",
            "dbmdz/bert-base-german-europeana-cased          21|-|Jähr|##iger|fällt|wohl|bis|Saison|##ende|...\n",
            "dbmdz/bert-base-german-europeana-uncased        21|-|jahr|##iger|fallt|wohl|bis|saison|##ende|...\n",
            "dbmdz/distilbert-base-german-europeana-cased    21|-|Jähr|##iger|fällt|wohl|bis|Saison|##ende|...\n",
            "deepset/gbert-base                              21|-|Jähr|##iger|fällt|wohl|bis|Saisonende|aus...\n",
            "deepset/gbert-large                             21|-|Jähr|##iger|fällt|wohl|bis|Saisonende|aus...\n",
            "deepset/gelectra-base                           21|-|Jähr|##iger|fällt|wohl|bis|Saisonende|aus...\n",
            "deepset/gelectra-large                          21|-|Jähr|##iger|fällt|wohl|bis|Saisonende|aus...\n",
            "german-nlp-group/electra-base-german-uncased    21|-|jähriger|fällt|wohl|bis|saisonende|aus|.|...\n",
            "bert-base-multilingual-cased                    21|-|J|##ä|##hrig|##er|fällt|wohl|bis|Saisonen...\n",
            "distilbert-base-multilingual-cased              21|-|J|##ä|##hrig|##er|fällt|wohl|bis|Saisonen...\n",
            "dtype: object\n"
          ],
          "name": "stdout"
        }
      ]
    }
  ]
}