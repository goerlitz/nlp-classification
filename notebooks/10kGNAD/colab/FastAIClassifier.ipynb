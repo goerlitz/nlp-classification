{
  "nbformat": 4,
  "nbformat_minor": 0,
  "metadata": {
    "colab": {
      "name": "FastAIClassifier.ipynb",
      "provenance": [],
      "collapsed_sections": [],
      "authorship_tag": "ABX9TyO/MiSrkBNbK2YR2ekfCwQN",
      "include_colab_link": true
    },
    "kernelspec": {
      "name": "python3",
      "display_name": "Python 3"
    },
    "language_info": {
      "name": "python"
    },
    "accelerator": "GPU"
  },
  "cells": [
    {
      "cell_type": "markdown",
      "metadata": {
        "id": "view-in-github",
        "colab_type": "text"
      },
      "source": [
        "<a href=\"https://colab.research.google.com/github/goerlitz/nlp-classification/blob/main/notebooks/10kGNAD/colab/FastAIClassifier.ipynb\" target=\"_parent\"><img src=\"https://colab.research.google.com/assets/colab-badge.svg\" alt=\"Open In Colab\"/></a>"
      ]
    },
    {
      "cell_type": "markdown",
      "metadata": {
        "id": "gwp_XdrRIPmZ"
      },
      "source": [
        "# Classifying News Articles with FastAI ULMFit\n",
        "\n",
        "We will use the 10k German News Articles dataset to classify 9 news topics."
      ]
    },
    {
      "cell_type": "markdown",
      "metadata": {
        "id": "_H9I1VPv-Eef"
      },
      "source": [
        "## Prerequisites"
      ]
    },
    {
      "cell_type": "code",
      "metadata": {
        "colab": {
          "base_uri": "https://localhost:8080/"
        },
        "id": "pKrLgDLk-OWy",
        "outputId": "80007569-7b32-4f2b-e5a3-e0e8340e7020"
      },
      "source": [
        "# check installed version\n",
        "!pip freeze | grep -E \"torch|fastai\""
      ],
      "execution_count": 1,
      "outputs": [
        {
          "output_type": "stream",
          "text": [
            "fastai==1.0.61\n",
            "torch==1.8.1+cu101\n",
            "torchsummary==1.5.1\n",
            "torchtext==0.9.1\n",
            "torchvision==0.9.1+cu101\n"
          ],
          "name": "stdout"
        }
      ]
    },
    {
      "cell_type": "code",
      "metadata": {
        "id": "iTwN6n8395iG"
      },
      "source": [
        "from google.colab import drive\n",
        "from pathlib import Path\n",
        "from fastai.text import *\n",
        "import matplotlib.pyplot as plt\n",
        "import sklearn.metrics as skm\n",
        "\n",
        "plt.rcParams['figure.facecolor'] = 'white'"
      ],
      "execution_count": 2,
      "outputs": []
    },
    {
      "cell_type": "markdown",
      "metadata": {
        "id": "ljrAdsl3-YZZ"
      },
      "source": [
        "### Mount Google Drive\n",
        "\n",
        "We will store all model in Google Drive"
      ]
    },
    {
      "cell_type": "code",
      "metadata": {
        "colab": {
          "base_uri": "https://localhost:8080/"
        },
        "id": "_w3Rl8Rv-SsA",
        "outputId": "bf1ca0cc-3f20-4922-cd00-c68333bccd5a"
      },
      "source": [
        "drive.mount('/content/gdrive')"
      ],
      "execution_count": 3,
      "outputs": [
        {
          "output_type": "stream",
          "text": [
            "Mounted at /content/gdrive\n"
          ],
          "name": "stdout"
        }
      ]
    },
    {
      "cell_type": "markdown",
      "metadata": {
        "id": "Z6ZvY3mp-oRJ"
      },
      "source": [
        "## Download Dataset"
      ]
    },
    {
      "cell_type": "code",
      "metadata": {
        "colab": {
          "base_uri": "https://localhost:8080/"
        },
        "id": "WAV4Gb-T-cAQ",
        "outputId": "738f4899-bcbd-49cc-ca8c-1c3629ae3eb6"
      },
      "source": [
        "!mkdir -p data\n",
        "!wget https://github.com/tblock/10kGNAD/blob/master/train.csv?raw=true -nv -O data/train.csv\n",
        "!wget https://github.com/tblock/10kGNAD/blob/master/test.csv?raw=true -nv -O data/test.csv\n",
        "!ls -lAh data"
      ],
      "execution_count": 4,
      "outputs": [
        {
          "output_type": "stream",
          "text": [
            "2021-04-20 19:32:47 URL:https://raw.githubusercontent.com/tblock/10kGNAD/master/train.csv [24405789/24405789] -> \"data/train.csv\" [1]\n",
            "2021-04-20 19:32:49 URL:https://raw.githubusercontent.com/tblock/10kGNAD/master/test.csv [2755020/2755020] -> \"data/test.csv\" [1]\n",
            "total 26M\n",
            "-rw-r--r-- 1 root root 2.7M Apr 20 19:32 test.csv\n",
            "-rw-r--r-- 1 root root  24M Apr 20 19:32 train.csv\n"
          ],
          "name": "stdout"
        }
      ]
    },
    {
      "cell_type": "markdown",
      "metadata": {
        "id": "-lYY4w8m--GS"
      },
      "source": [
        "## Load Dataset"
      ]
    },
    {
      "cell_type": "code",
      "metadata": {
        "id": "VOzyxVFX-nh7"
      },
      "source": [
        "root_path = Path(\"/content/gdrive/My Drive/Colab Notebooks/nlp-classification/\")\n",
        "\n",
        "model_path = root_path / \"model/\"\n",
        "data_path = Path(\"data/\")\n",
        "\n",
        "train_file = data_path / \"train.csv\"\n",
        "test_file = data_path / \"test.csv\""
      ],
      "execution_count": 5,
      "outputs": []
    },
    {
      "cell_type": "code",
      "metadata": {
        "id": "xgUWlgcu-5Sf"
      },
      "source": [
        "def load_file(filepath: Path, columns: list=[\"labels\", \"text\"]) -> pd.DataFrame:\n",
        "    \"\"\"Load dataset from CVS file.\"\"\"\n",
        "    f = pd.read_csv(filepath, sep=\";\", quotechar=\"'\", names=columns)\n",
        "    return f"
      ],
      "execution_count": 6,
      "outputs": []
    },
    {
      "cell_type": "code",
      "metadata": {
        "colab": {
          "base_uri": "https://localhost:8080/",
          "height": 224
        },
        "id": "7TSawsMP_Dsc",
        "outputId": "61268412-28b7-4994-e3f9-cba919a31018"
      },
      "source": [
        "train_df = load_file(train_file).assign(is_valid=False)\n",
        "valid_df = load_file(test_file).assign(is_valid=True)\n",
        "\n",
        "# combine training and test data\n",
        "text_df = pd.concat([train_df, valid_df], ignore_index=True)\n",
        "\n",
        "print(text_df.shape[0], 'articles')\n",
        "display(text_df.head())"
      ],
      "execution_count": 7,
      "outputs": [
        {
          "output_type": "stream",
          "text": [
            "10273 articles\n"
          ],
          "name": "stdout"
        },
        {
          "output_type": "display_data",
          "data": {
            "text/html": [
              "<div>\n",
              "<style scoped>\n",
              "    .dataframe tbody tr th:only-of-type {\n",
              "        vertical-align: middle;\n",
              "    }\n",
              "\n",
              "    .dataframe tbody tr th {\n",
              "        vertical-align: top;\n",
              "    }\n",
              "\n",
              "    .dataframe thead th {\n",
              "        text-align: right;\n",
              "    }\n",
              "</style>\n",
              "<table border=\"1\" class=\"dataframe\">\n",
              "  <thead>\n",
              "    <tr style=\"text-align: right;\">\n",
              "      <th></th>\n",
              "      <th>labels</th>\n",
              "      <th>text</th>\n",
              "      <th>is_valid</th>\n",
              "    </tr>\n",
              "  </thead>\n",
              "  <tbody>\n",
              "    <tr>\n",
              "      <th>0</th>\n",
              "      <td>Sport</td>\n",
              "      <td>21-Jähriger fällt wohl bis Saisonende aus. Wie...</td>\n",
              "      <td>False</td>\n",
              "    </tr>\n",
              "    <tr>\n",
              "      <th>1</th>\n",
              "      <td>Kultur</td>\n",
              "      <td>Erfundene Bilder zu Filmen, die als verloren g...</td>\n",
              "      <td>False</td>\n",
              "    </tr>\n",
              "    <tr>\n",
              "      <th>2</th>\n",
              "      <td>Web</td>\n",
              "      <td>Der frischgekürte CEO Sundar Pichai setzt auf ...</td>\n",
              "      <td>False</td>\n",
              "    </tr>\n",
              "    <tr>\n",
              "      <th>3</th>\n",
              "      <td>Wirtschaft</td>\n",
              "      <td>Putin: \"Einigung, dass wir Menge auf Niveau vo...</td>\n",
              "      <td>False</td>\n",
              "    </tr>\n",
              "    <tr>\n",
              "      <th>4</th>\n",
              "      <td>Inland</td>\n",
              "      <td>Estland sieht den künftigen österreichischen P...</td>\n",
              "      <td>False</td>\n",
              "    </tr>\n",
              "  </tbody>\n",
              "</table>\n",
              "</div>"
            ],
            "text/plain": [
              "       labels                                               text  is_valid\n",
              "0       Sport  21-Jähriger fällt wohl bis Saisonende aus. Wie...     False\n",
              "1      Kultur  Erfundene Bilder zu Filmen, die als verloren g...     False\n",
              "2         Web  Der frischgekürte CEO Sundar Pichai setzt auf ...     False\n",
              "3  Wirtschaft  Putin: \"Einigung, dass wir Menge auf Niveau vo...     False\n",
              "4      Inland  Estland sieht den künftigen österreichischen P...     False"
            ]
          },
          "metadata": {
            "tags": []
          }
        }
      ]
    },
    {
      "cell_type": "markdown",
      "metadata": {
        "id": "5C6iB-_U_wPG"
      },
      "source": [
        "## Explorative Data Analysis"
      ]
    },
    {
      "cell_type": "code",
      "metadata": {
        "colab": {
          "base_uri": "https://localhost:8080/",
          "height": 281
        },
        "id": "rxqrQ3-y_M_K",
        "outputId": "99a3d209-ce93-4809-a03d-8988e00523a5"
      },
      "source": [
        "text_df.labels.value_counts().plot.barh(title=\"Number of Articles per Topic\", zorder=2)\n",
        "plt.gca().xaxis.grid(True, linestyle='--');"
      ],
      "execution_count": 8,
      "outputs": [
        {
          "output_type": "display_data",
          "data": {
            "image/png": "[encoded data removed]",
            "text/plain": [
              "<Figure size 432x288 with 1 Axes>"
            ]
          },
          "metadata": {
            "tags": []
          }
        }
      ]
    },
    {
      "cell_type": "markdown",
      "metadata": {
        "id": "SOCjnxl6x1pV"
      },
      "source": [
        ""
      ]
    },
    {
      "cell_type": "code",
      "metadata": {
        "colab": {
          "base_uri": "https://localhost:8080/",
          "height": 424
        },
        "id": "bqXphJ-Mx2TO",
        "outputId": "8f028b8c-80d3-4dfd-af25-d9d3f01388da"
      },
      "source": [
        "def truncate_text(df: pd.DataFrame, column: str, max_length: int) -> pd.DataFrame:\n",
        "    # df.pipe(lambda x: x.assign(column = x[column].map(lambda x: x[:max_length])))\n",
        "    df[column] = df[column].map(lambda x: x[:max_length])\n",
        "    return df\n",
        "\n",
        "# truncate_text(train_df, \"text\", 600)"
      ],
      "execution_count": 32,
      "outputs": [
        {
          "output_type": "execute_result",
          "data": {
            "text/html": [
              "<div>\n",
              "<style scoped>\n",
              "    .dataframe tbody tr th:only-of-type {\n",
              "        vertical-align: middle;\n",
              "    }\n",
              "\n",
              "    .dataframe tbody tr th {\n",
              "        vertical-align: top;\n",
              "    }\n",
              "\n",
              "    .dataframe thead th {\n",
              "        text-align: right;\n",
              "    }\n",
              "</style>\n",
              "<table border=\"1\" class=\"dataframe\">\n",
              "  <thead>\n",
              "    <tr style=\"text-align: right;\">\n",
              "      <th></th>\n",
              "      <th>labels</th>\n",
              "      <th>text</th>\n",
              "      <th>is_valid</th>\n",
              "    </tr>\n",
              "  </thead>\n",
              "  <tbody>\n",
              "    <tr>\n",
              "      <th>0</th>\n",
              "      <td>Sport</td>\n",
              "      <td>21-Jährige</td>\n",
              "      <td>False</td>\n",
              "    </tr>\n",
              "    <tr>\n",
              "      <th>1</th>\n",
              "      <td>Kultur</td>\n",
              "      <td>Erfundene</td>\n",
              "      <td>False</td>\n",
              "    </tr>\n",
              "    <tr>\n",
              "      <th>2</th>\n",
              "      <td>Web</td>\n",
              "      <td>Der frisch</td>\n",
              "      <td>False</td>\n",
              "    </tr>\n",
              "    <tr>\n",
              "      <th>3</th>\n",
              "      <td>Wirtschaft</td>\n",
              "      <td>Putin: \"Ei</td>\n",
              "      <td>False</td>\n",
              "    </tr>\n",
              "    <tr>\n",
              "      <th>4</th>\n",
              "      <td>Inland</td>\n",
              "      <td>Estland si</td>\n",
              "      <td>False</td>\n",
              "    </tr>\n",
              "    <tr>\n",
              "      <th>...</th>\n",
              "      <td>...</td>\n",
              "      <td>...</td>\n",
              "      <td>...</td>\n",
              "    </tr>\n",
              "    <tr>\n",
              "      <th>9240</th>\n",
              "      <td>Inland</td>\n",
              "      <td>Bernd Saur</td>\n",
              "      <td>False</td>\n",
              "    </tr>\n",
              "    <tr>\n",
              "      <th>9241</th>\n",
              "      <td>Internatio</td>\n",
              "      <td>Sandhere s</td>\n",
              "      <td>False</td>\n",
              "    </tr>\n",
              "    <tr>\n",
              "      <th>9242</th>\n",
              "      <td>Wirtschaft</td>\n",
              "      <td>Derzeit Ko</td>\n",
              "      <td>False</td>\n",
              "    </tr>\n",
              "    <tr>\n",
              "      <th>9243</th>\n",
              "      <td>Inland</td>\n",
              "      <td>Landeshaup</td>\n",
              "      <td>False</td>\n",
              "    </tr>\n",
              "    <tr>\n",
              "      <th>9244</th>\n",
              "      <td>Panorama</td>\n",
              "      <td>Er ist ein</td>\n",
              "      <td>False</td>\n",
              "    </tr>\n",
              "  </tbody>\n",
              "</table>\n",
              "<p>9245 rows × 3 columns</p>\n",
              "</div>"
            ],
            "text/plain": [
              "          labels        text  is_valid\n",
              "0          Sport  21-Jährige     False\n",
              "1         Kultur  Erfundene      False\n",
              "2            Web  Der frisch     False\n",
              "3     Wirtschaft  Putin: \"Ei     False\n",
              "4         Inland  Estland si     False\n",
              "...          ...         ...       ...\n",
              "9240      Inland  Bernd Saur     False\n",
              "9241  Internatio  Sandhere s     False\n",
              "9242  Wirtschaft  Derzeit Ko     False\n",
              "9243      Inland  Landeshaup     False\n",
              "9244    Panorama  Er ist ein     False\n",
              "\n",
              "[9245 rows x 3 columns]"
            ]
          },
          "metadata": {
            "tags": []
          },
          "execution_count": 32
        }
      ]
    },
    {
      "cell_type": "markdown",
      "metadata": {
        "id": "1hmLr1nWAFkj"
      },
      "source": [
        "## Data Preparation\n",
        "\n",
        "* load pre-trained language model\n",
        "* create labeled databunch with vocabulary from language model"
      ]
    },
    {
      "cell_type": "code",
      "metadata": {
        "id": "Lqwntoc8Afcp"
      },
      "source": [
        "# define batchsize\n",
        "batchsize=32\n",
        "\n",
        "lm_filepath = root_path / \"data\" / \"10kgnad__lm.pkl\"\n",
        "labeled_filepath = root_path / \"data\" / \"10kgnad__clas.pkl\""
      ],
      "execution_count": 9,
      "outputs": []
    },
    {
      "cell_type": "markdown",
      "metadata": {
        "id": "lOsMPTrUBP7p"
      },
      "source": [
        "### Load Language Model Vocabulary"
      ]
    },
    {
      "cell_type": "code",
      "metadata": {
        "colab": {
          "base_uri": "https://localhost:8080/"
        },
        "id": "ql3VxRaG_uta",
        "outputId": "32eaef2a-642a-4f9e-f15b-6d56f025024a"
      },
      "source": [
        "%%time\n",
        "# load the language model vocabulary\n",
        "lm_vocab = load_data(lm_filepath.parent, lm_filepath.name, bs=batchsize).vocab\n",
        "print(f\"{len(lm_vocab.itos):,} words in language model vocabulary\")"
      ],
      "execution_count": 10,
      "outputs": [
        {
          "output_type": "stream",
          "text": [
            "60,000 words in language model vocabulary\n",
            "CPU times: user 313 ms, sys: 173 ms, total: 486 ms\n",
            "Wall time: 3.72 s\n"
          ],
          "name": "stdout"
        }
      ]
    },
    {
      "cell_type": "markdown",
      "metadata": {
        "id": "m6tTP5bnBl69"
      },
      "source": [
        "### Create Labeled Databunch"
      ]
    },
    {
      "cell_type": "code",
      "metadata": {
        "id": "BK9pCokDBEX3"
      },
      "source": [
        "def prepare_databunch_labeled(db_path: Path, df: pd.DataFrame, vocab: Vocab, bs: int) -> DataBunch:\n",
        "    \"\"\"Load or create text databunch for class labeling task.\"\"\"\n",
        "\n",
        "    # check if databunch already exists\n",
        "    if db_path.is_file():\n",
        "        print(\"loading preprocessed text data\")\n",
        "        return load_data(db_path.parent, db_path.name, bs=bs)\n",
        "\n",
        "    else:\n",
        "        print(\"processing text data\")\n",
        "        data_lm = (TextList\n",
        "                   .from_df(df, cols=\"text\", vocab=vocab)\n",
        "                   .split_from_df(col='is_valid')\n",
        "                   .label_from_df(cols=\"labels\")\n",
        "                   .databunch(bs=bs)\n",
        "                   )\n",
        "        data_lm.save(db_path)\n",
        "        return data_lm"
      ],
      "execution_count": 11,
      "outputs": []
    },
    {
      "cell_type": "code",
      "metadata": {
        "colab": {
          "base_uri": "https://localhost:8080/"
        },
        "id": "ge1mEbmnDl1c",
        "outputId": "6641c0cb-ce33-408b-aee4-fc1b916da8ed"
      },
      "source": [
        "%%time\n",
        "data_clas = prepare_databunch_labeled(labeled_filepath, text_df, lm_vocab, batchsize)\n",
        "#data_clas.save(labeled_filepath)\n",
        "\n",
        "print(f\"{len(data_clas.vocab.itos):,} words in vocabulary\")"
      ],
      "execution_count": 12,
      "outputs": [
        {
          "output_type": "stream",
          "text": [
            "loading preprocessed text data\n",
            "60,000 words in vocabulary\n",
            "CPU times: user 2.27 s, sys: 337 ms, total: 2.61 s\n",
            "Wall time: 3.66 s\n"
          ],
          "name": "stdout"
        },
        {
          "output_type": "stream",
          "text": [
            "/usr/local/lib/python3.7/dist-packages/numpy/core/_asarray.py:83: VisibleDeprecationWarning: Creating an ndarray from ragged nested sequences (which is a list-or-tuple of lists-or-tuples-or ndarrays with different lengths or shapes) is deprecated. If you meant to do this, you must specify 'dtype=object' when creating the ndarray\n",
            "  return array(a, dtype, copy=False, order=order)\n",
            "<string>:6: VisibleDeprecationWarning: Creating an ndarray from ragged nested sequences (which is a list-or-tuple of lists-or-tuples-or ndarrays with different lengths or shapes) is deprecated. If you meant to do this, you must specify 'dtype=object' when creating the ndarray\n"
          ],
          "name": "stderr"
        }
      ]
    },
    {
      "cell_type": "code",
      "metadata": {
        "colab": {
          "base_uri": "https://localhost:8080/",
          "height": 285
        },
        "id": "LJ4f47dtEwIB",
        "outputId": "926d2543-c7cb-4020-c61a-be0c3fa1fa18"
      },
      "source": [
        "data_clas.show_batch(3)"
      ],
      "execution_count": 13,
      "outputs": [
        {
          "output_type": "stream",
          "text": [
            "/usr/local/lib/python3.7/dist-packages/numpy/core/_asarray.py:83: VisibleDeprecationWarning: Creating an ndarray from ragged nested sequences (which is a list-or-tuple of lists-or-tuples-or ndarrays with different lengths or shapes) is deprecated. If you meant to do this, you must specify 'dtype=object' when creating the ndarray\n",
            "  return array(a, dtype, copy=False, order=order)\n",
            "<string>:6: VisibleDeprecationWarning: Creating an ndarray from ragged nested sequences (which is a list-or-tuple of lists-or-tuples-or ndarrays with different lengths or shapes) is deprecated. If you meant to do this, you must specify 'dtype=object' when creating the ndarray\n"
          ],
          "name": "stderr"
        },
        {
          "output_type": "display_data",
          "data": {
            "text/html": [
              "<table border=\"1\" class=\"dataframe\">\n",
              "  <thead>\n",
              "    <tr style=\"text-align: right;\">\n",
              "      <th>text</th>\n",
              "      <th>target</th>\n",
              "    </tr>\n",
              "  </thead>\n",
              "  <tbody>\n",
              "    <tr>\n",
              "      <td>xxbos xxmaj neues xxmaj windows wird seit xxmaj mittwoch als xxmaj download an private xxmaj nutzer verteilt . xxmaj da ist es nun also . xxmaj das erste xxmaj windows unter der xxmaj ägide des neuen xxmaj microsoft - xxmaj chefs xxmaj satya xxmaj nadella . xxmaj und sein xxmaj baby namens xxmaj windows 10 soll nicht nur jene xxmaj nutzer zurückgewinnen , die mit dem zu radikal auf xxmaj</td>\n",
              "      <td>Web</td>\n",
              "    </tr>\n",
              "    <tr>\n",
              "      <td>xxbos \" xxmaj wo sind xxmaj sie daheim ? \" xxmaj diese xxmaj frage war schwer zu beantworten . xxmaj david stach mit dem xxmaj zeigefinger auf seine xxmaj brust und sagte : \" i am from xxmaj syria , i am a masseur , now in xxmaj laa - an - der - xxmaj thaya \" – das ging ihm schon ganz gut von den xxmaj lippen . xxmaj</td>\n",
              "      <td>Panorama</td>\n",
              "    </tr>\n",
              "    <tr>\n",
              "      <td>xxbos xxmaj sticht mit xxmaj mut zu ungewöhnlichem xxmaj design und frischen xxmaj xxunk aus der xxmaj masse heraus . xxmaj es passiert nur selten , dass ein neues xxmaj smartphone in der xxmaj redaktion eintrifft , das wirklich aus der xxmaj masse xxunk . xxmaj scheint es doch fast so , als hätten sich die großen xxmaj hersteller mittlerweile allesamt auf eine gemeinsame xxmaj design - xxmaj linie geeinigt</td>\n",
              "      <td>Web</td>\n",
              "    </tr>\n",
              "  </tbody>\n",
              "</table>"
            ],
            "text/plain": [
              "<IPython.core.display.HTML object>"
            ]
          },
          "metadata": {
            "tags": []
          }
        }
      ]
    },
    {
      "cell_type": "markdown",
      "metadata": {
        "id": "MKmqKwikFH-t"
      },
      "source": [
        "## Create Classifier for German Articles"
      ]
    },
    {
      "cell_type": "code",
      "metadata": {
        "id": "cfanmh3xE7HN"
      },
      "source": [
        "!pip install -q wandb > /dev/null"
      ],
      "execution_count": 14,
      "outputs": []
    },
    {
      "cell_type": "code",
      "metadata": {
        "colab": {
          "base_uri": "https://localhost:8080/",
          "height": 156
        },
        "id": "jV4lNYL8FOD4",
        "outputId": "5645702d-bcba-4b8c-b632-1f37e382d63a"
      },
      "source": [
        "import wandb\n",
        "from wandb.fastai import WandbCallback\n",
        "\n",
        "wandb.init(project = \"German Classifier ULMFit\");"
      ],
      "execution_count": 15,
      "outputs": [
        {
          "output_type": "display_data",
          "data": {
            "application/javascript": [
              "\n",
              "        window._wandbApiKey = new Promise((resolve, reject) => {\n",
              "            function loadScript(url) {\n",
              "            return new Promise(function(resolve, reject) {\n",
              "                let newScript = document.createElement(\"script\");\n",
              "                newScript.onerror = reject;\n",
              "                newScript.onload = resolve;\n",
              "                document.body.appendChild(newScript);\n",
              "                newScript.src = url;\n",
              "            });\n",
              "            }\n",
              "            loadScript(\"https://cdn.jsdelivr.net/npm/postmate/build/postmate.min.js\").then(() => {\n",
              "            const iframe = document.createElement('iframe')\n",
              "            iframe.style.cssText = \"width:0;height:0;border:none\"\n",
              "            document.body.appendChild(iframe)\n",
              "            const handshake = new Postmate({\n",
              "                container: iframe,\n",
              "                url: 'https://wandb.ai/authorize'\n",
              "            });\n",
              "            const timeout = setTimeout(() => reject(\"Couldn't auto authenticate\"), 5000)\n",
              "            handshake.then(function(child) {\n",
              "                child.on('authorize', data => {\n",
              "                    clearTimeout(timeout)\n",
              "                    resolve(data)\n",
              "                });\n",
              "            });\n",
              "            })\n",
              "        });\n",
              "    "
            ],
            "text/plain": [
              "<IPython.core.display.Javascript object>"
            ]
          },
          "metadata": {
            "tags": []
          }
        },
        {
          "output_type": "stream",
          "text": [
            "\u001b[34m\u001b[1mwandb\u001b[0m: Appending key for api.wandb.ai to your netrc file: /root/.netrc\n"
          ],
          "name": "stderr"
        },
        {
          "output_type": "display_data",
          "data": {
            "text/html": [
              "\n",
              "                Tracking run with wandb version 0.10.27<br/>\n",
              "                Syncing run <strong style=\"color:#cdcd00\">playful-firebrand-5</strong> to <a href=\"https://wandb.ai\" target=\"_blank\">Weights & Biases</a> <a href=\"https://docs.wandb.com/integrations/jupyter.html\" target=\"_blank\">(Documentation)</a>.<br/>\n",
              "                Project page: <a href=\"https://wandb.ai/goerlitz/German%20Classifier%20ULMFit\" target=\"_blank\">https://wandb.ai/goerlitz/German%20Classifier%20ULMFit</a><br/>\n",
              "                Run page: <a href=\"https://wandb.ai/goerlitz/German%20Classifier%20ULMFit/runs/1o6f3pzg\" target=\"_blank\">https://wandb.ai/goerlitz/German%20Classifier%20ULMFit/runs/1o6f3pzg</a><br/>\n",
              "                Run data is saved locally in <code>/content/wandb/run-20210420_193333-1o6f3pzg</code><br/><br/>\n",
              "            "
            ],
            "text/plain": [
              "<IPython.core.display.HTML object>"
            ]
          },
          "metadata": {
            "tags": []
          }
        }
      ]
    },
    {
      "cell_type": "code",
      "metadata": {
        "id": "X8cPFaAIFY6O"
      },
      "source": [
        "# adapt config for german language model\n",
        "config = awd_lstm_clas_config.copy()\n",
        "config['n_hid'] = 1150"
      ],
      "execution_count": 16,
      "outputs": []
    },
    {
      "cell_type": "code",
      "metadata": {
        "id": "SNrJgh7TF_Bl",
        "colab": {
          "base_uri": "https://localhost:8080/",
          "height": 34
        },
        "outputId": "08b078d2-b08a-471a-a576-c6b3cc1c86b5"
      },
      "source": [
        "from fastai.metrics import accuracy, fbeta, Precision, Recall\n",
        "\n",
        "learn = text_classifier_learner(data_clas,\n",
        "                                AWD_LSTM,\n",
        "                                config=config,\n",
        "                                drop_mult=0.5,\n",
        "                                metrics=[accuracy, Precision('macro'), Recall('macro')],\n",
        "                                callback_fns=WandbCallback\n",
        "                                )\n",
        "\n",
        "lm_enc = '10kgnad_fine_tuned_lm_enc'\n",
        "\n",
        "# file containing encoder of language model\n",
        "lm_encoder_file = model_path / f'{lm_enc}'\n",
        "\n",
        "# TODO: find out why we only need the encoder but not the rest of the model\n",
        "learn.load_encoder(lm_encoder_file);"
      ],
      "execution_count": 17,
      "outputs": [
        {
          "output_type": "stream",
          "text": [
            "Downloading https://s3.amazonaws.com/fast-ai-modelzoo/wt103-fwd.tgz\n"
          ],
          "name": "stdout"
        },
        {
          "output_type": "display_data",
          "data": {
            "text/html": [
              ""
            ],
            "text/plain": [
              "<IPython.core.display.HTML object>"
            ]
          },
          "metadata": {
            "tags": []
          }
        }
      ]
    },
    {
      "cell_type": "markdown",
      "metadata": {
        "id": "vj6930sNInAi"
      },
      "source": [
        "## Train Model: Top Layer"
      ]
    },
    {
      "cell_type": "code",
      "metadata": {
        "colab": {
          "base_uri": "https://localhost:8080/",
          "height": 220
        },
        "id": "iMPC-PwDGrlt",
        "outputId": "bc22b35d-93bb-4334-86d8-13247788e363"
      },
      "source": [
        "learn.lr_find()"
      ],
      "execution_count": 18,
      "outputs": [
        {
          "output_type": "display_data",
          "data": {
            "text/html": [
              "\n",
              "    <div>\n",
              "        <style>\n",
              "            /* Turns off some styling */\n",
              "            progress {\n",
              "                /* gets rid of default border in Firefox and Opera. */\n",
              "                border: none;\n",
              "                /* Needs to be in here for Safari polyfill so background images work as expected. */\n",
              "                background-size: auto;\n",
              "            }\n",
              "            .progress-bar-interrupted, .progress-bar-interrupted::-webkit-progress-bar {\n",
              "                background: #F44336;\n",
              "            }\n",
              "        </style>\n",
              "      <progress value='0' class='' max='1' style='width:300px; height:20px; vertical-align: middle;'></progress>\n",
              "      0.00% [0/1 00:00<00:00]\n",
              "    </div>\n",
              "    \n",
              "<table border=\"1\" class=\"dataframe\">\n",
              "  <thead>\n",
              "    <tr style=\"text-align: left;\">\n",
              "      <th>epoch</th>\n",
              "      <th>train_loss</th>\n",
              "      <th>valid_loss</th>\n",
              "      <th>accuracy</th>\n",
              "      <th>precision</th>\n",
              "      <th>recall</th>\n",
              "      <th>time</th>\n",
              "    </tr>\n",
              "  </thead>\n",
              "  <tbody>\n",
              "  </tbody>\n",
              "</table><p>\n",
              "\n",
              "    <div>\n",
              "        <style>\n",
              "            /* Turns off some styling */\n",
              "            progress {\n",
              "                /* gets rid of default border in Firefox and Opera. */\n",
              "                border: none;\n",
              "                /* Needs to be in here for Safari polyfill so background images work as expected. */\n",
              "                background-size: auto;\n",
              "            }\n",
              "            .progress-bar-interrupted, .progress-bar-interrupted::-webkit-progress-bar {\n",
              "                background: #F44336;\n",
              "            }\n",
              "        </style>\n",
              "      <progress value='94' class='' max='288' style='width:300px; height:20px; vertical-align: middle;'></progress>\n",
              "      32.64% [94/288 01:28<03:03 4.3781]\n",
              "    </div>\n",
              "    "
            ],
            "text/plain": [
              "<IPython.core.display.HTML object>"
            ]
          },
          "metadata": {
            "tags": []
          }
        },
        {
          "output_type": "stream",
          "text": [
            "/usr/local/lib/python3.7/dist-packages/numpy/core/_asarray.py:83: VisibleDeprecationWarning: Creating an ndarray from ragged nested sequences (which is a list-or-tuple of lists-or-tuples-or ndarrays with different lengths or shapes) is deprecated. If you meant to do this, you must specify 'dtype=object' when creating the ndarray\n",
            "  return array(a, dtype, copy=False, order=order)\n",
            "<string>:6: VisibleDeprecationWarning: Creating an ndarray from ragged nested sequences (which is a list-or-tuple of lists-or-tuples-or ndarrays with different lengths or shapes) is deprecated. If you meant to do this, you must specify 'dtype=object' when creating the ndarray\n",
            "/usr/local/lib/python3.7/dist-packages/torch/nn/modules/module.py:760: UserWarning: Using non-full backward hooks on a Module that does not return a single Tensor or a tuple of Tensors is deprecated and will be removed in future versions. This hook will be missing some of the grad_output. Please use register_full_backward_hook to get the documented behavior.\n",
            "  warnings.warn(\"Using non-full backward hooks on a Module that does not return a \"\n"
          ],
          "name": "stderr"
        },
        {
          "output_type": "stream",
          "text": [
            "LR Finder is complete, type {learner_name}.recorder.plot() to see the graph.\n"
          ],
          "name": "stdout"
        }
      ]
    },
    {
      "cell_type": "code",
      "metadata": {
        "id": "TmQD6l3eIlcW",
        "colab": {
          "base_uri": "https://localhost:8080/",
          "height": 279
        },
        "outputId": "f71d4801-51dc-427e-a5e8-1836d2286444"
      },
      "source": [
        "learn.recorder.plot()"
      ],
      "execution_count": 19,
      "outputs": [
        {
          "output_type": "display_data",
          "data": {
            "image/png": "[encoded data removed]",
            "text/plain": [
              "<Figure size 432x288 with 1 Axes>"
            ]
          },
          "metadata": {
            "tags": []
          }
        }
      ]
    },
    {
      "cell_type": "code",
      "metadata": {
        "id": "-K166e2uJha3",
        "colab": {
          "base_uri": "https://localhost:8080/",
          "height": 288
        },
        "outputId": "e8e8fea7-012c-4f37-ec2a-403f023bc229"
      },
      "source": [
        "learn.fit_one_cycle(2, 1e-2, moms=(0.8,0.7))"
      ],
      "execution_count": 20,
      "outputs": [
        {
          "output_type": "display_data",
          "data": {
            "text/html": [
              "<table border=\"1\" class=\"dataframe\">\n",
              "  <thead>\n",
              "    <tr style=\"text-align: left;\">\n",
              "      <th>epoch</th>\n",
              "      <th>train_loss</th>\n",
              "      <th>valid_loss</th>\n",
              "      <th>accuracy</th>\n",
              "      <th>precision</th>\n",
              "      <th>recall</th>\n",
              "      <th>time</th>\n",
              "    </tr>\n",
              "  </thead>\n",
              "  <tbody>\n",
              "    <tr>\n",
              "      <td>0</td>\n",
              "      <td>0.635046</td>\n",
              "      <td>0.505665</td>\n",
              "      <td>0.834630</td>\n",
              "      <td>0.846659</td>\n",
              "      <td>0.824625</td>\n",
              "      <td>06:09</td>\n",
              "    </tr>\n",
              "    <tr>\n",
              "      <td>1</td>\n",
              "      <td>0.560313</td>\n",
              "      <td>0.435434</td>\n",
              "      <td>0.849222</td>\n",
              "      <td>0.854009</td>\n",
              "      <td>0.846143</td>\n",
              "      <td>06:18</td>\n",
              "    </tr>\n",
              "  </tbody>\n",
              "</table>"
            ],
            "text/plain": [
              "<IPython.core.display.HTML object>"
            ]
          },
          "metadata": {
            "tags": []
          }
        },
        {
          "output_type": "stream",
          "text": [
            "/usr/local/lib/python3.7/dist-packages/numpy/core/_asarray.py:83: VisibleDeprecationWarning: Creating an ndarray from ragged nested sequences (which is a list-or-tuple of lists-or-tuples-or ndarrays with different lengths or shapes) is deprecated. If you meant to do this, you must specify 'dtype=object' when creating the ndarray\n",
            "  return array(a, dtype, copy=False, order=order)\n",
            "<string>:6: VisibleDeprecationWarning: Creating an ndarray from ragged nested sequences (which is a list-or-tuple of lists-or-tuples-or ndarrays with different lengths or shapes) is deprecated. If you meant to do this, you must specify 'dtype=object' when creating the ndarray\n"
          ],
          "name": "stderr"
        },
        {
          "output_type": "stream",
          "text": [
            "Better model found at epoch 0 with valid_loss value: 0.5056653022766113.\n"
          ],
          "name": "stdout"
        },
        {
          "output_type": "stream",
          "text": [
            "/usr/local/lib/python3.7/dist-packages/numpy/core/_asarray.py:83: VisibleDeprecationWarning: Creating an ndarray from ragged nested sequences (which is a list-or-tuple of lists-or-tuples-or ndarrays with different lengths or shapes) is deprecated. If you meant to do this, you must specify 'dtype=object' when creating the ndarray\n",
            "  return array(a, dtype, copy=False, order=order)\n",
            "<string>:6: VisibleDeprecationWarning: Creating an ndarray from ragged nested sequences (which is a list-or-tuple of lists-or-tuples-or ndarrays with different lengths or shapes) is deprecated. If you meant to do this, you must specify 'dtype=object' when creating the ndarray\n"
          ],
          "name": "stderr"
        },
        {
          "output_type": "stream",
          "text": [
            "Better model found at epoch 1 with valid_loss value: 0.4354337751865387.\n",
            "Loaded best saved model from /content/wandb/run-20210420_193333-1o6f3pzg/files/bestmodel.pth\n"
          ],
          "name": "stdout"
        }
      ]
    },
    {
      "cell_type": "code",
      "metadata": {
        "id": "qfLMDrgWJkWh",
        "colab": {
          "base_uri": "https://localhost:8080/",
          "height": 279
        },
        "outputId": "38ba1b8e-3eca-4da8-e2d2-681fd727c7f5"
      },
      "source": [
        "learn.recorder.plot_losses()"
      ],
      "execution_count": 21,
      "outputs": [
        {
          "output_type": "display_data",
          "data": {
            "image/png": "[encoded data removed]",
            "text/plain": [
              "<Figure size 432x288 with 1 Axes>"
            ]
          },
          "metadata": {
            "tags": []
          }
        }
      ]
    },
    {
      "cell_type": "code",
      "metadata": {
        "id": "9CuBynn4KE3M"
      },
      "source": [
        "learn.save(model_path / f'10gnad__clas_fit_top')"
      ],
      "execution_count": 33,
      "outputs": []
    },
    {
      "cell_type": "markdown",
      "metadata": {
        "id": "DeoPdoBf0A9w"
      },
      "source": [
        "## Train Model: Unfreeze 2 Layers"
      ]
    },
    {
      "cell_type": "code",
      "metadata": {
        "colab": {
          "base_uri": "https://localhost:8080/",
          "height": 389
        },
        "id": "McwQ5idg0HsP",
        "outputId": "a28d5d5e-315e-4ace-aabe-011ef19cf3c6"
      },
      "source": [
        "learn.freeze_to(-2)\n",
        "learn.fit_one_cycle(3, slice(1e-2/(2.6**4),1e-2), moms=(0.8,0.7))"
      ],
      "execution_count": 34,
      "outputs": [
        {
          "output_type": "display_data",
          "data": {
            "text/html": [
              "<table border=\"1\" class=\"dataframe\">\n",
              "  <thead>\n",
              "    <tr style=\"text-align: left;\">\n",
              "      <th>epoch</th>\n",
              "      <th>train_loss</th>\n",
              "      <th>valid_loss</th>\n",
              "      <th>accuracy</th>\n",
              "      <th>precision</th>\n",
              "      <th>recall</th>\n",
              "      <th>time</th>\n",
              "    </tr>\n",
              "  </thead>\n",
              "  <tbody>\n",
              "    <tr>\n",
              "      <td>0</td>\n",
              "      <td>0.634737</td>\n",
              "      <td>0.518835</td>\n",
              "      <td>0.830739</td>\n",
              "      <td>0.837955</td>\n",
              "      <td>0.829107</td>\n",
              "      <td>06:55</td>\n",
              "    </tr>\n",
              "    <tr>\n",
              "      <td>1</td>\n",
              "      <td>0.520202</td>\n",
              "      <td>0.402464</td>\n",
              "      <td>0.858949</td>\n",
              "      <td>0.867784</td>\n",
              "      <td>0.857017</td>\n",
              "      <td>07:56</td>\n",
              "    </tr>\n",
              "    <tr>\n",
              "      <td>2</td>\n",
              "      <td>0.403506</td>\n",
              "      <td>0.382369</td>\n",
              "      <td>0.867704</td>\n",
              "      <td>0.874938</td>\n",
              "      <td>0.864899</td>\n",
              "      <td>07:11</td>\n",
              "    </tr>\n",
              "  </tbody>\n",
              "</table>"
            ],
            "text/plain": [
              "<IPython.core.display.HTML object>"
            ]
          },
          "metadata": {
            "tags": []
          }
        },
        {
          "output_type": "stream",
          "text": [
            "/usr/local/lib/python3.7/dist-packages/numpy/core/_asarray.py:83: VisibleDeprecationWarning: Creating an ndarray from ragged nested sequences (which is a list-or-tuple of lists-or-tuples-or ndarrays with different lengths or shapes) is deprecated. If you meant to do this, you must specify 'dtype=object' when creating the ndarray\n",
            "  return array(a, dtype, copy=False, order=order)\n",
            "<string>:6: VisibleDeprecationWarning: Creating an ndarray from ragged nested sequences (which is a list-or-tuple of lists-or-tuples-or ndarrays with different lengths or shapes) is deprecated. If you meant to do this, you must specify 'dtype=object' when creating the ndarray\n"
          ],
          "name": "stderr"
        },
        {
          "output_type": "stream",
          "text": [
            "Better model found at epoch 0 with valid_loss value: 0.5188347697257996.\n"
          ],
          "name": "stdout"
        },
        {
          "output_type": "stream",
          "text": [
            "/usr/local/lib/python3.7/dist-packages/numpy/core/_asarray.py:83: VisibleDeprecationWarning: Creating an ndarray from ragged nested sequences (which is a list-or-tuple of lists-or-tuples-or ndarrays with different lengths or shapes) is deprecated. If you meant to do this, you must specify 'dtype=object' when creating the ndarray\n",
            "  return array(a, dtype, copy=False, order=order)\n",
            "<string>:6: VisibleDeprecationWarning: Creating an ndarray from ragged nested sequences (which is a list-or-tuple of lists-or-tuples-or ndarrays with different lengths or shapes) is deprecated. If you meant to do this, you must specify 'dtype=object' when creating the ndarray\n"
          ],
          "name": "stderr"
        },
        {
          "output_type": "stream",
          "text": [
            "Better model found at epoch 1 with valid_loss value: 0.40246421098709106.\n"
          ],
          "name": "stdout"
        },
        {
          "output_type": "stream",
          "text": [
            "/usr/local/lib/python3.7/dist-packages/numpy/core/_asarray.py:83: VisibleDeprecationWarning: Creating an ndarray from ragged nested sequences (which is a list-or-tuple of lists-or-tuples-or ndarrays with different lengths or shapes) is deprecated. If you meant to do this, you must specify 'dtype=object' when creating the ndarray\n",
            "  return array(a, dtype, copy=False, order=order)\n",
            "<string>:6: VisibleDeprecationWarning: Creating an ndarray from ragged nested sequences (which is a list-or-tuple of lists-or-tuples-or ndarrays with different lengths or shapes) is deprecated. If you meant to do this, you must specify 'dtype=object' when creating the ndarray\n"
          ],
          "name": "stderr"
        },
        {
          "output_type": "stream",
          "text": [
            "Better model found at epoch 2 with valid_loss value: 0.3823685348033905.\n",
            "Loaded best saved model from /content/wandb/run-20210420_193333-1o6f3pzg/files/bestmodel.pth\n"
          ],
          "name": "stdout"
        }
      ]
    },
    {
      "cell_type": "code",
      "metadata": {
        "colab": {
          "base_uri": "https://localhost:8080/",
          "height": 279
        },
        "id": "TB0wnZt00Kb9",
        "outputId": "004904e1-0c89-4fb5-acd3-c7475b42f1fa"
      },
      "source": [
        "learn.recorder.plot_losses()"
      ],
      "execution_count": 35,
      "outputs": [
        {
          "output_type": "display_data",
          "data": {
            "image/png": "[encoded data removed]",
            "text/plain": [
              "<Figure size 432x288 with 1 Axes>"
            ]
          },
          "metadata": {
            "tags": []
          }
        }
      ]
    },
    {
      "cell_type": "code",
      "metadata": {
        "id": "GvWmFVHX0Nrw"
      },
      "source": [
        "learn.save(model_path / f'10gnad__clas_unfreeze2')"
      ],
      "execution_count": 36,
      "outputs": []
    },
    {
      "cell_type": "markdown",
      "metadata": {
        "id": "mBVNzK4n0QeD"
      },
      "source": [
        "## Train Model: Unfreeze All Layers"
      ]
    },
    {
      "cell_type": "code",
      "metadata": {
        "colab": {
          "base_uri": "https://localhost:8080/",
          "height": 372
        },
        "id": "6Garn9qg0UlS",
        "outputId": "708f484c-0a07-486b-f00b-e9a7cdd8924e"
      },
      "source": [
        "learn.unfreeze()\n",
        "learn.fit_one_cycle(3, slice(1e-3/(2.6**4),1e-3), moms=(0.8,0.7))"
      ],
      "execution_count": 37,
      "outputs": [
        {
          "output_type": "display_data",
          "data": {
            "text/html": [
              "<table border=\"1\" class=\"dataframe\">\n",
              "  <thead>\n",
              "    <tr style=\"text-align: left;\">\n",
              "      <th>epoch</th>\n",
              "      <th>train_loss</th>\n",
              "      <th>valid_loss</th>\n",
              "      <th>accuracy</th>\n",
              "      <th>precision</th>\n",
              "      <th>recall</th>\n",
              "      <th>time</th>\n",
              "    </tr>\n",
              "  </thead>\n",
              "  <tbody>\n",
              "    <tr>\n",
              "      <td>0</td>\n",
              "      <td>0.382982</td>\n",
              "      <td>0.379988</td>\n",
              "      <td>0.869650</td>\n",
              "      <td>0.875528</td>\n",
              "      <td>0.867462</td>\n",
              "      <td>14:10</td>\n",
              "    </tr>\n",
              "    <tr>\n",
              "      <td>1</td>\n",
              "      <td>0.377818</td>\n",
              "      <td>0.364620</td>\n",
              "      <td>0.874514</td>\n",
              "      <td>0.878669</td>\n",
              "      <td>0.870041</td>\n",
              "      <td>14:24</td>\n",
              "    </tr>\n",
              "    <tr>\n",
              "      <td>2</td>\n",
              "      <td>0.351900</td>\n",
              "      <td>0.367978</td>\n",
              "      <td>0.874514</td>\n",
              "      <td>0.878646</td>\n",
              "      <td>0.873387</td>\n",
              "      <td>13:23</td>\n",
              "    </tr>\n",
              "  </tbody>\n",
              "</table>"
            ],
            "text/plain": [
              "<IPython.core.display.HTML object>"
            ]
          },
          "metadata": {
            "tags": []
          }
        },
        {
          "output_type": "stream",
          "text": [
            "/usr/local/lib/python3.7/dist-packages/numpy/core/_asarray.py:83: VisibleDeprecationWarning: Creating an ndarray from ragged nested sequences (which is a list-or-tuple of lists-or-tuples-or ndarrays with different lengths or shapes) is deprecated. If you meant to do this, you must specify 'dtype=object' when creating the ndarray\n",
            "  return array(a, dtype, copy=False, order=order)\n",
            "<string>:6: VisibleDeprecationWarning: Creating an ndarray from ragged nested sequences (which is a list-or-tuple of lists-or-tuples-or ndarrays with different lengths or shapes) is deprecated. If you meant to do this, you must specify 'dtype=object' when creating the ndarray\n"
          ],
          "name": "stderr"
        },
        {
          "output_type": "stream",
          "text": [
            "Better model found at epoch 0 with valid_loss value: 0.37998825311660767.\n"
          ],
          "name": "stdout"
        },
        {
          "output_type": "stream",
          "text": [
            "/usr/local/lib/python3.7/dist-packages/numpy/core/_asarray.py:83: VisibleDeprecationWarning: Creating an ndarray from ragged nested sequences (which is a list-or-tuple of lists-or-tuples-or ndarrays with different lengths or shapes) is deprecated. If you meant to do this, you must specify 'dtype=object' when creating the ndarray\n",
            "  return array(a, dtype, copy=False, order=order)\n",
            "<string>:6: VisibleDeprecationWarning: Creating an ndarray from ragged nested sequences (which is a list-or-tuple of lists-or-tuples-or ndarrays with different lengths or shapes) is deprecated. If you meant to do this, you must specify 'dtype=object' when creating the ndarray\n"
          ],
          "name": "stderr"
        },
        {
          "output_type": "stream",
          "text": [
            "Better model found at epoch 1 with valid_loss value: 0.3646202087402344.\n"
          ],
          "name": "stdout"
        },
        {
          "output_type": "stream",
          "text": [
            "/usr/local/lib/python3.7/dist-packages/numpy/core/_asarray.py:83: VisibleDeprecationWarning: Creating an ndarray from ragged nested sequences (which is a list-or-tuple of lists-or-tuples-or ndarrays with different lengths or shapes) is deprecated. If you meant to do this, you must specify 'dtype=object' when creating the ndarray\n",
            "  return array(a, dtype, copy=False, order=order)\n",
            "<string>:6: VisibleDeprecationWarning: Creating an ndarray from ragged nested sequences (which is a list-or-tuple of lists-or-tuples-or ndarrays with different lengths or shapes) is deprecated. If you meant to do this, you must specify 'dtype=object' when creating the ndarray\n"
          ],
          "name": "stderr"
        },
        {
          "output_type": "stream",
          "text": [
            "Loaded best saved model from /content/wandb/run-20210420_193333-1o6f3pzg/files/bestmodel.pth\n"
          ],
          "name": "stdout"
        }
      ]
    },
    {
      "cell_type": "code",
      "metadata": {
        "colab": {
          "base_uri": "https://localhost:8080/",
          "height": 279
        },
        "id": "IPNmAAkv0eHX",
        "outputId": "9dcda832-8255-4136-c5c3-dd0656b532e9"
      },
      "source": [
        "learn.recorder.plot_losses()"
      ],
      "execution_count": 38,
      "outputs": [
        {
          "output_type": "display_data",
          "data": {
            "image/png": "[encoded data removed]",
            "text/plain": [
              "<Figure size 432x288 with 1 Axes>"
            ]
          },
          "metadata": {
            "tags": []
          }
        }
      ]
    },
    {
      "cell_type": "code",
      "metadata": {
        "id": "EG_W5YiA0hDa"
      },
      "source": [
        "learn.save(model_path / f'10gnad__clas_unfreeze_all')\n",
        "learn.export(model_path / f'10gnad__final.pkl')"
      ],
      "execution_count": 39,
      "outputs": []
    },
    {
      "cell_type": "markdown",
      "metadata": {
        "id": "j0m67Yla0l3y"
      },
      "source": [
        "## Evaluate Model"
      ]
    },
    {
      "cell_type": "code",
      "metadata": {
        "colab": {
          "base_uri": "https://localhost:8080/",
          "height": 52
        },
        "id": "23-5u1n00qk4",
        "outputId": "fc1a8f4c-3627-4725-9e14-4aee4b833745"
      },
      "source": [
        "%%time\n",
        "interp = ClassificationInterpretation.from_learner(learn)"
      ],
      "execution_count": 40,
      "outputs": [
        {
          "output_type": "display_data",
          "data": {
            "text/html": [
              ""
            ],
            "text/plain": [
              "<IPython.core.display.HTML object>"
            ]
          },
          "metadata": {
            "tags": []
          }
        },
        {
          "output_type": "stream",
          "text": [
            "CPU times: user 19.2 s, sys: 16.8 s, total: 36 s\n",
            "Wall time: 36.3 s\n"
          ],
          "name": "stdout"
        }
      ]
    },
    {
      "cell_type": "code",
      "metadata": {
        "colab": {
          "base_uri": "https://localhost:8080/",
          "height": 377
        },
        "id": "B_n9N4CV0r22",
        "outputId": "ddcaf366-593a-4d9b-e6cc-48f0cffe4304"
      },
      "source": [
        "size = 5 + len(learn.data.classes) * 0.1\n",
        "interp.plot_confusion_matrix(figsize=(size,size), dpi=60)"
      ],
      "execution_count": 41,
      "outputs": [
        {
          "output_type": "display_data",
          "data": {
            "image/png": "[encoded data removed]",
            "text/plain": [
              "<Figure size 354x354 with 1 Axes>"
            ]
          },
          "metadata": {
            "tags": []
          }
        }
      ]
    },
    {
      "cell_type": "code",
      "metadata": {
        "colab": {
          "base_uri": "https://localhost:8080/",
          "height": 363
        },
        "id": "LXjX6qqB07WE",
        "outputId": "fe7d81bf-728e-4064-f86c-3000841cec95"
      },
      "source": [
        "# Most Confused Categories\n",
        "display(pd.DataFrame(interp.most_confused(), columns=['Actual', 'Predicted', 'count']).head(10))"
      ],
      "execution_count": 42,
      "outputs": [
        {
          "output_type": "display_data",
          "data": {
            "text/html": [
              "<div>\n",
              "<style scoped>\n",
              "    .dataframe tbody tr th:only-of-type {\n",
              "        vertical-align: middle;\n",
              "    }\n",
              "\n",
              "    .dataframe tbody tr th {\n",
              "        vertical-align: top;\n",
              "    }\n",
              "\n",
              "    .dataframe thead th {\n",
              "        text-align: right;\n",
              "    }\n",
              "</style>\n",
              "<table border=\"1\" class=\"dataframe\">\n",
              "  <thead>\n",
              "    <tr style=\"text-align: right;\">\n",
              "      <th></th>\n",
              "      <th>Actual</th>\n",
              "      <th>Predicted</th>\n",
              "      <th>count</th>\n",
              "    </tr>\n",
              "  </thead>\n",
              "  <tbody>\n",
              "    <tr>\n",
              "      <th>0</th>\n",
              "      <td>Panorama</td>\n",
              "      <td>International</td>\n",
              "      <td>12</td>\n",
              "    </tr>\n",
              "    <tr>\n",
              "      <th>1</th>\n",
              "      <td>International</td>\n",
              "      <td>Panorama</td>\n",
              "      <td>11</td>\n",
              "    </tr>\n",
              "    <tr>\n",
              "      <th>2</th>\n",
              "      <td>Inland</td>\n",
              "      <td>Panorama</td>\n",
              "      <td>9</td>\n",
              "    </tr>\n",
              "    <tr>\n",
              "      <th>3</th>\n",
              "      <td>International</td>\n",
              "      <td>Wirtschaft</td>\n",
              "      <td>8</td>\n",
              "    </tr>\n",
              "    <tr>\n",
              "      <th>4</th>\n",
              "      <td>Panorama</td>\n",
              "      <td>Wirtschaft</td>\n",
              "      <td>8</td>\n",
              "    </tr>\n",
              "    <tr>\n",
              "      <th>5</th>\n",
              "      <td>Wirtschaft</td>\n",
              "      <td>Inland</td>\n",
              "      <td>6</td>\n",
              "    </tr>\n",
              "    <tr>\n",
              "      <th>6</th>\n",
              "      <td>Etat</td>\n",
              "      <td>Web</td>\n",
              "      <td>5</td>\n",
              "    </tr>\n",
              "    <tr>\n",
              "      <th>7</th>\n",
              "      <td>Inland</td>\n",
              "      <td>Wirtschaft</td>\n",
              "      <td>5</td>\n",
              "    </tr>\n",
              "    <tr>\n",
              "      <th>8</th>\n",
              "      <td>Wirtschaft</td>\n",
              "      <td>Panorama</td>\n",
              "      <td>5</td>\n",
              "    </tr>\n",
              "    <tr>\n",
              "      <th>9</th>\n",
              "      <td>Inland</td>\n",
              "      <td>Wissenschaft</td>\n",
              "      <td>4</td>\n",
              "    </tr>\n",
              "  </tbody>\n",
              "</table>\n",
              "</div>"
            ],
            "text/plain": [
              "          Actual      Predicted  count\n",
              "0       Panorama  International     12\n",
              "1  International       Panorama     11\n",
              "2         Inland       Panorama      9\n",
              "3  International     Wirtschaft      8\n",
              "4       Panorama     Wirtschaft      8\n",
              "5     Wirtschaft         Inland      6\n",
              "6           Etat            Web      5\n",
              "7         Inland     Wirtschaft      5\n",
              "8     Wirtschaft       Panorama      5\n",
              "9         Inland   Wissenschaft      4"
            ]
          },
          "metadata": {
            "tags": []
          }
        }
      ]
    },
    {
      "cell_type": "code",
      "metadata": {
        "colab": {
          "base_uri": "https://localhost:8080/",
          "height": 332
        },
        "id": "rK79rWPw0_Gz",
        "outputId": "f2e02025-cd53-494e-c5bc-04cdf02c1727"
      },
      "source": [
        "df_cm = pd.DataFrame(interp.confusion_matrix(), index=data_clas.classes, columns=data_clas.classes)\n",
        "sorted_labels = df_cm.sum().sort_values(ascending=False).index\n",
        "df_cm = df_cm.reindex(sorted_labels)[sorted_labels]\n",
        "display(df_cm)"
      ],
      "execution_count": 43,
      "outputs": [
        {
          "output_type": "display_data",
          "data": {
            "text/html": [
              "<div>\n",
              "<style scoped>\n",
              "    .dataframe tbody tr th:only-of-type {\n",
              "        vertical-align: middle;\n",
              "    }\n",
              "\n",
              "    .dataframe tbody tr th {\n",
              "        vertical-align: top;\n",
              "    }\n",
              "\n",
              "    .dataframe thead th {\n",
              "        text-align: right;\n",
              "    }\n",
              "</style>\n",
              "<table border=\"1\" class=\"dataframe\">\n",
              "  <thead>\n",
              "    <tr style=\"text-align: right;\">\n",
              "      <th></th>\n",
              "      <th>Web</th>\n",
              "      <th>Panorama</th>\n",
              "      <th>Wirtschaft</th>\n",
              "      <th>International</th>\n",
              "      <th>Sport</th>\n",
              "      <th>Inland</th>\n",
              "      <th>Wissenschaft</th>\n",
              "      <th>Etat</th>\n",
              "      <th>Kultur</th>\n",
              "    </tr>\n",
              "  </thead>\n",
              "  <tbody>\n",
              "    <tr>\n",
              "      <th>Web</th>\n",
              "      <td>162</td>\n",
              "      <td>0</td>\n",
              "      <td>4</td>\n",
              "      <td>1</td>\n",
              "      <td>0</td>\n",
              "      <td>0</td>\n",
              "      <td>0</td>\n",
              "      <td>1</td>\n",
              "      <td>0</td>\n",
              "    </tr>\n",
              "    <tr>\n",
              "      <th>Panorama</th>\n",
              "      <td>4</td>\n",
              "      <td>136</td>\n",
              "      <td>8</td>\n",
              "      <td>12</td>\n",
              "      <td>0</td>\n",
              "      <td>4</td>\n",
              "      <td>3</td>\n",
              "      <td>0</td>\n",
              "      <td>1</td>\n",
              "    </tr>\n",
              "    <tr>\n",
              "      <th>Wirtschaft</th>\n",
              "      <td>4</td>\n",
              "      <td>5</td>\n",
              "      <td>123</td>\n",
              "      <td>2</td>\n",
              "      <td>0</td>\n",
              "      <td>6</td>\n",
              "      <td>0</td>\n",
              "      <td>1</td>\n",
              "      <td>0</td>\n",
              "    </tr>\n",
              "    <tr>\n",
              "      <th>International</th>\n",
              "      <td>0</td>\n",
              "      <td>11</td>\n",
              "      <td>8</td>\n",
              "      <td>129</td>\n",
              "      <td>1</td>\n",
              "      <td>0</td>\n",
              "      <td>0</td>\n",
              "      <td>1</td>\n",
              "      <td>1</td>\n",
              "    </tr>\n",
              "    <tr>\n",
              "      <th>Sport</th>\n",
              "      <td>0</td>\n",
              "      <td>2</td>\n",
              "      <td>0</td>\n",
              "      <td>1</td>\n",
              "      <td>116</td>\n",
              "      <td>0</td>\n",
              "      <td>1</td>\n",
              "      <td>0</td>\n",
              "      <td>0</td>\n",
              "    </tr>\n",
              "    <tr>\n",
              "      <th>Inland</th>\n",
              "      <td>0</td>\n",
              "      <td>9</td>\n",
              "      <td>5</td>\n",
              "      <td>1</td>\n",
              "      <td>0</td>\n",
              "      <td>81</td>\n",
              "      <td>4</td>\n",
              "      <td>0</td>\n",
              "      <td>2</td>\n",
              "    </tr>\n",
              "    <tr>\n",
              "      <th>Wissenschaft</th>\n",
              "      <td>0</td>\n",
              "      <td>0</td>\n",
              "      <td>1</td>\n",
              "      <td>2</td>\n",
              "      <td>0</td>\n",
              "      <td>1</td>\n",
              "      <td>53</td>\n",
              "      <td>0</td>\n",
              "      <td>0</td>\n",
              "    </tr>\n",
              "    <tr>\n",
              "      <th>Etat</th>\n",
              "      <td>5</td>\n",
              "      <td>1</td>\n",
              "      <td>2</td>\n",
              "      <td>1</td>\n",
              "      <td>0</td>\n",
              "      <td>3</td>\n",
              "      <td>0</td>\n",
              "      <td>54</td>\n",
              "      <td>1</td>\n",
              "    </tr>\n",
              "    <tr>\n",
              "      <th>Kultur</th>\n",
              "      <td>2</td>\n",
              "      <td>2</td>\n",
              "      <td>0</td>\n",
              "      <td>1</td>\n",
              "      <td>0</td>\n",
              "      <td>0</td>\n",
              "      <td>1</td>\n",
              "      <td>3</td>\n",
              "      <td>45</td>\n",
              "    </tr>\n",
              "  </tbody>\n",
              "</table>\n",
              "</div>"
            ],
            "text/plain": [
              "               Web  Panorama  Wirtschaft  ...  Wissenschaft  Etat  Kultur\n",
              "Web            162         0           4  ...             0     1       0\n",
              "Panorama         4       136           8  ...             3     0       1\n",
              "Wirtschaft       4         5         123  ...             0     1       0\n",
              "International    0        11           8  ...             0     1       1\n",
              "Sport            0         2           0  ...             1     0       0\n",
              "Inland           0         9           5  ...             4     0       2\n",
              "Wissenschaft     0         0           1  ...            53     0       0\n",
              "Etat             5         1           2  ...             0    54       1\n",
              "Kultur           2         2           0  ...             1     3      45\n",
              "\n",
              "[9 rows x 9 columns]"
            ]
          },
          "metadata": {
            "tags": []
          }
        }
      ]
    },
    {
      "cell_type": "code",
      "metadata": {
        "id": "lEfk1c1F1UyE"
      },
      "source": [
        "def confmat2predictions(df: pd.DataFrame) -> pd.DataFrame:\n",
        "    \"\"\"Extract Predictions from a Confusion Matrix\"\"\"\n",
        "    df_stacked = df.stack()\n",
        "    return pd.DataFrame(list(df_stacked.index.to_series().repeat(df_stacked).values), columns=['true', 'pred'])"
      ],
      "execution_count": 44,
      "outputs": []
    },
    {
      "cell_type": "code",
      "metadata": {
        "colab": {
          "base_uri": "https://localhost:8080/"
        },
        "id": "d-ql2ejs1cTe",
        "outputId": "e93b904b-ea24-40f6-f487-f0af9f29e584"
      },
      "source": [
        "preds = confmat2predictions(df_cm)\n",
        "print(skm.classification_report(preds.true, preds.pred, labels=df_cm.index))"
      ],
      "execution_count": 45,
      "outputs": [
        {
          "output_type": "stream",
          "text": [
            "               precision    recall  f1-score   support\n",
            "\n",
            "          Web       0.92      0.96      0.94       168\n",
            "     Panorama       0.82      0.81      0.81       168\n",
            "   Wirtschaft       0.81      0.87      0.84       141\n",
            "International       0.86      0.85      0.86       151\n",
            "        Sport       0.99      0.97      0.98       120\n",
            "       Inland       0.85      0.79      0.82       102\n",
            " Wissenschaft       0.85      0.93      0.89        57\n",
            "         Etat       0.90      0.81      0.85        67\n",
            "       Kultur       0.90      0.83      0.87        54\n",
            "\n",
            "     accuracy                           0.87      1028\n",
            "    macro avg       0.88      0.87      0.87      1028\n",
            " weighted avg       0.88      0.87      0.87      1028\n",
            "\n"
          ],
          "name": "stdout"
        }
      ]
    },
    {
      "cell_type": "code",
      "metadata": {
        "id": "C31OWKgS1eyX"
      },
      "source": [
        ""
      ],
      "execution_count": null,
      "outputs": []
    }
  ]
}